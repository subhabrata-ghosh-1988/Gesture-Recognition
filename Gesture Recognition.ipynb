{
  "nbformat": 4,
  "nbformat_minor": 0,
  "metadata": {
    "kernelspec": {
      "display_name": "Python 3",
      "language": "python",
      "name": "python3"
    },
    "language_info": {
      "codemirror_mode": {
        "name": "ipython",
        "version": 3
      },
      "file_extension": ".py",
      "mimetype": "text/x-python",
      "name": "python",
      "nbconvert_exporter": "python",
      "pygments_lexer": "ipython3",
      "version": "3.7.3"
    },
    "colab": {
      "name": "Gesture Recognition.ipynb",
      "provenance": [],
      "toc_visible": true,
      "include_colab_link": true
    },
    "accelerator": "GPU"
  },
  "cells": [
    {
      "cell_type": "markdown",
      "metadata": {
        "id": "view-in-github",
        "colab_type": "text"
      },
      "source": [
        "<a href=\"https://colab.research.google.com/github/subhabrata-ghosh-1988/Gesture-Recognition/blob/main/Gesture%20Recognition.ipynb\" target=\"_parent\"><img src=\"https://colab.research.google.com/assets/colab-badge.svg\" alt=\"Open In Colab\"/></a>"
      ]
    },
    {
      "cell_type": "markdown",
      "metadata": {
        "id": "Q7ZfgtjxNVrR"
      },
      "source": [
        "# Gesture Recognition\n",
        "In this group project, you are going to build a 3D Conv model that will be able to predict the 5 gestures correctly. Please import the following libraries to get started."
      ]
    },
    {
      "cell_type": "code",
      "metadata": {
        "id": "2-eH5pKuNVrV"
      },
      "source": [
        "## Import libraries\n",
        "import numpy as np\n",
        "import os\n",
        "from scipy import misc\n",
        "from imageio import imread\n",
        "import cv2\n",
        "from skimage import transform,io\n",
        "import datetime\n",
        "import os\n",
        "import warnings\n",
        "warnings.filterwarnings(\"ignore\")\n",
        "import abc\n",
        "from sys import getsizeof\n",
        "import shutil\n",
        "import abc\n"
      ],
      "execution_count": 1,
      "outputs": []
    },
    {
      "cell_type": "code",
      "metadata": {
        "id": "J94bqUhVNVrW"
      },
      "source": [
        "import glob, os , shutil\n",
        "for f in glob.glob(\"/content/model_init*\"):\n",
        "    shutil.rmtree(f)"
      ],
      "execution_count": 2,
      "outputs": []
    },
    {
      "cell_type": "code",
      "metadata": {
        "id": "H0Ubj-HfSRY3"
      },
      "source": [
        "## remove the existing zip file\r\n",
        "shutil.rmtree('/content/Project_data.zip', ignore_errors=True)"
      ],
      "execution_count": 3,
      "outputs": []
    },
    {
      "cell_type": "code",
      "metadata": {
        "id": "i4ty5a19SiNl",
        "colab": {
          "base_uri": "https://localhost:8080/",
          "height": 278
        },
        "outputId": "5c54fcc3-de82-42c6-c0c6-0af7f404e9bc"
      },
      "source": [
        "## Initiate the file download\r\n",
        "!pip install gdown\r\n",
        "import gdown\r\n",
        "url=\"https://drive.google.com/uc?id=1kM4V7pnLjGbuCaDpfBNHig99gr2rdqyJ\"\r\n",
        "output = \"Project_data.zip\"\r\n",
        "gdown.download(url, output, quiet=False)"
      ],
      "execution_count": 4,
      "outputs": [
        {
          "output_type": "stream",
          "text": [
            "Requirement already satisfied: gdown in /usr/local/lib/python3.7/dist-packages (3.6.4)\n",
            "Requirement already satisfied: requests in /usr/local/lib/python3.7/dist-packages (from gdown) (2.23.0)\n",
            "Requirement already satisfied: six in /usr/local/lib/python3.7/dist-packages (from gdown) (1.15.0)\n",
            "Requirement already satisfied: tqdm in /usr/local/lib/python3.7/dist-packages (from gdown) (4.41.1)\n",
            "Requirement already satisfied: urllib3!=1.25.0,!=1.25.1,<1.26,>=1.21.1 in /usr/local/lib/python3.7/dist-packages (from requests->gdown) (1.24.3)\n",
            "Requirement already satisfied: idna<3,>=2.5 in /usr/local/lib/python3.7/dist-packages (from requests->gdown) (2.10)\n",
            "Requirement already satisfied: certifi>=2017.4.17 in /usr/local/lib/python3.7/dist-packages (from requests->gdown) (2020.12.5)\n",
            "Requirement already satisfied: chardet<4,>=3.0.2 in /usr/local/lib/python3.7/dist-packages (from requests->gdown) (3.0.4)\n"
          ],
          "name": "stdout"
        },
        {
          "output_type": "stream",
          "text": [
            "Downloading...\n",
            "From: https://drive.google.com/uc?id=1kM4V7pnLjGbuCaDpfBNHig99gr2rdqyJ\n",
            "To: /content/Project_data.zip\n",
            "1.71GB [00:16, 106MB/s]\n"
          ],
          "name": "stderr"
        },
        {
          "output_type": "execute_result",
          "data": {
            "application/vnd.google.colaboratory.intrinsic+json": {
              "type": "string"
            },
            "text/plain": [
              "'Project_data.zip'"
            ]
          },
          "metadata": {
            "tags": []
          },
          "execution_count": 4
        }
      ]
    },
    {
      "cell_type": "code",
      "metadata": {
        "id": "w-fwe5jbTX8r"
      },
      "source": [
        "## unzip the downloaded folder\r\n",
        "shutil.rmtree('/content/Project_data', ignore_errors=True)\r\n",
        "shutil.unpack_archive(\"Project_data.zip\", \"Project_data\")"
      ],
      "execution_count": 5,
      "outputs": []
    },
    {
      "cell_type": "markdown",
      "metadata": {
        "id": "GIQHPGi_NVrX"
      },
      "source": [
        "We set the random seed so that the results don't vary drastically."
      ]
    },
    {
      "cell_type": "code",
      "metadata": {
        "id": "ci_N-NnWNVrZ"
      },
      "source": [
        "np.random.seed(30)\n",
        "import random as rn\n",
        "rn.seed(30)\n",
        "import tensorflow as tf\n",
        "tf.random.set_seed(30)\n",
        "tf.compat.v1.disable_eager_execution()"
      ],
      "execution_count": 6,
      "outputs": []
    },
    {
      "cell_type": "markdown",
      "metadata": {
        "id": "6bWyzW_oNVrZ"
      },
      "source": [
        "**In this block, you read the folder names for training and validation. You also set the batch_size here. Note that you set the batch size in such a way that you are able to use the GPU in full capacity. You keep increasing the batch size until the machine throws an error.**"
      ]
    },
    {
      "cell_type": "code",
      "metadata": {
        "id": "AyTupvi3NVrb"
      },
      "source": [
        "from keras.models import Sequential, Model\n",
        "from keras.layers import Dense, GRU, Flatten, TimeDistributed, Flatten, BatchNormalization, Activation\n",
        "from keras.layers.convolutional import Conv3D, MaxPooling3D, Conv2D, MaxPooling2D\n",
        "from keras.layers.recurrent import LSTM\n",
        "from keras.callbacks import ModelCheckpoint, ReduceLROnPlateau\n",
        "from keras import optimizers\n",
        "from keras.layers import Dropout"
      ],
      "execution_count": 13,
      "outputs": []
    },
    {
      "cell_type": "code",
      "metadata": {
        "id": "VCjeEg_tNVrc"
      },
      "source": [
        "# the entire dataset is placed in below directory\n",
        "main_folder='/content/Project_data/Project_data'"
      ],
      "execution_count": 12,
      "outputs": []
    },
    {
      "cell_type": "code",
      "metadata": {
        "id": "NSUMkqaSXcC4",
        "colab": {
          "base_uri": "https://localhost:8080/",
          "height": 36
        },
        "outputId": "8d76d176-1554-4144-b7c0-f6ebe3de2298"
      },
      "source": [
        "## Checking current TF version\r\n",
        "tf.version.VERSION"
      ],
      "execution_count": 14,
      "outputs": [
        {
          "output_type": "execute_result",
          "data": {
            "application/vnd.google.colaboratory.intrinsic+json": {
              "type": "string"
            },
            "text/plain": [
              "'2.4.1'"
            ]
          },
          "metadata": {
            "tags": []
          },
          "execution_count": 14
        }
      ]
    },
    {
      "cell_type": "markdown",
      "metadata": {
        "id": "REgxbVunNVrd"
      },
      "source": [
        "### Plotting"
      ]
    },
    {
      "cell_type": "code",
      "metadata": {
        "id": "k3UJmY03NVre"
      },
      "source": [
        "import matplotlib.pyplot as plt\n",
        "def plot(Model):\n",
        "    fig, axes = plt.subplots(nrows=1, ncols=2, figsize=(15,4))\n",
        "    axes[0].plot(Model.history['loss'])   \n",
        "    axes[0].plot(Model.history['val_loss'])\n",
        "    axes[0].legend(['loss','val_loss'])\n",
        "\n",
        "    axes[1].plot(Model.history['categorical_accuracy'])   \n",
        "    axes[1].plot(Model.history['val_categorical_accuracy'])\n",
        "    axes[1].legend(['categorical_accuracy','val_categorical_accuracy'])"
      ],
      "execution_count": 7,
      "outputs": []
    },
    {
      "cell_type": "markdown",
      "metadata": {
        "id": "QtV6apQQNVrf"
      },
      "source": [
        "## Generator\n",
        "This is one of the most important part of the code. The overall structure of the generator has been given. In the generator, you are going to preprocess the images as you have images of 2 different dimensions as well as create a batch of video frames. You have to experiment with `img_idx`, `y`,`z` and normalization such that you get high accuracy."
      ]
    },
    {
      "cell_type": "code",
      "metadata": {
        "id": "haSnpGsboLKX"
      },
      "source": [
        "import gc\r\n",
        "class GCCallback(tf.keras.callbacks.Callback):\r\n",
        "      def on_epoch_end(self, epoch, logs=None):\r\n",
        "          print(gc.collect())"
      ],
      "execution_count": 8,
      "outputs": []
    },
    {
      "cell_type": "code",
      "metadata": {
        "id": "4YC-BRedNVri"
      },
      "source": [
        "# referred ABC library use case from this link https://riptutorial.com/python/example/23083/why-how-to-use-abcmeta-and--abstractmethod\n",
        "\n",
        "class ModelBuilder(metaclass= abc.ABCMeta):\n",
        "    \n",
        "    def initialize_src_path(self,main_folder):\n",
        "        self.train_doc = np.random.permutation(open(main_folder + '/' + 'train.csv').readlines())\n",
        "        self.val_doc = np.random.permutation(open(main_folder + '/' + 'val.csv').readlines())\n",
        "        self.train_path = main_folder + '/' + 'train'\n",
        "        self.val_path =  main_folder + '/' + 'val'\n",
        "        self.num_train_sequences = len(self.train_doc)\n",
        "        self.num_val_sequences = len(self.val_doc)\n",
        "        \n",
        "    def initialize_image_properties(self,image_height=100,image_width=100):\n",
        "        self.image_height=image_height\n",
        "        self.image_width=image_width\n",
        "        self.channels=3\n",
        "        self.num_classes=5\n",
        "        self.total_frames=30\n",
        "          \n",
        "    def initialize_hyperparams(self,frames_to_sample=30,batch_size=40,num_epochs=20):\n",
        "        self.frames_to_sample=frames_to_sample\n",
        "        self.batch_size=batch_size\n",
        "        self.num_epochs=num_epochs\n",
        "        \n",
        "        \n",
        "    def generator(self,source_path, folder_list, augment=False):\n",
        "        img_idx = np.round(np.linspace(0,self.total_frames-1,self.frames_to_sample)).astype(int)\n",
        "        batch_size=self.batch_size\n",
        "        while True:\n",
        "            t = np.random.permutation(folder_list)\n",
        "            num_batches = len(t)//batch_size\n",
        "        \n",
        "            for batch in range(num_batches): \n",
        "                batch_data, batch_labels= self.one_batch_data(source_path,t,batch,batch_size,img_idx,augment)\n",
        "                yield batch_data, batch_labels \n",
        "\n",
        "            remaining_seq=len(t)%batch_size\n",
        "        \n",
        "            if (remaining_seq != 0):\n",
        "                batch_data, batch_labels= self.one_batch_data(source_path,t,num_batches,batch_size,img_idx,augment,remaining_seq)\n",
        "                yield batch_data, batch_labels \n",
        "    \n",
        "    \n",
        "    def one_batch_data(self,source_path,t,batch,batch_size,img_idx,augment,remaining_seq=0):\n",
        "    \n",
        "        seq_len = remaining_seq if remaining_seq else batch_size\n",
        "    \n",
        "        batch_data = np.zeros((seq_len,len(img_idx),self.image_height,self.image_width,self.channels)) \n",
        "        batch_labels = np.zeros((seq_len,self.num_classes)) \n",
        "    \n",
        "        if (augment): batch_data_aug = np.zeros((seq_len,len(img_idx),self.image_height,self.image_width,self.channels))\n",
        "\n",
        "        \n",
        "        for folder in range(seq_len): \n",
        "            imgs = os.listdir(source_path+'/'+ t[folder + (batch*batch_size)].split(';')[0]) \n",
        "            for idx,item in enumerate(img_idx): \n",
        "                image = imread(source_path+'/'+ t[folder + (batch*batch_size)].strip().split(';')[0]+'/'+imgs[item]).astype(np.float32)\n",
        "                image_resized=transform.resize(image,(self.image_height,self.image_width,3))\n",
        "            \n",
        "\n",
        "                batch_data[folder,idx,:,:,0] = (image_resized[:,:,0])/255\n",
        "                batch_data[folder,idx,:,:,1] = (image_resized[:,:,1])/255\n",
        "                batch_data[folder,idx,:,:,2] = (image_resized[:,:,2])/255\n",
        "            \n",
        "                if (augment):\n",
        "                    shifted = cv2.warpAffine(image, \n",
        "                                             np.float32([[1, 0, np.random.randint(-30,30)],[0, 1, np.random.randint(-30,30)]]), \n",
        "                                            (image.shape[1], image.shape[0]))\n",
        "                    \n",
        "                    gray = cv2.cvtColor(shifted,cv2.COLOR_BGR2GRAY)\n",
        "\n",
        "                    x0, y0 = np.argwhere(gray > 0).min(axis=0)\n",
        "                    x1, y1 = np.argwhere(gray > 0).max(axis=0) \n",
        "                    \n",
        "                    cropped=shifted[x0:x1,y0:y1,:]\n",
        "                    \n",
        "                    image_resized=transform.resize(cropped,(self.image_height,self.image_width,3))\n",
        "            \n",
        "                    batch_data_aug[folder,idx,:,:,0] = (image_resized[:,:,0])/255\n",
        "                    batch_data_aug[folder,idx,:,:,1] = (image_resized[:,:,1])/255\n",
        "                    batch_data_aug[folder,idx,:,:,2] = (image_resized[:,:,2])/255\n",
        "                \n",
        "            \n",
        "            batch_labels[folder, int(t[folder + (batch*batch_size)].strip().split(';')[2])] = 1\n",
        "            \n",
        "    \n",
        "        if (augment):\n",
        "            batch_data=np.concatenate([batch_data,batch_data_aug])\n",
        "            batch_labels=np.concatenate([batch_labels,batch_labels])\n",
        "\n",
        "        \n",
        "        return(batch_data,batch_labels)\n",
        "    \n",
        "    \n",
        "    def train_model(self, model, augment_data=False):\n",
        "        train_generator = self.generator(self.train_path, self.train_doc,augment=augment_data)\n",
        "        val_generator = self.generator(self.val_path, self.val_doc)\n",
        "\n",
        "        model_name = 'model_init' + '_' + str(datetime.datetime.now()).replace(' ','').replace(':','_') + '/'\n",
        "    \n",
        "        if not os.path.exists(model_name):\n",
        "            os.mkdir(model_name)\n",
        "        \n",
        "        filepath = model_name + 'model-{epoch:05d}-{loss:.5f}-{categorical_accuracy:.5f}-{val_loss:.5f}-{val_categorical_accuracy:.5f}.h5'\n",
        "\n",
        "        checkpoint = ModelCheckpoint(filepath, monitor='val_loss', verbose=1, save_best_only=False, save_weights_only=False, mode='auto', period=1)\n",
        "        LR = ReduceLROnPlateau(monitor='val_loss', factor=0.2, verbose=1, patience=4)\n",
        "        callbacks_list = [checkpoint, LR, GCCallback()]\n",
        "\n",
        "        if (self.num_train_sequences%self.batch_size) == 0:\n",
        "            steps_per_epoch = int(self.num_train_sequences/self.batch_size)\n",
        "        else:\n",
        "            steps_per_epoch = (self.num_train_sequences//self.batch_size) + 1\n",
        "\n",
        "        if (self.num_val_sequences%self.batch_size) == 0:\n",
        "            validation_steps = int(self.num_val_sequences/self.batch_size)\n",
        "        else:\n",
        "            validation_steps = (self.num_val_sequences//self.batch_size) + 1\n",
        "    \n",
        "        history=model.fit_generator(train_generator, steps_per_epoch=steps_per_epoch, epochs=self.num_epochs, verbose=1, \n",
        "                            callbacks=callbacks_list, validation_data=val_generator, \n",
        "                            validation_steps=validation_steps, class_weight=None, workers=1, initial_epoch=0)\n",
        "        return history\n",
        "\n",
        "    def clear_session(self, model):\n",
        "        del model\n",
        "        gc.collect()\n",
        "        tf.keras.backend.clear_session()\n",
        "        tf.compat.v1.reset_default_graph() # TF graph isn't same as Keras graph\n",
        "\n",
        "    @abc.abstractmethod\n",
        "    def define_model(self):\n",
        "        pass\n"
      ],
      "execution_count": 9,
      "outputs": []
    },
    {
      "cell_type": "markdown",
      "metadata": {
        "id": "kkdCou-eNVri"
      },
      "source": [
        "## Sample Model\n",
        "Here you make the model using different functionalities that Keras provides. Remember to use `Conv3D` and `MaxPooling3D` and not `Conv2D` and `Maxpooling2D` for a 3D convolution model. You would want to use `TimeDistributed` while building a Conv2D + RNN model. Also remember that the last layer is the softmax. Design the network in such a way that the model is able to give good accuracy on the least number of parameters so that it can fit in the memory of the webcam."
      ]
    },
    {
      "cell_type": "code",
      "metadata": {
        "id": "G1XR94jpNVrk"
      },
      "source": [
        "class ModelConv3D1(ModelBuilder):\n",
        "    \n",
        "    def define_model(self):\n",
        "\n",
        "        model = Sequential()\n",
        "        model.add(Conv3D(16, (3, 3, 3), padding='same',\n",
        "                 input_shape=(self.frames_to_sample,self.image_height,self.image_width,self.channels)))\n",
        "        model.add(Activation('relu'))\n",
        "        model.add(BatchNormalization())\n",
        "        model.add(MaxPooling3D(pool_size=(2, 2, 2)))\n",
        "\n",
        "        model.add(Conv3D(32, (2, 2, 2), padding='same'))\n",
        "        model.add(Activation('relu'))\n",
        "        model.add(BatchNormalization())\n",
        "        model.add(MaxPooling3D(pool_size=(2, 2, 2)))\n",
        "\n",
        "        model.add(Conv3D(64, (2, 2, 2), padding='same'))\n",
        "        model.add(Activation('relu'))\n",
        "        model.add(BatchNormalization())\n",
        "        model.add(MaxPooling3D(pool_size=(2, 2, 2)))\n",
        "\n",
        "        model.add(Conv3D(128, (2, 2, 2), padding='same'))\n",
        "        model.add(Activation('relu'))\n",
        "        model.add(BatchNormalization())\n",
        "        model.add(MaxPooling3D(pool_size=(2, 2, 2)))\n",
        "\n",
        "        model.add(Flatten())\n",
        "        model.add(Dense(128,activation='relu'))\n",
        "        model.add(BatchNormalization())\n",
        "        model.add(Dropout(0.5))\n",
        "\n",
        "        model.add(Dense(64,activation='relu'))\n",
        "        model.add(BatchNormalization())\n",
        "        model.add(Dropout(0.25))\n",
        "\n",
        "\n",
        "        model.add(Dense(self.num_classes,activation='softmax'))\n",
        "\n",
        "        optimiser = optimizers.Adam()\n",
        "        #optimiser = 'sgd'\n",
        "        model.compile(optimizer=optimiser, loss='categorical_crossentropy', metrics=['categorical_accuracy'])\n",
        "        return model"
      ],
      "execution_count": 13,
      "outputs": []
    },
    {
      "cell_type": "code",
      "metadata": {
        "id": "8PIGA0cbNVrl",
        "colab": {
          "base_uri": "https://localhost:8080/"
        },
        "outputId": "7915c17e-eba3-4b21-c79d-04fea94549f4"
      },
      "source": [
        "Conv3D1=ModelConv3D1()\n",
        "Conv3D1.initialize_src_path(main_folder)\n",
        "Conv3D1.initialize_image_properties(image_height=160,image_width=160)\n",
        "Conv3D1.initialize_hyperparams(frames_to_sample=30,batch_size=30,num_epochs=1)\n",
        "Conv3D1_model=Conv3D1.define_model()\n",
        "Conv3D1_model.summary()"
      ],
      "execution_count": 14,
      "outputs": [
        {
          "output_type": "stream",
          "text": [
            "Model: \"sequential\"\n",
            "_________________________________________________________________\n",
            "Layer (type)                 Output Shape              Param #   \n",
            "=================================================================\n",
            "conv3d (Conv3D)              (None, 30, 160, 160, 16)  1312      \n",
            "_________________________________________________________________\n",
            "activation (Activation)      (None, 30, 160, 160, 16)  0         \n",
            "_________________________________________________________________\n",
            "batch_normalization (BatchNo (None, 30, 160, 160, 16)  64        \n",
            "_________________________________________________________________\n",
            "max_pooling3d (MaxPooling3D) (None, 15, 80, 80, 16)    0         \n",
            "_________________________________________________________________\n",
            "conv3d_1 (Conv3D)            (None, 15, 80, 80, 32)    4128      \n",
            "_________________________________________________________________\n",
            "activation_1 (Activation)    (None, 15, 80, 80, 32)    0         \n",
            "_________________________________________________________________\n",
            "batch_normalization_1 (Batch (None, 15, 80, 80, 32)    128       \n",
            "_________________________________________________________________\n",
            "max_pooling3d_1 (MaxPooling3 (None, 7, 40, 40, 32)     0         \n",
            "_________________________________________________________________\n",
            "conv3d_2 (Conv3D)            (None, 7, 40, 40, 64)     16448     \n",
            "_________________________________________________________________\n",
            "activation_2 (Activation)    (None, 7, 40, 40, 64)     0         \n",
            "_________________________________________________________________\n",
            "batch_normalization_2 (Batch (None, 7, 40, 40, 64)     256       \n",
            "_________________________________________________________________\n",
            "max_pooling3d_2 (MaxPooling3 (None, 3, 20, 20, 64)     0         \n",
            "_________________________________________________________________\n",
            "conv3d_3 (Conv3D)            (None, 3, 20, 20, 128)    65664     \n",
            "_________________________________________________________________\n",
            "activation_3 (Activation)    (None, 3, 20, 20, 128)    0         \n",
            "_________________________________________________________________\n",
            "batch_normalization_3 (Batch (None, 3, 20, 20, 128)    512       \n",
            "_________________________________________________________________\n",
            "max_pooling3d_3 (MaxPooling3 (None, 1, 10, 10, 128)    0         \n",
            "_________________________________________________________________\n",
            "flatten (Flatten)            (None, 12800)             0         \n",
            "_________________________________________________________________\n",
            "dense (Dense)                (None, 128)               1638528   \n",
            "_________________________________________________________________\n",
            "batch_normalization_4 (Batch (None, 128)               512       \n",
            "_________________________________________________________________\n",
            "dropout (Dropout)            (None, 128)               0         \n",
            "_________________________________________________________________\n",
            "dense_1 (Dense)              (None, 64)                8256      \n",
            "_________________________________________________________________\n",
            "batch_normalization_5 (Batch (None, 64)                256       \n",
            "_________________________________________________________________\n",
            "dropout_1 (Dropout)          (None, 64)                0         \n",
            "_________________________________________________________________\n",
            "dense_2 (Dense)              (None, 5)                 325       \n",
            "=================================================================\n",
            "Total params: 1,736,389\n",
            "Trainable params: 1,735,525\n",
            "Non-trainable params: 864\n",
            "_________________________________________________________________\n"
          ],
          "name": "stdout"
        }
      ]
    },
    {
      "cell_type": "code",
      "metadata": {
        "id": "0eU6XuXdNVrm",
        "colab": {
          "base_uri": "https://localhost:8080/"
        },
        "outputId": "86768a6f-6f9b-4c1f-887a-c96699940098"
      },
      "source": [
        "Conv3D1.train_model(Conv3D1_model)"
      ],
      "execution_count": 15,
      "outputs": [
        {
          "output_type": "stream",
          "text": [
            "WARNING:tensorflow:`period` argument is deprecated. Please use `save_freq` to specify the frequency in number of batches seen.\n",
            "23/23 [==============================] - ETA: 0s - batch: 11.0000 - size: 28.8261 - loss: 1.5202 - categorical_accuracy: 0.4736\n",
            "Epoch 00001: saving model to model_init_2021-03-1806_45_23.632393/model-00001-1.52016-0.47360-1.99312-0.16000.h5\n",
            "0\n",
            "23/23 [==============================] - 277s 11s/step - batch: 11.0000 - size: 28.8261 - loss: 1.5202 - categorical_accuracy: 0.4736 - val_loss: 1.9931 - val_categorical_accuracy: 0.1600\n"
          ],
          "name": "stdout"
        },
        {
          "output_type": "execute_result",
          "data": {
            "text/plain": [
              "<tensorflow.python.keras.callbacks.History at 0x7f456067a290>"
            ]
          },
          "metadata": {
            "tags": []
          },
          "execution_count": 15
        }
      ]
    },
    {
      "cell_type": "code",
      "metadata": {
        "id": "JaJ-270dCcnY"
      },
      "source": [
        "Conv3D1.clear_session(Conv3D1_model)"
      ],
      "execution_count": 16,
      "outputs": []
    },
    {
      "cell_type": "code",
      "metadata": {
        "id": "qPGUJrJXNVrn",
        "colab": {
          "base_uri": "https://localhost:8080/"
        },
        "outputId": "7a4fee3b-18f4-4c80-845e-a681e710b10b"
      },
      "source": [
        "Conv3D1_bs40=ModelConv3D1()\n",
        "Conv3D1_bs40.initialize_src_path(main_folder)\n",
        "Conv3D1_bs40.initialize_image_properties(image_height=160,image_width=160)\n",
        "Conv3D1_bs40.initialize_hyperparams(frames_to_sample=30,batch_size=40,num_epochs=1)\n",
        "Conv3D1_model_bs40=Conv3D1_bs40.define_model()\n",
        "Conv3D1_model_bs40.summary()"
      ],
      "execution_count": 17,
      "outputs": [
        {
          "output_type": "stream",
          "text": [
            "Model: \"sequential\"\n",
            "_________________________________________________________________\n",
            "Layer (type)                 Output Shape              Param #   \n",
            "=================================================================\n",
            "conv3d (Conv3D)              (None, 30, 160, 160, 16)  1312      \n",
            "_________________________________________________________________\n",
            "activation (Activation)      (None, 30, 160, 160, 16)  0         \n",
            "_________________________________________________________________\n",
            "batch_normalization (BatchNo (None, 30, 160, 160, 16)  64        \n",
            "_________________________________________________________________\n",
            "max_pooling3d (MaxPooling3D) (None, 15, 80, 80, 16)    0         \n",
            "_________________________________________________________________\n",
            "conv3d_1 (Conv3D)            (None, 15, 80, 80, 32)    4128      \n",
            "_________________________________________________________________\n",
            "activation_1 (Activation)    (None, 15, 80, 80, 32)    0         \n",
            "_________________________________________________________________\n",
            "batch_normalization_1 (Batch (None, 15, 80, 80, 32)    128       \n",
            "_________________________________________________________________\n",
            "max_pooling3d_1 (MaxPooling3 (None, 7, 40, 40, 32)     0         \n",
            "_________________________________________________________________\n",
            "conv3d_2 (Conv3D)            (None, 7, 40, 40, 64)     16448     \n",
            "_________________________________________________________________\n",
            "activation_2 (Activation)    (None, 7, 40, 40, 64)     0         \n",
            "_________________________________________________________________\n",
            "batch_normalization_2 (Batch (None, 7, 40, 40, 64)     256       \n",
            "_________________________________________________________________\n",
            "max_pooling3d_2 (MaxPooling3 (None, 3, 20, 20, 64)     0         \n",
            "_________________________________________________________________\n",
            "conv3d_3 (Conv3D)            (None, 3, 20, 20, 128)    65664     \n",
            "_________________________________________________________________\n",
            "activation_3 (Activation)    (None, 3, 20, 20, 128)    0         \n",
            "_________________________________________________________________\n",
            "batch_normalization_3 (Batch (None, 3, 20, 20, 128)    512       \n",
            "_________________________________________________________________\n",
            "max_pooling3d_3 (MaxPooling3 (None, 1, 10, 10, 128)    0         \n",
            "_________________________________________________________________\n",
            "flatten (Flatten)            (None, 12800)             0         \n",
            "_________________________________________________________________\n",
            "dense (Dense)                (None, 128)               1638528   \n",
            "_________________________________________________________________\n",
            "batch_normalization_4 (Batch (None, 128)               512       \n",
            "_________________________________________________________________\n",
            "dropout (Dropout)            (None, 128)               0         \n",
            "_________________________________________________________________\n",
            "dense_1 (Dense)              (None, 64)                8256      \n",
            "_________________________________________________________________\n",
            "batch_normalization_5 (Batch (None, 64)                256       \n",
            "_________________________________________________________________\n",
            "dropout_1 (Dropout)          (None, 64)                0         \n",
            "_________________________________________________________________\n",
            "dense_2 (Dense)              (None, 5)                 325       \n",
            "=================================================================\n",
            "Total params: 1,736,389\n",
            "Trainable params: 1,735,525\n",
            "Non-trainable params: 864\n",
            "_________________________________________________________________\n"
          ],
          "name": "stdout"
        }
      ]
    },
    {
      "cell_type": "markdown",
      "metadata": {
        "id": "EHCAyYjiNVro"
      },
      "source": [
        "#### Got below memory exhaust error with image resolution of 160x160, 30 frames and a batch_size of 40\n",
        "ResourceExhaustedError:  OOM when allocating tensor with shape[40,16,15,80,80] and type float on /job:localhost/replica:0/task:0/device:GPU:0 by allocator GPU_0_bfc\n",
        "\t [[node gradient_tape/sequential_2/max_pooling3d_8/MaxPool3D/MaxPool3DGrad (defined at <ipython-input-11-c85facc09113>:122) ]]\n",
        "Hint: If you want to see a list of allocated tensors when OOM happens, add report_tensor_allocations_upon_oom to RunOptions for current allocation info.\n",
        " [Op:__inference_train_function_7489]"
      ]
    },
    {
      "cell_type": "code",
      "metadata": {
        "id": "J7SaHnFVNVro",
        "colab": {
          "base_uri": "https://localhost:8080/"
        },
        "outputId": "aeb0e6d5-60c9-407c-f4e7-2f5f30ea331c"
      },
      "source": [
        "print(\"Memory util is {} Gigs\". format(getsizeof(np.zeros((40,16,30,160,160)))/(1024*1024*1024)))"
      ],
      "execution_count": 18,
      "outputs": [
        {
          "output_type": "stream",
          "text": [
            "Memory util is 3.662109524011612 Gigs\n"
          ],
          "name": "stdout"
        }
      ]
    },
    {
      "cell_type": "code",
      "metadata": {
        "id": "jSsKCHtZNVrp",
        "colab": {
          "base_uri": "https://localhost:8080/"
        },
        "outputId": "5117ca3e-73d9-48af-f2fa-b36740ce2f1c"
      },
      "source": [
        "conv_3d1=ModelConv3D1()\n",
        "conv_3d1.initialize_src_path(main_folder)\n",
        "conv_3d1.initialize_image_properties(image_height=160,image_width=160)\n",
        "conv_3d1.initialize_hyperparams(frames_to_sample=16,batch_size=30,num_epochs=3)\n",
        "conv_3d1_model=conv_3d1.define_model()\n",
        "print(\"Total Params:\", conv_3d1_model.count_params())\n",
        "conv_3d1.train_model(conv_3d1_model)"
      ],
      "execution_count": 19,
      "outputs": [
        {
          "output_type": "stream",
          "text": [
            "Total Params: 1736389\n",
            "WARNING:tensorflow:`period` argument is deprecated. Please use `save_freq` to specify the frequency in number of batches seen.\n",
            "Epoch 1/3\n",
            "23/23 [==============================] - ETA: 0s - batch: 11.0000 - size: 28.8261 - loss: 1.5235 - categorical_accuracy: 0.4359\n",
            "Epoch 00001: saving model to model_init_2021-03-1806_50_11.460105/model-00001-1.52350-0.43590-2.80704-0.21000.h5\n",
            "4\n",
            "23/23 [==============================] - 156s 6s/step - batch: 11.0000 - size: 28.8261 - loss: 1.5235 - categorical_accuracy: 0.4359 - val_loss: 2.8070 - val_categorical_accuracy: 0.2100\n",
            "Epoch 2/3\n",
            "23/23 [==============================] - ETA: 0s - batch: 11.0000 - size: 28.8261 - loss: 0.9240 - categorical_accuracy: 0.6305\n",
            "Epoch 00002: saving model to model_init_2021-03-1806_50_11.460105/model-00002-0.92401-0.63047-5.16375-0.17000.h5\n",
            "0\n",
            "23/23 [==============================] - 125s 6s/step - batch: 11.0000 - size: 28.8261 - loss: 0.9240 - categorical_accuracy: 0.6305 - val_loss: 5.1638 - val_categorical_accuracy: 0.1700\n",
            "Epoch 3/3\n",
            "23/23 [==============================] - ETA: 0s - batch: 11.0000 - size: 28.8261 - loss: 0.8192 - categorical_accuracy: 0.7029\n",
            "Epoch 00003: saving model to model_init_2021-03-1806_50_11.460105/model-00003-0.81921-0.70287-6.00843-0.24000.h5\n",
            "0\n",
            "23/23 [==============================] - 125s 6s/step - batch: 11.0000 - size: 28.8261 - loss: 0.8192 - categorical_accuracy: 0.7029 - val_loss: 6.0084 - val_categorical_accuracy: 0.2400\n"
          ],
          "name": "stdout"
        },
        {
          "output_type": "execute_result",
          "data": {
            "text/plain": [
              "<tensorflow.python.keras.callbacks.History at 0x7f452363e290>"
            ]
          },
          "metadata": {
            "tags": []
          },
          "execution_count": 19
        }
      ]
    },
    {
      "cell_type": "code",
      "metadata": {
        "id": "jx0kjX0PNVrr",
        "colab": {
          "base_uri": "https://localhost:8080/"
        },
        "outputId": "b8df21e4-68f1-41bc-b5f2-46e91b4aa395"
      },
      "source": [
        "conv_3d1.clear_session(conv_3d1_model)\n",
        "conv_3d1=ModelConv3D1()\n",
        "conv_3d1.initialize_src_path(main_folder)\n",
        "conv_3d1.initialize_image_properties(image_height=100,image_width=100)\n",
        "conv_3d1.initialize_hyperparams(frames_to_sample=30,batch_size=30,num_epochs=2)\n",
        "conv_3d1_model=conv_3d1.define_model()\n",
        "print(\"Total Params:\", conv_3d1_model.count_params())\n",
        "conv_3d1.train_model(conv_3d1_model)"
      ],
      "execution_count": 20,
      "outputs": [
        {
          "output_type": "stream",
          "text": [
            "Total Params: 687813\n",
            "WARNING:tensorflow:`period` argument is deprecated. Please use `save_freq` to specify the frequency in number of batches seen.\n",
            "Epoch 1/2\n",
            "23/23 [==============================] - ETA: 0s - batch: 11.0000 - size: 28.8261 - loss: 1.6746 - categorical_accuracy: 0.4087\n",
            "Epoch 00001: saving model to model_init_2021-03-1806_57_00.336819/model-00001-1.67457-0.40875-2.54762-0.21000.h5\n",
            "48\n",
            "23/23 [==============================] - 233s 10s/step - batch: 11.0000 - size: 28.8261 - loss: 1.6746 - categorical_accuracy: 0.4087 - val_loss: 2.5476 - val_categorical_accuracy: 0.2100\n",
            "Epoch 2/2\n",
            "23/23 [==============================] - ETA: 0s - batch: 11.0000 - size: 28.8261 - loss: 1.0685 - categorical_accuracy: 0.5928\n",
            "Epoch 00002: saving model to model_init_2021-03-1806_57_00.336819/model-00002-1.06849-0.59276-5.40653-0.16000.h5\n",
            "0\n",
            "23/23 [==============================] - 196s 9s/step - batch: 11.0000 - size: 28.8261 - loss: 1.0685 - categorical_accuracy: 0.5928 - val_loss: 5.4065 - val_categorical_accuracy: 0.1600\n"
          ],
          "name": "stdout"
        },
        {
          "output_type": "execute_result",
          "data": {
            "text/plain": [
              "<tensorflow.python.keras.callbacks.History at 0x7f44d4d91c50>"
            ]
          },
          "metadata": {
            "tags": []
          },
          "execution_count": 20
        }
      ]
    },
    {
      "cell_type": "code",
      "metadata": {
        "id": "xReB_wtlNVrx",
        "colab": {
          "base_uri": "https://localhost:8080/"
        },
        "outputId": "c2e63b1d-812a-4221-f292-1c2250cbb3e6"
      },
      "source": [
        "conv_3d1.clear_session(conv_3d1_model)\n",
        "conv_3d1=ModelConv3D1()\n",
        "conv_3d1.initialize_src_path(main_folder)\n",
        "conv_3d1.initialize_image_properties(image_height=100,image_width=100)\n",
        "conv_3d1.initialize_hyperparams(frames_to_sample=30,batch_size=60,num_epochs=2)\n",
        "conv_3d1_model=conv_3d1.define_model()\n",
        "print(\"Total Params:\", conv_3d1_model.count_params())\n",
        "conv_3d1.train_model(conv_3d1_model)"
      ],
      "execution_count": 21,
      "outputs": [
        {
          "output_type": "stream",
          "text": [
            "Total Params: 687813\n",
            "WARNING:tensorflow:`period` argument is deprecated. Please use `save_freq` to specify the frequency in number of batches seen.\n",
            "Epoch 1/2\n",
            "12/12 [==============================] - ETA: 0s - batch: 5.5000 - size: 55.2500 - loss: 1.7724 - categorical_accuracy: 0.3575 \n",
            "Epoch 00001: saving model to model_init_2021-03-1807_04_11.657638/model-00001-1.77236-0.35747-1.66328-0.34000.h5\n",
            "48\n",
            "12/12 [==============================] - 236s 19s/step - batch: 5.5000 - size: 55.2500 - loss: 1.7724 - categorical_accuracy: 0.3575 - val_loss: 1.6633 - val_categorical_accuracy: 0.3400\n",
            "Epoch 2/2\n",
            "12/12 [==============================] - ETA: 0s - batch: 5.5000 - size: 55.2500 - loss: 1.2056 - categorical_accuracy: 0.5400 \n",
            "Epoch 00002: saving model to model_init_2021-03-1807_04_11.657638/model-00002-1.20558-0.53997-1.94798-0.19000.h5\n",
            "0\n",
            "12/12 [==============================] - 204s 19s/step - batch: 5.5000 - size: 55.2500 - loss: 1.2056 - categorical_accuracy: 0.5400 - val_loss: 1.9480 - val_categorical_accuracy: 0.1900\n"
          ],
          "name": "stdout"
        },
        {
          "output_type": "execute_result",
          "data": {
            "text/plain": [
              "<tensorflow.python.keras.callbacks.History at 0x7f452307ef90>"
            ]
          },
          "metadata": {
            "tags": []
          },
          "execution_count": 21
        }
      ]
    },
    {
      "cell_type": "code",
      "metadata": {
        "id": "DoKopL3YNVry",
        "colab": {
          "base_uri": "https://localhost:8080/"
        },
        "outputId": "efb18322-badb-47d6-a4a4-00b840e1b75e"
      },
      "source": [
        "conv_3d1.clear_session(conv_3d1_model)\n",
        "conv_3d1=ModelConv3D1()\n",
        "conv_3d1.initialize_src_path(main_folder)\n",
        "conv_3d1.initialize_image_properties(image_height=100,image_width=100)\n",
        "conv_3d1.initialize_hyperparams(frames_to_sample=16,batch_size=60,num_epochs=2)\n",
        "conv_3d1_model=conv_3d1.define_model()\n",
        "print(\"Total Params:\", conv_3d1_model.count_params())\n",
        "conv_3d1.train_model(conv_3d1_model)"
      ],
      "execution_count": 22,
      "outputs": [
        {
          "output_type": "stream",
          "text": [
            "Total Params: 687813\n",
            "WARNING:tensorflow:`period` argument is deprecated. Please use `save_freq` to specify the frequency in number of batches seen.\n",
            "Epoch 1/2\n",
            "12/12 [==============================] - ETA: 0s - batch: 5.5000 - size: 55.2500 - loss: 1.7151 - categorical_accuracy: 0.3590\n",
            "Epoch 00001: saving model to model_init_2021-03-1807_11_34.837528/model-00001-1.71511-0.35897-1.71705-0.21000.h5\n",
            "48\n",
            "12/12 [==============================] - 130s 10s/step - batch: 5.5000 - size: 55.2500 - loss: 1.7151 - categorical_accuracy: 0.3590 - val_loss: 1.7171 - val_categorical_accuracy: 0.2100\n",
            "Epoch 2/2\n",
            "11/12 [==========================>...] - ETA: 8s - batch: 5.0000 - size: 60.0000 - loss: 1.2130 - categorical_accuracy: 0.5227 \n",
            "Epoch 00002: saving model to model_init_2021-03-1807_11_34.837528/model-00002-1.33428-0.52187-2.87662-0.23000.h5\n",
            "0\n",
            "12/12 [==============================] - 109s 10s/step - batch: 5.5000 - size: 55.2500 - loss: 1.3343 - categorical_accuracy: 0.5219 - val_loss: 2.8766 - val_categorical_accuracy: 0.2300\n"
          ],
          "name": "stdout"
        },
        {
          "output_type": "execute_result",
          "data": {
            "text/plain": [
              "<tensorflow.python.keras.callbacks.History at 0x7f4522b52450>"
            ]
          },
          "metadata": {
            "tags": []
          },
          "execution_count": 22
        }
      ]
    },
    {
      "cell_type": "code",
      "metadata": {
        "id": "IHABNT4GNVry",
        "colab": {
          "base_uri": "https://localhost:8080/"
        },
        "outputId": "c9a5accf-2d92-44d6-9ba9-a3d1181b9f13"
      },
      "source": [
        "conv_3d1.clear_session(conv_3d1_model)\n",
        "conv_3d1=ModelConv3D1()\n",
        "conv_3d1.initialize_src_path(main_folder)\n",
        "conv_3d1.initialize_image_properties(image_height=100,image_width=100)\n",
        "conv_3d1.initialize_hyperparams(frames_to_sample=16,batch_size=80,num_epochs=2)\n",
        "conv_3d1_model=conv_3d1.define_model()\n",
        "print(\"Total Params:\", conv_3d1_model.count_params())\n",
        "conv_3d1.train_model(conv_3d1_model)"
      ],
      "execution_count": 23,
      "outputs": [
        {
          "output_type": "stream",
          "text": [
            "Total Params: 687813\n",
            "WARNING:tensorflow:`period` argument is deprecated. Please use `save_freq` to specify the frequency in number of batches seen.\n",
            "Epoch 1/2\n",
            "9/9 [==============================] - ETA: 0s - batch: 4.0000 - size: 73.6667 - loss: 1.6358 - categorical_accuracy: 0.3786 \n",
            "Epoch 00001: saving model to model_init_2021-03-1807_15_36.186220/model-00001-1.63582-0.37858-1.60487-0.21000.h5\n",
            "48\n",
            "9/9 [==============================] - 133s 14s/step - batch: 4.0000 - size: 73.6667 - loss: 1.6358 - categorical_accuracy: 0.3786 - val_loss: 1.6049 - val_categorical_accuracy: 0.2100\n",
            "Epoch 2/2\n",
            "9/9 [==============================] - ETA: 0s - batch: 4.0000 - size: 73.6667 - loss: 1.1558 - categorical_accuracy: 0.5807 \n",
            "Epoch 00002: saving model to model_init_2021-03-1807_15_36.186220/model-00002-1.15576-0.58069-2.27672-0.16000.h5\n",
            "0\n",
            "9/9 [==============================] - 111s 14s/step - batch: 4.0000 - size: 73.6667 - loss: 1.1558 - categorical_accuracy: 0.5807 - val_loss: 2.2767 - val_categorical_accuracy: 0.1600\n"
          ],
          "name": "stdout"
        },
        {
          "output_type": "execute_result",
          "data": {
            "text/plain": [
              "<tensorflow.python.keras.callbacks.History at 0x7f4522132ed0>"
            ]
          },
          "metadata": {
            "tags": []
          },
          "execution_count": 23
        }
      ]
    },
    {
      "cell_type": "code",
      "metadata": {
        "id": "d2T9W4HyNVrz",
        "colab": {
          "base_uri": "https://localhost:8080/"
        },
        "outputId": "33e1f63a-02f3-4910-b1c7-86cbbbfe89a6"
      },
      "source": [
        "conv_3d1.clear_session(conv_3d1_model)\n",
        "conv_3d1=ModelConv3D1()\n",
        "conv_3d1.initialize_src_path(main_folder)\n",
        "conv_3d1.initialize_image_properties(image_height=160,image_width=160)\n",
        "conv_3d1.initialize_hyperparams(frames_to_sample=30,batch_size=15,num_epochs=2)\n",
        "conv_3d1_model=conv_3d1.define_model()\n",
        "print(\"Total Params:\", conv_3d1_model.count_params())\n",
        "conv_3d1.train_model(conv_3d1_model)"
      ],
      "execution_count": 24,
      "outputs": [
        {
          "output_type": "stream",
          "text": [
            "Total Params: 1736389\n",
            "WARNING:tensorflow:`period` argument is deprecated. Please use `save_freq` to specify the frequency in number of batches seen.\n",
            "Epoch 1/2\n",
            "45/45 [==============================] - ETA: 0s - batch: 22.0000 - size: 14.7333 - loss: 1.6257 - categorical_accuracy: 0.3876\n",
            "Epoch 00001: saving model to model_init_2021-03-1807_19_42.435403/model-00001-1.62570-0.38763-4.92920-0.16000.h5\n",
            "48\n",
            "45/45 [==============================] - 271s 6s/step - batch: 22.0000 - size: 14.7333 - loss: 1.6257 - categorical_accuracy: 0.3876 - val_loss: 4.9292 - val_categorical_accuracy: 0.1600\n",
            "Epoch 2/2\n",
            "45/45 [==============================] - ETA: 0s - batch: 22.0000 - size: 14.7333 - loss: 1.2513 - categorical_accuracy: 0.5339\n",
            "Epoch 00002: saving model to model_init_2021-03-1807_19_42.435403/model-00002-1.25127-0.53394-8.42214-0.17000.h5\n",
            "0\n",
            "45/45 [==============================] - 232s 5s/step - batch: 22.0000 - size: 14.7333 - loss: 1.2513 - categorical_accuracy: 0.5339 - val_loss: 8.4221 - val_categorical_accuracy: 0.1700\n"
          ],
          "name": "stdout"
        },
        {
          "output_type": "execute_result",
          "data": {
            "text/plain": [
              "<tensorflow.python.keras.callbacks.History at 0x7f4520403dd0>"
            ]
          },
          "metadata": {
            "tags": []
          },
          "execution_count": 24
        }
      ]
    },
    {
      "cell_type": "code",
      "metadata": {
        "id": "25WU3xHcNVrz",
        "colab": {
          "base_uri": "https://localhost:8080/"
        },
        "outputId": "98339e70-a336-483e-9038-9bec783d4ae4"
      },
      "source": [
        "conv_3d1.clear_session(conv_3d1_model)\n",
        "conv_3d1=ModelConv3D1()\n",
        "conv_3d1.initialize_src_path(main_folder)\n",
        "conv_3d1.initialize_image_properties(image_height=160,image_width=160)\n",
        "conv_3d1.initialize_hyperparams(frames_to_sample=16,batch_size=15,num_epochs=2)\n",
        "conv_3d1_model=conv_3d1.define_model()\n",
        "print(\"Total Params:\", conv_3d1_model.count_params())\n",
        "conv_3d1.train_model(conv_3d1_model)"
      ],
      "execution_count": 25,
      "outputs": [
        {
          "output_type": "stream",
          "text": [
            "Total Params: 1736389\n",
            "WARNING:tensorflow:`period` argument is deprecated. Please use `save_freq` to specify the frequency in number of batches seen.\n",
            "Epoch 1/2\n",
            "45/45 [==============================] - ETA: 0s - batch: 22.0000 - size: 14.7333 - loss: 1.6255 - categorical_accuracy: 0.4208\n",
            "Epoch 00001: saving model to model_init_2021-03-1807_28_08.586461/model-00001-1.62548-0.42081-6.21928-0.22000.h5\n",
            "48\n",
            "45/45 [==============================] - 145s 3s/step - batch: 22.0000 - size: 14.7333 - loss: 1.6255 - categorical_accuracy: 0.4208 - val_loss: 6.2193 - val_categorical_accuracy: 0.2200\n",
            "Epoch 2/2\n",
            "45/45 [==============================] - ETA: 0s - batch: 22.0000 - size: 14.7333 - loss: 1.1894 - categorical_accuracy: 0.5400\n",
            "Epoch 00002: saving model to model_init_2021-03-1807_28_08.586461/model-00002-1.18943-0.53997-5.61701-0.29000.h5\n",
            "0\n",
            "45/45 [==============================] - 123s 3s/step - batch: 22.0000 - size: 14.7333 - loss: 1.1894 - categorical_accuracy: 0.5400 - val_loss: 5.6170 - val_categorical_accuracy: 0.2900\n"
          ],
          "name": "stdout"
        },
        {
          "output_type": "execute_result",
          "data": {
            "text/plain": [
              "<tensorflow.python.keras.callbacks.History at 0x7f44d53b6d50>"
            ]
          },
          "metadata": {
            "tags": []
          },
          "execution_count": 25
        }
      ]
    },
    {
      "cell_type": "code",
      "metadata": {
        "id": "KPzFJDfUNVr0",
        "colab": {
          "base_uri": "https://localhost:8080/"
        },
        "outputId": "c91df3d4-e903-481e-c4c7-f7c2fe03e9c7"
      },
      "source": [
        "conv_3d1.clear_session(conv_3d1_model)\n",
        "conv_3d1=ModelConv3D1()\n",
        "conv_3d1.initialize_src_path(main_folder)\n",
        "conv_3d1.initialize_image_properties(image_height=100,image_width=100)\n",
        "conv_3d1.initialize_hyperparams(frames_to_sample=16,batch_size=15,num_epochs=2)\n",
        "conv_3d1_model=conv_3d1.define_model()\n",
        "print(\"Total Params:\", conv_3d1_model.count_params())\n",
        "conv_3d1.train_model(conv_3d1_model)"
      ],
      "execution_count": 26,
      "outputs": [
        {
          "output_type": "stream",
          "text": [
            "Total Params: 687813\n",
            "WARNING:tensorflow:`period` argument is deprecated. Please use `save_freq` to specify the frequency in number of batches seen.\n",
            "Epoch 1/2\n",
            "45/45 [==============================] - ETA: 0s - batch: 22.0000 - size: 14.7333 - loss: 1.6532 - categorical_accuracy: 0.3575\n",
            "Epoch 00001: saving model to model_init_2021-03-1807_32_39.801618/model-00001-1.65322-0.35747-2.26684-0.21000.h5\n",
            "48\n",
            "45/45 [==============================] - 127s 3s/step - batch: 22.0000 - size: 14.7333 - loss: 1.6532 - categorical_accuracy: 0.3575 - val_loss: 2.2668 - val_categorical_accuracy: 0.2100\n",
            "Epoch 2/2\n",
            "45/45 [==============================] - ETA: 0s - batch: 22.0000 - size: 14.7333 - loss: 1.0852 - categorical_accuracy: 0.5641\n",
            "Epoch 00002: saving model to model_init_2021-03-1807_32_39.801618/model-00002-1.08520-0.56410-3.25131-0.23000.h5\n",
            "0\n",
            "45/45 [==============================] - 108s 2s/step - batch: 22.0000 - size: 14.7333 - loss: 1.0852 - categorical_accuracy: 0.5641 - val_loss: 3.2513 - val_categorical_accuracy: 0.2300\n"
          ],
          "name": "stdout"
        },
        {
          "output_type": "execute_result",
          "data": {
            "text/plain": [
              "<tensorflow.python.keras.callbacks.History at 0x7f44d5ddcf50>"
            ]
          },
          "metadata": {
            "tags": []
          },
          "execution_count": 26
        }
      ]
    },
    {
      "cell_type": "code",
      "metadata": {
        "id": "zdQ6Aed-NVr4",
        "colab": {
          "base_uri": "https://localhost:8080/"
        },
        "outputId": "f2bf002c-1a53-47dd-ccaa-583c5519fd29"
      },
      "source": [
        "conv_3d1.clear_session(conv_3d1_model)\n",
        "conv_3d1=ModelConv3D1()\n",
        "conv_3d1.initialize_src_path(main_folder)\n",
        "conv_3d1.initialize_image_properties(image_height=100,image_width=100)\n",
        "conv_3d1.initialize_hyperparams(frames_to_sample=16,batch_size=10,num_epochs=2)\n",
        "conv_3d1_model=conv_3d1.define_model()\n",
        "print(\"Total Params:\", conv_3d1_model.count_params())\n",
        "conv_3d1.train_model(conv_3d1_model)"
      ],
      "execution_count": 27,
      "outputs": [
        {
          "output_type": "stream",
          "text": [
            "Total Params: 687813\n",
            "WARNING:tensorflow:`period` argument is deprecated. Please use `save_freq` to specify the frequency in number of batches seen.\n",
            "Epoch 1/2\n",
            "67/67 [==============================] - ETA: 0s - batch: 33.0000 - size: 9.8955 - loss: 1.6333 - categorical_accuracy: 0.4087 \n",
            "Epoch 00001: saving model to model_init_2021-03-1807_36_36.838659/model-00001-1.63332-0.40875-4.65327-0.16000.h5\n",
            "48\n",
            "67/67 [==============================] - 126s 2s/step - batch: 33.0000 - size: 9.8955 - loss: 1.6333 - categorical_accuracy: 0.4087 - val_loss: 4.6533 - val_categorical_accuracy: 0.1600\n",
            "Epoch 2/2\n",
            "67/67 [==============================] - ETA: 0s - batch: 33.0000 - size: 9.8955 - loss: 1.1528 - categorical_accuracy: 0.5354 \n",
            "Epoch 00002: saving model to model_init_2021-03-1807_36_36.838659/model-00002-1.15282-0.53544-7.27387-0.17000.h5\n",
            "0\n",
            "67/67 [==============================] - 108s 2s/step - batch: 33.0000 - size: 9.8955 - loss: 1.1528 - categorical_accuracy: 0.5354 - val_loss: 7.2739 - val_categorical_accuracy: 0.1700\n"
          ],
          "name": "stdout"
        },
        {
          "output_type": "execute_result",
          "data": {
            "text/plain": [
              "<tensorflow.python.keras.callbacks.History at 0x7f44d64faa50>"
            ]
          },
          "metadata": {
            "tags": []
          },
          "execution_count": 27
        }
      ]
    },
    {
      "cell_type": "code",
      "metadata": {
        "id": "1OYsvNb7NVr5",
        "colab": {
          "base_uri": "https://localhost:8080/"
        },
        "outputId": "3f3aae8b-dd26-4bbe-c498-217abf801c94"
      },
      "source": [
        "conv_3d1.clear_session(conv_3d1_model)\n",
        "conv_3d1=ModelConv3D1()\n",
        "conv_3d1.initialize_src_path(main_folder)\n",
        "conv_3d1.initialize_image_properties(image_height=100,image_width=100)\n",
        "conv_3d1.initialize_hyperparams(frames_to_sample=30,batch_size=10,num_epochs=2)\n",
        "conv_3d1_model=conv_3d1.define_model()\n",
        "print(\"Total Params:\", conv_3d1_model.count_params())\n",
        "conv_3d1.train_model(conv_3d1_model)"
      ],
      "execution_count": 28,
      "outputs": [
        {
          "output_type": "stream",
          "text": [
            "Total Params: 687813\n",
            "WARNING:tensorflow:`period` argument is deprecated. Please use `save_freq` to specify the frequency in number of batches seen.\n",
            "Epoch 1/2\n",
            "67/67 [==============================] - ETA: 0s - batch: 33.0000 - size: 9.8955 - loss: 1.6007 - categorical_accuracy: 0.3846 \n",
            "Epoch 00001: saving model to model_init_2021-03-1807_40_32.860220/model-00001-1.60070-0.38462-2.97169-0.21000.h5\n",
            "48\n",
            "67/67 [==============================] - 229s 3s/step - batch: 33.0000 - size: 9.8955 - loss: 1.6007 - categorical_accuracy: 0.3846 - val_loss: 2.9717 - val_categorical_accuracy: 0.2100\n",
            "Epoch 2/2\n",
            "67/67 [==============================] - ETA: 0s - batch: 33.0000 - size: 9.8955 - loss: 1.3349 - categorical_accuracy: 0.4691 \n",
            "Epoch 00002: saving model to model_init_2021-03-1807_40_32.860220/model-00002-1.33486-0.46908-3.65119-0.20000.h5\n",
            "0\n",
            "67/67 [==============================] - 204s 3s/step - batch: 33.0000 - size: 9.8955 - loss: 1.3349 - categorical_accuracy: 0.4691 - val_loss: 3.6512 - val_categorical_accuracy: 0.2000\n"
          ],
          "name": "stdout"
        },
        {
          "output_type": "execute_result",
          "data": {
            "text/plain": [
              "<tensorflow.python.keras.callbacks.History at 0x7f44d7d92790>"
            ]
          },
          "metadata": {
            "tags": []
          },
          "execution_count": 28
        }
      ]
    },
    {
      "cell_type": "code",
      "metadata": {
        "id": "6D4BJx6gNVr6",
        "colab": {
          "base_uri": "https://localhost:8080/"
        },
        "outputId": "0c5642ed-14cc-45c4-b2c5-ad937df771ea"
      },
      "source": [
        "conv_3d1.clear_session(conv_3d1_model)\n",
        "conv_3d1=ModelConv3D1()\n",
        "conv_3d1.initialize_src_path(main_folder)\n",
        "conv_3d1.initialize_image_properties(image_height=160,image_width=160)\n",
        "conv_3d1.initialize_hyperparams(frames_to_sample=30,batch_size=10,num_epochs=2)\n",
        "conv_3d1_model=conv_3d1.define_model()\n",
        "print(\"Total Params:\", conv_3d1_model.count_params())\n",
        "conv_3d1.train_model(conv_3d1_model)"
      ],
      "execution_count": 29,
      "outputs": [
        {
          "output_type": "stream",
          "text": [
            "Total Params: 1736389\n",
            "WARNING:tensorflow:`period` argument is deprecated. Please use `save_freq` to specify the frequency in number of batches seen.\n",
            "Epoch 1/2\n",
            "67/67 [==============================] - ETA: 0s - batch: 33.0000 - size: 9.8955 - loss: 1.6548 - categorical_accuracy: 0.3876 \n",
            "Epoch 00001: saving model to model_init_2021-03-1807_47_47.807597/model-00001-1.65480-0.38763-1.84070-0.26000.h5\n",
            "48\n",
            "67/67 [==============================] - 267s 4s/step - batch: 33.0000 - size: 9.8955 - loss: 1.6548 - categorical_accuracy: 0.3876 - val_loss: 1.8407 - val_categorical_accuracy: 0.2600\n",
            "Epoch 2/2\n",
            "67/67 [==============================] - ETA: 0s - batch: 33.0000 - size: 9.8955 - loss: 1.1826 - categorical_accuracy: 0.5475 \n",
            "Epoch 00002: saving model to model_init_2021-03-1807_47_47.807597/model-00002-1.18261-0.54751-9.25675-0.23000.h5\n",
            "0\n",
            "67/67 [==============================] - 230s 3s/step - batch: 33.0000 - size: 9.8955 - loss: 1.1826 - categorical_accuracy: 0.5475 - val_loss: 9.2568 - val_categorical_accuracy: 0.2300\n"
          ],
          "name": "stdout"
        },
        {
          "output_type": "execute_result",
          "data": {
            "text/plain": [
              "<tensorflow.python.keras.callbacks.History at 0x7f45216bbad0>"
            ]
          },
          "metadata": {
            "tags": []
          },
          "execution_count": 29
        }
      ]
    },
    {
      "cell_type": "code",
      "metadata": {
        "id": "oo38TA_HNVr6",
        "colab": {
          "base_uri": "https://localhost:8080/"
        },
        "outputId": "cec2e71c-1745-43a4-b839-a9c8bc484e62"
      },
      "source": [
        "conv_3d1.clear_session(conv_3d1_model)\n",
        "conv_3d1=ModelConv3D1()\n",
        "conv_3d1.initialize_src_path(main_folder)\n",
        "conv_3d1.initialize_image_properties(image_height=160,image_width=160)\n",
        "conv_3d1.initialize_hyperparams(frames_to_sample=16,batch_size=10,num_epochs=2)\n",
        "conv_3d1_model=conv_3d1.define_model()\n",
        "print(\"Total Params:\", conv_3d1_model.count_params())\n",
        "conv_3d1.train_model(conv_3d1_model)"
      ],
      "execution_count": 30,
      "outputs": [
        {
          "output_type": "stream",
          "text": [
            "Total Params: 1736389\n",
            "WARNING:tensorflow:`period` argument is deprecated. Please use `save_freq` to specify the frequency in number of batches seen.\n",
            "Epoch 1/2\n",
            "67/67 [==============================] - ETA: 0s - batch: 33.0000 - size: 9.8955 - loss: 1.5204 - categorical_accuracy: 0.4193 \n",
            "Epoch 00001: saving model to model_init_2021-03-1807_56_06.942312/model-00001-1.52037-0.41931-4.35893-0.16000.h5\n",
            "48\n",
            "67/67 [==============================] - 146s 2s/step - batch: 33.0000 - size: 9.8955 - loss: 1.5204 - categorical_accuracy: 0.4193 - val_loss: 4.3589 - val_categorical_accuracy: 0.1600\n",
            "Epoch 2/2\n",
            "67/67 [==============================] - ETA: 0s - batch: 33.0000 - size: 9.8955 - loss: 1.3056 - categorical_accuracy: 0.5038 \n",
            "Epoch 00002: saving model to model_init_2021-03-1807_56_06.942312/model-00002-1.30561-0.50377-4.43050-0.20000.h5\n",
            "0\n",
            "67/67 [==============================] - 126s 2s/step - batch: 33.0000 - size: 9.8955 - loss: 1.3056 - categorical_accuracy: 0.5038 - val_loss: 4.4305 - val_categorical_accuracy: 0.2000\n"
          ],
          "name": "stdout"
        },
        {
          "output_type": "execute_result",
          "data": {
            "text/plain": [
              "<tensorflow.python.keras.callbacks.History at 0x7f45211128d0>"
            ]
          },
          "metadata": {
            "tags": []
          },
          "execution_count": 30
        }
      ]
    },
    {
      "cell_type": "code",
      "metadata": {
        "id": "ns4lmR9bNVr7",
        "colab": {
          "base_uri": "https://localhost:8080/"
        },
        "outputId": "0194110c-e171-4684-edc0-0997b102c955"
      },
      "source": [
        "conv_3d1.clear_session(conv_3d1_model)\n",
        "conv_3d1=ModelConv3D1()\n",
        "conv_3d1.initialize_src_path(main_folder)\n",
        "conv_3d1.initialize_image_properties(image_height=160,image_width=160)\n",
        "conv_3d1.initialize_hyperparams(frames_to_sample=16,batch_size=40,num_epochs=2)\n",
        "conv_3d1_model=conv_3d1.define_model()\n",
        "print(\"Total Params:\", conv_3d1_model.count_params())\n",
        "conv_3d1.train_model(conv_3d1_model)"
      ],
      "execution_count": 31,
      "outputs": [
        {
          "output_type": "stream",
          "text": [
            "Total Params: 1736389\n",
            "WARNING:tensorflow:`period` argument is deprecated. Please use `save_freq` to specify the frequency in number of batches seen.\n",
            "Epoch 1/2\n",
            "17/17 [==============================] - ETA: 0s - batch: 8.0000 - size: 39.0000 - loss: 1.4903 - categorical_accuracy: 0.4630\n",
            "Epoch 00001: saving model to model_init_2021-03-1808_00_40.712982/model-00001-1.49029-0.46305-1.93505-0.16000.h5\n",
            "48\n",
            "17/17 [==============================] - 146s 8s/step - batch: 8.0000 - size: 39.0000 - loss: 1.4903 - categorical_accuracy: 0.4630 - val_loss: 1.9351 - val_categorical_accuracy: 0.1600\n",
            "Epoch 2/2\n",
            "17/17 [==============================] - ETA: 0s - batch: 8.0000 - size: 39.0000 - loss: 0.9532 - categorical_accuracy: 0.6410\n",
            "Epoch 00002: saving model to model_init_2021-03-1808_00_40.712982/model-00002-0.95320-0.64103-2.95114-0.14000.h5\n",
            "0\n",
            "17/17 [==============================] - 124s 8s/step - batch: 8.0000 - size: 39.0000 - loss: 0.9532 - categorical_accuracy: 0.6410 - val_loss: 2.9511 - val_categorical_accuracy: 0.1400\n"
          ],
          "name": "stdout"
        },
        {
          "output_type": "execute_result",
          "data": {
            "text/plain": [
              "<tensorflow.python.keras.callbacks.History at 0x7f44d5b17c50>"
            ]
          },
          "metadata": {
            "tags": []
          },
          "execution_count": 31
        }
      ]
    },
    {
      "cell_type": "markdown",
      "metadata": {
        "id": "vVh5rIRCNVr7"
      },
      "source": [
        "### Observation\n",
        "\n",
        "**As we see from the above experiments image resolution and number of frames in sequence have more impact on training time than batch_size.**\n",
        "\n",
        "So experimentations are carried with batch size fixed around 15-40 and changing the resolution and number of image per sequence based on the device memory constraints . Models are designed such that their memory foot print is less than 50 MB which corresponds to 4.3 million parameters assuming the datatype size of parameters to be 12 bytes"
      ]
    },
    {
      "cell_type": "markdown",
      "metadata": {
        "id": "ZKbxe-Szy15j"
      },
      "source": [
        "## Model 1 - Base Model - No Data Augmentation Batch Size 40 and Epoch 15"
      ]
    },
    {
      "cell_type": "code",
      "metadata": {
        "id": "7LVQM4NsNVr7"
      },
      "source": [
        "class ModelConv3D1(ModelBuilder):\r\n",
        "    \r\n",
        "    def define_model(self,filtersize=(3,3,3),dense_neurons=64,dropout=0.25):\r\n",
        "\r\n",
        "        model = Sequential()\r\n",
        "        model.add(Conv3D(16, filtersize, padding='same',\r\n",
        "                 input_shape=(self.frames_to_sample,self.image_height,self.image_width,self.channels)))\r\n",
        "        model.add(Activation('relu'))\r\n",
        "        model.add(BatchNormalization())\r\n",
        "        model.add(MaxPooling3D(pool_size=(2, 2, 2)))\r\n",
        "\r\n",
        "        model.add(Conv3D(32, filtersize, padding='same'))\r\n",
        "        model.add(Activation('relu'))\r\n",
        "        model.add(BatchNormalization())\r\n",
        "        model.add(MaxPooling3D(pool_size=(2, 2, 2)))\r\n",
        "\r\n",
        "        model.add(Conv3D(64, filtersize, padding='same'))\r\n",
        "        model.add(Activation('relu'))\r\n",
        "        model.add(BatchNormalization())\r\n",
        "        model.add(MaxPooling3D(pool_size=(2, 2, 2)))\r\n",
        "\r\n",
        "        model.add(Conv3D(128, filtersize, padding='same'))\r\n",
        "        model.add(Activation('relu'))\r\n",
        "        model.add(BatchNormalization())\r\n",
        "        model.add(MaxPooling3D(pool_size=(2, 2, 2)))\r\n",
        "\r\n",
        "        model.add(Flatten())\r\n",
        "        model.add(Dense(dense_neurons,activation='relu'))\r\n",
        "        model.add(BatchNormalization())\r\n",
        "        model.add(Dropout(dropout))\r\n",
        "\r\n",
        "        model.add(Dense(dense_neurons,activation='relu'))\r\n",
        "        model.add(BatchNormalization())\r\n",
        "        model.add(Dropout(dropout))\r\n",
        "\r\n",
        "\r\n",
        "        model.add(Dense(self.num_classes,activation='softmax'))\r\n",
        "\r\n",
        "        optimiser = optimizers.Adam()\r\n",
        "        model.compile(optimizer=optimiser, loss='categorical_crossentropy', metrics=['categorical_accuracy'])\r\n",
        "        return model"
      ],
      "execution_count": 32,
      "outputs": []
    },
    {
      "cell_type": "code",
      "metadata": {
        "id": "-89dV5W8WAw3",
        "colab": {
          "base_uri": "https://localhost:8080/"
        },
        "outputId": "7e2eab52-286a-4dbe-bb90-ea876314dcd1"
      },
      "source": [
        "conv_3d1.clear_session(conv_3d1_model)\r\n",
        "Conv3D1=ModelConv3D1()\r\n",
        "Conv3D1.initialize_src_path(main_folder)\r\n",
        "Conv3D1.initialize_image_properties(image_height=160,image_width=160)\r\n",
        "Conv3D1.initialize_hyperparams(frames_to_sample=20,batch_size=40,num_epochs=15)\r\n",
        "Conv3D1_model=Conv3D1.define_model()\r\n",
        "Conv3D1_model.summary()"
      ],
      "execution_count": 33,
      "outputs": [
        {
          "output_type": "stream",
          "text": [
            "Model: \"sequential\"\n",
            "_________________________________________________________________\n",
            "Layer (type)                 Output Shape              Param #   \n",
            "=================================================================\n",
            "conv3d (Conv3D)              (None, 20, 160, 160, 16)  1312      \n",
            "_________________________________________________________________\n",
            "activation (Activation)      (None, 20, 160, 160, 16)  0         \n",
            "_________________________________________________________________\n",
            "batch_normalization (BatchNo (None, 20, 160, 160, 16)  64        \n",
            "_________________________________________________________________\n",
            "max_pooling3d (MaxPooling3D) (None, 10, 80, 80, 16)    0         \n",
            "_________________________________________________________________\n",
            "conv3d_1 (Conv3D)            (None, 10, 80, 80, 32)    13856     \n",
            "_________________________________________________________________\n",
            "activation_1 (Activation)    (None, 10, 80, 80, 32)    0         \n",
            "_________________________________________________________________\n",
            "batch_normalization_1 (Batch (None, 10, 80, 80, 32)    128       \n",
            "_________________________________________________________________\n",
            "max_pooling3d_1 (MaxPooling3 (None, 5, 40, 40, 32)     0         \n",
            "_________________________________________________________________\n",
            "conv3d_2 (Conv3D)            (None, 5, 40, 40, 64)     55360     \n",
            "_________________________________________________________________\n",
            "activation_2 (Activation)    (None, 5, 40, 40, 64)     0         \n",
            "_________________________________________________________________\n",
            "batch_normalization_2 (Batch (None, 5, 40, 40, 64)     256       \n",
            "_________________________________________________________________\n",
            "max_pooling3d_2 (MaxPooling3 (None, 2, 20, 20, 64)     0         \n",
            "_________________________________________________________________\n",
            "conv3d_3 (Conv3D)            (None, 2, 20, 20, 128)    221312    \n",
            "_________________________________________________________________\n",
            "activation_3 (Activation)    (None, 2, 20, 20, 128)    0         \n",
            "_________________________________________________________________\n",
            "batch_normalization_3 (Batch (None, 2, 20, 20, 128)    512       \n",
            "_________________________________________________________________\n",
            "max_pooling3d_3 (MaxPooling3 (None, 1, 10, 10, 128)    0         \n",
            "_________________________________________________________________\n",
            "flatten (Flatten)            (None, 12800)             0         \n",
            "_________________________________________________________________\n",
            "dense (Dense)                (None, 64)                819264    \n",
            "_________________________________________________________________\n",
            "batch_normalization_4 (Batch (None, 64)                256       \n",
            "_________________________________________________________________\n",
            "dropout (Dropout)            (None, 64)                0         \n",
            "_________________________________________________________________\n",
            "dense_1 (Dense)              (None, 64)                4160      \n",
            "_________________________________________________________________\n",
            "batch_normalization_5 (Batch (None, 64)                256       \n",
            "_________________________________________________________________\n",
            "dropout_1 (Dropout)          (None, 64)                0         \n",
            "_________________________________________________________________\n",
            "dense_2 (Dense)              (None, 5)                 325       \n",
            "=================================================================\n",
            "Total params: 1,117,061\n",
            "Trainable params: 1,116,325\n",
            "Non-trainable params: 736\n",
            "_________________________________________________________________\n"
          ],
          "name": "stdout"
        }
      ]
    },
    {
      "cell_type": "code",
      "metadata": {
        "id": "5j884vjoWQD0",
        "colab": {
          "base_uri": "https://localhost:8080/"
        },
        "outputId": "6668e4ce-8074-45a2-ffad-2b831c8dc0f0"
      },
      "source": [
        "print(\"Total Params:\", Conv3D1_model.count_params())\r\n",
        "accuracy_check_model_1 = Conv3D1.train_model(Conv3D1_model)"
      ],
      "execution_count": 34,
      "outputs": [
        {
          "output_type": "stream",
          "text": [
            "Total Params: 1117061\n",
            "WARNING:tensorflow:`period` argument is deprecated. Please use `save_freq` to specify the frequency in number of batches seen.\n",
            "Epoch 1/15\n",
            "17/17 [==============================] - ETA: 0s - batch: 8.0000 - size: 39.0000 - loss: 1.4703 - categorical_accuracy: 0.4223\n",
            "Epoch 00001: saving model to model_init_2021-03-1808_05_14.019943/model-00001-1.47031-0.42232-2.04620-0.21000.h5\n",
            "48\n",
            "17/17 [==============================] - 182s 10s/step - batch: 8.0000 - size: 39.0000 - loss: 1.4703 - categorical_accuracy: 0.4223 - val_loss: 2.0462 - val_categorical_accuracy: 0.2100\n",
            "Epoch 2/15\n",
            "17/17 [==============================] - ETA: 0s - batch: 8.0000 - size: 39.0000 - loss: 1.0331 - categorical_accuracy: 0.5913\n",
            "Epoch 00002: saving model to model_init_2021-03-1808_05_14.019943/model-00002-1.03315-0.59125-2.38805-0.23000.h5\n",
            "0\n",
            "17/17 [==============================] - 155s 10s/step - batch: 8.0000 - size: 39.0000 - loss: 1.0331 - categorical_accuracy: 0.5913 - val_loss: 2.3880 - val_categorical_accuracy: 0.2300\n",
            "Epoch 3/15\n",
            "17/17 [==============================] - ETA: 0s - batch: 8.0000 - size: 39.0000 - loss: 0.7452 - categorical_accuracy: 0.7240\n",
            "Epoch 00003: saving model to model_init_2021-03-1808_05_14.019943/model-00003-0.74523-0.72398-2.70565-0.22000.h5\n",
            "0\n",
            "17/17 [==============================] - 154s 10s/step - batch: 8.0000 - size: 39.0000 - loss: 0.7452 - categorical_accuracy: 0.7240 - val_loss: 2.7057 - val_categorical_accuracy: 0.2200\n",
            "Epoch 4/15\n",
            "17/17 [==============================] - ETA: 0s - batch: 8.0000 - size: 39.0000 - loss: 0.5734 - categorical_accuracy: 0.7738\n",
            "Epoch 00004: saving model to model_init_2021-03-1808_05_14.019943/model-00004-0.57340-0.77376-3.20169-0.21000.h5\n",
            "0\n",
            "17/17 [==============================] - 155s 10s/step - batch: 8.0000 - size: 39.0000 - loss: 0.5734 - categorical_accuracy: 0.7738 - val_loss: 3.2017 - val_categorical_accuracy: 0.2100\n",
            "Epoch 5/15\n",
            "17/17 [==============================] - ETA: 0s - batch: 8.0000 - size: 39.0000 - loss: 0.4316 - categorical_accuracy: 0.8552\n",
            "Epoch 00005: saving model to model_init_2021-03-1808_05_14.019943/model-00005-0.43160-0.85520-3.62493-0.17000.h5\n",
            "\n",
            "Epoch 00005: ReduceLROnPlateau reducing learning rate to 0.00020000000949949026.\n",
            "0\n",
            "17/17 [==============================] - 153s 10s/step - batch: 8.0000 - size: 39.0000 - loss: 0.4316 - categorical_accuracy: 0.8552 - val_loss: 3.6249 - val_categorical_accuracy: 0.1700\n",
            "Epoch 6/15\n",
            "17/17 [==============================] - ETA: 0s - batch: 8.0000 - size: 39.0000 - loss: 0.3212 - categorical_accuracy: 0.9095\n",
            "Epoch 00006: saving model to model_init_2021-03-1808_05_14.019943/model-00006-0.32124-0.90950-3.74290-0.25000.h5\n",
            "0\n",
            "17/17 [==============================] - 158s 10s/step - batch: 8.0000 - size: 39.0000 - loss: 0.3212 - categorical_accuracy: 0.9095 - val_loss: 3.7429 - val_categorical_accuracy: 0.2500\n",
            "Epoch 7/15\n",
            "17/17 [==============================] - ETA: 0s - batch: 8.0000 - size: 39.0000 - loss: 0.2527 - categorical_accuracy: 0.9291\n",
            "Epoch 00007: saving model to model_init_2021-03-1808_05_14.019943/model-00007-0.25266-0.92911-3.81652-0.21000.h5\n",
            "0\n",
            "17/17 [==============================] - 152s 9s/step - batch: 8.0000 - size: 39.0000 - loss: 0.2527 - categorical_accuracy: 0.9291 - val_loss: 3.8165 - val_categorical_accuracy: 0.2100\n",
            "Epoch 8/15\n",
            "17/17 [==============================] - ETA: 0s - batch: 8.0000 - size: 39.0000 - loss: 0.2294 - categorical_accuracy: 0.9457\n",
            "Epoch 00008: saving model to model_init_2021-03-1808_05_14.019943/model-00008-0.22939-0.94570-4.22364-0.21000.h5\n",
            "0\n",
            "17/17 [==============================] - 156s 10s/step - batch: 8.0000 - size: 39.0000 - loss: 0.2294 - categorical_accuracy: 0.9457 - val_loss: 4.2236 - val_categorical_accuracy: 0.2100\n",
            "Epoch 9/15\n",
            "17/17 [==============================] - ETA: 0s - batch: 8.0000 - size: 39.0000 - loss: 0.1794 - categorical_accuracy: 0.9653\n",
            "Epoch 00009: saving model to model_init_2021-03-1808_05_14.019943/model-00009-0.17937-0.96531-3.89561-0.21000.h5\n",
            "\n",
            "Epoch 00009: ReduceLROnPlateau reducing learning rate to 4.0000001899898055e-05.\n",
            "0\n",
            "17/17 [==============================] - 157s 10s/step - batch: 8.0000 - size: 39.0000 - loss: 0.1794 - categorical_accuracy: 0.9653 - val_loss: 3.8956 - val_categorical_accuracy: 0.2100\n",
            "Epoch 10/15\n",
            "17/17 [==============================] - ETA: 0s - batch: 8.0000 - size: 39.0000 - loss: 0.1739 - categorical_accuracy: 0.9593\n",
            "Epoch 00010: saving model to model_init_2021-03-1808_05_14.019943/model-00010-0.17389-0.95928-4.12476-0.21000.h5\n",
            "0\n",
            "17/17 [==============================] - 153s 10s/step - batch: 8.0000 - size: 39.0000 - loss: 0.1739 - categorical_accuracy: 0.9593 - val_loss: 4.1248 - val_categorical_accuracy: 0.2100\n",
            "Epoch 11/15\n",
            "17/17 [==============================] - ETA: 0s - batch: 8.0000 - size: 39.0000 - loss: 0.1766 - categorical_accuracy: 0.9608\n",
            "Epoch 00011: saving model to model_init_2021-03-1808_05_14.019943/model-00011-0.17662-0.96078-4.02485-0.19000.h5\n",
            "0\n",
            "17/17 [==============================] - 156s 10s/step - batch: 8.0000 - size: 39.0000 - loss: 0.1766 - categorical_accuracy: 0.9608 - val_loss: 4.0248 - val_categorical_accuracy: 0.1900\n",
            "Epoch 12/15\n",
            "17/17 [==============================] - ETA: 0s - batch: 8.0000 - size: 39.0000 - loss: 0.1795 - categorical_accuracy: 0.9623\n",
            "Epoch 00012: saving model to model_init_2021-03-1808_05_14.019943/model-00012-0.17946-0.96229-3.78608-0.24000.h5\n",
            "0\n",
            "17/17 [==============================] - 158s 10s/step - batch: 8.0000 - size: 39.0000 - loss: 0.1795 - categorical_accuracy: 0.9623 - val_loss: 3.7861 - val_categorical_accuracy: 0.2400\n",
            "Epoch 13/15\n",
            "17/17 [==============================] - ETA: 0s - batch: 8.0000 - size: 39.0000 - loss: 0.1644 - categorical_accuracy: 0.9759\n",
            "Epoch 00013: saving model to model_init_2021-03-1808_05_14.019943/model-00013-0.16436-0.97587-3.68019-0.21000.h5\n",
            "\n",
            "Epoch 00013: ReduceLROnPlateau reducing learning rate to 8.000000525498762e-06.\n",
            "0\n",
            "17/17 [==============================] - 153s 9s/step - batch: 8.0000 - size: 39.0000 - loss: 0.1644 - categorical_accuracy: 0.9759 - val_loss: 3.6802 - val_categorical_accuracy: 0.2100\n",
            "Epoch 14/15\n",
            "17/17 [==============================] - ETA: 0s - batch: 8.0000 - size: 39.0000 - loss: 0.1507 - categorical_accuracy: 0.9789\n",
            "Epoch 00014: saving model to model_init_2021-03-1808_05_14.019943/model-00014-0.15073-0.97888-3.58315-0.23000.h5\n",
            "0\n",
            "17/17 [==============================] - 156s 10s/step - batch: 8.0000 - size: 39.0000 - loss: 0.1507 - categorical_accuracy: 0.9789 - val_loss: 3.5831 - val_categorical_accuracy: 0.2300\n",
            "Epoch 15/15\n",
            "17/17 [==============================] - ETA: 0s - batch: 8.0000 - size: 39.0000 - loss: 0.1467 - categorical_accuracy: 0.9789\n",
            "Epoch 00015: saving model to model_init_2021-03-1808_05_14.019943/model-00015-0.14673-0.97888-3.37644-0.19000.h5\n",
            "0\n",
            "17/17 [==============================] - 155s 10s/step - batch: 8.0000 - size: 39.0000 - loss: 0.1467 - categorical_accuracy: 0.9789 - val_loss: 3.3764 - val_categorical_accuracy: 0.1900\n"
          ],
          "name": "stdout"
        }
      ]
    },
    {
      "cell_type": "code",
      "metadata": {
        "id": "r00TPGbNXXhX",
        "colab": {
          "base_uri": "https://localhost:8080/",
          "height": 265
        },
        "outputId": "2ad5b3e9-6140-4673-9290-bcd7f13bcc71"
      },
      "source": [
        "plot(accuracy_check_model_1)"
      ],
      "execution_count": 35,
      "outputs": [
        {
          "output_type": "display_data",
          "data": {
            "image/png": "[encoded data removed]",
            "text/plain": [
              "<Figure size 1080x288 with 2 Axes>"
            ]
          },
          "metadata": {
            "tags": [],
            "needs_background": "light"
          }
        }
      ]
    },
    {
      "cell_type": "markdown",
      "metadata": {
        "id": "Dtxwayy_14Hn"
      },
      "source": [
        "#### Model is clearly overfitting. So we need to do data augmentation"
      ]
    },
    {
      "cell_type": "markdown",
      "metadata": {
        "id": "iJk2twS_2lRx"
      },
      "source": [
        "## Model 2 - Augment Data , (3,3,3) filter & 160x160 image resolution"
      ]
    },
    {
      "cell_type": "code",
      "metadata": {
        "id": "fQxHzlc92oOq",
        "colab": {
          "base_uri": "https://localhost:8080/"
        },
        "outputId": "dc2d5d61-9d89-4f48-dadd-018087ec4c73"
      },
      "source": [
        "Conv3D1.clear_session(Conv3D1_model)\r\n",
        "Conv3D2=ModelConv3D1()\r\n",
        "Conv3D2.initialize_src_path(main_folder)\r\n",
        "Conv3D2.initialize_image_properties(image_height=160,image_width=160)\r\n",
        "Conv3D2.initialize_hyperparams(frames_to_sample=20,batch_size=20,num_epochs=25)\r\n",
        "Conv3D2_model=Conv3D2.define_model(dense_neurons=256,dropout=0.5)\r\n",
        "Conv3D2_model.summary()"
      ],
      "execution_count": 36,
      "outputs": [
        {
          "output_type": "stream",
          "text": [
            "Model: \"sequential\"\n",
            "_________________________________________________________________\n",
            "Layer (type)                 Output Shape              Param #   \n",
            "=================================================================\n",
            "conv3d (Conv3D)              (None, 20, 160, 160, 16)  1312      \n",
            "_________________________________________________________________\n",
            "activation (Activation)      (None, 20, 160, 160, 16)  0         \n",
            "_________________________________________________________________\n",
            "batch_normalization (BatchNo (None, 20, 160, 160, 16)  64        \n",
            "_________________________________________________________________\n",
            "max_pooling3d (MaxPooling3D) (None, 10, 80, 80, 16)    0         \n",
            "_________________________________________________________________\n",
            "conv3d_1 (Conv3D)            (None, 10, 80, 80, 32)    13856     \n",
            "_________________________________________________________________\n",
            "activation_1 (Activation)    (None, 10, 80, 80, 32)    0         \n",
            "_________________________________________________________________\n",
            "batch_normalization_1 (Batch (None, 10, 80, 80, 32)    128       \n",
            "_________________________________________________________________\n",
            "max_pooling3d_1 (MaxPooling3 (None, 5, 40, 40, 32)     0         \n",
            "_________________________________________________________________\n",
            "conv3d_2 (Conv3D)            (None, 5, 40, 40, 64)     55360     \n",
            "_________________________________________________________________\n",
            "activation_2 (Activation)    (None, 5, 40, 40, 64)     0         \n",
            "_________________________________________________________________\n",
            "batch_normalization_2 (Batch (None, 5, 40, 40, 64)     256       \n",
            "_________________________________________________________________\n",
            "max_pooling3d_2 (MaxPooling3 (None, 2, 20, 20, 64)     0         \n",
            "_________________________________________________________________\n",
            "conv3d_3 (Conv3D)            (None, 2, 20, 20, 128)    221312    \n",
            "_________________________________________________________________\n",
            "activation_3 (Activation)    (None, 2, 20, 20, 128)    0         \n",
            "_________________________________________________________________\n",
            "batch_normalization_3 (Batch (None, 2, 20, 20, 128)    512       \n",
            "_________________________________________________________________\n",
            "max_pooling3d_3 (MaxPooling3 (None, 1, 10, 10, 128)    0         \n",
            "_________________________________________________________________\n",
            "flatten (Flatten)            (None, 12800)             0         \n",
            "_________________________________________________________________\n",
            "dense (Dense)                (None, 256)               3277056   \n",
            "_________________________________________________________________\n",
            "batch_normalization_4 (Batch (None, 256)               1024      \n",
            "_________________________________________________________________\n",
            "dropout (Dropout)            (None, 256)               0         \n",
            "_________________________________________________________________\n",
            "dense_1 (Dense)              (None, 256)               65792     \n",
            "_________________________________________________________________\n",
            "batch_normalization_5 (Batch (None, 256)               1024      \n",
            "_________________________________________________________________\n",
            "dropout_1 (Dropout)          (None, 256)               0         \n",
            "_________________________________________________________________\n",
            "dense_2 (Dense)              (None, 5)                 1285      \n",
            "=================================================================\n",
            "Total params: 3,638,981\n",
            "Trainable params: 3,637,477\n",
            "Non-trainable params: 1,504\n",
            "_________________________________________________________________\n"
          ],
          "name": "stdout"
        }
      ]
    },
    {
      "cell_type": "code",
      "metadata": {
        "id": "PCx8waqu3PY9",
        "colab": {
          "base_uri": "https://localhost:8080/"
        },
        "outputId": "a994c524-14b9-4ae9-bb34-02edf9d41591"
      },
      "source": [
        "print(\"Total Params:\", Conv3D2_model.count_params())\r\n",
        "accuracy_check_model_2=Conv3D2.train_model(Conv3D2_model,augment_data=True)"
      ],
      "execution_count": 37,
      "outputs": [
        {
          "output_type": "stream",
          "text": [
            "Total Params: 3638981\n",
            "WARNING:tensorflow:`period` argument is deprecated. Please use `save_freq` to specify the frequency in number of batches seen.\n",
            "Epoch 1/25\n",
            "34/34 [==============================] - ETA: 0s - batch: 16.5000 - size: 39.0000 - loss: 1.9153 - categorical_accuracy: 0.3884\n",
            "Epoch 00001: saving model to model_init_2021-03-1808_44_32.757676/model-00001-1.91526-0.38839-2.50934-0.25000.h5\n",
            "48\n",
            "34/34 [==============================] - 317s 9s/step - batch: 16.5000 - size: 39.0000 - loss: 1.9153 - categorical_accuracy: 0.3884 - val_loss: 2.5093 - val_categorical_accuracy: 0.2500\n",
            "Epoch 2/25\n",
            "34/34 [==============================] - ETA: 0s - batch: 16.5000 - size: 39.0000 - loss: 1.5199 - categorical_accuracy: 0.4834\n",
            "Epoch 00002: saving model to model_init_2021-03-1808_44_32.757676/model-00002-1.51989-0.48341-2.88159-0.22000.h5\n",
            "0\n",
            "34/34 [==============================] - 283s 9s/step - batch: 16.5000 - size: 39.0000 - loss: 1.5199 - categorical_accuracy: 0.4834 - val_loss: 2.8816 - val_categorical_accuracy: 0.2200\n",
            "Epoch 3/25\n",
            "34/34 [==============================] - ETA: 0s - batch: 16.5000 - size: 39.0000 - loss: 1.2978 - categorical_accuracy: 0.5528\n",
            "Epoch 00003: saving model to model_init_2021-03-1808_44_32.757676/model-00003-1.29784-0.55279-3.15344-0.23000.h5\n",
            "0\n",
            "34/34 [==============================] - 288s 9s/step - batch: 16.5000 - size: 39.0000 - loss: 1.2978 - categorical_accuracy: 0.5528 - val_loss: 3.1534 - val_categorical_accuracy: 0.2300\n",
            "Epoch 4/25\n",
            "34/34 [==============================] - ETA: 0s - batch: 16.5000 - size: 39.0000 - loss: 1.0734 - categorical_accuracy: 0.6116\n",
            "Epoch 00004: saving model to model_init_2021-03-1808_44_32.757676/model-00004-1.07339-0.61161-5.24045-0.18000.h5\n",
            "0\n",
            "34/34 [==============================] - 284s 9s/step - batch: 16.5000 - size: 39.0000 - loss: 1.0734 - categorical_accuracy: 0.6116 - val_loss: 5.2404 - val_categorical_accuracy: 0.1800\n",
            "Epoch 5/25\n",
            "34/34 [==============================] - ETA: 0s - batch: 16.5000 - size: 39.0000 - loss: 0.9570 - categorical_accuracy: 0.6584\n",
            "Epoch 00005: saving model to model_init_2021-03-1808_44_32.757676/model-00005-0.95703-0.65837-4.14938-0.20000.h5\n",
            "\n",
            "Epoch 00005: ReduceLROnPlateau reducing learning rate to 0.00020000000949949026.\n",
            "0\n",
            "34/34 [==============================] - 285s 9s/step - batch: 16.5000 - size: 39.0000 - loss: 0.9570 - categorical_accuracy: 0.6584 - val_loss: 4.1494 - val_categorical_accuracy: 0.2000\n",
            "Epoch 6/25\n",
            "34/34 [==============================] - ETA: 0s - batch: 16.5000 - size: 39.0000 - loss: 0.7864 - categorical_accuracy: 0.7059\n",
            "Epoch 00006: saving model to model_init_2021-03-1808_44_32.757676/model-00006-0.78645-0.70588-3.36658-0.21000.h5\n",
            "0\n",
            "34/34 [==============================] - 285s 9s/step - batch: 16.5000 - size: 39.0000 - loss: 0.7864 - categorical_accuracy: 0.7059 - val_loss: 3.3666 - val_categorical_accuracy: 0.2100\n",
            "Epoch 7/25\n",
            "34/34 [==============================] - ETA: 0s - batch: 16.5000 - size: 39.0000 - loss: 0.7068 - categorical_accuracy: 0.7232\n",
            "Epoch 00007: saving model to model_init_2021-03-1808_44_32.757676/model-00007-0.70679-0.72323-4.12900-0.20000.h5\n",
            "0\n",
            "34/34 [==============================] - 286s 9s/step - batch: 16.5000 - size: 39.0000 - loss: 0.7068 - categorical_accuracy: 0.7232 - val_loss: 4.1290 - val_categorical_accuracy: 0.2000\n",
            "Epoch 8/25\n",
            "34/34 [==============================] - ETA: 0s - batch: 16.5000 - size: 39.0000 - loss: 0.6457 - categorical_accuracy: 0.7640\n",
            "Epoch 00008: saving model to model_init_2021-03-1808_44_32.757676/model-00008-0.64570-0.76395-3.11921-0.25000.h5\n",
            "0\n",
            "34/34 [==============================] - 280s 8s/step - batch: 16.5000 - size: 39.0000 - loss: 0.6457 - categorical_accuracy: 0.7640 - val_loss: 3.1192 - val_categorical_accuracy: 0.2500\n",
            "Epoch 9/25\n",
            "34/34 [==============================] - ETA: 0s - batch: 16.5000 - size: 39.0000 - loss: 0.7173 - categorical_accuracy: 0.7700\n",
            "Epoch 00009: saving model to model_init_2021-03-1808_44_32.757676/model-00009-0.71732-0.76998-3.20215-0.26000.h5\n",
            "\n",
            "Epoch 00009: ReduceLROnPlateau reducing learning rate to 4.0000001899898055e-05.\n",
            "0\n",
            "34/34 [==============================] - 291s 9s/step - batch: 16.5000 - size: 39.0000 - loss: 0.7173 - categorical_accuracy: 0.7700 - val_loss: 3.2022 - val_categorical_accuracy: 0.2600\n",
            "Epoch 10/25\n",
            "34/34 [==============================] - ETA: 0s - batch: 16.5000 - size: 39.0000 - loss: 0.6426 - categorical_accuracy: 0.7753\n",
            "Epoch 00010: saving model to model_init_2021-03-1808_44_32.757676/model-00010-0.64264-0.77526-2.97395-0.29000.h5\n",
            "0\n",
            "34/34 [==============================] - 282s 9s/step - batch: 16.5000 - size: 39.0000 - loss: 0.6426 - categorical_accuracy: 0.7753 - val_loss: 2.9739 - val_categorical_accuracy: 0.2900\n",
            "Epoch 11/25\n",
            "34/34 [==============================] - ETA: 0s - batch: 16.5000 - size: 39.0000 - loss: 0.6202 - categorical_accuracy: 0.7722\n",
            "Epoch 00011: saving model to model_init_2021-03-1808_44_32.757676/model-00011-0.62021-0.77225-2.79194-0.36000.h5\n",
            "0\n",
            "34/34 [==============================] - 287s 9s/step - batch: 16.5000 - size: 39.0000 - loss: 0.6202 - categorical_accuracy: 0.7722 - val_loss: 2.7919 - val_categorical_accuracy: 0.3600\n",
            "Epoch 12/25\n",
            "34/34 [==============================] - ETA: 0s - batch: 16.5000 - size: 39.0000 - loss: 0.6247 - categorical_accuracy: 0.7836\n",
            "Epoch 00012: saving model to model_init_2021-03-1808_44_32.757676/model-00012-0.62469-0.78356-2.47158-0.39000.h5\n",
            "0\n",
            "34/34 [==============================] - 289s 9s/step - batch: 16.5000 - size: 39.0000 - loss: 0.6247 - categorical_accuracy: 0.7836 - val_loss: 2.4716 - val_categorical_accuracy: 0.3900\n",
            "Epoch 13/25\n",
            "34/34 [==============================] - ETA: 0s - batch: 16.5000 - size: 39.0000 - loss: 0.5803 - categorical_accuracy: 0.7881\n",
            "Epoch 00013: saving model to model_init_2021-03-1808_44_32.757676/model-00013-0.58034-0.78808-2.02131-0.38000.h5\n",
            "0\n",
            "34/34 [==============================] - 284s 9s/step - batch: 16.5000 - size: 39.0000 - loss: 0.5803 - categorical_accuracy: 0.7881 - val_loss: 2.0213 - val_categorical_accuracy: 0.3800\n",
            "Epoch 14/25\n",
            "34/34 [==============================] - ETA: 0s - batch: 16.5000 - size: 39.0000 - loss: 0.5062 - categorical_accuracy: 0.8032\n",
            "Epoch 00014: saving model to model_init_2021-03-1808_44_32.757676/model-00014-0.50623-0.80317-2.09636-0.39000.h5\n",
            "0\n",
            "34/34 [==============================] - 287s 9s/step - batch: 16.5000 - size: 39.0000 - loss: 0.5062 - categorical_accuracy: 0.8032 - val_loss: 2.0964 - val_categorical_accuracy: 0.3900\n",
            "Epoch 15/25\n",
            "34/34 [==============================] - ETA: 0s - batch: 16.5000 - size: 39.0000 - loss: 0.5244 - categorical_accuracy: 0.8152\n",
            "Epoch 00015: saving model to model_init_2021-03-1808_44_32.757676/model-00015-0.52438-0.81523-1.58466-0.50000.h5\n",
            "0\n",
            "34/34 [==============================] - 286s 9s/step - batch: 16.5000 - size: 39.0000 - loss: 0.5244 - categorical_accuracy: 0.8152 - val_loss: 1.5847 - val_categorical_accuracy: 0.5000\n",
            "Epoch 16/25\n",
            "34/34 [==============================] - ETA: 0s - batch: 16.5000 - size: 39.0000 - loss: 0.5192 - categorical_accuracy: 0.8145\n",
            "Epoch 00016: saving model to model_init_2021-03-1808_44_32.757676/model-00016-0.51918-0.81448-1.45409-0.49000.h5\n",
            "0\n",
            "34/34 [==============================] - 292s 9s/step - batch: 16.5000 - size: 39.0000 - loss: 0.5192 - categorical_accuracy: 0.8145 - val_loss: 1.4541 - val_categorical_accuracy: 0.4900\n",
            "Epoch 17/25\n",
            "34/34 [==============================] - ETA: 0s - batch: 16.5000 - size: 39.0000 - loss: 0.5409 - categorical_accuracy: 0.8017\n",
            "Epoch 00017: saving model to model_init_2021-03-1808_44_32.757676/model-00017-0.54091-0.80166-1.18806-0.54000.h5\n",
            "0\n",
            "34/34 [==============================] - 294s 9s/step - batch: 16.5000 - size: 39.0000 - loss: 0.5409 - categorical_accuracy: 0.8017 - val_loss: 1.1881 - val_categorical_accuracy: 0.5400\n",
            "Epoch 18/25\n",
            "34/34 [==============================] - ETA: 0s - batch: 16.5000 - size: 39.0000 - loss: 0.4893 - categorical_accuracy: 0.8122\n",
            "Epoch 00018: saving model to model_init_2021-03-1808_44_32.757676/model-00018-0.48930-0.81222-1.19101-0.59000.h5\n",
            "0\n",
            "34/34 [==============================] - 295s 9s/step - batch: 16.5000 - size: 39.0000 - loss: 0.4893 - categorical_accuracy: 0.8122 - val_loss: 1.1910 - val_categorical_accuracy: 0.5900\n",
            "Epoch 19/25\n",
            "34/34 [==============================] - ETA: 0s - batch: 16.5000 - size: 39.0000 - loss: 0.5122 - categorical_accuracy: 0.8190\n",
            "Epoch 00019: saving model to model_init_2021-03-1808_44_32.757676/model-00019-0.51218-0.81900-0.70517-0.72000.h5\n",
            "0\n",
            "34/34 [==============================] - 291s 9s/step - batch: 16.5000 - size: 39.0000 - loss: 0.5122 - categorical_accuracy: 0.8190 - val_loss: 0.7052 - val_categorical_accuracy: 0.7200\n",
            "Epoch 20/25\n",
            "34/34 [==============================] - ETA: 0s - batch: 16.5000 - size: 39.0000 - loss: 0.4913 - categorical_accuracy: 0.8273\n",
            "Epoch 00020: saving model to model_init_2021-03-1808_44_32.757676/model-00020-0.49126-0.82730-0.83184-0.70000.h5\n",
            "0\n",
            "34/34 [==============================] - 292s 9s/step - batch: 16.5000 - size: 39.0000 - loss: 0.4913 - categorical_accuracy: 0.8273 - val_loss: 0.8318 - val_categorical_accuracy: 0.7000\n",
            "Epoch 21/25\n",
            "34/34 [==============================] - ETA: 0s - batch: 16.5000 - size: 39.0000 - loss: 0.4855 - categorical_accuracy: 0.8183\n",
            "Epoch 00021: saving model to model_init_2021-03-1808_44_32.757676/model-00021-0.48548-0.81825-0.72225-0.78000.h5\n",
            "0\n",
            "34/34 [==============================] - 297s 9s/step - batch: 16.5000 - size: 39.0000 - loss: 0.4855 - categorical_accuracy: 0.8183 - val_loss: 0.7223 - val_categorical_accuracy: 0.7800\n",
            "Epoch 22/25\n",
            "34/34 [==============================] - ETA: 0s - batch: 16.5000 - size: 39.0000 - loss: 0.4613 - categorical_accuracy: 0.8371\n",
            "Epoch 00022: saving model to model_init_2021-03-1808_44_32.757676/model-00022-0.46134-0.83710-0.65910-0.79000.h5\n",
            "0\n",
            "34/34 [==============================] - 295s 9s/step - batch: 16.5000 - size: 39.0000 - loss: 0.4613 - categorical_accuracy: 0.8371 - val_loss: 0.6591 - val_categorical_accuracy: 0.7900\n",
            "Epoch 23/25\n",
            "34/34 [==============================] - ETA: 0s - batch: 16.5000 - size: 39.0000 - loss: 0.4257 - categorical_accuracy: 0.8356\n",
            "Epoch 00023: saving model to model_init_2021-03-1808_44_32.757676/model-00023-0.42567-0.83560-0.65071-0.78000.h5\n",
            "0\n",
            "34/34 [==============================] - 296s 9s/step - batch: 16.5000 - size: 39.0000 - loss: 0.4257 - categorical_accuracy: 0.8356 - val_loss: 0.6507 - val_categorical_accuracy: 0.7800\n",
            "Epoch 24/25\n",
            "34/34 [==============================] - ETA: 0s - batch: 16.5000 - size: 39.0000 - loss: 0.4545 - categorical_accuracy: 0.8409\n",
            "Epoch 00024: saving model to model_init_2021-03-1808_44_32.757676/model-00024-0.45450-0.84087-0.57773-0.76000.h5\n",
            "0\n",
            "34/34 [==============================] - 296s 9s/step - batch: 16.5000 - size: 39.0000 - loss: 0.4545 - categorical_accuracy: 0.8409 - val_loss: 0.5777 - val_categorical_accuracy: 0.7600\n",
            "Epoch 25/25\n",
            "34/34 [==============================] - ETA: 0s - batch: 16.5000 - size: 39.0000 - loss: 0.4309 - categorical_accuracy: 0.8477\n",
            "Epoch 00025: saving model to model_init_2021-03-1808_44_32.757676/model-00025-0.43093-0.84766-0.73418-0.74000.h5\n",
            "0\n",
            "34/34 [==============================] - 297s 9s/step - batch: 16.5000 - size: 39.0000 - loss: 0.4309 - categorical_accuracy: 0.8477 - val_loss: 0.7342 - val_categorical_accuracy: 0.7400\n"
          ],
          "name": "stdout"
        }
      ]
    },
    {
      "cell_type": "code",
      "metadata": {
        "id": "PXZ8sThy3XSr",
        "colab": {
          "base_uri": "https://localhost:8080/",
          "height": 265
        },
        "outputId": "0e12e003-5913-4037-81af-9b0e6c2ada9a"
      },
      "source": [
        "plot(accuracy_check_model_2)"
      ],
      "execution_count": 38,
      "outputs": [
        {
          "output_type": "display_data",
          "data": {
            "image/png": "[encoded data removed]",
            "text/plain": [
              "<Figure size 1080x288 with 2 Axes>"
            ]
          },
          "metadata": {
            "tags": [],
            "needs_background": "light"
          }
        }
      ]
    },
    {
      "cell_type": "markdown",
      "metadata": {
        "id": "ldsJg52PTDPq"
      },
      "source": [
        "Model is not overfitting and we get a best validation accuracy of ~80% and training accuracy of ~82%. Next we will try to reduce the filter size and image resolution and see if get better results. Moreover since we see minor oscillations in loss, let's try lowering the learning rate to 0.0002"
      ]
    },
    {
      "cell_type": "code",
      "metadata": {
        "id": "mDO0BmuThfN_"
      },
      "source": [
        "Conv3D2.clear_session(Conv3D2_model)"
      ],
      "execution_count": 39,
      "outputs": []
    },
    {
      "cell_type": "markdown",
      "metadata": {
        "id": "_qrMlLsVTSA7"
      },
      "source": [
        "## Model 3 - Reduce filter size to (2,2,2) and image res to 120 x 120"
      ]
    },
    {
      "cell_type": "code",
      "metadata": {
        "id": "vkPpJFg3TRLh"
      },
      "source": [
        "class ModelConv3D3(ModelBuilder):\r\n",
        "    \r\n",
        "    def define_model(self,filtersize=(3,3,3),dense_neurons=64,dropout=0.25):\r\n",
        "\r\n",
        "        model = Sequential()\r\n",
        "        model.add(Conv3D(16, filtersize, padding='same',\r\n",
        "                 input_shape=(self.frames_to_sample,self.image_height,self.image_width,self.channels)))\r\n",
        "        model.add(Activation('relu'))\r\n",
        "        model.add(BatchNormalization())\r\n",
        "        model.add(MaxPooling3D(pool_size=(2, 2, 2)))\r\n",
        "\r\n",
        "        model.add(Conv3D(32, filtersize, padding='same'))\r\n",
        "        model.add(Activation('relu'))\r\n",
        "        model.add(BatchNormalization())\r\n",
        "        model.add(MaxPooling3D(pool_size=(2, 2, 2)))\r\n",
        "\r\n",
        "        model.add(Conv3D(64, filtersize, padding='same'))\r\n",
        "        model.add(Activation('relu'))\r\n",
        "        model.add(BatchNormalization())\r\n",
        "        model.add(MaxPooling3D(pool_size=(2, 2, 2)))\r\n",
        "\r\n",
        "        model.add(Conv3D(128, filtersize, padding='same'))\r\n",
        "        model.add(Activation('relu'))\r\n",
        "        model.add(BatchNormalization())\r\n",
        "        model.add(MaxPooling3D(pool_size=(2, 2, 2)))\r\n",
        "\r\n",
        "        model.add(Flatten())\r\n",
        "        model.add(Dense(dense_neurons,activation='relu'))\r\n",
        "        model.add(BatchNormalization())\r\n",
        "        model.add(Dropout(dropout))\r\n",
        "\r\n",
        "        model.add(Dense(dense_neurons,activation='relu'))\r\n",
        "        model.add(BatchNormalization())\r\n",
        "        model.add(Dropout(dropout))\r\n",
        "\r\n",
        "\r\n",
        "        model.add(Dense(self.num_classes,activation='softmax'))\r\n",
        "\r\n",
        "        optimiser = optimizers.Adam(lr=0.0002)\r\n",
        "        model.compile(optimizer=optimiser, loss='categorical_crossentropy', metrics=['categorical_accuracy'])\r\n",
        "        return model"
      ],
      "execution_count": 40,
      "outputs": []
    },
    {
      "cell_type": "code",
      "metadata": {
        "id": "lk9L9pt7UBB1",
        "colab": {
          "base_uri": "https://localhost:8080/"
        },
        "outputId": "69d18af2-8a16-486b-a72a-72bbdcd0f3c5"
      },
      "source": [
        "\r\n",
        "Conv3D3=ModelConv3D3()\r\n",
        "Conv3D3.initialize_src_path(main_folder)\r\n",
        "Conv3D3.initialize_image_properties(image_height=120,image_width=120)\r\n",
        "Conv3D3.initialize_hyperparams(frames_to_sample=16,batch_size=30,num_epochs=30)\r\n",
        "Conv3D3_model=Conv3D3.define_model(filtersize=(2,2,2),dense_neurons=256,dropout=0.5)\r\n",
        "Conv3D3_model.summary()"
      ],
      "execution_count": 41,
      "outputs": [
        {
          "output_type": "stream",
          "text": [
            "Model: \"sequential\"\n",
            "_________________________________________________________________\n",
            "Layer (type)                 Output Shape              Param #   \n",
            "=================================================================\n",
            "conv3d (Conv3D)              (None, 16, 120, 120, 16)  400       \n",
            "_________________________________________________________________\n",
            "activation (Activation)      (None, 16, 120, 120, 16)  0         \n",
            "_________________________________________________________________\n",
            "batch_normalization (BatchNo (None, 16, 120, 120, 16)  64        \n",
            "_________________________________________________________________\n",
            "max_pooling3d (MaxPooling3D) (None, 8, 60, 60, 16)     0         \n",
            "_________________________________________________________________\n",
            "conv3d_1 (Conv3D)            (None, 8, 60, 60, 32)     4128      \n",
            "_________________________________________________________________\n",
            "activation_1 (Activation)    (None, 8, 60, 60, 32)     0         \n",
            "_________________________________________________________________\n",
            "batch_normalization_1 (Batch (None, 8, 60, 60, 32)     128       \n",
            "_________________________________________________________________\n",
            "max_pooling3d_1 (MaxPooling3 (None, 4, 30, 30, 32)     0         \n",
            "_________________________________________________________________\n",
            "conv3d_2 (Conv3D)            (None, 4, 30, 30, 64)     16448     \n",
            "_________________________________________________________________\n",
            "activation_2 (Activation)    (None, 4, 30, 30, 64)     0         \n",
            "_________________________________________________________________\n",
            "batch_normalization_2 (Batch (None, 4, 30, 30, 64)     256       \n",
            "_________________________________________________________________\n",
            "max_pooling3d_2 (MaxPooling3 (None, 2, 15, 15, 64)     0         \n",
            "_________________________________________________________________\n",
            "conv3d_3 (Conv3D)            (None, 2, 15, 15, 128)    65664     \n",
            "_________________________________________________________________\n",
            "activation_3 (Activation)    (None, 2, 15, 15, 128)    0         \n",
            "_________________________________________________________________\n",
            "batch_normalization_3 (Batch (None, 2, 15, 15, 128)    512       \n",
            "_________________________________________________________________\n",
            "max_pooling3d_3 (MaxPooling3 (None, 1, 7, 7, 128)      0         \n",
            "_________________________________________________________________\n",
            "flatten (Flatten)            (None, 6272)              0         \n",
            "_________________________________________________________________\n",
            "dense (Dense)                (None, 256)               1605888   \n",
            "_________________________________________________________________\n",
            "batch_normalization_4 (Batch (None, 256)               1024      \n",
            "_________________________________________________________________\n",
            "dropout (Dropout)            (None, 256)               0         \n",
            "_________________________________________________________________\n",
            "dense_1 (Dense)              (None, 256)               65792     \n",
            "_________________________________________________________________\n",
            "batch_normalization_5 (Batch (None, 256)               1024      \n",
            "_________________________________________________________________\n",
            "dropout_1 (Dropout)          (None, 256)               0         \n",
            "_________________________________________________________________\n",
            "dense_2 (Dense)              (None, 5)                 1285      \n",
            "=================================================================\n",
            "Total params: 1,762,613\n",
            "Trainable params: 1,761,109\n",
            "Non-trainable params: 1,504\n",
            "_________________________________________________________________\n"
          ],
          "name": "stdout"
        }
      ]
    },
    {
      "cell_type": "code",
      "metadata": {
        "id": "WW17sf6iUcQh",
        "colab": {
          "base_uri": "https://localhost:8080/"
        },
        "outputId": "611c850f-f2a5-463e-db15-4c6d06b3f30f"
      },
      "source": [
        "##tf.compat.v1.enable_eager_execution()\r\n",
        "print(tf.executing_eagerly())\r\n",
        "print(\"Total Params:\", Conv3D3_model.count_params())\r\n",
        "accuracy_check_model_3=Conv3D3.train_model(Conv3D3_model,augment_data=True)"
      ],
      "execution_count": 42,
      "outputs": [
        {
          "output_type": "stream",
          "text": [
            "False\n",
            "Total Params: 1762613\n",
            "WARNING:tensorflow:`period` argument is deprecated. Please use `save_freq` to specify the frequency in number of batches seen.\n",
            "Epoch 1/30\n",
            "23/23 [==============================] - ETA: 0s - batch: 11.0000 - size: 57.6522 - loss: 2.0339 - categorical_accuracy: 0.3273\n",
            "Epoch 00001: saving model to model_init_2021-03-1810_45_35.948922/model-00001-2.03394-0.32730-1.93828-0.16000.h5\n",
            "48\n",
            "23/23 [==============================] - 226s 9s/step - batch: 11.0000 - size: 57.6522 - loss: 2.0339 - categorical_accuracy: 0.3273 - val_loss: 1.9383 - val_categorical_accuracy: 0.1600\n",
            "Epoch 2/30\n",
            "23/23 [==============================] - ETA: 0s - batch: 11.0000 - size: 57.6522 - loss: 1.5302 - categorical_accuracy: 0.4902\n",
            "Epoch 00002: saving model to model_init_2021-03-1810_45_35.948922/model-00002-1.53022-0.49020-2.92452-0.20000.h5\n",
            "0\n",
            "23/23 [==============================] - 214s 10s/step - batch: 11.0000 - size: 57.6522 - loss: 1.5302 - categorical_accuracy: 0.4902 - val_loss: 2.9245 - val_categorical_accuracy: 0.2000\n",
            "Epoch 3/30\n",
            "23/23 [==============================] - ETA: 0s - batch: 11.0000 - size: 57.6522 - loss: 1.2220 - categorical_accuracy: 0.5686\n",
            "Epoch 00003: saving model to model_init_2021-03-1810_45_35.948922/model-00003-1.22204-0.56863-4.63233-0.11000.h5\n",
            "0\n",
            "23/23 [==============================] - 205s 9s/step - batch: 11.0000 - size: 57.6522 - loss: 1.2220 - categorical_accuracy: 0.5686 - val_loss: 4.6323 - val_categorical_accuracy: 0.1100\n",
            "Epoch 4/30\n",
            "23/23 [==============================] - ETA: 0s - batch: 11.0000 - size: 57.6522 - loss: 1.1600 - categorical_accuracy: 0.6026\n",
            "Epoch 00004: saving model to model_init_2021-03-1810_45_35.948922/model-00004-1.15997-0.60256-4.91638-0.18000.h5\n",
            "0\n",
            "23/23 [==============================] - 208s 9s/step - batch: 11.0000 - size: 57.6522 - loss: 1.1600 - categorical_accuracy: 0.6026 - val_loss: 4.9164 - val_categorical_accuracy: 0.1800\n",
            "Epoch 5/30\n",
            "23/23 [==============================] - ETA: 0s - batch: 11.0000 - size: 57.6522 - loss: 1.1782 - categorical_accuracy: 0.6357\n",
            "Epoch 00005: saving model to model_init_2021-03-1810_45_35.948922/model-00005-1.17824-0.63575-6.06563-0.16000.h5\n",
            "\n",
            "Epoch 00005: ReduceLROnPlateau reducing learning rate to 3.9999998989515007e-05.\n",
            "0\n",
            "23/23 [==============================] - 208s 9s/step - batch: 11.0000 - size: 57.6522 - loss: 1.1782 - categorical_accuracy: 0.6357 - val_loss: 6.0656 - val_categorical_accuracy: 0.1600\n",
            "Epoch 6/30\n",
            "23/23 [==============================] - ETA: 0s - batch: 11.0000 - size: 57.6522 - loss: 0.9633 - categorical_accuracy: 0.6531\n",
            "Epoch 00006: saving model to model_init_2021-03-1810_45_35.948922/model-00006-0.96328-0.65309-6.63700-0.15000.h5\n",
            "0\n",
            "23/23 [==============================] - 205s 9s/step - batch: 11.0000 - size: 57.6522 - loss: 0.9633 - categorical_accuracy: 0.6531 - val_loss: 6.6370 - val_categorical_accuracy: 0.1500\n",
            "Epoch 7/30\n",
            "23/23 [==============================] - ETA: 0s - batch: 11.0000 - size: 57.6522 - loss: 0.9490 - categorical_accuracy: 0.6674\n",
            "Epoch 00007: saving model to model_init_2021-03-1810_45_35.948922/model-00007-0.94904-0.66742-7.54543-0.14000.h5\n",
            "0\n",
            "23/23 [==============================] - 203s 9s/step - batch: 11.0000 - size: 57.6522 - loss: 0.9490 - categorical_accuracy: 0.6674 - val_loss: 7.5454 - val_categorical_accuracy: 0.1400\n",
            "Epoch 8/30\n",
            "23/23 [==============================] - ETA: 0s - batch: 11.0000 - size: 57.6522 - loss: 0.9197 - categorical_accuracy: 0.6893\n",
            "Epoch 00008: saving model to model_init_2021-03-1810_45_35.948922/model-00008-0.91972-0.68929-7.10873-0.19000.h5\n",
            "0\n",
            "23/23 [==============================] - 206s 9s/step - batch: 11.0000 - size: 57.6522 - loss: 0.9197 - categorical_accuracy: 0.6893 - val_loss: 7.1087 - val_categorical_accuracy: 0.1900\n",
            "Epoch 9/30\n",
            "23/23 [==============================] - ETA: 0s - batch: 11.0000 - size: 57.6522 - loss: 0.9329 - categorical_accuracy: 0.6780\n",
            "Epoch 00009: saving model to model_init_2021-03-1810_45_35.948922/model-00009-0.93285-0.67798-8.59108-0.23000.h5\n",
            "\n",
            "Epoch 00009: ReduceLROnPlateau reducing learning rate to 7.999999797903002e-06.\n",
            "0\n",
            "23/23 [==============================] - 202s 9s/step - batch: 11.0000 - size: 57.6522 - loss: 0.9329 - categorical_accuracy: 0.6780 - val_loss: 8.5911 - val_categorical_accuracy: 0.2300\n",
            "Epoch 10/30\n",
            "23/23 [==============================] - ETA: 0s - batch: 11.0000 - size: 57.6522 - loss: 0.8575 - categorical_accuracy: 0.6923\n",
            "Epoch 00010: saving model to model_init_2021-03-1810_45_35.948922/model-00010-0.85749-0.69231-8.57042-0.18000.h5\n",
            "0\n",
            "23/23 [==============================] - 204s 9s/step - batch: 11.0000 - size: 57.6522 - loss: 0.8575 - categorical_accuracy: 0.6923 - val_loss: 8.5704 - val_categorical_accuracy: 0.1800\n",
            "Epoch 11/30\n",
            "23/23 [==============================] - ETA: 0s - batch: 11.0000 - size: 57.6522 - loss: 0.8946 - categorical_accuracy: 0.6968\n",
            "Epoch 00011: saving model to model_init_2021-03-1810_45_35.948922/model-00011-0.89460-0.69683-8.49368-0.20000.h5\n",
            "0\n",
            "23/23 [==============================] - 198s 9s/step - batch: 11.0000 - size: 57.6522 - loss: 0.8946 - categorical_accuracy: 0.6968 - val_loss: 8.4937 - val_categorical_accuracy: 0.2000\n",
            "Epoch 12/30\n",
            "23/23 [==============================] - ETA: 0s - batch: 11.0000 - size: 57.6522 - loss: 0.9767 - categorical_accuracy: 0.6840\n",
            "Epoch 00012: saving model to model_init_2021-03-1810_45_35.948922/model-00012-0.97675-0.68401-8.86418-0.25000.h5\n",
            "0\n",
            "23/23 [==============================] - 197s 9s/step - batch: 11.0000 - size: 57.6522 - loss: 0.9767 - categorical_accuracy: 0.6840 - val_loss: 8.8642 - val_categorical_accuracy: 0.2500\n",
            "Epoch 13/30\n",
            "23/23 [==============================] - ETA: 0s - batch: 11.0000 - size: 57.6522 - loss: 0.8683 - categorical_accuracy: 0.6953\n",
            "Epoch 00013: saving model to model_init_2021-03-1810_45_35.948922/model-00013-0.86834-0.69532-9.27371-0.23000.h5\n",
            "\n",
            "Epoch 00013: ReduceLROnPlateau reducing learning rate to 1.5999999959603884e-06.\n",
            "0\n",
            "23/23 [==============================] - 197s 9s/step - batch: 11.0000 - size: 57.6522 - loss: 0.8683 - categorical_accuracy: 0.6953 - val_loss: 9.2737 - val_categorical_accuracy: 0.2300\n",
            "Epoch 14/30\n",
            "23/23 [==============================] - ETA: 0s - batch: 11.0000 - size: 57.6522 - loss: 0.8241 - categorical_accuracy: 0.6885\n",
            "Epoch 00014: saving model to model_init_2021-03-1810_45_35.948922/model-00014-0.82406-0.68854-8.48292-0.21000.h5\n",
            "0\n",
            "23/23 [==============================] - 198s 9s/step - batch: 11.0000 - size: 57.6522 - loss: 0.8241 - categorical_accuracy: 0.6885 - val_loss: 8.4829 - val_categorical_accuracy: 0.2100\n",
            "Epoch 15/30\n",
            "23/23 [==============================] - ETA: 0s - batch: 11.0000 - size: 57.6522 - loss: 0.8140 - categorical_accuracy: 0.7081\n",
            "Epoch 00015: saving model to model_init_2021-03-1810_45_35.948922/model-00015-0.81398-0.70814-8.04554-0.29000.h5\n",
            "0\n",
            "23/23 [==============================] - 199s 9s/step - batch: 11.0000 - size: 57.6522 - loss: 0.8140 - categorical_accuracy: 0.7081 - val_loss: 8.0455 - val_categorical_accuracy: 0.2900\n",
            "Epoch 16/30\n",
            "23/23 [==============================] - ETA: 0s - batch: 11.0000 - size: 57.6522 - loss: 0.8324 - categorical_accuracy: 0.6953\n",
            "Epoch 00016: saving model to model_init_2021-03-1810_45_35.948922/model-00016-0.83238-0.69532-8.32076-0.22000.h5\n",
            "0\n",
            "23/23 [==============================] - 196s 9s/step - batch: 11.0000 - size: 57.6522 - loss: 0.8324 - categorical_accuracy: 0.6953 - val_loss: 8.3208 - val_categorical_accuracy: 0.2200\n",
            "Epoch 17/30\n",
            "23/23 [==============================] - ETA: 0s - batch: 11.0000 - size: 57.6522 - loss: 0.7922 - categorical_accuracy: 0.7119\n",
            "Epoch 00017: saving model to model_init_2021-03-1810_45_35.948922/model-00017-0.79223-0.71192-7.37222-0.24000.h5\n",
            "\n",
            "Epoch 00017: ReduceLROnPlateau reducing learning rate to 3.200000037395512e-07.\n",
            "0\n",
            "23/23 [==============================] - 198s 9s/step - batch: 11.0000 - size: 57.6522 - loss: 0.7922 - categorical_accuracy: 0.7119 - val_loss: 7.3722 - val_categorical_accuracy: 0.2400\n",
            "Epoch 18/30\n",
            "23/23 [==============================] - ETA: 0s - batch: 11.0000 - size: 57.6522 - loss: 0.8237 - categorical_accuracy: 0.7172\n",
            "Epoch 00018: saving model to model_init_2021-03-1810_45_35.948922/model-00018-0.82367-0.71719-6.95294-0.27000.h5\n",
            "0\n",
            "23/23 [==============================] - 204s 9s/step - batch: 11.0000 - size: 57.6522 - loss: 0.8237 - categorical_accuracy: 0.7172 - val_loss: 6.9529 - val_categorical_accuracy: 0.2700\n",
            "Epoch 19/30\n",
            "23/23 [==============================] - ETA: 0s - batch: 11.0000 - size: 57.6522 - loss: 0.8600 - categorical_accuracy: 0.6931\n",
            "Epoch 00019: saving model to model_init_2021-03-1810_45_35.948922/model-00019-0.85996-0.69306-6.22996-0.25000.h5\n",
            "0\n",
            "23/23 [==============================] - 202s 9s/step - batch: 11.0000 - size: 57.6522 - loss: 0.8600 - categorical_accuracy: 0.6931 - val_loss: 6.2300 - val_categorical_accuracy: 0.2500\n",
            "Epoch 20/30\n",
            "23/23 [==============================] - ETA: 0s - batch: 11.0000 - size: 57.6522 - loss: 0.7701 - categorical_accuracy: 0.7074\n",
            "Epoch 00020: saving model to model_init_2021-03-1810_45_35.948922/model-00020-0.77007-0.70739-5.65764-0.30000.h5\n",
            "0\n",
            "23/23 [==============================] - 202s 9s/step - batch: 11.0000 - size: 57.6522 - loss: 0.7701 - categorical_accuracy: 0.7074 - val_loss: 5.6576 - val_categorical_accuracy: 0.3000\n",
            "Epoch 21/30\n",
            "23/23 [==============================] - ETA: 0s - batch: 11.0000 - size: 57.6522 - loss: 0.8947 - categorical_accuracy: 0.6991\n",
            "Epoch 00021: saving model to model_init_2021-03-1810_45_35.948922/model-00021-0.89470-0.69910-5.22853-0.28000.h5\n",
            "\n",
            "Epoch 00021: ReduceLROnPlateau reducing learning rate to 6.399999961104187e-08.\n",
            "0\n",
            "23/23 [==============================] - 204s 9s/step - batch: 11.0000 - size: 57.6522 - loss: 0.8947 - categorical_accuracy: 0.6991 - val_loss: 5.2285 - val_categorical_accuracy: 0.2800\n",
            "Epoch 22/30\n",
            "23/23 [==============================] - ETA: 0s - batch: 11.0000 - size: 57.6522 - loss: 0.8319 - categorical_accuracy: 0.7006\n",
            "Epoch 00022: saving model to model_init_2021-03-1810_45_35.948922/model-00022-0.83185-0.70060-4.31734-0.27000.h5\n",
            "0\n",
            "23/23 [==============================] - 205s 9s/step - batch: 11.0000 - size: 57.6522 - loss: 0.8319 - categorical_accuracy: 0.7006 - val_loss: 4.3173 - val_categorical_accuracy: 0.2700\n",
            "Epoch 23/30\n",
            "23/23 [==============================] - ETA: 0s - batch: 11.0000 - size: 57.6522 - loss: 0.8247 - categorical_accuracy: 0.7059\n",
            "Epoch 00023: saving model to model_init_2021-03-1810_45_35.948922/model-00023-0.82471-0.70588-4.44665-0.26000.h5\n",
            "0\n",
            "23/23 [==============================] - 202s 9s/step - batch: 11.0000 - size: 57.6522 - loss: 0.8247 - categorical_accuracy: 0.7059 - val_loss: 4.4466 - val_categorical_accuracy: 0.2600\n",
            "Epoch 24/30\n",
            "23/23 [==============================] - ETA: 0s - batch: 11.0000 - size: 57.6522 - loss: 0.8029 - categorical_accuracy: 0.7112\n",
            "Epoch 00024: saving model to model_init_2021-03-1810_45_35.948922/model-00024-0.80289-0.71116-3.04763-0.36000.h5\n",
            "0\n",
            "23/23 [==============================] - 201s 9s/step - batch: 11.0000 - size: 57.6522 - loss: 0.8029 - categorical_accuracy: 0.7112 - val_loss: 3.0476 - val_categorical_accuracy: 0.3600\n",
            "Epoch 25/30\n",
            "23/23 [==============================] - ETA: 0s - batch: 11.0000 - size: 57.6522 - loss: 0.8733 - categorical_accuracy: 0.7044\n",
            "Epoch 00025: saving model to model_init_2021-03-1810_45_35.948922/model-00025-0.87326-0.70437-2.88967-0.35000.h5\n",
            "\n",
            "Epoch 00025: ReduceLROnPlateau reducing learning rate to 1.2799999637991278e-08.\n",
            "0\n",
            "23/23 [==============================] - 204s 9s/step - batch: 11.0000 - size: 57.6522 - loss: 0.8733 - categorical_accuracy: 0.7044 - val_loss: 2.8897 - val_categorical_accuracy: 0.3500\n",
            "Epoch 26/30\n",
            "23/23 [==============================] - ETA: 0s - batch: 11.0000 - size: 57.6522 - loss: 0.8096 - categorical_accuracy: 0.7210\n",
            "Epoch 00026: saving model to model_init_2021-03-1810_45_35.948922/model-00026-0.80956-0.72097-2.21455-0.34000.h5\n",
            "0\n",
            "23/23 [==============================] - 205s 9s/step - batch: 11.0000 - size: 57.6522 - loss: 0.8096 - categorical_accuracy: 0.7210 - val_loss: 2.2145 - val_categorical_accuracy: 0.3400\n",
            "Epoch 27/30\n",
            "23/23 [==============================] - ETA: 0s - batch: 11.0000 - size: 57.6522 - loss: 0.7915 - categorical_accuracy: 0.7164\n",
            "Epoch 00027: saving model to model_init_2021-03-1810_45_35.948922/model-00027-0.79153-0.71644-2.06719-0.43000.h5\n",
            "0\n",
            "23/23 [==============================] - 205s 9s/step - batch: 11.0000 - size: 57.6522 - loss: 0.7915 - categorical_accuracy: 0.7164 - val_loss: 2.0672 - val_categorical_accuracy: 0.4300\n",
            "Epoch 28/30\n",
            "23/23 [==============================] - ETA: 0s - batch: 11.0000 - size: 57.6522 - loss: 0.8628 - categorical_accuracy: 0.6946\n",
            "Epoch 00028: saving model to model_init_2021-03-1810_45_35.948922/model-00028-0.86279-0.69457-1.53971-0.52000.h5\n",
            "0\n",
            "23/23 [==============================] - 203s 9s/step - batch: 11.0000 - size: 57.6522 - loss: 0.8628 - categorical_accuracy: 0.6946 - val_loss: 1.5397 - val_categorical_accuracy: 0.5200\n",
            "Epoch 29/30\n",
            "23/23 [==============================] - ETA: 0s - batch: 11.0000 - size: 57.6522 - loss: 0.8951 - categorical_accuracy: 0.6931\n",
            "Epoch 00029: saving model to model_init_2021-03-1810_45_35.948922/model-00029-0.89511-0.69306-1.55705-0.57000.h5\n",
            "0\n",
            "23/23 [==============================] - 200s 9s/step - batch: 11.0000 - size: 57.6522 - loss: 0.8951 - categorical_accuracy: 0.6931 - val_loss: 1.5570 - val_categorical_accuracy: 0.5700\n",
            "Epoch 30/30\n",
            "23/23 [==============================] - ETA: 0s - batch: 11.0000 - size: 57.6522 - loss: 0.8237 - categorical_accuracy: 0.7006\n",
            "Epoch 00030: saving model to model_init_2021-03-1810_45_35.948922/model-00030-0.82365-0.70060-1.39637-0.58000.h5\n",
            "0\n",
            "23/23 [==============================] - 199s 9s/step - batch: 11.0000 - size: 57.6522 - loss: 0.8237 - categorical_accuracy: 0.7006 - val_loss: 1.3964 - val_categorical_accuracy: 0.5800\n"
          ],
          "name": "stdout"
        }
      ]
    },
    {
      "cell_type": "code",
      "metadata": {
        "id": "7HghaRZtGQB9",
        "colab": {
          "base_uri": "https://localhost:8080/",
          "height": 265
        },
        "outputId": "121bb5f3-d80a-435f-cf76-866056db2cb3"
      },
      "source": [
        "plot(accuracy_check_model_3)"
      ],
      "execution_count": 43,
      "outputs": [
        {
          "output_type": "display_data",
          "data": {
            "image/png": "[encoded data removed]",
            "text/plain": [
              "<Figure size 1080x288 with 2 Axes>"
            ]
          },
          "metadata": {
            "tags": [],
            "needs_background": "light"
          }
        }
      ]
    },
    {
      "cell_type": "markdown",
      "metadata": {
        "id": "r0IJgwK77wsF"
      },
      "source": [
        "This Model has a best validation accuracy of 68% and training accuracy of 68% . Also we were able to reduce the parameter size by half the earlier model. Let's trying adding more layers"
      ]
    },
    {
      "cell_type": "code",
      "metadata": {
        "id": "OQ8jW39zjSXp"
      },
      "source": [
        "Conv3D3.clear_session(Conv3D3_model)"
      ],
      "execution_count": 44,
      "outputs": []
    },
    {
      "cell_type": "markdown",
      "metadata": {
        "id": "WW5VAmu9ihlH"
      },
      "source": [
        "## Model 4 - Adding more layers"
      ]
    },
    {
      "cell_type": "code",
      "metadata": {
        "id": "4cyJpLxiitoB"
      },
      "source": [
        "class ModelConv3D4(ModelBuilder):\r\n",
        "    \r\n",
        "    def define_model(self,filtersize=(3,3,3),dense_neurons=64,dropout=0.25):\r\n",
        "\r\n",
        "        model = Sequential()\r\n",
        "        model.add(Conv3D(16, filtersize, padding='same',\r\n",
        "                 input_shape=(self.frames_to_sample,self.image_height,self.image_width,self.channels)))\r\n",
        "        model.add(Activation('relu'))\r\n",
        "        model.add(BatchNormalization())\r\n",
        "        \r\n",
        "        model.add(Conv3D(16, filtersize, padding='same',\r\n",
        "                 input_shape=(self.frames_to_sample,self.image_height,self.image_width,self.channels)))\r\n",
        "        model.add(Activation('relu'))\r\n",
        "        model.add(BatchNormalization())\r\n",
        "        \r\n",
        "        model.add(MaxPooling3D(pool_size=(2, 2, 2)))\r\n",
        "\r\n",
        "        model.add(Conv3D(32, filtersize, padding='same'))\r\n",
        "        model.add(Activation('relu'))\r\n",
        "        model.add(BatchNormalization())\r\n",
        "        \r\n",
        "        model.add(Conv3D(32, filtersize, padding='same'))\r\n",
        "        model.add(Activation('relu'))\r\n",
        "        model.add(BatchNormalization())\r\n",
        "        \r\n",
        "        model.add(MaxPooling3D(pool_size=(2, 2, 2)))\r\n",
        "\r\n",
        "        model.add(Conv3D(64, filtersize, padding='same'))\r\n",
        "        model.add(Activation('relu'))\r\n",
        "        model.add(BatchNormalization())\r\n",
        "        \r\n",
        "        model.add(Conv3D(64, filtersize, padding='same'))\r\n",
        "        model.add(Activation('relu'))\r\n",
        "        model.add(BatchNormalization())\r\n",
        "        \r\n",
        "        model.add(MaxPooling3D(pool_size=(2, 2, 2)))\r\n",
        "\r\n",
        "        model.add(Conv3D(128, filtersize, padding='same'))\r\n",
        "        model.add(Activation('relu'))\r\n",
        "        model.add(BatchNormalization())\r\n",
        "        \r\n",
        "        model.add(Conv3D(128, filtersize, padding='same'))\r\n",
        "        model.add(Activation('relu'))\r\n",
        "        model.add(BatchNormalization())\r\n",
        "        \r\n",
        "        model.add(MaxPooling3D(pool_size=(2, 2, 2)))\r\n",
        "        \r\n",
        "\r\n",
        "        model.add(Flatten())\r\n",
        "        model.add(Dense(dense_neurons,activation='relu'))\r\n",
        "        model.add(BatchNormalization())\r\n",
        "        model.add(Dropout(dropout))\r\n",
        "\r\n",
        "        model.add(Dense(dense_neurons,activation='relu'))\r\n",
        "        model.add(BatchNormalization())\r\n",
        "        model.add(Dropout(dropout))\r\n",
        "\r\n",
        "\r\n",
        "        model.add(Dense(self.num_classes,activation='softmax'))\r\n",
        "\r\n",
        "        optimiser = optimizers.Adam()\r\n",
        "        model.compile(optimizer=optimiser, loss='categorical_crossentropy', metrics=['categorical_accuracy'])\r\n",
        "        return model"
      ],
      "execution_count": 45,
      "outputs": []
    },
    {
      "cell_type": "code",
      "metadata": {
        "id": "AmOxJwmei5-S",
        "colab": {
          "base_uri": "https://localhost:8080/"
        },
        "outputId": "93f99ebe-c2d0-4bbc-fd81-9e84ad434b61"
      },
      "source": [
        "Conv3D4=ModelConv3D4()\r\n",
        "Conv3D4.initialize_src_path(main_folder)\r\n",
        "Conv3D4.initialize_image_properties(image_height=120,image_width=120)\r\n",
        "Conv3D4.initialize_hyperparams(frames_to_sample=16,batch_size=20,num_epochs=30)\r\n",
        "Conv3D4_model=Conv3D4.define_model(filtersize=(3,3,3),dense_neurons=256,dropout=0.5)\r\n",
        "Conv3D4_model.summary()"
      ],
      "execution_count": 46,
      "outputs": [
        {
          "output_type": "stream",
          "text": [
            "Model: \"sequential\"\n",
            "_________________________________________________________________\n",
            "Layer (type)                 Output Shape              Param #   \n",
            "=================================================================\n",
            "conv3d (Conv3D)              (None, 16, 120, 120, 16)  1312      \n",
            "_________________________________________________________________\n",
            "activation (Activation)      (None, 16, 120, 120, 16)  0         \n",
            "_________________________________________________________________\n",
            "batch_normalization (BatchNo (None, 16, 120, 120, 16)  64        \n",
            "_________________________________________________________________\n",
            "conv3d_1 (Conv3D)            (None, 16, 120, 120, 16)  6928      \n",
            "_________________________________________________________________\n",
            "activation_1 (Activation)    (None, 16, 120, 120, 16)  0         \n",
            "_________________________________________________________________\n",
            "batch_normalization_1 (Batch (None, 16, 120, 120, 16)  64        \n",
            "_________________________________________________________________\n",
            "max_pooling3d (MaxPooling3D) (None, 8, 60, 60, 16)     0         \n",
            "_________________________________________________________________\n",
            "conv3d_2 (Conv3D)            (None, 8, 60, 60, 32)     13856     \n",
            "_________________________________________________________________\n",
            "activation_2 (Activation)    (None, 8, 60, 60, 32)     0         \n",
            "_________________________________________________________________\n",
            "batch_normalization_2 (Batch (None, 8, 60, 60, 32)     128       \n",
            "_________________________________________________________________\n",
            "conv3d_3 (Conv3D)            (None, 8, 60, 60, 32)     27680     \n",
            "_________________________________________________________________\n",
            "activation_3 (Activation)    (None, 8, 60, 60, 32)     0         \n",
            "_________________________________________________________________\n",
            "batch_normalization_3 (Batch (None, 8, 60, 60, 32)     128       \n",
            "_________________________________________________________________\n",
            "max_pooling3d_1 (MaxPooling3 (None, 4, 30, 30, 32)     0         \n",
            "_________________________________________________________________\n",
            "conv3d_4 (Conv3D)            (None, 4, 30, 30, 64)     55360     \n",
            "_________________________________________________________________\n",
            "activation_4 (Activation)    (None, 4, 30, 30, 64)     0         \n",
            "_________________________________________________________________\n",
            "batch_normalization_4 (Batch (None, 4, 30, 30, 64)     256       \n",
            "_________________________________________________________________\n",
            "conv3d_5 (Conv3D)            (None, 4, 30, 30, 64)     110656    \n",
            "_________________________________________________________________\n",
            "activation_5 (Activation)    (None, 4, 30, 30, 64)     0         \n",
            "_________________________________________________________________\n",
            "batch_normalization_5 (Batch (None, 4, 30, 30, 64)     256       \n",
            "_________________________________________________________________\n",
            "max_pooling3d_2 (MaxPooling3 (None, 2, 15, 15, 64)     0         \n",
            "_________________________________________________________________\n",
            "conv3d_6 (Conv3D)            (None, 2, 15, 15, 128)    221312    \n",
            "_________________________________________________________________\n",
            "activation_6 (Activation)    (None, 2, 15, 15, 128)    0         \n",
            "_________________________________________________________________\n",
            "batch_normalization_6 (Batch (None, 2, 15, 15, 128)    512       \n",
            "_________________________________________________________________\n",
            "conv3d_7 (Conv3D)            (None, 2, 15, 15, 128)    442496    \n",
            "_________________________________________________________________\n",
            "activation_7 (Activation)    (None, 2, 15, 15, 128)    0         \n",
            "_________________________________________________________________\n",
            "batch_normalization_7 (Batch (None, 2, 15, 15, 128)    512       \n",
            "_________________________________________________________________\n",
            "max_pooling3d_3 (MaxPooling3 (None, 1, 7, 7, 128)      0         \n",
            "_________________________________________________________________\n",
            "flatten (Flatten)            (None, 6272)              0         \n",
            "_________________________________________________________________\n",
            "dense (Dense)                (None, 256)               1605888   \n",
            "_________________________________________________________________\n",
            "batch_normalization_8 (Batch (None, 256)               1024      \n",
            "_________________________________________________________________\n",
            "dropout (Dropout)            (None, 256)               0         \n",
            "_________________________________________________________________\n",
            "dense_1 (Dense)              (None, 256)               65792     \n",
            "_________________________________________________________________\n",
            "batch_normalization_9 (Batch (None, 256)               1024      \n",
            "_________________________________________________________________\n",
            "dropout_1 (Dropout)          (None, 256)               0         \n",
            "_________________________________________________________________\n",
            "dense_2 (Dense)              (None, 5)                 1285      \n",
            "=================================================================\n",
            "Total params: 2,556,533\n",
            "Trainable params: 2,554,549\n",
            "Non-trainable params: 1,984\n",
            "_________________________________________________________________\n"
          ],
          "name": "stdout"
        }
      ]
    },
    {
      "cell_type": "code",
      "metadata": {
        "id": "qoR4sAUBkGDJ",
        "colab": {
          "base_uri": "https://localhost:8080/"
        },
        "outputId": "1c9db12a-f4e1-47a1-b13a-fa9c56c2a3db"
      },
      "source": [
        "print(\"Total Params:\", Conv3D4_model.count_params())\r\n",
        "accuracy_check_model_4=Conv3D4.train_model(Conv3D4_model,augment_data=True)"
      ],
      "execution_count": 47,
      "outputs": [
        {
          "output_type": "stream",
          "text": [
            "Total Params: 2556533\n",
            "WARNING:tensorflow:`period` argument is deprecated. Please use `save_freq` to specify the frequency in number of batches seen.\n",
            "Epoch 1/30\n",
            "34/34 [==============================] - ETA: 0s - batch: 16.5000 - size: 39.0000 - loss: 2.0561 - categorical_accuracy: 0.3190\n",
            "Epoch 00001: saving model to model_init_2021-03-1812_27_21.685507/model-00001-2.05605-0.31900-2.02137-0.21000.h5\n",
            "48\n",
            "34/34 [==============================] - 233s 6s/step - batch: 16.5000 - size: 39.0000 - loss: 2.0561 - categorical_accuracy: 0.3190 - val_loss: 2.0214 - val_categorical_accuracy: 0.2100\n",
            "Epoch 2/30\n",
            "34/34 [==============================] - ETA: 0s - batch: 16.5000 - size: 39.0000 - loss: 1.6459 - categorical_accuracy: 0.4276\n",
            "Epoch 00002: saving model to model_init_2021-03-1812_27_21.685507/model-00002-1.64586-0.42760-2.50385-0.22000.h5\n",
            "0\n",
            "34/34 [==============================] - 209s 6s/step - batch: 16.5000 - size: 39.0000 - loss: 1.6459 - categorical_accuracy: 0.4276 - val_loss: 2.5038 - val_categorical_accuracy: 0.2200\n",
            "Epoch 3/30\n",
            "34/34 [==============================] - ETA: 0s - batch: 16.5000 - size: 39.0000 - loss: 1.3575 - categorical_accuracy: 0.5370\n",
            "Epoch 00003: saving model to model_init_2021-03-1812_27_21.685507/model-00003-1.35745-0.53695-3.12829-0.15000.h5\n",
            "0\n",
            "34/34 [==============================] - 207s 6s/step - batch: 16.5000 - size: 39.0000 - loss: 1.3575 - categorical_accuracy: 0.5370 - val_loss: 3.1283 - val_categorical_accuracy: 0.1500\n",
            "Epoch 4/30\n",
            "34/34 [==============================] - ETA: 0s - batch: 16.5000 - size: 39.0000 - loss: 1.3895 - categorical_accuracy: 0.5090\n",
            "Epoch 00004: saving model to model_init_2021-03-1812_27_21.685507/model-00004-1.38955-0.50905-3.38269-0.17000.h5\n",
            "0\n",
            "34/34 [==============================] - 211s 6s/step - batch: 16.5000 - size: 39.0000 - loss: 1.3895 - categorical_accuracy: 0.5090 - val_loss: 3.3827 - val_categorical_accuracy: 0.1700\n",
            "Epoch 5/30\n",
            "34/34 [==============================] - ETA: 0s - batch: 16.5000 - size: 39.0000 - loss: 1.0881 - categorical_accuracy: 0.5988\n",
            "Epoch 00005: saving model to model_init_2021-03-1812_27_21.685507/model-00005-1.08814-0.59879-3.11363-0.24000.h5\n",
            "\n",
            "Epoch 00005: ReduceLROnPlateau reducing learning rate to 0.00020000000949949026.\n",
            "0\n",
            "34/34 [==============================] - 211s 6s/step - batch: 16.5000 - size: 39.0000 - loss: 1.0881 - categorical_accuracy: 0.5988 - val_loss: 3.1136 - val_categorical_accuracy: 0.2400\n",
            "Epoch 6/30\n",
            "34/34 [==============================] - ETA: 0s - batch: 16.5000 - size: 39.0000 - loss: 0.9693 - categorical_accuracy: 0.6546\n",
            "Epoch 00006: saving model to model_init_2021-03-1812_27_21.685507/model-00006-0.96930-0.65460-2.65557-0.24000.h5\n",
            "0\n",
            "34/34 [==============================] - 208s 6s/step - batch: 16.5000 - size: 39.0000 - loss: 0.9693 - categorical_accuracy: 0.6546 - val_loss: 2.6556 - val_categorical_accuracy: 0.2400\n",
            "Epoch 7/30\n",
            "34/34 [==============================] - ETA: 0s - batch: 16.5000 - size: 39.0000 - loss: 0.8820 - categorical_accuracy: 0.6682\n",
            "Epoch 00007: saving model to model_init_2021-03-1812_27_21.685507/model-00007-0.88199-0.66817-2.74515-0.21000.h5\n",
            "0\n",
            "34/34 [==============================] - 214s 6s/step - batch: 16.5000 - size: 39.0000 - loss: 0.8820 - categorical_accuracy: 0.6682 - val_loss: 2.7451 - val_categorical_accuracy: 0.2100\n",
            "Epoch 8/30\n",
            "34/34 [==============================] - ETA: 0s - batch: 16.5000 - size: 39.0000 - loss: 0.8693 - categorical_accuracy: 0.6953\n",
            "Epoch 00008: saving model to model_init_2021-03-1812_27_21.685507/model-00008-0.86925-0.69532-2.65861-0.32000.h5\n",
            "0\n",
            "34/34 [==============================] - 208s 6s/step - batch: 16.5000 - size: 39.0000 - loss: 0.8693 - categorical_accuracy: 0.6953 - val_loss: 2.6586 - val_categorical_accuracy: 0.3200\n",
            "Epoch 9/30\n",
            "34/34 [==============================] - ETA: 0s - batch: 16.5000 - size: 39.0000 - loss: 0.7800 - categorical_accuracy: 0.7089\n",
            "Epoch 00009: saving model to model_init_2021-03-1812_27_21.685507/model-00009-0.77997-0.70890-2.91922-0.26000.h5\n",
            "\n",
            "Epoch 00009: ReduceLROnPlateau reducing learning rate to 4.0000001899898055e-05.\n",
            "0\n",
            "34/34 [==============================] - 209s 6s/step - batch: 16.5000 - size: 39.0000 - loss: 0.7800 - categorical_accuracy: 0.7089 - val_loss: 2.9192 - val_categorical_accuracy: 0.2600\n",
            "Epoch 10/30\n",
            "34/34 [==============================] - ETA: 0s - batch: 16.5000 - size: 39.0000 - loss: 0.7270 - categorical_accuracy: 0.7164\n",
            "Epoch 00010: saving model to model_init_2021-03-1812_27_21.685507/model-00010-0.72703-0.71644-2.92754-0.31000.h5\n",
            "0\n",
            "34/34 [==============================] - 207s 6s/step - batch: 16.5000 - size: 39.0000 - loss: 0.7270 - categorical_accuracy: 0.7164 - val_loss: 2.9275 - val_categorical_accuracy: 0.3100\n",
            "Epoch 11/30\n",
            "34/34 [==============================] - ETA: 0s - batch: 16.5000 - size: 39.0000 - loss: 0.7642 - categorical_accuracy: 0.7051\n",
            "Epoch 00011: saving model to model_init_2021-03-1812_27_21.685507/model-00011-0.76424-0.70513-2.65077-0.34000.h5\n",
            "0\n",
            "34/34 [==============================] - 207s 6s/step - batch: 16.5000 - size: 39.0000 - loss: 0.7642 - categorical_accuracy: 0.7051 - val_loss: 2.6508 - val_categorical_accuracy: 0.3400\n",
            "Epoch 12/30\n",
            "34/34 [==============================] - ETA: 0s - batch: 16.5000 - size: 39.0000 - loss: 0.7146 - categorical_accuracy: 0.7262\n",
            "Epoch 00012: saving model to model_init_2021-03-1812_27_21.685507/model-00012-0.71457-0.72624-2.40945-0.33000.h5\n",
            "0\n",
            "34/34 [==============================] - 207s 6s/step - batch: 16.5000 - size: 39.0000 - loss: 0.7146 - categorical_accuracy: 0.7262 - val_loss: 2.4095 - val_categorical_accuracy: 0.3300\n",
            "Epoch 13/30\n",
            "34/34 [==============================] - ETA: 0s - batch: 16.5000 - size: 39.0000 - loss: 0.6740 - categorical_accuracy: 0.7466\n",
            "Epoch 00013: saving model to model_init_2021-03-1812_27_21.685507/model-00013-0.67398-0.74661-2.16406-0.41000.h5\n",
            "\n",
            "Epoch 00013: ReduceLROnPlateau reducing learning rate to 8.000000525498762e-06.\n",
            "0\n",
            "34/34 [==============================] - 209s 6s/step - batch: 16.5000 - size: 39.0000 - loss: 0.6740 - categorical_accuracy: 0.7466 - val_loss: 2.1641 - val_categorical_accuracy: 0.4100\n",
            "Epoch 14/30\n",
            "34/34 [==============================] - ETA: 0s - batch: 16.5000 - size: 39.0000 - loss: 0.6455 - categorical_accuracy: 0.7700\n",
            "Epoch 00014: saving model to model_init_2021-03-1812_27_21.685507/model-00014-0.64548-0.76998-1.82467-0.39000.h5\n",
            "0\n",
            "34/34 [==============================] - 206s 6s/step - batch: 16.5000 - size: 39.0000 - loss: 0.6455 - categorical_accuracy: 0.7700 - val_loss: 1.8247 - val_categorical_accuracy: 0.3900\n",
            "Epoch 15/30\n",
            "34/34 [==============================] - ETA: 0s - batch: 16.5000 - size: 39.0000 - loss: 0.6805 - categorical_accuracy: 0.7549\n",
            "Epoch 00015: saving model to model_init_2021-03-1812_27_21.685507/model-00015-0.68054-0.75490-1.49921-0.46000.h5\n",
            "0\n",
            "34/34 [==============================] - 208s 6s/step - batch: 16.5000 - size: 39.0000 - loss: 0.6805 - categorical_accuracy: 0.7549 - val_loss: 1.4992 - val_categorical_accuracy: 0.4600\n",
            "Epoch 16/30\n",
            "34/34 [==============================] - ETA: 0s - batch: 16.5000 - size: 39.0000 - loss: 0.6400 - categorical_accuracy: 0.7647\n",
            "Epoch 00016: saving model to model_init_2021-03-1812_27_21.685507/model-00016-0.63999-0.76471-1.20671-0.58000.h5\n",
            "0\n",
            "34/34 [==============================] - 207s 6s/step - batch: 16.5000 - size: 39.0000 - loss: 0.6400 - categorical_accuracy: 0.7647 - val_loss: 1.2067 - val_categorical_accuracy: 0.5800\n",
            "Epoch 17/30\n",
            "34/34 [==============================] - ETA: 0s - batch: 16.5000 - size: 39.0000 - loss: 0.6839 - categorical_accuracy: 0.7572\n",
            "Epoch 00017: saving model to model_init_2021-03-1812_27_21.685507/model-00017-0.68390-0.75716-1.03257-0.62000.h5\n",
            "0\n",
            "34/34 [==============================] - 208s 6s/step - batch: 16.5000 - size: 39.0000 - loss: 0.6839 - categorical_accuracy: 0.7572 - val_loss: 1.0326 - val_categorical_accuracy: 0.6200\n",
            "Epoch 18/30\n",
            "34/34 [==============================] - ETA: 0s - batch: 16.5000 - size: 39.0000 - loss: 0.7096 - categorical_accuracy: 0.7421\n",
            "Epoch 00018: saving model to model_init_2021-03-1812_27_21.685507/model-00018-0.70959-0.74208-0.83431-0.70000.h5\n",
            "0\n",
            "34/34 [==============================] - 206s 6s/step - batch: 16.5000 - size: 39.0000 - loss: 0.7096 - categorical_accuracy: 0.7421 - val_loss: 0.8343 - val_categorical_accuracy: 0.7000\n",
            "Epoch 19/30\n",
            "34/34 [==============================] - ETA: 0s - batch: 16.5000 - size: 39.0000 - loss: 0.6504 - categorical_accuracy: 0.7594\n",
            "Epoch 00019: saving model to model_init_2021-03-1812_27_21.685507/model-00019-0.65037-0.75943-0.75898-0.80000.h5\n",
            "0\n",
            "34/34 [==============================] - 211s 6s/step - batch: 16.5000 - size: 39.0000 - loss: 0.6504 - categorical_accuracy: 0.7594 - val_loss: 0.7590 - val_categorical_accuracy: 0.8000\n",
            "Epoch 20/30\n",
            "34/34 [==============================] - ETA: 0s - batch: 16.5000 - size: 39.0000 - loss: 0.6870 - categorical_accuracy: 0.7443\n",
            "Epoch 00020: saving model to model_init_2021-03-1812_27_21.685507/model-00020-0.68695-0.74434-0.80112-0.71000.h5\n",
            "0\n",
            "34/34 [==============================] - 205s 6s/step - batch: 16.5000 - size: 39.0000 - loss: 0.6870 - categorical_accuracy: 0.7443 - val_loss: 0.8011 - val_categorical_accuracy: 0.7100\n",
            "Epoch 21/30\n",
            "34/34 [==============================] - ETA: 0s - batch: 16.5000 - size: 39.0000 - loss: 0.6559 - categorical_accuracy: 0.7541\n",
            "Epoch 00021: saving model to model_init_2021-03-1812_27_21.685507/model-00021-0.65586-0.75415-0.74897-0.74000.h5\n",
            "0\n",
            "34/34 [==============================] - 206s 6s/step - batch: 16.5000 - size: 39.0000 - loss: 0.6559 - categorical_accuracy: 0.7541 - val_loss: 0.7490 - val_categorical_accuracy: 0.7400\n",
            "Epoch 22/30\n",
            "34/34 [==============================] - ETA: 0s - batch: 16.5000 - size: 39.0000 - loss: 0.6976 - categorical_accuracy: 0.7428\n",
            "Epoch 00022: saving model to model_init_2021-03-1812_27_21.685507/model-00022-0.69761-0.74284-0.75264-0.76000.h5\n",
            "0\n",
            "34/34 [==============================] - 208s 6s/step - batch: 16.5000 - size: 39.0000 - loss: 0.6976 - categorical_accuracy: 0.7428 - val_loss: 0.7526 - val_categorical_accuracy: 0.7600\n",
            "Epoch 23/30\n",
            "34/34 [==============================] - ETA: 0s - batch: 16.5000 - size: 39.0000 - loss: 0.6346 - categorical_accuracy: 0.7579\n",
            "Epoch 00023: saving model to model_init_2021-03-1812_27_21.685507/model-00023-0.63459-0.75792-0.67589-0.77000.h5\n",
            "0\n",
            "34/34 [==============================] - 208s 6s/step - batch: 16.5000 - size: 39.0000 - loss: 0.6346 - categorical_accuracy: 0.7579 - val_loss: 0.6759 - val_categorical_accuracy: 0.7700\n",
            "Epoch 24/30\n",
            "34/34 [==============================] - ETA: 0s - batch: 16.5000 - size: 39.0000 - loss: 0.6271 - categorical_accuracy: 0.7738\n",
            "Epoch 00024: saving model to model_init_2021-03-1812_27_21.685507/model-00024-0.62712-0.77376-0.65699-0.76000.h5\n",
            "0\n",
            "34/34 [==============================] - 205s 6s/step - batch: 16.5000 - size: 39.0000 - loss: 0.6271 - categorical_accuracy: 0.7738 - val_loss: 0.6570 - val_categorical_accuracy: 0.7600\n",
            "Epoch 25/30\n",
            "34/34 [==============================] - ETA: 0s - batch: 16.5000 - size: 39.0000 - loss: 0.7098 - categorical_accuracy: 0.7617\n",
            "Epoch 00025: saving model to model_init_2021-03-1812_27_21.685507/model-00025-0.70983-0.76169-0.65020-0.76000.h5\n",
            "0\n",
            "34/34 [==============================] - 205s 6s/step - batch: 16.5000 - size: 39.0000 - loss: 0.7098 - categorical_accuracy: 0.7617 - val_loss: 0.6502 - val_categorical_accuracy: 0.7600\n",
            "Epoch 26/30\n",
            "34/34 [==============================] - ETA: 0s - batch: 16.5000 - size: 39.0000 - loss: 0.6621 - categorical_accuracy: 0.7519\n",
            "Epoch 00026: saving model to model_init_2021-03-1812_27_21.685507/model-00026-0.66208-0.75189-0.68156-0.74000.h5\n",
            "0\n",
            "34/34 [==============================] - 205s 6s/step - batch: 16.5000 - size: 39.0000 - loss: 0.6621 - categorical_accuracy: 0.7519 - val_loss: 0.6816 - val_categorical_accuracy: 0.7400\n",
            "Epoch 27/30\n",
            "34/34 [==============================] - ETA: 0s - batch: 16.5000 - size: 39.0000 - loss: 0.7226 - categorical_accuracy: 0.7760\n",
            "Epoch 00027: saving model to model_init_2021-03-1812_27_21.685507/model-00027-0.72257-0.77602-0.71809-0.76000.h5\n",
            "0\n",
            "34/34 [==============================] - 205s 6s/step - batch: 16.5000 - size: 39.0000 - loss: 0.7226 - categorical_accuracy: 0.7760 - val_loss: 0.7181 - val_categorical_accuracy: 0.7600\n",
            "Epoch 28/30\n",
            "34/34 [==============================] - ETA: 0s - batch: 16.5000 - size: 39.0000 - loss: 0.6840 - categorical_accuracy: 0.7534\n",
            "Epoch 00028: saving model to model_init_2021-03-1812_27_21.685507/model-00028-0.68403-0.75339-0.69505-0.74000.h5\n",
            "0\n",
            "34/34 [==============================] - 206s 6s/step - batch: 16.5000 - size: 39.0000 - loss: 0.6840 - categorical_accuracy: 0.7534 - val_loss: 0.6951 - val_categorical_accuracy: 0.7400\n",
            "Epoch 29/30\n",
            "34/34 [==============================] - ETA: 0s - batch: 16.5000 - size: 39.0000 - loss: 0.6266 - categorical_accuracy: 0.7557\n",
            "Epoch 00029: saving model to model_init_2021-03-1812_27_21.685507/model-00029-0.62658-0.75566-0.62302-0.78000.h5\n",
            "0\n",
            "34/34 [==============================] - 207s 6s/step - batch: 16.5000 - size: 39.0000 - loss: 0.6266 - categorical_accuracy: 0.7557 - val_loss: 0.6230 - val_categorical_accuracy: 0.7800\n",
            "Epoch 30/30\n",
            "34/34 [==============================] - ETA: 0s - batch: 16.5000 - size: 39.0000 - loss: 0.6629 - categorical_accuracy: 0.7428\n",
            "Epoch 00030: saving model to model_init_2021-03-1812_27_21.685507/model-00030-0.66294-0.74284-0.61499-0.78000.h5\n",
            "0\n",
            "34/34 [==============================] - 206s 6s/step - batch: 16.5000 - size: 39.0000 - loss: 0.6629 - categorical_accuracy: 0.7428 - val_loss: 0.6150 - val_categorical_accuracy: 0.7800\n"
          ],
          "name": "stdout"
        }
      ]
    },
    {
      "cell_type": "code",
      "metadata": {
        "id": "l8lzWQankJXv",
        "colab": {
          "base_uri": "https://localhost:8080/",
          "height": 268
        },
        "outputId": "27e22105-b338-4afb-92a6-e356df3b23c0"
      },
      "source": [
        "plot(accuracy_check_model_4)"
      ],
      "execution_count": 48,
      "outputs": [
        {
          "output_type": "display_data",
          "data": {
            "image/png": "[encoded data removed]",
            "text/plain": [
              "<Figure size 1080x288 with 2 Axes>"
            ]
          },
          "metadata": {
            "tags": [],
            "needs_background": "light"
          }
        }
      ]
    },
    {
      "cell_type": "markdown",
      "metadata": {
        "id": "6Q33XjvbSv8q"
      },
      "source": [
        "With more layers we see some performance improvement. We get a best validation accuracy of 73% . Let's try adding dropouts at the convolution layers"
      ]
    },
    {
      "cell_type": "markdown",
      "metadata": {
        "id": "PP6UEuorS7-z"
      },
      "source": [
        "## Model 5 Adding dropout at convolution layers"
      ]
    },
    {
      "cell_type": "code",
      "metadata": {
        "id": "BjEDLlauS6iK"
      },
      "source": [
        "Conv3D4.clear_session(Conv3D4_model)\r\n",
        "class ModelConv3D5(ModelBuilder):\r\n",
        "    \r\n",
        "    def define_model(self,filtersize=(3,3,3),dense_neurons=64,dropout=0.25):\r\n",
        "\r\n",
        "        model = Sequential()\r\n",
        "        model.add(Conv3D(16, filtersize, padding='same',\r\n",
        "                 input_shape=(self.frames_to_sample,self.image_height,self.image_width,self.channels)))\r\n",
        "        model.add(Activation('relu'))\r\n",
        "        model.add(BatchNormalization())\r\n",
        "        \r\n",
        "        model.add(Conv3D(16, filtersize, padding='same',\r\n",
        "                 input_shape=(self.frames_to_sample,self.image_height,self.image_width,self.channels)))\r\n",
        "        model.add(Activation('relu'))\r\n",
        "        model.add(BatchNormalization())\r\n",
        "        \r\n",
        "        model.add(MaxPooling3D(pool_size=(2, 2, 2)))\r\n",
        "        model.add(Dropout(dropout))\r\n",
        "\r\n",
        "        model.add(Conv3D(32, filtersize, padding='same'))\r\n",
        "        model.add(Activation('relu'))\r\n",
        "        model.add(BatchNormalization())\r\n",
        "        \r\n",
        "        model.add(Conv3D(32, filtersize, padding='same'))\r\n",
        "        model.add(Activation('relu'))\r\n",
        "        model.add(BatchNormalization())\r\n",
        "        \r\n",
        "        model.add(MaxPooling3D(pool_size=(2, 2, 2)))\r\n",
        "        model.add(Dropout(dropout))\r\n",
        "\r\n",
        "        model.add(Conv3D(64, filtersize, padding='same'))\r\n",
        "        model.add(Activation('relu'))\r\n",
        "        model.add(BatchNormalization())\r\n",
        "        \r\n",
        "        model.add(Conv3D(64, filtersize, padding='same'))\r\n",
        "        model.add(Activation('relu'))\r\n",
        "        model.add(BatchNormalization())\r\n",
        "        \r\n",
        "        model.add(MaxPooling3D(pool_size=(2, 2, 2)))\r\n",
        "        model.add(Dropout(dropout))\r\n",
        "\r\n",
        "        model.add(Conv3D(128, filtersize, padding='same'))\r\n",
        "        model.add(Activation('relu'))\r\n",
        "        model.add(BatchNormalization())\r\n",
        "        \r\n",
        "        model.add(Conv3D(128, filtersize, padding='same'))\r\n",
        "        model.add(Activation('relu'))\r\n",
        "        model.add(BatchNormalization())\r\n",
        "        \r\n",
        "        model.add(MaxPooling3D(pool_size=(2, 2, 2)))\r\n",
        "        model.add(Dropout(dropout))\r\n",
        "        \r\n",
        "        model.add(Flatten())\r\n",
        "        model.add(Dense(dense_neurons,activation='relu'))\r\n",
        "        model.add(BatchNormalization())\r\n",
        "        model.add(Dropout(dropout))\r\n",
        "\r\n",
        "        model.add(Dense(dense_neurons,activation='relu'))\r\n",
        "        model.add(BatchNormalization())\r\n",
        "        model.add(Dropout(dropout))\r\n",
        "\r\n",
        "\r\n",
        "        model.add(Dense(self.num_classes,activation='softmax'))\r\n",
        "\r\n",
        "        optimiser = optimizers.Adam()\r\n",
        "        model.compile(optimizer=optimiser, loss='categorical_crossentropy', metrics=['categorical_accuracy'])\r\n",
        "        return model"
      ],
      "execution_count": 49,
      "outputs": []
    },
    {
      "cell_type": "code",
      "metadata": {
        "id": "GXzE7zAXTlb5",
        "colab": {
          "base_uri": "https://localhost:8080/"
        },
        "outputId": "6e2495a7-bd27-46f0-e130-b73d69eb6581"
      },
      "source": [
        "Conv3D5=ModelConv3D5()\r\n",
        "Conv3D5.initialize_src_path(main_folder)\r\n",
        "Conv3D5.initialize_image_properties(image_height=120,image_width=120)\r\n",
        "Conv3D5.initialize_hyperparams(frames_to_sample=16,batch_size=20,num_epochs=22)\r\n",
        "Conv3D5_model=Conv3D5.define_model(filtersize=(3,3,3),dense_neurons=256,dropout=0.25)\r\n",
        "Conv3D5_model.summary()"
      ],
      "execution_count": 50,
      "outputs": [
        {
          "output_type": "stream",
          "text": [
            "Model: \"sequential\"\n",
            "_________________________________________________________________\n",
            "Layer (type)                 Output Shape              Param #   \n",
            "=================================================================\n",
            "conv3d (Conv3D)              (None, 16, 120, 120, 16)  1312      \n",
            "_________________________________________________________________\n",
            "activation (Activation)      (None, 16, 120, 120, 16)  0         \n",
            "_________________________________________________________________\n",
            "batch_normalization (BatchNo (None, 16, 120, 120, 16)  64        \n",
            "_________________________________________________________________\n",
            "conv3d_1 (Conv3D)            (None, 16, 120, 120, 16)  6928      \n",
            "_________________________________________________________________\n",
            "activation_1 (Activation)    (None, 16, 120, 120, 16)  0         \n",
            "_________________________________________________________________\n",
            "batch_normalization_1 (Batch (None, 16, 120, 120, 16)  64        \n",
            "_________________________________________________________________\n",
            "max_pooling3d (MaxPooling3D) (None, 8, 60, 60, 16)     0         \n",
            "_________________________________________________________________\n",
            "dropout (Dropout)            (None, 8, 60, 60, 16)     0         \n",
            "_________________________________________________________________\n",
            "conv3d_2 (Conv3D)            (None, 8, 60, 60, 32)     13856     \n",
            "_________________________________________________________________\n",
            "activation_2 (Activation)    (None, 8, 60, 60, 32)     0         \n",
            "_________________________________________________________________\n",
            "batch_normalization_2 (Batch (None, 8, 60, 60, 32)     128       \n",
            "_________________________________________________________________\n",
            "conv3d_3 (Conv3D)            (None, 8, 60, 60, 32)     27680     \n",
            "_________________________________________________________________\n",
            "activation_3 (Activation)    (None, 8, 60, 60, 32)     0         \n",
            "_________________________________________________________________\n",
            "batch_normalization_3 (Batch (None, 8, 60, 60, 32)     128       \n",
            "_________________________________________________________________\n",
            "max_pooling3d_1 (MaxPooling3 (None, 4, 30, 30, 32)     0         \n",
            "_________________________________________________________________\n",
            "dropout_1 (Dropout)          (None, 4, 30, 30, 32)     0         \n",
            "_________________________________________________________________\n",
            "conv3d_4 (Conv3D)            (None, 4, 30, 30, 64)     55360     \n",
            "_________________________________________________________________\n",
            "activation_4 (Activation)    (None, 4, 30, 30, 64)     0         \n",
            "_________________________________________________________________\n",
            "batch_normalization_4 (Batch (None, 4, 30, 30, 64)     256       \n",
            "_________________________________________________________________\n",
            "conv3d_5 (Conv3D)            (None, 4, 30, 30, 64)     110656    \n",
            "_________________________________________________________________\n",
            "activation_5 (Activation)    (None, 4, 30, 30, 64)     0         \n",
            "_________________________________________________________________\n",
            "batch_normalization_5 (Batch (None, 4, 30, 30, 64)     256       \n",
            "_________________________________________________________________\n",
            "max_pooling3d_2 (MaxPooling3 (None, 2, 15, 15, 64)     0         \n",
            "_________________________________________________________________\n",
            "dropout_2 (Dropout)          (None, 2, 15, 15, 64)     0         \n",
            "_________________________________________________________________\n",
            "conv3d_6 (Conv3D)            (None, 2, 15, 15, 128)    221312    \n",
            "_________________________________________________________________\n",
            "activation_6 (Activation)    (None, 2, 15, 15, 128)    0         \n",
            "_________________________________________________________________\n",
            "batch_normalization_6 (Batch (None, 2, 15, 15, 128)    512       \n",
            "_________________________________________________________________\n",
            "conv3d_7 (Conv3D)            (None, 2, 15, 15, 128)    442496    \n",
            "_________________________________________________________________\n",
            "activation_7 (Activation)    (None, 2, 15, 15, 128)    0         \n",
            "_________________________________________________________________\n",
            "batch_normalization_7 (Batch (None, 2, 15, 15, 128)    512       \n",
            "_________________________________________________________________\n",
            "max_pooling3d_3 (MaxPooling3 (None, 1, 7, 7, 128)      0         \n",
            "_________________________________________________________________\n",
            "dropout_3 (Dropout)          (None, 1, 7, 7, 128)      0         \n",
            "_________________________________________________________________\n",
            "flatten (Flatten)            (None, 6272)              0         \n",
            "_________________________________________________________________\n",
            "dense (Dense)                (None, 256)               1605888   \n",
            "_________________________________________________________________\n",
            "batch_normalization_8 (Batch (None, 256)               1024      \n",
            "_________________________________________________________________\n",
            "dropout_4 (Dropout)          (None, 256)               0         \n",
            "_________________________________________________________________\n",
            "dense_1 (Dense)              (None, 256)               65792     \n",
            "_________________________________________________________________\n",
            "batch_normalization_9 (Batch (None, 256)               1024      \n",
            "_________________________________________________________________\n",
            "dropout_5 (Dropout)          (None, 256)               0         \n",
            "_________________________________________________________________\n",
            "dense_2 (Dense)              (None, 5)                 1285      \n",
            "=================================================================\n",
            "Total params: 2,556,533\n",
            "Trainable params: 2,554,549\n",
            "Non-trainable params: 1,984\n",
            "_________________________________________________________________\n"
          ],
          "name": "stdout"
        }
      ]
    },
    {
      "cell_type": "code",
      "metadata": {
        "id": "JesB78x6TvM3",
        "colab": {
          "base_uri": "https://localhost:8080/"
        },
        "outputId": "59fc9bb6-faf8-4a29-b9d1-a05cd727e667"
      },
      "source": [
        "print(\"Total Params:\", Conv3D5_model.count_params())\r\n",
        "accuracy_check_model_5=Conv3D5.train_model(Conv3D5_model,augment_data=True)"
      ],
      "execution_count": 51,
      "outputs": [
        {
          "output_type": "stream",
          "text": [
            "Total Params: 2556533\n",
            "WARNING:tensorflow:`period` argument is deprecated. Please use `save_freq` to specify the frequency in number of batches seen.\n",
            "Epoch 1/22\n",
            "34/34 [==============================] - ETA: 0s - batch: 16.5000 - size: 39.0000 - loss: 1.7550 - categorical_accuracy: 0.4020\n",
            "Epoch 00001: saving model to model_init_2021-03-1814_11_36.442346/model-00001-1.75498-0.40196-1.95363-0.21000.h5\n",
            "52\n",
            "34/34 [==============================] - 229s 7s/step - batch: 16.5000 - size: 39.0000 - loss: 1.7550 - categorical_accuracy: 0.4020 - val_loss: 1.9536 - val_categorical_accuracy: 0.2100\n",
            "Epoch 2/22\n",
            "34/34 [==============================] - ETA: 0s - batch: 16.5000 - size: 39.0000 - loss: 1.2946 - categorical_accuracy: 0.4864\n",
            "Epoch 00002: saving model to model_init_2021-03-1814_11_36.442346/model-00002-1.29457-0.48643-2.60580-0.17000.h5\n",
            "0\n",
            "34/34 [==============================] - 205s 6s/step - batch: 16.5000 - size: 39.0000 - loss: 1.2946 - categorical_accuracy: 0.4864 - val_loss: 2.6058 - val_categorical_accuracy: 0.1700\n",
            "Epoch 3/22\n",
            "34/34 [==============================] - ETA: 0s - batch: 16.5000 - size: 39.0000 - loss: 0.9794 - categorical_accuracy: 0.6388\n",
            "Epoch 00003: saving model to model_init_2021-03-1814_11_36.442346/model-00003-0.97938-0.63876-3.60132-0.29000.h5\n",
            "0\n",
            "34/34 [==============================] - 206s 6s/step - batch: 16.5000 - size: 39.0000 - loss: 0.9794 - categorical_accuracy: 0.6388 - val_loss: 3.6013 - val_categorical_accuracy: 0.2900\n",
            "Epoch 4/22\n",
            "34/34 [==============================] - ETA: 0s - batch: 16.5000 - size: 39.0000 - loss: 0.9237 - categorical_accuracy: 0.6667\n",
            "Epoch 00004: saving model to model_init_2021-03-1814_11_36.442346/model-00004-0.92369-0.66667-4.60555-0.21000.h5\n",
            "0\n",
            "34/34 [==============================] - 208s 6s/step - batch: 16.5000 - size: 39.0000 - loss: 0.9237 - categorical_accuracy: 0.6667 - val_loss: 4.6056 - val_categorical_accuracy: 0.2100\n",
            "Epoch 5/22\n",
            "34/34 [==============================] - ETA: 0s - batch: 16.5000 - size: 39.0000 - loss: 0.9158 - categorical_accuracy: 0.6712\n",
            "Epoch 00005: saving model to model_init_2021-03-1814_11_36.442346/model-00005-0.91584-0.67119-4.37629-0.21000.h5\n",
            "\n",
            "Epoch 00005: ReduceLROnPlateau reducing learning rate to 0.00020000000949949026.\n",
            "0\n",
            "34/34 [==============================] - 209s 6s/step - batch: 16.5000 - size: 39.0000 - loss: 0.9158 - categorical_accuracy: 0.6712 - val_loss: 4.3763 - val_categorical_accuracy: 0.2100\n",
            "Epoch 6/22\n",
            "34/34 [==============================] - ETA: 0s - batch: 16.5000 - size: 39.0000 - loss: 0.7243 - categorical_accuracy: 0.7217\n",
            "Epoch 00006: saving model to model_init_2021-03-1814_11_36.442346/model-00006-0.72426-0.72172-5.60910-0.21000.h5\n",
            "0\n",
            "34/34 [==============================] - 207s 6s/step - batch: 16.5000 - size: 39.0000 - loss: 0.7243 - categorical_accuracy: 0.7217 - val_loss: 5.6091 - val_categorical_accuracy: 0.2100\n",
            "Epoch 7/22\n",
            "34/34 [==============================] - ETA: 0s - batch: 16.5000 - size: 39.0000 - loss: 0.6227 - categorical_accuracy: 0.7579\n",
            "Epoch 00007: saving model to model_init_2021-03-1814_11_36.442346/model-00007-0.62272-0.75792-4.74408-0.22000.h5\n",
            "0\n",
            "34/34 [==============================] - 207s 6s/step - batch: 16.5000 - size: 39.0000 - loss: 0.6227 - categorical_accuracy: 0.7579 - val_loss: 4.7441 - val_categorical_accuracy: 0.2200\n",
            "Epoch 8/22\n",
            "34/34 [==============================] - ETA: 0s - batch: 16.5000 - size: 39.0000 - loss: 0.5643 - categorical_accuracy: 0.7738\n",
            "Epoch 00008: saving model to model_init_2021-03-1814_11_36.442346/model-00008-0.56430-0.77376-4.73613-0.25000.h5\n",
            "0\n",
            "34/34 [==============================] - 212s 6s/step - batch: 16.5000 - size: 39.0000 - loss: 0.5643 - categorical_accuracy: 0.7738 - val_loss: 4.7361 - val_categorical_accuracy: 0.2500\n",
            "Epoch 9/22\n",
            "34/34 [==============================] - ETA: 0s - batch: 16.5000 - size: 39.0000 - loss: 0.5054 - categorical_accuracy: 0.8228\n",
            "Epoch 00009: saving model to model_init_2021-03-1814_11_36.442346/model-00009-0.50540-0.82278-5.77818-0.23000.h5\n",
            "\n",
            "Epoch 00009: ReduceLROnPlateau reducing learning rate to 4.0000001899898055e-05.\n",
            "0\n",
            "34/34 [==============================] - 207s 6s/step - batch: 16.5000 - size: 39.0000 - loss: 0.5054 - categorical_accuracy: 0.8228 - val_loss: 5.7782 - val_categorical_accuracy: 0.2300\n",
            "Epoch 10/22\n",
            "34/34 [==============================] - ETA: 0s - batch: 16.5000 - size: 39.0000 - loss: 0.4644 - categorical_accuracy: 0.8394\n",
            "Epoch 00010: saving model to model_init_2021-03-1814_11_36.442346/model-00010-0.46436-0.83937-5.69349-0.22000.h5\n",
            "0\n",
            "34/34 [==============================] - 204s 6s/step - batch: 16.5000 - size: 39.0000 - loss: 0.4644 - categorical_accuracy: 0.8394 - val_loss: 5.6935 - val_categorical_accuracy: 0.2200\n",
            "Epoch 11/22\n",
            "34/34 [==============================] - ETA: 0s - batch: 16.5000 - size: 39.0000 - loss: 0.4505 - categorical_accuracy: 0.8379\n",
            "Epoch 00011: saving model to model_init_2021-03-1814_11_36.442346/model-00011-0.45045-0.83786-5.11459-0.23000.h5\n",
            "0\n",
            "34/34 [==============================] - 206s 6s/step - batch: 16.5000 - size: 39.0000 - loss: 0.4505 - categorical_accuracy: 0.8379 - val_loss: 5.1146 - val_categorical_accuracy: 0.2300\n",
            "Epoch 12/22\n",
            "34/34 [==============================] - ETA: 0s - batch: 16.5000 - size: 39.0000 - loss: 0.5722 - categorical_accuracy: 0.8348\n",
            "Epoch 00012: saving model to model_init_2021-03-1814_11_36.442346/model-00012-0.57221-0.83484-4.71688-0.26000.h5\n",
            "0\n",
            "34/34 [==============================] - 206s 6s/step - batch: 16.5000 - size: 39.0000 - loss: 0.5722 - categorical_accuracy: 0.8348 - val_loss: 4.7169 - val_categorical_accuracy: 0.2600\n",
            "Epoch 13/22\n",
            "34/34 [==============================] - ETA: 0s - batch: 16.5000 - size: 39.0000 - loss: 0.4306 - categorical_accuracy: 0.8439\n",
            "Epoch 00013: saving model to model_init_2021-03-1814_11_36.442346/model-00013-0.43060-0.84389-4.20146-0.30000.h5\n",
            "\n",
            "Epoch 00013: ReduceLROnPlateau reducing learning rate to 8.000000525498762e-06.\n",
            "0\n",
            "34/34 [==============================] - 208s 6s/step - batch: 16.5000 - size: 39.0000 - loss: 0.4306 - categorical_accuracy: 0.8439 - val_loss: 4.2015 - val_categorical_accuracy: 0.3000\n",
            "Epoch 14/22\n",
            "34/34 [==============================] - ETA: 0s - batch: 16.5000 - size: 39.0000 - loss: 0.4261 - categorical_accuracy: 0.8522\n",
            "Epoch 00014: saving model to model_init_2021-03-1814_11_36.442346/model-00014-0.42614-0.85219-4.31292-0.23000.h5\n",
            "0\n",
            "34/34 [==============================] - 208s 6s/step - batch: 16.5000 - size: 39.0000 - loss: 0.4261 - categorical_accuracy: 0.8522 - val_loss: 4.3129 - val_categorical_accuracy: 0.2300\n",
            "Epoch 15/22\n",
            "34/34 [==============================] - ETA: 0s - batch: 16.5000 - size: 39.0000 - loss: 0.4047 - categorical_accuracy: 0.8627\n",
            "Epoch 00015: saving model to model_init_2021-03-1814_11_36.442346/model-00015-0.40472-0.86275-3.52075-0.33000.h5\n",
            "0\n",
            "34/34 [==============================] - 206s 6s/step - batch: 16.5000 - size: 39.0000 - loss: 0.4047 - categorical_accuracy: 0.8627 - val_loss: 3.5207 - val_categorical_accuracy: 0.3300\n",
            "Epoch 16/22\n",
            "34/34 [==============================] - ETA: 0s - batch: 16.5000 - size: 39.0000 - loss: 0.4101 - categorical_accuracy: 0.8605\n",
            "Epoch 00016: saving model to model_init_2021-03-1814_11_36.442346/model-00016-0.41006-0.86048-2.99282-0.36000.h5\n",
            "0\n",
            "34/34 [==============================] - 206s 6s/step - batch: 16.5000 - size: 39.0000 - loss: 0.4101 - categorical_accuracy: 0.8605 - val_loss: 2.9928 - val_categorical_accuracy: 0.3600\n",
            "Epoch 17/22\n",
            "34/34 [==============================] - ETA: 0s - batch: 16.5000 - size: 39.0000 - loss: 0.3732 - categorical_accuracy: 0.8673\n",
            "Epoch 00017: saving model to model_init_2021-03-1814_11_36.442346/model-00017-0.37322-0.86727-2.57812-0.40000.h5\n",
            "\n",
            "Epoch 00017: ReduceLROnPlateau reducing learning rate to 1.6000001778593287e-06.\n",
            "0\n",
            "34/34 [==============================] - 206s 6s/step - batch: 16.5000 - size: 39.0000 - loss: 0.3732 - categorical_accuracy: 0.8673 - val_loss: 2.5781 - val_categorical_accuracy: 0.4000\n",
            "Epoch 18/22\n",
            "34/34 [==============================] - ETA: 0s - batch: 16.5000 - size: 39.0000 - loss: 0.4637 - categorical_accuracy: 0.8514\n",
            "Epoch 00018: saving model to model_init_2021-03-1814_11_36.442346/model-00018-0.46370-0.85143-2.19915-0.46000.h5\n",
            "0\n",
            "34/34 [==============================] - 203s 6s/step - batch: 16.5000 - size: 39.0000 - loss: 0.4637 - categorical_accuracy: 0.8514 - val_loss: 2.1991 - val_categorical_accuracy: 0.4600\n",
            "Epoch 19/22\n",
            "34/34 [==============================] - ETA: 0s - batch: 16.5000 - size: 39.0000 - loss: 0.4377 - categorical_accuracy: 0.8416\n",
            "Epoch 00019: saving model to model_init_2021-03-1814_11_36.442346/model-00019-0.43769-0.84163-1.87876-0.46000.h5\n",
            "0\n",
            "34/34 [==============================] - 212s 6s/step - batch: 16.5000 - size: 39.0000 - loss: 0.4377 - categorical_accuracy: 0.8416 - val_loss: 1.8788 - val_categorical_accuracy: 0.4600\n",
            "Epoch 20/22\n",
            "34/34 [==============================] - ETA: 0s - batch: 16.5000 - size: 39.0000 - loss: 0.4981 - categorical_accuracy: 0.8296\n",
            "Epoch 00020: saving model to model_init_2021-03-1814_11_36.442346/model-00020-0.49808-0.82956-1.72172-0.51000.h5\n",
            "0\n",
            "34/34 [==============================] - 208s 6s/step - batch: 16.5000 - size: 39.0000 - loss: 0.4981 - categorical_accuracy: 0.8296 - val_loss: 1.7217 - val_categorical_accuracy: 0.5100\n",
            "Epoch 21/22\n",
            "34/34 [==============================] - ETA: 0s - batch: 16.5000 - size: 39.0000 - loss: 0.4811 - categorical_accuracy: 0.8409\n",
            "Epoch 00021: saving model to model_init_2021-03-1814_11_36.442346/model-00021-0.48107-0.84087-1.59248-0.56000.h5\n",
            "0\n",
            "34/34 [==============================] - 207s 6s/step - batch: 16.5000 - size: 39.0000 - loss: 0.4811 - categorical_accuracy: 0.8409 - val_loss: 1.5925 - val_categorical_accuracy: 0.5600\n",
            "Epoch 22/22\n",
            "34/34 [==============================] - ETA: 0s - batch: 16.5000 - size: 39.0000 - loss: 0.4694 - categorical_accuracy: 0.8356\n",
            "Epoch 00022: saving model to model_init_2021-03-1814_11_36.442346/model-00022-0.46938-0.83560-1.34965-0.60000.h5\n",
            "0\n",
            "34/34 [==============================] - 207s 6s/step - batch: 16.5000 - size: 39.0000 - loss: 0.4694 - categorical_accuracy: 0.8356 - val_loss: 1.3497 - val_categorical_accuracy: 0.6000\n"
          ],
          "name": "stdout"
        }
      ]
    },
    {
      "cell_type": "code",
      "metadata": {
        "id": "WSHXypIxT2_c",
        "colab": {
          "base_uri": "https://localhost:8080/",
          "height": 269
        },
        "outputId": "5f1d629a-e8eb-41f4-babc-5ed37f85a91c"
      },
      "source": [
        "plot(accuracy_check_model_5)"
      ],
      "execution_count": 52,
      "outputs": [
        {
          "output_type": "display_data",
          "data": {
            "image/png": "[encoded data removed]",
            "text/plain": [
              "<Figure size 1080x288 with 2 Axes>"
            ]
          },
          "metadata": {
            "tags": [],
            "needs_background": "light"
          }
        }
      ]
    },
    {
      "cell_type": "markdown",
      "metadata": {
        "id": "QOot9MXnwkBV"
      },
      "source": [
        "\r\n",
        "Adding dropouts has further reduced validation accuracy as its not to learn generalizable features\r\n",
        "All models experimental models above have more than 1 million parameters. Let's try to reduce the model size and see the performance"
      ]
    },
    {
      "cell_type": "code",
      "metadata": {
        "id": "gCTXMah8xFXr"
      },
      "source": [
        "Conv3D5.clear_session(Conv3D5_model)"
      ],
      "execution_count": 53,
      "outputs": []
    },
    {
      "cell_type": "markdown",
      "metadata": {
        "id": "0FroiBKKw0un"
      },
      "source": [
        "## Model 6 - reducing the number of parameters"
      ]
    },
    {
      "cell_type": "code",
      "metadata": {
        "id": "wJj_Nb_IwnLi"
      },
      "source": [
        "class ModelConv3D6(ModelBuilder):\r\n",
        "    \r\n",
        "    def define_model(self,dense_neurons=64,dropout=0.25):\r\n",
        "\r\n",
        "        model = Sequential()\r\n",
        "        model.add(Conv3D(16, (3, 3, 3), padding='same',\r\n",
        "                 input_shape=(self.frames_to_sample,self.image_height,self.image_width,self.channels)))\r\n",
        "        model.add(Activation('relu'))\r\n",
        "        model.add(BatchNormalization())\r\n",
        "        model.add(MaxPooling3D(pool_size=(2, 2, 2)))\r\n",
        "\r\n",
        "        model.add(Conv3D(32, (2, 2, 2), padding='same'))\r\n",
        "        model.add(Activation('relu'))\r\n",
        "        model.add(BatchNormalization())\r\n",
        "        model.add(MaxPooling3D(pool_size=(2, 2, 2)))\r\n",
        "\r\n",
        "        model.add(Conv3D(64, (2, 2, 2), padding='same'))\r\n",
        "        model.add(Activation('relu'))\r\n",
        "        model.add(BatchNormalization())\r\n",
        "        model.add(MaxPooling3D(pool_size=(2, 2, 2)))\r\n",
        "\r\n",
        "        model.add(Conv3D(128, (2, 2, 2), padding='same'))\r\n",
        "        model.add(Activation('relu'))\r\n",
        "        model.add(BatchNormalization())\r\n",
        "        model.add(MaxPooling3D(pool_size=(2, 2, 2)))\r\n",
        "        \r\n",
        "        model.add(Flatten())\r\n",
        "        model.add(Dense(dense_neurons,activation='relu'))\r\n",
        "        model.add(BatchNormalization())\r\n",
        "        model.add(Dropout(dropout))\r\n",
        "\r\n",
        "        model.add(Dense(dense_neurons,activation='relu'))\r\n",
        "        model.add(BatchNormalization())\r\n",
        "        model.add(Dropout(dropout))\r\n",
        "\r\n",
        "        model.add(Dense(self.num_classes,activation='softmax'))\r\n",
        "\r\n",
        "        optimiser = optimizers.Adam(lr=0.0002)\r\n",
        "        model.compile(optimizer=optimiser, loss='categorical_crossentropy', metrics=['categorical_accuracy'])\r\n",
        "        return model"
      ],
      "execution_count": 54,
      "outputs": []
    },
    {
      "cell_type": "code",
      "metadata": {
        "id": "WKI57BD-xhK9",
        "colab": {
          "base_uri": "https://localhost:8080/"
        },
        "outputId": "8cb0d14f-6627-478f-8da0-f4878796821c"
      },
      "source": [
        "Conv3D6=ModelConv3D6()\r\n",
        "Conv3D6.initialize_src_path(main_folder)\r\n",
        "Conv3D6.initialize_image_properties(image_height=100,image_width=100)\r\n",
        "Conv3D6.initialize_hyperparams(frames_to_sample=16,batch_size=20,num_epochs=30)\r\n",
        "Conv3D6_model=Conv3D6.define_model(dense_neurons=128,dropout=0.25)\r\n",
        "Conv3D6_model.summary()"
      ],
      "execution_count": 55,
      "outputs": [
        {
          "output_type": "stream",
          "text": [
            "Model: \"sequential\"\n",
            "_________________________________________________________________\n",
            "Layer (type)                 Output Shape              Param #   \n",
            "=================================================================\n",
            "conv3d (Conv3D)              (None, 16, 100, 100, 16)  1312      \n",
            "_________________________________________________________________\n",
            "activation (Activation)      (None, 16, 100, 100, 16)  0         \n",
            "_________________________________________________________________\n",
            "batch_normalization (BatchNo (None, 16, 100, 100, 16)  64        \n",
            "_________________________________________________________________\n",
            "max_pooling3d (MaxPooling3D) (None, 8, 50, 50, 16)     0         \n",
            "_________________________________________________________________\n",
            "conv3d_1 (Conv3D)            (None, 8, 50, 50, 32)     4128      \n",
            "_________________________________________________________________\n",
            "activation_1 (Activation)    (None, 8, 50, 50, 32)     0         \n",
            "_________________________________________________________________\n",
            "batch_normalization_1 (Batch (None, 8, 50, 50, 32)     128       \n",
            "_________________________________________________________________\n",
            "max_pooling3d_1 (MaxPooling3 (None, 4, 25, 25, 32)     0         \n",
            "_________________________________________________________________\n",
            "conv3d_2 (Conv3D)            (None, 4, 25, 25, 64)     16448     \n",
            "_________________________________________________________________\n",
            "activation_2 (Activation)    (None, 4, 25, 25, 64)     0         \n",
            "_________________________________________________________________\n",
            "batch_normalization_2 (Batch (None, 4, 25, 25, 64)     256       \n",
            "_________________________________________________________________\n",
            "max_pooling3d_2 (MaxPooling3 (None, 2, 12, 12, 64)     0         \n",
            "_________________________________________________________________\n",
            "conv3d_3 (Conv3D)            (None, 2, 12, 12, 128)    65664     \n",
            "_________________________________________________________________\n",
            "activation_3 (Activation)    (None, 2, 12, 12, 128)    0         \n",
            "_________________________________________________________________\n",
            "batch_normalization_3 (Batch (None, 2, 12, 12, 128)    512       \n",
            "_________________________________________________________________\n",
            "max_pooling3d_3 (MaxPooling3 (None, 1, 6, 6, 128)      0         \n",
            "_________________________________________________________________\n",
            "flatten (Flatten)            (None, 4608)              0         \n",
            "_________________________________________________________________\n",
            "dense (Dense)                (None, 128)               589952    \n",
            "_________________________________________________________________\n",
            "batch_normalization_4 (Batch (None, 128)               512       \n",
            "_________________________________________________________________\n",
            "dropout (Dropout)            (None, 128)               0         \n",
            "_________________________________________________________________\n",
            "dense_1 (Dense)              (None, 128)               16512     \n",
            "_________________________________________________________________\n",
            "batch_normalization_5 (Batch (None, 128)               512       \n",
            "_________________________________________________________________\n",
            "dropout_1 (Dropout)          (None, 128)               0         \n",
            "_________________________________________________________________\n",
            "dense_2 (Dense)              (None, 5)                 645       \n",
            "=================================================================\n",
            "Total params: 696,645\n",
            "Trainable params: 695,653\n",
            "Non-trainable params: 992\n",
            "_________________________________________________________________\n"
          ],
          "name": "stdout"
        }
      ]
    },
    {
      "cell_type": "code",
      "metadata": {
        "id": "2ydywdxnxwbU",
        "colab": {
          "base_uri": "https://localhost:8080/"
        },
        "outputId": "1512f3b0-f5ae-4347-fedb-779cdf81b55c"
      },
      "source": [
        "print(\"Total Params:\", Conv3D6_model.count_params())\r\n",
        "accuracy_check_model_6=Conv3D6.train_model(Conv3D6_model,augment_data=True)"
      ],
      "execution_count": null,
      "outputs": [
        {
          "output_type": "stream",
          "text": [
            "Total Params: 696645\n",
            "WARNING:tensorflow:`period` argument is deprecated. Please use `save_freq` to specify the frequency in number of batches seen.\n",
            "Epoch 1/30\n",
            "34/34 [==============================] - ETA: 0s - batch: 16.5000 - size: 39.0000 - loss: 1.8899 - categorical_accuracy: 0.3560\n",
            "Epoch 00001: saving model to model_init_2021-03-1815_27_58.401971/model-00001-1.88985-0.35596-2.04349-0.16000.h5\n",
            "48\n",
            "34/34 [==============================] - 213s 6s/step - batch: 16.5000 - size: 39.0000 - loss: 1.8899 - categorical_accuracy: 0.3560 - val_loss: 2.0435 - val_categorical_accuracy: 0.1600\n",
            "Epoch 2/30\n",
            "34/34 [==============================] - ETA: 0s - batch: 16.5000 - size: 39.0000 - loss: 1.2641 - categorical_accuracy: 0.5498\n",
            "Epoch 00002: saving model to model_init_2021-03-1815_27_58.401971/model-00002-1.26411-0.54977-3.15427-0.14000.h5\n",
            "0\n",
            "34/34 [==============================] - 192s 6s/step - batch: 16.5000 - size: 39.0000 - loss: 1.2641 - categorical_accuracy: 0.5498 - val_loss: 3.1543 - val_categorical_accuracy: 0.1400\n",
            "Epoch 3/30\n",
            "34/34 [==============================] - ETA: 0s - batch: 16.5000 - size: 39.0000 - loss: 1.0326 - categorical_accuracy: 0.6026\n",
            "Epoch 00003: saving model to model_init_2021-03-1815_27_58.401971/model-00003-1.03261-0.60256-4.41641-0.14000.h5\n",
            "0\n",
            "34/34 [==============================] - 199s 6s/step - batch: 16.5000 - size: 39.0000 - loss: 1.0326 - categorical_accuracy: 0.6026 - val_loss: 4.4164 - val_categorical_accuracy: 0.1400\n",
            "Epoch 4/30\n",
            "34/34 [==============================] - ETA: 0s - batch: 16.5000 - size: 39.0000 - loss: 0.9447 - categorical_accuracy: 0.6478\n",
            "Epoch 00004: saving model to model_init_2021-03-1815_27_58.401971/model-00004-0.94466-0.64781-5.48505-0.10000.h5\n",
            "0\n",
            "34/34 [==============================] - 189s 6s/step - batch: 16.5000 - size: 39.0000 - loss: 0.9447 - categorical_accuracy: 0.6478 - val_loss: 5.4851 - val_categorical_accuracy: 0.1000\n",
            "Epoch 5/30\n",
            "11/34 [========>.....................] - ETA: 1:44 - batch: 5.0000 - size: 40.0000 - loss: 0.8068 - categorical_accuracy: 0.6955"
          ],
          "name": "stdout"
        }
      ]
    },
    {
      "cell_type": "code",
      "metadata": {
        "id": "I7WQvNWYDybQ"
      },
      "source": [
        "plot(accuracy_check_model_6)"
      ],
      "execution_count": null,
      "outputs": []
    },
    {
      "cell_type": "markdown",
      "metadata": {
        "id": "zBJFD6jaJsTV"
      },
      "source": [
        "For the above low memory foot print model the best validation accuracy of 73%"
      ]
    },
    {
      "cell_type": "code",
      "metadata": {
        "id": "cArLoK-0RXxf"
      },
      "source": [
        "Conv3D6.clear_session(Conv3D6_model)"
      ],
      "execution_count": null,
      "outputs": []
    },
    {
      "cell_type": "markdown",
      "metadata": {
        "id": "AHU3qisEKMLX"
      },
      "source": [
        "## Model 7 - reducing the number of parameters"
      ]
    },
    {
      "cell_type": "code",
      "metadata": {
        "id": "huD4YXHfJ9E7"
      },
      "source": [
        "class ModelConv3D7(ModelBuilder):\r\n",
        "    \r\n",
        "    def define_model(self,dense_neurons=64,dropout=0.25):\r\n",
        "\r\n",
        "        model = Sequential()\r\n",
        "        model.add(Conv3D(16, (3, 3, 3), padding='same',\r\n",
        "                 input_shape=(self.frames_to_sample,self.image_height,self.image_width,self.channels)))\r\n",
        "        model.add(Activation('relu'))\r\n",
        "        model.add(BatchNormalization())\r\n",
        "        model.add(MaxPooling3D(pool_size=(2, 2, 2)))\r\n",
        "\r\n",
        "        model.add(Conv3D(32, (3, 3, 3), padding='same'))\r\n",
        "        model.add(Activation('relu'))\r\n",
        "        model.add(BatchNormalization())\r\n",
        "        model.add(MaxPooling3D(pool_size=(2, 2, 2)))\r\n",
        "\r\n",
        "        model.add(Conv3D(64, (2, 2, 2), padding='same'))\r\n",
        "        model.add(Activation('relu'))\r\n",
        "        model.add(BatchNormalization())\r\n",
        "        model.add(MaxPooling3D(pool_size=(2, 2, 2)))\r\n",
        "\r\n",
        "        model.add(Conv3D(128, (2, 2, 2), padding='same'))\r\n",
        "        model.add(Activation('relu'))\r\n",
        "        model.add(BatchNormalization())\r\n",
        "        model.add(MaxPooling3D(pool_size=(2, 2, 2)))\r\n",
        "        \r\n",
        "        model.add(Flatten())\r\n",
        "        model.add(Dense(dense_neurons,activation='relu'))\r\n",
        "        model.add(BatchNormalization())\r\n",
        "        model.add(Dropout(dropout))\r\n",
        "\r\n",
        "        model.add(Dense(dense_neurons,activation='relu'))\r\n",
        "        model.add(BatchNormalization())\r\n",
        "        model.add(Dropout(dropout))\r\n",
        "\r\n",
        "        model.add(Dense(self.num_classes,activation='softmax'))\r\n",
        "\r\n",
        "        optimiser = optimizers.Adam(lr=0.0002)\r\n",
        "        model.compile(optimizer=optimiser, loss='categorical_crossentropy', metrics=['categorical_accuracy'])\r\n",
        "        return model"
      ],
      "execution_count": null,
      "outputs": []
    },
    {
      "cell_type": "code",
      "metadata": {
        "id": "VR3gHG0T256h"
      },
      "source": [
        "conv_3d7=ModelConv3D7()\r\n",
        "conv_3d7.initialize_src_path(main_folder)\r\n",
        "conv_3d7.initialize_image_properties(image_height=120,image_width=120)\r\n",
        "conv_3d7.initialize_hyperparams(frames_to_sample=16,batch_size=20,num_epochs=25)\r\n",
        "conv_3d7_model=conv_3d7.define_model(dense_neurons=64,dropout=0.25)\r\n",
        "conv_3d7_model.summary()"
      ],
      "execution_count": null,
      "outputs": []
    },
    {
      "cell_type": "code",
      "metadata": {
        "id": "s63kvjqd3UKl"
      },
      "source": [
        "print(\"Total Params:\", conv_3d7_model.count_params())\r\n",
        "accuracy_check_model_7=conv_3d7.train_model(conv_3d7_model,augment_data=True)"
      ],
      "execution_count": null,
      "outputs": []
    },
    {
      "cell_type": "code",
      "metadata": {
        "id": "yBJGgwaa3kOR"
      },
      "source": [
        "plot(accuracy_check_model_7)"
      ],
      "execution_count": null,
      "outputs": []
    },
    {
      "cell_type": "code",
      "metadata": {
        "id": "0bBbPYK-RgAh"
      },
      "source": [
        "Conv3D7.clear_session(Conv3D7_model)"
      ],
      "execution_count": null,
      "outputs": []
    },
    {
      "cell_type": "markdown",
      "metadata": {
        "id": "4OW55j6S4f5y"
      },
      "source": [
        "## Model 8 - reducing the number of parameters"
      ]
    },
    {
      "cell_type": "code",
      "metadata": {
        "id": "JtU-6-0v4e12"
      },
      "source": [
        "class ModelConv3D8(ModelBuilder):\r\n",
        "    \r\n",
        "    def define_model(self,dense_neurons=64,dropout=0.25):\r\n",
        "\r\n",
        "        model = Sequential()\r\n",
        "        model.add(Conv3D(8, (3, 3, 3), padding='same',\r\n",
        "        input_shape=(self.frames_to_sample,self.image_height,self.image_width,self.channels)))\r\n",
        "        model.add(Activation('relu'))\r\n",
        "        model.add(BatchNormalization())\r\n",
        "        model.add(MaxPooling3D(pool_size=(2, 2, 2)))\r\n",
        "\r\n",
        "        model.add(Conv3D(16, (3, 3, 3), padding='same'))\r\n",
        "        model.add(Activation('relu'))\r\n",
        "        model.add(BatchNormalization())\r\n",
        "        model.add(MaxPooling3D(pool_size=(2, 2, 2)))\r\n",
        "\r\n",
        "        model.add(Conv3D(32, (2, 2, 2), padding='same'))\r\n",
        "        model.add(Activation('relu'))\r\n",
        "        model.add(BatchNormalization())\r\n",
        "        model.add(MaxPooling3D(pool_size=(2, 2, 2)))\r\n",
        "\r\n",
        "        model.add(Conv3D(64, (2, 2, 2), padding='same'))\r\n",
        "        model.add(Activation('relu'))\r\n",
        "        model.add(BatchNormalization())\r\n",
        "        model.add(MaxPooling3D(pool_size=(2, 2, 2)))\r\n",
        "        \r\n",
        "        model.add(Flatten())\r\n",
        "        model.add(Dense(dense_neurons,activation='relu'))\r\n",
        "        model.add(BatchNormalization())\r\n",
        "        model.add(Dropout(dropout))\r\n",
        "\r\n",
        "        model.add(Dense(dense_neurons,activation='relu'))\r\n",
        "        model.add(BatchNormalization())\r\n",
        "        model.add(Dropout(dropout))\r\n",
        "\r\n",
        "        model.add(Dense(self.num_classes,activation='softmax'))\r\n",
        "\r\n",
        "        optimiser = optimizers.Adam(lr=0.0002)\r\n",
        "        model.compile(optimizer=optimiser, loss='categorical_crossentropy', metrics=['categorical_accuracy'])\r\n",
        "        return model"
      ],
      "execution_count": 18,
      "outputs": []
    },
    {
      "cell_type": "code",
      "metadata": {
        "id": "BC1Vxikp44zW",
        "colab": {
          "base_uri": "https://localhost:8080/"
        },
        "outputId": "61e8e6f4-78e3-46fc-ef9c-3f0983291bc5"
      },
      "source": [
        "conv_3d8=ModelConv3D8()\r\n",
        "conv_3d8.initialize_src_path(main_folder)\r\n",
        "conv_3d8.initialize_image_properties(image_height=120,image_width=120)\r\n",
        "conv_3d8.initialize_hyperparams(frames_to_sample=16,batch_size=20,num_epochs=30)\r\n",
        "conv_3d8_model=conv_3d8.define_model(dense_neurons=64,dropout=0.25)\r\n",
        "conv_3d8_model.summary()"
      ],
      "execution_count": 19,
      "outputs": [
        {
          "output_type": "stream",
          "text": [
            "Model: \"sequential_1\"\n",
            "_________________________________________________________________\n",
            "Layer (type)                 Output Shape              Param #   \n",
            "=================================================================\n",
            "conv3d (Conv3D)              (None, 16, 120, 120, 8)   656       \n",
            "_________________________________________________________________\n",
            "activation (Activation)      (None, 16, 120, 120, 8)   0         \n",
            "_________________________________________________________________\n",
            "batch_normalization_5 (Batch (None, 16, 120, 120, 8)   32        \n",
            "_________________________________________________________________\n",
            "max_pooling3d (MaxPooling3D) (None, 8, 60, 60, 8)      0         \n",
            "_________________________________________________________________\n",
            "conv3d_1 (Conv3D)            (None, 8, 60, 60, 16)     3472      \n",
            "_________________________________________________________________\n",
            "activation_1 (Activation)    (None, 8, 60, 60, 16)     0         \n",
            "_________________________________________________________________\n",
            "batch_normalization_6 (Batch (None, 8, 60, 60, 16)     64        \n",
            "_________________________________________________________________\n",
            "max_pooling3d_1 (MaxPooling3 (None, 4, 30, 30, 16)     0         \n",
            "_________________________________________________________________\n",
            "conv3d_2 (Conv3D)            (None, 4, 30, 30, 32)     4128      \n",
            "_________________________________________________________________\n",
            "activation_2 (Activation)    (None, 4, 30, 30, 32)     0         \n",
            "_________________________________________________________________\n",
            "batch_normalization_7 (Batch (None, 4, 30, 30, 32)     128       \n",
            "_________________________________________________________________\n",
            "max_pooling3d_2 (MaxPooling3 (None, 2, 15, 15, 32)     0         \n",
            "_________________________________________________________________\n",
            "conv3d_3 (Conv3D)            (None, 2, 15, 15, 64)     16448     \n",
            "_________________________________________________________________\n",
            "activation_3 (Activation)    (None, 2, 15, 15, 64)     0         \n",
            "_________________________________________________________________\n",
            "batch_normalization_8 (Batch (None, 2, 15, 15, 64)     256       \n",
            "_________________________________________________________________\n",
            "max_pooling3d_3 (MaxPooling3 (None, 1, 7, 7, 64)       0         \n",
            "_________________________________________________________________\n",
            "flatten_1 (Flatten)          (None, 3136)              0         \n",
            "_________________________________________________________________\n",
            "dense_2 (Dense)              (None, 64)                200768    \n",
            "_________________________________________________________________\n",
            "batch_normalization_9 (Batch (None, 64)                256       \n",
            "_________________________________________________________________\n",
            "dropout_2 (Dropout)          (None, 64)                0         \n",
            "_________________________________________________________________\n",
            "dense_3 (Dense)              (None, 64)                4160      \n",
            "_________________________________________________________________\n",
            "batch_normalization_10 (Batc (None, 64)                256       \n",
            "_________________________________________________________________\n",
            "dropout_3 (Dropout)          (None, 64)                0         \n",
            "_________________________________________________________________\n",
            "dense_4 (Dense)              (None, 5)                 325       \n",
            "=================================================================\n",
            "Total params: 230,949\n",
            "Trainable params: 230,453\n",
            "Non-trainable params: 496\n",
            "_________________________________________________________________\n"
          ],
          "name": "stdout"
        }
      ]
    },
    {
      "cell_type": "code",
      "metadata": {
        "id": "oikZb8Ij5DNw",
        "colab": {
          "base_uri": "https://localhost:8080/"
        },
        "outputId": "ce40057b-1f48-4aef-fb1d-a9ff3cafc1d6"
      },
      "source": [
        "print(\"Total Params:\", conv_3d8_model.count_params())\r\n",
        "accuracy_check_model_8=conv_3d8.train_model(conv_3d8_model,augment_data=True)"
      ],
      "execution_count": null,
      "outputs": [
        {
          "output_type": "stream",
          "text": [
            "Total Params: 230949\n",
            "WARNING:tensorflow:`period` argument is deprecated. Please use `save_freq` to specify the frequency in number of batches seen.\n",
            "Epoch 1/30\n",
            "34/34 [==============================] - ETA: 0s - batch: 16.5000 - size: 39.0000 - loss: 2.0275 - categorical_accuracy: 0.3032\n",
            "Epoch 00001: saving model to model_init_2021-03-1817_34_40.905254/model-00001-2.02752-0.30317-1.60681-0.21000.h5\n",
            "5863\n",
            "34/34 [==============================] - 214s 6s/step - batch: 16.5000 - size: 39.0000 - loss: 2.0275 - categorical_accuracy: 0.3032 - val_loss: 1.6068 - val_categorical_accuracy: 0.2100\n",
            "Epoch 2/30\n",
            "34/34 [==============================] - ETA: 0s - batch: 16.5000 - size: 39.0000 - loss: 1.4542 - categorical_accuracy: 0.4623\n",
            "Epoch 00002: saving model to model_init_2021-03-1817_34_40.905254/model-00002-1.45423-0.46229-1.76641-0.23000.h5\n",
            "0\n",
            "34/34 [==============================] - 192s 6s/step - batch: 16.5000 - size: 39.0000 - loss: 1.4542 - categorical_accuracy: 0.4623 - val_loss: 1.7664 - val_categorical_accuracy: 0.2300\n",
            "Epoch 3/30\n",
            "34/34 [==============================] - ETA: 0s - batch: 16.5000 - size: 39.0000 - loss: 1.2579 - categorical_accuracy: 0.5068\n",
            "Epoch 00003: saving model to model_init_2021-03-1817_34_40.905254/model-00003-1.25794-0.50679-2.01543-0.16000.h5\n",
            "0\n",
            "34/34 [==============================] - 190s 6s/step - batch: 16.5000 - size: 39.0000 - loss: 1.2579 - categorical_accuracy: 0.5068 - val_loss: 2.0154 - val_categorical_accuracy: 0.1600\n",
            "Epoch 4/30\n",
            "34/34 [==============================] - ETA: 0s - batch: 16.5000 - size: 39.0000 - loss: 1.1221 - categorical_accuracy: 0.5754\n",
            "Epoch 00004: saving model to model_init_2021-03-1817_34_40.905254/model-00004-1.12207-0.57541-2.03813-0.27000.h5\n",
            "0\n",
            "34/34 [==============================] - 194s 6s/step - batch: 16.5000 - size: 39.0000 - loss: 1.1221 - categorical_accuracy: 0.5754 - val_loss: 2.0381 - val_categorical_accuracy: 0.2700\n",
            "Epoch 5/30\n",
            "23/34 [===================>..........] - ETA: 54s - batch: 11.0000 - size: 40.0000 - loss: 0.9934 - categorical_accuracy: 0.6011"
          ],
          "name": "stdout"
        }
      ]
    },
    {
      "cell_type": "code",
      "metadata": {
        "id": "ds6Ddq2y5SsD"
      },
      "source": [
        "plot(accuracy_check_model_8)"
      ],
      "execution_count": null,
      "outputs": []
    },
    {
      "cell_type": "code",
      "metadata": {
        "id": "Bq14-oPeXfA9"
      },
      "source": [
        "conv_3d8.clear_session(conv_3d8_model)"
      ],
      "execution_count": null,
      "outputs": []
    },
    {
      "cell_type": "markdown",
      "metadata": {
        "id": "iGRwZahyW2aW"
      },
      "source": [
        "## Model 9 - CNN- LSTM Model"
      ]
    },
    {
      "cell_type": "code",
      "metadata": {
        "id": "FuOHUaOhW0gJ"
      },
      "source": [
        "class CNNRNN1(ModelBuilder):\r\n",
        "    \r\n",
        "    def define_model(self,lstm_cells=64,dense_neurons=64,dropout=0.25):\r\n",
        "\r\n",
        "        model = Sequential()\r\n",
        "\r\n",
        "        model.add(TimeDistributed(Conv2D(16, (3, 3) , padding='same', activation='relu'),\r\n",
        "                                  input_shape=(self.frames_to_sample,self.image_height,self.image_width,self.channels)))\r\n",
        "        model.add(TimeDistributed(BatchNormalization()))\r\n",
        "        model.add(TimeDistributed(MaxPooling2D((2, 2))))\r\n",
        "        \r\n",
        "        model.add(TimeDistributed(Conv2D(32, (3, 3) , padding='same', activation='relu')))\r\n",
        "        model.add(TimeDistributed(BatchNormalization()))\r\n",
        "        model.add(TimeDistributed(MaxPooling2D((2, 2))))\r\n",
        "        \r\n",
        "        model.add(TimeDistributed(Conv2D(64, (3, 3) , padding='same', activation='relu')))\r\n",
        "        model.add(TimeDistributed(BatchNormalization()))\r\n",
        "        model.add(TimeDistributed(MaxPooling2D((2, 2))))\r\n",
        "        \r\n",
        "        model.add(TimeDistributed(Conv2D(128, (3, 3) , padding='same', activation='relu')))\r\n",
        "        model.add(TimeDistributed(BatchNormalization()))\r\n",
        "        model.add(TimeDistributed(MaxPooling2D((2, 2))))\r\n",
        "        \r\n",
        "        model.add(TimeDistributed(Conv2D(256, (3, 3) , padding='same', activation='relu')))\r\n",
        "        model.add(TimeDistributed(BatchNormalization()))\r\n",
        "        model.add(TimeDistributed(MaxPooling2D((2, 2))))\r\n",
        "        \r\n",
        "        model.add(TimeDistributed(Flatten()))\r\n",
        "\r\n",
        "\r\n",
        "        model.add(LSTM(lstm_cells))\r\n",
        "        model.add(Dropout(dropout))\r\n",
        "        \r\n",
        "        model.add(Dense(dense_neurons,activation='relu'))\r\n",
        "        model.add(Dropout(dropout))\r\n",
        "        \r\n",
        "        model.add(Dense(self.num_classes, activation='softmax'))\r\n",
        "        optimiser = optimizers.Adam()\r\n",
        "        model.compile(optimizer=optimiser, loss='categorical_crossentropy', metrics=['categorical_accuracy'])\r\n",
        "        return model"
      ],
      "execution_count": 10,
      "outputs": []
    },
    {
      "cell_type": "code",
      "metadata": {
        "colab": {
          "base_uri": "https://localhost:8080/"
        },
        "id": "HCoDy3FXXJj4",
        "outputId": "9302c389-fa67-4dc4-c5d8-032b73149d1d"
      },
      "source": [
        "cnn_rnn1=CNNRNN1()\r\n",
        "cnn_rnn1.initialize_src_path(main_folder)\r\n",
        "cnn_rnn1.initialize_image_properties(image_height=120,image_width=120)\r\n",
        "cnn_rnn1.initialize_hyperparams(frames_to_sample=18,batch_size=20,num_epochs=20)\r\n",
        "cnn_rnn1_model=cnn_rnn1.define_model(lstm_cells=128,dense_neurons=128,dropout=0.25)\r\n",
        "cnn_rnn1_model.summary()"
      ],
      "execution_count": 15,
      "outputs": [
        {
          "output_type": "stream",
          "text": [
            "WARNING:tensorflow:Layer lstm will not use cuDNN kernel since it doesn't meet the cuDNN kernel criteria. It will use generic GPU kernel as fallback when running on GPU\n",
            "Model: \"sequential\"\n",
            "_________________________________________________________________\n",
            "Layer (type)                 Output Shape              Param #   \n",
            "=================================================================\n",
            "time_distributed (TimeDistri (None, 18, 120, 120, 16)  448       \n",
            "_________________________________________________________________\n",
            "time_distributed_1 (TimeDist (None, 18, 120, 120, 16)  64        \n",
            "_________________________________________________________________\n",
            "time_distributed_2 (TimeDist (None, 18, 60, 60, 16)    0         \n",
            "_________________________________________________________________\n",
            "time_distributed_3 (TimeDist (None, 18, 60, 60, 32)    4640      \n",
            "_________________________________________________________________\n",
            "time_distributed_4 (TimeDist (None, 18, 60, 60, 32)    128       \n",
            "_________________________________________________________________\n",
            "time_distributed_5 (TimeDist (None, 18, 30, 30, 32)    0         \n",
            "_________________________________________________________________\n",
            "time_distributed_6 (TimeDist (None, 18, 30, 30, 64)    18496     \n",
            "_________________________________________________________________\n",
            "time_distributed_7 (TimeDist (None, 18, 30, 30, 64)    256       \n",
            "_________________________________________________________________\n",
            "time_distributed_8 (TimeDist (None, 18, 15, 15, 64)    0         \n",
            "_________________________________________________________________\n",
            "time_distributed_9 (TimeDist (None, 18, 15, 15, 128)   73856     \n",
            "_________________________________________________________________\n",
            "time_distributed_10 (TimeDis (None, 18, 15, 15, 128)   512       \n",
            "_________________________________________________________________\n",
            "time_distributed_11 (TimeDis (None, 18, 7, 7, 128)     0         \n",
            "_________________________________________________________________\n",
            "time_distributed_12 (TimeDis (None, 18, 7, 7, 256)     295168    \n",
            "_________________________________________________________________\n",
            "time_distributed_13 (TimeDis (None, 18, 7, 7, 256)     1024      \n",
            "_________________________________________________________________\n",
            "time_distributed_14 (TimeDis (None, 18, 3, 3, 256)     0         \n",
            "_________________________________________________________________\n",
            "time_distributed_15 (TimeDis (None, 18, 2304)          0         \n",
            "_________________________________________________________________\n",
            "lstm (LSTM)                  (None, 128)               1245696   \n",
            "_________________________________________________________________\n",
            "dropout (Dropout)            (None, 128)               0         \n",
            "_________________________________________________________________\n",
            "dense (Dense)                (None, 128)               16512     \n",
            "_________________________________________________________________\n",
            "dropout_1 (Dropout)          (None, 128)               0         \n",
            "_________________________________________________________________\n",
            "dense_1 (Dense)              (None, 5)                 645       \n",
            "=================================================================\n",
            "Total params: 1,657,445\n",
            "Trainable params: 1,656,453\n",
            "Non-trainable params: 992\n",
            "_________________________________________________________________\n"
          ],
          "name": "stdout"
        }
      ]
    },
    {
      "cell_type": "code",
      "metadata": {
        "colab": {
          "base_uri": "https://localhost:8080/"
        },
        "id": "2-t4EsndXVii",
        "outputId": "3ae06702-3148-4f8d-919b-e4be1a590c93"
      },
      "source": [
        "print(\"Total Params:\", cnn_rnn1_model.count_params())\r\n",
        "accuracy_check_model_9=cnn_rnn1.train_model(cnn_rnn1_model,augment_data=True)"
      ],
      "execution_count": 16,
      "outputs": [
        {
          "output_type": "stream",
          "text": [
            "Total Params: 1657445\n",
            "WARNING:tensorflow:`period` argument is deprecated. Please use `save_freq` to specify the frequency in number of batches seen.\n",
            "Epoch 1/20\n",
            "34/34 [==============================] - ETA: 0s - batch: 16.5000 - size: 39.0000 - loss: 1.4310 - categorical_accuracy: 0.3786\n",
            "Epoch 00001: saving model to model_init_2021-03-1816_19_57.303756/model-00001-1.43097-0.37858-1.59872-0.32000.h5\n",
            "0\n",
            "34/34 [==============================] - 243s 6s/step - batch: 16.5000 - size: 39.0000 - loss: 1.4310 - categorical_accuracy: 0.3786 - val_loss: 1.5987 - val_categorical_accuracy: 0.3200\n",
            "Epoch 2/20\n",
            "34/34 [==============================] - ETA: 0s - batch: 16.5000 - size: 39.0000 - loss: 1.1218 - categorical_accuracy: 0.5317\n",
            "Epoch 00002: saving model to model_init_2021-03-1816_19_57.303756/model-00002-1.12175-0.53167-1.77028-0.20000.h5\n",
            "0\n",
            "34/34 [==============================] - 223s 7s/step - batch: 16.5000 - size: 39.0000 - loss: 1.1218 - categorical_accuracy: 0.5317 - val_loss: 1.7703 - val_categorical_accuracy: 0.2000\n",
            "Epoch 3/20\n",
            "34/34 [==============================] - ETA: 0s - batch: 16.5000 - size: 39.0000 - loss: 0.9935 - categorical_accuracy: 0.6041\n",
            "Epoch 00003: saving model to model_init_2021-03-1816_19_57.303756/model-00003-0.99353-0.60407-1.78530-0.27000.h5\n",
            "0\n",
            "34/34 [==============================] - 222s 7s/step - batch: 16.5000 - size: 39.0000 - loss: 0.9935 - categorical_accuracy: 0.6041 - val_loss: 1.7853 - val_categorical_accuracy: 0.2700\n",
            "Epoch 4/20\n",
            "34/34 [==============================] - ETA: 0s - batch: 16.5000 - size: 39.0000 - loss: 0.8273 - categorical_accuracy: 0.6802\n",
            "Epoch 00004: saving model to model_init_2021-03-1816_19_57.303756/model-00004-0.82731-0.68024-2.10249-0.25000.h5\n",
            "0\n",
            "34/34 [==============================] - 219s 7s/step - batch: 16.5000 - size: 39.0000 - loss: 0.8273 - categorical_accuracy: 0.6802 - val_loss: 2.1025 - val_categorical_accuracy: 0.2500\n",
            "Epoch 5/20\n",
            "34/34 [==============================] - ETA: 0s - batch: 16.5000 - size: 39.0000 - loss: 0.9132 - categorical_accuracy: 0.6342\n",
            "Epoch 00005: saving model to model_init_2021-03-1816_19_57.303756/model-00005-0.91325-0.63424-1.90053-0.28000.h5\n",
            "\n",
            "Epoch 00005: ReduceLROnPlateau reducing learning rate to 0.00020000000949949026.\n",
            "0\n",
            "34/34 [==============================] - 226s 7s/step - batch: 16.5000 - size: 39.0000 - loss: 0.9132 - categorical_accuracy: 0.6342 - val_loss: 1.9005 - val_categorical_accuracy: 0.2800\n",
            "Epoch 6/20\n",
            "34/34 [==============================] - ETA: 0s - batch: 16.5000 - size: 39.0000 - loss: 0.7401 - categorical_accuracy: 0.7195\n",
            "Epoch 00006: saving model to model_init_2021-03-1816_19_57.303756/model-00006-0.74014-0.71946-2.06071-0.31000.h5\n",
            "0\n",
            "34/34 [==============================] - 219s 7s/step - batch: 16.5000 - size: 39.0000 - loss: 0.7401 - categorical_accuracy: 0.7195 - val_loss: 2.0607 - val_categorical_accuracy: 0.3100\n",
            "Epoch 7/20\n",
            "34/34 [==============================] - ETA: 0s - batch: 16.5000 - size: 39.0000 - loss: 0.6099 - categorical_accuracy: 0.7836\n",
            "Epoch 00007: saving model to model_init_2021-03-1816_19_57.303756/model-00007-0.60990-0.78356-2.20710-0.23000.h5\n",
            "0\n",
            "34/34 [==============================] - 220s 7s/step - batch: 16.5000 - size: 39.0000 - loss: 0.6099 - categorical_accuracy: 0.7836 - val_loss: 2.2071 - val_categorical_accuracy: 0.2300\n",
            "Epoch 8/20\n",
            "34/34 [==============================] - ETA: 0s - batch: 16.5000 - size: 39.0000 - loss: 0.5072 - categorical_accuracy: 0.8130\n",
            "Epoch 00008: saving model to model_init_2021-03-1816_19_57.303756/model-00008-0.50723-0.81297-1.96669-0.31000.h5\n",
            "0\n",
            "34/34 [==============================] - 218s 7s/step - batch: 16.5000 - size: 39.0000 - loss: 0.5072 - categorical_accuracy: 0.8130 - val_loss: 1.9667 - val_categorical_accuracy: 0.3100\n",
            "Epoch 9/20\n",
            "34/34 [==============================] - ETA: 0s - batch: 16.5000 - size: 39.0000 - loss: 0.4279 - categorical_accuracy: 0.8484\n",
            "Epoch 00009: saving model to model_init_2021-03-1816_19_57.303756/model-00009-0.42787-0.84842-1.90080-0.30000.h5\n",
            "\n",
            "Epoch 00009: ReduceLROnPlateau reducing learning rate to 4.0000001899898055e-05.\n",
            "0\n",
            "34/34 [==============================] - 222s 7s/step - batch: 16.5000 - size: 39.0000 - loss: 0.4279 - categorical_accuracy: 0.8484 - val_loss: 1.9008 - val_categorical_accuracy: 0.3000\n",
            "Epoch 10/20\n",
            "34/34 [==============================] - ETA: 0s - batch: 16.5000 - size: 39.0000 - loss: 0.4295 - categorical_accuracy: 0.8605\n",
            "Epoch 00010: saving model to model_init_2021-03-1816_19_57.303756/model-00010-0.42954-0.86048-1.67583-0.41000.h5\n",
            "0\n",
            "34/34 [==============================] - 218s 7s/step - batch: 16.5000 - size: 39.0000 - loss: 0.4295 - categorical_accuracy: 0.8605 - val_loss: 1.6758 - val_categorical_accuracy: 0.4100\n",
            "Epoch 11/20\n",
            "34/34 [==============================] - ETA: 0s - batch: 16.5000 - size: 39.0000 - loss: 0.3980 - categorical_accuracy: 0.8673\n",
            "Epoch 00011: saving model to model_init_2021-03-1816_19_57.303756/model-00011-0.39803-0.86727-1.64434-0.40000.h5\n",
            "0\n",
            "34/34 [==============================] - 219s 7s/step - batch: 16.5000 - size: 39.0000 - loss: 0.3980 - categorical_accuracy: 0.8673 - val_loss: 1.6443 - val_categorical_accuracy: 0.4000\n",
            "Epoch 12/20\n",
            "34/34 [==============================] - ETA: 0s - batch: 16.5000 - size: 39.0000 - loss: 0.3816 - categorical_accuracy: 0.8756\n",
            "Epoch 00012: saving model to model_init_2021-03-1816_19_57.303756/model-00012-0.38162-0.87557-1.51454-0.46000.h5\n",
            "0\n",
            "34/34 [==============================] - 218s 7s/step - batch: 16.5000 - size: 39.0000 - loss: 0.3816 - categorical_accuracy: 0.8756 - val_loss: 1.5145 - val_categorical_accuracy: 0.4600\n",
            "Epoch 13/20\n",
            "34/34 [==============================] - ETA: 0s - batch: 16.5000 - size: 39.0000 - loss: 0.3818 - categorical_accuracy: 0.8688\n",
            "Epoch 00013: saving model to model_init_2021-03-1816_19_57.303756/model-00013-0.38176-0.86878-1.16629-0.54000.h5\n",
            "0\n",
            "34/34 [==============================] - 219s 7s/step - batch: 16.5000 - size: 39.0000 - loss: 0.3818 - categorical_accuracy: 0.8688 - val_loss: 1.1663 - val_categorical_accuracy: 0.5400\n",
            "Epoch 14/20\n",
            "34/34 [==============================] - ETA: 0s - batch: 16.5000 - size: 39.0000 - loss: 0.3856 - categorical_accuracy: 0.8763\n",
            "Epoch 00014: saving model to model_init_2021-03-1816_19_57.303756/model-00014-0.38563-0.87632-1.03825-0.65000.h5\n",
            "0\n",
            "34/34 [==============================] - 218s 7s/step - batch: 16.5000 - size: 39.0000 - loss: 0.3856 - categorical_accuracy: 0.8763 - val_loss: 1.0383 - val_categorical_accuracy: 0.6500\n",
            "Epoch 15/20\n",
            "34/34 [==============================] - ETA: 0s - batch: 16.5000 - size: 39.0000 - loss: 0.3639 - categorical_accuracy: 0.8801\n",
            "Epoch 00015: saving model to model_init_2021-03-1816_19_57.303756/model-00015-0.36388-0.88009-0.88061-0.67000.h5\n",
            "0\n",
            "34/34 [==============================] - 219s 7s/step - batch: 16.5000 - size: 39.0000 - loss: 0.3639 - categorical_accuracy: 0.8801 - val_loss: 0.8806 - val_categorical_accuracy: 0.6700\n",
            "Epoch 16/20\n",
            "34/34 [==============================] - ETA: 0s - batch: 16.5000 - size: 39.0000 - loss: 0.3245 - categorical_accuracy: 0.8899\n",
            "Epoch 00016: saving model to model_init_2021-03-1816_19_57.303756/model-00016-0.32449-0.88989-0.85890-0.67000.h5\n",
            "0\n",
            "34/34 [==============================] - 218s 7s/step - batch: 16.5000 - size: 39.0000 - loss: 0.3245 - categorical_accuracy: 0.8899 - val_loss: 0.8589 - val_categorical_accuracy: 0.6700\n",
            "Epoch 17/20\n",
            "34/34 [==============================] - ETA: 0s - batch: 16.5000 - size: 39.0000 - loss: 0.3267 - categorical_accuracy: 0.8944\n",
            "Epoch 00017: saving model to model_init_2021-03-1816_19_57.303756/model-00017-0.32666-0.89442-0.82652-0.68000.h5\n",
            "0\n",
            "34/34 [==============================] - 218s 7s/step - batch: 16.5000 - size: 39.0000 - loss: 0.3267 - categorical_accuracy: 0.8944 - val_loss: 0.8265 - val_categorical_accuracy: 0.6800\n",
            "Epoch 18/20\n",
            "34/34 [==============================] - ETA: 0s - batch: 16.5000 - size: 39.0000 - loss: 0.3677 - categorical_accuracy: 0.8967\n",
            "Epoch 00018: saving model to model_init_2021-03-1816_19_57.303756/model-00018-0.36767-0.89668-0.67769-0.72000.h5\n",
            "0\n",
            "34/34 [==============================] - 219s 7s/step - batch: 16.5000 - size: 39.0000 - loss: 0.3677 - categorical_accuracy: 0.8967 - val_loss: 0.6777 - val_categorical_accuracy: 0.7200\n",
            "Epoch 19/20\n",
            "34/34 [==============================] - ETA: 0s - batch: 16.5000 - size: 39.0000 - loss: 0.3213 - categorical_accuracy: 0.8982\n",
            "Epoch 00019: saving model to model_init_2021-03-1816_19_57.303756/model-00019-0.32134-0.89819-0.67379-0.70000.h5\n",
            "0\n",
            "34/34 [==============================] - 216s 7s/step - batch: 16.5000 - size: 39.0000 - loss: 0.3213 - categorical_accuracy: 0.8982 - val_loss: 0.6738 - val_categorical_accuracy: 0.7000\n",
            "Epoch 20/20\n",
            "34/34 [==============================] - ETA: 0s - batch: 16.5000 - size: 39.0000 - loss: 0.2994 - categorical_accuracy: 0.8944\n",
            "Epoch 00020: saving model to model_init_2021-03-1816_19_57.303756/model-00020-0.29940-0.89442-0.75981-0.77000.h5\n",
            "0\n",
            "34/34 [==============================] - 220s 7s/step - batch: 16.5000 - size: 39.0000 - loss: 0.2994 - categorical_accuracy: 0.8944 - val_loss: 0.7598 - val_categorical_accuracy: 0.7700\n"
          ],
          "name": "stdout"
        }
      ]
    },
    {
      "cell_type": "code",
      "metadata": {
        "colab": {
          "base_uri": "https://localhost:8080/",
          "height": 265
        },
        "id": "gm-imdTuXwbq",
        "outputId": "929f1d04-e686-4a8b-ec66-e99743756993"
      },
      "source": [
        "plot(accuracy_check_model_9)"
      ],
      "execution_count": 17,
      "outputs": [
        {
          "output_type": "display_data",
          "data": {
            "image/png": "[encoded data removed]",
            "text/plain": [
              "<Figure size 1080x288 with 2 Axes>"
            ]
          },
          "metadata": {
            "tags": [],
            "needs_background": "light"
          }
        }
      ]
    }
  ]
}