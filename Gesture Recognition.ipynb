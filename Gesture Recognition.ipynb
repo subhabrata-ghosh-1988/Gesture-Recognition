{
  "nbformat": 4,
  "nbformat_minor": 0,
  "metadata": {
    "kernelspec": {
      "display_name": "Python 3",
      "language": "python",
      "name": "python3"
    },
    "language_info": {
      "codemirror_mode": {
        "name": "ipython",
        "version": 3
      },
      "file_extension": ".py",
      "mimetype": "text/x-python",
      "name": "python",
      "nbconvert_exporter": "python",
      "pygments_lexer": "ipython3",
      "version": "3.7.3"
    },
    "colab": {
      "name": "Gesture Recognition.ipynb",
      "provenance": [],
      "include_colab_link": true
    },
    "accelerator": "GPU"
  },
  "cells": [
    {
      "cell_type": "markdown",
      "metadata": {
        "id": "view-in-github",
        "colab_type": "text"
      },
      "source": [
        "<a href=\"https://colab.research.google.com/github/subhabrata-ghosh-1988/Gesture-Recognition/blob/main/Gesture%20Recognition.ipynb\" target=\"_parent\"><img src=\"https://colab.research.google.com/assets/colab-badge.svg\" alt=\"Open In Colab\"/></a>"
      ]
    },
    {
      "cell_type": "markdown",
      "metadata": {
        "id": "Q7ZfgtjxNVrR"
      },
      "source": [
        "# Gesture Recognition\n",
        "In this group project, you are going to build a 3D Conv model that will be able to predict the 5 gestures correctly. Please import the following libraries to get started."
      ]
    },
    {
      "cell_type": "code",
      "metadata": {
        "id": "2-eH5pKuNVrV"
      },
      "source": [
        "## Import libraries\n",
        "import numpy as np\n",
        "import os\n",
        "from scipy import misc\n",
        "from imageio import imread\n",
        "import cv2\n",
        "from skimage import transform,io\n",
        "import datetime\n",
        "import os\n",
        "import warnings\n",
        "warnings.filterwarnings(\"ignore\")\n",
        "import abc\n",
        "from sys import getsizeof\n",
        "import shutil\n",
        "import abc\n"
      ],
      "execution_count": 1,
      "outputs": []
    },
    {
      "cell_type": "code",
      "metadata": {
        "id": "J94bqUhVNVrW"
      },
      "source": [
        "import glob, os , shutil\n",
        "for f in glob.glob(\"/content/model_init*\"):\n",
        "    shutil.rmtree(f)"
      ],
      "execution_count": 2,
      "outputs": []
    },
    {
      "cell_type": "code",
      "metadata": {
        "id": "H0Ubj-HfSRY3"
      },
      "source": [
        "## remove the existing zip file\n",
        "shutil.rmtree('/content/Project_data.zip', ignore_errors=True)"
      ],
      "execution_count": 3,
      "outputs": []
    },
    {
      "cell_type": "code",
      "metadata": {
        "id": "i4ty5a19SiNl",
        "colab": {
          "base_uri": "https://localhost:8080/",
          "height": 258
        },
        "outputId": "2d4db7fa-96a0-42fc-a033-fdba25483436"
      },
      "source": [
        "## Initiate the file download\n",
        "!pip install gdown\n",
        "import gdown\n",
        "url=\"https://drive.google.com/uc?id=1kM4V7pnLjGbuCaDpfBNHig99gr2rdqyJ\"\n",
        "output = \"Project_data.zip\"\n",
        "gdown.download(url, output, quiet=False)"
      ],
      "execution_count": 4,
      "outputs": [
        {
          "output_type": "stream",
          "text": [
            "Requirement already satisfied: gdown in /usr/local/lib/python3.7/dist-packages (3.6.4)\n",
            "Requirement already satisfied: tqdm in /usr/local/lib/python3.7/dist-packages (from gdown) (4.41.1)\n",
            "Requirement already satisfied: requests in /usr/local/lib/python3.7/dist-packages (from gdown) (2.23.0)\n",
            "Requirement already satisfied: six in /usr/local/lib/python3.7/dist-packages (from gdown) (1.15.0)\n",
            "Requirement already satisfied: chardet<4,>=3.0.2 in /usr/local/lib/python3.7/dist-packages (from requests->gdown) (3.0.4)\n",
            "Requirement already satisfied: idna<3,>=2.5 in /usr/local/lib/python3.7/dist-packages (from requests->gdown) (2.10)\n",
            "Requirement already satisfied: certifi>=2017.4.17 in /usr/local/lib/python3.7/dist-packages (from requests->gdown) (2020.12.5)\n",
            "Requirement already satisfied: urllib3!=1.25.0,!=1.25.1,<1.26,>=1.21.1 in /usr/local/lib/python3.7/dist-packages (from requests->gdown) (1.24.3)\n"
          ],
          "name": "stdout"
        },
        {
          "output_type": "stream",
          "text": [
            "Downloading...\n",
            "From: https://drive.google.com/uc?id=1kM4V7pnLjGbuCaDpfBNHig99gr2rdqyJ\n",
            "To: /content/Project_data.zip\n",
            "1.71GB [00:13, 129MB/s]\n"
          ],
          "name": "stderr"
        },
        {
          "output_type": "execute_result",
          "data": {
            "application/vnd.google.colaboratory.intrinsic+json": {
              "type": "string"
            },
            "text/plain": [
              "'Project_data.zip'"
            ]
          },
          "metadata": {
            "tags": []
          },
          "execution_count": 4
        }
      ]
    },
    {
      "cell_type": "code",
      "metadata": {
        "id": "w-fwe5jbTX8r"
      },
      "source": [
        "## unzip the downloaded folder\n",
        "shutil.rmtree('/content/Project_data', ignore_errors=True)\n",
        "shutil.unpack_archive(\"Project_data.zip\", \"Project_data\")"
      ],
      "execution_count": 5,
      "outputs": []
    },
    {
      "cell_type": "markdown",
      "metadata": {
        "id": "GIQHPGi_NVrX"
      },
      "source": [
        "We set the random seed so that the results don't vary drastically."
      ]
    },
    {
      "cell_type": "code",
      "metadata": {
        "id": "ci_N-NnWNVrZ",
        "colab": {
          "base_uri": "https://localhost:8080/"
        },
        "outputId": "41fa709f-8f34-4661-f79d-daf0cba67cde"
      },
      "source": [
        "np.random.seed(30)\n",
        "import random as rn\n",
        "rn.seed(30)\n",
        "import tensorflow as tf\n",
        "tf.random.set_seed(30)\n",
        "tf.compat.v1.disable_eager_execution()\n",
        "\n",
        "gpus = tf.config.experimental.list_physical_devices('GPU')\n",
        "print(gpus)\n"
      ],
      "execution_count": 6,
      "outputs": [
        {
          "output_type": "stream",
          "text": [
            "[PhysicalDevice(name='/physical_device:GPU:0', device_type='GPU')]\n"
          ],
          "name": "stdout"
        }
      ]
    },
    {
      "cell_type": "markdown",
      "metadata": {
        "id": "6bWyzW_oNVrZ"
      },
      "source": [
        "**In this block, you read the folder names for training and validation. You also set the batch_size here. Note that you set the batch size in such a way that you are able to use the GPU in full capacity. You keep increasing the batch size until the machine throws an error.**"
      ]
    },
    {
      "cell_type": "code",
      "metadata": {
        "id": "AyTupvi3NVrb"
      },
      "source": [
        "from keras.models import Sequential, Model\n",
        "from keras.layers import Dense, GRU, Flatten, TimeDistributed, Flatten, BatchNormalization, Activation\n",
        "from keras.layers.convolutional import Conv3D, MaxPooling3D, Conv2D, MaxPooling2D\n",
        "from keras.layers.recurrent import LSTM\n",
        "from keras.callbacks import ModelCheckpoint, ReduceLROnPlateau\n",
        "from keras import optimizers\n",
        "from keras.layers import Dropout"
      ],
      "execution_count": 7,
      "outputs": []
    },
    {
      "cell_type": "code",
      "metadata": {
        "id": "VCjeEg_tNVrc"
      },
      "source": [
        "# the entire dataset is placed in below directory\n",
        "main_folder='/content/Project_data/Project_data'"
      ],
      "execution_count": 8,
      "outputs": []
    },
    {
      "cell_type": "code",
      "metadata": {
        "id": "NSUMkqaSXcC4",
        "colab": {
          "base_uri": "https://localhost:8080/",
          "height": 36
        },
        "outputId": "0211f3de-253b-4072-c130-bc82b05ef3df"
      },
      "source": [
        "## Checking current TF version\n",
        "tf.version.VERSION"
      ],
      "execution_count": 9,
      "outputs": [
        {
          "output_type": "execute_result",
          "data": {
            "application/vnd.google.colaboratory.intrinsic+json": {
              "type": "string"
            },
            "text/plain": [
              "'2.4.1'"
            ]
          },
          "metadata": {
            "tags": []
          },
          "execution_count": 9
        }
      ]
    },
    {
      "cell_type": "markdown",
      "metadata": {
        "id": "REgxbVunNVrd"
      },
      "source": [
        "### Plotting"
      ]
    },
    {
      "cell_type": "code",
      "metadata": {
        "id": "k3UJmY03NVre"
      },
      "source": [
        "import matplotlib.pyplot as plt\n",
        "def plot(Model):\n",
        "    fig, axes = plt.subplots(nrows=1, ncols=2, figsize=(15,4))\n",
        "    axes[0].plot(Model.history['loss'])   \n",
        "    axes[0].plot(Model.history['val_loss'])\n",
        "    axes[0].legend(['loss','val_loss'])\n",
        "\n",
        "    axes[1].plot(Model.history['categorical_accuracy'])   \n",
        "    axes[1].plot(Model.history['val_categorical_accuracy'])\n",
        "    axes[1].legend(['categorical_accuracy','val_categorical_accuracy'])"
      ],
      "execution_count": 10,
      "outputs": []
    },
    {
      "cell_type": "markdown",
      "metadata": {
        "id": "QtV6apQQNVrf"
      },
      "source": [
        "## Generator\n",
        "This is one of the most important part of the code. The overall structure of the generator has been given. In the generator, you are going to preprocess the images as you have images of 2 different dimensions as well as create a batch of video frames. You have to experiment with `img_idx`, `y`,`z` and normalization such that you get high accuracy."
      ]
    },
    {
      "cell_type": "code",
      "metadata": {
        "id": "haSnpGsboLKX"
      },
      "source": [
        "import gc\n",
        "class GCCallback(tf.keras.callbacks.Callback):\n",
        "      def on_epoch_end(self, epoch, logs=None):\n",
        "          print(gc.collect())"
      ],
      "execution_count": null,
      "outputs": []
    },
    {
      "cell_type": "code",
      "metadata": {
        "id": "4YC-BRedNVri"
      },
      "source": [
        "# referred ABC library use case from this link https://riptutorial.com/python/example/23083/why-how-to-use-abcmeta-and--abstractmethod\n",
        "\n",
        "class ModelBuilder(metaclass= abc.ABCMeta):\n",
        "    \n",
        "    def initialize_src_path(self,main_folder):\n",
        "        self.train_doc = np.random.permutation(open(main_folder + '/' + 'train.csv').readlines())\n",
        "        self.val_doc = np.random.permutation(open(main_folder + '/' + 'val.csv').readlines())\n",
        "        self.train_path = main_folder + '/' + 'train'\n",
        "        self.val_path =  main_folder + '/' + 'val'\n",
        "        self.num_train_sequences = len(self.train_doc)\n",
        "        self.num_val_sequences = len(self.val_doc)\n",
        "        \n",
        "    def initialize_image_properties(self,image_height=100,image_width=100):\n",
        "        self.image_height=image_height\n",
        "        self.image_width=image_width\n",
        "        self.channels=3\n",
        "        self.num_classes=5\n",
        "        self.total_frames=30\n",
        "          \n",
        "    def initialize_hyperparams(self,frames_to_sample=30,batch_size=40,num_epochs=20):\n",
        "        self.frames_to_sample=frames_to_sample\n",
        "        self.batch_size=batch_size\n",
        "        self.num_epochs=num_epochs\n",
        "        \n",
        "        \n",
        "    def generator(self,source_path, folder_list, augment=False):\n",
        "        img_idx = np.round(np.linspace(0,self.total_frames-1,self.frames_to_sample)).astype(int)\n",
        "        batch_size=self.batch_size\n",
        "        while True:\n",
        "            t = np.random.permutation(folder_list)\n",
        "            num_batches = len(t)//batch_size\n",
        "        \n",
        "            for batch in range(num_batches): \n",
        "                batch_data, batch_labels= self.one_batch_data(source_path,t,batch,batch_size,img_idx,augment)\n",
        "                yield batch_data, batch_labels \n",
        "\n",
        "            remaining_seq=len(t)%batch_size\n",
        "        \n",
        "            if (remaining_seq != 0):\n",
        "                batch_data, batch_labels= self.one_batch_data(source_path,t,num_batches,batch_size,img_idx,augment,remaining_seq)\n",
        "                yield batch_data, batch_labels \n",
        "    \n",
        "    \n",
        "    def one_batch_data(self,source_path,t,batch,batch_size,img_idx,augment,remaining_seq=0):\n",
        "    \n",
        "        seq_len = remaining_seq if remaining_seq else batch_size\n",
        "    \n",
        "        batch_data = np.zeros((seq_len,len(img_idx),self.image_height,self.image_width,self.channels)) \n",
        "        batch_labels = np.zeros((seq_len,self.num_classes)) \n",
        "    \n",
        "        if (augment): batch_data_aug = np.zeros((seq_len,len(img_idx),self.image_height,self.image_width,self.channels))\n",
        "\n",
        "        \n",
        "        for folder in range(seq_len): \n",
        "            imgs = os.listdir(source_path+'/'+ t[folder + (batch*batch_size)].split(';')[0]) \n",
        "            for idx,item in enumerate(img_idx): \n",
        "                image = imread(source_path+'/'+ t[folder + (batch*batch_size)].strip().split(';')[0]+'/'+imgs[item]).astype(np.float32)\n",
        "                image_resized=transform.resize(image,(self.image_height,self.image_width,3))\n",
        "            \n",
        "\n",
        "                batch_data[folder,idx,:,:,0] = (image_resized[:,:,0])/255\n",
        "                batch_data[folder,idx,:,:,1] = (image_resized[:,:,1])/255\n",
        "                batch_data[folder,idx,:,:,2] = (image_resized[:,:,2])/255\n",
        "            \n",
        "                if (augment):\n",
        "                    shifted = cv2.warpAffine(image, \n",
        "                                             np.float32([[1, 0, np.random.randint(-30,30)],[0, 1, np.random.randint(-30,30)]]), \n",
        "                                            (image.shape[1], image.shape[0]))\n",
        "                    \n",
        "                    gray = cv2.cvtColor(shifted,cv2.COLOR_BGR2GRAY)\n",
        "\n",
        "                    x0, y0 = np.argwhere(gray > 0).min(axis=0)\n",
        "                    x1, y1 = np.argwhere(gray > 0).max(axis=0) \n",
        "                    \n",
        "                    cropped=shifted[x0:x1,y0:y1,:]\n",
        "                    \n",
        "                    image_resized=transform.resize(cropped,(self.image_height,self.image_width,3))\n",
        "            \n",
        "                    batch_data_aug[folder,idx,:,:,0] = (image_resized[:,:,0])/255\n",
        "                    batch_data_aug[folder,idx,:,:,1] = (image_resized[:,:,1])/255\n",
        "                    batch_data_aug[folder,idx,:,:,2] = (image_resized[:,:,2])/255\n",
        "                \n",
        "            \n",
        "            batch_labels[folder, int(t[folder + (batch*batch_size)].strip().split(';')[2])] = 1\n",
        "            \n",
        "    \n",
        "        if (augment):\n",
        "            batch_data=np.concatenate([batch_data,batch_data_aug])\n",
        "            batch_labels=np.concatenate([batch_labels,batch_labels])\n",
        "\n",
        "        \n",
        "        return(batch_data,batch_labels)\n",
        "    \n",
        "    \n",
        "    def train_model(self, model, augment_data=False):\n",
        "        train_generator = self.generator(self.train_path, self.train_doc,augment=augment_data)\n",
        "        val_generator = self.generator(self.val_path, self.val_doc)\n",
        "\n",
        "        model_name = 'model_init' + '_' + str(datetime.datetime.now()).replace(' ','').replace(':','_') + '/'\n",
        "    \n",
        "        if not os.path.exists(model_name):\n",
        "            os.mkdir(model_name)\n",
        "        \n",
        "        filepath = model_name + 'model-{epoch:05d}-{loss:.5f}-{categorical_accuracy:.5f}-{val_loss:.5f}-{val_categorical_accuracy:.5f}.h5'\n",
        "\n",
        "        checkpoint = ModelCheckpoint(filepath, monitor='val_loss', verbose=1, save_best_only=False, save_weights_only=False, mode='auto',save_freq='epoch')\n",
        "        LR = ReduceLROnPlateau(monitor='val_loss', factor=0.2, verbose=1, patience=4)\n",
        "        callbacks_list = [checkpoint, LR , GCCallback()]\n",
        "\n",
        "        if (self.num_train_sequences%self.batch_size) == 0:\n",
        "            steps_per_epoch = int(self.num_train_sequences/self.batch_size)\n",
        "        else:\n",
        "            steps_per_epoch = (self.num_train_sequences//self.batch_size) + 1\n",
        "\n",
        "        if (self.num_val_sequences%self.batch_size) == 0:\n",
        "            validation_steps = int(self.num_val_sequences/self.batch_size)\n",
        "        else:\n",
        "            validation_steps = (self.num_val_sequences//self.batch_size) + 1\n",
        "    \n",
        "        history=model.fit_generator(train_generator, steps_per_epoch=steps_per_epoch, epochs=self.num_epochs, verbose=1, \n",
        "                            callbacks=callbacks_list, validation_data=val_generator, \n",
        "                            validation_steps=validation_steps, class_weight=None, workers=1, initial_epoch=0)\n",
        "        return history\n",
        "\n",
        "    def clear_session(self, model):\n",
        "        del model\n",
        "        gc.collect()\n",
        "        tf.keras.backend.clear_session()\n",
        "        tf.compat.v1.reset_default_graph() # TF graph isn't same as Keras graph\n",
        "\n",
        "    @abc.abstractmethod\n",
        "    def define_model(self):\n",
        "        pass\n"
      ],
      "execution_count": null,
      "outputs": []
    },
    {
      "cell_type": "markdown",
      "metadata": {
        "id": "kkdCou-eNVri"
      },
      "source": [
        "## Sample Model\n",
        "Here you make the model using different functionalities that Keras provides. Remember to use `Conv3D` and `MaxPooling3D` and not `Conv2D` and `Maxpooling2D` for a 3D convolution model. You would want to use `TimeDistributed` while building a Conv2D + RNN model. Also remember that the last layer is the softmax. Design the network in such a way that the model is able to give good accuracy on the least number of parameters so that it can fit in the memory of the webcam."
      ]
    },
    {
      "cell_type": "code",
      "metadata": {
        "id": "G1XR94jpNVrk"
      },
      "source": [
        "class ModelConv3D1(ModelBuilder):\n",
        "    \n",
        "    def define_model(self):\n",
        "\n",
        "        model = Sequential()\n",
        "        model.add(Conv3D(16, (3, 3, 3), padding='same',\n",
        "        input_shape=(self.frames_to_sample,self.image_height,self.image_width,self.channels)))\n",
        "        model.add(Activation('relu'))\n",
        "        model.add(BatchNormalization())\n",
        "        model.add(MaxPooling3D(pool_size=(2, 2, 2)))\n",
        "\n",
        "        model.add(Conv3D(32, (2, 2, 2), padding='same'))\n",
        "        model.add(Activation('relu'))\n",
        "        model.add(BatchNormalization())\n",
        "        model.add(MaxPooling3D(pool_size=(2, 2, 2)))\n",
        "\n",
        "        model.add(Conv3D(64, (2, 2, 2), padding='same'))\n",
        "        model.add(Activation('relu'))\n",
        "        model.add(BatchNormalization())\n",
        "        model.add(MaxPooling3D(pool_size=(2, 2, 2)))\n",
        "\n",
        "        model.add(Conv3D(128, (2, 2, 2), padding='same'))\n",
        "        model.add(Activation('relu'))\n",
        "        model.add(BatchNormalization())\n",
        "        model.add(MaxPooling3D(pool_size=(2, 2, 2)))\n",
        "\n",
        "        model.add(Flatten())\n",
        "        model.add(Dense(128,activation='relu'))\n",
        "        model.add(BatchNormalization())\n",
        "        model.add(Dropout(0.5))\n",
        "\n",
        "        model.add(Dense(64,activation='relu'))\n",
        "        model.add(BatchNormalization())\n",
        "        model.add(Dropout(0.25))\n",
        "\n",
        "\n",
        "        model.add(Dense(self.num_classes,activation='softmax'))\n",
        "\n",
        "        optimiser = optimizers.Adam()\n",
        "        #optimiser = 'sgd'\n",
        "        model.compile(optimizer=optimiser, loss='categorical_crossentropy', metrics=['categorical_accuracy'])\n",
        "        return model"
      ],
      "execution_count": null,
      "outputs": []
    },
    {
      "cell_type": "code",
      "metadata": {
        "id": "8PIGA0cbNVrl",
        "colab": {
          "base_uri": "https://localhost:8080/"
        },
        "outputId": "adf53a68-0895-4b39-e067-9cc7065004db"
      },
      "source": [
        "Conv3D1=ModelConv3D1()\n",
        "Conv3D1.initialize_src_path(main_folder)\n",
        "Conv3D1.initialize_image_properties(image_height=160,image_width=160)\n",
        "Conv3D1.initialize_hyperparams(frames_to_sample=30,batch_size=30,num_epochs=1)\n",
        "Conv3D1_model=Conv3D1.define_model()\n",
        "Conv3D1_model.summary()"
      ],
      "execution_count": null,
      "outputs": [
        {
          "output_type": "stream",
          "text": [
            "Model: \"sequential\"\n",
            "_________________________________________________________________\n",
            "Layer (type)                 Output Shape              Param #   \n",
            "=================================================================\n",
            "conv3d (Conv3D)              (None, 30, 160, 160, 16)  1312      \n",
            "_________________________________________________________________\n",
            "activation (Activation)      (None, 30, 160, 160, 16)  0         \n",
            "_________________________________________________________________\n",
            "batch_normalization (BatchNo (None, 30, 160, 160, 16)  64        \n",
            "_________________________________________________________________\n",
            "max_pooling3d (MaxPooling3D) (None, 15, 80, 80, 16)    0         \n",
            "_________________________________________________________________\n",
            "conv3d_1 (Conv3D)            (None, 15, 80, 80, 32)    4128      \n",
            "_________________________________________________________________\n",
            "activation_1 (Activation)    (None, 15, 80, 80, 32)    0         \n",
            "_________________________________________________________________\n",
            "batch_normalization_1 (Batch (None, 15, 80, 80, 32)    128       \n",
            "_________________________________________________________________\n",
            "max_pooling3d_1 (MaxPooling3 (None, 7, 40, 40, 32)     0         \n",
            "_________________________________________________________________\n",
            "conv3d_2 (Conv3D)            (None, 7, 40, 40, 64)     16448     \n",
            "_________________________________________________________________\n",
            "activation_2 (Activation)    (None, 7, 40, 40, 64)     0         \n",
            "_________________________________________________________________\n",
            "batch_normalization_2 (Batch (None, 7, 40, 40, 64)     256       \n",
            "_________________________________________________________________\n",
            "max_pooling3d_2 (MaxPooling3 (None, 3, 20, 20, 64)     0         \n",
            "_________________________________________________________________\n",
            "conv3d_3 (Conv3D)            (None, 3, 20, 20, 128)    65664     \n",
            "_________________________________________________________________\n",
            "activation_3 (Activation)    (None, 3, 20, 20, 128)    0         \n",
            "_________________________________________________________________\n",
            "batch_normalization_3 (Batch (None, 3, 20, 20, 128)    512       \n",
            "_________________________________________________________________\n",
            "max_pooling3d_3 (MaxPooling3 (None, 1, 10, 10, 128)    0         \n",
            "_________________________________________________________________\n",
            "flatten (Flatten)            (None, 12800)             0         \n",
            "_________________________________________________________________\n",
            "dense (Dense)                (None, 128)               1638528   \n",
            "_________________________________________________________________\n",
            "batch_normalization_4 (Batch (None, 128)               512       \n",
            "_________________________________________________________________\n",
            "dropout (Dropout)            (None, 128)               0         \n",
            "_________________________________________________________________\n",
            "dense_1 (Dense)              (None, 64)                8256      \n",
            "_________________________________________________________________\n",
            "batch_normalization_5 (Batch (None, 64)                256       \n",
            "_________________________________________________________________\n",
            "dropout_1 (Dropout)          (None, 64)                0         \n",
            "_________________________________________________________________\n",
            "dense_2 (Dense)              (None, 5)                 325       \n",
            "=================================================================\n",
            "Total params: 1,736,389\n",
            "Trainable params: 1,735,525\n",
            "Non-trainable params: 864\n",
            "_________________________________________________________________\n"
          ],
          "name": "stdout"
        }
      ]
    },
    {
      "cell_type": "code",
      "metadata": {
        "id": "0eU6XuXdNVrm",
        "colab": {
          "base_uri": "https://localhost:8080/"
        },
        "outputId": "958fb8ef-f225-4902-a27d-a3c58ff8b50d"
      },
      "source": [
        "Conv3D1.train_model(Conv3D1_model)"
      ],
      "execution_count": null,
      "outputs": [
        {
          "output_type": "stream",
          "text": [
            "23/23 [==============================] - ETA: 0s - batch: 11.0000 - size: 28.8261 - loss: 1.4912 - categorical_accuracy: 0.4284\n",
            "Epoch 00001: saving model to model_init_2021-03-2108_26_18.607216/model-00001-1.49124-0.42836-4.86878-0.21000.h5\n",
            "0\n",
            "23/23 [==============================] - 274s 11s/step - batch: 11.0000 - size: 28.8261 - loss: 1.4912 - categorical_accuracy: 0.4284 - val_loss: 4.8688 - val_categorical_accuracy: 0.2100\n"
          ],
          "name": "stdout"
        },
        {
          "output_type": "execute_result",
          "data": {
            "text/plain": [
              "<tensorflow.python.keras.callbacks.History at 0x7fc14f727c90>"
            ]
          },
          "metadata": {
            "tags": []
          },
          "execution_count": 15
        }
      ]
    },
    {
      "cell_type": "code",
      "metadata": {
        "id": "JaJ-270dCcnY"
      },
      "source": [
        "Conv3D1.clear_session(Conv3D1_model)"
      ],
      "execution_count": null,
      "outputs": []
    },
    {
      "cell_type": "code",
      "metadata": {
        "id": "qPGUJrJXNVrn",
        "colab": {
          "base_uri": "https://localhost:8080/"
        },
        "outputId": "72cd7eff-5f18-4b57-ae56-32d341d67867"
      },
      "source": [
        "Conv3D1_bs40=ModelConv3D1()\n",
        "Conv3D1_bs40.initialize_src_path(main_folder)\n",
        "Conv3D1_bs40.initialize_image_properties(image_height=160,image_width=160)\n",
        "Conv3D1_bs40.initialize_hyperparams(frames_to_sample=30,batch_size=40,num_epochs=1)\n",
        "Conv3D1_model_bs40=Conv3D1_bs40.define_model()\n",
        "Conv3D1_model_bs40.summary()"
      ],
      "execution_count": null,
      "outputs": [
        {
          "output_type": "stream",
          "text": [
            "Model: \"sequential\"\n",
            "_________________________________________________________________\n",
            "Layer (type)                 Output Shape              Param #   \n",
            "=================================================================\n",
            "conv3d (Conv3D)              (None, 30, 160, 160, 16)  1312      \n",
            "_________________________________________________________________\n",
            "activation (Activation)      (None, 30, 160, 160, 16)  0         \n",
            "_________________________________________________________________\n",
            "batch_normalization (BatchNo (None, 30, 160, 160, 16)  64        \n",
            "_________________________________________________________________\n",
            "max_pooling3d (MaxPooling3D) (None, 15, 80, 80, 16)    0         \n",
            "_________________________________________________________________\n",
            "conv3d_1 (Conv3D)            (None, 15, 80, 80, 32)    4128      \n",
            "_________________________________________________________________\n",
            "activation_1 (Activation)    (None, 15, 80, 80, 32)    0         \n",
            "_________________________________________________________________\n",
            "batch_normalization_1 (Batch (None, 15, 80, 80, 32)    128       \n",
            "_________________________________________________________________\n",
            "max_pooling3d_1 (MaxPooling3 (None, 7, 40, 40, 32)     0         \n",
            "_________________________________________________________________\n",
            "conv3d_2 (Conv3D)            (None, 7, 40, 40, 64)     16448     \n",
            "_________________________________________________________________\n",
            "activation_2 (Activation)    (None, 7, 40, 40, 64)     0         \n",
            "_________________________________________________________________\n",
            "batch_normalization_2 (Batch (None, 7, 40, 40, 64)     256       \n",
            "_________________________________________________________________\n",
            "max_pooling3d_2 (MaxPooling3 (None, 3, 20, 20, 64)     0         \n",
            "_________________________________________________________________\n",
            "conv3d_3 (Conv3D)            (None, 3, 20, 20, 128)    65664     \n",
            "_________________________________________________________________\n",
            "activation_3 (Activation)    (None, 3, 20, 20, 128)    0         \n",
            "_________________________________________________________________\n",
            "batch_normalization_3 (Batch (None, 3, 20, 20, 128)    512       \n",
            "_________________________________________________________________\n",
            "max_pooling3d_3 (MaxPooling3 (None, 1, 10, 10, 128)    0         \n",
            "_________________________________________________________________\n",
            "flatten (Flatten)            (None, 12800)             0         \n",
            "_________________________________________________________________\n",
            "dense (Dense)                (None, 128)               1638528   \n",
            "_________________________________________________________________\n",
            "batch_normalization_4 (Batch (None, 128)               512       \n",
            "_________________________________________________________________\n",
            "dropout (Dropout)            (None, 128)               0         \n",
            "_________________________________________________________________\n",
            "dense_1 (Dense)              (None, 64)                8256      \n",
            "_________________________________________________________________\n",
            "batch_normalization_5 (Batch (None, 64)                256       \n",
            "_________________________________________________________________\n",
            "dropout_1 (Dropout)          (None, 64)                0         \n",
            "_________________________________________________________________\n",
            "dense_2 (Dense)              (None, 5)                 325       \n",
            "=================================================================\n",
            "Total params: 1,736,389\n",
            "Trainable params: 1,735,525\n",
            "Non-trainable params: 864\n",
            "_________________________________________________________________\n"
          ],
          "name": "stdout"
        }
      ]
    },
    {
      "cell_type": "markdown",
      "metadata": {
        "id": "EHCAyYjiNVro"
      },
      "source": [
        "#### Got below memory exhaust error with image resolution of 160x160, 30 frames and a batch_size of 40\n",
        "ResourceExhaustedError:  OOM when allocating tensor with shape[40,16,15,80,80] and type float on /job:localhost/replica:0/task:0/device:GPU:0 by allocator GPU_0_bfc\n",
        "\t [[node gradient_tape/sequential_2/max_pooling3d_8/MaxPool3D/MaxPool3DGrad (defined at <ipython-input-11-c85facc09113>:122) ]]\n",
        "Hint: If you want to see a list of allocated tensors when OOM happens, add report_tensor_allocations_upon_oom to RunOptions for current allocation info.\n",
        " [Op:__inference_train_function_7489]"
      ]
    },
    {
      "cell_type": "code",
      "metadata": {
        "id": "J7SaHnFVNVro",
        "colab": {
          "base_uri": "https://localhost:8080/"
        },
        "outputId": "26b08edd-b93c-4881-8b91-a40372e13eab"
      },
      "source": [
        "print(\"Memory util is {} Gigs\". format(getsizeof(np.zeros((40,16,30,160,160)))/(1024*1024*1024)))"
      ],
      "execution_count": null,
      "outputs": [
        {
          "output_type": "stream",
          "text": [
            "Memory util is 3.662109524011612 Gigs\n"
          ],
          "name": "stdout"
        }
      ]
    },
    {
      "cell_type": "code",
      "metadata": {
        "id": "jSsKCHtZNVrp",
        "colab": {
          "base_uri": "https://localhost:8080/"
        },
        "outputId": "9f99bbc0-5d41-4f28-d232-05b8b57cf771"
      },
      "source": [
        "conv_3d1=ModelConv3D1()\n",
        "conv_3d1.initialize_src_path(main_folder)\n",
        "conv_3d1.initialize_image_properties(image_height=160,image_width=160)\n",
        "conv_3d1.initialize_hyperparams(frames_to_sample=16,batch_size=30,num_epochs=3)\n",
        "conv_3d1_model=conv_3d1.define_model()\n",
        "print(\"Total Params:\", conv_3d1_model.count_params())\n",
        "conv_3d1.train_model(conv_3d1_model)"
      ],
      "execution_count": null,
      "outputs": [
        {
          "output_type": "stream",
          "text": [
            "Total Params: 1736389\n",
            "Epoch 1/3\n",
            "23/23 [==============================] - ETA: 0s - batch: 11.0000 - size: 28.8261 - loss: 1.4302 - categorical_accuracy: 0.4540\n",
            "Epoch 00001: saving model to model_init_2021-03-2108_31_06.879816/model-00001-1.43021-0.45400-2.03139-0.21000.h5\n",
            "0\n",
            "23/23 [==============================] - 161s 7s/step - batch: 11.0000 - size: 28.8261 - loss: 1.4302 - categorical_accuracy: 0.4540 - val_loss: 2.0314 - val_categorical_accuracy: 0.2100\n",
            "Epoch 2/3\n",
            "23/23 [==============================] - ETA: 0s - batch: 11.0000 - size: 28.8261 - loss: 0.9001 - categorical_accuracy: 0.6621\n",
            "Epoch 00002: saving model to model_init_2021-03-2108_31_06.879816/model-00002-0.90008-0.66214-4.21787-0.17000.h5\n",
            "0\n",
            "23/23 [==============================] - 121s 5s/step - batch: 11.0000 - size: 28.8261 - loss: 0.9001 - categorical_accuracy: 0.6621 - val_loss: 4.2179 - val_categorical_accuracy: 0.1700\n",
            "Epoch 3/3\n",
            "23/23 [==============================] - ETA: 0s - batch: 11.0000 - size: 28.8261 - loss: 0.7425 - categorical_accuracy: 0.7044\n",
            "Epoch 00003: saving model to model_init_2021-03-2108_31_06.879816/model-00003-0.74247-0.70437-5.32029-0.24000.h5\n",
            "0\n",
            "23/23 [==============================] - 123s 6s/step - batch: 11.0000 - size: 28.8261 - loss: 0.7425 - categorical_accuracy: 0.7044 - val_loss: 5.3203 - val_categorical_accuracy: 0.2400\n"
          ],
          "name": "stdout"
        },
        {
          "output_type": "execute_result",
          "data": {
            "text/plain": [
              "<tensorflow.python.keras.callbacks.History at 0x7fc0c5322750>"
            ]
          },
          "metadata": {
            "tags": []
          },
          "execution_count": 19
        }
      ]
    },
    {
      "cell_type": "code",
      "metadata": {
        "id": "jx0kjX0PNVrr",
        "colab": {
          "base_uri": "https://localhost:8080/"
        },
        "outputId": "8ffe5561-5263-44bb-d898-1eb260a7ae66"
      },
      "source": [
        "conv_3d1.clear_session(conv_3d1_model)\n",
        "conv_3d1=ModelConv3D1()\n",
        "conv_3d1.initialize_src_path(main_folder)\n",
        "conv_3d1.initialize_image_properties(image_height=100,image_width=100)\n",
        "conv_3d1.initialize_hyperparams(frames_to_sample=30,batch_size=30,num_epochs=2)\n",
        "conv_3d1_model=conv_3d1.define_model()\n",
        "print(\"Total Params:\", conv_3d1_model.count_params())\n",
        "conv_3d1.train_model(conv_3d1_model)"
      ],
      "execution_count": null,
      "outputs": [
        {
          "output_type": "stream",
          "text": [
            "Total Params: 687813\n",
            "Epoch 1/2\n",
            "23/23 [==============================] - ETA: 0s - batch: 11.0000 - size: 28.8261 - loss: 1.6461 - categorical_accuracy: 0.3771\n",
            "Epoch 00001: saving model to model_init_2021-03-2108_37_54.227943/model-00001-1.64606-0.37707-1.90597-0.18000.h5\n",
            "48\n",
            "23/23 [==============================] - 230s 10s/step - batch: 11.0000 - size: 28.8261 - loss: 1.6461 - categorical_accuracy: 0.3771 - val_loss: 1.9060 - val_categorical_accuracy: 0.1800\n",
            "Epoch 2/2\n",
            "23/23 [==============================] - ETA: 0s - batch: 11.0000 - size: 28.8261 - loss: 1.2087 - categorical_accuracy: 0.5596\n",
            "Epoch 00002: saving model to model_init_2021-03-2108_37_54.227943/model-00002-1.20872-0.55958-2.55964-0.26000.h5\n",
            "0\n",
            "23/23 [==============================] - 197s 9s/step - batch: 11.0000 - size: 28.8261 - loss: 1.2087 - categorical_accuracy: 0.5596 - val_loss: 2.5596 - val_categorical_accuracy: 0.2600\n"
          ],
          "name": "stdout"
        },
        {
          "output_type": "execute_result",
          "data": {
            "text/plain": [
              "<tensorflow.python.keras.callbacks.History at 0x7fc0ce0badd0>"
            ]
          },
          "metadata": {
            "tags": []
          },
          "execution_count": 20
        }
      ]
    },
    {
      "cell_type": "code",
      "metadata": {
        "id": "xReB_wtlNVrx",
        "colab": {
          "base_uri": "https://localhost:8080/"
        },
        "outputId": "87795f55-b706-460b-b3e0-92896a085279"
      },
      "source": [
        "conv_3d1.clear_session(conv_3d1_model)\n",
        "conv_3d1=ModelConv3D1()\n",
        "conv_3d1.initialize_src_path(main_folder)\n",
        "conv_3d1.initialize_image_properties(image_height=100,image_width=100)\n",
        "conv_3d1.initialize_hyperparams(frames_to_sample=30,batch_size=60,num_epochs=2)\n",
        "conv_3d1_model=conv_3d1.define_model()\n",
        "print(\"Total Params:\", conv_3d1_model.count_params())\n",
        "conv_3d1.train_model(conv_3d1_model)"
      ],
      "execution_count": null,
      "outputs": [
        {
          "output_type": "stream",
          "text": [
            "Total Params: 687813\n",
            "Epoch 1/2\n",
            "12/12 [==============================] - ETA: 0s - batch: 5.5000 - size: 55.2500 - loss: 1.6515 - categorical_accuracy: 0.3529 \n",
            "Epoch 00001: saving model to model_init_2021-03-2108_45_03.333779/model-00001-1.65146-0.35294-1.57691-0.27000.h5\n",
            "48\n",
            "12/12 [==============================] - 231s 19s/step - batch: 5.5000 - size: 55.2500 - loss: 1.6515 - categorical_accuracy: 0.3529 - val_loss: 1.5769 - val_categorical_accuracy: 0.2700\n",
            "Epoch 2/2\n",
            "12/12 [==============================] - ETA: 0s - batch: 5.5000 - size: 55.2500 - loss: 1.1992 - categorical_accuracy: 0.5505 \n",
            "Epoch 00002: saving model to model_init_2021-03-2108_45_03.333779/model-00002-1.19918-0.55053-2.01046-0.19000.h5\n",
            "0\n",
            "12/12 [==============================] - 202s 18s/step - batch: 5.5000 - size: 55.2500 - loss: 1.1992 - categorical_accuracy: 0.5505 - val_loss: 2.0105 - val_categorical_accuracy: 0.1900\n"
          ],
          "name": "stdout"
        },
        {
          "output_type": "execute_result",
          "data": {
            "text/plain": [
              "<tensorflow.python.keras.callbacks.History at 0x7fc1128a1c90>"
            ]
          },
          "metadata": {
            "tags": []
          },
          "execution_count": 21
        }
      ]
    },
    {
      "cell_type": "code",
      "metadata": {
        "id": "DoKopL3YNVry",
        "colab": {
          "base_uri": "https://localhost:8080/"
        },
        "outputId": "e8c519f4-268c-41f7-e43e-7f1999ed1a9e"
      },
      "source": [
        "conv_3d1.clear_session(conv_3d1_model)\n",
        "conv_3d1=ModelConv3D1()\n",
        "conv_3d1.initialize_src_path(main_folder)\n",
        "conv_3d1.initialize_image_properties(image_height=100,image_width=100)\n",
        "conv_3d1.initialize_hyperparams(frames_to_sample=16,batch_size=60,num_epochs=2)\n",
        "conv_3d1_model=conv_3d1.define_model()\n",
        "print(\"Total Params:\", conv_3d1_model.count_params())\n",
        "conv_3d1.train_model(conv_3d1_model)"
      ],
      "execution_count": null,
      "outputs": [
        {
          "output_type": "stream",
          "text": [
            "Total Params: 687813\n",
            "Epoch 1/2\n",
            "12/12 [==============================] - ETA: 0s - batch: 5.5000 - size: 55.2500 - loss: 1.6753 - categorical_accuracy: 0.4057\n",
            "Epoch 00001: saving model to model_init_2021-03-2108_52_18.162235/model-00001-1.67529-0.40573-1.59577-0.30000.h5\n",
            "48\n",
            "12/12 [==============================] - 128s 10s/step - batch: 5.5000 - size: 55.2500 - loss: 1.6753 - categorical_accuracy: 0.4057 - val_loss: 1.5958 - val_categorical_accuracy: 0.3000\n",
            "Epoch 2/2\n",
            "11/12 [==========================>...] - ETA: 8s - batch: 5.0000 - size: 60.0000 - loss: 1.2168 - categorical_accuracy: 0.5136 \n",
            "Epoch 00002: saving model to model_init_2021-03-2108_52_18.162235/model-00002-1.23956-0.51282-2.23712-0.17000.h5\n",
            "0\n",
            "12/12 [==============================] - 107s 10s/step - batch: 5.5000 - size: 55.2500 - loss: 1.2396 - categorical_accuracy: 0.5128 - val_loss: 2.2371 - val_categorical_accuracy: 0.1700\n"
          ],
          "name": "stdout"
        },
        {
          "output_type": "execute_result",
          "data": {
            "text/plain": [
              "<tensorflow.python.keras.callbacks.History at 0x7fc112379e10>"
            ]
          },
          "metadata": {
            "tags": []
          },
          "execution_count": 22
        }
      ]
    },
    {
      "cell_type": "code",
      "metadata": {
        "id": "IHABNT4GNVry",
        "colab": {
          "base_uri": "https://localhost:8080/"
        },
        "outputId": "099c9046-18f3-41b2-d04b-9529404bf1d0"
      },
      "source": [
        "conv_3d1.clear_session(conv_3d1_model)\n",
        "conv_3d1=ModelConv3D1()\n",
        "conv_3d1.initialize_src_path(main_folder)\n",
        "conv_3d1.initialize_image_properties(image_height=100,image_width=100)\n",
        "conv_3d1.initialize_hyperparams(frames_to_sample=16,batch_size=80,num_epochs=2)\n",
        "conv_3d1_model=conv_3d1.define_model()\n",
        "print(\"Total Params:\", conv_3d1_model.count_params())\n",
        "conv_3d1.train_model(conv_3d1_model)"
      ],
      "execution_count": null,
      "outputs": [
        {
          "output_type": "stream",
          "text": [
            "Total Params: 687813\n",
            "Epoch 1/2\n",
            "9/9 [==============================] - ETA: 0s - batch: 4.0000 - size: 73.6667 - loss: 1.7428 - categorical_accuracy: 0.3620 \n",
            "Epoch 00001: saving model to model_init_2021-03-2108_56_15.459566/model-00001-1.74278-0.36199-1.69829-0.21000.h5\n",
            "48\n",
            "9/9 [==============================] - 125s 13s/step - batch: 4.0000 - size: 73.6667 - loss: 1.7428 - categorical_accuracy: 0.3620 - val_loss: 1.6983 - val_categorical_accuracy: 0.2100\n",
            "Epoch 2/2\n",
            "9/9 [==============================] - ETA: 0s - batch: 4.0000 - size: 73.6667 - loss: 1.1840 - categorical_accuracy: 0.5400 \n",
            "Epoch 00002: saving model to model_init_2021-03-2108_56_15.459566/model-00002-1.18396-0.53997-3.00948-0.16000.h5\n",
            "0\n",
            "9/9 [==============================] - 108s 13s/step - batch: 4.0000 - size: 73.6667 - loss: 1.1840 - categorical_accuracy: 0.5400 - val_loss: 3.0095 - val_categorical_accuracy: 0.1600\n"
          ],
          "name": "stdout"
        },
        {
          "output_type": "execute_result",
          "data": {
            "text/plain": [
              "<tensorflow.python.keras.callbacks.History at 0x7fc0c758d390>"
            ]
          },
          "metadata": {
            "tags": []
          },
          "execution_count": 23
        }
      ]
    },
    {
      "cell_type": "code",
      "metadata": {
        "id": "d2T9W4HyNVrz",
        "colab": {
          "base_uri": "https://localhost:8080/"
        },
        "outputId": "f4a96442-add8-470b-e16b-a792438ba9ef"
      },
      "source": [
        "conv_3d1.clear_session(conv_3d1_model)\n",
        "conv_3d1=ModelConv3D1()\n",
        "conv_3d1.initialize_src_path(main_folder)\n",
        "conv_3d1.initialize_image_properties(image_height=160,image_width=160)\n",
        "conv_3d1.initialize_hyperparams(frames_to_sample=30,batch_size=15,num_epochs=2)\n",
        "conv_3d1_model=conv_3d1.define_model()\n",
        "print(\"Total Params:\", conv_3d1_model.count_params())\n",
        "conv_3d1.train_model(conv_3d1_model)"
      ],
      "execution_count": null,
      "outputs": [
        {
          "output_type": "stream",
          "text": [
            "Total Params: 1736389\n",
            "Epoch 1/2\n",
            "45/45 [==============================] - ETA: 0s - batch: 22.0000 - size: 14.7333 - loss: 1.5440 - categorical_accuracy: 0.4118\n",
            "Epoch 00001: saving model to model_init_2021-03-2109_00_10.907179/model-00001-1.54404-0.41176-4.48453-0.16000.h5\n",
            "48\n",
            "45/45 [==============================] - 266s 6s/step - batch: 22.0000 - size: 14.7333 - loss: 1.5440 - categorical_accuracy: 0.4118 - val_loss: 4.4845 - val_categorical_accuracy: 0.1600\n",
            "Epoch 2/2\n",
            "45/45 [==============================] - ETA: 0s - batch: 22.0000 - size: 14.7333 - loss: 1.2099 - categorical_accuracy: 0.5611\n",
            "Epoch 00002: saving model to model_init_2021-03-2109_00_10.907179/model-00002-1.20990-0.56109-6.74839-0.26000.h5\n",
            "0\n",
            "45/45 [==============================] - 225s 5s/step - batch: 22.0000 - size: 14.7333 - loss: 1.2099 - categorical_accuracy: 0.5611 - val_loss: 6.7484 - val_categorical_accuracy: 0.2600\n"
          ],
          "name": "stdout"
        },
        {
          "output_type": "execute_result",
          "data": {
            "text/plain": [
              "<tensorflow.python.keras.callbacks.History at 0x7fc0c606ab50>"
            ]
          },
          "metadata": {
            "tags": []
          },
          "execution_count": 24
        }
      ]
    },
    {
      "cell_type": "code",
      "metadata": {
        "id": "25WU3xHcNVrz",
        "colab": {
          "base_uri": "https://localhost:8080/"
        },
        "outputId": "f7d7c24d-9bc7-419e-8256-d7bf93a10d58"
      },
      "source": [
        "conv_3d1.clear_session(conv_3d1_model)\n",
        "conv_3d1=ModelConv3D1()\n",
        "conv_3d1.initialize_src_path(main_folder)\n",
        "conv_3d1.initialize_image_properties(image_height=160,image_width=160)\n",
        "conv_3d1.initialize_hyperparams(frames_to_sample=16,batch_size=15,num_epochs=2)\n",
        "conv_3d1_model=conv_3d1.define_model()\n",
        "print(\"Total Params:\", conv_3d1_model.count_params())\n",
        "conv_3d1.train_model(conv_3d1_model)"
      ],
      "execution_count": null,
      "outputs": [
        {
          "output_type": "stream",
          "text": [
            "Total Params: 1736389\n",
            "Epoch 1/2\n",
            "45/45 [==============================] - ETA: 0s - batch: 22.0000 - size: 14.7333 - loss: 1.5820 - categorical_accuracy: 0.4027\n",
            "Epoch 00001: saving model to model_init_2021-03-2109_08_24.499191/model-00001-1.58195-0.40271-6.01646-0.16000.h5\n",
            "48\n",
            "45/45 [==============================] - 143s 3s/step - batch: 22.0000 - size: 14.7333 - loss: 1.5820 - categorical_accuracy: 0.4027 - val_loss: 6.0165 - val_categorical_accuracy: 0.1600\n",
            "Epoch 2/2\n",
            "45/45 [==============================] - ETA: 0s - batch: 22.0000 - size: 14.7333 - loss: 1.0770 - categorical_accuracy: 0.6078\n",
            "Epoch 00002: saving model to model_init_2021-03-2109_08_24.499191/model-00002-1.07701-0.60784-12.25964-0.21000.h5\n",
            "0\n",
            "45/45 [==============================] - 122s 3s/step - batch: 22.0000 - size: 14.7333 - loss: 1.0770 - categorical_accuracy: 0.6078 - val_loss: 12.2596 - val_categorical_accuracy: 0.2100\n"
          ],
          "name": "stdout"
        },
        {
          "output_type": "execute_result",
          "data": {
            "text/plain": [
              "<tensorflow.python.keras.callbacks.History at 0x7fc0c7dfe3d0>"
            ]
          },
          "metadata": {
            "tags": []
          },
          "execution_count": 25
        }
      ]
    },
    {
      "cell_type": "code",
      "metadata": {
        "id": "KPzFJDfUNVr0",
        "colab": {
          "base_uri": "https://localhost:8080/"
        },
        "outputId": "6006da32-3094-4197-d18c-8525c111f7f7"
      },
      "source": [
        "conv_3d1.clear_session(conv_3d1_model)\n",
        "conv_3d1=ModelConv3D1()\n",
        "conv_3d1.initialize_src_path(main_folder)\n",
        "conv_3d1.initialize_image_properties(image_height=100,image_width=100)\n",
        "conv_3d1.initialize_hyperparams(frames_to_sample=16,batch_size=15,num_epochs=2)\n",
        "conv_3d1_model=conv_3d1.define_model()\n",
        "print(\"Total Params:\", conv_3d1_model.count_params())\n",
        "conv_3d1.train_model(conv_3d1_model)"
      ],
      "execution_count": null,
      "outputs": [
        {
          "output_type": "stream",
          "text": [
            "Total Params: 687813\n",
            "Epoch 1/2\n",
            "45/45 [==============================] - ETA: 0s - batch: 22.0000 - size: 14.7333 - loss: 1.6018 - categorical_accuracy: 0.3876\n",
            "Epoch 00001: saving model to model_init_2021-03-2109_12_51.659582/model-00001-1.60176-0.38763-3.83403-0.16000.h5\n",
            "48\n",
            "45/45 [==============================] - 124s 3s/step - batch: 22.0000 - size: 14.7333 - loss: 1.6018 - categorical_accuracy: 0.3876 - val_loss: 3.8340 - val_categorical_accuracy: 0.1600\n",
            "Epoch 2/2\n",
            "45/45 [==============================] - ETA: 0s - batch: 22.0000 - size: 14.7333 - loss: 1.1296 - categorical_accuracy: 0.5475\n",
            "Epoch 00002: saving model to model_init_2021-03-2109_12_51.659582/model-00002-1.12957-0.54751-5.04227-0.14000.h5\n",
            "0\n",
            "45/45 [==============================] - 105s 2s/step - batch: 22.0000 - size: 14.7333 - loss: 1.1296 - categorical_accuracy: 0.5475 - val_loss: 5.0423 - val_categorical_accuracy: 0.1400\n"
          ],
          "name": "stdout"
        },
        {
          "output_type": "execute_result",
          "data": {
            "text/plain": [
              "<tensorflow.python.keras.callbacks.History at 0x7fc0c7863390>"
            ]
          },
          "metadata": {
            "tags": []
          },
          "execution_count": 26
        }
      ]
    },
    {
      "cell_type": "code",
      "metadata": {
        "id": "zdQ6Aed-NVr4",
        "colab": {
          "base_uri": "https://localhost:8080/"
        },
        "outputId": "80f4cbb7-aec4-4c7c-899f-6c5993d1c8f5"
      },
      "source": [
        "conv_3d1.clear_session(conv_3d1_model)\n",
        "conv_3d1=ModelConv3D1()\n",
        "conv_3d1.initialize_src_path(main_folder)\n",
        "conv_3d1.initialize_image_properties(image_height=100,image_width=100)\n",
        "conv_3d1.initialize_hyperparams(frames_to_sample=16,batch_size=10,num_epochs=2)\n",
        "conv_3d1_model=conv_3d1.define_model()\n",
        "print(\"Total Params:\", conv_3d1_model.count_params())\n",
        "conv_3d1.train_model(conv_3d1_model)"
      ],
      "execution_count": null,
      "outputs": [
        {
          "output_type": "stream",
          "text": [
            "Total Params: 687813\n",
            "Epoch 1/2\n",
            "67/67 [==============================] - ETA: 0s - batch: 33.0000 - size: 9.8955 - loss: 1.5822 - categorical_accuracy: 0.3801 \n",
            "Epoch 00001: saving model to model_init_2021-03-2109_16_42.514505/model-00001-1.58219-0.38009-4.92011-0.21000.h5\n",
            "48\n",
            "67/67 [==============================] - 124s 2s/step - batch: 33.0000 - size: 9.8955 - loss: 1.5822 - categorical_accuracy: 0.3801 - val_loss: 4.9201 - val_categorical_accuracy: 0.2100\n",
            "Epoch 2/2\n",
            "67/67 [==============================] - ETA: 0s - batch: 33.0000 - size: 9.8955 - loss: 1.1958 - categorical_accuracy: 0.5309 \n",
            "Epoch 00002: saving model to model_init_2021-03-2109_16_42.514505/model-00002-1.19579-0.53092-7.04926-0.22000.h5\n",
            "0\n",
            "67/67 [==============================] - 105s 2s/step - batch: 33.0000 - size: 9.8955 - loss: 1.1958 - categorical_accuracy: 0.5309 - val_loss: 7.0493 - val_categorical_accuracy: 0.2200\n"
          ],
          "name": "stdout"
        },
        {
          "output_type": "execute_result",
          "data": {
            "text/plain": [
              "<tensorflow.python.keras.callbacks.History at 0x7fc0c72badd0>"
            ]
          },
          "metadata": {
            "tags": []
          },
          "execution_count": 27
        }
      ]
    },
    {
      "cell_type": "code",
      "metadata": {
        "id": "1OYsvNb7NVr5",
        "colab": {
          "base_uri": "https://localhost:8080/"
        },
        "outputId": "afd43f55-78d1-4586-e84c-326643a50aaa"
      },
      "source": [
        "conv_3d1.clear_session(conv_3d1_model)\n",
        "conv_3d1=ModelConv3D1()\n",
        "conv_3d1.initialize_src_path(main_folder)\n",
        "conv_3d1.initialize_image_properties(image_height=100,image_width=100)\n",
        "conv_3d1.initialize_hyperparams(frames_to_sample=30,batch_size=10,num_epochs=2)\n",
        "conv_3d1_model=conv_3d1.define_model()\n",
        "print(\"Total Params:\", conv_3d1_model.count_params())\n",
        "conv_3d1.train_model(conv_3d1_model)"
      ],
      "execution_count": null,
      "outputs": [
        {
          "output_type": "stream",
          "text": [
            "Total Params: 687813\n",
            "Epoch 1/2\n",
            "67/67 [==============================] - ETA: 0s - batch: 33.0000 - size: 9.8955 - loss: 1.5933 - categorical_accuracy: 0.4208 \n",
            "Epoch 00001: saving model to model_init_2021-03-2109_20_33.533250/model-00001-1.59332-0.42081-6.02739-0.16000.h5\n",
            "48\n",
            "67/67 [==============================] - 225s 3s/step - batch: 33.0000 - size: 9.8955 - loss: 1.5933 - categorical_accuracy: 0.4208 - val_loss: 6.0274 - val_categorical_accuracy: 0.1600\n",
            "Epoch 2/2\n",
            "67/67 [==============================] - ETA: 0s - batch: 33.0000 - size: 9.8955 - loss: 1.1371 - categorical_accuracy: 0.5581 \n",
            "Epoch 00002: saving model to model_init_2021-03-2109_20_33.533250/model-00002-1.13714-0.55807-10.45722-0.17000.h5\n",
            "0\n",
            "67/67 [==============================] - 202s 3s/step - batch: 33.0000 - size: 9.8955 - loss: 1.1371 - categorical_accuracy: 0.5581 - val_loss: 10.4572 - val_categorical_accuracy: 0.1700\n"
          ],
          "name": "stdout"
        },
        {
          "output_type": "execute_result",
          "data": {
            "text/plain": [
              "<tensorflow.python.keras.callbacks.History at 0x7fc0c6d7fc90>"
            ]
          },
          "metadata": {
            "tags": []
          },
          "execution_count": 28
        }
      ]
    },
    {
      "cell_type": "code",
      "metadata": {
        "id": "6D4BJx6gNVr6",
        "colab": {
          "base_uri": "https://localhost:8080/"
        },
        "outputId": "12f2aff5-c717-4684-9d27-083d48884340"
      },
      "source": [
        "conv_3d1.clear_session(conv_3d1_model)\n",
        "conv_3d1=ModelConv3D1()\n",
        "conv_3d1.initialize_src_path(main_folder)\n",
        "conv_3d1.initialize_image_properties(image_height=160,image_width=160)\n",
        "conv_3d1.initialize_hyperparams(frames_to_sample=30,batch_size=10,num_epochs=2)\n",
        "conv_3d1_model=conv_3d1.define_model()\n",
        "print(\"Total Params:\", conv_3d1_model.count_params())\n",
        "conv_3d1.train_model(conv_3d1_model)"
      ],
      "execution_count": null,
      "outputs": [
        {
          "output_type": "stream",
          "text": [
            "Total Params: 1736389\n",
            "Epoch 1/2\n",
            "67/67 [==============================] - ETA: 0s - batch: 33.0000 - size: 9.8955 - loss: 1.6431 - categorical_accuracy: 0.3756 \n",
            "Epoch 00001: saving model to model_init_2021-03-2109_27_42.910688/model-00001-1.64306-0.37557-11.39790-0.16000.h5\n",
            "48\n",
            "67/67 [==============================] - 265s 4s/step - batch: 33.0000 - size: 9.8955 - loss: 1.6431 - categorical_accuracy: 0.3756 - val_loss: 11.3979 - val_categorical_accuracy: 0.1600\n",
            "Epoch 2/2\n",
            "67/67 [==============================] - ETA: 0s - batch: 33.0000 - size: 9.8955 - loss: 1.2571 - categorical_accuracy: 0.5158 \n",
            "Epoch 00002: saving model to model_init_2021-03-2109_27_42.910688/model-00002-1.25708-0.51584-15.40731-0.16000.h5\n",
            "0\n",
            "67/67 [==============================] - 227s 3s/step - batch: 33.0000 - size: 9.8955 - loss: 1.2571 - categorical_accuracy: 0.5158 - val_loss: 15.4073 - val_categorical_accuracy: 0.1600\n"
          ],
          "name": "stdout"
        },
        {
          "output_type": "execute_result",
          "data": {
            "text/plain": [
              "<tensorflow.python.keras.callbacks.History at 0x7fc0c64e4dd0>"
            ]
          },
          "metadata": {
            "tags": []
          },
          "execution_count": 29
        }
      ]
    },
    {
      "cell_type": "code",
      "metadata": {
        "id": "oo38TA_HNVr6",
        "colab": {
          "base_uri": "https://localhost:8080/"
        },
        "outputId": "b88138aa-e1b5-497e-9e8b-7db9082667bf"
      },
      "source": [
        "conv_3d1.clear_session(conv_3d1_model)\n",
        "conv_3d1=ModelConv3D1()\n",
        "conv_3d1.initialize_src_path(main_folder)\n",
        "conv_3d1.initialize_image_properties(image_height=160,image_width=160)\n",
        "conv_3d1.initialize_hyperparams(frames_to_sample=16,batch_size=10,num_epochs=2)\n",
        "conv_3d1_model=conv_3d1.define_model()\n",
        "print(\"Total Params:\", conv_3d1_model.count_params())\n",
        "conv_3d1.train_model(conv_3d1_model)"
      ],
      "execution_count": null,
      "outputs": [
        {
          "output_type": "stream",
          "text": [
            "Total Params: 1736389\n",
            "Epoch 1/2\n",
            "67/67 [==============================] - ETA: 0s - batch: 33.0000 - size: 9.8955 - loss: 1.5755 - categorical_accuracy: 0.4012 \n",
            "Epoch 00001: saving model to model_init_2021-03-2109_35_56.896391/model-00001-1.57553-0.40121-2.34058-0.30000.h5\n",
            "48\n",
            "67/67 [==============================] - 144s 2s/step - batch: 33.0000 - size: 9.8955 - loss: 1.5755 - categorical_accuracy: 0.4012 - val_loss: 2.3406 - val_categorical_accuracy: 0.3000\n",
            "Epoch 2/2\n",
            "67/67 [==============================] - ETA: 0s - batch: 33.0000 - size: 9.8955 - loss: 1.2382 - categorical_accuracy: 0.5083 \n",
            "Epoch 00002: saving model to model_init_2021-03-2109_35_56.896391/model-00002-1.23819-0.50830-3.09266-0.23000.h5\n",
            "0\n",
            "67/67 [==============================] - 123s 2s/step - batch: 33.0000 - size: 9.8955 - loss: 1.2382 - categorical_accuracy: 0.5083 - val_loss: 3.0927 - val_categorical_accuracy: 0.2300\n"
          ],
          "name": "stdout"
        },
        {
          "output_type": "execute_result",
          "data": {
            "text/plain": [
              "<tensorflow.python.keras.callbacks.History at 0x7fc110f34790>"
            ]
          },
          "metadata": {
            "tags": []
          },
          "execution_count": 30
        }
      ]
    },
    {
      "cell_type": "code",
      "metadata": {
        "id": "ns4lmR9bNVr7",
        "colab": {
          "base_uri": "https://localhost:8080/"
        },
        "outputId": "2fdc8ac4-ba88-40a6-a775-486881aff9ce"
      },
      "source": [
        "conv_3d1.clear_session(conv_3d1_model)\n",
        "conv_3d1=ModelConv3D1()\n",
        "conv_3d1.initialize_src_path(main_folder)\n",
        "conv_3d1.initialize_image_properties(image_height=160,image_width=160)\n",
        "conv_3d1.initialize_hyperparams(frames_to_sample=16,batch_size=40,num_epochs=2)\n",
        "conv_3d1_model=conv_3d1.define_model()\n",
        "print(\"Total Params:\", conv_3d1_model.count_params())\n",
        "conv_3d1.train_model(conv_3d1_model)"
      ],
      "execution_count": null,
      "outputs": [
        {
          "output_type": "stream",
          "text": [
            "Total Params: 1736389\n",
            "Epoch 1/2\n",
            "17/17 [==============================] - ETA: 0s - batch: 8.0000 - size: 39.0000 - loss: 1.6114 - categorical_accuracy: 0.3967\n",
            "Epoch 00001: saving model to model_init_2021-03-2109_40_25.844948/model-00001-1.61140-0.39668-2.02471-0.21000.h5\n",
            "48\n",
            "17/17 [==============================] - 144s 8s/step - batch: 8.0000 - size: 39.0000 - loss: 1.6114 - categorical_accuracy: 0.3967 - val_loss: 2.0247 - val_categorical_accuracy: 0.2100\n",
            "Epoch 2/2\n",
            "17/17 [==============================] - ETA: 0s - batch: 8.0000 - size: 39.0000 - loss: 1.0988 - categorical_accuracy: 0.5732\n",
            "Epoch 00002: saving model to model_init_2021-03-2109_40_25.844948/model-00002-1.09876-0.57315-5.65281-0.21000.h5\n",
            "0\n",
            "17/17 [==============================] - 125s 8s/step - batch: 8.0000 - size: 39.0000 - loss: 1.0988 - categorical_accuracy: 0.5732 - val_loss: 5.6528 - val_categorical_accuracy: 0.2100\n"
          ],
          "name": "stdout"
        },
        {
          "output_type": "execute_result",
          "data": {
            "text/plain": [
              "<tensorflow.python.keras.callbacks.History at 0x7fc111ed1450>"
            ]
          },
          "metadata": {
            "tags": []
          },
          "execution_count": 31
        }
      ]
    },
    {
      "cell_type": "markdown",
      "metadata": {
        "id": "vVh5rIRCNVr7"
      },
      "source": [
        "### Observation\n",
        "\n",
        "**As we see from the above experiments image resolution and number of frames in sequence have more impact on training time than batch_size.**\n",
        "\n",
        "So experimentations are carried with batch size fixed around 15-40 and changing the resolution and number of image per sequence based on the device memory constraints . Models are designed such that their memory foot print is less than 50 MB which corresponds to 4.3 million parameters assuming the datatype size of parameters to be 12 bytes"
      ]
    },
    {
      "cell_type": "markdown",
      "metadata": {
        "id": "ZKbxe-Szy15j"
      },
      "source": [
        "## Model 1 - Base Model - No Data Augmentation Batch Size 40 and Epoch 15"
      ]
    },
    {
      "cell_type": "code",
      "metadata": {
        "id": "7LVQM4NsNVr7"
      },
      "source": [
        "class ModelConv3D1(ModelBuilder):\n",
        "    \n",
        "    def define_model(self,filtersize=(3,3,3),dense_neurons=64,dropout=0.25):\n",
        "\n",
        "        model = Sequential()\n",
        "        model.add(Conv3D(16, filtersize, padding='same',\n",
        "        input_shape=(self.frames_to_sample,self.image_height,self.image_width,self.channels)))\n",
        "        model.add(Activation('relu'))\n",
        "        model.add(BatchNormalization())\n",
        "        model.add(MaxPooling3D(pool_size=(2, 2, 2)))\n",
        "\n",
        "        model.add(Conv3D(32, filtersize, padding='same'))\n",
        "        model.add(Activation('relu'))\n",
        "        model.add(BatchNormalization())\n",
        "        model.add(MaxPooling3D(pool_size=(2, 2, 2)))\n",
        "\n",
        "        model.add(Conv3D(64, filtersize, padding='same'))\n",
        "        model.add(Activation('relu'))\n",
        "        model.add(BatchNormalization())\n",
        "        model.add(MaxPooling3D(pool_size=(2, 2, 2)))\n",
        "\n",
        "        model.add(Conv3D(128, filtersize, padding='same'))\n",
        "        model.add(Activation('relu'))\n",
        "        model.add(BatchNormalization())\n",
        "        model.add(MaxPooling3D(pool_size=(2, 2, 2)))\n",
        "\n",
        "        model.add(Flatten())\n",
        "        model.add(Dense(dense_neurons,activation='relu'))\n",
        "        model.add(BatchNormalization())\n",
        "        model.add(Dropout(dropout))\n",
        "\n",
        "        model.add(Dense(dense_neurons,activation='relu'))\n",
        "        model.add(BatchNormalization())\n",
        "        model.add(Dropout(dropout))\n",
        "\n",
        "\n",
        "        model.add(Dense(self.num_classes,activation='softmax'))\n",
        "\n",
        "        optimiser = optimizers.Adam()\n",
        "        model.compile(optimizer=optimiser, loss='categorical_crossentropy', metrics=['categorical_accuracy'])\n",
        "        return model"
      ],
      "execution_count": null,
      "outputs": []
    },
    {
      "cell_type": "code",
      "metadata": {
        "id": "-89dV5W8WAw3",
        "colab": {
          "base_uri": "https://localhost:8080/"
        },
        "outputId": "36e34450-cc68-4c46-a410-734464ccd595"
      },
      "source": [
        "conv_3d1.clear_session(conv_3d1_model)\n",
        "Conv3D1=ModelConv3D1()\n",
        "Conv3D1.initialize_src_path(main_folder)\n",
        "Conv3D1.initialize_image_properties(image_height=160,image_width=160)\n",
        "Conv3D1.initialize_hyperparams(frames_to_sample=20,batch_size=40,num_epochs=15)\n",
        "Conv3D1_model=Conv3D1.define_model()\n",
        "Conv3D1_model.summary()"
      ],
      "execution_count": null,
      "outputs": [
        {
          "output_type": "stream",
          "text": [
            "Model: \"sequential\"\n",
            "_________________________________________________________________\n",
            "Layer (type)                 Output Shape              Param #   \n",
            "=================================================================\n",
            "conv3d (Conv3D)              (None, 20, 160, 160, 16)  1312      \n",
            "_________________________________________________________________\n",
            "activation (Activation)      (None, 20, 160, 160, 16)  0         \n",
            "_________________________________________________________________\n",
            "batch_normalization (BatchNo (None, 20, 160, 160, 16)  64        \n",
            "_________________________________________________________________\n",
            "max_pooling3d (MaxPooling3D) (None, 10, 80, 80, 16)    0         \n",
            "_________________________________________________________________\n",
            "conv3d_1 (Conv3D)            (None, 10, 80, 80, 32)    13856     \n",
            "_________________________________________________________________\n",
            "activation_1 (Activation)    (None, 10, 80, 80, 32)    0         \n",
            "_________________________________________________________________\n",
            "batch_normalization_1 (Batch (None, 10, 80, 80, 32)    128       \n",
            "_________________________________________________________________\n",
            "max_pooling3d_1 (MaxPooling3 (None, 5, 40, 40, 32)     0         \n",
            "_________________________________________________________________\n",
            "conv3d_2 (Conv3D)            (None, 5, 40, 40, 64)     55360     \n",
            "_________________________________________________________________\n",
            "activation_2 (Activation)    (None, 5, 40, 40, 64)     0         \n",
            "_________________________________________________________________\n",
            "batch_normalization_2 (Batch (None, 5, 40, 40, 64)     256       \n",
            "_________________________________________________________________\n",
            "max_pooling3d_2 (MaxPooling3 (None, 2, 20, 20, 64)     0         \n",
            "_________________________________________________________________\n",
            "conv3d_3 (Conv3D)            (None, 2, 20, 20, 128)    221312    \n",
            "_________________________________________________________________\n",
            "activation_3 (Activation)    (None, 2, 20, 20, 128)    0         \n",
            "_________________________________________________________________\n",
            "batch_normalization_3 (Batch (None, 2, 20, 20, 128)    512       \n",
            "_________________________________________________________________\n",
            "max_pooling3d_3 (MaxPooling3 (None, 1, 10, 10, 128)    0         \n",
            "_________________________________________________________________\n",
            "flatten (Flatten)            (None, 12800)             0         \n",
            "_________________________________________________________________\n",
            "dense (Dense)                (None, 64)                819264    \n",
            "_________________________________________________________________\n",
            "batch_normalization_4 (Batch (None, 64)                256       \n",
            "_________________________________________________________________\n",
            "dropout (Dropout)            (None, 64)                0         \n",
            "_________________________________________________________________\n",
            "dense_1 (Dense)              (None, 64)                4160      \n",
            "_________________________________________________________________\n",
            "batch_normalization_5 (Batch (None, 64)                256       \n",
            "_________________________________________________________________\n",
            "dropout_1 (Dropout)          (None, 64)                0         \n",
            "_________________________________________________________________\n",
            "dense_2 (Dense)              (None, 5)                 325       \n",
            "=================================================================\n",
            "Total params: 1,117,061\n",
            "Trainable params: 1,116,325\n",
            "Non-trainable params: 736\n",
            "_________________________________________________________________\n"
          ],
          "name": "stdout"
        }
      ]
    },
    {
      "cell_type": "code",
      "metadata": {
        "id": "5j884vjoWQD0",
        "colab": {
          "base_uri": "https://localhost:8080/"
        },
        "outputId": "cc271ce6-4548-46f5-b20f-388c9317c3a7"
      },
      "source": [
        "print(\"Total Params:\", Conv3D1_model.count_params())\n",
        "accuracy_check_model_1 = Conv3D1.train_model(Conv3D1_model)"
      ],
      "execution_count": null,
      "outputs": [
        {
          "output_type": "stream",
          "text": [
            "Total Params: 1117061\n",
            "Epoch 1/15\n",
            "17/17 [==============================] - ETA: 0s - batch: 8.0000 - size: 39.0000 - loss: 1.5218 - categorical_accuracy: 0.4314\n",
            "Epoch 00001: saving model to model_init_2021-03-2109_44_56.788820/model-00001-1.52181-0.43137-1.53799-0.31000.h5\n",
            "48\n",
            "17/17 [==============================] - 182s 10s/step - batch: 8.0000 - size: 39.0000 - loss: 1.5218 - categorical_accuracy: 0.4314 - val_loss: 1.5380 - val_categorical_accuracy: 0.3100\n",
            "Epoch 2/15\n",
            "17/17 [==============================] - ETA: 0s - batch: 8.0000 - size: 39.0000 - loss: 0.9892 - categorical_accuracy: 0.6169\n",
            "Epoch 00002: saving model to model_init_2021-03-2109_44_56.788820/model-00002-0.98919-0.61689-2.06962-0.23000.h5\n",
            "0\n",
            "17/17 [==============================] - 155s 10s/step - batch: 8.0000 - size: 39.0000 - loss: 0.9892 - categorical_accuracy: 0.6169 - val_loss: 2.0696 - val_categorical_accuracy: 0.2300\n",
            "Epoch 3/15\n",
            "17/17 [==============================] - ETA: 0s - batch: 8.0000 - size: 39.0000 - loss: 0.7462 - categorical_accuracy: 0.7285\n",
            "Epoch 00003: saving model to model_init_2021-03-2109_44_56.788820/model-00003-0.74623-0.72851-2.68113-0.22000.h5\n",
            "0\n",
            "17/17 [==============================] - 155s 10s/step - batch: 8.0000 - size: 39.0000 - loss: 0.7462 - categorical_accuracy: 0.7285 - val_loss: 2.6811 - val_categorical_accuracy: 0.2200\n",
            "Epoch 4/15\n",
            "17/17 [==============================] - ETA: 0s - batch: 8.0000 - size: 39.0000 - loss: 0.5651 - categorical_accuracy: 0.8024\n",
            "Epoch 00004: saving model to model_init_2021-03-2109_44_56.788820/model-00004-0.56514-0.80241-3.14692-0.21000.h5\n",
            "0\n",
            "17/17 [==============================] - 153s 10s/step - batch: 8.0000 - size: 39.0000 - loss: 0.5651 - categorical_accuracy: 0.8024 - val_loss: 3.1469 - val_categorical_accuracy: 0.2100\n",
            "Epoch 5/15\n",
            "17/17 [==============================] - ETA: 0s - batch: 8.0000 - size: 39.0000 - loss: 0.4357 - categorical_accuracy: 0.8522\n",
            "Epoch 00005: saving model to model_init_2021-03-2109_44_56.788820/model-00005-0.43573-0.85219-4.25654-0.17000.h5\n",
            "\n",
            "Epoch 00005: ReduceLROnPlateau reducing learning rate to 0.00020000000949949026.\n",
            "0\n",
            "17/17 [==============================] - 153s 9s/step - batch: 8.0000 - size: 39.0000 - loss: 0.4357 - categorical_accuracy: 0.8522 - val_loss: 4.2565 - val_categorical_accuracy: 0.1700\n",
            "Epoch 6/15\n",
            "17/17 [==============================] - ETA: 0s - batch: 8.0000 - size: 39.0000 - loss: 0.3409 - categorical_accuracy: 0.8929\n",
            "Epoch 00006: saving model to model_init_2021-03-2109_44_56.788820/model-00006-0.34086-0.89291-3.95901-0.25000.h5\n",
            "0\n",
            "17/17 [==============================] - 159s 10s/step - batch: 8.0000 - size: 39.0000 - loss: 0.3409 - categorical_accuracy: 0.8929 - val_loss: 3.9590 - val_categorical_accuracy: 0.2500\n",
            "Epoch 7/15\n",
            "17/17 [==============================] - ETA: 0s - batch: 8.0000 - size: 39.0000 - loss: 0.2443 - categorical_accuracy: 0.9351\n",
            "Epoch 00007: saving model to model_init_2021-03-2109_44_56.788820/model-00007-0.24433-0.93514-4.03968-0.21000.h5\n",
            "0\n",
            "17/17 [==============================] - 152s 9s/step - batch: 8.0000 - size: 39.0000 - loss: 0.2443 - categorical_accuracy: 0.9351 - val_loss: 4.0397 - val_categorical_accuracy: 0.2100\n",
            "Epoch 8/15\n",
            "17/17 [==============================] - ETA: 0s - batch: 8.0000 - size: 39.0000 - loss: 0.2487 - categorical_accuracy: 0.9427\n",
            "Epoch 00008: saving model to model_init_2021-03-2109_44_56.788820/model-00008-0.24874-0.94268-4.34314-0.21000.h5\n",
            "0\n",
            "17/17 [==============================] - 155s 10s/step - batch: 8.0000 - size: 39.0000 - loss: 0.2487 - categorical_accuracy: 0.9427 - val_loss: 4.3431 - val_categorical_accuracy: 0.2100\n",
            "Epoch 9/15\n",
            "17/17 [==============================] - ETA: 0s - batch: 8.0000 - size: 39.0000 - loss: 0.2038 - categorical_accuracy: 0.9502\n",
            "Epoch 00009: saving model to model_init_2021-03-2109_44_56.788820/model-00009-0.20381-0.95023-3.92892-0.21000.h5\n",
            "\n",
            "Epoch 00009: ReduceLROnPlateau reducing learning rate to 4.0000001899898055e-05.\n",
            "0\n",
            "17/17 [==============================] - 156s 10s/step - batch: 8.0000 - size: 39.0000 - loss: 0.2038 - categorical_accuracy: 0.9502 - val_loss: 3.9289 - val_categorical_accuracy: 0.2100\n",
            "Epoch 10/15\n",
            "17/17 [==============================] - ETA: 0s - batch: 8.0000 - size: 39.0000 - loss: 0.1863 - categorical_accuracy: 0.9578\n",
            "Epoch 00010: saving model to model_init_2021-03-2109_44_56.788820/model-00010-0.18627-0.95777-4.44845-0.21000.h5\n",
            "0\n",
            "17/17 [==============================] - 151s 9s/step - batch: 8.0000 - size: 39.0000 - loss: 0.1863 - categorical_accuracy: 0.9578 - val_loss: 4.4484 - val_categorical_accuracy: 0.2100\n",
            "Epoch 11/15\n",
            "17/17 [==============================] - ETA: 0s - batch: 8.0000 - size: 39.0000 - loss: 0.1924 - categorical_accuracy: 0.9578\n",
            "Epoch 00011: saving model to model_init_2021-03-2109_44_56.788820/model-00011-0.19242-0.95777-4.46708-0.19000.h5\n",
            "0\n",
            "17/17 [==============================] - 153s 10s/step - batch: 8.0000 - size: 39.0000 - loss: 0.1924 - categorical_accuracy: 0.9578 - val_loss: 4.4671 - val_categorical_accuracy: 0.1900\n",
            "Epoch 12/15\n",
            "17/17 [==============================] - ETA: 0s - batch: 8.0000 - size: 39.0000 - loss: 0.1980 - categorical_accuracy: 0.9608\n",
            "Epoch 00012: saving model to model_init_2021-03-2109_44_56.788820/model-00012-0.19801-0.96078-4.24190-0.24000.h5\n",
            "0\n",
            "17/17 [==============================] - 157s 10s/step - batch: 8.0000 - size: 39.0000 - loss: 0.1980 - categorical_accuracy: 0.9608 - val_loss: 4.2419 - val_categorical_accuracy: 0.2400\n",
            "Epoch 13/15\n",
            "17/17 [==============================] - ETA: 0s - batch: 8.0000 - size: 39.0000 - loss: 0.1889 - categorical_accuracy: 0.9638\n",
            "Epoch 00013: saving model to model_init_2021-03-2109_44_56.788820/model-00013-0.18892-0.96380-4.20086-0.21000.h5\n",
            "\n",
            "Epoch 00013: ReduceLROnPlateau reducing learning rate to 8.000000525498762e-06.\n",
            "0\n",
            "17/17 [==============================] - 151s 9s/step - batch: 8.0000 - size: 39.0000 - loss: 0.1889 - categorical_accuracy: 0.9638 - val_loss: 4.2009 - val_categorical_accuracy: 0.2100\n",
            "Epoch 14/15\n",
            "17/17 [==============================] - ETA: 0s - batch: 8.0000 - size: 39.0000 - loss: 0.1622 - categorical_accuracy: 0.9683\n",
            "Epoch 00014: saving model to model_init_2021-03-2109_44_56.788820/model-00014-0.16219-0.96833-4.05397-0.23000.h5\n",
            "0\n",
            "17/17 [==============================] - 157s 10s/step - batch: 8.0000 - size: 39.0000 - loss: 0.1622 - categorical_accuracy: 0.9683 - val_loss: 4.0540 - val_categorical_accuracy: 0.2300\n",
            "Epoch 15/15\n",
            "17/17 [==============================] - ETA: 0s - batch: 8.0000 - size: 39.0000 - loss: 0.1558 - categorical_accuracy: 0.9729\n",
            "Epoch 00015: saving model to model_init_2021-03-2109_44_56.788820/model-00015-0.15576-0.97285-4.08687-0.19000.h5\n",
            "0\n",
            "17/17 [==============================] - 154s 10s/step - batch: 8.0000 - size: 39.0000 - loss: 0.1558 - categorical_accuracy: 0.9729 - val_loss: 4.0869 - val_categorical_accuracy: 0.1900\n"
          ],
          "name": "stdout"
        }
      ]
    },
    {
      "cell_type": "code",
      "metadata": {
        "id": "r00TPGbNXXhX",
        "colab": {
          "base_uri": "https://localhost:8080/",
          "height": 266
        },
        "outputId": "d5a3be7d-1dcc-4b0e-c1e2-d638bba21f3e"
      },
      "source": [
        "plot(accuracy_check_model_1)"
      ],
      "execution_count": null,
      "outputs": [
        {
          "output_type": "display_data",
          "data": {
            "image/png": "[encoded data removed]",
            "text/plain": [
              "<Figure size 1080x288 with 2 Axes>"
            ]
          },
          "metadata": {
            "tags": [],
            "needs_background": "light"
          }
        }
      ]
    },
    {
      "cell_type": "markdown",
      "metadata": {
        "id": "Dtxwayy_14Hn"
      },
      "source": [
        "#### Model is clearly overfitting. So we need to do data augmentation"
      ]
    },
    {
      "cell_type": "markdown",
      "metadata": {
        "id": "iJk2twS_2lRx"
      },
      "source": [
        "## Model 2 - Augment Data , (3,3,3) filter & 160x160 image resolution"
      ]
    },
    {
      "cell_type": "code",
      "metadata": {
        "id": "fQxHzlc92oOq",
        "colab": {
          "base_uri": "https://localhost:8080/"
        },
        "outputId": "9a0a3df1-6d6b-48f6-c28e-873c21da8987"
      },
      "source": [
        "Conv3D1.clear_session(Conv3D1_model)\n",
        "Conv3D2=ModelConv3D1()\n",
        "Conv3D2.initialize_src_path(main_folder)\n",
        "Conv3D2.initialize_image_properties(image_height=160,image_width=160)\n",
        "Conv3D2.initialize_hyperparams(frames_to_sample=20,batch_size=20,num_epochs=25)\n",
        "Conv3D2_model=Conv3D2.define_model(dense_neurons=256,dropout=0.5)\n",
        "Conv3D2_model.summary()"
      ],
      "execution_count": null,
      "outputs": [
        {
          "output_type": "stream",
          "text": [
            "Model: \"sequential\"\n",
            "_________________________________________________________________\n",
            "Layer (type)                 Output Shape              Param #   \n",
            "=================================================================\n",
            "conv3d (Conv3D)              (None, 20, 160, 160, 16)  1312      \n",
            "_________________________________________________________________\n",
            "activation (Activation)      (None, 20, 160, 160, 16)  0         \n",
            "_________________________________________________________________\n",
            "batch_normalization (BatchNo (None, 20, 160, 160, 16)  64        \n",
            "_________________________________________________________________\n",
            "max_pooling3d (MaxPooling3D) (None, 10, 80, 80, 16)    0         \n",
            "_________________________________________________________________\n",
            "conv3d_1 (Conv3D)            (None, 10, 80, 80, 32)    13856     \n",
            "_________________________________________________________________\n",
            "activation_1 (Activation)    (None, 10, 80, 80, 32)    0         \n",
            "_________________________________________________________________\n",
            "batch_normalization_1 (Batch (None, 10, 80, 80, 32)    128       \n",
            "_________________________________________________________________\n",
            "max_pooling3d_1 (MaxPooling3 (None, 5, 40, 40, 32)     0         \n",
            "_________________________________________________________________\n",
            "conv3d_2 (Conv3D)            (None, 5, 40, 40, 64)     55360     \n",
            "_________________________________________________________________\n",
            "activation_2 (Activation)    (None, 5, 40, 40, 64)     0         \n",
            "_________________________________________________________________\n",
            "batch_normalization_2 (Batch (None, 5, 40, 40, 64)     256       \n",
            "_________________________________________________________________\n",
            "max_pooling3d_2 (MaxPooling3 (None, 2, 20, 20, 64)     0         \n",
            "_________________________________________________________________\n",
            "conv3d_3 (Conv3D)            (None, 2, 20, 20, 128)    221312    \n",
            "_________________________________________________________________\n",
            "activation_3 (Activation)    (None, 2, 20, 20, 128)    0         \n",
            "_________________________________________________________________\n",
            "batch_normalization_3 (Batch (None, 2, 20, 20, 128)    512       \n",
            "_________________________________________________________________\n",
            "max_pooling3d_3 (MaxPooling3 (None, 1, 10, 10, 128)    0         \n",
            "_________________________________________________________________\n",
            "flatten (Flatten)            (None, 12800)             0         \n",
            "_________________________________________________________________\n",
            "dense (Dense)                (None, 256)               3277056   \n",
            "_________________________________________________________________\n",
            "batch_normalization_4 (Batch (None, 256)               1024      \n",
            "_________________________________________________________________\n",
            "dropout (Dropout)            (None, 256)               0         \n",
            "_________________________________________________________________\n",
            "dense_1 (Dense)              (None, 256)               65792     \n",
            "_________________________________________________________________\n",
            "batch_normalization_5 (Batch (None, 256)               1024      \n",
            "_________________________________________________________________\n",
            "dropout_1 (Dropout)          (None, 256)               0         \n",
            "_________________________________________________________________\n",
            "dense_2 (Dense)              (None, 5)                 1285      \n",
            "=================================================================\n",
            "Total params: 3,638,981\n",
            "Trainable params: 3,637,477\n",
            "Non-trainable params: 1,504\n",
            "_________________________________________________________________\n"
          ],
          "name": "stdout"
        }
      ]
    },
    {
      "cell_type": "code",
      "metadata": {
        "id": "PCx8waqu3PY9",
        "colab": {
          "base_uri": "https://localhost:8080/"
        },
        "outputId": "c529a432-db38-4039-88b4-6d5f2efc3bdd"
      },
      "source": [
        "print(\"Total Params:\", Conv3D2_model.count_params())\n",
        "accuracy_check_model_2=Conv3D2.train_model(Conv3D2_model,augment_data=True)"
      ],
      "execution_count": null,
      "outputs": [
        {
          "output_type": "stream",
          "text": [
            "Total Params: 3638981\n",
            "Epoch 1/25\n",
            "34/34 [==============================] - ETA: 0s - batch: 16.5000 - size: 39.0000 - loss: 1.9587 - categorical_accuracy: 0.3869\n",
            "Epoch 00001: saving model to model_init_2021-03-2110_24_03.959552/model-00001-1.95875-0.38688-1.97477-0.35000.h5\n",
            "48\n",
            "34/34 [==============================] - 312s 9s/step - batch: 16.5000 - size: 39.0000 - loss: 1.9587 - categorical_accuracy: 0.3869 - val_loss: 1.9748 - val_categorical_accuracy: 0.3500\n",
            "Epoch 2/25\n",
            "34/34 [==============================] - ETA: 0s - batch: 16.5000 - size: 39.0000 - loss: 1.4944 - categorical_accuracy: 0.5045\n",
            "Epoch 00002: saving model to model_init_2021-03-2110_24_03.959552/model-00002-1.49443-0.50452-5.45264-0.23000.h5\n",
            "0\n",
            "34/34 [==============================] - 281s 8s/step - batch: 16.5000 - size: 39.0000 - loss: 1.4944 - categorical_accuracy: 0.5045 - val_loss: 5.4526 - val_categorical_accuracy: 0.2300\n",
            "Epoch 3/25\n",
            "34/34 [==============================] - ETA: 0s - batch: 16.5000 - size: 39.0000 - loss: 1.3878 - categorical_accuracy: 0.5332\n",
            "Epoch 00003: saving model to model_init_2021-03-2110_24_03.959552/model-00003-1.38777-0.53318-8.57610-0.23000.h5\n",
            "0\n",
            "34/34 [==============================] - 278s 8s/step - batch: 16.5000 - size: 39.0000 - loss: 1.3878 - categorical_accuracy: 0.5332 - val_loss: 8.5761 - val_categorical_accuracy: 0.2300\n",
            "Epoch 4/25\n",
            "34/34 [==============================] - ETA: 0s - batch: 16.5000 - size: 39.0000 - loss: 1.3168 - categorical_accuracy: 0.5294\n",
            "Epoch 00004: saving model to model_init_2021-03-2110_24_03.959552/model-00004-1.31678-0.52941-5.06784-0.16000.h5\n",
            "0\n",
            "34/34 [==============================] - 285s 9s/step - batch: 16.5000 - size: 39.0000 - loss: 1.3168 - categorical_accuracy: 0.5294 - val_loss: 5.0678 - val_categorical_accuracy: 0.1600\n",
            "Epoch 5/25\n",
            "34/34 [==============================] - ETA: 0s - batch: 16.5000 - size: 39.0000 - loss: 0.9911 - categorical_accuracy: 0.6448\n",
            "Epoch 00005: saving model to model_init_2021-03-2110_24_03.959552/model-00005-0.99109-0.64480-4.91971-0.23000.h5\n",
            "\n",
            "Epoch 00005: ReduceLROnPlateau reducing learning rate to 0.00020000000949949026.\n",
            "0\n",
            "34/34 [==============================] - 279s 8s/step - batch: 16.5000 - size: 39.0000 - loss: 0.9911 - categorical_accuracy: 0.6448 - val_loss: 4.9197 - val_categorical_accuracy: 0.2300\n",
            "Epoch 6/25\n",
            "34/34 [==============================] - ETA: 0s - batch: 16.5000 - size: 39.0000 - loss: 0.8449 - categorical_accuracy: 0.6840\n",
            "Epoch 00006: saving model to model_init_2021-03-2110_24_03.959552/model-00006-0.84493-0.68401-5.36019-0.25000.h5\n",
            "0\n",
            "34/34 [==============================] - 285s 9s/step - batch: 16.5000 - size: 39.0000 - loss: 0.8449 - categorical_accuracy: 0.6840 - val_loss: 5.3602 - val_categorical_accuracy: 0.2500\n",
            "Epoch 7/25\n",
            "34/34 [==============================] - ETA: 0s - batch: 16.5000 - size: 39.0000 - loss: 0.8552 - categorical_accuracy: 0.6923\n",
            "Epoch 00007: saving model to model_init_2021-03-2110_24_03.959552/model-00007-0.85523-0.69231-4.57261-0.26000.h5\n",
            "0\n",
            "34/34 [==============================] - 284s 9s/step - batch: 16.5000 - size: 39.0000 - loss: 0.8552 - categorical_accuracy: 0.6923 - val_loss: 4.5726 - val_categorical_accuracy: 0.2600\n",
            "Epoch 8/25\n",
            "34/34 [==============================] - ETA: 0s - batch: 16.5000 - size: 39.0000 - loss: 0.7811 - categorical_accuracy: 0.7066\n",
            "Epoch 00008: saving model to model_init_2021-03-2110_24_03.959552/model-00008-0.78114-0.70664-3.96139-0.15000.h5\n",
            "0\n",
            "34/34 [==============================] - 282s 9s/step - batch: 16.5000 - size: 39.0000 - loss: 0.7811 - categorical_accuracy: 0.7066 - val_loss: 3.9614 - val_categorical_accuracy: 0.1500\n",
            "Epoch 9/25\n",
            "34/34 [==============================] - ETA: 0s - batch: 16.5000 - size: 39.0000 - loss: 0.8363 - categorical_accuracy: 0.6976\n",
            "Epoch 00009: saving model to model_init_2021-03-2110_24_03.959552/model-00009-0.83625-0.69759-3.67369-0.29000.h5\n",
            "\n",
            "Epoch 00009: ReduceLROnPlateau reducing learning rate to 4.0000001899898055e-05.\n",
            "0\n",
            "34/34 [==============================] - 280s 8s/step - batch: 16.5000 - size: 39.0000 - loss: 0.8363 - categorical_accuracy: 0.6976 - val_loss: 3.6737 - val_categorical_accuracy: 0.2900\n",
            "Epoch 10/25\n",
            "34/34 [==============================] - ETA: 0s - batch: 16.5000 - size: 39.0000 - loss: 0.7306 - categorical_accuracy: 0.7134\n",
            "Epoch 00010: saving model to model_init_2021-03-2110_24_03.959552/model-00010-0.73060-0.71342-3.08736-0.28000.h5\n",
            "0\n",
            "34/34 [==============================] - 282s 9s/step - batch: 16.5000 - size: 39.0000 - loss: 0.7306 - categorical_accuracy: 0.7134 - val_loss: 3.0874 - val_categorical_accuracy: 0.2800\n",
            "Epoch 11/25\n",
            "34/34 [==============================] - ETA: 0s - batch: 16.5000 - size: 39.0000 - loss: 0.7051 - categorical_accuracy: 0.7436\n",
            "Epoch 00011: saving model to model_init_2021-03-2110_24_03.959552/model-00011-0.70506-0.74359-2.85392-0.30000.h5\n",
            "0\n",
            "34/34 [==============================] - 282s 9s/step - batch: 16.5000 - size: 39.0000 - loss: 0.7051 - categorical_accuracy: 0.7436 - val_loss: 2.8539 - val_categorical_accuracy: 0.3000\n",
            "Epoch 12/25\n",
            "34/34 [==============================] - ETA: 0s - batch: 16.5000 - size: 39.0000 - loss: 0.6584 - categorical_accuracy: 0.7383\n",
            "Epoch 00012: saving model to model_init_2021-03-2110_24_03.959552/model-00012-0.65843-0.73831-2.60858-0.34000.h5\n",
            "0\n",
            "34/34 [==============================] - 280s 8s/step - batch: 16.5000 - size: 39.0000 - loss: 0.6584 - categorical_accuracy: 0.7383 - val_loss: 2.6086 - val_categorical_accuracy: 0.3400\n",
            "Epoch 13/25\n",
            "34/34 [==============================] - ETA: 0s - batch: 16.5000 - size: 39.0000 - loss: 0.6748 - categorical_accuracy: 0.7579\n",
            "Epoch 00013: saving model to model_init_2021-03-2110_24_03.959552/model-00013-0.67484-0.75792-2.42164-0.36000.h5\n",
            "\n",
            "Epoch 00013: ReduceLROnPlateau reducing learning rate to 8.000000525498762e-06.\n",
            "0\n",
            "34/34 [==============================] - 287s 9s/step - batch: 16.5000 - size: 39.0000 - loss: 0.6748 - categorical_accuracy: 0.7579 - val_loss: 2.4216 - val_categorical_accuracy: 0.3600\n",
            "Epoch 14/25\n",
            "34/34 [==============================] - ETA: 0s - batch: 16.5000 - size: 39.0000 - loss: 0.6512 - categorical_accuracy: 0.7564\n",
            "Epoch 00014: saving model to model_init_2021-03-2110_24_03.959552/model-00014-0.65123-0.75641-1.85534-0.48000.h5\n",
            "0\n",
            "34/34 [==============================] - 280s 8s/step - batch: 16.5000 - size: 39.0000 - loss: 0.6512 - categorical_accuracy: 0.7564 - val_loss: 1.8553 - val_categorical_accuracy: 0.4800\n",
            "Epoch 15/25\n",
            "34/34 [==============================] - ETA: 0s - batch: 16.5000 - size: 39.0000 - loss: 0.6445 - categorical_accuracy: 0.7715\n",
            "Epoch 00015: saving model to model_init_2021-03-2110_24_03.959552/model-00015-0.64450-0.77149-1.63579-0.53000.h5\n",
            "0\n",
            "34/34 [==============================] - 283s 9s/step - batch: 16.5000 - size: 39.0000 - loss: 0.6445 - categorical_accuracy: 0.7715 - val_loss: 1.6358 - val_categorical_accuracy: 0.5300\n",
            "Epoch 16/25\n",
            "34/34 [==============================] - ETA: 0s - batch: 16.5000 - size: 39.0000 - loss: 0.6533 - categorical_accuracy: 0.7632\n",
            "Epoch 00016: saving model to model_init_2021-03-2110_24_03.959552/model-00016-0.65331-0.76320-1.35087-0.57000.h5\n",
            "0\n",
            "34/34 [==============================] - 287s 9s/step - batch: 16.5000 - size: 39.0000 - loss: 0.6533 - categorical_accuracy: 0.7632 - val_loss: 1.3509 - val_categorical_accuracy: 0.5700\n",
            "Epoch 17/25\n",
            "34/34 [==============================] - ETA: 0s - batch: 16.5000 - size: 39.0000 - loss: 0.7124 - categorical_accuracy: 0.7564\n",
            "Epoch 00017: saving model to model_init_2021-03-2110_24_03.959552/model-00017-0.71239-0.75641-1.18667-0.64000.h5\n",
            "0\n",
            "34/34 [==============================] - 284s 9s/step - batch: 16.5000 - size: 39.0000 - loss: 0.7124 - categorical_accuracy: 0.7564 - val_loss: 1.1867 - val_categorical_accuracy: 0.6400\n",
            "Epoch 18/25\n",
            "34/34 [==============================] - ETA: 0s - batch: 16.5000 - size: 39.0000 - loss: 0.6561 - categorical_accuracy: 0.7617\n",
            "Epoch 00018: saving model to model_init_2021-03-2110_24_03.959552/model-00018-0.65611-0.76169-0.84335-0.66000.h5\n",
            "0\n",
            "34/34 [==============================] - 286s 9s/step - batch: 16.5000 - size: 39.0000 - loss: 0.6561 - categorical_accuracy: 0.7617 - val_loss: 0.8433 - val_categorical_accuracy: 0.6600\n",
            "Epoch 19/25\n",
            "34/34 [==============================] - ETA: 0s - batch: 16.5000 - size: 39.0000 - loss: 0.6575 - categorical_accuracy: 0.7655\n",
            "Epoch 00019: saving model to model_init_2021-03-2110_24_03.959552/model-00019-0.65752-0.76546-0.94943-0.72000.h5\n",
            "0\n",
            "34/34 [==============================] - 286s 9s/step - batch: 16.5000 - size: 39.0000 - loss: 0.6575 - categorical_accuracy: 0.7655 - val_loss: 0.9494 - val_categorical_accuracy: 0.7200\n",
            "Epoch 20/25\n",
            "34/34 [==============================] - ETA: 0s - batch: 16.5000 - size: 39.0000 - loss: 0.6562 - categorical_accuracy: 0.7670\n",
            "Epoch 00020: saving model to model_init_2021-03-2110_24_03.959552/model-00020-0.65620-0.76697-0.83624-0.74000.h5\n",
            "0\n",
            "34/34 [==============================] - 284s 9s/step - batch: 16.5000 - size: 39.0000 - loss: 0.6562 - categorical_accuracy: 0.7670 - val_loss: 0.8362 - val_categorical_accuracy: 0.7400\n",
            "Epoch 21/25\n",
            "34/34 [==============================] - ETA: 0s - batch: 16.5000 - size: 39.0000 - loss: 0.6336 - categorical_accuracy: 0.7557\n",
            "Epoch 00021: saving model to model_init_2021-03-2110_24_03.959552/model-00021-0.63358-0.75566-0.79407-0.78000.h5\n",
            "0\n",
            "34/34 [==============================] - 289s 9s/step - batch: 16.5000 - size: 39.0000 - loss: 0.6336 - categorical_accuracy: 0.7557 - val_loss: 0.7941 - val_categorical_accuracy: 0.7800\n",
            "Epoch 22/25\n",
            "34/34 [==============================] - ETA: 0s - batch: 16.5000 - size: 39.0000 - loss: 0.6217 - categorical_accuracy: 0.7685\n",
            "Epoch 00022: saving model to model_init_2021-03-2110_24_03.959552/model-00022-0.62173-0.76848-0.76536-0.79000.h5\n",
            "0\n",
            "34/34 [==============================] - 285s 9s/step - batch: 16.5000 - size: 39.0000 - loss: 0.6217 - categorical_accuracy: 0.7685 - val_loss: 0.7654 - val_categorical_accuracy: 0.7900\n",
            "Epoch 23/25\n",
            "34/34 [==============================] - ETA: 0s - batch: 16.5000 - size: 39.0000 - loss: 0.6568 - categorical_accuracy: 0.7753\n",
            "Epoch 00023: saving model to model_init_2021-03-2110_24_03.959552/model-00023-0.65683-0.77526-0.78275-0.77000.h5\n",
            "0\n",
            "34/34 [==============================] - 284s 9s/step - batch: 16.5000 - size: 39.0000 - loss: 0.6568 - categorical_accuracy: 0.7753 - val_loss: 0.7828 - val_categorical_accuracy: 0.7700\n",
            "Epoch 24/25\n",
            "34/34 [==============================] - ETA: 0s - batch: 16.5000 - size: 39.0000 - loss: 0.7172 - categorical_accuracy: 0.7436\n",
            "Epoch 00024: saving model to model_init_2021-03-2110_24_03.959552/model-00024-0.71725-0.74359-0.65641-0.75000.h5\n",
            "0\n",
            "34/34 [==============================] - 291s 9s/step - batch: 16.5000 - size: 39.0000 - loss: 0.7172 - categorical_accuracy: 0.7436 - val_loss: 0.6564 - val_categorical_accuracy: 0.7500\n",
            "Epoch 25/25\n",
            "34/34 [==============================] - ETA: 0s - batch: 16.5000 - size: 39.0000 - loss: 0.6603 - categorical_accuracy: 0.7534\n",
            "Epoch 00025: saving model to model_init_2021-03-2110_24_03.959552/model-00025-0.66028-0.75339-0.60351-0.81000.h5\n",
            "0\n",
            "34/34 [==============================] - 288s 9s/step - batch: 16.5000 - size: 39.0000 - loss: 0.6603 - categorical_accuracy: 0.7534 - val_loss: 0.6035 - val_categorical_accuracy: 0.8100\n"
          ],
          "name": "stdout"
        }
      ]
    },
    {
      "cell_type": "code",
      "metadata": {
        "id": "PXZ8sThy3XSr",
        "colab": {
          "base_uri": "https://localhost:8080/",
          "height": 265
        },
        "outputId": "9988baa7-c8c9-436a-d6d9-776c5afac78a"
      },
      "source": [
        "plot(accuracy_check_model_2)"
      ],
      "execution_count": null,
      "outputs": [
        {
          "output_type": "display_data",
          "data": {
            "image/png": "[encoded data removed]",
            "text/plain": [
              "<Figure size 1080x288 with 2 Axes>"
            ]
          },
          "metadata": {
            "tags": [],
            "needs_background": "light"
          }
        }
      ]
    },
    {
      "cell_type": "markdown",
      "metadata": {
        "id": "ldsJg52PTDPq"
      },
      "source": [
        "Model is not overfitting and we get a best validation accuracy of ~80% and training accuracy of ~82%. Next we will try to reduce the filter size and image resolution and see if get better results. Moreover since we see minor oscillations in loss, let's try lowering the learning rate to 0.0002"
      ]
    },
    {
      "cell_type": "code",
      "metadata": {
        "id": "mDO0BmuThfN_"
      },
      "source": [
        "Conv3D2.clear_session(Conv3D2_model)"
      ],
      "execution_count": null,
      "outputs": []
    },
    {
      "cell_type": "markdown",
      "metadata": {
        "id": "_qrMlLsVTSA7"
      },
      "source": [
        "## Model 3 - Reduce filter size to (2,2,2) and image res to 120 x 120"
      ]
    },
    {
      "cell_type": "code",
      "metadata": {
        "id": "vkPpJFg3TRLh"
      },
      "source": [
        "class ModelConv3D3(ModelBuilder):\n",
        "    \n",
        "    def define_model(self,filtersize=(3,3,3),dense_neurons=64,dropout=0.25):\n",
        "\n",
        "        model = Sequential()\n",
        "        model.add(Conv3D(16, filtersize, padding='same',\n",
        "        input_shape=(self.frames_to_sample,self.image_height,self.image_width,self.channels)))\n",
        "        model.add(Activation('relu'))\n",
        "        model.add(BatchNormalization())\n",
        "        model.add(MaxPooling3D(pool_size=(2, 2, 2)))\n",
        "\n",
        "        model.add(Conv3D(32, filtersize, padding='same'))\n",
        "        model.add(Activation('relu'))\n",
        "        model.add(BatchNormalization())\n",
        "        model.add(MaxPooling3D(pool_size=(2, 2, 2)))\n",
        "\n",
        "        model.add(Conv3D(64, filtersize, padding='same'))\n",
        "        model.add(Activation('relu'))\n",
        "        model.add(BatchNormalization())\n",
        "        model.add(MaxPooling3D(pool_size=(2, 2, 2)))\n",
        "\n",
        "        model.add(Conv3D(128, filtersize, padding='same'))\n",
        "        model.add(Activation('relu'))\n",
        "        model.add(BatchNormalization())\n",
        "        model.add(MaxPooling3D(pool_size=(2, 2, 2)))\n",
        "\n",
        "        model.add(Flatten())\n",
        "        model.add(Dense(dense_neurons,activation='relu'))\n",
        "        model.add(BatchNormalization())\n",
        "        model.add(Dropout(dropout))\n",
        "\n",
        "        model.add(Dense(dense_neurons,activation='relu'))\n",
        "        model.add(BatchNormalization())\n",
        "        model.add(Dropout(dropout))\n",
        "\n",
        "\n",
        "        model.add(Dense(self.num_classes,activation='softmax'))\n",
        "\n",
        "        optimiser = optimizers.Adam(lr=0.0002)\n",
        "        model.compile(optimizer=optimiser, loss='categorical_crossentropy', metrics=['categorical_accuracy'])\n",
        "        return model"
      ],
      "execution_count": null,
      "outputs": []
    },
    {
      "cell_type": "code",
      "metadata": {
        "id": "lk9L9pt7UBB1",
        "colab": {
          "base_uri": "https://localhost:8080/"
        },
        "outputId": "b6f78a1d-d9c4-4a2d-b852-c462b8e1d05a"
      },
      "source": [
        "\n",
        "Conv3D3=ModelConv3D3()\n",
        "Conv3D3.initialize_src_path(main_folder)\n",
        "Conv3D3.initialize_image_properties(image_height=120,image_width=120)\n",
        "Conv3D3.initialize_hyperparams(frames_to_sample=16,batch_size=30,num_epochs=30)\n",
        "Conv3D3_model=Conv3D3.define_model(filtersize=(2,2,2),dense_neurons=256,dropout=0.5)\n",
        "Conv3D3_model.summary()"
      ],
      "execution_count": null,
      "outputs": [
        {
          "output_type": "stream",
          "text": [
            "Model: \"sequential\"\n",
            "_________________________________________________________________\n",
            "Layer (type)                 Output Shape              Param #   \n",
            "=================================================================\n",
            "conv3d (Conv3D)              (None, 16, 120, 120, 16)  400       \n",
            "_________________________________________________________________\n",
            "activation (Activation)      (None, 16, 120, 120, 16)  0         \n",
            "_________________________________________________________________\n",
            "batch_normalization (BatchNo (None, 16, 120, 120, 16)  64        \n",
            "_________________________________________________________________\n",
            "max_pooling3d (MaxPooling3D) (None, 8, 60, 60, 16)     0         \n",
            "_________________________________________________________________\n",
            "conv3d_1 (Conv3D)            (None, 8, 60, 60, 32)     4128      \n",
            "_________________________________________________________________\n",
            "activation_1 (Activation)    (None, 8, 60, 60, 32)     0         \n",
            "_________________________________________________________________\n",
            "batch_normalization_1 (Batch (None, 8, 60, 60, 32)     128       \n",
            "_________________________________________________________________\n",
            "max_pooling3d_1 (MaxPooling3 (None, 4, 30, 30, 32)     0         \n",
            "_________________________________________________________________\n",
            "conv3d_2 (Conv3D)            (None, 4, 30, 30, 64)     16448     \n",
            "_________________________________________________________________\n",
            "activation_2 (Activation)    (None, 4, 30, 30, 64)     0         \n",
            "_________________________________________________________________\n",
            "batch_normalization_2 (Batch (None, 4, 30, 30, 64)     256       \n",
            "_________________________________________________________________\n",
            "max_pooling3d_2 (MaxPooling3 (None, 2, 15, 15, 64)     0         \n",
            "_________________________________________________________________\n",
            "conv3d_3 (Conv3D)            (None, 2, 15, 15, 128)    65664     \n",
            "_________________________________________________________________\n",
            "activation_3 (Activation)    (None, 2, 15, 15, 128)    0         \n",
            "_________________________________________________________________\n",
            "batch_normalization_3 (Batch (None, 2, 15, 15, 128)    512       \n",
            "_________________________________________________________________\n",
            "max_pooling3d_3 (MaxPooling3 (None, 1, 7, 7, 128)      0         \n",
            "_________________________________________________________________\n",
            "flatten (Flatten)            (None, 6272)              0         \n",
            "_________________________________________________________________\n",
            "dense (Dense)                (None, 256)               1605888   \n",
            "_________________________________________________________________\n",
            "batch_normalization_4 (Batch (None, 256)               1024      \n",
            "_________________________________________________________________\n",
            "dropout (Dropout)            (None, 256)               0         \n",
            "_________________________________________________________________\n",
            "dense_1 (Dense)              (None, 256)               65792     \n",
            "_________________________________________________________________\n",
            "batch_normalization_5 (Batch (None, 256)               1024      \n",
            "_________________________________________________________________\n",
            "dropout_1 (Dropout)          (None, 256)               0         \n",
            "_________________________________________________________________\n",
            "dense_2 (Dense)              (None, 5)                 1285      \n",
            "=================================================================\n",
            "Total params: 1,762,613\n",
            "Trainable params: 1,761,109\n",
            "Non-trainable params: 1,504\n",
            "_________________________________________________________________\n"
          ],
          "name": "stdout"
        }
      ]
    },
    {
      "cell_type": "code",
      "metadata": {
        "id": "WW17sf6iUcQh",
        "colab": {
          "base_uri": "https://localhost:8080/"
        },
        "outputId": "1d1c2e19-775f-44fc-a8d2-ec1ad0b7e446"
      },
      "source": [
        "##tf.compat.v1.enable_eager_execution()\n",
        "print(tf.executing_eagerly())\n",
        "print(\"Total Params:\", Conv3D3_model.count_params())\n",
        "accuracy_check_model_3=Conv3D3.train_model(Conv3D3_model,augment_data=True)"
      ],
      "execution_count": null,
      "outputs": [
        {
          "output_type": "stream",
          "text": [
            "False\n",
            "Total Params: 1762613\n",
            "Epoch 1/30\n",
            "23/23 [==============================] - ETA: 0s - batch: 11.0000 - size: 57.6522 - loss: 2.2907 - categorical_accuracy: 0.3265\n",
            "Epoch 00001: saving model to model_init_2021-03-2112_22_51.590771/model-00001-2.29074-0.32655-1.77032-0.20000.h5\n",
            "48\n",
            "23/23 [==============================] - 222s 9s/step - batch: 11.0000 - size: 57.6522 - loss: 2.2907 - categorical_accuracy: 0.3265 - val_loss: 1.7703 - val_categorical_accuracy: 0.2000\n",
            "Epoch 2/30\n",
            "23/23 [==============================] - ETA: 0s - batch: 11.0000 - size: 57.6522 - loss: 1.6408 - categorical_accuracy: 0.4721\n",
            "Epoch 00002: saving model to model_init_2021-03-2112_22_51.590771/model-00002-1.64077-0.47210-2.51669-0.20000.h5\n",
            "0\n",
            "23/23 [==============================] - 204s 9s/step - batch: 11.0000 - size: 57.6522 - loss: 1.6408 - categorical_accuracy: 0.4721 - val_loss: 2.5167 - val_categorical_accuracy: 0.2000\n",
            "Epoch 3/30\n",
            "23/23 [==============================] - ETA: 0s - batch: 11.0000 - size: 57.6522 - loss: 1.3202 - categorical_accuracy: 0.5415\n",
            "Epoch 00003: saving model to model_init_2021-03-2112_22_51.590771/model-00003-1.32017-0.54148-3.03564-0.19000.h5\n",
            "0\n",
            "23/23 [==============================] - 203s 9s/step - batch: 11.0000 - size: 57.6522 - loss: 1.3202 - categorical_accuracy: 0.5415 - val_loss: 3.0356 - val_categorical_accuracy: 0.1900\n",
            "Epoch 4/30\n",
            "23/23 [==============================] - ETA: 0s - batch: 11.0000 - size: 57.6522 - loss: 1.2237 - categorical_accuracy: 0.5754\n",
            "Epoch 00004: saving model to model_init_2021-03-2112_22_51.590771/model-00004-1.22367-0.57541-3.96051-0.19000.h5\n",
            "0\n",
            "23/23 [==============================] - 198s 9s/step - batch: 11.0000 - size: 57.6522 - loss: 1.2237 - categorical_accuracy: 0.5754 - val_loss: 3.9605 - val_categorical_accuracy: 0.1900\n",
            "Epoch 5/30\n",
            "23/23 [==============================] - ETA: 0s - batch: 11.0000 - size: 57.6522 - loss: 1.1162 - categorical_accuracy: 0.6101\n",
            "Epoch 00005: saving model to model_init_2021-03-2112_22_51.590771/model-00005-1.11622-0.61011-5.16155-0.16000.h5\n",
            "\n",
            "Epoch 00005: ReduceLROnPlateau reducing learning rate to 3.9999998989515007e-05.\n",
            "0\n",
            "23/23 [==============================] - 198s 9s/step - batch: 11.0000 - size: 57.6522 - loss: 1.1162 - categorical_accuracy: 0.6101 - val_loss: 5.1615 - val_categorical_accuracy: 0.1600\n",
            "Epoch 6/30\n",
            "23/23 [==============================] - ETA: 0s - batch: 11.0000 - size: 57.6522 - loss: 0.9961 - categorical_accuracy: 0.6478\n",
            "Epoch 00006: saving model to model_init_2021-03-2112_22_51.590771/model-00006-0.99612-0.64781-6.62375-0.13000.h5\n",
            "0\n",
            "23/23 [==============================] - 200s 9s/step - batch: 11.0000 - size: 57.6522 - loss: 0.9961 - categorical_accuracy: 0.6478 - val_loss: 6.6238 - val_categorical_accuracy: 0.1300\n",
            "Epoch 7/30\n",
            "23/23 [==============================] - ETA: 0s - batch: 11.0000 - size: 57.6522 - loss: 0.9046 - categorical_accuracy: 0.6916\n",
            "Epoch 00007: saving model to model_init_2021-03-2112_22_51.590771/model-00007-0.90457-0.69155-6.28938-0.17000.h5\n",
            "0\n",
            "23/23 [==============================] - 203s 9s/step - batch: 11.0000 - size: 57.6522 - loss: 0.9046 - categorical_accuracy: 0.6916 - val_loss: 6.2894 - val_categorical_accuracy: 0.1700\n",
            "Epoch 8/30\n",
            "23/23 [==============================] - ETA: 0s - batch: 11.0000 - size: 57.6522 - loss: 0.9501 - categorical_accuracy: 0.6569\n",
            "Epoch 00008: saving model to model_init_2021-03-2112_22_51.590771/model-00008-0.95012-0.65686-7.35597-0.13000.h5\n",
            "0\n",
            "23/23 [==============================] - 200s 9s/step - batch: 11.0000 - size: 57.6522 - loss: 0.9501 - categorical_accuracy: 0.6569 - val_loss: 7.3560 - val_categorical_accuracy: 0.1300\n",
            "Epoch 9/30\n",
            "23/23 [==============================] - ETA: 0s - batch: 11.0000 - size: 57.6522 - loss: 0.9541 - categorical_accuracy: 0.6727\n",
            "Epoch 00009: saving model to model_init_2021-03-2112_22_51.590771/model-00009-0.95413-0.67270-7.25045-0.16000.h5\n",
            "\n",
            "Epoch 00009: ReduceLROnPlateau reducing learning rate to 7.999999797903002e-06.\n",
            "0\n",
            "23/23 [==============================] - 198s 9s/step - batch: 11.0000 - size: 57.6522 - loss: 0.9541 - categorical_accuracy: 0.6727 - val_loss: 7.2504 - val_categorical_accuracy: 0.1600\n",
            "Epoch 10/30\n",
            "23/23 [==============================] - ETA: 0s - batch: 11.0000 - size: 57.6522 - loss: 0.8899 - categorical_accuracy: 0.6998\n",
            "Epoch 00010: saving model to model_init_2021-03-2112_22_51.590771/model-00010-0.88987-0.69985-7.02852-0.19000.h5\n",
            "0\n",
            "23/23 [==============================] - 199s 9s/step - batch: 11.0000 - size: 57.6522 - loss: 0.8899 - categorical_accuracy: 0.6998 - val_loss: 7.0285 - val_categorical_accuracy: 0.1900\n",
            "Epoch 11/30\n",
            "23/23 [==============================] - ETA: 0s - batch: 11.0000 - size: 57.6522 - loss: 0.8399 - categorical_accuracy: 0.7036\n",
            "Epoch 00011: saving model to model_init_2021-03-2112_22_51.590771/model-00011-0.83993-0.70362-7.16945-0.15000.h5\n",
            "0\n",
            "23/23 [==============================] - 202s 9s/step - batch: 11.0000 - size: 57.6522 - loss: 0.8399 - categorical_accuracy: 0.7036 - val_loss: 7.1695 - val_categorical_accuracy: 0.1500\n",
            "Epoch 12/30\n",
            "23/23 [==============================] - ETA: 0s - batch: 11.0000 - size: 57.6522 - loss: 0.8957 - categorical_accuracy: 0.7014\n",
            "Epoch 00012: saving model to model_init_2021-03-2112_22_51.590771/model-00012-0.89571-0.70136-6.66121-0.16000.h5\n",
            "0\n",
            "23/23 [==============================] - 201s 9s/step - batch: 11.0000 - size: 57.6522 - loss: 0.8957 - categorical_accuracy: 0.7014 - val_loss: 6.6612 - val_categorical_accuracy: 0.1600\n",
            "Epoch 13/30\n",
            "23/23 [==============================] - ETA: 0s - batch: 11.0000 - size: 57.6522 - loss: 0.8937 - categorical_accuracy: 0.6817\n",
            "Epoch 00013: saving model to model_init_2021-03-2112_22_51.590771/model-00013-0.89375-0.68175-6.69591-0.18000.h5\n",
            "\n",
            "Epoch 00013: ReduceLROnPlateau reducing learning rate to 1.5999999959603884e-06.\n",
            "0\n",
            "23/23 [==============================] - 200s 9s/step - batch: 11.0000 - size: 57.6522 - loss: 0.8937 - categorical_accuracy: 0.6817 - val_loss: 6.6959 - val_categorical_accuracy: 0.1800\n",
            "Epoch 14/30\n",
            "23/23 [==============================] - ETA: 0s - batch: 11.0000 - size: 57.6522 - loss: 0.9219 - categorical_accuracy: 0.6991\n",
            "Epoch 00014: saving model to model_init_2021-03-2112_22_51.590771/model-00014-0.92189-0.69910-6.24409-0.17000.h5\n",
            "0\n",
            "23/23 [==============================] - 199s 9s/step - batch: 11.0000 - size: 57.6522 - loss: 0.9219 - categorical_accuracy: 0.6991 - val_loss: 6.2441 - val_categorical_accuracy: 0.1700\n",
            "Epoch 15/30\n",
            "23/23 [==============================] - ETA: 0s - batch: 11.0000 - size: 57.6522 - loss: 0.8851 - categorical_accuracy: 0.6840\n",
            "Epoch 00015: saving model to model_init_2021-03-2112_22_51.590771/model-00015-0.88507-0.68401-5.89781-0.18000.h5\n",
            "0\n",
            "23/23 [==============================] - 202s 9s/step - batch: 11.0000 - size: 57.6522 - loss: 0.8851 - categorical_accuracy: 0.6840 - val_loss: 5.8978 - val_categorical_accuracy: 0.1800\n",
            "Epoch 16/30\n",
            "23/23 [==============================] - ETA: 0s - batch: 11.0000 - size: 57.6522 - loss: 0.8380 - categorical_accuracy: 0.7029\n",
            "Epoch 00016: saving model to model_init_2021-03-2112_22_51.590771/model-00016-0.83800-0.70287-4.84815-0.29000.h5\n",
            "0\n",
            "23/23 [==============================] - 200s 9s/step - batch: 11.0000 - size: 57.6522 - loss: 0.8380 - categorical_accuracy: 0.7029 - val_loss: 4.8481 - val_categorical_accuracy: 0.2900\n",
            "Epoch 17/30\n",
            "23/23 [==============================] - ETA: 0s - batch: 11.0000 - size: 57.6522 - loss: 1.0648 - categorical_accuracy: 0.6659\n",
            "Epoch 00017: saving model to model_init_2021-03-2112_22_51.590771/model-00017-1.06485-0.66591-4.59249-0.28000.h5\n",
            "\n",
            "Epoch 00017: ReduceLROnPlateau reducing learning rate to 3.200000037395512e-07.\n",
            "0\n",
            "23/23 [==============================] - 200s 9s/step - batch: 11.0000 - size: 57.6522 - loss: 1.0648 - categorical_accuracy: 0.6659 - val_loss: 4.5925 - val_categorical_accuracy: 0.2800\n",
            "Epoch 18/30\n",
            "23/23 [==============================] - ETA: 0s - batch: 11.0000 - size: 57.6522 - loss: 0.9031 - categorical_accuracy: 0.6863\n",
            "Epoch 00018: saving model to model_init_2021-03-2112_22_51.590771/model-00018-0.90311-0.68627-4.45396-0.27000.h5\n",
            "0\n",
            "23/23 [==============================] - 204s 9s/step - batch: 11.0000 - size: 57.6522 - loss: 0.9031 - categorical_accuracy: 0.6863 - val_loss: 4.4540 - val_categorical_accuracy: 0.2700\n",
            "Epoch 19/30\n",
            "23/23 [==============================] - ETA: 0s - batch: 11.0000 - size: 57.6522 - loss: 0.9011 - categorical_accuracy: 0.6704\n",
            "Epoch 00019: saving model to model_init_2021-03-2112_22_51.590771/model-00019-0.90107-0.67044-3.94794-0.29000.h5\n",
            "0\n",
            "23/23 [==============================] - 200s 9s/step - batch: 11.0000 - size: 57.6522 - loss: 0.9011 - categorical_accuracy: 0.6704 - val_loss: 3.9479 - val_categorical_accuracy: 0.2900\n",
            "Epoch 20/30\n",
            "23/23 [==============================] - ETA: 0s - batch: 11.0000 - size: 57.6522 - loss: 0.8532 - categorical_accuracy: 0.6825\n",
            "Epoch 00020: saving model to model_init_2021-03-2112_22_51.590771/model-00020-0.85321-0.68250-3.18691-0.29000.h5\n",
            "0\n",
            "23/23 [==============================] - 206s 9s/step - batch: 11.0000 - size: 57.6522 - loss: 0.8532 - categorical_accuracy: 0.6825 - val_loss: 3.1869 - val_categorical_accuracy: 0.2900\n",
            "Epoch 21/30\n",
            "23/23 [==============================] - ETA: 0s - batch: 11.0000 - size: 57.6522 - loss: 0.9144 - categorical_accuracy: 0.6757\n",
            "Epoch 00021: saving model to model_init_2021-03-2112_22_51.590771/model-00021-0.91442-0.67572-2.72914-0.33000.h5\n",
            "\n",
            "Epoch 00021: ReduceLROnPlateau reducing learning rate to 6.399999961104187e-08.\n",
            "0\n",
            "23/23 [==============================] - 201s 9s/step - batch: 11.0000 - size: 57.6522 - loss: 0.9144 - categorical_accuracy: 0.6757 - val_loss: 2.7291 - val_categorical_accuracy: 0.3300\n",
            "Epoch 22/30\n",
            "23/23 [==============================] - ETA: 0s - batch: 11.0000 - size: 57.6522 - loss: 0.8620 - categorical_accuracy: 0.6870\n",
            "Epoch 00022: saving model to model_init_2021-03-2112_22_51.590771/model-00022-0.86202-0.68703-2.41700-0.41000.h5\n",
            "0\n",
            "23/23 [==============================] - 202s 9s/step - batch: 11.0000 - size: 57.6522 - loss: 0.8620 - categorical_accuracy: 0.6870 - val_loss: 2.4170 - val_categorical_accuracy: 0.4100\n",
            "Epoch 23/30\n",
            "23/23 [==============================] - ETA: 0s - batch: 11.0000 - size: 57.6522 - loss: 0.9147 - categorical_accuracy: 0.6817\n",
            "Epoch 00023: saving model to model_init_2021-03-2112_22_51.590771/model-00023-0.91466-0.68175-2.11276-0.42000.h5\n",
            "0\n",
            "23/23 [==============================] - 203s 9s/step - batch: 11.0000 - size: 57.6522 - loss: 0.9147 - categorical_accuracy: 0.6817 - val_loss: 2.1128 - val_categorical_accuracy: 0.4200\n",
            "Epoch 24/30\n",
            "23/23 [==============================] - ETA: 0s - batch: 11.0000 - size: 57.6522 - loss: 0.8973 - categorical_accuracy: 0.6848\n",
            "Epoch 00024: saving model to model_init_2021-03-2112_22_51.590771/model-00024-0.89730-0.68477-1.81605-0.41000.h5\n",
            "0\n",
            "23/23 [==============================] - 204s 9s/step - batch: 11.0000 - size: 57.6522 - loss: 0.8973 - categorical_accuracy: 0.6848 - val_loss: 1.8160 - val_categorical_accuracy: 0.4100\n",
            "Epoch 25/30\n",
            "23/23 [==============================] - ETA: 0s - batch: 11.0000 - size: 57.6522 - loss: 0.8784 - categorical_accuracy: 0.6998\n",
            "Epoch 00025: saving model to model_init_2021-03-2112_22_51.590771/model-00025-0.87835-0.69985-1.56974-0.47000.h5\n",
            "0\n",
            "23/23 [==============================] - 200s 9s/step - batch: 11.0000 - size: 57.6522 - loss: 0.8784 - categorical_accuracy: 0.6998 - val_loss: 1.5697 - val_categorical_accuracy: 0.4700\n",
            "Epoch 26/30\n",
            "23/23 [==============================] - ETA: 0s - batch: 11.0000 - size: 57.6522 - loss: 0.9243 - categorical_accuracy: 0.7036\n",
            "Epoch 00026: saving model to model_init_2021-03-2112_22_51.590771/model-00026-0.92431-0.70362-1.40940-0.49000.h5\n",
            "0\n",
            "23/23 [==============================] - 206s 9s/step - batch: 11.0000 - size: 57.6522 - loss: 0.9243 - categorical_accuracy: 0.7036 - val_loss: 1.4094 - val_categorical_accuracy: 0.4900\n",
            "Epoch 27/30\n",
            "23/23 [==============================] - ETA: 0s - batch: 11.0000 - size: 57.6522 - loss: 0.8594 - categorical_accuracy: 0.7066\n",
            "Epoch 00027: saving model to model_init_2021-03-2112_22_51.590771/model-00027-0.85945-0.70664-1.18679-0.53000.h5\n",
            "0\n",
            "23/23 [==============================] - 201s 9s/step - batch: 11.0000 - size: 57.6522 - loss: 0.8594 - categorical_accuracy: 0.7066 - val_loss: 1.1868 - val_categorical_accuracy: 0.5300\n",
            "Epoch 28/30\n",
            "23/23 [==============================] - ETA: 0s - batch: 11.0000 - size: 57.6522 - loss: 0.8297 - categorical_accuracy: 0.7014\n",
            "Epoch 00028: saving model to model_init_2021-03-2112_22_51.590771/model-00028-0.82972-0.70136-1.02323-0.59000.h5\n",
            "0\n",
            "23/23 [==============================] - 205s 9s/step - batch: 11.0000 - size: 57.6522 - loss: 0.8297 - categorical_accuracy: 0.7014 - val_loss: 1.0232 - val_categorical_accuracy: 0.5900\n",
            "Epoch 29/30\n",
            "23/23 [==============================] - ETA: 0s - batch: 11.0000 - size: 57.6522 - loss: 0.8231 - categorical_accuracy: 0.7044\n",
            "Epoch 00029: saving model to model_init_2021-03-2112_22_51.590771/model-00029-0.82307-0.70437-1.03794-0.65000.h5\n",
            "0\n",
            "23/23 [==============================] - 201s 9s/step - batch: 11.0000 - size: 57.6522 - loss: 0.8231 - categorical_accuracy: 0.7044 - val_loss: 1.0379 - val_categorical_accuracy: 0.6500\n",
            "Epoch 30/30\n",
            "23/23 [==============================] - ETA: 0s - batch: 11.0000 - size: 57.6522 - loss: 0.8265 - categorical_accuracy: 0.7074\n",
            "Epoch 00030: saving model to model_init_2021-03-2112_22_51.590771/model-00030-0.82651-0.70739-0.87201-0.63000.h5\n",
            "0\n",
            "23/23 [==============================] - 204s 9s/step - batch: 11.0000 - size: 57.6522 - loss: 0.8265 - categorical_accuracy: 0.7074 - val_loss: 0.8720 - val_categorical_accuracy: 0.6300\n"
          ],
          "name": "stdout"
        }
      ]
    },
    {
      "cell_type": "code",
      "metadata": {
        "id": "7HghaRZtGQB9",
        "colab": {
          "base_uri": "https://localhost:8080/",
          "height": 265
        },
        "outputId": "e44cc68e-7911-4d09-df05-286c90cfea20"
      },
      "source": [
        "plot(accuracy_check_model_3)"
      ],
      "execution_count": null,
      "outputs": [
        {
          "output_type": "display_data",
          "data": {
            "image/png": "[encoded data removed]",
            "text/plain": [
              "<Figure size 1080x288 with 2 Axes>"
            ]
          },
          "metadata": {
            "tags": [],
            "needs_background": "light"
          }
        }
      ]
    },
    {
      "cell_type": "markdown",
      "metadata": {
        "id": "r0IJgwK77wsF"
      },
      "source": [
        "This Model has a best validation accuracy of 68% and training accuracy of 68% . Also we were able to reduce the parameter size by half the earlier model. Let's trying adding more layers"
      ]
    },
    {
      "cell_type": "code",
      "metadata": {
        "id": "OQ8jW39zjSXp"
      },
      "source": [
        "Conv3D3.clear_session(Conv3D3_model)"
      ],
      "execution_count": null,
      "outputs": []
    },
    {
      "cell_type": "markdown",
      "metadata": {
        "id": "WW5VAmu9ihlH"
      },
      "source": [
        "## Model 4 - Adding more layers"
      ]
    },
    {
      "cell_type": "code",
      "metadata": {
        "id": "4cyJpLxiitoB"
      },
      "source": [
        "class ModelConv3D4(ModelBuilder):\n",
        "    \n",
        "    def define_model(self,filtersize=(3,3,3),dense_neurons=64,dropout=0.25):\n",
        "\n",
        "        model = Sequential()\n",
        "        model.add(Conv3D(16, filtersize, padding='same',\n",
        "        input_shape=(self.frames_to_sample,self.image_height,self.image_width,self.channels)))\n",
        "        model.add(Activation('relu'))\n",
        "        model.add(BatchNormalization())\n",
        "        \n",
        "        model.add(Conv3D(16, filtersize, padding='same',\n",
        "        input_shape=(self.frames_to_sample,self.image_height,self.image_width,self.channels)))\n",
        "        model.add(Activation('relu'))\n",
        "        model.add(BatchNormalization())\n",
        "        \n",
        "        model.add(MaxPooling3D(pool_size=(2, 2, 2)))\n",
        "\n",
        "        model.add(Conv3D(32, filtersize, padding='same'))\n",
        "        model.add(Activation('relu'))\n",
        "        model.add(BatchNormalization())\n",
        "        \n",
        "        model.add(Conv3D(32, filtersize, padding='same'))\n",
        "        model.add(Activation('relu'))\n",
        "        model.add(BatchNormalization())\n",
        "        \n",
        "        model.add(MaxPooling3D(pool_size=(2, 2, 2)))\n",
        "\n",
        "        model.add(Conv3D(64, filtersize, padding='same'))\n",
        "        model.add(Activation('relu'))\n",
        "        model.add(BatchNormalization())\n",
        "        \n",
        "        model.add(Conv3D(64, filtersize, padding='same'))\n",
        "        model.add(Activation('relu'))\n",
        "        model.add(BatchNormalization())\n",
        "        \n",
        "        model.add(MaxPooling3D(pool_size=(2, 2, 2)))\n",
        "\n",
        "        model.add(Conv3D(128, filtersize, padding='same'))\n",
        "        model.add(Activation('relu'))\n",
        "        model.add(BatchNormalization())\n",
        "        \n",
        "        model.add(Conv3D(128, filtersize, padding='same'))\n",
        "        model.add(Activation('relu'))\n",
        "        model.add(BatchNormalization())\n",
        "        \n",
        "        model.add(MaxPooling3D(pool_size=(2, 2, 2)))\n",
        "        \n",
        "\n",
        "        model.add(Flatten())\n",
        "        model.add(Dense(dense_neurons,activation='relu'))\n",
        "        model.add(BatchNormalization())\n",
        "        model.add(Dropout(dropout))\n",
        "\n",
        "        model.add(Dense(dense_neurons,activation='relu'))\n",
        "        model.add(BatchNormalization())\n",
        "        model.add(Dropout(dropout))\n",
        "\n",
        "\n",
        "        model.add(Dense(self.num_classes,activation='softmax'))\n",
        "\n",
        "        optimiser = optimizers.Adam()\n",
        "        model.compile(optimizer=optimiser, loss='categorical_crossentropy', metrics=['categorical_accuracy'])\n",
        "        return model"
      ],
      "execution_count": null,
      "outputs": []
    },
    {
      "cell_type": "code",
      "metadata": {
        "id": "AmOxJwmei5-S",
        "colab": {
          "base_uri": "https://localhost:8080/"
        },
        "outputId": "9aa0019a-6c03-4329-a771-57c1b7eb8841"
      },
      "source": [
        "Conv3D4=ModelConv3D4()\n",
        "Conv3D4.initialize_src_path(main_folder)\n",
        "Conv3D4.initialize_image_properties(image_height=120,image_width=120)\n",
        "Conv3D4.initialize_hyperparams(frames_to_sample=16,batch_size=20,num_epochs=30)\n",
        "Conv3D4_model=Conv3D4.define_model(filtersize=(3,3,3),dense_neurons=256,dropout=0.5)\n",
        "Conv3D4_model.summary()"
      ],
      "execution_count": null,
      "outputs": [
        {
          "output_type": "stream",
          "text": [
            "Model: \"sequential\"\n",
            "_________________________________________________________________\n",
            "Layer (type)                 Output Shape              Param #   \n",
            "=================================================================\n",
            "conv3d (Conv3D)              (None, 16, 120, 120, 16)  1312      \n",
            "_________________________________________________________________\n",
            "activation (Activation)      (None, 16, 120, 120, 16)  0         \n",
            "_________________________________________________________________\n",
            "batch_normalization (BatchNo (None, 16, 120, 120, 16)  64        \n",
            "_________________________________________________________________\n",
            "conv3d_1 (Conv3D)            (None, 16, 120, 120, 16)  6928      \n",
            "_________________________________________________________________\n",
            "activation_1 (Activation)    (None, 16, 120, 120, 16)  0         \n",
            "_________________________________________________________________\n",
            "batch_normalization_1 (Batch (None, 16, 120, 120, 16)  64        \n",
            "_________________________________________________________________\n",
            "max_pooling3d (MaxPooling3D) (None, 8, 60, 60, 16)     0         \n",
            "_________________________________________________________________\n",
            "conv3d_2 (Conv3D)            (None, 8, 60, 60, 32)     13856     \n",
            "_________________________________________________________________\n",
            "activation_2 (Activation)    (None, 8, 60, 60, 32)     0         \n",
            "_________________________________________________________________\n",
            "batch_normalization_2 (Batch (None, 8, 60, 60, 32)     128       \n",
            "_________________________________________________________________\n",
            "conv3d_3 (Conv3D)            (None, 8, 60, 60, 32)     27680     \n",
            "_________________________________________________________________\n",
            "activation_3 (Activation)    (None, 8, 60, 60, 32)     0         \n",
            "_________________________________________________________________\n",
            "batch_normalization_3 (Batch (None, 8, 60, 60, 32)     128       \n",
            "_________________________________________________________________\n",
            "max_pooling3d_1 (MaxPooling3 (None, 4, 30, 30, 32)     0         \n",
            "_________________________________________________________________\n",
            "conv3d_4 (Conv3D)            (None, 4, 30, 30, 64)     55360     \n",
            "_________________________________________________________________\n",
            "activation_4 (Activation)    (None, 4, 30, 30, 64)     0         \n",
            "_________________________________________________________________\n",
            "batch_normalization_4 (Batch (None, 4, 30, 30, 64)     256       \n",
            "_________________________________________________________________\n",
            "conv3d_5 (Conv3D)            (None, 4, 30, 30, 64)     110656    \n",
            "_________________________________________________________________\n",
            "activation_5 (Activation)    (None, 4, 30, 30, 64)     0         \n",
            "_________________________________________________________________\n",
            "batch_normalization_5 (Batch (None, 4, 30, 30, 64)     256       \n",
            "_________________________________________________________________\n",
            "max_pooling3d_2 (MaxPooling3 (None, 2, 15, 15, 64)     0         \n",
            "_________________________________________________________________\n",
            "conv3d_6 (Conv3D)            (None, 2, 15, 15, 128)    221312    \n",
            "_________________________________________________________________\n",
            "activation_6 (Activation)    (None, 2, 15, 15, 128)    0         \n",
            "_________________________________________________________________\n",
            "batch_normalization_6 (Batch (None, 2, 15, 15, 128)    512       \n",
            "_________________________________________________________________\n",
            "conv3d_7 (Conv3D)            (None, 2, 15, 15, 128)    442496    \n",
            "_________________________________________________________________\n",
            "activation_7 (Activation)    (None, 2, 15, 15, 128)    0         \n",
            "_________________________________________________________________\n",
            "batch_normalization_7 (Batch (None, 2, 15, 15, 128)    512       \n",
            "_________________________________________________________________\n",
            "max_pooling3d_3 (MaxPooling3 (None, 1, 7, 7, 128)      0         \n",
            "_________________________________________________________________\n",
            "flatten (Flatten)            (None, 6272)              0         \n",
            "_________________________________________________________________\n",
            "dense (Dense)                (None, 256)               1605888   \n",
            "_________________________________________________________________\n",
            "batch_normalization_8 (Batch (None, 256)               1024      \n",
            "_________________________________________________________________\n",
            "dropout (Dropout)            (None, 256)               0         \n",
            "_________________________________________________________________\n",
            "dense_1 (Dense)              (None, 256)               65792     \n",
            "_________________________________________________________________\n",
            "batch_normalization_9 (Batch (None, 256)               1024      \n",
            "_________________________________________________________________\n",
            "dropout_1 (Dropout)          (None, 256)               0         \n",
            "_________________________________________________________________\n",
            "dense_2 (Dense)              (None, 5)                 1285      \n",
            "=================================================================\n",
            "Total params: 2,556,533\n",
            "Trainable params: 2,554,549\n",
            "Non-trainable params: 1,984\n",
            "_________________________________________________________________\n"
          ],
          "name": "stdout"
        }
      ]
    },
    {
      "cell_type": "code",
      "metadata": {
        "id": "qoR4sAUBkGDJ",
        "colab": {
          "base_uri": "https://localhost:8080/"
        },
        "outputId": "cc217538-f8fe-47c8-ea76-a07001d611aa"
      },
      "source": [
        "print(\"Total Params:\", Conv3D4_model.count_params())\n",
        "accuracy_check_model_4=Conv3D4.train_model(Conv3D4_model,augment_data=True)"
      ],
      "execution_count": null,
      "outputs": [
        {
          "output_type": "stream",
          "text": [
            "Total Params: 2556533\n",
            "Epoch 1/30\n",
            "34/34 [==============================] - ETA: 0s - batch: 16.5000 - size: 39.0000 - loss: 1.8815 - categorical_accuracy: 0.3846\n",
            "Epoch 00001: saving model to model_init_2021-03-2115_38_12.473478/model-00001-1.88154-0.38462-2.64242-0.18000.h5\n",
            "8\n",
            "34/34 [==============================] - 241s 6s/step - batch: 16.5000 - size: 39.0000 - loss: 1.8815 - categorical_accuracy: 0.3846 - val_loss: 2.6424 - val_categorical_accuracy: 0.1800\n",
            "Epoch 2/30\n",
            "34/34 [==============================] - ETA: 0s - batch: 16.5000 - size: 39.0000 - loss: 1.5285 - categorical_accuracy: 0.4661\n",
            "Epoch 00002: saving model to model_init_2021-03-2115_38_12.473478/model-00002-1.52847-0.46606-3.52819-0.19000.h5\n",
            "0\n",
            "34/34 [==============================] - 215s 6s/step - batch: 16.5000 - size: 39.0000 - loss: 1.5285 - categorical_accuracy: 0.4661 - val_loss: 3.5282 - val_categorical_accuracy: 0.1900\n",
            "Epoch 3/30\n",
            "34/34 [==============================] - ETA: 0s - batch: 16.5000 - size: 39.0000 - loss: 1.3982 - categorical_accuracy: 0.5053\n",
            "Epoch 00003: saving model to model_init_2021-03-2115_38_12.473478/model-00003-1.39816-0.50528-2.66494-0.26000.h5\n",
            "0\n",
            "34/34 [==============================] - 216s 6s/step - batch: 16.5000 - size: 39.0000 - loss: 1.3982 - categorical_accuracy: 0.5053 - val_loss: 2.6649 - val_categorical_accuracy: 0.2600\n",
            "Epoch 4/30\n",
            "34/34 [==============================] - ETA: 0s - batch: 16.5000 - size: 39.0000 - loss: 1.2701 - categorical_accuracy: 0.5739\n",
            "Epoch 00004: saving model to model_init_2021-03-2115_38_12.473478/model-00004-1.27015-0.57391-3.39633-0.26000.h5\n",
            "0\n",
            "34/34 [==============================] - 219s 7s/step - batch: 16.5000 - size: 39.0000 - loss: 1.2701 - categorical_accuracy: 0.5739 - val_loss: 3.3963 - val_categorical_accuracy: 0.2600\n",
            "Epoch 5/30\n",
            "34/34 [==============================] - ETA: 0s - batch: 16.5000 - size: 39.0000 - loss: 1.2968 - categorical_accuracy: 0.5513\n",
            "Epoch 00005: saving model to model_init_2021-03-2115_38_12.473478/model-00005-1.29684-0.55128-3.26547-0.19000.h5\n",
            "\n",
            "Epoch 00005: ReduceLROnPlateau reducing learning rate to 0.00020000000949949026.\n",
            "0\n",
            "34/34 [==============================] - 217s 7s/step - batch: 16.5000 - size: 39.0000 - loss: 1.2968 - categorical_accuracy: 0.5513 - val_loss: 3.2655 - val_categorical_accuracy: 0.1900\n",
            "Epoch 6/30\n",
            "34/34 [==============================] - ETA: 0s - batch: 16.5000 - size: 39.0000 - loss: 1.1320 - categorical_accuracy: 0.6048\n",
            "Epoch 00006: saving model to model_init_2021-03-2115_38_12.473478/model-00006-1.13197-0.60483-2.55663-0.28000.h5\n",
            "0\n",
            "34/34 [==============================] - 220s 7s/step - batch: 16.5000 - size: 39.0000 - loss: 1.1320 - categorical_accuracy: 0.6048 - val_loss: 2.5566 - val_categorical_accuracy: 0.2800\n",
            "Epoch 7/30\n",
            "34/34 [==============================] - ETA: 0s - batch: 16.5000 - size: 39.0000 - loss: 1.0510 - categorical_accuracy: 0.6214\n",
            "Epoch 00007: saving model to model_init_2021-03-2115_38_12.473478/model-00007-1.05099-0.62142-2.40477-0.30000.h5\n",
            "0\n",
            "34/34 [==============================] - 220s 7s/step - batch: 16.5000 - size: 39.0000 - loss: 1.0510 - categorical_accuracy: 0.6214 - val_loss: 2.4048 - val_categorical_accuracy: 0.3000\n",
            "Epoch 8/30\n",
            "34/34 [==============================] - ETA: 0s - batch: 16.5000 - size: 39.0000 - loss: 0.9953 - categorical_accuracy: 0.6395\n",
            "Epoch 00008: saving model to model_init_2021-03-2115_38_12.473478/model-00008-0.99531-0.63952-2.16496-0.30000.h5\n",
            "0\n",
            "34/34 [==============================] - 220s 7s/step - batch: 16.5000 - size: 39.0000 - loss: 0.9953 - categorical_accuracy: 0.6395 - val_loss: 2.1650 - val_categorical_accuracy: 0.3000\n",
            "Epoch 9/30\n",
            "34/34 [==============================] - ETA: 0s - batch: 16.5000 - size: 39.0000 - loss: 0.9298 - categorical_accuracy: 0.6637\n",
            "Epoch 00009: saving model to model_init_2021-03-2115_38_12.473478/model-00009-0.92976-0.66365-2.65628-0.29000.h5\n",
            "0\n",
            "34/34 [==============================] - 219s 7s/step - batch: 16.5000 - size: 39.0000 - loss: 0.9298 - categorical_accuracy: 0.6637 - val_loss: 2.6563 - val_categorical_accuracy: 0.2900\n",
            "Epoch 10/30\n",
            "34/34 [==============================] - ETA: 0s - batch: 16.5000 - size: 39.0000 - loss: 0.9523 - categorical_accuracy: 0.6621\n",
            "Epoch 00010: saving model to model_init_2021-03-2115_38_12.473478/model-00010-0.95234-0.66214-2.18207-0.33000.h5\n",
            "0\n",
            "34/34 [==============================] - 218s 7s/step - batch: 16.5000 - size: 39.0000 - loss: 0.9523 - categorical_accuracy: 0.6621 - val_loss: 2.1821 - val_categorical_accuracy: 0.3300\n",
            "Epoch 11/30\n",
            "34/34 [==============================] - ETA: 0s - batch: 16.5000 - size: 39.0000 - loss: 1.0117 - categorical_accuracy: 0.6629\n",
            "Epoch 00011: saving model to model_init_2021-03-2115_38_12.473478/model-00011-1.01173-0.66290-2.08557-0.39000.h5\n",
            "0\n",
            "34/34 [==============================] - 220s 7s/step - batch: 16.5000 - size: 39.0000 - loss: 1.0117 - categorical_accuracy: 0.6629 - val_loss: 2.0856 - val_categorical_accuracy: 0.3900\n",
            "Epoch 12/30\n",
            "34/34 [==============================] - ETA: 0s - batch: 16.5000 - size: 39.0000 - loss: 0.8426 - categorical_accuracy: 0.6863\n",
            "Epoch 00012: saving model to model_init_2021-03-2115_38_12.473478/model-00012-0.84264-0.68627-2.00894-0.45000.h5\n",
            "0\n",
            "34/34 [==============================] - 219s 7s/step - batch: 16.5000 - size: 39.0000 - loss: 0.8426 - categorical_accuracy: 0.6863 - val_loss: 2.0089 - val_categorical_accuracy: 0.4500\n",
            "Epoch 13/30\n",
            "34/34 [==============================] - ETA: 0s - batch: 16.5000 - size: 39.0000 - loss: 0.7780 - categorical_accuracy: 0.7255\n",
            "Epoch 00013: saving model to model_init_2021-03-2115_38_12.473478/model-00013-0.77802-0.72549-2.38316-0.33000.h5\n",
            "0\n",
            "34/34 [==============================] - 223s 7s/step - batch: 16.5000 - size: 39.0000 - loss: 0.7780 - categorical_accuracy: 0.7255 - val_loss: 2.3832 - val_categorical_accuracy: 0.3300\n",
            "Epoch 14/30\n",
            "34/34 [==============================] - ETA: 0s - batch: 16.5000 - size: 39.0000 - loss: 0.7253 - categorical_accuracy: 0.7466\n",
            "Epoch 00014: saving model to model_init_2021-03-2115_38_12.473478/model-00014-0.72530-0.74661-2.05262-0.39000.h5\n",
            "0\n",
            "34/34 [==============================] - 220s 7s/step - batch: 16.5000 - size: 39.0000 - loss: 0.7253 - categorical_accuracy: 0.7466 - val_loss: 2.0526 - val_categorical_accuracy: 0.3900\n",
            "Epoch 15/30\n",
            "34/34 [==============================] - ETA: 0s - batch: 16.5000 - size: 39.0000 - loss: 0.6969 - categorical_accuracy: 0.7459\n",
            "Epoch 00015: saving model to model_init_2021-03-2115_38_12.473478/model-00015-0.69688-0.74585-1.38848-0.46000.h5\n",
            "0\n",
            "34/34 [==============================] - 222s 7s/step - batch: 16.5000 - size: 39.0000 - loss: 0.6969 - categorical_accuracy: 0.7459 - val_loss: 1.3885 - val_categorical_accuracy: 0.4600\n",
            "Epoch 16/30\n",
            "34/34 [==============================] - ETA: 0s - batch: 16.5000 - size: 39.0000 - loss: 0.6171 - categorical_accuracy: 0.7609\n",
            "Epoch 00016: saving model to model_init_2021-03-2115_38_12.473478/model-00016-0.61706-0.76094-2.13374-0.38000.h5\n",
            "0\n",
            "34/34 [==============================] - 220s 7s/step - batch: 16.5000 - size: 39.0000 - loss: 0.6171 - categorical_accuracy: 0.7609 - val_loss: 2.1337 - val_categorical_accuracy: 0.3800\n",
            "Epoch 17/30\n",
            "34/34 [==============================] - ETA: 0s - batch: 16.5000 - size: 39.0000 - loss: 0.6281 - categorical_accuracy: 0.7647\n",
            "Epoch 00017: saving model to model_init_2021-03-2115_38_12.473478/model-00017-0.62809-0.76471-1.26060-0.55000.h5\n",
            "0\n",
            "34/34 [==============================] - 222s 7s/step - batch: 16.5000 - size: 39.0000 - loss: 0.6281 - categorical_accuracy: 0.7647 - val_loss: 1.2606 - val_categorical_accuracy: 0.5500\n",
            "Epoch 18/30\n",
            "34/34 [==============================] - ETA: 0s - batch: 16.5000 - size: 39.0000 - loss: 0.5961 - categorical_accuracy: 0.7836\n",
            "Epoch 00018: saving model to model_init_2021-03-2115_38_12.473478/model-00018-0.59612-0.78356-0.89638-0.72000.h5\n",
            "0\n",
            "34/34 [==============================] - 215s 6s/step - batch: 16.5000 - size: 39.0000 - loss: 0.5961 - categorical_accuracy: 0.7836 - val_loss: 0.8964 - val_categorical_accuracy: 0.7200\n",
            "Epoch 19/30\n",
            "34/34 [==============================] - ETA: 0s - batch: 16.5000 - size: 39.0000 - loss: 0.5740 - categorical_accuracy: 0.7941\n",
            "Epoch 00019: saving model to model_init_2021-03-2115_38_12.473478/model-00019-0.57400-0.79412-0.72543-0.72000.h5\n",
            "0\n",
            "34/34 [==============================] - 222s 7s/step - batch: 16.5000 - size: 39.0000 - loss: 0.5740 - categorical_accuracy: 0.7941 - val_loss: 0.7254 - val_categorical_accuracy: 0.7200\n",
            "Epoch 20/30\n",
            "34/34 [==============================] - ETA: 0s - batch: 16.5000 - size: 39.0000 - loss: 0.4758 - categorical_accuracy: 0.8160\n",
            "Epoch 00020: saving model to model_init_2021-03-2115_38_12.473478/model-00020-0.47578-0.81599-0.67506-0.73000.h5\n",
            "0\n",
            "34/34 [==============================] - 221s 7s/step - batch: 16.5000 - size: 39.0000 - loss: 0.4758 - categorical_accuracy: 0.8160 - val_loss: 0.6751 - val_categorical_accuracy: 0.7300\n",
            "Epoch 21/30\n",
            "34/34 [==============================] - ETA: 0s - batch: 16.5000 - size: 39.0000 - loss: 0.4991 - categorical_accuracy: 0.7934\n",
            "Epoch 00021: saving model to model_init_2021-03-2115_38_12.473478/model-00021-0.49907-0.79336-0.95809-0.64000.h5\n",
            "0\n",
            "34/34 [==============================] - 217s 7s/step - batch: 16.5000 - size: 39.0000 - loss: 0.4991 - categorical_accuracy: 0.7934 - val_loss: 0.9581 - val_categorical_accuracy: 0.6400\n",
            "Epoch 22/30\n",
            "34/34 [==============================] - ETA: 0s - batch: 16.5000 - size: 39.0000 - loss: 0.5460 - categorical_accuracy: 0.8281\n",
            "Epoch 00022: saving model to model_init_2021-03-2115_38_12.473478/model-00022-0.54603-0.82805-0.82486-0.66000.h5\n",
            "0\n",
            "34/34 [==============================] - 219s 7s/step - batch: 16.5000 - size: 39.0000 - loss: 0.5460 - categorical_accuracy: 0.8281 - val_loss: 0.8249 - val_categorical_accuracy: 0.6600\n",
            "Epoch 23/30\n",
            "34/34 [==============================] - ETA: 0s - batch: 16.5000 - size: 39.0000 - loss: 0.5724 - categorical_accuracy: 0.8228\n",
            "Epoch 00023: saving model to model_init_2021-03-2115_38_12.473478/model-00023-0.57240-0.82278-0.69940-0.73000.h5\n",
            "0\n",
            "34/34 [==============================] - 217s 7s/step - batch: 16.5000 - size: 39.0000 - loss: 0.5724 - categorical_accuracy: 0.8228 - val_loss: 0.6994 - val_categorical_accuracy: 0.7300\n",
            "Epoch 24/30\n",
            "34/34 [==============================] - ETA: 0s - batch: 16.5000 - size: 39.0000 - loss: 0.4426 - categorical_accuracy: 0.8431\n",
            "Epoch 00024: saving model to model_init_2021-03-2115_38_12.473478/model-00024-0.44262-0.84314-0.68362-0.74000.h5\n",
            "\n",
            "Epoch 00024: ReduceLROnPlateau reducing learning rate to 4.0000001899898055e-05.\n",
            "0\n",
            "34/34 [==============================] - 218s 7s/step - batch: 16.5000 - size: 39.0000 - loss: 0.4426 - categorical_accuracy: 0.8431 - val_loss: 0.6836 - val_categorical_accuracy: 0.7400\n",
            "Epoch 25/30\n",
            "34/34 [==============================] - ETA: 0s - batch: 16.5000 - size: 39.0000 - loss: 0.3514 - categorical_accuracy: 0.8733\n",
            "Epoch 00025: saving model to model_init_2021-03-2115_38_12.473478/model-00025-0.35136-0.87330-0.65133-0.78000.h5\n",
            "0\n",
            "34/34 [==============================] - 222s 7s/step - batch: 16.5000 - size: 39.0000 - loss: 0.3514 - categorical_accuracy: 0.8733 - val_loss: 0.6513 - val_categorical_accuracy: 0.7800\n",
            "Epoch 26/30\n",
            "34/34 [==============================] - ETA: 0s - batch: 16.5000 - size: 39.0000 - loss: 0.4022 - categorical_accuracy: 0.8756\n",
            "Epoch 00026: saving model to model_init_2021-03-2115_38_12.473478/model-00026-0.40219-0.87557-0.71123-0.74000.h5\n",
            "0\n",
            "34/34 [==============================] - 217s 7s/step - batch: 16.5000 - size: 39.0000 - loss: 0.4022 - categorical_accuracy: 0.8756 - val_loss: 0.7112 - val_categorical_accuracy: 0.7400\n",
            "Epoch 27/30\n",
            "34/34 [==============================] - ETA: 0s - batch: 16.5000 - size: 39.0000 - loss: 0.3418 - categorical_accuracy: 0.8695\n",
            "Epoch 00027: saving model to model_init_2021-03-2115_38_12.473478/model-00027-0.34184-0.86953-0.70616-0.75000.h5\n",
            "0\n",
            "34/34 [==============================] - 213s 6s/step - batch: 16.5000 - size: 39.0000 - loss: 0.3418 - categorical_accuracy: 0.8695 - val_loss: 0.7062 - val_categorical_accuracy: 0.7500\n",
            "Epoch 28/30\n",
            "34/34 [==============================] - ETA: 0s - batch: 16.5000 - size: 39.0000 - loss: 0.3626 - categorical_accuracy: 0.8824\n",
            "Epoch 00028: saving model to model_init_2021-03-2115_38_12.473478/model-00028-0.36261-0.88235-0.74963-0.75000.h5\n",
            "0\n",
            "34/34 [==============================] - 215s 6s/step - batch: 16.5000 - size: 39.0000 - loss: 0.3626 - categorical_accuracy: 0.8824 - val_loss: 0.7496 - val_categorical_accuracy: 0.7500\n",
            "Epoch 29/30\n",
            "34/34 [==============================] - ETA: 0s - batch: 16.5000 - size: 39.0000 - loss: 0.3528 - categorical_accuracy: 0.8725\n",
            "Epoch 00029: saving model to model_init_2021-03-2115_38_12.473478/model-00029-0.35275-0.87255-0.77964-0.73000.h5\n",
            "\n",
            "Epoch 00029: ReduceLROnPlateau reducing learning rate to 8.000000525498762e-06.\n",
            "0\n",
            "34/34 [==============================] - 211s 6s/step - batch: 16.5000 - size: 39.0000 - loss: 0.3528 - categorical_accuracy: 0.8725 - val_loss: 0.7796 - val_categorical_accuracy: 0.7300\n",
            "Epoch 30/30\n",
            "34/34 [==============================] - ETA: 0s - batch: 16.5000 - size: 39.0000 - loss: 0.3424 - categorical_accuracy: 0.8891\n",
            "Epoch 00030: saving model to model_init_2021-03-2115_38_12.473478/model-00030-0.34237-0.88914-0.59025-0.75000.h5\n",
            "0\n",
            "34/34 [==============================] - 211s 6s/step - batch: 16.5000 - size: 39.0000 - loss: 0.3424 - categorical_accuracy: 0.8891 - val_loss: 0.5903 - val_categorical_accuracy: 0.7500\n"
          ],
          "name": "stdout"
        }
      ]
    },
    {
      "cell_type": "code",
      "metadata": {
        "id": "l8lzWQankJXv",
        "colab": {
          "base_uri": "https://localhost:8080/",
          "height": 265
        },
        "outputId": "56c3062a-bfca-40be-fa45-c5eba06d553d"
      },
      "source": [
        "plot(accuracy_check_model_4)"
      ],
      "execution_count": null,
      "outputs": [
        {
          "output_type": "display_data",
          "data": {
            "image/png": "[encoded data removed]",
            "text/plain": [
              "<Figure size 1080x288 with 2 Axes>"
            ]
          },
          "metadata": {
            "tags": [],
            "needs_background": "light"
          }
        }
      ]
    },
    {
      "cell_type": "markdown",
      "metadata": {
        "id": "6Q33XjvbSv8q"
      },
      "source": [
        "With more layers we see some performance improvement. We get a best validation accuracy of 73% . Let's try adding dropouts at the convolution layers"
      ]
    },
    {
      "cell_type": "markdown",
      "metadata": {
        "id": "PP6UEuorS7-z"
      },
      "source": [
        "## Model 5 Adding dropout at convolution layers"
      ]
    },
    {
      "cell_type": "code",
      "metadata": {
        "id": "BjEDLlauS6iK"
      },
      "source": [
        "Conv3D4.clear_session(Conv3D4_model)\n",
        "class ModelConv3D5(ModelBuilder):\n",
        "    \n",
        "    def define_model(self,filtersize=(3,3,3),dense_neurons=64,dropout=0.25):\n",
        "\n",
        "        model = Sequential()\n",
        "        model.add(Conv3D(16, filtersize, padding='same',\n",
        "        input_shape=(self.frames_to_sample,self.image_height,self.image_width,self.channels)))\n",
        "        model.add(Activation('relu'))\n",
        "        model.add(BatchNormalization())\n",
        "        \n",
        "        model.add(Conv3D(16, filtersize, padding='same',\n",
        "        input_shape=(self.frames_to_sample,self.image_height,self.image_width,self.channels)))\n",
        "        model.add(Activation('relu'))\n",
        "        model.add(BatchNormalization())\n",
        "        \n",
        "        model.add(MaxPooling3D(pool_size=(2, 2, 2)))\n",
        "        model.add(Dropout(dropout))\n",
        "\n",
        "        model.add(Conv3D(32, filtersize, padding='same'))\n",
        "        model.add(Activation('relu'))\n",
        "        model.add(BatchNormalization())\n",
        "        \n",
        "        model.add(Conv3D(32, filtersize, padding='same'))\n",
        "        model.add(Activation('relu'))\n",
        "        model.add(BatchNormalization())\n",
        "        \n",
        "        model.add(MaxPooling3D(pool_size=(2, 2, 2)))\n",
        "        model.add(Dropout(dropout))\n",
        "\n",
        "        model.add(Conv3D(64, filtersize, padding='same'))\n",
        "        model.add(Activation('relu'))\n",
        "        model.add(BatchNormalization())\n",
        "        \n",
        "        model.add(Conv3D(64, filtersize, padding='same'))\n",
        "        model.add(Activation('relu'))\n",
        "        model.add(BatchNormalization())\n",
        "        \n",
        "        model.add(MaxPooling3D(pool_size=(2, 2, 2)))\n",
        "        model.add(Dropout(dropout))\n",
        "\n",
        "        model.add(Conv3D(128, filtersize, padding='same'))\n",
        "        model.add(Activation('relu'))\n",
        "        model.add(BatchNormalization())\n",
        "        \n",
        "        model.add(Conv3D(128, filtersize, padding='same'))\n",
        "        model.add(Activation('relu'))\n",
        "        model.add(BatchNormalization())\n",
        "        \n",
        "        model.add(MaxPooling3D(pool_size=(2, 2, 2)))\n",
        "        model.add(Dropout(dropout))\n",
        "        \n",
        "        model.add(Flatten())\n",
        "        model.add(Dense(dense_neurons,activation='relu'))\n",
        "        model.add(BatchNormalization())\n",
        "        model.add(Dropout(dropout))\n",
        "\n",
        "        model.add(Dense(dense_neurons,activation='relu'))\n",
        "        model.add(BatchNormalization())\n",
        "        model.add(Dropout(dropout))\n",
        "\n",
        "\n",
        "        model.add(Dense(self.num_classes,activation='softmax'))\n",
        "\n",
        "        optimiser = optimizers.Adam()\n",
        "        model.compile(optimizer=optimiser, loss='categorical_crossentropy', metrics=['categorical_accuracy'])\n",
        "        return model"
      ],
      "execution_count": null,
      "outputs": []
    },
    {
      "cell_type": "code",
      "metadata": {
        "id": "GXzE7zAXTlb5",
        "colab": {
          "base_uri": "https://localhost:8080/"
        },
        "outputId": "fa7c0c2c-700f-4ba2-8d46-35b2f49f14ce"
      },
      "source": [
        "Conv3D5=ModelConv3D5()\n",
        "Conv3D5.initialize_src_path(main_folder)\n",
        "Conv3D5.initialize_image_properties(image_height=120,image_width=120)\n",
        "Conv3D5.initialize_hyperparams(frames_to_sample=16,batch_size=20,num_epochs=22)\n",
        "Conv3D5_model=Conv3D5.define_model(filtersize=(3,3,3),dense_neurons=256,dropout=0.25)\n",
        "Conv3D5_model.summary()"
      ],
      "execution_count": null,
      "outputs": [
        {
          "output_type": "stream",
          "text": [
            "Model: \"sequential\"\n",
            "_________________________________________________________________\n",
            "Layer (type)                 Output Shape              Param #   \n",
            "=================================================================\n",
            "conv3d (Conv3D)              (None, 16, 120, 120, 16)  1312      \n",
            "_________________________________________________________________\n",
            "activation (Activation)      (None, 16, 120, 120, 16)  0         \n",
            "_________________________________________________________________\n",
            "batch_normalization (BatchNo (None, 16, 120, 120, 16)  64        \n",
            "_________________________________________________________________\n",
            "conv3d_1 (Conv3D)            (None, 16, 120, 120, 16)  6928      \n",
            "_________________________________________________________________\n",
            "activation_1 (Activation)    (None, 16, 120, 120, 16)  0         \n",
            "_________________________________________________________________\n",
            "batch_normalization_1 (Batch (None, 16, 120, 120, 16)  64        \n",
            "_________________________________________________________________\n",
            "max_pooling3d (MaxPooling3D) (None, 8, 60, 60, 16)     0         \n",
            "_________________________________________________________________\n",
            "dropout (Dropout)            (None, 8, 60, 60, 16)     0         \n",
            "_________________________________________________________________\n",
            "conv3d_2 (Conv3D)            (None, 8, 60, 60, 32)     13856     \n",
            "_________________________________________________________________\n",
            "activation_2 (Activation)    (None, 8, 60, 60, 32)     0         \n",
            "_________________________________________________________________\n",
            "batch_normalization_2 (Batch (None, 8, 60, 60, 32)     128       \n",
            "_________________________________________________________________\n",
            "conv3d_3 (Conv3D)            (None, 8, 60, 60, 32)     27680     \n",
            "_________________________________________________________________\n",
            "activation_3 (Activation)    (None, 8, 60, 60, 32)     0         \n",
            "_________________________________________________________________\n",
            "batch_normalization_3 (Batch (None, 8, 60, 60, 32)     128       \n",
            "_________________________________________________________________\n",
            "max_pooling3d_1 (MaxPooling3 (None, 4, 30, 30, 32)     0         \n",
            "_________________________________________________________________\n",
            "dropout_1 (Dropout)          (None, 4, 30, 30, 32)     0         \n",
            "_________________________________________________________________\n",
            "conv3d_4 (Conv3D)            (None, 4, 30, 30, 64)     55360     \n",
            "_________________________________________________________________\n",
            "activation_4 (Activation)    (None, 4, 30, 30, 64)     0         \n",
            "_________________________________________________________________\n",
            "batch_normalization_4 (Batch (None, 4, 30, 30, 64)     256       \n",
            "_________________________________________________________________\n",
            "conv3d_5 (Conv3D)            (None, 4, 30, 30, 64)     110656    \n",
            "_________________________________________________________________\n",
            "activation_5 (Activation)    (None, 4, 30, 30, 64)     0         \n",
            "_________________________________________________________________\n",
            "batch_normalization_5 (Batch (None, 4, 30, 30, 64)     256       \n",
            "_________________________________________________________________\n",
            "max_pooling3d_2 (MaxPooling3 (None, 2, 15, 15, 64)     0         \n",
            "_________________________________________________________________\n",
            "dropout_2 (Dropout)          (None, 2, 15, 15, 64)     0         \n",
            "_________________________________________________________________\n",
            "conv3d_6 (Conv3D)            (None, 2, 15, 15, 128)    221312    \n",
            "_________________________________________________________________\n",
            "activation_6 (Activation)    (None, 2, 15, 15, 128)    0         \n",
            "_________________________________________________________________\n",
            "batch_normalization_6 (Batch (None, 2, 15, 15, 128)    512       \n",
            "_________________________________________________________________\n",
            "conv3d_7 (Conv3D)            (None, 2, 15, 15, 128)    442496    \n",
            "_________________________________________________________________\n",
            "activation_7 (Activation)    (None, 2, 15, 15, 128)    0         \n",
            "_________________________________________________________________\n",
            "batch_normalization_7 (Batch (None, 2, 15, 15, 128)    512       \n",
            "_________________________________________________________________\n",
            "max_pooling3d_3 (MaxPooling3 (None, 1, 7, 7, 128)      0         \n",
            "_________________________________________________________________\n",
            "dropout_3 (Dropout)          (None, 1, 7, 7, 128)      0         \n",
            "_________________________________________________________________\n",
            "flatten (Flatten)            (None, 6272)              0         \n",
            "_________________________________________________________________\n",
            "dense (Dense)                (None, 256)               1605888   \n",
            "_________________________________________________________________\n",
            "batch_normalization_8 (Batch (None, 256)               1024      \n",
            "_________________________________________________________________\n",
            "dropout_4 (Dropout)          (None, 256)               0         \n",
            "_________________________________________________________________\n",
            "dense_1 (Dense)              (None, 256)               65792     \n",
            "_________________________________________________________________\n",
            "batch_normalization_9 (Batch (None, 256)               1024      \n",
            "_________________________________________________________________\n",
            "dropout_5 (Dropout)          (None, 256)               0         \n",
            "_________________________________________________________________\n",
            "dense_2 (Dense)              (None, 5)                 1285      \n",
            "=================================================================\n",
            "Total params: 2,556,533\n",
            "Trainable params: 2,554,549\n",
            "Non-trainable params: 1,984\n",
            "_________________________________________________________________\n"
          ],
          "name": "stdout"
        }
      ]
    },
    {
      "cell_type": "code",
      "metadata": {
        "id": "JesB78x6TvM3",
        "colab": {
          "base_uri": "https://localhost:8080/"
        },
        "outputId": "b7d61771-1e10-4b24-f9fa-330675dd18c0"
      },
      "source": [
        "print(\"Total Params:\", Conv3D5_model.count_params())\n",
        "accuracy_check_model_5=Conv3D5.train_model(Conv3D5_model,augment_data=True)"
      ],
      "execution_count": null,
      "outputs": [
        {
          "output_type": "stream",
          "text": [
            "Total Params: 2556533\n",
            "Epoch 1/22\n",
            "34/34 [==============================] - ETA: 0s - batch: 16.5000 - size: 39.0000 - loss: 1.7739 - categorical_accuracy: 0.3643\n",
            "Epoch 00001: saving model to model_init_2021-03-2117_27_51.619167/model-00001-1.77388-0.36425-3.09762-0.16000.h5\n",
            "4\n",
            "34/34 [==============================] - 229s 7s/step - batch: 16.5000 - size: 39.0000 - loss: 1.7739 - categorical_accuracy: 0.3643 - val_loss: 3.0976 - val_categorical_accuracy: 0.1600\n",
            "Epoch 2/22\n",
            "34/34 [==============================] - ETA: 0s - batch: 16.5000 - size: 39.0000 - loss: 1.3464 - categorical_accuracy: 0.5136\n",
            "Epoch 00002: saving model to model_init_2021-03-2117_27_51.619167/model-00002-1.34645-0.51357-4.21967-0.22000.h5\n",
            "0\n",
            "34/34 [==============================] - 206s 6s/step - batch: 16.5000 - size: 39.0000 - loss: 1.3464 - categorical_accuracy: 0.5136 - val_loss: 4.2197 - val_categorical_accuracy: 0.2200\n",
            "Epoch 3/22\n",
            "34/34 [==============================] - ETA: 0s - batch: 16.5000 - size: 39.0000 - loss: 1.1722 - categorical_accuracy: 0.5603\n",
            "Epoch 00003: saving model to model_init_2021-03-2117_27_51.619167/model-00003-1.17217-0.56033-5.50768-0.18000.h5\n",
            "0\n",
            "34/34 [==============================] - 209s 6s/step - batch: 16.5000 - size: 39.0000 - loss: 1.1722 - categorical_accuracy: 0.5603 - val_loss: 5.5077 - val_categorical_accuracy: 0.1800\n",
            "Epoch 4/22\n",
            "34/34 [==============================] - ETA: 0s - batch: 16.5000 - size: 39.0000 - loss: 1.0210 - categorical_accuracy: 0.6229\n",
            "Epoch 00004: saving model to model_init_2021-03-2117_27_51.619167/model-00004-1.02101-0.62293-5.37666-0.20000.h5\n",
            "0\n",
            "34/34 [==============================] - 212s 6s/step - batch: 16.5000 - size: 39.0000 - loss: 1.0210 - categorical_accuracy: 0.6229 - val_loss: 5.3767 - val_categorical_accuracy: 0.2000\n",
            "Epoch 5/22\n",
            "34/34 [==============================] - ETA: 0s - batch: 16.5000 - size: 39.0000 - loss: 0.9520 - categorical_accuracy: 0.6410\n",
            "Epoch 00005: saving model to model_init_2021-03-2117_27_51.619167/model-00005-0.95201-0.64103-4.60492-0.23000.h5\n",
            "\n",
            "Epoch 00005: ReduceLROnPlateau reducing learning rate to 0.00020000000949949026.\n",
            "0\n",
            "34/34 [==============================] - 208s 6s/step - batch: 16.5000 - size: 39.0000 - loss: 0.9520 - categorical_accuracy: 0.6410 - val_loss: 4.6049 - val_categorical_accuracy: 0.2300\n",
            "Epoch 6/22\n",
            "34/34 [==============================] - ETA: 0s - batch: 16.5000 - size: 39.0000 - loss: 0.8038 - categorical_accuracy: 0.6998\n",
            "Epoch 00006: saving model to model_init_2021-03-2117_27_51.619167/model-00006-0.80380-0.69985-5.07402-0.21000.h5\n",
            "0\n",
            "34/34 [==============================] - 211s 6s/step - batch: 16.5000 - size: 39.0000 - loss: 0.8038 - categorical_accuracy: 0.6998 - val_loss: 5.0740 - val_categorical_accuracy: 0.2100\n",
            "Epoch 7/22\n",
            "34/34 [==============================] - ETA: 0s - batch: 16.5000 - size: 39.0000 - loss: 0.7011 - categorical_accuracy: 0.7428\n",
            "Epoch 00007: saving model to model_init_2021-03-2117_27_51.619167/model-00007-0.70114-0.74284-4.62529-0.22000.h5\n",
            "0\n",
            "34/34 [==============================] - 210s 6s/step - batch: 16.5000 - size: 39.0000 - loss: 0.7011 - categorical_accuracy: 0.7428 - val_loss: 4.6253 - val_categorical_accuracy: 0.2200\n",
            "Epoch 8/22\n",
            "34/34 [==============================] - ETA: 0s - batch: 16.5000 - size: 39.0000 - loss: 0.6587 - categorical_accuracy: 0.7632\n",
            "Epoch 00008: saving model to model_init_2021-03-2117_27_51.619167/model-00008-0.65866-0.76320-6.78375-0.23000.h5\n",
            "0\n",
            "34/34 [==============================] - 210s 6s/step - batch: 16.5000 - size: 39.0000 - loss: 0.6587 - categorical_accuracy: 0.7632 - val_loss: 6.7838 - val_categorical_accuracy: 0.2300\n",
            "Epoch 9/22\n",
            "34/34 [==============================] - ETA: 0s - batch: 16.5000 - size: 39.0000 - loss: 0.6011 - categorical_accuracy: 0.7941\n",
            "Epoch 00009: saving model to model_init_2021-03-2117_27_51.619167/model-00009-0.60105-0.79412-5.97646-0.24000.h5\n",
            "\n",
            "Epoch 00009: ReduceLROnPlateau reducing learning rate to 4.0000001899898055e-05.\n",
            "0\n",
            "34/34 [==============================] - 209s 6s/step - batch: 16.5000 - size: 39.0000 - loss: 0.6011 - categorical_accuracy: 0.7941 - val_loss: 5.9765 - val_categorical_accuracy: 0.2400\n",
            "Epoch 10/22\n",
            "34/34 [==============================] - ETA: 0s - batch: 16.5000 - size: 39.0000 - loss: 0.5409 - categorical_accuracy: 0.8077\n",
            "Epoch 00010: saving model to model_init_2021-03-2117_27_51.619167/model-00010-0.54094-0.80769-6.03196-0.20000.h5\n",
            "0\n",
            "34/34 [==============================] - 211s 6s/step - batch: 16.5000 - size: 39.0000 - loss: 0.5409 - categorical_accuracy: 0.8077 - val_loss: 6.0320 - val_categorical_accuracy: 0.2000\n",
            "Epoch 11/22\n",
            "34/34 [==============================] - ETA: 0s - batch: 16.5000 - size: 39.0000 - loss: 0.5017 - categorical_accuracy: 0.8183\n",
            "Epoch 00011: saving model to model_init_2021-03-2117_27_51.619167/model-00011-0.50171-0.81825-6.07608-0.21000.h5\n",
            "0\n",
            "34/34 [==============================] - 208s 6s/step - batch: 16.5000 - size: 39.0000 - loss: 0.5017 - categorical_accuracy: 0.8183 - val_loss: 6.0761 - val_categorical_accuracy: 0.2100\n",
            "Epoch 12/22\n",
            "34/34 [==============================] - ETA: 0s - batch: 16.5000 - size: 39.0000 - loss: 0.5379 - categorical_accuracy: 0.7881\n",
            "Epoch 00012: saving model to model_init_2021-03-2117_27_51.619167/model-00012-0.53793-0.78808-5.77519-0.22000.h5\n",
            "0\n",
            "34/34 [==============================] - 210s 6s/step - batch: 16.5000 - size: 39.0000 - loss: 0.5379 - categorical_accuracy: 0.7881 - val_loss: 5.7752 - val_categorical_accuracy: 0.2200\n",
            "Epoch 13/22\n",
            "34/34 [==============================] - ETA: 0s - batch: 16.5000 - size: 39.0000 - loss: 0.4738 - categorical_accuracy: 0.8092\n",
            "Epoch 00013: saving model to model_init_2021-03-2117_27_51.619167/model-00013-0.47382-0.80920-5.51572-0.23000.h5\n",
            "\n",
            "Epoch 00013: ReduceLROnPlateau reducing learning rate to 8.000000525498762e-06.\n",
            "0\n",
            "34/34 [==============================] - 208s 6s/step - batch: 16.5000 - size: 39.0000 - loss: 0.4738 - categorical_accuracy: 0.8092 - val_loss: 5.5157 - val_categorical_accuracy: 0.2300\n",
            "Epoch 14/22\n",
            "34/34 [==============================] - ETA: 0s - batch: 16.5000 - size: 39.0000 - loss: 0.4547 - categorical_accuracy: 0.8205\n",
            "Epoch 00014: saving model to model_init_2021-03-2117_27_51.619167/model-00014-0.45469-0.82051-5.64910-0.19000.h5\n",
            "0\n",
            "34/34 [==============================] - 208s 6s/step - batch: 16.5000 - size: 39.0000 - loss: 0.4547 - categorical_accuracy: 0.8205 - val_loss: 5.6491 - val_categorical_accuracy: 0.1900\n",
            "Epoch 15/22\n",
            "34/34 [==============================] - ETA: 0s - batch: 16.5000 - size: 39.0000 - loss: 0.5436 - categorical_accuracy: 0.8243\n",
            "Epoch 00015: saving model to model_init_2021-03-2117_27_51.619167/model-00015-0.54359-0.82428-5.01632-0.22000.h5\n",
            "0\n",
            "34/34 [==============================] - 210s 6s/step - batch: 16.5000 - size: 39.0000 - loss: 0.5436 - categorical_accuracy: 0.8243 - val_loss: 5.0163 - val_categorical_accuracy: 0.2200\n",
            "Epoch 16/22\n",
            "34/34 [==============================] - ETA: 0s - batch: 16.5000 - size: 39.0000 - loss: 0.4622 - categorical_accuracy: 0.8303\n",
            "Epoch 00016: saving model to model_init_2021-03-2117_27_51.619167/model-00016-0.46222-0.83032-4.82581-0.21000.h5\n",
            "0\n",
            "34/34 [==============================] - 210s 6s/step - batch: 16.5000 - size: 39.0000 - loss: 0.4622 - categorical_accuracy: 0.8303 - val_loss: 4.8258 - val_categorical_accuracy: 0.2100\n",
            "Epoch 17/22\n",
            "34/34 [==============================] - ETA: 0s - batch: 16.5000 - size: 39.0000 - loss: 0.4785 - categorical_accuracy: 0.8273\n",
            "Epoch 00017: saving model to model_init_2021-03-2117_27_51.619167/model-00017-0.47848-0.82730-4.49979-0.21000.h5\n",
            "\n",
            "Epoch 00017: ReduceLROnPlateau reducing learning rate to 1.6000001778593287e-06.\n",
            "0\n",
            "34/34 [==============================] - 212s 6s/step - batch: 16.5000 - size: 39.0000 - loss: 0.4785 - categorical_accuracy: 0.8273 - val_loss: 4.4998 - val_categorical_accuracy: 0.2100\n",
            "Epoch 18/22\n",
            "34/34 [==============================] - ETA: 0s - batch: 16.5000 - size: 39.0000 - loss: 0.4582 - categorical_accuracy: 0.8273\n",
            "Epoch 00018: saving model to model_init_2021-03-2117_27_51.619167/model-00018-0.45816-0.82730-4.05696-0.26000.h5\n",
            "0\n",
            "34/34 [==============================] - 207s 6s/step - batch: 16.5000 - size: 39.0000 - loss: 0.4582 - categorical_accuracy: 0.8273 - val_loss: 4.0570 - val_categorical_accuracy: 0.2600\n",
            "Epoch 19/22\n",
            "34/34 [==============================] - ETA: 0s - batch: 16.5000 - size: 39.0000 - loss: 0.4976 - categorical_accuracy: 0.8062\n",
            "Epoch 00019: saving model to model_init_2021-03-2117_27_51.619167/model-00019-0.49758-0.80618-3.72201-0.27000.h5\n",
            "0\n",
            "34/34 [==============================] - 212s 6s/step - batch: 16.5000 - size: 39.0000 - loss: 0.4976 - categorical_accuracy: 0.8062 - val_loss: 3.7220 - val_categorical_accuracy: 0.2700\n",
            "Epoch 20/22\n",
            "34/34 [==============================] - ETA: 0s - batch: 16.5000 - size: 39.0000 - loss: 0.4364 - categorical_accuracy: 0.8379\n",
            "Epoch 00020: saving model to model_init_2021-03-2117_27_51.619167/model-00020-0.43645-0.83786-3.54485-0.29000.h5\n",
            "0\n",
            "34/34 [==============================] - 212s 6s/step - batch: 16.5000 - size: 39.0000 - loss: 0.4364 - categorical_accuracy: 0.8379 - val_loss: 3.5448 - val_categorical_accuracy: 0.2900\n",
            "Epoch 21/22\n",
            "34/34 [==============================] - ETA: 0s - batch: 16.5000 - size: 39.0000 - loss: 0.4612 - categorical_accuracy: 0.8205\n",
            "Epoch 00021: saving model to model_init_2021-03-2117_27_51.619167/model-00021-0.46117-0.82051-3.15192-0.30000.h5\n",
            "\n",
            "Epoch 00021: ReduceLROnPlateau reducing learning rate to 3.200000264769187e-07.\n",
            "0\n",
            "34/34 [==============================] - 206s 6s/step - batch: 16.5000 - size: 39.0000 - loss: 0.4612 - categorical_accuracy: 0.8205 - val_loss: 3.1519 - val_categorical_accuracy: 0.3000\n",
            "Epoch 22/22\n",
            "34/34 [==============================] - ETA: 0s - batch: 16.5000 - size: 39.0000 - loss: 0.4656 - categorical_accuracy: 0.8356\n",
            "Epoch 00022: saving model to model_init_2021-03-2117_27_51.619167/model-00022-0.46564-0.83560-2.93860-0.34000.h5\n",
            "0\n",
            "34/34 [==============================] - 209s 6s/step - batch: 16.5000 - size: 39.0000 - loss: 0.4656 - categorical_accuracy: 0.8356 - val_loss: 2.9386 - val_categorical_accuracy: 0.3400\n"
          ],
          "name": "stdout"
        }
      ]
    },
    {
      "cell_type": "code",
      "metadata": {
        "id": "WSHXypIxT2_c",
        "colab": {
          "base_uri": "https://localhost:8080/",
          "height": 266
        },
        "outputId": "96734c43-69cd-4e16-943c-34a570d5bbbd"
      },
      "source": [
        "plot(accuracy_check_model_5)"
      ],
      "execution_count": null,
      "outputs": [
        {
          "output_type": "display_data",
          "data": {
            "image/png": "[encoded data removed]",
            "text/plain": [
              "<Figure size 1080x288 with 2 Axes>"
            ]
          },
          "metadata": {
            "tags": [],
            "needs_background": "light"
          }
        }
      ]
    },
    {
      "cell_type": "markdown",
      "metadata": {
        "id": "QOot9MXnwkBV"
      },
      "source": [
        "\n",
        "Adding dropouts has further reduced validation accuracy as its not to learn generalizable features\n",
        "All models experimental models above have more than 1 million parameters. Let's try to reduce the model size and see the performance"
      ]
    },
    {
      "cell_type": "code",
      "metadata": {
        "id": "gCTXMah8xFXr"
      },
      "source": [
        "Conv3D5.clear_session(Conv3D5_model)"
      ],
      "execution_count": null,
      "outputs": []
    },
    {
      "cell_type": "markdown",
      "metadata": {
        "id": "0FroiBKKw0un"
      },
      "source": [
        "## Model 6 - reducing the number of parameters"
      ]
    },
    {
      "cell_type": "code",
      "metadata": {
        "id": "wJj_Nb_IwnLi"
      },
      "source": [
        "class ModelConv3D6(ModelBuilder):\n",
        "    \n",
        "    def define_model(self,dense_neurons=64,dropout=0.25):\n",
        "\n",
        "        model = Sequential()\n",
        "        model.add(Conv3D(16, (3, 3, 3), padding='same',\n",
        "        input_shape=(self.frames_to_sample,self.image_height,self.image_width,self.channels)))\n",
        "        model.add(Activation('relu'))\n",
        "        model.add(BatchNormalization())\n",
        "        model.add(MaxPooling3D(pool_size=(2, 2, 2)))\n",
        "\n",
        "        model.add(Conv3D(32, (2, 2, 2), padding='same'))\n",
        "        model.add(Activation('relu'))\n",
        "        model.add(BatchNormalization())\n",
        "        model.add(MaxPooling3D(pool_size=(2, 2, 2)))\n",
        "\n",
        "        model.add(Conv3D(64, (2, 2, 2), padding='same'))\n",
        "        model.add(Activation('relu'))\n",
        "        model.add(BatchNormalization())\n",
        "        model.add(MaxPooling3D(pool_size=(2, 2, 2)))\n",
        "\n",
        "        model.add(Conv3D(128, (2, 2, 2), padding='same'))\n",
        "        model.add(Activation('relu'))\n",
        "        model.add(BatchNormalization())\n",
        "        model.add(MaxPooling3D(pool_size=(2, 2, 2)))\n",
        "        \n",
        "        model.add(Flatten())\n",
        "        model.add(Dense(dense_neurons,activation='relu'))\n",
        "        model.add(BatchNormalization())\n",
        "        model.add(Dropout(dropout))\n",
        "\n",
        "        model.add(Dense(dense_neurons,activation='relu'))\n",
        "        model.add(BatchNormalization())\n",
        "        model.add(Dropout(dropout))\n",
        "\n",
        "        model.add(Dense(self.num_classes,activation='softmax'))\n",
        "\n",
        "        optimiser = optimizers.Adam(lr=0.0002)\n",
        "        model.compile(optimizer=optimiser, loss='categorical_crossentropy', metrics=['categorical_accuracy'])\n",
        "        return model"
      ],
      "execution_count": null,
      "outputs": []
    },
    {
      "cell_type": "code",
      "metadata": {
        "id": "WKI57BD-xhK9",
        "colab": {
          "base_uri": "https://localhost:8080/"
        },
        "outputId": "5df50892-7fef-4f59-c06b-ce09591c7efe"
      },
      "source": [
        "Conv3D6=ModelConv3D6()\n",
        "Conv3D6.initialize_src_path(main_folder)\n",
        "Conv3D6.initialize_image_properties(image_height=100,image_width=100)\n",
        "Conv3D6.initialize_hyperparams(frames_to_sample=16,batch_size=20,num_epochs=30)\n",
        "Conv3D6_model=Conv3D6.define_model(dense_neurons=128,dropout=0.25)\n",
        "Conv3D6_model.summary()"
      ],
      "execution_count": null,
      "outputs": [
        {
          "output_type": "stream",
          "text": [
            "Model: \"sequential\"\n",
            "_________________________________________________________________\n",
            "Layer (type)                 Output Shape              Param #   \n",
            "=================================================================\n",
            "conv3d (Conv3D)              (None, 16, 100, 100, 16)  1312      \n",
            "_________________________________________________________________\n",
            "activation (Activation)      (None, 16, 100, 100, 16)  0         \n",
            "_________________________________________________________________\n",
            "batch_normalization (BatchNo (None, 16, 100, 100, 16)  64        \n",
            "_________________________________________________________________\n",
            "max_pooling3d (MaxPooling3D) (None, 8, 50, 50, 16)     0         \n",
            "_________________________________________________________________\n",
            "conv3d_1 (Conv3D)            (None, 8, 50, 50, 32)     4128      \n",
            "_________________________________________________________________\n",
            "activation_1 (Activation)    (None, 8, 50, 50, 32)     0         \n",
            "_________________________________________________________________\n",
            "batch_normalization_1 (Batch (None, 8, 50, 50, 32)     128       \n",
            "_________________________________________________________________\n",
            "max_pooling3d_1 (MaxPooling3 (None, 4, 25, 25, 32)     0         \n",
            "_________________________________________________________________\n",
            "conv3d_2 (Conv3D)            (None, 4, 25, 25, 64)     16448     \n",
            "_________________________________________________________________\n",
            "activation_2 (Activation)    (None, 4, 25, 25, 64)     0         \n",
            "_________________________________________________________________\n",
            "batch_normalization_2 (Batch (None, 4, 25, 25, 64)     256       \n",
            "_________________________________________________________________\n",
            "max_pooling3d_2 (MaxPooling3 (None, 2, 12, 12, 64)     0         \n",
            "_________________________________________________________________\n",
            "conv3d_3 (Conv3D)            (None, 2, 12, 12, 128)    65664     \n",
            "_________________________________________________________________\n",
            "activation_3 (Activation)    (None, 2, 12, 12, 128)    0         \n",
            "_________________________________________________________________\n",
            "batch_normalization_3 (Batch (None, 2, 12, 12, 128)    512       \n",
            "_________________________________________________________________\n",
            "max_pooling3d_3 (MaxPooling3 (None, 1, 6, 6, 128)      0         \n",
            "_________________________________________________________________\n",
            "flatten (Flatten)            (None, 4608)              0         \n",
            "_________________________________________________________________\n",
            "dense (Dense)                (None, 128)               589952    \n",
            "_________________________________________________________________\n",
            "batch_normalization_4 (Batch (None, 128)               512       \n",
            "_________________________________________________________________\n",
            "dropout (Dropout)            (None, 128)               0         \n",
            "_________________________________________________________________\n",
            "dense_1 (Dense)              (None, 128)               16512     \n",
            "_________________________________________________________________\n",
            "batch_normalization_5 (Batch (None, 128)               512       \n",
            "_________________________________________________________________\n",
            "dropout_1 (Dropout)          (None, 128)               0         \n",
            "_________________________________________________________________\n",
            "dense_2 (Dense)              (None, 5)                 645       \n",
            "=================================================================\n",
            "Total params: 696,645\n",
            "Trainable params: 695,653\n",
            "Non-trainable params: 992\n",
            "_________________________________________________________________\n"
          ],
          "name": "stdout"
        }
      ]
    },
    {
      "cell_type": "code",
      "metadata": {
        "id": "2ydywdxnxwbU",
        "colab": {
          "base_uri": "https://localhost:8080/"
        },
        "outputId": "902717b6-d772-4bb8-fc39-e8521728b891"
      },
      "source": [
        "print(\"Total Params:\", Conv3D6_model.count_params())\n",
        "accuracy_check_model_6=Conv3D6.train_model(Conv3D6_model,augment_data=True)"
      ],
      "execution_count": null,
      "outputs": [
        {
          "output_type": "stream",
          "text": [
            "Total Params: 696645\n",
            "Epoch 1/30\n",
            "34/34 [==============================] - ETA: 0s - batch: 16.5000 - size: 39.0000 - loss: 1.7883 - categorical_accuracy: 0.3650\n",
            "Epoch 00001: saving model to model_init_2021-03-2118_45_27.696387/model-00001-1.78825-0.36501-1.70564-0.21000.h5\n",
            "48\n",
            "34/34 [==============================] - 209s 6s/step - batch: 16.5000 - size: 39.0000 - loss: 1.7883 - categorical_accuracy: 0.3650 - val_loss: 1.7056 - val_categorical_accuracy: 0.2100\n",
            "Epoch 2/30\n",
            "34/34 [==============================] - ETA: 0s - batch: 16.5000 - size: 39.0000 - loss: 1.2583 - categorical_accuracy: 0.5302\n",
            "Epoch 00002: saving model to model_init_2021-03-2118_45_27.696387/model-00002-1.25834-0.53017-2.34726-0.20000.h5\n",
            "0\n",
            "34/34 [==============================] - 193s 6s/step - batch: 16.5000 - size: 39.0000 - loss: 1.2583 - categorical_accuracy: 0.5302 - val_loss: 2.3473 - val_categorical_accuracy: 0.2000\n",
            "Epoch 3/30\n",
            "34/34 [==============================] - ETA: 0s - batch: 16.5000 - size: 39.0000 - loss: 1.0181 - categorical_accuracy: 0.6267\n",
            "Epoch 00003: saving model to model_init_2021-03-2118_45_27.696387/model-00003-1.01807-0.62670-2.71993-0.27000.h5\n",
            "0\n",
            "34/34 [==============================] - 192s 6s/step - batch: 16.5000 - size: 39.0000 - loss: 1.0181 - categorical_accuracy: 0.6267 - val_loss: 2.7199 - val_categorical_accuracy: 0.2700\n",
            "Epoch 4/30\n",
            "34/34 [==============================] - ETA: 0s - batch: 16.5000 - size: 39.0000 - loss: 0.8463 - categorical_accuracy: 0.6946\n",
            "Epoch 00004: saving model to model_init_2021-03-2118_45_27.696387/model-00004-0.84626-0.69457-3.87969-0.18000.h5\n",
            "0\n",
            "34/34 [==============================] - 191s 6s/step - batch: 16.5000 - size: 39.0000 - loss: 0.8463 - categorical_accuracy: 0.6946 - val_loss: 3.8797 - val_categorical_accuracy: 0.1800\n",
            "Epoch 5/30\n",
            "34/34 [==============================] - ETA: 0s - batch: 16.5000 - size: 39.0000 - loss: 0.7758 - categorical_accuracy: 0.7164\n",
            "Epoch 00005: saving model to model_init_2021-03-2118_45_27.696387/model-00005-0.77577-0.71644-5.19558-0.21000.h5\n",
            "\n",
            "Epoch 00005: ReduceLROnPlateau reducing learning rate to 3.9999998989515007e-05.\n",
            "0\n",
            "34/34 [==============================] - 196s 6s/step - batch: 16.5000 - size: 39.0000 - loss: 0.7758 - categorical_accuracy: 0.7164 - val_loss: 5.1956 - val_categorical_accuracy: 0.2100\n",
            "Epoch 6/30\n",
            "34/34 [==============================] - ETA: 0s - batch: 16.5000 - size: 39.0000 - loss: 0.6631 - categorical_accuracy: 0.7466\n",
            "Epoch 00006: saving model to model_init_2021-03-2118_45_27.696387/model-00006-0.66315-0.74661-5.89693-0.21000.h5\n",
            "0\n",
            "34/34 [==============================] - 191s 6s/step - batch: 16.5000 - size: 39.0000 - loss: 0.6631 - categorical_accuracy: 0.7466 - val_loss: 5.8969 - val_categorical_accuracy: 0.2100\n",
            "Epoch 7/30\n",
            "34/34 [==============================] - ETA: 0s - batch: 16.5000 - size: 39.0000 - loss: 0.6171 - categorical_accuracy: 0.7805\n",
            "Epoch 00007: saving model to model_init_2021-03-2118_45_27.696387/model-00007-0.61706-0.78054-6.54042-0.19000.h5\n",
            "0\n",
            "34/34 [==============================] - 193s 6s/step - batch: 16.5000 - size: 39.0000 - loss: 0.6171 - categorical_accuracy: 0.7805 - val_loss: 6.5404 - val_categorical_accuracy: 0.1900\n",
            "Epoch 8/30\n",
            "34/34 [==============================] - ETA: 0s - batch: 16.5000 - size: 39.0000 - loss: 0.6627 - categorical_accuracy: 0.7692\n",
            "Epoch 00008: saving model to model_init_2021-03-2118_45_27.696387/model-00008-0.66271-0.76923-6.64296-0.22000.h5\n",
            "0\n",
            "34/34 [==============================] - 191s 6s/step - batch: 16.5000 - size: 39.0000 - loss: 0.6627 - categorical_accuracy: 0.7692 - val_loss: 6.6430 - val_categorical_accuracy: 0.2200\n",
            "Epoch 9/30\n",
            "34/34 [==============================] - ETA: 0s - batch: 16.5000 - size: 39.0000 - loss: 0.6011 - categorical_accuracy: 0.7843\n",
            "Epoch 00009: saving model to model_init_2021-03-2118_45_27.696387/model-00009-0.60106-0.78431-5.57487-0.27000.h5\n",
            "\n",
            "Epoch 00009: ReduceLROnPlateau reducing learning rate to 7.999999797903002e-06.\n",
            "0\n",
            "34/34 [==============================] - 190s 6s/step - batch: 16.5000 - size: 39.0000 - loss: 0.6011 - categorical_accuracy: 0.7843 - val_loss: 5.5749 - val_categorical_accuracy: 0.2700\n",
            "Epoch 10/30\n",
            "34/34 [==============================] - ETA: 0s - batch: 16.5000 - size: 39.0000 - loss: 0.5154 - categorical_accuracy: 0.8160\n",
            "Epoch 00010: saving model to model_init_2021-03-2118_45_27.696387/model-00010-0.51537-0.81599-5.64552-0.22000.h5\n",
            "0\n",
            "34/34 [==============================] - 191s 6s/step - batch: 16.5000 - size: 39.0000 - loss: 0.5154 - categorical_accuracy: 0.8160 - val_loss: 5.6455 - val_categorical_accuracy: 0.2200\n",
            "Epoch 11/30\n",
            "34/34 [==============================] - ETA: 0s - batch: 16.5000 - size: 39.0000 - loss: 0.5652 - categorical_accuracy: 0.7964\n",
            "Epoch 00011: saving model to model_init_2021-03-2118_45_27.696387/model-00011-0.56523-0.79638-4.81992-0.23000.h5\n",
            "0\n",
            "34/34 [==============================] - 193s 6s/step - batch: 16.5000 - size: 39.0000 - loss: 0.5652 - categorical_accuracy: 0.7964 - val_loss: 4.8199 - val_categorical_accuracy: 0.2300\n",
            "Epoch 12/30\n",
            "34/34 [==============================] - ETA: 0s - batch: 16.5000 - size: 39.0000 - loss: 0.5701 - categorical_accuracy: 0.8002\n",
            "Epoch 00012: saving model to model_init_2021-03-2118_45_27.696387/model-00012-0.57012-0.80015-3.87887-0.26000.h5\n",
            "0\n",
            "34/34 [==============================] - 194s 6s/step - batch: 16.5000 - size: 39.0000 - loss: 0.5701 - categorical_accuracy: 0.8002 - val_loss: 3.8789 - val_categorical_accuracy: 0.2600\n",
            "Epoch 13/30\n",
            "34/34 [==============================] - ETA: 0s - batch: 16.5000 - size: 39.0000 - loss: 0.5285 - categorical_accuracy: 0.8032\n",
            "Epoch 00013: saving model to model_init_2021-03-2118_45_27.696387/model-00013-0.52846-0.80317-3.57415-0.22000.h5\n",
            "\n",
            "Epoch 00013: ReduceLROnPlateau reducing learning rate to 1.5999999959603884e-06.\n",
            "0\n",
            "34/34 [==============================] - 194s 6s/step - batch: 16.5000 - size: 39.0000 - loss: 0.5285 - categorical_accuracy: 0.8032 - val_loss: 3.5741 - val_categorical_accuracy: 0.2200\n",
            "Epoch 14/30\n",
            "34/34 [==============================] - ETA: 0s - batch: 16.5000 - size: 39.0000 - loss: 0.5548 - categorical_accuracy: 0.8024\n",
            "Epoch 00014: saving model to model_init_2021-03-2118_45_27.696387/model-00014-0.55484-0.80241-2.50216-0.30000.h5\n",
            "0\n",
            "34/34 [==============================] - 191s 6s/step - batch: 16.5000 - size: 39.0000 - loss: 0.5548 - categorical_accuracy: 0.8024 - val_loss: 2.5022 - val_categorical_accuracy: 0.3000\n",
            "Epoch 15/30\n",
            "34/34 [==============================] - ETA: 0s - batch: 16.5000 - size: 39.0000 - loss: 0.5386 - categorical_accuracy: 0.8039\n",
            "Epoch 00015: saving model to model_init_2021-03-2118_45_27.696387/model-00015-0.53863-0.80392-2.09431-0.32000.h5\n",
            "0\n",
            "34/34 [==============================] - 193s 6s/step - batch: 16.5000 - size: 39.0000 - loss: 0.5386 - categorical_accuracy: 0.8039 - val_loss: 2.0943 - val_categorical_accuracy: 0.3200\n",
            "Epoch 16/30\n",
            "34/34 [==============================] - ETA: 0s - batch: 16.5000 - size: 39.0000 - loss: 0.5938 - categorical_accuracy: 0.7813\n",
            "Epoch 00016: saving model to model_init_2021-03-2118_45_27.696387/model-00016-0.59380-0.78130-1.62735-0.40000.h5\n",
            "0\n",
            "34/34 [==============================] - 191s 6s/step - batch: 16.5000 - size: 39.0000 - loss: 0.5938 - categorical_accuracy: 0.7813 - val_loss: 1.6274 - val_categorical_accuracy: 0.4000\n",
            "Epoch 17/30\n",
            "34/34 [==============================] - ETA: 0s - batch: 16.5000 - size: 39.0000 - loss: 0.5195 - categorical_accuracy: 0.8122\n",
            "Epoch 00017: saving model to model_init_2021-03-2118_45_27.696387/model-00017-0.51953-0.81222-1.36555-0.53000.h5\n",
            "0\n",
            "34/34 [==============================] - 191s 6s/step - batch: 16.5000 - size: 39.0000 - loss: 0.5195 - categorical_accuracy: 0.8122 - val_loss: 1.3655 - val_categorical_accuracy: 0.5300\n",
            "Epoch 18/30\n",
            "34/34 [==============================] - ETA: 0s - batch: 16.5000 - size: 39.0000 - loss: 0.5405 - categorical_accuracy: 0.8122\n",
            "Epoch 00018: saving model to model_init_2021-03-2118_45_27.696387/model-00018-0.54052-0.81222-1.02088-0.59000.h5\n",
            "0\n",
            "34/34 [==============================] - 191s 6s/step - batch: 16.5000 - size: 39.0000 - loss: 0.5405 - categorical_accuracy: 0.8122 - val_loss: 1.0209 - val_categorical_accuracy: 0.5900\n",
            "Epoch 19/30\n",
            "34/34 [==============================] - ETA: 0s - batch: 16.5000 - size: 39.0000 - loss: 0.5822 - categorical_accuracy: 0.7949\n",
            "Epoch 00019: saving model to model_init_2021-03-2118_45_27.696387/model-00019-0.58216-0.79487-0.89428-0.63000.h5\n",
            "0\n",
            "34/34 [==============================] - 191s 6s/step - batch: 16.5000 - size: 39.0000 - loss: 0.5822 - categorical_accuracy: 0.7949 - val_loss: 0.8943 - val_categorical_accuracy: 0.6300\n",
            "Epoch 20/30\n",
            "34/34 [==============================] - ETA: 0s - batch: 16.5000 - size: 39.0000 - loss: 0.5777 - categorical_accuracy: 0.7994\n",
            "Epoch 00020: saving model to model_init_2021-03-2118_45_27.696387/model-00020-0.57772-0.79940-0.83535-0.69000.h5\n",
            "0\n",
            "34/34 [==============================] - 193s 6s/step - batch: 16.5000 - size: 39.0000 - loss: 0.5777 - categorical_accuracy: 0.7994 - val_loss: 0.8353 - val_categorical_accuracy: 0.6900\n",
            "Epoch 21/30\n",
            "34/34 [==============================] - ETA: 0s - batch: 16.5000 - size: 39.0000 - loss: 0.5664 - categorical_accuracy: 0.8009\n",
            "Epoch 00021: saving model to model_init_2021-03-2118_45_27.696387/model-00021-0.56641-0.80090-0.72257-0.73000.h5\n",
            "0\n",
            "34/34 [==============================] - 196s 6s/step - batch: 16.5000 - size: 39.0000 - loss: 0.5664 - categorical_accuracy: 0.8009 - val_loss: 0.7226 - val_categorical_accuracy: 0.7300\n",
            "Epoch 22/30\n",
            "34/34 [==============================] - ETA: 0s - batch: 16.5000 - size: 39.0000 - loss: 0.5483 - categorical_accuracy: 0.8017\n",
            "Epoch 00022: saving model to model_init_2021-03-2118_45_27.696387/model-00022-0.54826-0.80166-0.68406-0.74000.h5\n",
            "0\n",
            "34/34 [==============================] - 193s 6s/step - batch: 16.5000 - size: 39.0000 - loss: 0.5483 - categorical_accuracy: 0.8017 - val_loss: 0.6841 - val_categorical_accuracy: 0.7400\n",
            "Epoch 23/30\n",
            "34/34 [==============================] - ETA: 0s - batch: 16.5000 - size: 39.0000 - loss: 0.5604 - categorical_accuracy: 0.7949\n",
            "Epoch 00023: saving model to model_init_2021-03-2118_45_27.696387/model-00023-0.56037-0.79487-0.77264-0.72000.h5\n",
            "0\n",
            "34/34 [==============================] - 193s 6s/step - batch: 16.5000 - size: 39.0000 - loss: 0.5604 - categorical_accuracy: 0.7949 - val_loss: 0.7726 - val_categorical_accuracy: 0.7200\n",
            "Epoch 24/30\n",
            "34/34 [==============================] - ETA: 0s - batch: 16.5000 - size: 39.0000 - loss: 0.5456 - categorical_accuracy: 0.8213\n",
            "Epoch 00024: saving model to model_init_2021-03-2118_45_27.696387/model-00024-0.54563-0.82127-0.71257-0.76000.h5\n",
            "0\n",
            "34/34 [==============================] - 190s 6s/step - batch: 16.5000 - size: 39.0000 - loss: 0.5456 - categorical_accuracy: 0.8213 - val_loss: 0.7126 - val_categorical_accuracy: 0.7600\n",
            "Epoch 25/30\n",
            "34/34 [==============================] - ETA: 0s - batch: 16.5000 - size: 39.0000 - loss: 0.5580 - categorical_accuracy: 0.8077\n",
            "Epoch 00025: saving model to model_init_2021-03-2118_45_27.696387/model-00025-0.55795-0.80769-0.56208-0.82000.h5\n",
            "0\n",
            "34/34 [==============================] - 197s 6s/step - batch: 16.5000 - size: 39.0000 - loss: 0.5580 - categorical_accuracy: 0.8077 - val_loss: 0.5621 - val_categorical_accuracy: 0.8200\n",
            "Epoch 26/30\n",
            "34/34 [==============================] - ETA: 0s - batch: 16.5000 - size: 39.0000 - loss: 0.5603 - categorical_accuracy: 0.7979\n",
            "Epoch 00026: saving model to model_init_2021-03-2118_45_27.696387/model-00026-0.56032-0.79789-0.64914-0.79000.h5\n",
            "0\n",
            "34/34 [==============================] - 192s 6s/step - batch: 16.5000 - size: 39.0000 - loss: 0.5603 - categorical_accuracy: 0.7979 - val_loss: 0.6491 - val_categorical_accuracy: 0.7900\n",
            "Epoch 27/30\n",
            "34/34 [==============================] - ETA: 0s - batch: 16.5000 - size: 39.0000 - loss: 0.5539 - categorical_accuracy: 0.8017\n",
            "Epoch 00027: saving model to model_init_2021-03-2118_45_27.696387/model-00027-0.55395-0.80166-0.53243-0.84000.h5\n",
            "0\n",
            "34/34 [==============================] - 191s 6s/step - batch: 16.5000 - size: 39.0000 - loss: 0.5539 - categorical_accuracy: 0.8017 - val_loss: 0.5324 - val_categorical_accuracy: 0.8400\n",
            "Epoch 28/30\n",
            "34/34 [==============================] - ETA: 0s - batch: 16.5000 - size: 39.0000 - loss: 0.5532 - categorical_accuracy: 0.8107\n",
            "Epoch 00028: saving model to model_init_2021-03-2118_45_27.696387/model-00028-0.55324-0.81071-0.77957-0.73000.h5\n",
            "0\n",
            "34/34 [==============================] - 193s 6s/step - batch: 16.5000 - size: 39.0000 - loss: 0.5532 - categorical_accuracy: 0.8107 - val_loss: 0.7796 - val_categorical_accuracy: 0.7300\n",
            "Epoch 29/30\n",
            "34/34 [==============================] - ETA: 0s - batch: 16.5000 - size: 39.0000 - loss: 0.5759 - categorical_accuracy: 0.7979\n",
            "Epoch 00029: saving model to model_init_2021-03-2118_45_27.696387/model-00029-0.57586-0.79789-0.58964-0.80000.h5\n",
            "0\n",
            "34/34 [==============================] - 193s 6s/step - batch: 16.5000 - size: 39.0000 - loss: 0.5759 - categorical_accuracy: 0.7979 - val_loss: 0.5896 - val_categorical_accuracy: 0.8000\n",
            "Epoch 30/30\n",
            "34/34 [==============================] - ETA: 0s - batch: 16.5000 - size: 39.0000 - loss: 0.5232 - categorical_accuracy: 0.8356\n",
            "Epoch 00030: saving model to model_init_2021-03-2118_45_27.696387/model-00030-0.52320-0.83560-0.62896-0.79000.h5\n",
            "0\n",
            "34/34 [==============================] - 195s 6s/step - batch: 16.5000 - size: 39.0000 - loss: 0.5232 - categorical_accuracy: 0.8356 - val_loss: 0.6290 - val_categorical_accuracy: 0.7900\n"
          ],
          "name": "stdout"
        }
      ]
    },
    {
      "cell_type": "code",
      "metadata": {
        "id": "I7WQvNWYDybQ",
        "colab": {
          "base_uri": "https://localhost:8080/",
          "height": 265
        },
        "outputId": "7e5cac74-829e-4115-ea7e-eb2cfa092c76"
      },
      "source": [
        "plot(accuracy_check_model_6)"
      ],
      "execution_count": null,
      "outputs": [
        {
          "output_type": "display_data",
          "data": {
            "image/png": "[encoded data removed]",
            "text/plain": [
              "<Figure size 1080x288 with 2 Axes>"
            ]
          },
          "metadata": {
            "tags": [],
            "needs_background": "light"
          }
        }
      ]
    },
    {
      "cell_type": "markdown",
      "metadata": {
        "id": "zBJFD6jaJsTV"
      },
      "source": [
        "For the above low memory foot print model the best validation accuracy of 73%"
      ]
    },
    {
      "cell_type": "code",
      "metadata": {
        "id": "cArLoK-0RXxf"
      },
      "source": [
        "Conv3D6.clear_session(Conv3D6_model)"
      ],
      "execution_count": null,
      "outputs": []
    },
    {
      "cell_type": "markdown",
      "metadata": {
        "id": "AHU3qisEKMLX"
      },
      "source": [
        "## Model 7 - reducing the number of parameters"
      ]
    },
    {
      "cell_type": "code",
      "metadata": {
        "id": "huD4YXHfJ9E7"
      },
      "source": [
        "class ModelConv3D7(ModelBuilder):\n",
        "    \n",
        "    def define_model(self,dense_neurons=64,dropout=0.25):\n",
        "\n",
        "        model = Sequential()\n",
        "        model.add(Conv3D(16, (3, 3, 3), padding='same',\n",
        "        input_shape=(self.frames_to_sample,self.image_height,self.image_width,self.channels)))\n",
        "        model.add(Activation('relu'))\n",
        "        model.add(BatchNormalization())\n",
        "        model.add(MaxPooling3D(pool_size=(2, 2, 2)))\n",
        "\n",
        "        model.add(Conv3D(32, (3, 3, 3), padding='same'))\n",
        "        model.add(Activation('relu'))\n",
        "        model.add(BatchNormalization())\n",
        "        model.add(MaxPooling3D(pool_size=(2, 2, 2)))\n",
        "\n",
        "        model.add(Conv3D(64, (2, 2, 2), padding='same'))\n",
        "        model.add(Activation('relu'))\n",
        "        model.add(BatchNormalization())\n",
        "        model.add(MaxPooling3D(pool_size=(2, 2, 2)))\n",
        "\n",
        "        model.add(Conv3D(128, (2, 2, 2), padding='same'))\n",
        "        model.add(Activation('relu'))\n",
        "        model.add(BatchNormalization())\n",
        "        model.add(MaxPooling3D(pool_size=(2, 2, 2)))\n",
        "        \n",
        "        model.add(Flatten())\n",
        "        model.add(Dense(dense_neurons,activation='relu'))\n",
        "        model.add(BatchNormalization())\n",
        "        model.add(Dropout(dropout))\n",
        "\n",
        "        model.add(Dense(dense_neurons,activation='relu'))\n",
        "        model.add(BatchNormalization())\n",
        "        model.add(Dropout(dropout))\n",
        "\n",
        "        model.add(Dense(self.num_classes,activation='softmax'))\n",
        "\n",
        "        optimiser = optimizers.Adam(lr=0.0002)\n",
        "        model.compile(optimizer=optimiser, loss='categorical_crossentropy', metrics=['categorical_accuracy'])\n",
        "        return model"
      ],
      "execution_count": null,
      "outputs": []
    },
    {
      "cell_type": "code",
      "metadata": {
        "id": "VR3gHG0T256h",
        "colab": {
          "base_uri": "https://localhost:8080/"
        },
        "outputId": "f506113c-20bc-4840-a0c5-6569e829f1d0"
      },
      "source": [
        "conv_3d7=ModelConv3D7()\n",
        "conv_3d7.initialize_src_path(main_folder)\n",
        "conv_3d7.initialize_image_properties(image_height=120,image_width=120)\n",
        "conv_3d7.initialize_hyperparams(frames_to_sample=16,batch_size=20,num_epochs=25)\n",
        "conv_3d7_model=conv_3d7.define_model(dense_neurons=64,dropout=0.25)\n",
        "conv_3d7_model.summary()"
      ],
      "execution_count": null,
      "outputs": [
        {
          "output_type": "stream",
          "text": [
            "Model: \"sequential\"\n",
            "_________________________________________________________________\n",
            "Layer (type)                 Output Shape              Param #   \n",
            "=================================================================\n",
            "conv3d (Conv3D)              (None, 16, 120, 120, 16)  1312      \n",
            "_________________________________________________________________\n",
            "activation (Activation)      (None, 16, 120, 120, 16)  0         \n",
            "_________________________________________________________________\n",
            "batch_normalization (BatchNo (None, 16, 120, 120, 16)  64        \n",
            "_________________________________________________________________\n",
            "max_pooling3d (MaxPooling3D) (None, 8, 60, 60, 16)     0         \n",
            "_________________________________________________________________\n",
            "conv3d_1 (Conv3D)            (None, 8, 60, 60, 32)     13856     \n",
            "_________________________________________________________________\n",
            "activation_1 (Activation)    (None, 8, 60, 60, 32)     0         \n",
            "_________________________________________________________________\n",
            "batch_normalization_1 (Batch (None, 8, 60, 60, 32)     128       \n",
            "_________________________________________________________________\n",
            "max_pooling3d_1 (MaxPooling3 (None, 4, 30, 30, 32)     0         \n",
            "_________________________________________________________________\n",
            "conv3d_2 (Conv3D)            (None, 4, 30, 30, 64)     16448     \n",
            "_________________________________________________________________\n",
            "activation_2 (Activation)    (None, 4, 30, 30, 64)     0         \n",
            "_________________________________________________________________\n",
            "batch_normalization_2 (Batch (None, 4, 30, 30, 64)     256       \n",
            "_________________________________________________________________\n",
            "max_pooling3d_2 (MaxPooling3 (None, 2, 15, 15, 64)     0         \n",
            "_________________________________________________________________\n",
            "conv3d_3 (Conv3D)            (None, 2, 15, 15, 128)    65664     \n",
            "_________________________________________________________________\n",
            "activation_3 (Activation)    (None, 2, 15, 15, 128)    0         \n",
            "_________________________________________________________________\n",
            "batch_normalization_3 (Batch (None, 2, 15, 15, 128)    512       \n",
            "_________________________________________________________________\n",
            "max_pooling3d_3 (MaxPooling3 (None, 1, 7, 7, 128)      0         \n",
            "_________________________________________________________________\n",
            "flatten (Flatten)            (None, 6272)              0         \n",
            "_________________________________________________________________\n",
            "dense (Dense)                (None, 64)                401472    \n",
            "_________________________________________________________________\n",
            "batch_normalization_4 (Batch (None, 64)                256       \n",
            "_________________________________________________________________\n",
            "dropout (Dropout)            (None, 64)                0         \n",
            "_________________________________________________________________\n",
            "dense_1 (Dense)              (None, 64)                4160      \n",
            "_________________________________________________________________\n",
            "batch_normalization_5 (Batch (None, 64)                256       \n",
            "_________________________________________________________________\n",
            "dropout_1 (Dropout)          (None, 64)                0         \n",
            "_________________________________________________________________\n",
            "dense_2 (Dense)              (None, 5)                 325       \n",
            "=================================================================\n",
            "Total params: 504,709\n",
            "Trainable params: 503,973\n",
            "Non-trainable params: 736\n",
            "_________________________________________________________________\n"
          ],
          "name": "stdout"
        }
      ]
    },
    {
      "cell_type": "code",
      "metadata": {
        "id": "s63kvjqd3UKl",
        "colab": {
          "base_uri": "https://localhost:8080/"
        },
        "outputId": "07f4e990-aa8d-4a88-e4ee-0bea3d22684c"
      },
      "source": [
        "print(\"Total Params:\", conv_3d7_model.count_params())\n",
        "accuracy_check_model_7=conv_3d7.train_model(conv_3d7_model,augment_data=True)"
      ],
      "execution_count": null,
      "outputs": [
        {
          "output_type": "stream",
          "text": [
            "Total Params: 504709\n",
            "Epoch 1/25\n",
            "34/34 [==============================] - ETA: 0s - batch: 16.5000 - size: 39.0000 - loss: 1.8088 - categorical_accuracy: 0.3552\n",
            "Epoch 00001: saving model to model_init_2021-03-2120_22_03.828042/model-00001-1.80876-0.35520-1.78049-0.21000.h5\n",
            "48\n",
            "34/34 [==============================] - 218s 6s/step - batch: 16.5000 - size: 39.0000 - loss: 1.8088 - categorical_accuracy: 0.3552 - val_loss: 1.7805 - val_categorical_accuracy: 0.2100\n",
            "Epoch 2/25\n",
            "34/34 [==============================] - ETA: 0s - batch: 16.5000 - size: 39.0000 - loss: 1.2407 - categorical_accuracy: 0.5271\n",
            "Epoch 00002: saving model to model_init_2021-03-2120_22_03.828042/model-00002-1.24070-0.52715-2.10200-0.26000.h5\n",
            "0\n",
            "34/34 [==============================] - 200s 6s/step - batch: 16.5000 - size: 39.0000 - loss: 1.2407 - categorical_accuracy: 0.5271 - val_loss: 2.1020 - val_categorical_accuracy: 0.2600\n",
            "Epoch 3/25\n",
            "34/34 [==============================] - ETA: 0s - batch: 16.5000 - size: 39.0000 - loss: 1.0241 - categorical_accuracy: 0.6199\n",
            "Epoch 00003: saving model to model_init_2021-03-2120_22_03.828042/model-00003-1.02409-0.61991-3.34004-0.16000.h5\n",
            "0\n",
            "34/34 [==============================] - 201s 6s/step - batch: 16.5000 - size: 39.0000 - loss: 1.0241 - categorical_accuracy: 0.6199 - val_loss: 3.3400 - val_categorical_accuracy: 0.1600\n",
            "Epoch 4/25\n",
            "34/34 [==============================] - ETA: 0s - batch: 16.5000 - size: 39.0000 - loss: 0.9099 - categorical_accuracy: 0.6606\n",
            "Epoch 00004: saving model to model_init_2021-03-2120_22_03.828042/model-00004-0.90991-0.66063-4.16728-0.15000.h5\n",
            "0\n",
            "34/34 [==============================] - 196s 6s/step - batch: 16.5000 - size: 39.0000 - loss: 0.9099 - categorical_accuracy: 0.6606 - val_loss: 4.1673 - val_categorical_accuracy: 0.1500\n",
            "Epoch 5/25\n",
            "34/34 [==============================] - ETA: 0s - batch: 16.5000 - size: 39.0000 - loss: 0.9270 - categorical_accuracy: 0.6463\n",
            "Epoch 00005: saving model to model_init_2021-03-2120_22_03.828042/model-00005-0.92704-0.64630-4.88268-0.21000.h5\n",
            "\n",
            "Epoch 00005: ReduceLROnPlateau reducing learning rate to 3.9999998989515007e-05.\n",
            "0\n",
            "34/34 [==============================] - 201s 6s/step - batch: 16.5000 - size: 39.0000 - loss: 0.9270 - categorical_accuracy: 0.6463 - val_loss: 4.8827 - val_categorical_accuracy: 0.2100\n",
            "Epoch 6/25\n",
            "34/34 [==============================] - ETA: 0s - batch: 16.5000 - size: 39.0000 - loss: 0.7630 - categorical_accuracy: 0.7014\n",
            "Epoch 00006: saving model to model_init_2021-03-2120_22_03.828042/model-00006-0.76305-0.70136-5.39374-0.20000.h5\n",
            "0\n",
            "34/34 [==============================] - 201s 6s/step - batch: 16.5000 - size: 39.0000 - loss: 0.7630 - categorical_accuracy: 0.7014 - val_loss: 5.3937 - val_categorical_accuracy: 0.2000\n",
            "Epoch 7/25\n",
            "34/34 [==============================] - ETA: 0s - batch: 16.5000 - size: 39.0000 - loss: 0.7314 - categorical_accuracy: 0.7172\n",
            "Epoch 00007: saving model to model_init_2021-03-2120_22_03.828042/model-00007-0.73136-0.71719-5.52321-0.17000.h5\n",
            "0\n",
            "34/34 [==============================] - 203s 6s/step - batch: 16.5000 - size: 39.0000 - loss: 0.7314 - categorical_accuracy: 0.7172 - val_loss: 5.5232 - val_categorical_accuracy: 0.1700\n",
            "Epoch 8/25\n",
            "34/34 [==============================] - ETA: 0s - batch: 16.5000 - size: 39.0000 - loss: 0.7371 - categorical_accuracy: 0.7232\n",
            "Epoch 00008: saving model to model_init_2021-03-2120_22_03.828042/model-00008-0.73705-0.72323-4.79191-0.21000.h5\n",
            "0\n",
            "34/34 [==============================] - 202s 6s/step - batch: 16.5000 - size: 39.0000 - loss: 0.7371 - categorical_accuracy: 0.7232 - val_loss: 4.7919 - val_categorical_accuracy: 0.2100\n",
            "Epoch 9/25\n",
            "34/34 [==============================] - ETA: 0s - batch: 16.5000 - size: 39.0000 - loss: 0.6945 - categorical_accuracy: 0.7262\n",
            "Epoch 00009: saving model to model_init_2021-03-2120_22_03.828042/model-00009-0.69454-0.72624-4.67176-0.19000.h5\n",
            "\n",
            "Epoch 00009: ReduceLROnPlateau reducing learning rate to 7.999999797903002e-06.\n",
            "0\n",
            "34/34 [==============================] - 199s 6s/step - batch: 16.5000 - size: 39.0000 - loss: 0.6945 - categorical_accuracy: 0.7262 - val_loss: 4.6718 - val_categorical_accuracy: 0.1900\n",
            "Epoch 10/25\n",
            "34/34 [==============================] - ETA: 0s - batch: 16.5000 - size: 39.0000 - loss: 0.6287 - categorical_accuracy: 0.7685\n",
            "Epoch 00010: saving model to model_init_2021-03-2120_22_03.828042/model-00010-0.62870-0.76848-4.00296-0.27000.h5\n",
            "0\n",
            "34/34 [==============================] - 202s 6s/step - batch: 16.5000 - size: 39.0000 - loss: 0.6287 - categorical_accuracy: 0.7685 - val_loss: 4.0030 - val_categorical_accuracy: 0.2700\n",
            "Epoch 11/25\n",
            "34/34 [==============================] - ETA: 0s - batch: 16.5000 - size: 39.0000 - loss: 0.6361 - categorical_accuracy: 0.7677\n",
            "Epoch 00011: saving model to model_init_2021-03-2120_22_03.828042/model-00011-0.63607-0.76772-3.64994-0.26000.h5\n",
            "0\n",
            "34/34 [==============================] - 201s 6s/step - batch: 16.5000 - size: 39.0000 - loss: 0.6361 - categorical_accuracy: 0.7677 - val_loss: 3.6499 - val_categorical_accuracy: 0.2600\n",
            "Epoch 12/25\n",
            "34/34 [==============================] - ETA: 0s - batch: 16.5000 - size: 39.0000 - loss: 0.6373 - categorical_accuracy: 0.7632\n",
            "Epoch 00012: saving model to model_init_2021-03-2120_22_03.828042/model-00012-0.63730-0.76320-3.48273-0.27000.h5\n",
            "0\n",
            "34/34 [==============================] - 205s 6s/step - batch: 16.5000 - size: 39.0000 - loss: 0.6373 - categorical_accuracy: 0.7632 - val_loss: 3.4827 - val_categorical_accuracy: 0.2700\n",
            "Epoch 13/25\n",
            "34/34 [==============================] - ETA: 0s - batch: 16.5000 - size: 39.0000 - loss: 0.6784 - categorical_accuracy: 0.7557\n",
            "Epoch 00013: saving model to model_init_2021-03-2120_22_03.828042/model-00013-0.67838-0.75566-3.11802-0.24000.h5\n",
            "\n",
            "Epoch 00013: ReduceLROnPlateau reducing learning rate to 1.5999999959603884e-06.\n",
            "0\n",
            "34/34 [==============================] - 203s 6s/step - batch: 16.5000 - size: 39.0000 - loss: 0.6784 - categorical_accuracy: 0.7557 - val_loss: 3.1180 - val_categorical_accuracy: 0.2400\n",
            "Epoch 14/25\n",
            "34/34 [==============================] - ETA: 0s - batch: 16.5000 - size: 39.0000 - loss: 0.6573 - categorical_accuracy: 0.7624\n",
            "Epoch 00014: saving model to model_init_2021-03-2120_22_03.828042/model-00014-0.65733-0.76244-2.39061-0.34000.h5\n",
            "0\n",
            "34/34 [==============================] - 204s 6s/step - batch: 16.5000 - size: 39.0000 - loss: 0.6573 - categorical_accuracy: 0.7624 - val_loss: 2.3906 - val_categorical_accuracy: 0.3400\n",
            "Epoch 15/25\n",
            "34/34 [==============================] - ETA: 0s - batch: 16.5000 - size: 39.0000 - loss: 0.6612 - categorical_accuracy: 0.7722\n",
            "Epoch 00015: saving model to model_init_2021-03-2120_22_03.828042/model-00015-0.66119-0.77225-2.33457-0.31000.h5\n",
            "0\n",
            "34/34 [==============================] - 203s 6s/step - batch: 16.5000 - size: 39.0000 - loss: 0.6612 - categorical_accuracy: 0.7722 - val_loss: 2.3346 - val_categorical_accuracy: 0.3100\n",
            "Epoch 16/25\n",
            "34/34 [==============================] - ETA: 0s - batch: 16.5000 - size: 39.0000 - loss: 0.6705 - categorical_accuracy: 0.7541\n",
            "Epoch 00016: saving model to model_init_2021-03-2120_22_03.828042/model-00016-0.67050-0.75415-1.87223-0.42000.h5\n",
            "0\n",
            "34/34 [==============================] - 204s 6s/step - batch: 16.5000 - size: 39.0000 - loss: 0.6705 - categorical_accuracy: 0.7541 - val_loss: 1.8722 - val_categorical_accuracy: 0.4200\n",
            "Epoch 17/25\n",
            "34/34 [==============================] - ETA: 0s - batch: 16.5000 - size: 39.0000 - loss: 0.6279 - categorical_accuracy: 0.7640\n",
            "Epoch 00017: saving model to model_init_2021-03-2120_22_03.828042/model-00017-0.62790-0.76395-1.40030-0.55000.h5\n",
            "0\n",
            "34/34 [==============================] - 203s 6s/step - batch: 16.5000 - size: 39.0000 - loss: 0.6279 - categorical_accuracy: 0.7640 - val_loss: 1.4003 - val_categorical_accuracy: 0.5500\n",
            "Epoch 18/25\n",
            "34/34 [==============================] - ETA: 0s - batch: 16.5000 - size: 39.0000 - loss: 0.6342 - categorical_accuracy: 0.7753\n",
            "Epoch 00018: saving model to model_init_2021-03-2120_22_03.828042/model-00018-0.63422-0.77526-1.27584-0.62000.h5\n",
            "0\n",
            "34/34 [==============================] - 201s 6s/step - batch: 16.5000 - size: 39.0000 - loss: 0.6342 - categorical_accuracy: 0.7753 - val_loss: 1.2758 - val_categorical_accuracy: 0.6200\n",
            "Epoch 19/25\n",
            "34/34 [==============================] - ETA: 0s - batch: 16.5000 - size: 39.0000 - loss: 0.6551 - categorical_accuracy: 0.7609\n",
            "Epoch 00019: saving model to model_init_2021-03-2120_22_03.828042/model-00019-0.65512-0.76094-1.24323-0.62000.h5\n",
            "0\n",
            "34/34 [==============================] - 197s 6s/step - batch: 16.5000 - size: 39.0000 - loss: 0.6551 - categorical_accuracy: 0.7609 - val_loss: 1.2432 - val_categorical_accuracy: 0.6200\n",
            "Epoch 20/25\n",
            "34/34 [==============================] - ETA: 0s - batch: 16.5000 - size: 39.0000 - loss: 0.6721 - categorical_accuracy: 0.7700\n",
            "Epoch 00020: saving model to model_init_2021-03-2120_22_03.828042/model-00020-0.67211-0.76998-0.90996-0.67000.h5\n",
            "0\n",
            "34/34 [==============================] - 202s 6s/step - batch: 16.5000 - size: 39.0000 - loss: 0.6721 - categorical_accuracy: 0.7700 - val_loss: 0.9100 - val_categorical_accuracy: 0.6700\n",
            "Epoch 21/25\n",
            "34/34 [==============================] - ETA: 0s - batch: 16.5000 - size: 39.0000 - loss: 0.6274 - categorical_accuracy: 0.7655\n",
            "Epoch 00021: saving model to model_init_2021-03-2120_22_03.828042/model-00021-0.62737-0.76546-0.92349-0.68000.h5\n",
            "0\n",
            "34/34 [==============================] - 204s 6s/step - batch: 16.5000 - size: 39.0000 - loss: 0.6274 - categorical_accuracy: 0.7655 - val_loss: 0.9235 - val_categorical_accuracy: 0.6800\n",
            "Epoch 22/25\n",
            "34/34 [==============================] - ETA: 0s - batch: 16.5000 - size: 39.0000 - loss: 0.6274 - categorical_accuracy: 0.7632\n",
            "Epoch 00022: saving model to model_init_2021-03-2120_22_03.828042/model-00022-0.62740-0.76320-0.84528-0.74000.h5\n",
            "0\n",
            "34/34 [==============================] - 203s 6s/step - batch: 16.5000 - size: 39.0000 - loss: 0.6274 - categorical_accuracy: 0.7632 - val_loss: 0.8453 - val_categorical_accuracy: 0.7400\n",
            "Epoch 23/25\n",
            "34/34 [==============================] - ETA: 0s - batch: 16.5000 - size: 39.0000 - loss: 0.6276 - categorical_accuracy: 0.7722\n",
            "Epoch 00023: saving model to model_init_2021-03-2120_22_03.828042/model-00023-0.62760-0.77225-0.88543-0.72000.h5\n",
            "0\n",
            "34/34 [==============================] - 209s 6s/step - batch: 16.5000 - size: 39.0000 - loss: 0.6276 - categorical_accuracy: 0.7722 - val_loss: 0.8854 - val_categorical_accuracy: 0.7200\n",
            "Epoch 24/25\n",
            "34/34 [==============================] - ETA: 0s - batch: 16.5000 - size: 39.0000 - loss: 0.7121 - categorical_accuracy: 0.7466\n",
            "Epoch 00024: saving model to model_init_2021-03-2120_22_03.828042/model-00024-0.71206-0.74661-0.74182-0.73000.h5\n",
            "0\n",
            "34/34 [==============================] - 197s 6s/step - batch: 16.5000 - size: 39.0000 - loss: 0.7121 - categorical_accuracy: 0.7466 - val_loss: 0.7418 - val_categorical_accuracy: 0.7300\n",
            "Epoch 25/25\n",
            "34/34 [==============================] - ETA: 0s - batch: 16.5000 - size: 39.0000 - loss: 0.6873 - categorical_accuracy: 0.7511\n",
            "Epoch 00025: saving model to model_init_2021-03-2120_22_03.828042/model-00025-0.68730-0.75113-0.85999-0.72000.h5\n",
            "0\n",
            "34/34 [==============================] - 204s 6s/step - batch: 16.5000 - size: 39.0000 - loss: 0.6873 - categorical_accuracy: 0.7511 - val_loss: 0.8600 - val_categorical_accuracy: 0.7200\n"
          ],
          "name": "stdout"
        }
      ]
    },
    {
      "cell_type": "code",
      "metadata": {
        "id": "yBJGgwaa3kOR",
        "colab": {
          "base_uri": "https://localhost:8080/",
          "height": 267
        },
        "outputId": "2fb4e1ea-580d-4df2-f060-dcce9ff04cac"
      },
      "source": [
        "plot(accuracy_check_model_7)"
      ],
      "execution_count": null,
      "outputs": [
        {
          "output_type": "display_data",
          "data": {
            "image/png": "[encoded data removed]",
            "text/plain": [
              "<Figure size 1080x288 with 2 Axes>"
            ]
          },
          "metadata": {
            "tags": [],
            "needs_background": "light"
          }
        }
      ]
    },
    {
      "cell_type": "code",
      "metadata": {
        "id": "0bBbPYK-RgAh"
      },
      "source": [
        "conv_3d7.clear_session(conv_3d7_model)"
      ],
      "execution_count": null,
      "outputs": []
    },
    {
      "cell_type": "markdown",
      "metadata": {
        "id": "4OW55j6S4f5y"
      },
      "source": [
        "## Model 8 - reducing the number of parameters"
      ]
    },
    {
      "cell_type": "code",
      "metadata": {
        "id": "JtU-6-0v4e12"
      },
      "source": [
        "class ModelConv3D8(ModelBuilder):\n",
        "    \n",
        "    def define_model(self,dense_neurons=64,dropout=0.25):\n",
        "\n",
        "        model = Sequential()\n",
        "        model.add(Conv3D(8, (3, 3, 3), padding='same',\n",
        "        input_shape=(self.frames_to_sample,self.image_height,self.image_width,self.channels)))\n",
        "        model.add(Activation('relu'))\n",
        "        model.add(BatchNormalization())\n",
        "        model.add(MaxPooling3D(pool_size=(2, 2, 2)))\n",
        "\n",
        "        model.add(Conv3D(16, (3, 3, 3), padding='same'))\n",
        "        model.add(Activation('relu'))\n",
        "        model.add(BatchNormalization())\n",
        "        model.add(MaxPooling3D(pool_size=(2, 2, 2)))\n",
        "\n",
        "        model.add(Conv3D(32, (2, 2, 2), padding='same'))\n",
        "        model.add(Activation('relu'))\n",
        "        model.add(BatchNormalization())\n",
        "        model.add(MaxPooling3D(pool_size=(2, 2, 2)))\n",
        "\n",
        "        model.add(Conv3D(64, (2, 2, 2), padding='same'))\n",
        "        model.add(Activation('relu'))\n",
        "        model.add(BatchNormalization())\n",
        "        model.add(MaxPooling3D(pool_size=(2, 2, 2)))\n",
        "        \n",
        "        model.add(Flatten())\n",
        "        model.add(Dense(dense_neurons,activation='relu'))\n",
        "        model.add(BatchNormalization())\n",
        "        model.add(Dropout(dropout))\n",
        "\n",
        "        model.add(Dense(dense_neurons,activation='relu'))\n",
        "        model.add(BatchNormalization())\n",
        "        model.add(Dropout(dropout))\n",
        "\n",
        "        model.add(Dense(self.num_classes,activation='softmax'))\n",
        "\n",
        "        optimiser = optimizers.Adam(lr=0.0002)\n",
        "        model.compile(optimizer=optimiser, loss='categorical_crossentropy', metrics=['categorical_accuracy'])\n",
        "        return model"
      ],
      "execution_count": null,
      "outputs": []
    },
    {
      "cell_type": "code",
      "metadata": {
        "id": "BC1Vxikp44zW",
        "colab": {
          "base_uri": "https://localhost:8080/"
        },
        "outputId": "ad6b48fd-5a61-42c2-ca0c-b991cbe09570"
      },
      "source": [
        "conv_3d8=ModelConv3D8()\n",
        "conv_3d8.initialize_src_path(main_folder)\n",
        "conv_3d8.initialize_image_properties(image_height=120,image_width=120)\n",
        "conv_3d8.initialize_hyperparams(frames_to_sample=16,batch_size=20,num_epochs=30)\n",
        "conv_3d8_model=conv_3d8.define_model(dense_neurons=64,dropout=0.25)\n",
        "conv_3d8_model.summary()"
      ],
      "execution_count": null,
      "outputs": [
        {
          "output_type": "stream",
          "text": [
            "Model: \"sequential\"\n",
            "_________________________________________________________________\n",
            "Layer (type)                 Output Shape              Param #   \n",
            "=================================================================\n",
            "conv3d (Conv3D)              (None, 16, 120, 120, 8)   656       \n",
            "_________________________________________________________________\n",
            "activation (Activation)      (None, 16, 120, 120, 8)   0         \n",
            "_________________________________________________________________\n",
            "batch_normalization (BatchNo (None, 16, 120, 120, 8)   32        \n",
            "_________________________________________________________________\n",
            "max_pooling3d (MaxPooling3D) (None, 8, 60, 60, 8)      0         \n",
            "_________________________________________________________________\n",
            "conv3d_1 (Conv3D)            (None, 8, 60, 60, 16)     3472      \n",
            "_________________________________________________________________\n",
            "activation_1 (Activation)    (None, 8, 60, 60, 16)     0         \n",
            "_________________________________________________________________\n",
            "batch_normalization_1 (Batch (None, 8, 60, 60, 16)     64        \n",
            "_________________________________________________________________\n",
            "max_pooling3d_1 (MaxPooling3 (None, 4, 30, 30, 16)     0         \n",
            "_________________________________________________________________\n",
            "conv3d_2 (Conv3D)            (None, 4, 30, 30, 32)     4128      \n",
            "_________________________________________________________________\n",
            "activation_2 (Activation)    (None, 4, 30, 30, 32)     0         \n",
            "_________________________________________________________________\n",
            "batch_normalization_2 (Batch (None, 4, 30, 30, 32)     128       \n",
            "_________________________________________________________________\n",
            "max_pooling3d_2 (MaxPooling3 (None, 2, 15, 15, 32)     0         \n",
            "_________________________________________________________________\n",
            "conv3d_3 (Conv3D)            (None, 2, 15, 15, 64)     16448     \n",
            "_________________________________________________________________\n",
            "activation_3 (Activation)    (None, 2, 15, 15, 64)     0         \n",
            "_________________________________________________________________\n",
            "batch_normalization_3 (Batch (None, 2, 15, 15, 64)     256       \n",
            "_________________________________________________________________\n",
            "max_pooling3d_3 (MaxPooling3 (None, 1, 7, 7, 64)       0         \n",
            "_________________________________________________________________\n",
            "flatten (Flatten)            (None, 3136)              0         \n",
            "_________________________________________________________________\n",
            "dense (Dense)                (None, 64)                200768    \n",
            "_________________________________________________________________\n",
            "batch_normalization_4 (Batch (None, 64)                256       \n",
            "_________________________________________________________________\n",
            "dropout (Dropout)            (None, 64)                0         \n",
            "_________________________________________________________________\n",
            "dense_1 (Dense)              (None, 64)                4160      \n",
            "_________________________________________________________________\n",
            "batch_normalization_5 (Batch (None, 64)                256       \n",
            "_________________________________________________________________\n",
            "dropout_1 (Dropout)          (None, 64)                0         \n",
            "_________________________________________________________________\n",
            "dense_2 (Dense)              (None, 5)                 325       \n",
            "=================================================================\n",
            "Total params: 230,949\n",
            "Trainable params: 230,453\n",
            "Non-trainable params: 496\n",
            "_________________________________________________________________\n"
          ],
          "name": "stdout"
        }
      ]
    },
    {
      "cell_type": "code",
      "metadata": {
        "id": "oikZb8Ij5DNw",
        "colab": {
          "base_uri": "https://localhost:8080/"
        },
        "outputId": "ab6b0aed-2b72-4398-b52d-3bd345cbc0af"
      },
      "source": [
        "print(\"Total Params:\", conv_3d8_model.count_params())\n",
        "accuracy_check_model_8=conv_3d8.train_model(conv_3d8_model,augment_data=True)"
      ],
      "execution_count": null,
      "outputs": [
        {
          "output_type": "stream",
          "text": [
            "Total Params: 230949\n",
            "Epoch 1/30\n",
            "34/34 [==============================] - ETA: 0s - batch: 16.5000 - size: 39.0000 - loss: 2.0178 - categorical_accuracy: 0.2790\n",
            "Epoch 00001: saving model to model_init_2021-03-2202_13_08.529389/model-00001-2.01784-0.27903-1.84122-0.16000.h5\n",
            "0\n",
            "34/34 [==============================] - 224s 6s/step - batch: 16.5000 - size: 39.0000 - loss: 2.0178 - categorical_accuracy: 0.2790 - val_loss: 1.8412 - val_categorical_accuracy: 0.1600\n",
            "Epoch 2/30\n",
            "34/34 [==============================] - ETA: 0s - batch: 16.5000 - size: 39.0000 - loss: 1.6032 - categorical_accuracy: 0.4110\n",
            "Epoch 00002: saving model to model_init_2021-03-2202_13_08.529389/model-00002-1.60321-0.41101-2.54602-0.16000.h5\n",
            "0\n",
            "34/34 [==============================] - 203s 6s/step - batch: 16.5000 - size: 39.0000 - loss: 1.6032 - categorical_accuracy: 0.4110 - val_loss: 2.5460 - val_categorical_accuracy: 0.1600\n",
            "Epoch 3/30\n",
            "34/34 [==============================] - ETA: 0s - batch: 16.5000 - size: 39.0000 - loss: 1.2986 - categorical_accuracy: 0.5045\n",
            "Epoch 00003: saving model to model_init_2021-03-2202_13_08.529389/model-00003-1.29860-0.50452-3.46659-0.15000.h5\n",
            "0\n",
            "34/34 [==============================] - 204s 6s/step - batch: 16.5000 - size: 39.0000 - loss: 1.2986 - categorical_accuracy: 0.5045 - val_loss: 3.4666 - val_categorical_accuracy: 0.1500\n",
            "Epoch 4/30\n",
            "34/34 [==============================] - ETA: 0s - batch: 16.5000 - size: 39.0000 - loss: 1.2496 - categorical_accuracy: 0.5241\n",
            "Epoch 00004: saving model to model_init_2021-03-2202_13_08.529389/model-00004-1.24957-0.52413-3.94289-0.17000.h5\n",
            "0\n",
            "34/34 [==============================] - 205s 6s/step - batch: 16.5000 - size: 39.0000 - loss: 1.2496 - categorical_accuracy: 0.5241 - val_loss: 3.9429 - val_categorical_accuracy: 0.1700\n",
            "Epoch 5/30\n",
            "34/34 [==============================] - ETA: 0s - batch: 16.5000 - size: 39.0000 - loss: 1.1404 - categorical_accuracy: 0.5739\n",
            "Epoch 00005: saving model to model_init_2021-03-2202_13_08.529389/model-00005-1.14036-0.57391-4.83859-0.17000.h5\n",
            "\n",
            "Epoch 00005: ReduceLROnPlateau reducing learning rate to 3.9999998989515007e-05.\n",
            "0\n",
            "34/34 [==============================] - 207s 6s/step - batch: 16.5000 - size: 39.0000 - loss: 1.1404 - categorical_accuracy: 0.5739 - val_loss: 4.8386 - val_categorical_accuracy: 0.1700\n",
            "Epoch 6/30\n",
            "34/34 [==============================] - ETA: 0s - batch: 16.5000 - size: 39.0000 - loss: 1.0745 - categorical_accuracy: 0.5973\n",
            "Epoch 00006: saving model to model_init_2021-03-2202_13_08.529389/model-00006-1.07454-0.59729-5.39910-0.16000.h5\n",
            "0\n",
            "34/34 [==============================] - 199s 6s/step - batch: 16.5000 - size: 39.0000 - loss: 1.0745 - categorical_accuracy: 0.5973 - val_loss: 5.3991 - val_categorical_accuracy: 0.1600\n",
            "Epoch 7/30\n",
            "34/34 [==============================] - ETA: 0s - batch: 16.5000 - size: 39.0000 - loss: 1.0927 - categorical_accuracy: 0.5950\n",
            "Epoch 00007: saving model to model_init_2021-03-2202_13_08.529389/model-00007-1.09268-0.59502-5.38840-0.14000.h5\n",
            "0\n",
            "34/34 [==============================] - 201s 6s/step - batch: 16.5000 - size: 39.0000 - loss: 1.0927 - categorical_accuracy: 0.5950 - val_loss: 5.3884 - val_categorical_accuracy: 0.1400\n",
            "Epoch 8/30\n",
            "34/34 [==============================] - ETA: 0s - batch: 16.5000 - size: 39.0000 - loss: 1.0005 - categorical_accuracy: 0.6176\n",
            "Epoch 00008: saving model to model_init_2021-03-2202_13_08.529389/model-00008-1.00050-0.61765-5.45904-0.21000.h5\n",
            "0\n",
            "34/34 [==============================] - 202s 6s/step - batch: 16.5000 - size: 39.0000 - loss: 1.0005 - categorical_accuracy: 0.6176 - val_loss: 5.4590 - val_categorical_accuracy: 0.2100\n",
            "Epoch 9/30\n",
            "34/34 [==============================] - ETA: 0s - batch: 16.5000 - size: 39.0000 - loss: 0.9820 - categorical_accuracy: 0.6290\n",
            "Epoch 00009: saving model to model_init_2021-03-2202_13_08.529389/model-00009-0.98204-0.62896-5.02451-0.14000.h5\n",
            "\n",
            "Epoch 00009: ReduceLROnPlateau reducing learning rate to 7.999999797903002e-06.\n",
            "0\n",
            "34/34 [==============================] - 197s 6s/step - batch: 16.5000 - size: 39.0000 - loss: 0.9820 - categorical_accuracy: 0.6290 - val_loss: 5.0245 - val_categorical_accuracy: 0.1400\n",
            "Epoch 10/30\n",
            "34/34 [==============================] - ETA: 0s - batch: 16.5000 - size: 39.0000 - loss: 0.9364 - categorical_accuracy: 0.6456\n",
            "Epoch 00010: saving model to model_init_2021-03-2202_13_08.529389/model-00010-0.93636-0.64555-4.41862-0.18000.h5\n",
            "0\n",
            "34/34 [==============================] - 202s 6s/step - batch: 16.5000 - size: 39.0000 - loss: 0.9364 - categorical_accuracy: 0.6456 - val_loss: 4.4186 - val_categorical_accuracy: 0.1800\n",
            "Epoch 11/30\n",
            "34/34 [==============================] - ETA: 0s - batch: 16.5000 - size: 39.0000 - loss: 1.0188 - categorical_accuracy: 0.6259\n",
            "Epoch 00011: saving model to model_init_2021-03-2202_13_08.529389/model-00011-1.01883-0.62594-4.13126-0.16000.h5\n",
            "0\n",
            "34/34 [==============================] - 201s 6s/step - batch: 16.5000 - size: 39.0000 - loss: 1.0188 - categorical_accuracy: 0.6259 - val_loss: 4.1313 - val_categorical_accuracy: 0.1600\n",
            "Epoch 12/30\n",
            "34/34 [==============================] - ETA: 0s - batch: 16.5000 - size: 39.0000 - loss: 1.0129 - categorical_accuracy: 0.6373\n",
            "Epoch 00012: saving model to model_init_2021-03-2202_13_08.529389/model-00012-1.01289-0.63725-3.79203-0.16000.h5\n",
            "0\n",
            "34/34 [==============================] - 199s 6s/step - batch: 16.5000 - size: 39.0000 - loss: 1.0129 - categorical_accuracy: 0.6373 - val_loss: 3.7920 - val_categorical_accuracy: 0.1600\n",
            "Epoch 13/30\n",
            "34/34 [==============================] - ETA: 0s - batch: 16.5000 - size: 39.0000 - loss: 0.9537 - categorical_accuracy: 0.6290\n",
            "Epoch 00013: saving model to model_init_2021-03-2202_13_08.529389/model-00013-0.95366-0.62896-3.03923-0.27000.h5\n",
            "\n",
            "Epoch 00013: ReduceLROnPlateau reducing learning rate to 1.5999999959603884e-06.\n",
            "0\n",
            "34/34 [==============================] - 206s 6s/step - batch: 16.5000 - size: 39.0000 - loss: 0.9537 - categorical_accuracy: 0.6290 - val_loss: 3.0392 - val_categorical_accuracy: 0.2700\n",
            "Epoch 14/30\n",
            "34/34 [==============================] - ETA: 0s - batch: 16.5000 - size: 39.0000 - loss: 0.9350 - categorical_accuracy: 0.6576\n",
            "Epoch 00014: saving model to model_init_2021-03-2202_13_08.529389/model-00014-0.93498-0.65762-2.46055-0.25000.h5\n",
            "0\n",
            "34/34 [==============================] - 199s 6s/step - batch: 16.5000 - size: 39.0000 - loss: 0.9350 - categorical_accuracy: 0.6576 - val_loss: 2.4605 - val_categorical_accuracy: 0.2500\n",
            "Epoch 15/30\n",
            "34/34 [==============================] - ETA: 0s - batch: 16.5000 - size: 39.0000 - loss: 0.9490 - categorical_accuracy: 0.6418\n",
            "Epoch 00015: saving model to model_init_2021-03-2202_13_08.529389/model-00015-0.94904-0.64178-2.45048-0.26000.h5\n",
            "0\n",
            "34/34 [==============================] - 203s 6s/step - batch: 16.5000 - size: 39.0000 - loss: 0.9490 - categorical_accuracy: 0.6418 - val_loss: 2.4505 - val_categorical_accuracy: 0.2600\n",
            "Epoch 16/30\n",
            "34/34 [==============================] - ETA: 0s - batch: 16.5000 - size: 39.0000 - loss: 0.9386 - categorical_accuracy: 0.6433\n",
            "Epoch 00016: saving model to model_init_2021-03-2202_13_08.529389/model-00016-0.93856-0.64329-2.03678-0.28000.h5\n",
            "0\n",
            "34/34 [==============================] - 199s 6s/step - batch: 16.5000 - size: 39.0000 - loss: 0.9386 - categorical_accuracy: 0.6433 - val_loss: 2.0368 - val_categorical_accuracy: 0.2800\n",
            "Epoch 17/30\n",
            "34/34 [==============================] - ETA: 0s - batch: 16.5000 - size: 39.0000 - loss: 0.9756 - categorical_accuracy: 0.6342\n",
            "Epoch 00017: saving model to model_init_2021-03-2202_13_08.529389/model-00017-0.97565-0.63424-1.79096-0.27000.h5\n",
            "0\n",
            "34/34 [==============================] - 199s 6s/step - batch: 16.5000 - size: 39.0000 - loss: 0.9756 - categorical_accuracy: 0.6342 - val_loss: 1.7910 - val_categorical_accuracy: 0.2700\n",
            "Epoch 18/30\n",
            "34/34 [==============================] - ETA: 0s - batch: 16.5000 - size: 39.0000 - loss: 0.9015 - categorical_accuracy: 0.6508\n",
            "Epoch 00018: saving model to model_init_2021-03-2202_13_08.529389/model-00018-0.90154-0.65083-1.64202-0.42000.h5\n",
            "0\n",
            "34/34 [==============================] - 200s 6s/step - batch: 16.5000 - size: 39.0000 - loss: 0.9015 - categorical_accuracy: 0.6508 - val_loss: 1.6420 - val_categorical_accuracy: 0.4200\n",
            "Epoch 19/30\n",
            "34/34 [==============================] - ETA: 0s - batch: 16.5000 - size: 39.0000 - loss: 0.9521 - categorical_accuracy: 0.6425\n",
            "Epoch 00019: saving model to model_init_2021-03-2202_13_08.529389/model-00019-0.95208-0.64253-1.66058-0.39000.h5\n",
            "0\n",
            "34/34 [==============================] - 204s 6s/step - batch: 16.5000 - size: 39.0000 - loss: 0.9521 - categorical_accuracy: 0.6425 - val_loss: 1.6606 - val_categorical_accuracy: 0.3900\n",
            "Epoch 20/30\n",
            "34/34 [==============================] - ETA: 0s - batch: 16.5000 - size: 39.0000 - loss: 0.9402 - categorical_accuracy: 0.6433\n",
            "Epoch 00020: saving model to model_init_2021-03-2202_13_08.529389/model-00020-0.94024-0.64329-1.23756-0.55000.h5\n",
            "0\n",
            "34/34 [==============================] - 198s 6s/step - batch: 16.5000 - size: 39.0000 - loss: 0.9402 - categorical_accuracy: 0.6433 - val_loss: 1.2376 - val_categorical_accuracy: 0.5500\n",
            "Epoch 21/30\n",
            "34/34 [==============================] - ETA: 0s - batch: 16.5000 - size: 39.0000 - loss: 0.9249 - categorical_accuracy: 0.6576\n",
            "Epoch 00021: saving model to model_init_2021-03-2202_13_08.529389/model-00021-0.92491-0.65762-1.32030-0.50000.h5\n",
            "0\n",
            "34/34 [==============================] - 201s 6s/step - batch: 16.5000 - size: 39.0000 - loss: 0.9249 - categorical_accuracy: 0.6576 - val_loss: 1.3203 - val_categorical_accuracy: 0.5000\n",
            "Epoch 22/30\n",
            "34/34 [==============================] - ETA: 0s - batch: 16.5000 - size: 39.0000 - loss: 0.9825 - categorical_accuracy: 0.6388\n",
            "Epoch 00022: saving model to model_init_2021-03-2202_13_08.529389/model-00022-0.98245-0.63876-1.23170-0.54000.h5\n",
            "0\n",
            "34/34 [==============================] - 200s 6s/step - batch: 16.5000 - size: 39.0000 - loss: 0.9825 - categorical_accuracy: 0.6388 - val_loss: 1.2317 - val_categorical_accuracy: 0.5400\n",
            "Epoch 23/30\n",
            "34/34 [==============================] - ETA: 0s - batch: 16.5000 - size: 39.0000 - loss: 0.9685 - categorical_accuracy: 0.6184\n",
            "Epoch 00023: saving model to model_init_2021-03-2202_13_08.529389/model-00023-0.96852-0.61840-1.07471-0.54000.h5\n",
            "0\n",
            "34/34 [==============================] - 200s 6s/step - batch: 16.5000 - size: 39.0000 - loss: 0.9685 - categorical_accuracy: 0.6184 - val_loss: 1.0747 - val_categorical_accuracy: 0.5400\n",
            "Epoch 24/30\n",
            "34/34 [==============================] - ETA: 0s - batch: 16.5000 - size: 39.0000 - loss: 0.9771 - categorical_accuracy: 0.6388\n",
            "Epoch 00024: saving model to model_init_2021-03-2202_13_08.529389/model-00024-0.97712-0.63876-1.20330-0.49000.h5\n",
            "0\n",
            "34/34 [==============================] - 200s 6s/step - batch: 16.5000 - size: 39.0000 - loss: 0.9771 - categorical_accuracy: 0.6388 - val_loss: 1.2033 - val_categorical_accuracy: 0.4900\n",
            "Epoch 25/30\n",
            "34/34 [==============================] - ETA: 0s - batch: 16.5000 - size: 39.0000 - loss: 0.9833 - categorical_accuracy: 0.6267\n",
            "Epoch 00025: saving model to model_init_2021-03-2202_13_08.529389/model-00025-0.98325-0.62670-1.22181-0.50000.h5\n",
            "0\n",
            "34/34 [==============================] - 201s 6s/step - batch: 16.5000 - size: 39.0000 - loss: 0.9833 - categorical_accuracy: 0.6267 - val_loss: 1.2218 - val_categorical_accuracy: 0.5000\n",
            "Epoch 26/30\n",
            "34/34 [==============================] - ETA: 0s - batch: 16.5000 - size: 39.0000 - loss: 0.9468 - categorical_accuracy: 0.6282\n",
            "Epoch 00026: saving model to model_init_2021-03-2202_13_08.529389/model-00026-0.94680-0.62821-1.10317-0.54000.h5\n",
            "0\n",
            "34/34 [==============================] - 199s 6s/step - batch: 16.5000 - size: 39.0000 - loss: 0.9468 - categorical_accuracy: 0.6282 - val_loss: 1.1032 - val_categorical_accuracy: 0.5400\n",
            "Epoch 27/30\n",
            "34/34 [==============================] - ETA: 0s - batch: 16.5000 - size: 39.0000 - loss: 0.9733 - categorical_accuracy: 0.6312\n",
            "Epoch 00027: saving model to model_init_2021-03-2202_13_08.529389/model-00027-0.97326-0.63122-1.00677-0.61000.h5\n",
            "0\n",
            "34/34 [==============================] - 200s 6s/step - batch: 16.5000 - size: 39.0000 - loss: 0.9733 - categorical_accuracy: 0.6312 - val_loss: 1.0068 - val_categorical_accuracy: 0.6100\n",
            "Epoch 28/30\n",
            "34/34 [==============================] - ETA: 0s - batch: 16.5000 - size: 39.0000 - loss: 0.9481 - categorical_accuracy: 0.6290\n",
            "Epoch 00028: saving model to model_init_2021-03-2202_13_08.529389/model-00028-0.94809-0.62896-1.12363-0.54000.h5\n",
            "0\n",
            "34/34 [==============================] - 202s 6s/step - batch: 16.5000 - size: 39.0000 - loss: 0.9481 - categorical_accuracy: 0.6290 - val_loss: 1.1236 - val_categorical_accuracy: 0.5400\n",
            "Epoch 29/30\n",
            "34/34 [==============================] - ETA: 0s - batch: 16.5000 - size: 39.0000 - loss: 0.9714 - categorical_accuracy: 0.6478\n",
            "Epoch 00029: saving model to model_init_2021-03-2202_13_08.529389/model-00029-0.97136-0.64781-0.99262-0.59000.h5\n",
            "0\n",
            "34/34 [==============================] - 198s 6s/step - batch: 16.5000 - size: 39.0000 - loss: 0.9714 - categorical_accuracy: 0.6478 - val_loss: 0.9926 - val_categorical_accuracy: 0.5900\n",
            "Epoch 30/30\n",
            "34/34 [==============================] - ETA: 0s - batch: 16.5000 - size: 39.0000 - loss: 0.9591 - categorical_accuracy: 0.6365\n",
            "Epoch 00030: saving model to model_init_2021-03-2202_13_08.529389/model-00030-0.95908-0.63650-1.09500-0.52000.h5\n",
            "0\n",
            "34/34 [==============================] - 200s 6s/step - batch: 16.5000 - size: 39.0000 - loss: 0.9591 - categorical_accuracy: 0.6365 - val_loss: 1.0950 - val_categorical_accuracy: 0.5200\n"
          ],
          "name": "stdout"
        }
      ]
    },
    {
      "cell_type": "code",
      "metadata": {
        "id": "ds6Ddq2y5SsD",
        "colab": {
          "base_uri": "https://localhost:8080/",
          "height": 265
        },
        "outputId": "c1c65f0a-f0ee-4233-df3c-f3d77c83e3e9"
      },
      "source": [
        "plot(accuracy_check_model_8)"
      ],
      "execution_count": null,
      "outputs": [
        {
          "output_type": "display_data",
          "data": {
            "image/png": "[encoded data removed]",
            "text/plain": [
              "<Figure size 1080x288 with 2 Axes>"
            ]
          },
          "metadata": {
            "tags": [],
            "needs_background": "light"
          }
        }
      ]
    },
    {
      "cell_type": "code",
      "metadata": {
        "id": "Bq14-oPeXfA9"
      },
      "source": [
        "conv_3d8.clear_session(conv_3d8_model)"
      ],
      "execution_count": null,
      "outputs": []
    },
    {
      "cell_type": "markdown",
      "metadata": {
        "id": "iGRwZahyW2aW"
      },
      "source": [
        "## Model 9 - CNN- LSTM Model"
      ]
    },
    {
      "cell_type": "code",
      "metadata": {
        "id": "FuOHUaOhW0gJ"
      },
      "source": [
        "class CNNRNN1(ModelBuilder):\n",
        "    \n",
        "    def define_model(self,lstm_cells=64,dense_neurons=64,dropout=0.25):\n",
        "\n",
        "        model = Sequential()\n",
        "\n",
        "        model.add(TimeDistributed(Conv2D(16, (3, 3) , padding='same', activation='relu'),\n",
        "        input_shape=(self.frames_to_sample,self.image_height,self.image_width,self.channels)))\n",
        "        model.add(TimeDistributed(BatchNormalization()))\n",
        "        model.add(TimeDistributed(MaxPooling2D((2, 2))))\n",
        "        \n",
        "        model.add(TimeDistributed(Conv2D(32, (3, 3) , padding='same', activation='relu')))\n",
        "        model.add(TimeDistributed(BatchNormalization()))\n",
        "        model.add(TimeDistributed(MaxPooling2D((2, 2))))\n",
        "        \n",
        "        model.add(TimeDistributed(Conv2D(64, (3, 3) , padding='same', activation='relu')))\n",
        "        model.add(TimeDistributed(BatchNormalization()))\n",
        "        model.add(TimeDistributed(MaxPooling2D((2, 2))))\n",
        "        \n",
        "        model.add(TimeDistributed(Conv2D(128, (3, 3) , padding='same', activation='relu')))\n",
        "        model.add(TimeDistributed(BatchNormalization()))\n",
        "        model.add(TimeDistributed(MaxPooling2D((2, 2))))\n",
        "        \n",
        "        model.add(TimeDistributed(Conv2D(256, (3, 3) , padding='same', activation='relu')))\n",
        "        model.add(TimeDistributed(BatchNormalization()))\n",
        "        model.add(TimeDistributed(MaxPooling2D((2, 2))))\n",
        "        \n",
        "        model.add(TimeDistributed(Flatten()))\n",
        "\n",
        "\n",
        "        model.add(LSTM(lstm_cells))\n",
        "        model.add(Dropout(dropout))\n",
        "        \n",
        "        model.add(Dense(dense_neurons,activation='relu'))\n",
        "        model.add(Dropout(dropout))\n",
        "        \n",
        "        model.add(Dense(self.num_classes, activation='softmax'))\n",
        "        optimiser = optimizers.Adam()\n",
        "        model.compile(optimizer=optimiser, loss='categorical_crossentropy', metrics=['categorical_accuracy'])\n",
        "        return model"
      ],
      "execution_count": null,
      "outputs": []
    },
    {
      "cell_type": "code",
      "metadata": {
        "id": "HCoDy3FXXJj4",
        "colab": {
          "base_uri": "https://localhost:8080/"
        },
        "outputId": "8cccf972-2d3b-4b87-dc77-e0a980640fbb"
      },
      "source": [
        "cnn_rnn1=CNNRNN1()\n",
        "cnn_rnn1.initialize_src_path(main_folder)\n",
        "cnn_rnn1.initialize_image_properties(image_height=120,image_width=120)\n",
        "cnn_rnn1.initialize_hyperparams(frames_to_sample=18,batch_size=20,num_epochs=20)\n",
        "cnn_rnn1_model=cnn_rnn1.define_model(lstm_cells=128,dense_neurons=128,dropout=0.25)\n",
        "cnn_rnn1_model.summary()"
      ],
      "execution_count": null,
      "outputs": [
        {
          "output_type": "stream",
          "text": [
            "WARNING:tensorflow:Layer lstm will not use cuDNN kernel since it doesn't meet the cuDNN kernel criteria. It will use generic GPU kernel as fallback when running on GPU\n",
            "Model: \"sequential\"\n",
            "_________________________________________________________________\n",
            "Layer (type)                 Output Shape              Param #   \n",
            "=================================================================\n",
            "time_distributed (TimeDistri (None, 18, 120, 120, 16)  448       \n",
            "_________________________________________________________________\n",
            "time_distributed_1 (TimeDist (None, 18, 120, 120, 16)  64        \n",
            "_________________________________________________________________\n",
            "time_distributed_2 (TimeDist (None, 18, 60, 60, 16)    0         \n",
            "_________________________________________________________________\n",
            "time_distributed_3 (TimeDist (None, 18, 60, 60, 32)    4640      \n",
            "_________________________________________________________________\n",
            "time_distributed_4 (TimeDist (None, 18, 60, 60, 32)    128       \n",
            "_________________________________________________________________\n",
            "time_distributed_5 (TimeDist (None, 18, 30, 30, 32)    0         \n",
            "_________________________________________________________________\n",
            "time_distributed_6 (TimeDist (None, 18, 30, 30, 64)    18496     \n",
            "_________________________________________________________________\n",
            "time_distributed_7 (TimeDist (None, 18, 30, 30, 64)    256       \n",
            "_________________________________________________________________\n",
            "time_distributed_8 (TimeDist (None, 18, 15, 15, 64)    0         \n",
            "_________________________________________________________________\n",
            "time_distributed_9 (TimeDist (None, 18, 15, 15, 128)   73856     \n",
            "_________________________________________________________________\n",
            "time_distributed_10 (TimeDis (None, 18, 15, 15, 128)   512       \n",
            "_________________________________________________________________\n",
            "time_distributed_11 (TimeDis (None, 18, 7, 7, 128)     0         \n",
            "_________________________________________________________________\n",
            "time_distributed_12 (TimeDis (None, 18, 7, 7, 256)     295168    \n",
            "_________________________________________________________________\n",
            "time_distributed_13 (TimeDis (None, 18, 7, 7, 256)     1024      \n",
            "_________________________________________________________________\n",
            "time_distributed_14 (TimeDis (None, 18, 3, 3, 256)     0         \n",
            "_________________________________________________________________\n",
            "time_distributed_15 (TimeDis (None, 18, 2304)          0         \n",
            "_________________________________________________________________\n",
            "lstm (LSTM)                  (None, 128)               1245696   \n",
            "_________________________________________________________________\n",
            "dropout (Dropout)            (None, 128)               0         \n",
            "_________________________________________________________________\n",
            "dense (Dense)                (None, 128)               16512     \n",
            "_________________________________________________________________\n",
            "dropout_1 (Dropout)          (None, 128)               0         \n",
            "_________________________________________________________________\n",
            "dense_1 (Dense)              (None, 5)                 645       \n",
            "=================================================================\n",
            "Total params: 1,657,445\n",
            "Trainable params: 1,656,453\n",
            "Non-trainable params: 992\n",
            "_________________________________________________________________\n"
          ],
          "name": "stdout"
        }
      ]
    },
    {
      "cell_type": "code",
      "metadata": {
        "id": "2-t4EsndXVii",
        "colab": {
          "base_uri": "https://localhost:8080/"
        },
        "outputId": "a2b55d78-bc2e-4356-ef1b-936ab87f3b74"
      },
      "source": [
        "print(\"Total Params:\", cnn_rnn1_model.count_params())\n",
        "accuracy_check_model_9=cnn_rnn1.train_model(cnn_rnn1_model,augment_data=True)"
      ],
      "execution_count": null,
      "outputs": [
        {
          "output_type": "stream",
          "text": [
            "Total Params: 1657445\n",
            "Epoch 1/20\n",
            "34/34 [==============================] - ETA: 0s - batch: 16.5000 - size: 39.0000 - loss: 1.3910 - categorical_accuracy: 0.3997\n",
            "Epoch 00001: saving model to model_init_2021-03-2203_54_11.404024/model-00001-1.39095-0.39970-2.13202-0.21000.h5\n",
            "0\n",
            "34/34 [==============================] - 242s 7s/step - batch: 16.5000 - size: 39.0000 - loss: 1.3910 - categorical_accuracy: 0.3997 - val_loss: 2.1320 - val_categorical_accuracy: 0.2100\n",
            "Epoch 2/20\n",
            "34/34 [==============================] - ETA: 0s - batch: 16.5000 - size: 39.0000 - loss: 1.1217 - categorical_accuracy: 0.5136\n",
            "Epoch 00002: saving model to model_init_2021-03-2203_54_11.404024/model-00002-1.12174-0.51357-2.76224-0.20000.h5\n",
            "0\n",
            "34/34 [==============================] - 220s 7s/step - batch: 16.5000 - size: 39.0000 - loss: 1.1217 - categorical_accuracy: 0.5136 - val_loss: 2.7622 - val_categorical_accuracy: 0.2000\n",
            "Epoch 3/20\n",
            "34/34 [==============================] - ETA: 0s - batch: 16.5000 - size: 39.0000 - loss: 1.0180 - categorical_accuracy: 0.5845\n",
            "Epoch 00003: saving model to model_init_2021-03-2203_54_11.404024/model-00003-1.01802-0.58446-3.07006-0.19000.h5\n",
            "0\n",
            "34/34 [==============================] - 221s 7s/step - batch: 16.5000 - size: 39.0000 - loss: 1.0180 - categorical_accuracy: 0.5845 - val_loss: 3.0701 - val_categorical_accuracy: 0.1900\n",
            "Epoch 4/20\n",
            "34/34 [==============================] - ETA: 0s - batch: 16.5000 - size: 39.0000 - loss: 0.9809 - categorical_accuracy: 0.6229\n",
            "Epoch 00004: saving model to model_init_2021-03-2203_54_11.404024/model-00004-0.98089-0.62293-2.84769-0.20000.h5\n",
            "0\n",
            "34/34 [==============================] - 220s 7s/step - batch: 16.5000 - size: 39.0000 - loss: 0.9809 - categorical_accuracy: 0.6229 - val_loss: 2.8477 - val_categorical_accuracy: 0.2000\n",
            "Epoch 5/20\n",
            "34/34 [==============================] - ETA: 0s - batch: 16.5000 - size: 39.0000 - loss: 0.8416 - categorical_accuracy: 0.6682\n",
            "Epoch 00005: saving model to model_init_2021-03-2203_54_11.404024/model-00005-0.84156-0.66817-2.73896-0.24000.h5\n",
            "\n",
            "Epoch 00005: ReduceLROnPlateau reducing learning rate to 0.00020000000949949026.\n",
            "0\n",
            "34/34 [==============================] - 221s 7s/step - batch: 16.5000 - size: 39.0000 - loss: 0.8416 - categorical_accuracy: 0.6682 - val_loss: 2.7390 - val_categorical_accuracy: 0.2400\n",
            "Epoch 6/20\n",
            "34/34 [==============================] - ETA: 0s - batch: 16.5000 - size: 39.0000 - loss: 0.6480 - categorical_accuracy: 0.7466\n",
            "Epoch 00006: saving model to model_init_2021-03-2203_54_11.404024/model-00006-0.64800-0.74661-2.65943-0.26000.h5\n",
            "0\n",
            "34/34 [==============================] - 219s 7s/step - batch: 16.5000 - size: 39.0000 - loss: 0.6480 - categorical_accuracy: 0.7466 - val_loss: 2.6594 - val_categorical_accuracy: 0.2600\n",
            "Epoch 7/20\n",
            "34/34 [==============================] - ETA: 0s - batch: 16.5000 - size: 39.0000 - loss: 0.5680 - categorical_accuracy: 0.7941\n",
            "Epoch 00007: saving model to model_init_2021-03-2203_54_11.404024/model-00007-0.56800-0.79412-2.54630-0.29000.h5\n",
            "0\n",
            "34/34 [==============================] - 219s 7s/step - batch: 16.5000 - size: 39.0000 - loss: 0.5680 - categorical_accuracy: 0.7941 - val_loss: 2.5463 - val_categorical_accuracy: 0.2900\n",
            "Epoch 8/20\n",
            "34/34 [==============================] - ETA: 0s - batch: 16.5000 - size: 39.0000 - loss: 0.5245 - categorical_accuracy: 0.8032\n",
            "Epoch 00008: saving model to model_init_2021-03-2203_54_11.404024/model-00008-0.52450-0.80317-2.48985-0.33000.h5\n",
            "0\n",
            "34/34 [==============================] - 221s 7s/step - batch: 16.5000 - size: 39.0000 - loss: 0.5245 - categorical_accuracy: 0.8032 - val_loss: 2.4898 - val_categorical_accuracy: 0.3300\n",
            "Epoch 9/20\n",
            "34/34 [==============================] - ETA: 0s - batch: 16.5000 - size: 39.0000 - loss: 0.4721 - categorical_accuracy: 0.8401\n",
            "Epoch 00009: saving model to model_init_2021-03-2203_54_11.404024/model-00009-0.47207-0.84012-2.50232-0.34000.h5\n",
            "\n",
            "Epoch 00009: ReduceLROnPlateau reducing learning rate to 4.0000001899898055e-05.\n",
            "0\n",
            "34/34 [==============================] - 217s 7s/step - batch: 16.5000 - size: 39.0000 - loss: 0.4721 - categorical_accuracy: 0.8401 - val_loss: 2.5023 - val_categorical_accuracy: 0.3400\n",
            "Epoch 10/20\n",
            "34/34 [==============================] - ETA: 0s - batch: 16.5000 - size: 39.0000 - loss: 0.4074 - categorical_accuracy: 0.8605\n",
            "Epoch 00010: saving model to model_init_2021-03-2203_54_11.404024/model-00010-0.40744-0.86048-2.25116-0.36000.h5\n",
            "0\n",
            "34/34 [==============================] - 222s 7s/step - batch: 16.5000 - size: 39.0000 - loss: 0.4074 - categorical_accuracy: 0.8605 - val_loss: 2.2512 - val_categorical_accuracy: 0.3600\n",
            "Epoch 11/20\n",
            "34/34 [==============================] - ETA: 0s - batch: 16.5000 - size: 39.0000 - loss: 0.4215 - categorical_accuracy: 0.8575\n",
            "Epoch 00011: saving model to model_init_2021-03-2203_54_11.404024/model-00011-0.42147-0.85747-2.12251-0.39000.h5\n",
            "0\n",
            "34/34 [==============================] - 218s 7s/step - batch: 16.5000 - size: 39.0000 - loss: 0.4215 - categorical_accuracy: 0.8575 - val_loss: 2.1225 - val_categorical_accuracy: 0.3900\n",
            "Epoch 12/20\n",
            "34/34 [==============================] - ETA: 0s - batch: 16.5000 - size: 39.0000 - loss: 0.4033 - categorical_accuracy: 0.8529\n",
            "Epoch 00012: saving model to model_init_2021-03-2203_54_11.404024/model-00012-0.40325-0.85294-1.68879-0.48000.h5\n",
            "0\n",
            "34/34 [==============================] - 219s 7s/step - batch: 16.5000 - size: 39.0000 - loss: 0.4033 - categorical_accuracy: 0.8529 - val_loss: 1.6888 - val_categorical_accuracy: 0.4800\n",
            "Epoch 13/20\n",
            "34/34 [==============================] - ETA: 0s - batch: 16.5000 - size: 39.0000 - loss: 0.3571 - categorical_accuracy: 0.8748\n",
            "Epoch 00013: saving model to model_init_2021-03-2203_54_11.404024/model-00013-0.35710-0.87481-1.75334-0.44000.h5\n",
            "0\n",
            "34/34 [==============================] - 222s 7s/step - batch: 16.5000 - size: 39.0000 - loss: 0.3571 - categorical_accuracy: 0.8748 - val_loss: 1.7533 - val_categorical_accuracy: 0.4400\n",
            "Epoch 14/20\n",
            "34/34 [==============================] - ETA: 0s - batch: 16.5000 - size: 39.0000 - loss: 0.3585 - categorical_accuracy: 0.8748\n",
            "Epoch 00014: saving model to model_init_2021-03-2203_54_11.404024/model-00014-0.35849-0.87481-1.52343-0.48000.h5\n",
            "0\n",
            "34/34 [==============================] - 220s 7s/step - batch: 16.5000 - size: 39.0000 - loss: 0.3585 - categorical_accuracy: 0.8748 - val_loss: 1.5234 - val_categorical_accuracy: 0.4800\n",
            "Epoch 15/20\n",
            "34/34 [==============================] - ETA: 0s - batch: 16.5000 - size: 39.0000 - loss: 0.3341 - categorical_accuracy: 0.8824\n",
            "Epoch 00015: saving model to model_init_2021-03-2203_54_11.404024/model-00015-0.33412-0.88235-1.22600-0.57000.h5\n",
            "0\n",
            "34/34 [==============================] - 222s 7s/step - batch: 16.5000 - size: 39.0000 - loss: 0.3341 - categorical_accuracy: 0.8824 - val_loss: 1.2260 - val_categorical_accuracy: 0.5700\n",
            "Epoch 16/20\n",
            "34/34 [==============================] - ETA: 0s - batch: 16.5000 - size: 39.0000 - loss: 0.3264 - categorical_accuracy: 0.8786\n",
            "Epoch 00016: saving model to model_init_2021-03-2203_54_11.404024/model-00016-0.32637-0.87858-1.06328-0.64000.h5\n",
            "0\n",
            "34/34 [==============================] - 224s 7s/step - batch: 16.5000 - size: 39.0000 - loss: 0.3264 - categorical_accuracy: 0.8786 - val_loss: 1.0633 - val_categorical_accuracy: 0.6400\n",
            "Epoch 17/20\n",
            "34/34 [==============================] - ETA: 0s - batch: 16.5000 - size: 39.0000 - loss: 0.3611 - categorical_accuracy: 0.8733\n",
            "Epoch 00017: saving model to model_init_2021-03-2203_54_11.404024/model-00017-0.36109-0.87330-1.00103-0.64000.h5\n",
            "0\n",
            "34/34 [==============================] - 221s 7s/step - batch: 16.5000 - size: 39.0000 - loss: 0.3611 - categorical_accuracy: 0.8733 - val_loss: 1.0010 - val_categorical_accuracy: 0.6400\n",
            "Epoch 18/20\n",
            "34/34 [==============================] - ETA: 0s - batch: 16.5000 - size: 39.0000 - loss: 0.3054 - categorical_accuracy: 0.8997\n",
            "Epoch 00018: saving model to model_init_2021-03-2203_54_11.404024/model-00018-0.30535-0.89970-0.73682-0.72000.h5\n",
            "0\n",
            "34/34 [==============================] - 221s 7s/step - batch: 16.5000 - size: 39.0000 - loss: 0.3054 - categorical_accuracy: 0.8997 - val_loss: 0.7368 - val_categorical_accuracy: 0.7200\n",
            "Epoch 19/20\n",
            "34/34 [==============================] - ETA: 0s - batch: 16.5000 - size: 39.0000 - loss: 0.3143 - categorical_accuracy: 0.8974\n",
            "Epoch 00019: saving model to model_init_2021-03-2203_54_11.404024/model-00019-0.31432-0.89744-0.60987-0.80000.h5\n",
            "0\n",
            "34/34 [==============================] - 224s 7s/step - batch: 16.5000 - size: 39.0000 - loss: 0.3143 - categorical_accuracy: 0.8974 - val_loss: 0.6099 - val_categorical_accuracy: 0.8000\n",
            "Epoch 20/20\n",
            "34/34 [==============================] - ETA: 0s - batch: 16.5000 - size: 39.0000 - loss: 0.3308 - categorical_accuracy: 0.8959\n",
            "Epoch 00020: saving model to model_init_2021-03-2203_54_11.404024/model-00020-0.33079-0.89593-0.42747-0.82000.h5\n",
            "0\n",
            "34/34 [==============================] - 219s 7s/step - batch: 16.5000 - size: 39.0000 - loss: 0.3308 - categorical_accuracy: 0.8959 - val_loss: 0.4275 - val_categorical_accuracy: 0.8200\n"
          ],
          "name": "stdout"
        }
      ]
    },
    {
      "cell_type": "code",
      "metadata": {
        "id": "gm-imdTuXwbq",
        "colab": {
          "base_uri": "https://localhost:8080/",
          "height": 265
        },
        "outputId": "bc9d8167-fc84-4ae3-a81f-593ea7bc5926"
      },
      "source": [
        "plot(accuracy_check_model_9)"
      ],
      "execution_count": null,
      "outputs": [
        {
          "output_type": "display_data",
          "data": {
            "image/png": "[encoded data removed]",
            "text/plain": [
              "<Figure size 1080x288 with 2 Axes>"
            ]
          },
          "metadata": {
            "tags": [],
            "needs_background": "light"
          }
        }
      ]
    },
    {
      "cell_type": "code",
      "metadata": {
        "id": "eZSjWET3rag4"
      },
      "source": [
        "cnn_rnn1.clear_session(cnn_rnn1_model)"
      ],
      "execution_count": null,
      "outputs": []
    },
    {
      "cell_type": "markdown",
      "metadata": {
        "id": "Gdy0_yQzOn7y"
      },
      "source": [
        "## Applying More Augmentation"
      ]
    },
    {
      "cell_type": "code",
      "metadata": {
        "id": "onOKdsVRO26u"
      },
      "source": [
        "class ModelBuilderMoreAugmentation(metaclass= abc.ABCMeta):\n",
        "    \n",
        "    def initialize_src_path(self,main_folder):\n",
        "        self.train_doc = np.random.permutation(open(main_folder + '/' + 'train.csv').readlines())\n",
        "        self.val_doc = np.random.permutation(open(main_folder + '/' + 'val.csv').readlines())\n",
        "        self.train_path = main_folder + '/' + 'train'\n",
        "        self.val_path =  main_folder + '/' + 'val'\n",
        "        self.num_train_sequences = len(self.train_doc)\n",
        "        self.num_val_sequences = len(self.val_doc)\n",
        "        \n",
        "    def initialize_image_properties(self,image_height=100,image_width=100):\n",
        "        self.image_height=image_height\n",
        "        self.image_width=image_width\n",
        "        self.channels=3\n",
        "        self.num_classes=5\n",
        "        self.total_frames=30\n",
        "          \n",
        "    def initialize_hyperparams(self,frames_to_sample=30,batch_size=20,num_epochs=20):\n",
        "        self.frames_to_sample=frames_to_sample\n",
        "        self.batch_size=batch_size\n",
        "        self.num_epochs=num_epochs\n",
        "        \n",
        "        \n",
        "    def generator(self,source_path, folder_list, augment=False):\n",
        "        img_idx = np.round(np.linspace(0,self.total_frames-1,self.frames_to_sample)).astype(int)\n",
        "        batch_size=self.batch_size\n",
        "        while True:\n",
        "            t = np.random.permutation(folder_list)\n",
        "            num_batches = len(t)//batch_size\n",
        "        \n",
        "            for batch in range(num_batches): \n",
        "                batch_data, batch_labels= self.one_batch_data(source_path,t,batch,batch_size,img_idx,augment)\n",
        "                yield batch_data, batch_labels \n",
        "\n",
        "            remaining_seq=len(t)%batch_size\n",
        "        \n",
        "            if (remaining_seq != 0):\n",
        "                batch_data, batch_labels= self.one_batch_data(source_path,t,num_batches,batch_size,img_idx,augment,remaining_seq)\n",
        "                yield batch_data, batch_labels \n",
        "    \n",
        "    \n",
        "    def one_batch_data(self,source_path,t,batch,batch_size,img_idx,augment,remaining_seq=0):\n",
        "    \n",
        "        seq_len = remaining_seq if remaining_seq else batch_size\n",
        "    \n",
        "        batch_data = np.zeros((seq_len,len(img_idx),self.image_height,self.image_width,self.channels)) \n",
        "        batch_labels = np.zeros((seq_len,self.num_classes)) \n",
        "    \n",
        "        if (augment): batch_data_aug = np.zeros((seq_len,len(img_idx),self.image_height,self.image_width,self.channels))\n",
        "\n",
        "        \n",
        "        for folder in range(seq_len): \n",
        "            imgs = os.listdir(source_path+'/'+ t[folder + (batch*batch_size)].split(';')[0]) \n",
        "            for idx,item in enumerate(img_idx): \n",
        "                image = imread(source_path+'/'+ t[folder + (batch*batch_size)].strip().split(';')[0]+'/'+imgs[item]).astype(np.float32)\n",
        "                image_resized=transform.resize(image,(self.image_height,self.image_width,3))\n",
        "            \n",
        "\n",
        "                batch_data[folder,idx,:,:,0] = (image_resized[:,:,0])/255\n",
        "                batch_data[folder,idx,:,:,1] = (image_resized[:,:,1])/255\n",
        "                batch_data[folder,idx,:,:,2] = (image_resized[:,:,2])/255\n",
        "            \n",
        "                if (augment):\n",
        "                    shifted = cv2.warpAffine(image, \n",
        "                                             np.float32([[1, 0, np.random.randint(-30,30)],[0, 1, np.random.randint(-30,30)]]), \n",
        "                                            (image.shape[1], image.shape[0]))\n",
        "                    \n",
        "                    gray = cv2.cvtColor(shifted,cv2.COLOR_BGR2GRAY)\n",
        "\n",
        "                    x0, y0 = np.argwhere(gray > 0).min(axis=0)\n",
        "                    x1, y1 = np.argwhere(gray > 0).max(axis=0) \n",
        "                    \n",
        "                    cropped=shifted[x0:x1,y0:y1,:]\n",
        "                    \n",
        "                    image_resized=transform.resize(cropped,(self.image_height,self.image_width,3))\n",
        "                    \n",
        "                    M = cv2.getRotationMatrix2D((self.image_width//2,self.image_height//2),\n",
        "                                                np.random.randint(-10,10), 1.0)\n",
        "                    rotated = cv2.warpAffine(image_resized, M, (self.image_width, self.image_height))\n",
        "                  \n",
        "                    batch_data_aug[folder,idx,:,:,0] = (rotated[:,:,0])/255\n",
        "                    batch_data_aug[folder,idx,:,:,1] = (rotated[:,:,1])/255\n",
        "                    batch_data_aug[folder,idx,:,:,2] = (rotated[:,:,2])/255\n",
        "                \n",
        "            \n",
        "            batch_labels[folder, int(t[folder + (batch*batch_size)].strip().split(';')[2])] = 1\n",
        "            \n",
        "    \n",
        "        if (augment):\n",
        "            batch_data=np.concatenate([batch_data,batch_data_aug])\n",
        "            batch_labels=np.concatenate([batch_labels,batch_labels])\n",
        "\n",
        "        \n",
        "        return(batch_data,batch_labels)\n",
        "    \n",
        "    \n",
        "    def train_model(self, model, augment_data=False):\n",
        "        train_generator = self.generator(self.train_path, self.train_doc,augment=augment_data)\n",
        "        val_generator = self.generator(self.val_path, self.val_doc)\n",
        "\n",
        "        model_name = 'model_init' + '_' + str(datetime.datetime.now()).replace(' ','').replace(':','_') + '/'\n",
        "    \n",
        "        if not os.path.exists(model_name):\n",
        "            os.mkdir(model_name)\n",
        "        \n",
        "        filepath = model_name + 'model-{epoch:05d}-{loss:.5f}-{categorical_accuracy:.5f}-{val_loss:.5f}-{val_categorical_accuracy:.5f}.h5'\n",
        "\n",
        "        checkpoint = ModelCheckpoint(filepath, monitor='val_loss', verbose=1, save_best_only=False, save_weights_only=False, mode='auto', period=1)\n",
        "        LR = ReduceLROnPlateau(monitor='val_loss', factor=0.2, verbose=1, patience=4)\n",
        "        callbacks_list = [checkpoint, LR]\n",
        "\n",
        "        if (self.num_train_sequences%self.batch_size) == 0:\n",
        "            steps_per_epoch = int(self.num_train_sequences/self.batch_size)\n",
        "        else:\n",
        "            steps_per_epoch = (self.num_train_sequences//self.batch_size) + 1\n",
        "\n",
        "        if (self.num_val_sequences%self.batch_size) == 0:\n",
        "            validation_steps = int(self.num_val_sequences/self.batch_size)\n",
        "        else:\n",
        "            validation_steps = (self.num_val_sequences//self.batch_size) + 1\n",
        "    \n",
        "        history=model.fit_generator(train_generator, steps_per_epoch=steps_per_epoch, epochs=self.num_epochs, verbose=1, \n",
        "                            callbacks=callbacks_list, validation_data=val_generator, \n",
        "                            validation_steps=validation_steps, class_weight=None, workers=1, initial_epoch=0)\n",
        "        return history\n",
        "\n",
        "        \n",
        "    @abc.abstractmethod\n",
        "    def define_model(self):\n",
        "        pass"
      ],
      "execution_count": 11,
      "outputs": []
    },
    {
      "cell_type": "markdown",
      "metadata": {
        "id": "KNCI5V1JPp5N"
      },
      "source": [
        "## Model 10 - (3,3,3) Filter & 160x160 Image resolution - similar to Model 2"
      ]
    },
    {
      "cell_type": "code",
      "metadata": {
        "id": "SHkhEeqoPoZ-"
      },
      "source": [
        "class ModelConv3D10(ModelBuilderMoreAugmentation):\n",
        "    \n",
        "    def define_model(self,filtersize=(3,3,3),dense_neurons=64,dropout=0.25):\n",
        "\n",
        "        model = Sequential()\n",
        "        model.add(Conv3D(16, filtersize, padding='same',\n",
        "        input_shape=(self.frames_to_sample,self.image_height,self.image_width,self.channels)))\n",
        "        model.add(Activation('relu'))\n",
        "        model.add(BatchNormalization())\n",
        "        model.add(MaxPooling3D(pool_size=(2, 2, 2)))\n",
        "\n",
        "        model.add(Conv3D(32, filtersize, padding='same'))\n",
        "        model.add(Activation('relu'))\n",
        "        model.add(BatchNormalization())\n",
        "        model.add(MaxPooling3D(pool_size=(2, 2, 2)))\n",
        "\n",
        "        model.add(Conv3D(64, filtersize, padding='same'))\n",
        "        model.add(Activation('relu'))\n",
        "        model.add(BatchNormalization())\n",
        "        model.add(MaxPooling3D(pool_size=(2, 2, 2)))\n",
        "\n",
        "        model.add(Conv3D(128, filtersize, padding='same'))\n",
        "        model.add(Activation('relu'))\n",
        "        model.add(BatchNormalization())\n",
        "        model.add(MaxPooling3D(pool_size=(2, 2, 2)))\n",
        "\n",
        "        model.add(Flatten())\n",
        "        model.add(Dense(dense_neurons,activation='relu'))\n",
        "        model.add(BatchNormalization())\n",
        "        model.add(Dropout(dropout))\n",
        "\n",
        "        model.add(Dense(dense_neurons,activation='relu'))\n",
        "        model.add(BatchNormalization())\n",
        "        model.add(Dropout(dropout))\n",
        "\n",
        "\n",
        "        model.add(Dense(self.num_classes,activation='softmax'))\n",
        "\n",
        "        optimiser = optimizers.Adam(lr=0.0002)\n",
        "        model.compile(optimizer=optimiser, loss='categorical_crossentropy', metrics=['categorical_accuracy'])\n",
        "        return model"
      ],
      "execution_count": null,
      "outputs": []
    },
    {
      "cell_type": "code",
      "metadata": {
        "id": "3zxshqMLQNAK",
        "colab": {
          "base_uri": "https://localhost:8080/"
        },
        "outputId": "41c74299-1d81-475b-d095-1e05b653b77e"
      },
      "source": [
        "conv_3d10=ModelConv3D10()\n",
        "conv_3d10.initialize_src_path(main_folder)\n",
        "conv_3d10.initialize_image_properties(image_height=160,image_width=160)\n",
        "conv_3d10.initialize_hyperparams(frames_to_sample=20,batch_size=20,num_epochs=30)\n",
        "conv_3d10_model=conv_3d10.define_model(dense_neurons=256,dropout=0.5)\n",
        "conv_3d10_model.summary()"
      ],
      "execution_count": null,
      "outputs": [
        {
          "output_type": "stream",
          "text": [
            "Model: \"sequential\"\n",
            "_________________________________________________________________\n",
            "Layer (type)                 Output Shape              Param #   \n",
            "=================================================================\n",
            "conv3d (Conv3D)              (None, 20, 160, 160, 16)  1312      \n",
            "_________________________________________________________________\n",
            "activation (Activation)      (None, 20, 160, 160, 16)  0         \n",
            "_________________________________________________________________\n",
            "batch_normalization (BatchNo (None, 20, 160, 160, 16)  64        \n",
            "_________________________________________________________________\n",
            "max_pooling3d (MaxPooling3D) (None, 10, 80, 80, 16)    0         \n",
            "_________________________________________________________________\n",
            "conv3d_1 (Conv3D)            (None, 10, 80, 80, 32)    13856     \n",
            "_________________________________________________________________\n",
            "activation_1 (Activation)    (None, 10, 80, 80, 32)    0         \n",
            "_________________________________________________________________\n",
            "batch_normalization_1 (Batch (None, 10, 80, 80, 32)    128       \n",
            "_________________________________________________________________\n",
            "max_pooling3d_1 (MaxPooling3 (None, 5, 40, 40, 32)     0         \n",
            "_________________________________________________________________\n",
            "conv3d_2 (Conv3D)            (None, 5, 40, 40, 64)     55360     \n",
            "_________________________________________________________________\n",
            "activation_2 (Activation)    (None, 5, 40, 40, 64)     0         \n",
            "_________________________________________________________________\n",
            "batch_normalization_2 (Batch (None, 5, 40, 40, 64)     256       \n",
            "_________________________________________________________________\n",
            "max_pooling3d_2 (MaxPooling3 (None, 2, 20, 20, 64)     0         \n",
            "_________________________________________________________________\n",
            "conv3d_3 (Conv3D)            (None, 2, 20, 20, 128)    221312    \n",
            "_________________________________________________________________\n",
            "activation_3 (Activation)    (None, 2, 20, 20, 128)    0         \n",
            "_________________________________________________________________\n",
            "batch_normalization_3 (Batch (None, 2, 20, 20, 128)    512       \n",
            "_________________________________________________________________\n",
            "max_pooling3d_3 (MaxPooling3 (None, 1, 10, 10, 128)    0         \n",
            "_________________________________________________________________\n",
            "flatten (Flatten)            (None, 12800)             0         \n",
            "_________________________________________________________________\n",
            "dense (Dense)                (None, 256)               3277056   \n",
            "_________________________________________________________________\n",
            "batch_normalization_4 (Batch (None, 256)               1024      \n",
            "_________________________________________________________________\n",
            "dropout (Dropout)            (None, 256)               0         \n",
            "_________________________________________________________________\n",
            "dense_1 (Dense)              (None, 256)               65792     \n",
            "_________________________________________________________________\n",
            "batch_normalization_5 (Batch (None, 256)               1024      \n",
            "_________________________________________________________________\n",
            "dropout_1 (Dropout)          (None, 256)               0         \n",
            "_________________________________________________________________\n",
            "dense_2 (Dense)              (None, 5)                 1285      \n",
            "=================================================================\n",
            "Total params: 3,638,981\n",
            "Trainable params: 3,637,477\n",
            "Non-trainable params: 1,504\n",
            "_________________________________________________________________\n"
          ],
          "name": "stdout"
        }
      ]
    },
    {
      "cell_type": "code",
      "metadata": {
        "id": "1Qjf4MvRQSSG",
        "colab": {
          "base_uri": "https://localhost:8080/"
        },
        "outputId": "de90b511-4830-479b-a7d5-6c45ace2472a"
      },
      "source": [
        "print(\"Total Params:\", conv_3d10_model.count_params())\n",
        "accuracy_check_model_10=conv_3d10.train_model(conv_3d10_model,augment_data=True)"
      ],
      "execution_count": null,
      "outputs": [
        {
          "output_type": "stream",
          "text": [
            "Total Params: 3638981\n",
            "WARNING:tensorflow:`period` argument is deprecated. Please use `save_freq` to specify the frequency in number of batches seen.\n",
            "Epoch 1/30\n",
            "34/34 [==============================] - ETA: 0s - batch: 16.5000 - size: 39.0000 - loss: 2.1399 - categorical_accuracy: 0.3590\n",
            "Epoch 00001: saving model to model_init_2021-03-2205_10_36.329837/model-00001-2.13985-0.35897-2.20290-0.21000.h5\n",
            "34/34 [==============================] - 316s 9s/step - batch: 16.5000 - size: 39.0000 - loss: 2.1399 - categorical_accuracy: 0.3590 - val_loss: 2.2029 - val_categorical_accuracy: 0.2100\n",
            "Epoch 2/30\n",
            "34/34 [==============================] - ETA: 0s - batch: 16.5000 - size: 39.0000 - loss: 1.4685 - categorical_accuracy: 0.5113\n",
            "Epoch 00002: saving model to model_init_2021-03-2205_10_36.329837/model-00002-1.46846-0.51131-3.40706-0.21000.h5\n",
            "34/34 [==============================] - 285s 9s/step - batch: 16.5000 - size: 39.0000 - loss: 1.4685 - categorical_accuracy: 0.5113 - val_loss: 3.4071 - val_categorical_accuracy: 0.2100\n",
            "Epoch 3/30\n",
            "34/34 [==============================] - ETA: 0s - batch: 16.5000 - size: 39.0000 - loss: 1.2711 - categorical_accuracy: 0.5739\n",
            "Epoch 00003: saving model to model_init_2021-03-2205_10_36.329837/model-00003-1.27114-0.57391-4.60734-0.24000.h5\n",
            "34/34 [==============================] - 287s 9s/step - batch: 16.5000 - size: 39.0000 - loss: 1.2711 - categorical_accuracy: 0.5739 - val_loss: 4.6073 - val_categorical_accuracy: 0.2400\n",
            "Epoch 4/30\n",
            "34/34 [==============================] - ETA: 0s - batch: 16.5000 - size: 39.0000 - loss: 1.1963 - categorical_accuracy: 0.5928\n",
            "Epoch 00004: saving model to model_init_2021-03-2205_10_36.329837/model-00004-1.19632-0.59276-4.84754-0.22000.h5\n",
            "34/34 [==============================] - 289s 9s/step - batch: 16.5000 - size: 39.0000 - loss: 1.1963 - categorical_accuracy: 0.5928 - val_loss: 4.8475 - val_categorical_accuracy: 0.2200\n",
            "Epoch 5/30\n",
            "34/34 [==============================] - ETA: 0s - batch: 16.5000 - size: 39.0000 - loss: 1.0353 - categorical_accuracy: 0.6357\n",
            "Epoch 00005: saving model to model_init_2021-03-2205_10_36.329837/model-00005-1.03527-0.63575-6.14528-0.21000.h5\n",
            "\n",
            "Epoch 00005: ReduceLROnPlateau reducing learning rate to 3.9999998989515007e-05.\n",
            "34/34 [==============================] - 289s 9s/step - batch: 16.5000 - size: 39.0000 - loss: 1.0353 - categorical_accuracy: 0.6357 - val_loss: 6.1453 - val_categorical_accuracy: 0.2100\n",
            "Epoch 6/30\n",
            "34/34 [==============================] - ETA: 0s - batch: 16.5000 - size: 39.0000 - loss: 0.8660 - categorical_accuracy: 0.6727\n",
            "Epoch 00006: saving model to model_init_2021-03-2205_10_36.329837/model-00006-0.86601-0.67270-6.46349-0.21000.h5\n",
            "34/34 [==============================] - 292s 9s/step - batch: 16.5000 - size: 39.0000 - loss: 0.8660 - categorical_accuracy: 0.6727 - val_loss: 6.4635 - val_categorical_accuracy: 0.2100\n",
            "Epoch 7/30\n",
            "34/34 [==============================] - ETA: 0s - batch: 16.5000 - size: 39.0000 - loss: 0.8091 - categorical_accuracy: 0.7044\n",
            "Epoch 00007: saving model to model_init_2021-03-2205_10_36.329837/model-00007-0.80913-0.70437-6.44249-0.25000.h5\n",
            "34/34 [==============================] - 294s 9s/step - batch: 16.5000 - size: 39.0000 - loss: 0.8091 - categorical_accuracy: 0.7044 - val_loss: 6.4425 - val_categorical_accuracy: 0.2500\n",
            "Epoch 8/30\n",
            "34/34 [==============================] - ETA: 0s - batch: 16.5000 - size: 39.0000 - loss: 0.8449 - categorical_accuracy: 0.7059\n",
            "Epoch 00008: saving model to model_init_2021-03-2205_10_36.329837/model-00008-0.84492-0.70588-6.70793-0.26000.h5\n",
            "34/34 [==============================] - 292s 9s/step - batch: 16.5000 - size: 39.0000 - loss: 0.8449 - categorical_accuracy: 0.7059 - val_loss: 6.7079 - val_categorical_accuracy: 0.2600\n",
            "Epoch 9/30\n",
            "34/34 [==============================] - ETA: 0s - batch: 16.5000 - size: 39.0000 - loss: 0.7933 - categorical_accuracy: 0.7247\n",
            "Epoch 00009: saving model to model_init_2021-03-2205_10_36.329837/model-00009-0.79328-0.72474-7.69267-0.23000.h5\n",
            "\n",
            "Epoch 00009: ReduceLROnPlateau reducing learning rate to 7.999999797903002e-06.\n",
            "34/34 [==============================] - 285s 9s/step - batch: 16.5000 - size: 39.0000 - loss: 0.7933 - categorical_accuracy: 0.7247 - val_loss: 7.6927 - val_categorical_accuracy: 0.2300\n",
            "Epoch 10/30\n",
            "34/34 [==============================] - ETA: 0s - batch: 16.5000 - size: 39.0000 - loss: 0.7272 - categorical_accuracy: 0.7413\n",
            "Epoch 00010: saving model to model_init_2021-03-2205_10_36.329837/model-00010-0.72724-0.74133-6.01199-0.32000.h5\n",
            "34/34 [==============================] - 298s 9s/step - batch: 16.5000 - size: 39.0000 - loss: 0.7272 - categorical_accuracy: 0.7413 - val_loss: 6.0120 - val_categorical_accuracy: 0.3200\n",
            "Epoch 11/30\n",
            "34/34 [==============================] - ETA: 0s - batch: 16.5000 - size: 39.0000 - loss: 0.6790 - categorical_accuracy: 0.7519\n",
            "Epoch 00011: saving model to model_init_2021-03-2205_10_36.329837/model-00011-0.67897-0.75189-6.13379-0.30000.h5\n",
            "34/34 [==============================] - 302s 9s/step - batch: 16.5000 - size: 39.0000 - loss: 0.6790 - categorical_accuracy: 0.7519 - val_loss: 6.1338 - val_categorical_accuracy: 0.3000\n",
            "Epoch 12/30\n",
            "34/34 [==============================] - ETA: 0s - batch: 16.5000 - size: 39.0000 - loss: 0.7329 - categorical_accuracy: 0.7376\n",
            "Epoch 00012: saving model to model_init_2021-03-2205_10_36.329837/model-00012-0.73291-0.73756-5.44500-0.30000.h5\n",
            "34/34 [==============================] - 319s 10s/step - batch: 16.5000 - size: 39.0000 - loss: 0.7329 - categorical_accuracy: 0.7376 - val_loss: 5.4450 - val_categorical_accuracy: 0.3000\n",
            "Epoch 13/30\n",
            "34/34 [==============================] - ETA: 0s - batch: 16.5000 - size: 39.0000 - loss: 0.6934 - categorical_accuracy: 0.7421\n",
            "Epoch 00013: saving model to model_init_2021-03-2205_10_36.329837/model-00013-0.69344-0.74208-4.83010-0.26000.h5\n",
            "\n",
            "Epoch 00013: ReduceLROnPlateau reducing learning rate to 1.5999999959603884e-06.\n",
            "34/34 [==============================] - 314s 9s/step - batch: 16.5000 - size: 39.0000 - loss: 0.6934 - categorical_accuracy: 0.7421 - val_loss: 4.8301 - val_categorical_accuracy: 0.2600\n",
            "Epoch 14/30\n",
            "34/34 [==============================] - ETA: 0s - batch: 16.5000 - size: 39.0000 - loss: 0.7008 - categorical_accuracy: 0.7541\n",
            "Epoch 00014: saving model to model_init_2021-03-2205_10_36.329837/model-00014-0.70082-0.75415-3.75031-0.38000.h5\n",
            "34/34 [==============================] - 290s 9s/step - batch: 16.5000 - size: 39.0000 - loss: 0.7008 - categorical_accuracy: 0.7541 - val_loss: 3.7503 - val_categorical_accuracy: 0.3800\n",
            "Epoch 15/30\n",
            "34/34 [==============================] - ETA: 0s - batch: 16.5000 - size: 39.0000 - loss: 0.6904 - categorical_accuracy: 0.7300\n",
            "Epoch 00015: saving model to model_init_2021-03-2205_10_36.329837/model-00015-0.69035-0.73002-3.15963-0.33000.h5\n",
            "34/34 [==============================] - 286s 9s/step - batch: 16.5000 - size: 39.0000 - loss: 0.6904 - categorical_accuracy: 0.7300 - val_loss: 3.1596 - val_categorical_accuracy: 0.3300\n",
            "Epoch 16/30\n",
            "34/34 [==============================] - ETA: 0s - batch: 16.5000 - size: 39.0000 - loss: 0.7272 - categorical_accuracy: 0.7466\n",
            "Epoch 00016: saving model to model_init_2021-03-2205_10_36.329837/model-00016-0.72724-0.74661-2.42121-0.42000.h5\n",
            "34/34 [==============================] - 288s 9s/step - batch: 16.5000 - size: 39.0000 - loss: 0.7272 - categorical_accuracy: 0.7466 - val_loss: 2.4212 - val_categorical_accuracy: 0.4200\n",
            "Epoch 17/30\n",
            "34/34 [==============================] - ETA: 0s - batch: 16.5000 - size: 39.0000 - loss: 0.6799 - categorical_accuracy: 0.7315\n",
            "Epoch 00017: saving model to model_init_2021-03-2205_10_36.329837/model-00017-0.67993-0.73152-1.80379-0.48000.h5\n",
            "34/34 [==============================] - 288s 9s/step - batch: 16.5000 - size: 39.0000 - loss: 0.6799 - categorical_accuracy: 0.7315 - val_loss: 1.8038 - val_categorical_accuracy: 0.4800\n",
            "Epoch 18/30\n",
            "34/34 [==============================] - ETA: 0s - batch: 16.5000 - size: 39.0000 - loss: 0.6752 - categorical_accuracy: 0.7360\n",
            "Epoch 00018: saving model to model_init_2021-03-2205_10_36.329837/model-00018-0.67516-0.73605-1.38011-0.58000.h5\n",
            "34/34 [==============================] - 291s 9s/step - batch: 16.5000 - size: 39.0000 - loss: 0.6752 - categorical_accuracy: 0.7360 - val_loss: 1.3801 - val_categorical_accuracy: 0.5800\n",
            "Epoch 19/30\n",
            "34/34 [==============================] - ETA: 0s - batch: 16.5000 - size: 39.0000 - loss: 0.6905 - categorical_accuracy: 0.7360\n",
            "Epoch 00019: saving model to model_init_2021-03-2205_10_36.329837/model-00019-0.69048-0.73605-1.10814-0.65000.h5\n",
            "34/34 [==============================] - 287s 9s/step - batch: 16.5000 - size: 39.0000 - loss: 0.6905 - categorical_accuracy: 0.7360 - val_loss: 1.1081 - val_categorical_accuracy: 0.6500\n",
            "Epoch 20/30\n",
            "34/34 [==============================] - ETA: 0s - batch: 16.5000 - size: 39.0000 - loss: 0.6703 - categorical_accuracy: 0.7376\n",
            "Epoch 00020: saving model to model_init_2021-03-2205_10_36.329837/model-00020-0.67030-0.73756-0.95796-0.74000.h5\n",
            "34/34 [==============================] - 290s 9s/step - batch: 16.5000 - size: 39.0000 - loss: 0.6703 - categorical_accuracy: 0.7376 - val_loss: 0.9580 - val_categorical_accuracy: 0.7400\n",
            "Epoch 21/30\n",
            "34/34 [==============================] - ETA: 0s - batch: 16.5000 - size: 39.0000 - loss: 0.7018 - categorical_accuracy: 0.7564\n",
            "Epoch 00021: saving model to model_init_2021-03-2205_10_36.329837/model-00021-0.70181-0.75641-0.84455-0.75000.h5\n",
            "34/34 [==============================] - 314s 9s/step - batch: 16.5000 - size: 39.0000 - loss: 0.7018 - categorical_accuracy: 0.7564 - val_loss: 0.8445 - val_categorical_accuracy: 0.7500\n",
            "Epoch 22/30\n",
            "34/34 [==============================] - ETA: 0s - batch: 16.5000 - size: 39.0000 - loss: 0.7107 - categorical_accuracy: 0.7519\n",
            "Epoch 00022: saving model to model_init_2021-03-2205_10_36.329837/model-00022-0.71070-0.75189-0.84881-0.80000.h5\n",
            "34/34 [==============================] - 287s 9s/step - batch: 16.5000 - size: 39.0000 - loss: 0.7107 - categorical_accuracy: 0.7519 - val_loss: 0.8488 - val_categorical_accuracy: 0.8000\n",
            "Epoch 23/30\n",
            "34/34 [==============================] - ETA: 0s - batch: 16.5000 - size: 39.0000 - loss: 0.6742 - categorical_accuracy: 0.7489\n",
            "Epoch 00023: saving model to model_init_2021-03-2205_10_36.329837/model-00023-0.67425-0.74887-0.67378-0.82000.h5\n",
            "34/34 [==============================] - 289s 9s/step - batch: 16.5000 - size: 39.0000 - loss: 0.6742 - categorical_accuracy: 0.7489 - val_loss: 0.6738 - val_categorical_accuracy: 0.8200\n",
            "Epoch 24/30\n",
            "34/34 [==============================] - ETA: 0s - batch: 16.5000 - size: 39.0000 - loss: 0.6605 - categorical_accuracy: 0.7594\n",
            "Epoch 00024: saving model to model_init_2021-03-2205_10_36.329837/model-00024-0.66051-0.75943-0.72901-0.80000.h5\n",
            "34/34 [==============================] - 289s 9s/step - batch: 16.5000 - size: 39.0000 - loss: 0.6605 - categorical_accuracy: 0.7594 - val_loss: 0.7290 - val_categorical_accuracy: 0.8000\n",
            "Epoch 25/30\n",
            "34/34 [==============================] - ETA: 0s - batch: 16.5000 - size: 39.0000 - loss: 0.7244 - categorical_accuracy: 0.7376\n",
            "Epoch 00025: saving model to model_init_2021-03-2205_10_36.329837/model-00025-0.72444-0.73756-0.70931-0.83000.h5\n",
            "34/34 [==============================] - 290s 9s/step - batch: 16.5000 - size: 39.0000 - loss: 0.7244 - categorical_accuracy: 0.7376 - val_loss: 0.7093 - val_categorical_accuracy: 0.8300\n",
            "Epoch 26/30\n",
            "34/34 [==============================] - ETA: 0s - batch: 16.5000 - size: 39.0000 - loss: 0.6695 - categorical_accuracy: 0.7572\n",
            "Epoch 00026: saving model to model_init_2021-03-2205_10_36.329837/model-00026-0.66948-0.75716-0.67419-0.81000.h5\n",
            "34/34 [==============================] - 287s 9s/step - batch: 16.5000 - size: 39.0000 - loss: 0.6695 - categorical_accuracy: 0.7572 - val_loss: 0.6742 - val_categorical_accuracy: 0.8100\n",
            "Epoch 27/30\n",
            "34/34 [==============================] - ETA: 0s - batch: 16.5000 - size: 39.0000 - loss: 0.7772 - categorical_accuracy: 0.7428\n",
            "Epoch 00027: saving model to model_init_2021-03-2205_10_36.329837/model-00027-0.77717-0.74284-0.68201-0.83000.h5\n",
            "\n",
            "Epoch 00027: ReduceLROnPlateau reducing learning rate to 3.200000037395512e-07.\n",
            "34/34 [==============================] - 286s 9s/step - batch: 16.5000 - size: 39.0000 - loss: 0.7772 - categorical_accuracy: 0.7428 - val_loss: 0.6820 - val_categorical_accuracy: 0.8300\n",
            "Epoch 28/30\n",
            "34/34 [==============================] - ETA: 0s - batch: 16.5000 - size: 39.0000 - loss: 0.6584 - categorical_accuracy: 0.7496\n",
            "Epoch 00028: saving model to model_init_2021-03-2205_10_36.329837/model-00028-0.65841-0.74962-0.55410-0.86000.h5\n",
            "34/34 [==============================] - 297s 9s/step - batch: 16.5000 - size: 39.0000 - loss: 0.6584 - categorical_accuracy: 0.7496 - val_loss: 0.5541 - val_categorical_accuracy: 0.8600\n",
            "Epoch 29/30\n",
            "34/34 [==============================] - ETA: 0s - batch: 16.5000 - size: 39.0000 - loss: 0.6985 - categorical_accuracy: 0.7526\n",
            "Epoch 00029: saving model to model_init_2021-03-2205_10_36.329837/model-00029-0.69853-0.75264-0.52035-0.81000.h5\n",
            "34/34 [==============================] - 288s 9s/step - batch: 16.5000 - size: 39.0000 - loss: 0.6985 - categorical_accuracy: 0.7526 - val_loss: 0.5204 - val_categorical_accuracy: 0.8100\n",
            "Epoch 30/30\n",
            "34/34 [==============================] - ETA: 0s - batch: 16.5000 - size: 39.0000 - loss: 0.6988 - categorical_accuracy: 0.7338\n",
            "Epoch 00030: saving model to model_init_2021-03-2205_10_36.329837/model-00030-0.69884-0.73379-0.69294-0.81000.h5\n",
            "34/34 [==============================] - 293s 9s/step - batch: 16.5000 - size: 39.0000 - loss: 0.6988 - categorical_accuracy: 0.7338 - val_loss: 0.6929 - val_categorical_accuracy: 0.8100\n"
          ],
          "name": "stdout"
        }
      ]
    },
    {
      "cell_type": "code",
      "metadata": {
        "id": "ZOdRzLqFpbxp",
        "colab": {
          "base_uri": "https://localhost:8080/",
          "height": 268
        },
        "outputId": "b8e8d588-9538-4071-862e-fbcedf7b0f2d"
      },
      "source": [
        "plot(accuracy_check_model_10)"
      ],
      "execution_count": null,
      "outputs": [
        {
          "output_type": "display_data",
          "data": {
            "image/png": "[encoded data removed]",
            "text/plain": [
              "<Figure size 1080x288 with 2 Axes>"
            ]
          },
          "metadata": {
            "tags": [],
            "needs_background": "light"
          }
        }
      ]
    },
    {
      "cell_type": "markdown",
      "metadata": {
        "id": "y1Nyst3JoisB"
      },
      "source": [
        "## Model 11 - (2,2,2) Filter & 120x120 Image resolution - similar to Model 3"
      ]
    },
    {
      "cell_type": "code",
      "metadata": {
        "id": "1HRBTvETolll"
      },
      "source": [
        "class ModelConv3D11(ModelBuilderMoreAugmentation):\n",
        "    \n",
        "    def define_model(self,filtersize=(3,3,3),dense_neurons=64,dropout=0.25):\n",
        "\n",
        "        model = Sequential()\n",
        "        model.add(Conv3D(16, filtersize, padding='same',\n",
        "        input_shape=(self.frames_to_sample,self.image_height,self.image_width,self.channels)))\n",
        "        model.add(Activation('relu'))\n",
        "        model.add(BatchNormalization())\n",
        "        model.add(MaxPooling3D(pool_size=(2, 2, 2)))\n",
        "\n",
        "        model.add(Conv3D(32, filtersize, padding='same'))\n",
        "        model.add(Activation('relu'))\n",
        "        model.add(BatchNormalization())\n",
        "        model.add(MaxPooling3D(pool_size=(2, 2, 2)))\n",
        "\n",
        "        model.add(Conv3D(64, filtersize, padding='same'))\n",
        "        model.add(Activation('relu'))\n",
        "        model.add(BatchNormalization())\n",
        "        model.add(MaxPooling3D(pool_size=(2, 2, 2)))\n",
        "\n",
        "        model.add(Conv3D(128, filtersize, padding='same'))\n",
        "        model.add(Activation('relu'))\n",
        "        model.add(BatchNormalization())\n",
        "        model.add(MaxPooling3D(pool_size=(2, 2, 2)))\n",
        "\n",
        "        model.add(Flatten())\n",
        "        model.add(Dense(dense_neurons,activation='relu'))\n",
        "        model.add(BatchNormalization())\n",
        "        model.add(Dropout(dropout))\n",
        "\n",
        "        model.add(Dense(dense_neurons,activation='relu'))\n",
        "        model.add(BatchNormalization())\n",
        "        model.add(Dropout(dropout))\n",
        "\n",
        "\n",
        "        model.add(Dense(self.num_classes,activation='softmax'))\n",
        "\n",
        "        optimiser = optimizers.Adam(lr=0.0002)\n",
        "        model.compile(optimizer=optimiser, loss='categorical_crossentropy', metrics=['categorical_accuracy'])\n",
        "        return model"
      ],
      "execution_count": 12,
      "outputs": []
    },
    {
      "cell_type": "code",
      "metadata": {
        "id": "0WWwgLRypCj3",
        "colab": {
          "base_uri": "https://localhost:8080/"
        },
        "outputId": "287a0e9d-5ece-458c-9103-688467e1e8fc"
      },
      "source": [
        "conv_3d11=ModelConv3D11()\n",
        "conv_3d11.initialize_src_path(main_folder)\n",
        "conv_3d11.initialize_image_properties(image_height=120,image_width=120)\n",
        "conv_3d11.initialize_hyperparams(frames_to_sample=16,batch_size=30,num_epochs=30)\n",
        "conv_3d11_model=conv_3d11.define_model(filtersize=(2,2,2),dense_neurons=256,dropout=0.5)\n",
        "conv_3d11_model.summary()"
      ],
      "execution_count": 13,
      "outputs": [
        {
          "output_type": "stream",
          "text": [
            "Model: \"sequential\"\n",
            "_________________________________________________________________\n",
            "Layer (type)                 Output Shape              Param #   \n",
            "=================================================================\n",
            "conv3d (Conv3D)              (None, 16, 120, 120, 16)  400       \n",
            "_________________________________________________________________\n",
            "activation (Activation)      (None, 16, 120, 120, 16)  0         \n",
            "_________________________________________________________________\n",
            "batch_normalization (BatchNo (None, 16, 120, 120, 16)  64        \n",
            "_________________________________________________________________\n",
            "max_pooling3d (MaxPooling3D) (None, 8, 60, 60, 16)     0         \n",
            "_________________________________________________________________\n",
            "conv3d_1 (Conv3D)            (None, 8, 60, 60, 32)     4128      \n",
            "_________________________________________________________________\n",
            "activation_1 (Activation)    (None, 8, 60, 60, 32)     0         \n",
            "_________________________________________________________________\n",
            "batch_normalization_1 (Batch (None, 8, 60, 60, 32)     128       \n",
            "_________________________________________________________________\n",
            "max_pooling3d_1 (MaxPooling3 (None, 4, 30, 30, 32)     0         \n",
            "_________________________________________________________________\n",
            "conv3d_2 (Conv3D)            (None, 4, 30, 30, 64)     16448     \n",
            "_________________________________________________________________\n",
            "activation_2 (Activation)    (None, 4, 30, 30, 64)     0         \n",
            "_________________________________________________________________\n",
            "batch_normalization_2 (Batch (None, 4, 30, 30, 64)     256       \n",
            "_________________________________________________________________\n",
            "max_pooling3d_2 (MaxPooling3 (None, 2, 15, 15, 64)     0         \n",
            "_________________________________________________________________\n",
            "conv3d_3 (Conv3D)            (None, 2, 15, 15, 128)    65664     \n",
            "_________________________________________________________________\n",
            "activation_3 (Activation)    (None, 2, 15, 15, 128)    0         \n",
            "_________________________________________________________________\n",
            "batch_normalization_3 (Batch (None, 2, 15, 15, 128)    512       \n",
            "_________________________________________________________________\n",
            "max_pooling3d_3 (MaxPooling3 (None, 1, 7, 7, 128)      0         \n",
            "_________________________________________________________________\n",
            "flatten (Flatten)            (None, 6272)              0         \n",
            "_________________________________________________________________\n",
            "dense (Dense)                (None, 256)               1605888   \n",
            "_________________________________________________________________\n",
            "batch_normalization_4 (Batch (None, 256)               1024      \n",
            "_________________________________________________________________\n",
            "dropout (Dropout)            (None, 256)               0         \n",
            "_________________________________________________________________\n",
            "dense_1 (Dense)              (None, 256)               65792     \n",
            "_________________________________________________________________\n",
            "batch_normalization_5 (Batch (None, 256)               1024      \n",
            "_________________________________________________________________\n",
            "dropout_1 (Dropout)          (None, 256)               0         \n",
            "_________________________________________________________________\n",
            "dense_2 (Dense)              (None, 5)                 1285      \n",
            "=================================================================\n",
            "Total params: 1,762,613\n",
            "Trainable params: 1,761,109\n",
            "Non-trainable params: 1,504\n",
            "_________________________________________________________________\n"
          ],
          "name": "stdout"
        }
      ]
    },
    {
      "cell_type": "code",
      "metadata": {
        "id": "NUG3v2hOpJYd",
        "colab": {
          "base_uri": "https://localhost:8080/"
        },
        "outputId": "1e2dae50-3218-4a6a-afed-0bfd3b3064ac"
      },
      "source": [
        "print(\"Total Params:\", conv_3d11_model.count_params())\n",
        "accuracy_check_model_11=conv_3d11.train_model(conv_3d11_model,augment_data=True)"
      ],
      "execution_count": null,
      "outputs": [
        {
          "output_type": "stream",
          "text": [
            "Total Params: 1762613\n",
            "WARNING:tensorflow:`period` argument is deprecated. Please use `save_freq` to specify the frequency in number of batches seen.\n",
            "Epoch 1/30\n",
            "23/23 [==============================] - ETA: 0s - batch: 11.0000 - size: 57.6522 - loss: 2.1976 - categorical_accuracy: 0.3288\n",
            "Epoch 00001: saving model to model_init_2021-03-2212_33_47.262187/model-00001-2.19760-0.32881-1.96206-0.20000.h5\n",
            "23/23 [==============================] - 273s 11s/step - batch: 11.0000 - size: 57.6522 - loss: 2.1976 - categorical_accuracy: 0.3288 - val_loss: 1.9621 - val_categorical_accuracy: 0.2000\n",
            "Epoch 2/30\n",
            "23/23 [==============================] - ETA: 0s - batch: 11.0000 - size: 57.6522 - loss: 1.5704 - categorical_accuracy: 0.4744 \n",
            "Epoch 00002: saving model to model_init_2021-03-2212_33_47.262187/model-00002-1.57039-0.47436-3.26061-0.17000.h5\n",
            "23/23 [==============================] - 254s 12s/step - batch: 11.0000 - size: 57.6522 - loss: 1.5704 - categorical_accuracy: 0.4744 - val_loss: 3.2606 - val_categorical_accuracy: 0.1700\n",
            "Epoch 3/30\n",
            "23/23 [==============================] - ETA: 0s - batch: 11.0000 - size: 57.6522 - loss: 1.3628 - categorical_accuracy: 0.5302 \n",
            "Epoch 00003: saving model to model_init_2021-03-2212_33_47.262187/model-00003-1.36282-0.53017-3.96085-0.19000.h5\n",
            "23/23 [==============================] - 248s 11s/step - batch: 11.0000 - size: 57.6522 - loss: 1.3628 - categorical_accuracy: 0.5302 - val_loss: 3.9608 - val_categorical_accuracy: 0.1900\n",
            "Epoch 4/30\n",
            "23/23 [==============================] - ETA: 0s - batch: 11.0000 - size: 57.6522 - loss: 1.2068 - categorical_accuracy: 0.5732 \n",
            "Epoch 00004: saving model to model_init_2021-03-2212_33_47.262187/model-00004-1.20682-0.57315-4.53388-0.20000.h5\n",
            "23/23 [==============================] - 251s 11s/step - batch: 11.0000 - size: 57.6522 - loss: 1.2068 - categorical_accuracy: 0.5732 - val_loss: 4.5339 - val_categorical_accuracy: 0.2000\n",
            "Epoch 5/30\n",
            "23/23 [==============================] - ETA: 0s - batch: 11.0000 - size: 57.6522 - loss: 1.1701 - categorical_accuracy: 0.5935 \n",
            "Epoch 00005: saving model to model_init_2021-03-2212_33_47.262187/model-00005-1.17011-0.59351-5.69293-0.21000.h5\n",
            "\n",
            "Epoch 00005: ReduceLROnPlateau reducing learning rate to 3.9999998989515007e-05.\n",
            "23/23 [==============================] - 246s 11s/step - batch: 11.0000 - size: 57.6522 - loss: 1.1701 - categorical_accuracy: 0.5935 - val_loss: 5.6929 - val_categorical_accuracy: 0.2100\n",
            "Epoch 6/30\n",
            "23/23 [==============================] - ETA: 0s - batch: 11.0000 - size: 57.6522 - loss: 1.0900 - categorical_accuracy: 0.6275"
          ],
          "name": "stdout"
        }
      ]
    },
    {
      "cell_type": "code",
      "metadata": {
        "id": "YlA0dEQ8puAY"
      },
      "source": [
        "plot(accuracy_check_model_11)"
      ],
      "execution_count": null,
      "outputs": []
    },
    {
      "cell_type": "markdown",
      "metadata": {
        "id": "dz-2h4Jl8VGc"
      },
      "source": [
        "## Model 12 - Adding more layers - Similar to model 4"
      ]
    },
    {
      "cell_type": "code",
      "metadata": {
        "id": "Mt0L7Hwh8a_v"
      },
      "source": [
        "class ModelConv3D12(ModelBuilderMoreAugmentation):\n",
        "    \n",
        "    def define_model(self,filtersize=(3,3,3),dense_neurons=64,dropout=0.25):\n",
        "\n",
        "        model = Sequential()\n",
        "        model.add(Conv3D(16, filtersize, padding='same',\n",
        "        input_shape=(self.frames_to_sample,self.image_height,self.image_width,self.channels)))\n",
        "        model.add(Activation('relu'))\n",
        "        model.add(BatchNormalization())\n",
        "        \n",
        "        model.add(Conv3D(16, filtersize, padding='same',\n",
        "        input_shape=(self.frames_to_sample,self.image_height,self.image_width,self.channels)))\n",
        "        model.add(Activation('relu'))\n",
        "        model.add(BatchNormalization())\n",
        "        \n",
        "        model.add(MaxPooling3D(pool_size=(2, 2, 2)))\n",
        "\n",
        "        model.add(Conv3D(32, filtersize, padding='same'))\n",
        "        model.add(Activation('relu'))\n",
        "        model.add(BatchNormalization())\n",
        "        \n",
        "        model.add(Conv3D(32, filtersize, padding='same'))\n",
        "        model.add(Activation('relu'))\n",
        "        model.add(BatchNormalization())\n",
        "        \n",
        "        model.add(MaxPooling3D(pool_size=(2, 2, 2)))\n",
        "\n",
        "        model.add(Conv3D(64, filtersize, padding='same'))\n",
        "        model.add(Activation('relu'))\n",
        "        model.add(BatchNormalization())\n",
        "        \n",
        "        model.add(Conv3D(64, filtersize, padding='same'))\n",
        "        model.add(Activation('relu'))\n",
        "        model.add(BatchNormalization())\n",
        "        \n",
        "        model.add(MaxPooling3D(pool_size=(2, 2, 2)))\n",
        "\n",
        "        model.add(Conv3D(128, filtersize, padding='same'))\n",
        "        model.add(Activation('relu'))\n",
        "        model.add(BatchNormalization())\n",
        "        \n",
        "        model.add(Conv3D(128, filtersize, padding='same'))\n",
        "        model.add(Activation('relu'))\n",
        "        model.add(BatchNormalization())\n",
        "        \n",
        "        model.add(MaxPooling3D(pool_size=(2, 2, 2)))\n",
        "        \n",
        "\n",
        "        model.add(Flatten())\n",
        "        model.add(Dense(dense_neurons,activation='relu'))\n",
        "        model.add(BatchNormalization())\n",
        "        model.add(Dropout(dropout))\n",
        "\n",
        "        model.add(Dense(dense_neurons,activation='relu'))\n",
        "        model.add(BatchNormalization())\n",
        "        model.add(Dropout(dropout))\n",
        "\n",
        "\n",
        "        model.add(Dense(self.num_classes,activation='softmax'))\n",
        "\n",
        "        optimiser = optimizers.Adam(lr=0.0002)\n",
        "        model.compile(optimizer=optimiser, loss='categorical_crossentropy', metrics=['categorical_accuracy'])\n",
        "        return model"
      ],
      "execution_count": null,
      "outputs": []
    },
    {
      "cell_type": "code",
      "metadata": {
        "id": "gHvlJ2zo8rEn"
      },
      "source": [
        "conv_3d12=ModelConv3D12()\n",
        "conv_3d12.initialize_src_path(main_folder)\n",
        "conv_3d12.initialize_image_properties(image_height=120,image_width=120)\n",
        "conv_3d12.initialize_hyperparams(frames_to_sample=16,batch_size=20,num_epochs=30)\n",
        "conv_3d12_model=conv_3d12.define_model(filtersize=(3,3,3),dense_neurons=256,dropout=0.5)\n",
        "conv_3d12_model.summary()"
      ],
      "execution_count": null,
      "outputs": []
    },
    {
      "cell_type": "code",
      "metadata": {
        "id": "_8zlJEDr86h7"
      },
      "source": [
        "print(\"Total Params:\", conv_3d12_model.count_params())\n",
        "accuracy_check_model_12=conv_3d12.train_model(conv_3d12_model,augment_data=True)"
      ],
      "execution_count": null,
      "outputs": []
    },
    {
      "cell_type": "code",
      "metadata": {
        "id": "1nH71Rg49BDX"
      },
      "source": [
        "plot(accuracy_check_model_12)"
      ],
      "execution_count": null,
      "outputs": []
    }
  ]
}