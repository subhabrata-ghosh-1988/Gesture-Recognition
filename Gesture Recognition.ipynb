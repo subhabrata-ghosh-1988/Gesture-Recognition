{
  "nbformat": 4,
  "nbformat_minor": 0,
  "metadata": {
    "kernelspec": {
      "display_name": "Python 3",
      "language": "python",
      "name": "python3"
    },
    "language_info": {
      "codemirror_mode": {
        "name": "ipython",
        "version": 3
      },
      "file_extension": ".py",
      "mimetype": "text/x-python",
      "name": "python",
      "nbconvert_exporter": "python",
      "pygments_lexer": "ipython3",
      "version": "3.7.3"
    },
    "colab": {
      "name": "Gesture Recognition.ipynb",
      "provenance": [],
      "include_colab_link": true
    },
    "accelerator": "GPU"
  },
  "cells": [
    {
      "cell_type": "markdown",
      "metadata": {
        "id": "view-in-github",
        "colab_type": "text"
      },
      "source": [
        "<a href=\"https://colab.research.google.com/github/subhabrata-ghosh-1988/Gesture-Recognition/blob/main/Gesture%20Recognition.ipynb\" target=\"_parent\"><img src=\"https://colab.research.google.com/assets/colab-badge.svg\" alt=\"Open In Colab\"/></a>"
      ]
    },
    {
      "cell_type": "markdown",
      "metadata": {
        "id": "Q7ZfgtjxNVrR"
      },
      "source": [
        "# Gesture Recognition\n",
        "In this group project, you are going to build a 3D Conv model that will be able to predict the 5 gestures correctly. Please import the following libraries to get started."
      ]
    },
    {
      "cell_type": "code",
      "metadata": {
        "id": "2-eH5pKuNVrV"
      },
      "source": [
        "## Import libraries\n",
        "import numpy as np\n",
        "import os\n",
        "from scipy import misc\n",
        "from imageio import imread\n",
        "import cv2\n",
        "from skimage import transform,io\n",
        "import datetime\n",
        "import os\n",
        "import warnings\n",
        "warnings.filterwarnings(\"ignore\")\n",
        "import abc\n",
        "from sys import getsizeof\n",
        "import shutil\n",
        "import abc\n"
      ],
      "execution_count": 20,
      "outputs": []
    },
    {
      "cell_type": "code",
      "metadata": {
        "id": "J94bqUhVNVrW"
      },
      "source": [
        "import glob, os , shutil\n",
        "for f in glob.glob(\"/content/model_init*\"):\n",
        "    shutil.rmtree(f)"
      ],
      "execution_count": 21,
      "outputs": []
    },
    {
      "cell_type": "code",
      "metadata": {
        "id": "H0Ubj-HfSRY3"
      },
      "source": [
        "## remove the existing zip file\n",
        "shutil.rmtree('/content/Project_data.zip', ignore_errors=True)"
      ],
      "execution_count": 22,
      "outputs": []
    },
    {
      "cell_type": "code",
      "metadata": {
        "id": "i4ty5a19SiNl",
        "colab": {
          "base_uri": "https://localhost:8080/",
          "height": 278
        },
        "outputId": "34c16970-286d-4c72-81a6-342a02902b74"
      },
      "source": [
        "## Initiate the file download\n",
        "!pip install gdown\n",
        "import gdown\n",
        "url=\"https://drive.google.com/uc?id=1kM4V7pnLjGbuCaDpfBNHig99gr2rdqyJ\"\n",
        "output = \"Project_data.zip\"\n",
        "gdown.download(url, output, quiet=False)"
      ],
      "execution_count": 23,
      "outputs": [
        {
          "output_type": "stream",
          "text": [
            "Requirement already satisfied: gdown in /usr/local/lib/python3.7/dist-packages (3.6.4)\n",
            "Requirement already satisfied: tqdm in /usr/local/lib/python3.7/dist-packages (from gdown) (4.41.1)\n",
            "Requirement already satisfied: six in /usr/local/lib/python3.7/dist-packages (from gdown) (1.15.0)\n",
            "Requirement already satisfied: requests in /usr/local/lib/python3.7/dist-packages (from gdown) (2.23.0)\n",
            "Requirement already satisfied: certifi>=2017.4.17 in /usr/local/lib/python3.7/dist-packages (from requests->gdown) (2020.12.5)\n",
            "Requirement already satisfied: chardet<4,>=3.0.2 in /usr/local/lib/python3.7/dist-packages (from requests->gdown) (3.0.4)\n",
            "Requirement already satisfied: idna<3,>=2.5 in /usr/local/lib/python3.7/dist-packages (from requests->gdown) (2.10)\n",
            "Requirement already satisfied: urllib3!=1.25.0,!=1.25.1,<1.26,>=1.21.1 in /usr/local/lib/python3.7/dist-packages (from requests->gdown) (1.24.3)\n"
          ],
          "name": "stdout"
        },
        {
          "output_type": "stream",
          "text": [
            "Downloading...\n",
            "From: https://drive.google.com/uc?id=1kM4V7pnLjGbuCaDpfBNHig99gr2rdqyJ\n",
            "To: /content/Project_data.zip\n",
            "1.71GB [00:21, 78.0MB/s]\n"
          ],
          "name": "stderr"
        },
        {
          "output_type": "execute_result",
          "data": {
            "application/vnd.google.colaboratory.intrinsic+json": {
              "type": "string"
            },
            "text/plain": [
              "'Project_data.zip'"
            ]
          },
          "metadata": {
            "tags": []
          },
          "execution_count": 23
        }
      ]
    },
    {
      "cell_type": "code",
      "metadata": {
        "id": "w-fwe5jbTX8r"
      },
      "source": [
        "## unzip the downloaded folder\n",
        "shutil.rmtree('/content/Project_data', ignore_errors=True)\n",
        "shutil.unpack_archive(\"Project_data.zip\", \"Project_data\")"
      ],
      "execution_count": 6,
      "outputs": []
    },
    {
      "cell_type": "markdown",
      "metadata": {
        "id": "GIQHPGi_NVrX"
      },
      "source": [
        "We set the random seed so that the results don't vary drastically."
      ]
    },
    {
      "cell_type": "code",
      "metadata": {
        "id": "ci_N-NnWNVrZ"
      },
      "source": [
        "np.random.seed(30)\n",
        "import random as rn\n",
        "rn.seed(30)\n",
        "import tensorflow as tf\n",
        "tf.random.set_seed(30)\n",
        "tf.compat.v1.disable_eager_execution()"
      ],
      "execution_count": 24,
      "outputs": []
    },
    {
      "cell_type": "markdown",
      "metadata": {
        "id": "6bWyzW_oNVrZ"
      },
      "source": [
        "**In this block, you read the folder names for training and validation. You also set the batch_size here. Note that you set the batch size in such a way that you are able to use the GPU in full capacity. You keep increasing the batch size until the machine throws an error.**"
      ]
    },
    {
      "cell_type": "code",
      "metadata": {
        "id": "AyTupvi3NVrb"
      },
      "source": [
        "from keras.models import Sequential, Model\n",
        "from keras.layers import Dense, GRU, Flatten, TimeDistributed, Flatten, BatchNormalization, Activation\n",
        "from keras.layers.convolutional import Conv3D, MaxPooling3D, Conv2D, MaxPooling2D\n",
        "from keras.layers.recurrent import LSTM\n",
        "from keras.callbacks import ModelCheckpoint, ReduceLROnPlateau\n",
        "from keras import optimizers\n",
        "from keras.layers import Dropout"
      ],
      "execution_count": 25,
      "outputs": []
    },
    {
      "cell_type": "code",
      "metadata": {
        "id": "VCjeEg_tNVrc"
      },
      "source": [
        "# the entire dataset is placed in below directory\n",
        "main_folder='/content/Project_data/Project_data'"
      ],
      "execution_count": 26,
      "outputs": []
    },
    {
      "cell_type": "code",
      "metadata": {
        "id": "NSUMkqaSXcC4",
        "colab": {
          "base_uri": "https://localhost:8080/",
          "height": 36
        },
        "outputId": "ecdbb748-16d1-4322-d55c-890f23ca90c9"
      },
      "source": [
        "## Checking current TF version\n",
        "tf.version.VERSION"
      ],
      "execution_count": 10,
      "outputs": [
        {
          "output_type": "execute_result",
          "data": {
            "application/vnd.google.colaboratory.intrinsic+json": {
              "type": "string"
            },
            "text/plain": [
              "'2.4.1'"
            ]
          },
          "metadata": {
            "tags": []
          },
          "execution_count": 10
        }
      ]
    },
    {
      "cell_type": "markdown",
      "metadata": {
        "id": "REgxbVunNVrd"
      },
      "source": [
        "### Plotting"
      ]
    },
    {
      "cell_type": "code",
      "metadata": {
        "id": "k3UJmY03NVre"
      },
      "source": [
        "import matplotlib.pyplot as plt\n",
        "def plot(Model):\n",
        "    fig, axes = plt.subplots(nrows=1, ncols=2, figsize=(15,4))\n",
        "    axes[0].plot(Model.history['loss'])   \n",
        "    axes[0].plot(Model.history['val_loss'])\n",
        "    axes[0].legend(['loss','val_loss'])\n",
        "\n",
        "    axes[1].plot(Model.history['categorical_accuracy'])   \n",
        "    axes[1].plot(Model.history['val_categorical_accuracy'])\n",
        "    axes[1].legend(['categorical_accuracy','val_categorical_accuracy'])"
      ],
      "execution_count": 27,
      "outputs": []
    },
    {
      "cell_type": "markdown",
      "metadata": {
        "id": "QtV6apQQNVrf"
      },
      "source": [
        "## Generator\n",
        "This is one of the most important part of the code. The overall structure of the generator has been given. In the generator, you are going to preprocess the images as you have images of 2 different dimensions as well as create a batch of video frames. You have to experiment with `img_idx`, `y`,`z` and normalization such that you get high accuracy."
      ]
    },
    {
      "cell_type": "code",
      "metadata": {
        "id": "haSnpGsboLKX"
      },
      "source": [
        "import gc\n",
        "class GCCallback(tf.keras.callbacks.Callback):\n",
        "      def on_epoch_end(self, epoch, logs=None):\n",
        "          print(gc.collect())"
      ],
      "execution_count": 28,
      "outputs": []
    },
    {
      "cell_type": "code",
      "metadata": {
        "id": "4YC-BRedNVri"
      },
      "source": [
        "# referred ABC library use case from this link https://riptutorial.com/python/example/23083/why-how-to-use-abcmeta-and--abstractmethod\n",
        "\n",
        "class ModelBuilder(metaclass= abc.ABCMeta):\n",
        "    \n",
        "    def initialize_src_path(self,main_folder):\n",
        "        self.train_doc = np.random.permutation(open(main_folder + '/' + 'train.csv').readlines())\n",
        "        self.val_doc = np.random.permutation(open(main_folder + '/' + 'val.csv').readlines())\n",
        "        self.train_path = main_folder + '/' + 'train'\n",
        "        self.val_path =  main_folder + '/' + 'val'\n",
        "        self.num_train_sequences = len(self.train_doc)\n",
        "        self.num_val_sequences = len(self.val_doc)\n",
        "        \n",
        "    def initialize_image_properties(self,image_height=100,image_width=100):\n",
        "        self.image_height=image_height\n",
        "        self.image_width=image_width\n",
        "        self.channels=3\n",
        "        self.num_classes=5\n",
        "        self.total_frames=30\n",
        "          \n",
        "    def initialize_hyperparams(self,frames_to_sample=30,batch_size=40,num_epochs=20):\n",
        "        self.frames_to_sample=frames_to_sample\n",
        "        self.batch_size=batch_size\n",
        "        self.num_epochs=num_epochs\n",
        "        \n",
        "        \n",
        "    def generator(self,source_path, folder_list, augment=False):\n",
        "        img_idx = np.round(np.linspace(0,self.total_frames-1,self.frames_to_sample)).astype(int)\n",
        "        batch_size=self.batch_size\n",
        "        while True:\n",
        "            t = np.random.permutation(folder_list)\n",
        "            num_batches = len(t)//batch_size\n",
        "        \n",
        "            for batch in range(num_batches): \n",
        "                batch_data, batch_labels= self.one_batch_data(source_path,t,batch,batch_size,img_idx,augment)\n",
        "                yield batch_data, batch_labels \n",
        "\n",
        "            remaining_seq=len(t)%batch_size\n",
        "        \n",
        "            if (remaining_seq != 0):\n",
        "                batch_data, batch_labels= self.one_batch_data(source_path,t,num_batches,batch_size,img_idx,augment,remaining_seq)\n",
        "                yield batch_data, batch_labels \n",
        "    \n",
        "    \n",
        "    def one_batch_data(self,source_path,t,batch,batch_size,img_idx,augment,remaining_seq=0):\n",
        "    \n",
        "        seq_len = remaining_seq if remaining_seq else batch_size\n",
        "    \n",
        "        batch_data = np.zeros((seq_len,len(img_idx),self.image_height,self.image_width,self.channels)) \n",
        "        batch_labels = np.zeros((seq_len,self.num_classes)) \n",
        "    \n",
        "        if (augment): batch_data_aug = np.zeros((seq_len,len(img_idx),self.image_height,self.image_width,self.channels))\n",
        "\n",
        "        \n",
        "        for folder in range(seq_len): \n",
        "            imgs = os.listdir(source_path+'/'+ t[folder + (batch*batch_size)].split(';')[0]) \n",
        "            for idx,item in enumerate(img_idx): \n",
        "                image = imread(source_path+'/'+ t[folder + (batch*batch_size)].strip().split(';')[0]+'/'+imgs[item]).astype(np.float32)\n",
        "                image_resized=transform.resize(image,(self.image_height,self.image_width,3))\n",
        "            \n",
        "\n",
        "                batch_data[folder,idx,:,:,0] = (image_resized[:,:,0])/255\n",
        "                batch_data[folder,idx,:,:,1] = (image_resized[:,:,1])/255\n",
        "                batch_data[folder,idx,:,:,2] = (image_resized[:,:,2])/255\n",
        "            \n",
        "                if (augment):\n",
        "                    shifted = cv2.warpAffine(image, \n",
        "                                             np.float32([[1, 0, np.random.randint(-30,30)],[0, 1, np.random.randint(-30,30)]]), \n",
        "                                            (image.shape[1], image.shape[0]))\n",
        "                    \n",
        "                    gray = cv2.cvtColor(shifted,cv2.COLOR_BGR2GRAY)\n",
        "\n",
        "                    x0, y0 = np.argwhere(gray > 0).min(axis=0)\n",
        "                    x1, y1 = np.argwhere(gray > 0).max(axis=0) \n",
        "                    \n",
        "                    cropped=shifted[x0:x1,y0:y1,:]\n",
        "                    \n",
        "                    image_resized=transform.resize(cropped,(self.image_height,self.image_width,3))\n",
        "            \n",
        "                    batch_data_aug[folder,idx,:,:,0] = (image_resized[:,:,0])/255\n",
        "                    batch_data_aug[folder,idx,:,:,1] = (image_resized[:,:,1])/255\n",
        "                    batch_data_aug[folder,idx,:,:,2] = (image_resized[:,:,2])/255\n",
        "                \n",
        "            \n",
        "            batch_labels[folder, int(t[folder + (batch*batch_size)].strip().split(';')[2])] = 1\n",
        "            \n",
        "    \n",
        "        if (augment):\n",
        "            batch_data=np.concatenate([batch_data,batch_data_aug])\n",
        "            batch_labels=np.concatenate([batch_labels,batch_labels])\n",
        "\n",
        "        \n",
        "        return(batch_data,batch_labels)\n",
        "    \n",
        "    \n",
        "    def train_model(self, model, augment_data=False):\n",
        "        train_generator = self.generator(self.train_path, self.train_doc,augment=augment_data)\n",
        "        val_generator = self.generator(self.val_path, self.val_doc)\n",
        "\n",
        "        model_name = 'model_init' + '_' + str(datetime.datetime.now()).replace(' ','').replace(':','_') + '/'\n",
        "    \n",
        "        if not os.path.exists(model_name):\n",
        "            os.mkdir(model_name)\n",
        "        \n",
        "        filepath = model_name + 'model-{epoch:05d}-{loss:.5f}-{categorical_accuracy:.5f}-{val_loss:.5f}-{val_categorical_accuracy:.5f}.h5'\n",
        "\n",
        "        checkpoint = ModelCheckpoint(filepath, monitor='val_loss', verbose=1, save_best_only=False, save_weights_only=False, mode='auto', period=1)\n",
        "        LR = ReduceLROnPlateau(monitor='val_loss', factor=0.2, verbose=1, patience=4)\n",
        "        callbacks_list = [checkpoint, LR]\n",
        "\n",
        "        if (self.num_train_sequences%self.batch_size) == 0:\n",
        "            steps_per_epoch = int(self.num_train_sequences/self.batch_size)\n",
        "        else:\n",
        "            steps_per_epoch = (self.num_train_sequences//self.batch_size) + 1\n",
        "\n",
        "        if (self.num_val_sequences%self.batch_size) == 0:\n",
        "            validation_steps = int(self.num_val_sequences/self.batch_size)\n",
        "        else:\n",
        "            validation_steps = (self.num_val_sequences//self.batch_size) + 1\n",
        "    \n",
        "        history=model.fit_generator(train_generator, steps_per_epoch=steps_per_epoch, epochs=self.num_epochs, verbose=1, \n",
        "                            callbacks=callbacks_list, validation_data=val_generator, \n",
        "                            validation_steps=validation_steps, class_weight=None, workers=1, initial_epoch=0)\n",
        "        return history\n",
        "\n",
        "    def clear_session(self, model):\n",
        "        del model\n",
        "        gc.collect()\n",
        "        tf.keras.backend.clear_session()\n",
        "        tf.compat.v1.reset_default_graph() # TF graph isn't same as Keras graph\n",
        "\n",
        "    @abc.abstractmethod\n",
        "    def define_model(self):\n",
        "        pass\n"
      ],
      "execution_count": 29,
      "outputs": []
    },
    {
      "cell_type": "markdown",
      "metadata": {
        "id": "kkdCou-eNVri"
      },
      "source": [
        "## Sample Model\n",
        "Here you make the model using different functionalities that Keras provides. Remember to use `Conv3D` and `MaxPooling3D` and not `Conv2D` and `Maxpooling2D` for a 3D convolution model. You would want to use `TimeDistributed` while building a Conv2D + RNN model. Also remember that the last layer is the softmax. Design the network in such a way that the model is able to give good accuracy on the least number of parameters so that it can fit in the memory of the webcam."
      ]
    },
    {
      "cell_type": "code",
      "metadata": {
        "id": "G1XR94jpNVrk"
      },
      "source": [
        "class ModelConv3D1(ModelBuilder):\n",
        "    \n",
        "    def define_model(self):\n",
        "\n",
        "        model = Sequential()\n",
        "        model.add(Conv3D(16, (3, 3, 3), padding='same',\n",
        "                 input_shape=(self.frames_to_sample,self.image_height,self.image_width,self.channels)))\n",
        "        model.add(Activation('relu'))\n",
        "        model.add(BatchNormalization())\n",
        "        model.add(MaxPooling3D(pool_size=(2, 2, 2)))\n",
        "\n",
        "        model.add(Conv3D(32, (2, 2, 2), padding='same'))\n",
        "        model.add(Activation('relu'))\n",
        "        model.add(BatchNormalization())\n",
        "        model.add(MaxPooling3D(pool_size=(2, 2, 2)))\n",
        "\n",
        "        model.add(Conv3D(64, (2, 2, 2), padding='same'))\n",
        "        model.add(Activation('relu'))\n",
        "        model.add(BatchNormalization())\n",
        "        model.add(MaxPooling3D(pool_size=(2, 2, 2)))\n",
        "\n",
        "        model.add(Conv3D(128, (2, 2, 2), padding='same'))\n",
        "        model.add(Activation('relu'))\n",
        "        model.add(BatchNormalization())\n",
        "        model.add(MaxPooling3D(pool_size=(2, 2, 2)))\n",
        "\n",
        "        model.add(Flatten())\n",
        "        model.add(Dense(128,activation='relu'))\n",
        "        model.add(BatchNormalization())\n",
        "        model.add(Dropout(0.5))\n",
        "\n",
        "        model.add(Dense(64,activation='relu'))\n",
        "        model.add(BatchNormalization())\n",
        "        model.add(Dropout(0.25))\n",
        "\n",
        "\n",
        "        model.add(Dense(self.num_classes,activation='softmax'))\n",
        "\n",
        "        optimiser = optimizers.Adam()\n",
        "        #optimiser = 'sgd'\n",
        "        model.compile(optimizer=optimiser, loss='categorical_crossentropy', metrics=['categorical_accuracy'])\n",
        "        return model"
      ],
      "execution_count": 30,
      "outputs": []
    },
    {
      "cell_type": "code",
      "metadata": {
        "id": "8PIGA0cbNVrl",
        "colab": {
          "base_uri": "https://localhost:8080/"
        },
        "outputId": "3d215480-d37d-4089-e1f8-b357b07d34df"
      },
      "source": [
        "Conv3D1=ModelConv3D1()\n",
        "Conv3D1.initialize_src_path(main_folder)\n",
        "Conv3D1.initialize_image_properties(image_height=160,image_width=160)\n",
        "Conv3D1.initialize_hyperparams(frames_to_sample=30,batch_size=30,num_epochs=1)\n",
        "Conv3D1_model=Conv3D1.define_model()\n",
        "Conv3D1_model.summary()"
      ],
      "execution_count": 14,
      "outputs": [
        {
          "output_type": "stream",
          "text": [
            "Model: \"sequential\"\n",
            "_________________________________________________________________\n",
            "Layer (type)                 Output Shape              Param #   \n",
            "=================================================================\n",
            "conv3d (Conv3D)              (None, 30, 160, 160, 16)  1312      \n",
            "_________________________________________________________________\n",
            "activation (Activation)      (None, 30, 160, 160, 16)  0         \n",
            "_________________________________________________________________\n",
            "batch_normalization (BatchNo (None, 30, 160, 160, 16)  64        \n",
            "_________________________________________________________________\n",
            "max_pooling3d (MaxPooling3D) (None, 15, 80, 80, 16)    0         \n",
            "_________________________________________________________________\n",
            "conv3d_1 (Conv3D)            (None, 15, 80, 80, 32)    4128      \n",
            "_________________________________________________________________\n",
            "activation_1 (Activation)    (None, 15, 80, 80, 32)    0         \n",
            "_________________________________________________________________\n",
            "batch_normalization_1 (Batch (None, 15, 80, 80, 32)    128       \n",
            "_________________________________________________________________\n",
            "max_pooling3d_1 (MaxPooling3 (None, 7, 40, 40, 32)     0         \n",
            "_________________________________________________________________\n",
            "conv3d_2 (Conv3D)            (None, 7, 40, 40, 64)     16448     \n",
            "_________________________________________________________________\n",
            "activation_2 (Activation)    (None, 7, 40, 40, 64)     0         \n",
            "_________________________________________________________________\n",
            "batch_normalization_2 (Batch (None, 7, 40, 40, 64)     256       \n",
            "_________________________________________________________________\n",
            "max_pooling3d_2 (MaxPooling3 (None, 3, 20, 20, 64)     0         \n",
            "_________________________________________________________________\n",
            "conv3d_3 (Conv3D)            (None, 3, 20, 20, 128)    65664     \n",
            "_________________________________________________________________\n",
            "activation_3 (Activation)    (None, 3, 20, 20, 128)    0         \n",
            "_________________________________________________________________\n",
            "batch_normalization_3 (Batch (None, 3, 20, 20, 128)    512       \n",
            "_________________________________________________________________\n",
            "max_pooling3d_3 (MaxPooling3 (None, 1, 10, 10, 128)    0         \n",
            "_________________________________________________________________\n",
            "flatten (Flatten)            (None, 12800)             0         \n",
            "_________________________________________________________________\n",
            "dense (Dense)                (None, 128)               1638528   \n",
            "_________________________________________________________________\n",
            "batch_normalization_4 (Batch (None, 128)               512       \n",
            "_________________________________________________________________\n",
            "dropout (Dropout)            (None, 128)               0         \n",
            "_________________________________________________________________\n",
            "dense_1 (Dense)              (None, 64)                8256      \n",
            "_________________________________________________________________\n",
            "batch_normalization_5 (Batch (None, 64)                256       \n",
            "_________________________________________________________________\n",
            "dropout_1 (Dropout)          (None, 64)                0         \n",
            "_________________________________________________________________\n",
            "dense_2 (Dense)              (None, 5)                 325       \n",
            "=================================================================\n",
            "Total params: 1,736,389\n",
            "Trainable params: 1,735,525\n",
            "Non-trainable params: 864\n",
            "_________________________________________________________________\n"
          ],
          "name": "stdout"
        }
      ]
    },
    {
      "cell_type": "code",
      "metadata": {
        "id": "0eU6XuXdNVrm",
        "colab": {
          "base_uri": "https://localhost:8080/"
        },
        "outputId": "218492c7-15be-414f-e5e4-163aca93711f"
      },
      "source": [
        "Conv3D1.train_model(Conv3D1_model)"
      ],
      "execution_count": 15,
      "outputs": [
        {
          "output_type": "stream",
          "text": [
            "WARNING:tensorflow:`period` argument is deprecated. Please use `save_freq` to specify the frequency in number of batches seen.\n",
            "23/23 [==============================] - ETA: 0s - batch: 11.0000 - size: 28.8261 - loss: 1.4701 - categorical_accuracy: 0.4661\n",
            "Epoch 00001: saving model to model_init_2021-03-1910_54_07.741676/model-00001-1.47012-0.46606-2.12938-0.21000.h5\n",
            "23/23 [==============================] - 274s 11s/step - batch: 11.0000 - size: 28.8261 - loss: 1.4701 - categorical_accuracy: 0.4661 - val_loss: 2.1294 - val_categorical_accuracy: 0.2100\n"
          ],
          "name": "stdout"
        },
        {
          "output_type": "execute_result",
          "data": {
            "text/plain": [
              "<tensorflow.python.keras.callbacks.History at 0x7fd0f3052d50>"
            ]
          },
          "metadata": {
            "tags": []
          },
          "execution_count": 15
        }
      ]
    },
    {
      "cell_type": "code",
      "metadata": {
        "id": "JaJ-270dCcnY"
      },
      "source": [
        "Conv3D1.clear_session(Conv3D1_model)"
      ],
      "execution_count": 16,
      "outputs": []
    },
    {
      "cell_type": "code",
      "metadata": {
        "id": "qPGUJrJXNVrn",
        "colab": {
          "base_uri": "https://localhost:8080/"
        },
        "outputId": "f0f94279-c4c4-4ee4-c7ae-453713979a81"
      },
      "source": [
        "Conv3D1_bs40=ModelConv3D1()\n",
        "Conv3D1_bs40.initialize_src_path(main_folder)\n",
        "Conv3D1_bs40.initialize_image_properties(image_height=160,image_width=160)\n",
        "Conv3D1_bs40.initialize_hyperparams(frames_to_sample=30,batch_size=40,num_epochs=1)\n",
        "Conv3D1_model_bs40=Conv3D1_bs40.define_model()\n",
        "Conv3D1_model_bs40.summary()"
      ],
      "execution_count": 17,
      "outputs": [
        {
          "output_type": "stream",
          "text": [
            "Model: \"sequential\"\n",
            "_________________________________________________________________\n",
            "Layer (type)                 Output Shape              Param #   \n",
            "=================================================================\n",
            "conv3d (Conv3D)              (None, 30, 160, 160, 16)  1312      \n",
            "_________________________________________________________________\n",
            "activation (Activation)      (None, 30, 160, 160, 16)  0         \n",
            "_________________________________________________________________\n",
            "batch_normalization (BatchNo (None, 30, 160, 160, 16)  64        \n",
            "_________________________________________________________________\n",
            "max_pooling3d (MaxPooling3D) (None, 15, 80, 80, 16)    0         \n",
            "_________________________________________________________________\n",
            "conv3d_1 (Conv3D)            (None, 15, 80, 80, 32)    4128      \n",
            "_________________________________________________________________\n",
            "activation_1 (Activation)    (None, 15, 80, 80, 32)    0         \n",
            "_________________________________________________________________\n",
            "batch_normalization_1 (Batch (None, 15, 80, 80, 32)    128       \n",
            "_________________________________________________________________\n",
            "max_pooling3d_1 (MaxPooling3 (None, 7, 40, 40, 32)     0         \n",
            "_________________________________________________________________\n",
            "conv3d_2 (Conv3D)            (None, 7, 40, 40, 64)     16448     \n",
            "_________________________________________________________________\n",
            "activation_2 (Activation)    (None, 7, 40, 40, 64)     0         \n",
            "_________________________________________________________________\n",
            "batch_normalization_2 (Batch (None, 7, 40, 40, 64)     256       \n",
            "_________________________________________________________________\n",
            "max_pooling3d_2 (MaxPooling3 (None, 3, 20, 20, 64)     0         \n",
            "_________________________________________________________________\n",
            "conv3d_3 (Conv3D)            (None, 3, 20, 20, 128)    65664     \n",
            "_________________________________________________________________\n",
            "activation_3 (Activation)    (None, 3, 20, 20, 128)    0         \n",
            "_________________________________________________________________\n",
            "batch_normalization_3 (Batch (None, 3, 20, 20, 128)    512       \n",
            "_________________________________________________________________\n",
            "max_pooling3d_3 (MaxPooling3 (None, 1, 10, 10, 128)    0         \n",
            "_________________________________________________________________\n",
            "flatten (Flatten)            (None, 12800)             0         \n",
            "_________________________________________________________________\n",
            "dense (Dense)                (None, 128)               1638528   \n",
            "_________________________________________________________________\n",
            "batch_normalization_4 (Batch (None, 128)               512       \n",
            "_________________________________________________________________\n",
            "dropout (Dropout)            (None, 128)               0         \n",
            "_________________________________________________________________\n",
            "dense_1 (Dense)              (None, 64)                8256      \n",
            "_________________________________________________________________\n",
            "batch_normalization_5 (Batch (None, 64)                256       \n",
            "_________________________________________________________________\n",
            "dropout_1 (Dropout)          (None, 64)                0         \n",
            "_________________________________________________________________\n",
            "dense_2 (Dense)              (None, 5)                 325       \n",
            "=================================================================\n",
            "Total params: 1,736,389\n",
            "Trainable params: 1,735,525\n",
            "Non-trainable params: 864\n",
            "_________________________________________________________________\n"
          ],
          "name": "stdout"
        }
      ]
    },
    {
      "cell_type": "markdown",
      "metadata": {
        "id": "EHCAyYjiNVro"
      },
      "source": [
        "#### Got below memory exhaust error with image resolution of 160x160, 30 frames and a batch_size of 40\n",
        "ResourceExhaustedError:  OOM when allocating tensor with shape[40,16,15,80,80] and type float on /job:localhost/replica:0/task:0/device:GPU:0 by allocator GPU_0_bfc\n",
        "\t [[node gradient_tape/sequential_2/max_pooling3d_8/MaxPool3D/MaxPool3DGrad (defined at <ipython-input-11-c85facc09113>:122) ]]\n",
        "Hint: If you want to see a list of allocated tensors when OOM happens, add report_tensor_allocations_upon_oom to RunOptions for current allocation info.\n",
        " [Op:__inference_train_function_7489]"
      ]
    },
    {
      "cell_type": "code",
      "metadata": {
        "id": "J7SaHnFVNVro",
        "colab": {
          "base_uri": "https://localhost:8080/"
        },
        "outputId": "52e60d70-6388-4460-cfa1-94b27fc1d6e0"
      },
      "source": [
        "print(\"Memory util is {} Gigs\". format(getsizeof(np.zeros((40,16,30,160,160)))/(1024*1024*1024)))"
      ],
      "execution_count": 18,
      "outputs": [
        {
          "output_type": "stream",
          "text": [
            "Memory util is 3.662109524011612 Gigs\n"
          ],
          "name": "stdout"
        }
      ]
    },
    {
      "cell_type": "code",
      "metadata": {
        "id": "jSsKCHtZNVrp",
        "colab": {
          "base_uri": "https://localhost:8080/"
        },
        "outputId": "f7d26fb3-20ec-4f6c-bc49-7e0c720f4797"
      },
      "source": [
        "conv_3d1=ModelConv3D1()\n",
        "conv_3d1.initialize_src_path(main_folder)\n",
        "conv_3d1.initialize_image_properties(image_height=160,image_width=160)\n",
        "conv_3d1.initialize_hyperparams(frames_to_sample=16,batch_size=30,num_epochs=3)\n",
        "conv_3d1_model=conv_3d1.define_model()\n",
        "print(\"Total Params:\", conv_3d1_model.count_params())\n",
        "conv_3d1.train_model(conv_3d1_model)"
      ],
      "execution_count": 19,
      "outputs": [
        {
          "output_type": "stream",
          "text": [
            "Total Params: 1736389\n",
            "WARNING:tensorflow:`period` argument is deprecated. Please use `save_freq` to specify the frequency in number of batches seen.\n",
            "Epoch 1/3\n",
            "23/23 [==============================] - ETA: 0s - batch: 11.0000 - size: 28.8261 - loss: 1.7470 - categorical_accuracy: 0.3710\n",
            "Epoch 00001: saving model to model_init_2021-03-1910_58_53.454335/model-00001-1.74703-0.37104-2.41878-0.21000.h5\n",
            "23/23 [==============================] - 157s 7s/step - batch: 11.0000 - size: 28.8261 - loss: 1.7470 - categorical_accuracy: 0.3710 - val_loss: 2.4188 - val_categorical_accuracy: 0.2100\n",
            "Epoch 2/3\n",
            "23/23 [==============================] - ETA: 0s - batch: 11.0000 - size: 28.8261 - loss: 1.0208 - categorical_accuracy: 0.6290\n",
            "Epoch 00002: saving model to model_init_2021-03-1910_58_53.454335/model-00002-1.02077-0.62896-6.09102-0.17000.h5\n",
            "23/23 [==============================] - 123s 6s/step - batch: 11.0000 - size: 28.8261 - loss: 1.0208 - categorical_accuracy: 0.6290 - val_loss: 6.0910 - val_categorical_accuracy: 0.1700\n",
            "Epoch 3/3\n",
            "23/23 [==============================] - ETA: 0s - batch: 11.0000 - size: 28.8261 - loss: 0.9384 - categorical_accuracy: 0.6350\n",
            "Epoch 00003: saving model to model_init_2021-03-1910_58_53.454335/model-00003-0.93842-0.63499-4.97620-0.24000.h5\n",
            "23/23 [==============================] - 124s 6s/step - batch: 11.0000 - size: 28.8261 - loss: 0.9384 - categorical_accuracy: 0.6350 - val_loss: 4.9762 - val_categorical_accuracy: 0.2400\n"
          ],
          "name": "stdout"
        },
        {
          "output_type": "execute_result",
          "data": {
            "text/plain": [
              "<tensorflow.python.keras.callbacks.History at 0x7fd0f2bc36d0>"
            ]
          },
          "metadata": {
            "tags": []
          },
          "execution_count": 19
        }
      ]
    },
    {
      "cell_type": "code",
      "metadata": {
        "id": "jx0kjX0PNVrr",
        "colab": {
          "base_uri": "https://localhost:8080/"
        },
        "outputId": "4edd2ac2-d246-46cf-b626-63fcd337dd84"
      },
      "source": [
        "conv_3d1.clear_session(conv_3d1_model)\n",
        "conv_3d1=ModelConv3D1()\n",
        "conv_3d1.initialize_src_path(main_folder)\n",
        "conv_3d1.initialize_image_properties(image_height=100,image_width=100)\n",
        "conv_3d1.initialize_hyperparams(frames_to_sample=30,batch_size=30,num_epochs=2)\n",
        "conv_3d1_model=conv_3d1.define_model()\n",
        "print(\"Total Params:\", conv_3d1_model.count_params())\n",
        "conv_3d1.train_model(conv_3d1_model)"
      ],
      "execution_count": 20,
      "outputs": [
        {
          "output_type": "stream",
          "text": [
            "Total Params: 687813\n",
            "WARNING:tensorflow:`period` argument is deprecated. Please use `save_freq` to specify the frequency in number of batches seen.\n",
            "Epoch 1/2\n",
            "23/23 [==============================] - ETA: 0s - batch: 11.0000 - size: 28.8261 - loss: 1.6421 - categorical_accuracy: 0.3771\n",
            "Epoch 00001: saving model to model_init_2021-03-1911_05_40.226794/model-00001-1.64211-0.37707-2.26126-0.21000.h5\n",
            "23/23 [==============================] - 237s 10s/step - batch: 11.0000 - size: 28.8261 - loss: 1.6421 - categorical_accuracy: 0.3771 - val_loss: 2.2613 - val_categorical_accuracy: 0.2100\n",
            "Epoch 2/2\n",
            "23/23 [==============================] - ETA: 0s - batch: 11.0000 - size: 28.8261 - loss: 1.1609 - categorical_accuracy: 0.5475\n",
            "Epoch 00002: saving model to model_init_2021-03-1911_05_40.226794/model-00002-1.16092-0.54751-4.86363-0.16000.h5\n",
            "23/23 [==============================] - 198s 9s/step - batch: 11.0000 - size: 28.8261 - loss: 1.1609 - categorical_accuracy: 0.5475 - val_loss: 4.8636 - val_categorical_accuracy: 0.1600\n"
          ],
          "name": "stdout"
        },
        {
          "output_type": "execute_result",
          "data": {
            "text/plain": [
              "<tensorflow.python.keras.callbacks.History at 0x7fd0ac2c5850>"
            ]
          },
          "metadata": {
            "tags": []
          },
          "execution_count": 20
        }
      ]
    },
    {
      "cell_type": "code",
      "metadata": {
        "id": "xReB_wtlNVrx",
        "colab": {
          "base_uri": "https://localhost:8080/"
        },
        "outputId": "8fcbce9c-9cf5-455e-855c-dc3c87597e70"
      },
      "source": [
        "conv_3d1.clear_session(conv_3d1_model)\n",
        "conv_3d1=ModelConv3D1()\n",
        "conv_3d1.initialize_src_path(main_folder)\n",
        "conv_3d1.initialize_image_properties(image_height=100,image_width=100)\n",
        "conv_3d1.initialize_hyperparams(frames_to_sample=30,batch_size=60,num_epochs=2)\n",
        "conv_3d1_model=conv_3d1.define_model()\n",
        "print(\"Total Params:\", conv_3d1_model.count_params())\n",
        "conv_3d1.train_model(conv_3d1_model)"
      ],
      "execution_count": 21,
      "outputs": [
        {
          "output_type": "stream",
          "text": [
            "Total Params: 687813\n",
            "WARNING:tensorflow:`period` argument is deprecated. Please use `save_freq` to specify the frequency in number of batches seen.\n",
            "Epoch 1/2\n",
            "12/12 [==============================] - ETA: 0s - batch: 5.5000 - size: 55.2500 - loss: 1.5903 - categorical_accuracy: 0.3786 \n",
            "Epoch 00001: saving model to model_init_2021-03-1911_12_57.049599/model-00001-1.59028-0.37858-1.74635-0.21000.h5\n",
            "12/12 [==============================] - 234s 19s/step - batch: 5.5000 - size: 55.2500 - loss: 1.5903 - categorical_accuracy: 0.3786 - val_loss: 1.7464 - val_categorical_accuracy: 0.2100\n",
            "Epoch 2/2\n",
            "12/12 [==============================] - ETA: 0s - batch: 5.5000 - size: 55.2500 - loss: 1.1716 - categorical_accuracy: 0.5535 \n",
            "Epoch 00002: saving model to model_init_2021-03-1911_12_57.049599/model-00002-1.17164-0.55354-2.09168-0.16000.h5\n",
            "12/12 [==============================] - 205s 19s/step - batch: 5.5000 - size: 55.2500 - loss: 1.1716 - categorical_accuracy: 0.5535 - val_loss: 2.0917 - val_categorical_accuracy: 0.1600\n"
          ],
          "name": "stdout"
        },
        {
          "output_type": "execute_result",
          "data": {
            "text/plain": [
              "<tensorflow.python.keras.callbacks.History at 0x7fd0f2366a90>"
            ]
          },
          "metadata": {
            "tags": []
          },
          "execution_count": 21
        }
      ]
    },
    {
      "cell_type": "code",
      "metadata": {
        "id": "DoKopL3YNVry",
        "colab": {
          "base_uri": "https://localhost:8080/"
        },
        "outputId": "7b98b979-c009-4abf-a26a-61f315297590"
      },
      "source": [
        "conv_3d1.clear_session(conv_3d1_model)\n",
        "conv_3d1=ModelConv3D1()\n",
        "conv_3d1.initialize_src_path(main_folder)\n",
        "conv_3d1.initialize_image_properties(image_height=100,image_width=100)\n",
        "conv_3d1.initialize_hyperparams(frames_to_sample=16,batch_size=60,num_epochs=2)\n",
        "conv_3d1_model=conv_3d1.define_model()\n",
        "print(\"Total Params:\", conv_3d1_model.count_params())\n",
        "conv_3d1.train_model(conv_3d1_model)"
      ],
      "execution_count": 22,
      "outputs": [
        {
          "output_type": "stream",
          "text": [
            "Total Params: 687813\n",
            "WARNING:tensorflow:`period` argument is deprecated. Please use `save_freq` to specify the frequency in number of batches seen.\n",
            "Epoch 1/2\n",
            "12/12 [==============================] - ETA: 0s - batch: 5.5000 - size: 55.2500 - loss: 1.6672 - categorical_accuracy: 0.3590\n",
            "Epoch 00001: saving model to model_init_2021-03-1911_20_17.781589/model-00001-1.66723-0.35897-1.85900-0.17000.h5\n",
            "12/12 [==============================] - 130s 10s/step - batch: 5.5000 - size: 55.2500 - loss: 1.6672 - categorical_accuracy: 0.3590 - val_loss: 1.8590 - val_categorical_accuracy: 0.1700\n",
            "Epoch 2/2\n",
            "11/12 [==========================>...] - ETA: 8s - batch: 5.0000 - size: 60.0000 - loss: 1.0932 - categorical_accuracy: 0.5455 \n",
            "Epoch 00002: saving model to model_init_2021-03-1911_20_17.781589/model-00002-1.11940-0.54449-2.77470-0.23000.h5\n",
            "12/12 [==============================] - 109s 10s/step - batch: 5.5000 - size: 55.2500 - loss: 1.1194 - categorical_accuracy: 0.5445 - val_loss: 2.7747 - val_categorical_accuracy: 0.2300\n"
          ],
          "name": "stdout"
        },
        {
          "output_type": "execute_result",
          "data": {
            "text/plain": [
              "<tensorflow.python.keras.callbacks.History at 0x7fd0a6fbf810>"
            ]
          },
          "metadata": {
            "tags": []
          },
          "execution_count": 22
        }
      ]
    },
    {
      "cell_type": "code",
      "metadata": {
        "id": "IHABNT4GNVry",
        "colab": {
          "base_uri": "https://localhost:8080/"
        },
        "outputId": "cf514b98-f2e9-4f08-c04c-242c6f9b800a"
      },
      "source": [
        "conv_3d1.clear_session(conv_3d1_model)\n",
        "conv_3d1=ModelConv3D1()\n",
        "conv_3d1.initialize_src_path(main_folder)\n",
        "conv_3d1.initialize_image_properties(image_height=100,image_width=100)\n",
        "conv_3d1.initialize_hyperparams(frames_to_sample=16,batch_size=80,num_epochs=2)\n",
        "conv_3d1_model=conv_3d1.define_model()\n",
        "print(\"Total Params:\", conv_3d1_model.count_params())\n",
        "conv_3d1.train_model(conv_3d1_model)"
      ],
      "execution_count": 23,
      "outputs": [
        {
          "output_type": "stream",
          "text": [
            "Total Params: 687813\n",
            "WARNING:tensorflow:`period` argument is deprecated. Please use `save_freq` to specify the frequency in number of batches seen.\n",
            "Epoch 1/2\n",
            "9/9 [==============================] - ETA: 0s - batch: 4.0000 - size: 73.6667 - loss: 1.8210 - categorical_accuracy: 0.3394 \n",
            "Epoch 00001: saving model to model_init_2021-03-1911_24_18.004930/model-00001-1.82104-0.33937-1.79095-0.16000.h5\n",
            "9/9 [==============================] - 126s 14s/step - batch: 4.0000 - size: 73.6667 - loss: 1.8210 - categorical_accuracy: 0.3394 - val_loss: 1.7909 - val_categorical_accuracy: 0.1600\n",
            "Epoch 2/2\n",
            "9/9 [==============================] - ETA: 0s - batch: 4.0000 - size: 73.6667 - loss: 1.2996 - categorical_accuracy: 0.5068 \n",
            "Epoch 00002: saving model to model_init_2021-03-1911_24_18.004930/model-00002-1.29961-0.50679-3.32282-0.16000.h5\n",
            "9/9 [==============================] - 109s 14s/step - batch: 4.0000 - size: 73.6667 - loss: 1.2996 - categorical_accuracy: 0.5068 - val_loss: 3.3228 - val_categorical_accuracy: 0.1600\n"
          ],
          "name": "stdout"
        },
        {
          "output_type": "execute_result",
          "data": {
            "text/plain": [
              "<tensorflow.python.keras.callbacks.History at 0x7fd0a7e5dad0>"
            ]
          },
          "metadata": {
            "tags": []
          },
          "execution_count": 23
        }
      ]
    },
    {
      "cell_type": "code",
      "metadata": {
        "id": "d2T9W4HyNVrz",
        "colab": {
          "base_uri": "https://localhost:8080/"
        },
        "outputId": "20321b85-27ed-445f-e2fe-29f81238f203"
      },
      "source": [
        "conv_3d1.clear_session(conv_3d1_model)\n",
        "conv_3d1=ModelConv3D1()\n",
        "conv_3d1.initialize_src_path(main_folder)\n",
        "conv_3d1.initialize_image_properties(image_height=160,image_width=160)\n",
        "conv_3d1.initialize_hyperparams(frames_to_sample=30,batch_size=15,num_epochs=2)\n",
        "conv_3d1_model=conv_3d1.define_model()\n",
        "print(\"Total Params:\", conv_3d1_model.count_params())\n",
        "conv_3d1.train_model(conv_3d1_model)"
      ],
      "execution_count": 24,
      "outputs": [
        {
          "output_type": "stream",
          "text": [
            "Total Params: 1736389\n",
            "WARNING:tensorflow:`period` argument is deprecated. Please use `save_freq` to specify the frequency in number of batches seen.\n",
            "Epoch 1/2\n",
            "45/45 [==============================] - ETA: 0s - batch: 22.0000 - size: 14.7333 - loss: 1.6320 - categorical_accuracy: 0.3786\n",
            "Epoch 00001: saving model to model_init_2021-03-1911_28_15.521232/model-00001-1.63197-0.37858-9.75865-0.21000.h5\n",
            "45/45 [==============================] - 273s 6s/step - batch: 22.0000 - size: 14.7333 - loss: 1.6320 - categorical_accuracy: 0.3786 - val_loss: 9.7586 - val_categorical_accuracy: 0.2100\n",
            "Epoch 2/2\n",
            "45/45 [==============================] - ETA: 0s - batch: 22.0000 - size: 14.7333 - loss: 1.1658 - categorical_accuracy: 0.5490\n",
            "Epoch 00002: saving model to model_init_2021-03-1911_28_15.521232/model-00002-1.16583-0.54902-11.95590-0.23000.h5\n",
            "45/45 [==============================] - 230s 5s/step - batch: 22.0000 - size: 14.7333 - loss: 1.1658 - categorical_accuracy: 0.5490 - val_loss: 11.9559 - val_categorical_accuracy: 0.2300\n"
          ],
          "name": "stdout"
        },
        {
          "output_type": "execute_result",
          "data": {
            "text/plain": [
              "<tensorflow.python.keras.callbacks.History at 0x7fd0a71368d0>"
            ]
          },
          "metadata": {
            "tags": []
          },
          "execution_count": 24
        }
      ]
    },
    {
      "cell_type": "code",
      "metadata": {
        "id": "25WU3xHcNVrz",
        "colab": {
          "base_uri": "https://localhost:8080/"
        },
        "outputId": "c7845700-a178-441e-fbca-f38db7b10720"
      },
      "source": [
        "conv_3d1.clear_session(conv_3d1_model)\n",
        "conv_3d1=ModelConv3D1()\n",
        "conv_3d1.initialize_src_path(main_folder)\n",
        "conv_3d1.initialize_image_properties(image_height=160,image_width=160)\n",
        "conv_3d1.initialize_hyperparams(frames_to_sample=16,batch_size=15,num_epochs=2)\n",
        "conv_3d1_model=conv_3d1.define_model()\n",
        "print(\"Total Params:\", conv_3d1_model.count_params())\n",
        "conv_3d1.train_model(conv_3d1_model)"
      ],
      "execution_count": 25,
      "outputs": [
        {
          "output_type": "stream",
          "text": [
            "Total Params: 1736389\n",
            "WARNING:tensorflow:`period` argument is deprecated. Please use `save_freq` to specify the frequency in number of batches seen.\n",
            "Epoch 1/2\n",
            "45/45 [==============================] - ETA: 0s - batch: 22.0000 - size: 14.7333 - loss: 1.5646 - categorical_accuracy: 0.4148\n",
            "Epoch 00001: saving model to model_init_2021-03-1911_36_40.225946/model-00001-1.56457-0.41478-4.34293-0.16000.h5\n",
            "45/45 [==============================] - 145s 3s/step - batch: 22.0000 - size: 14.7333 - loss: 1.5646 - categorical_accuracy: 0.4148 - val_loss: 4.3429 - val_categorical_accuracy: 0.1600\n",
            "Epoch 2/2\n",
            "45/45 [==============================] - ETA: 0s - batch: 22.0000 - size: 14.7333 - loss: 1.1234 - categorical_accuracy: 0.5596\n",
            "Epoch 00002: saving model to model_init_2021-03-1911_36_40.225946/model-00002-1.12337-0.55958-9.48469-0.13000.h5\n",
            "45/45 [==============================] - 122s 3s/step - batch: 22.0000 - size: 14.7333 - loss: 1.1234 - categorical_accuracy: 0.5596 - val_loss: 9.4847 - val_categorical_accuracy: 0.1300\n"
          ],
          "name": "stdout"
        },
        {
          "output_type": "execute_result",
          "data": {
            "text/plain": [
              "<tensorflow.python.keras.callbacks.History at 0x7fd0a78c3ed0>"
            ]
          },
          "metadata": {
            "tags": []
          },
          "execution_count": 25
        }
      ]
    },
    {
      "cell_type": "code",
      "metadata": {
        "id": "KPzFJDfUNVr0",
        "colab": {
          "base_uri": "https://localhost:8080/"
        },
        "outputId": "1515271e-30d2-4b3e-b8ce-15b4c17c15a9"
      },
      "source": [
        "conv_3d1.clear_session(conv_3d1_model)\n",
        "conv_3d1=ModelConv3D1()\n",
        "conv_3d1.initialize_src_path(main_folder)\n",
        "conv_3d1.initialize_image_properties(image_height=100,image_width=100)\n",
        "conv_3d1.initialize_hyperparams(frames_to_sample=16,batch_size=15,num_epochs=2)\n",
        "conv_3d1_model=conv_3d1.define_model()\n",
        "print(\"Total Params:\", conv_3d1_model.count_params())\n",
        "conv_3d1.train_model(conv_3d1_model)"
      ],
      "execution_count": 26,
      "outputs": [
        {
          "output_type": "stream",
          "text": [
            "Total Params: 687813\n",
            "WARNING:tensorflow:`period` argument is deprecated. Please use `save_freq` to specify the frequency in number of batches seen.\n",
            "Epoch 1/2\n",
            "45/45 [==============================] - ETA: 0s - batch: 22.0000 - size: 14.7333 - loss: 1.6303 - categorical_accuracy: 0.3937\n",
            "Epoch 00001: saving model to model_init_2021-03-1911_41_09.403341/model-00001-1.63029-0.39367-2.76268-0.21000.h5\n",
            "45/45 [==============================] - 125s 3s/step - batch: 22.0000 - size: 14.7333 - loss: 1.6303 - categorical_accuracy: 0.3937 - val_loss: 2.7627 - val_categorical_accuracy: 0.2100\n",
            "Epoch 2/2\n",
            "45/45 [==============================] - ETA: 0s - batch: 22.0000 - size: 14.7333 - loss: 1.1635 - categorical_accuracy: 0.5505\n",
            "Epoch 00002: saving model to model_init_2021-03-1911_41_09.403341/model-00002-1.16354-0.55053-3.88077-0.13000.h5\n",
            "45/45 [==============================] - 108s 2s/step - batch: 22.0000 - size: 14.7333 - loss: 1.1635 - categorical_accuracy: 0.5505 - val_loss: 3.8808 - val_categorical_accuracy: 0.1300\n"
          ],
          "name": "stdout"
        },
        {
          "output_type": "execute_result",
          "data": {
            "text/plain": [
              "<tensorflow.python.keras.callbacks.History at 0x7fd0a7384b90>"
            ]
          },
          "metadata": {
            "tags": []
          },
          "execution_count": 26
        }
      ]
    },
    {
      "cell_type": "code",
      "metadata": {
        "id": "zdQ6Aed-NVr4",
        "colab": {
          "base_uri": "https://localhost:8080/"
        },
        "outputId": "c08f097b-2787-47c6-e95d-79a33f68b157"
      },
      "source": [
        "conv_3d1.clear_session(conv_3d1_model)\n",
        "conv_3d1=ModelConv3D1()\n",
        "conv_3d1.initialize_src_path(main_folder)\n",
        "conv_3d1.initialize_image_properties(image_height=100,image_width=100)\n",
        "conv_3d1.initialize_hyperparams(frames_to_sample=16,batch_size=10,num_epochs=2)\n",
        "conv_3d1_model=conv_3d1.define_model()\n",
        "print(\"Total Params:\", conv_3d1_model.count_params())\n",
        "conv_3d1.train_model(conv_3d1_model)"
      ],
      "execution_count": 27,
      "outputs": [
        {
          "output_type": "stream",
          "text": [
            "Total Params: 687813\n",
            "WARNING:tensorflow:`period` argument is deprecated. Please use `save_freq` to specify the frequency in number of batches seen.\n",
            "Epoch 1/2\n",
            "67/67 [==============================] - ETA: 0s - batch: 33.0000 - size: 9.8955 - loss: 1.6248 - categorical_accuracy: 0.3876 \n",
            "Epoch 00001: saving model to model_init_2021-03-1911_45_05.242413/model-00001-1.62483-0.38763-5.19133-0.21000.h5\n",
            "67/67 [==============================] - 127s 2s/step - batch: 33.0000 - size: 9.8955 - loss: 1.6248 - categorical_accuracy: 0.3876 - val_loss: 5.1913 - val_categorical_accuracy: 0.2100\n",
            "Epoch 2/2\n",
            "67/67 [==============================] - ETA: 0s - batch: 33.0000 - size: 9.8955 - loss: 1.1893 - categorical_accuracy: 0.5158 \n",
            "Epoch 00002: saving model to model_init_2021-03-1911_45_05.242413/model-00002-1.18933-0.51584-6.72857-0.22000.h5\n",
            "67/67 [==============================] - 107s 2s/step - batch: 33.0000 - size: 9.8955 - loss: 1.1893 - categorical_accuracy: 0.5158 - val_loss: 6.7286 - val_categorical_accuracy: 0.2200\n"
          ],
          "name": "stdout"
        },
        {
          "output_type": "execute_result",
          "data": {
            "text/plain": [
              "<tensorflow.python.keras.callbacks.History at 0x7fd0a6ceefd0>"
            ]
          },
          "metadata": {
            "tags": []
          },
          "execution_count": 27
        }
      ]
    },
    {
      "cell_type": "code",
      "metadata": {
        "id": "1OYsvNb7NVr5",
        "colab": {
          "base_uri": "https://localhost:8080/"
        },
        "outputId": "3115f06b-2511-4903-8390-34e1720fcfaf"
      },
      "source": [
        "conv_3d1.clear_session(conv_3d1_model)\n",
        "conv_3d1=ModelConv3D1()\n",
        "conv_3d1.initialize_src_path(main_folder)\n",
        "conv_3d1.initialize_image_properties(image_height=100,image_width=100)\n",
        "conv_3d1.initialize_hyperparams(frames_to_sample=30,batch_size=10,num_epochs=2)\n",
        "conv_3d1_model=conv_3d1.define_model()\n",
        "print(\"Total Params:\", conv_3d1_model.count_params())\n",
        "conv_3d1.train_model(conv_3d1_model)"
      ],
      "execution_count": 28,
      "outputs": [
        {
          "output_type": "stream",
          "text": [
            "Total Params: 687813\n",
            "WARNING:tensorflow:`period` argument is deprecated. Please use `save_freq` to specify the frequency in number of batches seen.\n",
            "Epoch 1/2\n",
            "67/67 [==============================] - ETA: 0s - batch: 33.0000 - size: 9.8955 - loss: 1.6775 - categorical_accuracy: 0.3952 \n",
            "Epoch 00001: saving model to model_init_2021-03-1911_49_01.520888/model-00001-1.67750-0.39517-2.82067-0.21000.h5\n",
            "67/67 [==============================] - 227s 3s/step - batch: 33.0000 - size: 9.8955 - loss: 1.6775 - categorical_accuracy: 0.3952 - val_loss: 2.8207 - val_categorical_accuracy: 0.2100\n",
            "Epoch 2/2\n",
            "67/67 [==============================] - ETA: 0s - batch: 33.0000 - size: 9.8955 - loss: 1.2765 - categorical_accuracy: 0.5008 \n",
            "Epoch 00002: saving model to model_init_2021-03-1911_49_01.520888/model-00002-1.27647-0.50075-4.86420-0.20000.h5\n",
            "67/67 [==============================] - 203s 3s/step - batch: 33.0000 - size: 9.8955 - loss: 1.2765 - categorical_accuracy: 0.5008 - val_loss: 4.8642 - val_categorical_accuracy: 0.2000\n"
          ],
          "name": "stdout"
        },
        {
          "output_type": "execute_result",
          "data": {
            "text/plain": [
              "<tensorflow.python.keras.callbacks.History at 0x7fd0f2076d10>"
            ]
          },
          "metadata": {
            "tags": []
          },
          "execution_count": 28
        }
      ]
    },
    {
      "cell_type": "code",
      "metadata": {
        "id": "6D4BJx6gNVr6",
        "colab": {
          "base_uri": "https://localhost:8080/"
        },
        "outputId": "bec769f2-c2ad-4e0d-a5bd-fe368e22d8d3"
      },
      "source": [
        "conv_3d1.clear_session(conv_3d1_model)\n",
        "conv_3d1=ModelConv3D1()\n",
        "conv_3d1.initialize_src_path(main_folder)\n",
        "conv_3d1.initialize_image_properties(image_height=160,image_width=160)\n",
        "conv_3d1.initialize_hyperparams(frames_to_sample=30,batch_size=10,num_epochs=2)\n",
        "conv_3d1_model=conv_3d1.define_model()\n",
        "print(\"Total Params:\", conv_3d1_model.count_params())\n",
        "conv_3d1.train_model(conv_3d1_model)"
      ],
      "execution_count": 29,
      "outputs": [
        {
          "output_type": "stream",
          "text": [
            "Total Params: 1736389\n",
            "WARNING:tensorflow:`period` argument is deprecated. Please use `save_freq` to specify the frequency in number of batches seen.\n",
            "Epoch 1/2\n",
            "67/67 [==============================] - ETA: 0s - batch: 33.0000 - size: 9.8955 - loss: 1.5460 - categorical_accuracy: 0.4329 \n",
            "Epoch 00001: saving model to model_init_2021-03-1911_56_13.516863/model-00001-1.54599-0.43288-6.82977-0.21000.h5\n",
            "67/67 [==============================] - 268s 4s/step - batch: 33.0000 - size: 9.8955 - loss: 1.5460 - categorical_accuracy: 0.4329 - val_loss: 6.8298 - val_categorical_accuracy: 0.2100\n",
            "Epoch 2/2\n",
            "67/67 [==============================] - ETA: 0s - batch: 33.0000 - size: 9.8955 - loss: 1.1913 - categorical_accuracy: 0.5596 \n",
            "Epoch 00002: saving model to model_init_2021-03-1911_56_13.516863/model-00002-1.19128-0.55958-14.35188-0.23000.h5\n",
            "67/67 [==============================] - 231s 3s/step - batch: 33.0000 - size: 9.8955 - loss: 1.1913 - categorical_accuracy: 0.5596 - val_loss: 14.3519 - val_categorical_accuracy: 0.2300\n"
          ],
          "name": "stdout"
        },
        {
          "output_type": "execute_result",
          "data": {
            "text/plain": [
              "<tensorflow.python.keras.callbacks.History at 0x7fd0f1b4ef90>"
            ]
          },
          "metadata": {
            "tags": []
          },
          "execution_count": 29
        }
      ]
    },
    {
      "cell_type": "code",
      "metadata": {
        "id": "oo38TA_HNVr6",
        "colab": {
          "base_uri": "https://localhost:8080/"
        },
        "outputId": "40941bb8-fe38-4312-913c-10a857f7aa2d"
      },
      "source": [
        "conv_3d1.clear_session(conv_3d1_model)\n",
        "conv_3d1=ModelConv3D1()\n",
        "conv_3d1.initialize_src_path(main_folder)\n",
        "conv_3d1.initialize_image_properties(image_height=160,image_width=160)\n",
        "conv_3d1.initialize_hyperparams(frames_to_sample=16,batch_size=10,num_epochs=2)\n",
        "conv_3d1_model=conv_3d1.define_model()\n",
        "print(\"Total Params:\", conv_3d1_model.count_params())\n",
        "conv_3d1.train_model(conv_3d1_model)"
      ],
      "execution_count": 30,
      "outputs": [
        {
          "output_type": "stream",
          "text": [
            "Total Params: 1736389\n",
            "WARNING:tensorflow:`period` argument is deprecated. Please use `save_freq` to specify the frequency in number of batches seen.\n",
            "Epoch 1/2\n",
            "67/67 [==============================] - ETA: 0s - batch: 33.0000 - size: 9.8955 - loss: 1.5172 - categorical_accuracy: 0.4268 \n",
            "Epoch 00001: saving model to model_init_2021-03-1912_04_34.791733/model-00001-1.51717-0.42685-2.92033-0.21000.h5\n",
            "67/67 [==============================] - 145s 2s/step - batch: 33.0000 - size: 9.8955 - loss: 1.5172 - categorical_accuracy: 0.4268 - val_loss: 2.9203 - val_categorical_accuracy: 0.2100\n",
            "Epoch 2/2\n",
            "67/67 [==============================] - ETA: 0s - batch: 33.0000 - size: 9.8955 - loss: 1.1731 - categorical_accuracy: 0.5490 \n",
            "Epoch 00002: saving model to model_init_2021-03-1912_04_34.791733/model-00002-1.17312-0.54902-4.31155-0.24000.h5\n",
            "67/67 [==============================] - 127s 2s/step - batch: 33.0000 - size: 9.8955 - loss: 1.1731 - categorical_accuracy: 0.5490 - val_loss: 4.3116 - val_categorical_accuracy: 0.2400\n"
          ],
          "name": "stdout"
        },
        {
          "output_type": "execute_result",
          "data": {
            "text/plain": [
              "<tensorflow.python.keras.callbacks.History at 0x7fd092536750>"
            ]
          },
          "metadata": {
            "tags": []
          },
          "execution_count": 30
        }
      ]
    },
    {
      "cell_type": "code",
      "metadata": {
        "id": "ns4lmR9bNVr7",
        "colab": {
          "base_uri": "https://localhost:8080/"
        },
        "outputId": "884ce1e6-b442-4650-b1c4-d5ac80b8e659"
      },
      "source": [
        "conv_3d1.clear_session(conv_3d1_model)\n",
        "conv_3d1=ModelConv3D1()\n",
        "conv_3d1.initialize_src_path(main_folder)\n",
        "conv_3d1.initialize_image_properties(image_height=160,image_width=160)\n",
        "conv_3d1.initialize_hyperparams(frames_to_sample=16,batch_size=40,num_epochs=2)\n",
        "conv_3d1_model=conv_3d1.define_model()\n",
        "print(\"Total Params:\", conv_3d1_model.count_params())\n",
        "conv_3d1.train_model(conv_3d1_model)"
      ],
      "execution_count": 31,
      "outputs": [
        {
          "output_type": "stream",
          "text": [
            "Total Params: 1736389\n",
            "WARNING:tensorflow:`period` argument is deprecated. Please use `save_freq` to specify the frequency in number of batches seen.\n",
            "Epoch 1/2\n",
            "17/17 [==============================] - ETA: 0s - batch: 8.0000 - size: 39.0000 - loss: 1.5528 - categorical_accuracy: 0.4374\n",
            "Epoch 00001: saving model to model_init_2021-03-1912_09_08.478338/model-00001-1.55284-0.43741-3.06346-0.16000.h5\n",
            "17/17 [==============================] - 144s 8s/step - batch: 8.0000 - size: 39.0000 - loss: 1.5528 - categorical_accuracy: 0.4374 - val_loss: 3.0635 - val_categorical_accuracy: 0.1600\n",
            "Epoch 2/2\n",
            "17/17 [==============================] - ETA: 0s - batch: 8.0000 - size: 39.0000 - loss: 0.9967 - categorical_accuracy: 0.6259\n",
            "Epoch 00002: saving model to model_init_2021-03-1912_09_08.478338/model-00002-0.99665-0.62594-6.67558-0.17000.h5\n",
            "17/17 [==============================] - 125s 8s/step - batch: 8.0000 - size: 39.0000 - loss: 0.9967 - categorical_accuracy: 0.6259 - val_loss: 6.6756 - val_categorical_accuracy: 0.1700\n"
          ],
          "name": "stdout"
        },
        {
          "output_type": "execute_result",
          "data": {
            "text/plain": [
              "<tensorflow.python.keras.callbacks.History at 0x7fd0f15bc950>"
            ]
          },
          "metadata": {
            "tags": []
          },
          "execution_count": 31
        }
      ]
    },
    {
      "cell_type": "markdown",
      "metadata": {
        "id": "vVh5rIRCNVr7"
      },
      "source": [
        "### Observation\n",
        "\n",
        "**As we see from the above experiments image resolution and number of frames in sequence have more impact on training time than batch_size.**\n",
        "\n",
        "So experimentations are carried with batch size fixed around 15-40 and changing the resolution and number of image per sequence based on the device memory constraints . Models are designed such that their memory foot print is less than 50 MB which corresponds to 4.3 million parameters assuming the datatype size of parameters to be 12 bytes"
      ]
    },
    {
      "cell_type": "markdown",
      "metadata": {
        "id": "ZKbxe-Szy15j"
      },
      "source": [
        "## Model 1 - Base Model - No Data Augmentation Batch Size 40 and Epoch 15"
      ]
    },
    {
      "cell_type": "code",
      "metadata": {
        "id": "7LVQM4NsNVr7"
      },
      "source": [
        "class ModelConv3D1(ModelBuilder):\n",
        "    \n",
        "    def define_model(self,filtersize=(3,3,3),dense_neurons=64,dropout=0.25):\n",
        "\n",
        "        model = Sequential()\n",
        "        model.add(Conv3D(16, filtersize, padding='same',\n",
        "                 input_shape=(self.frames_to_sample,self.image_height,self.image_width,self.channels)))\n",
        "        model.add(Activation('relu'))\n",
        "        model.add(BatchNormalization())\n",
        "        model.add(MaxPooling3D(pool_size=(2, 2, 2)))\n",
        "\n",
        "        model.add(Conv3D(32, filtersize, padding='same'))\n",
        "        model.add(Activation('relu'))\n",
        "        model.add(BatchNormalization())\n",
        "        model.add(MaxPooling3D(pool_size=(2, 2, 2)))\n",
        "\n",
        "        model.add(Conv3D(64, filtersize, padding='same'))\n",
        "        model.add(Activation('relu'))\n",
        "        model.add(BatchNormalization())\n",
        "        model.add(MaxPooling3D(pool_size=(2, 2, 2)))\n",
        "\n",
        "        model.add(Conv3D(128, filtersize, padding='same'))\n",
        "        model.add(Activation('relu'))\n",
        "        model.add(BatchNormalization())\n",
        "        model.add(MaxPooling3D(pool_size=(2, 2, 2)))\n",
        "\n",
        "        model.add(Flatten())\n",
        "        model.add(Dense(dense_neurons,activation='relu'))\n",
        "        model.add(BatchNormalization())\n",
        "        model.add(Dropout(dropout))\n",
        "\n",
        "        model.add(Dense(dense_neurons,activation='relu'))\n",
        "        model.add(BatchNormalization())\n",
        "        model.add(Dropout(dropout))\n",
        "\n",
        "\n",
        "        model.add(Dense(self.num_classes,activation='softmax'))\n",
        "\n",
        "        optimiser = optimizers.Adam()\n",
        "        model.compile(optimizer=optimiser, loss='categorical_crossentropy', metrics=['categorical_accuracy'])\n",
        "        return model"
      ],
      "execution_count": 32,
      "outputs": []
    },
    {
      "cell_type": "code",
      "metadata": {
        "id": "-89dV5W8WAw3",
        "colab": {
          "base_uri": "https://localhost:8080/"
        },
        "outputId": "208ef250-3315-48f7-e889-71089f175ec5"
      },
      "source": [
        "conv_3d1.clear_session(conv_3d1_model)\n",
        "Conv3D1=ModelConv3D1()\n",
        "Conv3D1.initialize_src_path(main_folder)\n",
        "Conv3D1.initialize_image_properties(image_height=160,image_width=160)\n",
        "Conv3D1.initialize_hyperparams(frames_to_sample=20,batch_size=40,num_epochs=15)\n",
        "Conv3D1_model=Conv3D1.define_model()\n",
        "Conv3D1_model.summary()"
      ],
      "execution_count": 33,
      "outputs": [
        {
          "output_type": "stream",
          "text": [
            "Model: \"sequential\"\n",
            "_________________________________________________________________\n",
            "Layer (type)                 Output Shape              Param #   \n",
            "=================================================================\n",
            "conv3d (Conv3D)              (None, 20, 160, 160, 16)  1312      \n",
            "_________________________________________________________________\n",
            "activation (Activation)      (None, 20, 160, 160, 16)  0         \n",
            "_________________________________________________________________\n",
            "batch_normalization (BatchNo (None, 20, 160, 160, 16)  64        \n",
            "_________________________________________________________________\n",
            "max_pooling3d (MaxPooling3D) (None, 10, 80, 80, 16)    0         \n",
            "_________________________________________________________________\n",
            "conv3d_1 (Conv3D)            (None, 10, 80, 80, 32)    13856     \n",
            "_________________________________________________________________\n",
            "activation_1 (Activation)    (None, 10, 80, 80, 32)    0         \n",
            "_________________________________________________________________\n",
            "batch_normalization_1 (Batch (None, 10, 80, 80, 32)    128       \n",
            "_________________________________________________________________\n",
            "max_pooling3d_1 (MaxPooling3 (None, 5, 40, 40, 32)     0         \n",
            "_________________________________________________________________\n",
            "conv3d_2 (Conv3D)            (None, 5, 40, 40, 64)     55360     \n",
            "_________________________________________________________________\n",
            "activation_2 (Activation)    (None, 5, 40, 40, 64)     0         \n",
            "_________________________________________________________________\n",
            "batch_normalization_2 (Batch (None, 5, 40, 40, 64)     256       \n",
            "_________________________________________________________________\n",
            "max_pooling3d_2 (MaxPooling3 (None, 2, 20, 20, 64)     0         \n",
            "_________________________________________________________________\n",
            "conv3d_3 (Conv3D)            (None, 2, 20, 20, 128)    221312    \n",
            "_________________________________________________________________\n",
            "activation_3 (Activation)    (None, 2, 20, 20, 128)    0         \n",
            "_________________________________________________________________\n",
            "batch_normalization_3 (Batch (None, 2, 20, 20, 128)    512       \n",
            "_________________________________________________________________\n",
            "max_pooling3d_3 (MaxPooling3 (None, 1, 10, 10, 128)    0         \n",
            "_________________________________________________________________\n",
            "flatten (Flatten)            (None, 12800)             0         \n",
            "_________________________________________________________________\n",
            "dense (Dense)                (None, 64)                819264    \n",
            "_________________________________________________________________\n",
            "batch_normalization_4 (Batch (None, 64)                256       \n",
            "_________________________________________________________________\n",
            "dropout (Dropout)            (None, 64)                0         \n",
            "_________________________________________________________________\n",
            "dense_1 (Dense)              (None, 64)                4160      \n",
            "_________________________________________________________________\n",
            "batch_normalization_5 (Batch (None, 64)                256       \n",
            "_________________________________________________________________\n",
            "dropout_1 (Dropout)          (None, 64)                0         \n",
            "_________________________________________________________________\n",
            "dense_2 (Dense)              (None, 5)                 325       \n",
            "=================================================================\n",
            "Total params: 1,117,061\n",
            "Trainable params: 1,116,325\n",
            "Non-trainable params: 736\n",
            "_________________________________________________________________\n"
          ],
          "name": "stdout"
        }
      ]
    },
    {
      "cell_type": "code",
      "metadata": {
        "id": "5j884vjoWQD0",
        "colab": {
          "base_uri": "https://localhost:8080/"
        },
        "outputId": "351e5f04-3b07-4e5a-c3f5-dd7dd4f3930f"
      },
      "source": [
        "print(\"Total Params:\", Conv3D1_model.count_params())\n",
        "accuracy_check_model_1 = Conv3D1.train_model(Conv3D1_model)"
      ],
      "execution_count": 34,
      "outputs": [
        {
          "output_type": "stream",
          "text": [
            "Total Params: 1117061\n",
            "WARNING:tensorflow:`period` argument is deprecated. Please use `save_freq` to specify the frequency in number of batches seen.\n",
            "Epoch 1/15\n",
            "17/17 [==============================] - ETA: 0s - batch: 8.0000 - size: 39.0000 - loss: 1.4986 - categorical_accuracy: 0.4389\n",
            "Epoch 00001: saving model to model_init_2021-03-1912_13_40.865972/model-00001-1.49864-0.43891-1.52954-0.29000.h5\n",
            "17/17 [==============================] - 185s 10s/step - batch: 8.0000 - size: 39.0000 - loss: 1.4986 - categorical_accuracy: 0.4389 - val_loss: 1.5295 - val_categorical_accuracy: 0.2900\n",
            "Epoch 2/15\n",
            "17/17 [==============================] - ETA: 0s - batch: 8.0000 - size: 39.0000 - loss: 1.0626 - categorical_accuracy: 0.5837\n",
            "Epoch 00002: saving model to model_init_2021-03-1912_13_40.865972/model-00002-1.06261-0.58371-2.55840-0.15000.h5\n",
            "17/17 [==============================] - 157s 10s/step - batch: 8.0000 - size: 39.0000 - loss: 1.0626 - categorical_accuracy: 0.5837 - val_loss: 2.5584 - val_categorical_accuracy: 0.1500\n",
            "Epoch 3/15\n",
            "17/17 [==============================] - ETA: 0s - batch: 8.0000 - size: 39.0000 - loss: 0.8873 - categorical_accuracy: 0.6591\n",
            "Epoch 00003: saving model to model_init_2021-03-1912_13_40.865972/model-00003-0.88728-0.65913-3.42829-0.16000.h5\n",
            "17/17 [==============================] - 154s 10s/step - batch: 8.0000 - size: 39.0000 - loss: 0.8873 - categorical_accuracy: 0.6591 - val_loss: 3.4283 - val_categorical_accuracy: 0.1600\n",
            "Epoch 4/15\n",
            "17/17 [==============================] - ETA: 0s - batch: 8.0000 - size: 39.0000 - loss: 0.6047 - categorical_accuracy: 0.7798\n",
            "Epoch 00004: saving model to model_init_2021-03-1912_13_40.865972/model-00004-0.60475-0.77979-3.44856-0.16000.h5\n",
            "17/17 [==============================] - 154s 10s/step - batch: 8.0000 - size: 39.0000 - loss: 0.6047 - categorical_accuracy: 0.7798 - val_loss: 3.4486 - val_categorical_accuracy: 0.1600\n",
            "Epoch 5/15\n",
            "17/17 [==============================] - ETA: 0s - batch: 8.0000 - size: 39.0000 - loss: 0.4782 - categorical_accuracy: 0.8281\n",
            "Epoch 00005: saving model to model_init_2021-03-1912_13_40.865972/model-00005-0.47816-0.82805-3.86014-0.17000.h5\n",
            "\n",
            "Epoch 00005: ReduceLROnPlateau reducing learning rate to 0.00020000000949949026.\n",
            "17/17 [==============================] - 152s 9s/step - batch: 8.0000 - size: 39.0000 - loss: 0.4782 - categorical_accuracy: 0.8281 - val_loss: 3.8601 - val_categorical_accuracy: 0.1700\n",
            "Epoch 6/15\n",
            "17/17 [==============================] - ETA: 0s - batch: 8.0000 - size: 39.0000 - loss: 0.3803 - categorical_accuracy: 0.8839\n",
            "Epoch 00006: saving model to model_init_2021-03-1912_13_40.865972/model-00006-0.38029-0.88386-4.08151-0.20000.h5\n",
            "17/17 [==============================] - 158s 10s/step - batch: 8.0000 - size: 39.0000 - loss: 0.3803 - categorical_accuracy: 0.8839 - val_loss: 4.0815 - val_categorical_accuracy: 0.2000\n",
            "Epoch 7/15\n",
            "17/17 [==============================] - ETA: 0s - batch: 8.0000 - size: 39.0000 - loss: 0.2903 - categorical_accuracy: 0.9140\n",
            "Epoch 00007: saving model to model_init_2021-03-1912_13_40.865972/model-00007-0.29029-0.91403-4.52739-0.25000.h5\n",
            "17/17 [==============================] - 150s 9s/step - batch: 8.0000 - size: 39.0000 - loss: 0.2903 - categorical_accuracy: 0.9140 - val_loss: 4.5274 - val_categorical_accuracy: 0.2500\n",
            "Epoch 8/15\n",
            "17/17 [==============================] - ETA: 0s - batch: 8.0000 - size: 39.0000 - loss: 0.2610 - categorical_accuracy: 0.9291\n",
            "Epoch 00008: saving model to model_init_2021-03-1912_13_40.865972/model-00008-0.26102-0.92911-5.20063-0.23000.h5\n",
            "17/17 [==============================] - 154s 10s/step - batch: 8.0000 - size: 39.0000 - loss: 0.2610 - categorical_accuracy: 0.9291 - val_loss: 5.2006 - val_categorical_accuracy: 0.2300\n",
            "Epoch 9/15\n",
            "17/17 [==============================] - ETA: 0s - batch: 8.0000 - size: 39.0000 - loss: 0.2182 - categorical_accuracy: 0.9487\n",
            "Epoch 00009: saving model to model_init_2021-03-1912_13_40.865972/model-00009-0.21824-0.94872-4.64283-0.27000.h5\n",
            "\n",
            "Epoch 00009: ReduceLROnPlateau reducing learning rate to 4.0000001899898055e-05.\n",
            "17/17 [==============================] - 155s 10s/step - batch: 8.0000 - size: 39.0000 - loss: 0.2182 - categorical_accuracy: 0.9487 - val_loss: 4.6428 - val_categorical_accuracy: 0.2700\n",
            "Epoch 10/15\n",
            "17/17 [==============================] - ETA: 0s - batch: 8.0000 - size: 39.0000 - loss: 0.1826 - categorical_accuracy: 0.9638\n",
            "Epoch 00010: saving model to model_init_2021-03-1912_13_40.865972/model-00010-0.18264-0.96380-5.18504-0.26000.h5\n",
            "17/17 [==============================] - 152s 9s/step - batch: 8.0000 - size: 39.0000 - loss: 0.1826 - categorical_accuracy: 0.9638 - val_loss: 5.1850 - val_categorical_accuracy: 0.2600\n",
            "Epoch 11/15\n",
            "17/17 [==============================] - ETA: 0s - batch: 8.0000 - size: 39.0000 - loss: 0.1770 - categorical_accuracy: 0.9593\n",
            "Epoch 00011: saving model to model_init_2021-03-1912_13_40.865972/model-00011-0.17701-0.95928-5.12051-0.24000.h5\n",
            "17/17 [==============================] - 153s 9s/step - batch: 8.0000 - size: 39.0000 - loss: 0.1770 - categorical_accuracy: 0.9593 - val_loss: 5.1205 - val_categorical_accuracy: 0.2400\n",
            "Epoch 12/15\n",
            "17/17 [==============================] - ETA: 0s - batch: 8.0000 - size: 39.0000 - loss: 0.1884 - categorical_accuracy: 0.9608\n",
            "Epoch 00012: saving model to model_init_2021-03-1912_13_40.865972/model-00012-0.18840-0.96078-4.68607-0.32000.h5\n",
            "17/17 [==============================] - 159s 10s/step - batch: 8.0000 - size: 39.0000 - loss: 0.1884 - categorical_accuracy: 0.9608 - val_loss: 4.6861 - val_categorical_accuracy: 0.3200\n",
            "Epoch 13/15\n",
            "17/17 [==============================] - ETA: 0s - batch: 8.0000 - size: 39.0000 - loss: 0.1655 - categorical_accuracy: 0.9683\n",
            "Epoch 00013: saving model to model_init_2021-03-1912_13_40.865972/model-00013-0.16547-0.96833-4.80683-0.30000.h5\n",
            "\n",
            "Epoch 00013: ReduceLROnPlateau reducing learning rate to 8.000000525498762e-06.\n",
            "17/17 [==============================] - 154s 10s/step - batch: 8.0000 - size: 39.0000 - loss: 0.1655 - categorical_accuracy: 0.9683 - val_loss: 4.8068 - val_categorical_accuracy: 0.3000\n",
            "Epoch 14/15\n",
            "17/17 [==============================] - ETA: 0s - batch: 8.0000 - size: 39.0000 - loss: 0.1727 - categorical_accuracy: 0.9668\n",
            "Epoch 00014: saving model to model_init_2021-03-1912_13_40.865972/model-00014-0.17268-0.96682-4.63893-0.31000.h5\n",
            "17/17 [==============================] - 157s 10s/step - batch: 8.0000 - size: 39.0000 - loss: 0.1727 - categorical_accuracy: 0.9668 - val_loss: 4.6389 - val_categorical_accuracy: 0.3100\n",
            "Epoch 15/15\n",
            "17/17 [==============================] - ETA: 0s - batch: 8.0000 - size: 39.0000 - loss: 0.1762 - categorical_accuracy: 0.9623\n",
            "Epoch 00015: saving model to model_init_2021-03-1912_13_40.865972/model-00015-0.17617-0.96229-4.63450-0.28000.h5\n",
            "17/17 [==============================] - 153s 9s/step - batch: 8.0000 - size: 39.0000 - loss: 0.1762 - categorical_accuracy: 0.9623 - val_loss: 4.6345 - val_categorical_accuracy: 0.2800\n"
          ],
          "name": "stdout"
        }
      ]
    },
    {
      "cell_type": "code",
      "metadata": {
        "id": "r00TPGbNXXhX",
        "colab": {
          "base_uri": "https://localhost:8080/",
          "height": 267
        },
        "outputId": "d01dd62c-d011-4ea6-d667-4ea9f3a98736"
      },
      "source": [
        "plot(accuracy_check_model_1)"
      ],
      "execution_count": 35,
      "outputs": [
        {
          "output_type": "display_data",
          "data": {
            "image/png": "[encoded data removed]",
            "text/plain": [
              "<Figure size 1080x288 with 2 Axes>"
            ]
          },
          "metadata": {
            "tags": [],
            "needs_background": "light"
          }
        }
      ]
    },
    {
      "cell_type": "markdown",
      "metadata": {
        "id": "Dtxwayy_14Hn"
      },
      "source": [
        "#### Model is clearly overfitting. So we need to do data augmentation"
      ]
    },
    {
      "cell_type": "markdown",
      "metadata": {
        "id": "iJk2twS_2lRx"
      },
      "source": [
        "## Model 2 - Augment Data , (3,3,3) filter & 160x160 image resolution"
      ]
    },
    {
      "cell_type": "code",
      "metadata": {
        "id": "fQxHzlc92oOq",
        "colab": {
          "base_uri": "https://localhost:8080/"
        },
        "outputId": "5a138c5d-35da-4fe2-cc29-db2ea5f12864"
      },
      "source": [
        "Conv3D1.clear_session(Conv3D1_model)\n",
        "Conv3D2=ModelConv3D1()\n",
        "Conv3D2.initialize_src_path(main_folder)\n",
        "Conv3D2.initialize_image_properties(image_height=160,image_width=160)\n",
        "Conv3D2.initialize_hyperparams(frames_to_sample=20,batch_size=20,num_epochs=25)\n",
        "Conv3D2_model=Conv3D2.define_model(dense_neurons=256,dropout=0.5)\n",
        "Conv3D2_model.summary()"
      ],
      "execution_count": 36,
      "outputs": [
        {
          "output_type": "stream",
          "text": [
            "Model: \"sequential\"\n",
            "_________________________________________________________________\n",
            "Layer (type)                 Output Shape              Param #   \n",
            "=================================================================\n",
            "conv3d (Conv3D)              (None, 20, 160, 160, 16)  1312      \n",
            "_________________________________________________________________\n",
            "activation (Activation)      (None, 20, 160, 160, 16)  0         \n",
            "_________________________________________________________________\n",
            "batch_normalization (BatchNo (None, 20, 160, 160, 16)  64        \n",
            "_________________________________________________________________\n",
            "max_pooling3d (MaxPooling3D) (None, 10, 80, 80, 16)    0         \n",
            "_________________________________________________________________\n",
            "conv3d_1 (Conv3D)            (None, 10, 80, 80, 32)    13856     \n",
            "_________________________________________________________________\n",
            "activation_1 (Activation)    (None, 10, 80, 80, 32)    0         \n",
            "_________________________________________________________________\n",
            "batch_normalization_1 (Batch (None, 10, 80, 80, 32)    128       \n",
            "_________________________________________________________________\n",
            "max_pooling3d_1 (MaxPooling3 (None, 5, 40, 40, 32)     0         \n",
            "_________________________________________________________________\n",
            "conv3d_2 (Conv3D)            (None, 5, 40, 40, 64)     55360     \n",
            "_________________________________________________________________\n",
            "activation_2 (Activation)    (None, 5, 40, 40, 64)     0         \n",
            "_________________________________________________________________\n",
            "batch_normalization_2 (Batch (None, 5, 40, 40, 64)     256       \n",
            "_________________________________________________________________\n",
            "max_pooling3d_2 (MaxPooling3 (None, 2, 20, 20, 64)     0         \n",
            "_________________________________________________________________\n",
            "conv3d_3 (Conv3D)            (None, 2, 20, 20, 128)    221312    \n",
            "_________________________________________________________________\n",
            "activation_3 (Activation)    (None, 2, 20, 20, 128)    0         \n",
            "_________________________________________________________________\n",
            "batch_normalization_3 (Batch (None, 2, 20, 20, 128)    512       \n",
            "_________________________________________________________________\n",
            "max_pooling3d_3 (MaxPooling3 (None, 1, 10, 10, 128)    0         \n",
            "_________________________________________________________________\n",
            "flatten (Flatten)            (None, 12800)             0         \n",
            "_________________________________________________________________\n",
            "dense (Dense)                (None, 256)               3277056   \n",
            "_________________________________________________________________\n",
            "batch_normalization_4 (Batch (None, 256)               1024      \n",
            "_________________________________________________________________\n",
            "dropout (Dropout)            (None, 256)               0         \n",
            "_________________________________________________________________\n",
            "dense_1 (Dense)              (None, 256)               65792     \n",
            "_________________________________________________________________\n",
            "batch_normalization_5 (Batch (None, 256)               1024      \n",
            "_________________________________________________________________\n",
            "dropout_1 (Dropout)          (None, 256)               0         \n",
            "_________________________________________________________________\n",
            "dense_2 (Dense)              (None, 5)                 1285      \n",
            "=================================================================\n",
            "Total params: 3,638,981\n",
            "Trainable params: 3,637,477\n",
            "Non-trainable params: 1,504\n",
            "_________________________________________________________________\n"
          ],
          "name": "stdout"
        }
      ]
    },
    {
      "cell_type": "code",
      "metadata": {
        "id": "PCx8waqu3PY9",
        "colab": {
          "base_uri": "https://localhost:8080/"
        },
        "outputId": "05434a41-15b8-43d8-9850-f0421281360a"
      },
      "source": [
        "print(\"Total Params:\", Conv3D2_model.count_params())\n",
        "accuracy_check_model_2=Conv3D2.train_model(Conv3D2_model,augment_data=True)"
      ],
      "execution_count": 37,
      "outputs": [
        {
          "output_type": "stream",
          "text": [
            "Total Params: 3638981\n",
            "WARNING:tensorflow:`period` argument is deprecated. Please use `save_freq` to specify the frequency in number of batches seen.\n",
            "Epoch 1/25\n",
            "34/34 [==============================] - ETA: 0s - batch: 16.5000 - size: 39.0000 - loss: 1.9606 - categorical_accuracy: 0.3771\n",
            "Epoch 00001: saving model to model_init_2021-03-1912_52_51.937454/model-00001-1.96061-0.37707-1.59890-0.31000.h5\n",
            "34/34 [==============================] - 309s 9s/step - batch: 16.5000 - size: 39.0000 - loss: 1.9606 - categorical_accuracy: 0.3771 - val_loss: 1.5989 - val_categorical_accuracy: 0.3100\n",
            "Epoch 2/25\n",
            "34/34 [==============================] - ETA: 0s - batch: 16.5000 - size: 39.0000 - loss: 1.5682 - categorical_accuracy: 0.5060\n",
            "Epoch 00002: saving model to model_init_2021-03-1912_52_51.937454/model-00002-1.56820-0.50603-3.26335-0.26000.h5\n",
            "34/34 [==============================] - 287s 9s/step - batch: 16.5000 - size: 39.0000 - loss: 1.5682 - categorical_accuracy: 0.5060 - val_loss: 3.2633 - val_categorical_accuracy: 0.2600\n",
            "Epoch 3/25\n",
            "34/34 [==============================] - ETA: 0s - batch: 16.5000 - size: 39.0000 - loss: 1.3581 - categorical_accuracy: 0.5445\n",
            "Epoch 00003: saving model to model_init_2021-03-1912_52_51.937454/model-00003-1.35808-0.54449-5.68793-0.20000.h5\n",
            "34/34 [==============================] - 285s 9s/step - batch: 16.5000 - size: 39.0000 - loss: 1.3581 - categorical_accuracy: 0.5445 - val_loss: 5.6879 - val_categorical_accuracy: 0.2000\n",
            "Epoch 4/25\n",
            "34/34 [==============================] - ETA: 0s - batch: 16.5000 - size: 39.0000 - loss: 1.2208 - categorical_accuracy: 0.5777\n",
            "Epoch 00004: saving model to model_init_2021-03-1912_52_51.937454/model-00004-1.22084-0.57768-4.42046-0.15000.h5\n",
            "34/34 [==============================] - 290s 9s/step - batch: 16.5000 - size: 39.0000 - loss: 1.2208 - categorical_accuracy: 0.5777 - val_loss: 4.4205 - val_categorical_accuracy: 0.1500\n",
            "Epoch 5/25\n",
            "34/34 [==============================] - ETA: 0s - batch: 16.5000 - size: 39.0000 - loss: 1.4139 - categorical_accuracy: 0.5098\n",
            "Epoch 00005: saving model to model_init_2021-03-1912_52_51.937454/model-00005-1.41387-0.50980-1.34456-0.43000.h5\n",
            "34/34 [==============================] - 289s 9s/step - batch: 16.5000 - size: 39.0000 - loss: 1.4139 - categorical_accuracy: 0.5098 - val_loss: 1.3446 - val_categorical_accuracy: 0.4300\n",
            "Epoch 6/25\n",
            "34/34 [==============================] - ETA: 0s - batch: 16.5000 - size: 39.0000 - loss: 1.2000 - categorical_accuracy: 0.5649\n",
            "Epoch 00006: saving model to model_init_2021-03-1912_52_51.937454/model-00006-1.19999-0.56486-2.28454-0.30000.h5\n",
            "34/34 [==============================] - 292s 9s/step - batch: 16.5000 - size: 39.0000 - loss: 1.2000 - categorical_accuracy: 0.5649 - val_loss: 2.2845 - val_categorical_accuracy: 0.3000\n",
            "Epoch 7/25\n",
            "34/34 [==============================] - ETA: 0s - batch: 16.5000 - size: 39.0000 - loss: 0.9729 - categorical_accuracy: 0.6320\n",
            "Epoch 00007: saving model to model_init_2021-03-1912_52_51.937454/model-00007-0.97289-0.63198-1.95024-0.37000.h5\n",
            "34/34 [==============================] - 288s 9s/step - batch: 16.5000 - size: 39.0000 - loss: 0.9729 - categorical_accuracy: 0.6320 - val_loss: 1.9502 - val_categorical_accuracy: 0.3700\n",
            "Epoch 8/25\n",
            "34/34 [==============================] - ETA: 0s - batch: 16.5000 - size: 39.0000 - loss: 0.8582 - categorical_accuracy: 0.6916\n",
            "Epoch 00008: saving model to model_init_2021-03-1912_52_51.937454/model-00008-0.85818-0.69155-3.56736-0.29000.h5\n",
            "34/34 [==============================] - 291s 9s/step - batch: 16.5000 - size: 39.0000 - loss: 0.8582 - categorical_accuracy: 0.6916 - val_loss: 3.5674 - val_categorical_accuracy: 0.2900\n",
            "Epoch 9/25\n",
            "34/34 [==============================] - ETA: 0s - batch: 16.5000 - size: 39.0000 - loss: 0.7577 - categorical_accuracy: 0.7262\n",
            "Epoch 00009: saving model to model_init_2021-03-1912_52_51.937454/model-00009-0.75771-0.72624-3.06004-0.27000.h5\n",
            "\n",
            "Epoch 00009: ReduceLROnPlateau reducing learning rate to 0.00020000000949949026.\n",
            "34/34 [==============================] - 290s 9s/step - batch: 16.5000 - size: 39.0000 - loss: 0.7577 - categorical_accuracy: 0.7262 - val_loss: 3.0600 - val_categorical_accuracy: 0.2700\n",
            "Epoch 10/25\n",
            "34/34 [==============================] - ETA: 0s - batch: 16.5000 - size: 39.0000 - loss: 0.7256 - categorical_accuracy: 0.7451\n",
            "Epoch 00010: saving model to model_init_2021-03-1912_52_51.937454/model-00010-0.72562-0.74510-2.40032-0.35000.h5\n",
            "34/34 [==============================] - 289s 9s/step - batch: 16.5000 - size: 39.0000 - loss: 0.7256 - categorical_accuracy: 0.7451 - val_loss: 2.4003 - val_categorical_accuracy: 0.3500\n",
            "Epoch 11/25\n",
            "34/34 [==============================] - ETA: 0s - batch: 16.5000 - size: 39.0000 - loss: 0.5908 - categorical_accuracy: 0.7798\n",
            "Epoch 00011: saving model to model_init_2021-03-1912_52_51.937454/model-00011-0.59081-0.77979-2.56545-0.30000.h5\n",
            "34/34 [==============================] - 292s 9s/step - batch: 16.5000 - size: 39.0000 - loss: 0.5908 - categorical_accuracy: 0.7798 - val_loss: 2.5654 - val_categorical_accuracy: 0.3000\n",
            "Epoch 12/25\n",
            "34/34 [==============================] - ETA: 0s - batch: 16.5000 - size: 39.0000 - loss: 0.6058 - categorical_accuracy: 0.7896\n",
            "Epoch 00012: saving model to model_init_2021-03-1912_52_51.937454/model-00012-0.60576-0.78959-2.33822-0.36000.h5\n",
            "34/34 [==============================] - 290s 9s/step - batch: 16.5000 - size: 39.0000 - loss: 0.6058 - categorical_accuracy: 0.7896 - val_loss: 2.3382 - val_categorical_accuracy: 0.3600\n",
            "Epoch 13/25\n",
            "34/34 [==============================] - ETA: 0s - batch: 16.5000 - size: 39.0000 - loss: 0.5356 - categorical_accuracy: 0.7934\n",
            "Epoch 00013: saving model to model_init_2021-03-1912_52_51.937454/model-00013-0.53558-0.79336-1.85799-0.46000.h5\n",
            "\n",
            "Epoch 00013: ReduceLROnPlateau reducing learning rate to 4.0000001899898055e-05.\n",
            "34/34 [==============================] - 296s 9s/step - batch: 16.5000 - size: 39.0000 - loss: 0.5356 - categorical_accuracy: 0.7934 - val_loss: 1.8580 - val_categorical_accuracy: 0.4600\n",
            "Epoch 14/25\n",
            "34/34 [==============================] - ETA: 0s - batch: 16.5000 - size: 39.0000 - loss: 0.5529 - categorical_accuracy: 0.8054\n",
            "Epoch 00014: saving model to model_init_2021-03-1912_52_51.937454/model-00014-0.55294-0.80543-1.59362-0.45000.h5\n",
            "34/34 [==============================] - 295s 9s/step - batch: 16.5000 - size: 39.0000 - loss: 0.5529 - categorical_accuracy: 0.8054 - val_loss: 1.5936 - val_categorical_accuracy: 0.4500\n",
            "Epoch 15/25\n",
            "34/34 [==============================] - ETA: 0s - batch: 16.5000 - size: 39.0000 - loss: 0.5254 - categorical_accuracy: 0.8077\n",
            "Epoch 00015: saving model to model_init_2021-03-1912_52_51.937454/model-00015-0.52536-0.80769-1.72578-0.44000.h5\n",
            "34/34 [==============================] - 301s 9s/step - batch: 16.5000 - size: 39.0000 - loss: 0.5254 - categorical_accuracy: 0.8077 - val_loss: 1.7258 - val_categorical_accuracy: 0.4400\n",
            "Epoch 16/25\n",
            "34/34 [==============================] - ETA: 0s - batch: 16.5000 - size: 39.0000 - loss: 0.4900 - categorical_accuracy: 0.8235\n",
            "Epoch 00016: saving model to model_init_2021-03-1912_52_51.937454/model-00016-0.49001-0.82353-1.27490-0.52000.h5\n",
            "34/34 [==============================] - 296s 9s/step - batch: 16.5000 - size: 39.0000 - loss: 0.4900 - categorical_accuracy: 0.8235 - val_loss: 1.2749 - val_categorical_accuracy: 0.5200\n",
            "Epoch 17/25\n",
            "34/34 [==============================] - ETA: 0s - batch: 16.5000 - size: 39.0000 - loss: 0.5157 - categorical_accuracy: 0.8273\n",
            "Epoch 00017: saving model to model_init_2021-03-1912_52_51.937454/model-00017-0.51573-0.82730-1.13586-0.60000.h5\n",
            "34/34 [==============================] - 301s 9s/step - batch: 16.5000 - size: 39.0000 - loss: 0.5157 - categorical_accuracy: 0.8273 - val_loss: 1.1359 - val_categorical_accuracy: 0.6000\n",
            "Epoch 18/25\n",
            "34/34 [==============================] - ETA: 0s - batch: 16.5000 - size: 39.0000 - loss: 0.5186 - categorical_accuracy: 0.7979\n",
            "Epoch 00018: saving model to model_init_2021-03-1912_52_51.937454/model-00018-0.51861-0.79789-1.00292-0.64000.h5\n",
            "34/34 [==============================] - 292s 9s/step - batch: 16.5000 - size: 39.0000 - loss: 0.5186 - categorical_accuracy: 0.7979 - val_loss: 1.0029 - val_categorical_accuracy: 0.6400\n",
            "Epoch 19/25\n",
            "34/34 [==============================] - ETA: 0s - batch: 16.5000 - size: 39.0000 - loss: 0.5197 - categorical_accuracy: 0.8273\n",
            "Epoch 00019: saving model to model_init_2021-03-1912_52_51.937454/model-00019-0.51970-0.82730-0.82436-0.74000.h5\n",
            "34/34 [==============================] - 286s 9s/step - batch: 16.5000 - size: 39.0000 - loss: 0.5197 - categorical_accuracy: 0.8273 - val_loss: 0.8244 - val_categorical_accuracy: 0.7400\n",
            "Epoch 20/25\n",
            "34/34 [==============================] - ETA: 0s - batch: 16.5000 - size: 39.0000 - loss: 0.5562 - categorical_accuracy: 0.8152\n",
            "Epoch 00020: saving model to model_init_2021-03-1912_52_51.937454/model-00020-0.55624-0.81523-0.85853-0.76000.h5\n",
            "34/34 [==============================] - 283s 9s/step - batch: 16.5000 - size: 39.0000 - loss: 0.5562 - categorical_accuracy: 0.8152 - val_loss: 0.8585 - val_categorical_accuracy: 0.7600\n",
            "Epoch 21/25\n",
            "34/34 [==============================] - ETA: 0s - batch: 16.5000 - size: 39.0000 - loss: 0.4740 - categorical_accuracy: 0.8288\n",
            "Epoch 00021: saving model to model_init_2021-03-1912_52_51.937454/model-00021-0.47403-0.82881-0.76398-0.79000.h5\n",
            "34/34 [==============================] - 279s 8s/step - batch: 16.5000 - size: 39.0000 - loss: 0.4740 - categorical_accuracy: 0.8288 - val_loss: 0.7640 - val_categorical_accuracy: 0.7900\n",
            "Epoch 22/25\n",
            "34/34 [==============================] - ETA: 0s - batch: 16.5000 - size: 39.0000 - loss: 0.4869 - categorical_accuracy: 0.8228\n",
            "Epoch 00022: saving model to model_init_2021-03-1912_52_51.937454/model-00022-0.48690-0.82278-0.66297-0.81000.h5\n",
            "34/34 [==============================] - 281s 8s/step - batch: 16.5000 - size: 39.0000 - loss: 0.4869 - categorical_accuracy: 0.8228 - val_loss: 0.6630 - val_categorical_accuracy: 0.8100\n",
            "Epoch 23/25\n",
            "34/34 [==============================] - ETA: 0s - batch: 16.5000 - size: 39.0000 - loss: 0.4522 - categorical_accuracy: 0.8311\n",
            "Epoch 00023: saving model to model_init_2021-03-1912_52_51.937454/model-00023-0.45219-0.83107-0.67923-0.78000.h5\n",
            "34/34 [==============================] - 285s 9s/step - batch: 16.5000 - size: 39.0000 - loss: 0.4522 - categorical_accuracy: 0.8311 - val_loss: 0.6792 - val_categorical_accuracy: 0.7800\n",
            "Epoch 24/25\n",
            "34/34 [==============================] - ETA: 0s - batch: 16.5000 - size: 39.0000 - loss: 0.4805 - categorical_accuracy: 0.8288\n",
            "Epoch 00024: saving model to model_init_2021-03-1912_52_51.937454/model-00024-0.48055-0.82881-0.68278-0.87000.h5\n",
            "34/34 [==============================] - 282s 9s/step - batch: 16.5000 - size: 39.0000 - loss: 0.4805 - categorical_accuracy: 0.8288 - val_loss: 0.6828 - val_categorical_accuracy: 0.8700\n",
            "Epoch 25/25\n",
            "34/34 [==============================] - ETA: 0s - batch: 16.5000 - size: 39.0000 - loss: 0.4968 - categorical_accuracy: 0.8152\n",
            "Epoch 00025: saving model to model_init_2021-03-1912_52_51.937454/model-00025-0.49681-0.81523-0.74122-0.80000.h5\n",
            "34/34 [==============================] - 288s 9s/step - batch: 16.5000 - size: 39.0000 - loss: 0.4968 - categorical_accuracy: 0.8152 - val_loss: 0.7412 - val_categorical_accuracy: 0.8000\n"
          ],
          "name": "stdout"
        }
      ]
    },
    {
      "cell_type": "code",
      "metadata": {
        "id": "PXZ8sThy3XSr",
        "colab": {
          "base_uri": "https://localhost:8080/",
          "height": 268
        },
        "outputId": "62144a75-c18b-4a0c-b0dc-198d0f31976b"
      },
      "source": [
        "plot(accuracy_check_model_2)"
      ],
      "execution_count": 38,
      "outputs": [
        {
          "output_type": "display_data",
          "data": {
            "image/png": "[encoded data removed]",
            "text/plain": [
              "<Figure size 1080x288 with 2 Axes>"
            ]
          },
          "metadata": {
            "tags": [],
            "needs_background": "light"
          }
        }
      ]
    },
    {
      "cell_type": "markdown",
      "metadata": {
        "id": "ldsJg52PTDPq"
      },
      "source": [
        "Model is not overfitting and we get a best validation accuracy of ~80% and training accuracy of ~82%. Next we will try to reduce the filter size and image resolution and see if get better results. Moreover since we see minor oscillations in loss, let's try lowering the learning rate to 0.0002"
      ]
    },
    {
      "cell_type": "code",
      "metadata": {
        "id": "mDO0BmuThfN_"
      },
      "source": [
        "Conv3D2.clear_session(Conv3D2_model)"
      ],
      "execution_count": 39,
      "outputs": []
    },
    {
      "cell_type": "markdown",
      "metadata": {
        "id": "_qrMlLsVTSA7"
      },
      "source": [
        "## Model 3 - Reduce filter size to (2,2,2) and image res to 120 x 120"
      ]
    },
    {
      "cell_type": "code",
      "metadata": {
        "id": "vkPpJFg3TRLh"
      },
      "source": [
        "class ModelConv3D3(ModelBuilder):\n",
        "    \n",
        "    def define_model(self,filtersize=(3,3,3),dense_neurons=64,dropout=0.25):\n",
        "\n",
        "        model = Sequential()\n",
        "        model.add(Conv3D(16, filtersize, padding='same',\n",
        "                 input_shape=(self.frames_to_sample,self.image_height,self.image_width,self.channels)))\n",
        "        model.add(Activation('relu'))\n",
        "        model.add(BatchNormalization())\n",
        "        model.add(MaxPooling3D(pool_size=(2, 2, 2)))\n",
        "\n",
        "        model.add(Conv3D(32, filtersize, padding='same'))\n",
        "        model.add(Activation('relu'))\n",
        "        model.add(BatchNormalization())\n",
        "        model.add(MaxPooling3D(pool_size=(2, 2, 2)))\n",
        "\n",
        "        model.add(Conv3D(64, filtersize, padding='same'))\n",
        "        model.add(Activation('relu'))\n",
        "        model.add(BatchNormalization())\n",
        "        model.add(MaxPooling3D(pool_size=(2, 2, 2)))\n",
        "\n",
        "        model.add(Conv3D(128, filtersize, padding='same'))\n",
        "        model.add(Activation('relu'))\n",
        "        model.add(BatchNormalization())\n",
        "        model.add(MaxPooling3D(pool_size=(2, 2, 2)))\n",
        "\n",
        "        model.add(Flatten())\n",
        "        model.add(Dense(dense_neurons,activation='relu'))\n",
        "        model.add(BatchNormalization())\n",
        "        model.add(Dropout(dropout))\n",
        "\n",
        "        model.add(Dense(dense_neurons,activation='relu'))\n",
        "        model.add(BatchNormalization())\n",
        "        model.add(Dropout(dropout))\n",
        "\n",
        "\n",
        "        model.add(Dense(self.num_classes,activation='softmax'))\n",
        "\n",
        "        optimiser = optimizers.Adam(lr=0.0002)\n",
        "        model.compile(optimizer=optimiser, loss='categorical_crossentropy', metrics=['categorical_accuracy'])\n",
        "        return model"
      ],
      "execution_count": 40,
      "outputs": []
    },
    {
      "cell_type": "code",
      "metadata": {
        "id": "lk9L9pt7UBB1",
        "colab": {
          "base_uri": "https://localhost:8080/"
        },
        "outputId": "e39b8614-a102-4271-ff61-009dda07f76d"
      },
      "source": [
        "\n",
        "Conv3D3=ModelConv3D3()\n",
        "Conv3D3.initialize_src_path(main_folder)\n",
        "Conv3D3.initialize_image_properties(image_height=120,image_width=120)\n",
        "Conv3D3.initialize_hyperparams(frames_to_sample=16,batch_size=30,num_epochs=30)\n",
        "Conv3D3_model=Conv3D3.define_model(filtersize=(2,2,2),dense_neurons=256,dropout=0.5)\n",
        "Conv3D3_model.summary()"
      ],
      "execution_count": 41,
      "outputs": [
        {
          "output_type": "stream",
          "text": [
            "Model: \"sequential\"\n",
            "_________________________________________________________________\n",
            "Layer (type)                 Output Shape              Param #   \n",
            "=================================================================\n",
            "conv3d (Conv3D)              (None, 16, 120, 120, 16)  400       \n",
            "_________________________________________________________________\n",
            "activation (Activation)      (None, 16, 120, 120, 16)  0         \n",
            "_________________________________________________________________\n",
            "batch_normalization (BatchNo (None, 16, 120, 120, 16)  64        \n",
            "_________________________________________________________________\n",
            "max_pooling3d (MaxPooling3D) (None, 8, 60, 60, 16)     0         \n",
            "_________________________________________________________________\n",
            "conv3d_1 (Conv3D)            (None, 8, 60, 60, 32)     4128      \n",
            "_________________________________________________________________\n",
            "activation_1 (Activation)    (None, 8, 60, 60, 32)     0         \n",
            "_________________________________________________________________\n",
            "batch_normalization_1 (Batch (None, 8, 60, 60, 32)     128       \n",
            "_________________________________________________________________\n",
            "max_pooling3d_1 (MaxPooling3 (None, 4, 30, 30, 32)     0         \n",
            "_________________________________________________________________\n",
            "conv3d_2 (Conv3D)            (None, 4, 30, 30, 64)     16448     \n",
            "_________________________________________________________________\n",
            "activation_2 (Activation)    (None, 4, 30, 30, 64)     0         \n",
            "_________________________________________________________________\n",
            "batch_normalization_2 (Batch (None, 4, 30, 30, 64)     256       \n",
            "_________________________________________________________________\n",
            "max_pooling3d_2 (MaxPooling3 (None, 2, 15, 15, 64)     0         \n",
            "_________________________________________________________________\n",
            "conv3d_3 (Conv3D)            (None, 2, 15, 15, 128)    65664     \n",
            "_________________________________________________________________\n",
            "activation_3 (Activation)    (None, 2, 15, 15, 128)    0         \n",
            "_________________________________________________________________\n",
            "batch_normalization_3 (Batch (None, 2, 15, 15, 128)    512       \n",
            "_________________________________________________________________\n",
            "max_pooling3d_3 (MaxPooling3 (None, 1, 7, 7, 128)      0         \n",
            "_________________________________________________________________\n",
            "flatten (Flatten)            (None, 6272)              0         \n",
            "_________________________________________________________________\n",
            "dense (Dense)                (None, 256)               1605888   \n",
            "_________________________________________________________________\n",
            "batch_normalization_4 (Batch (None, 256)               1024      \n",
            "_________________________________________________________________\n",
            "dropout (Dropout)            (None, 256)               0         \n",
            "_________________________________________________________________\n",
            "dense_1 (Dense)              (None, 256)               65792     \n",
            "_________________________________________________________________\n",
            "batch_normalization_5 (Batch (None, 256)               1024      \n",
            "_________________________________________________________________\n",
            "dropout_1 (Dropout)          (None, 256)               0         \n",
            "_________________________________________________________________\n",
            "dense_2 (Dense)              (None, 5)                 1285      \n",
            "=================================================================\n",
            "Total params: 1,762,613\n",
            "Trainable params: 1,761,109\n",
            "Non-trainable params: 1,504\n",
            "_________________________________________________________________\n"
          ],
          "name": "stdout"
        }
      ]
    },
    {
      "cell_type": "code",
      "metadata": {
        "id": "WW17sf6iUcQh",
        "colab": {
          "base_uri": "https://localhost:8080/"
        },
        "outputId": "744b1439-dd0c-492e-a278-b3eb3c6fa7bc"
      },
      "source": [
        "##tf.compat.v1.enable_eager_execution()\n",
        "print(tf.executing_eagerly())\n",
        "print(\"Total Params:\", Conv3D3_model.count_params())\n",
        "accuracy_check_model_3=Conv3D3.train_model(Conv3D3_model,augment_data=True)"
      ],
      "execution_count": 42,
      "outputs": [
        {
          "output_type": "stream",
          "text": [
            "False\n",
            "Total Params: 1762613\n",
            "WARNING:tensorflow:`period` argument is deprecated. Please use `save_freq` to specify the frequency in number of batches seen.\n",
            "Epoch 1/30\n",
            "23/23 [==============================] - ETA: 0s - batch: 11.0000 - size: 57.6522 - loss: 2.1295 - categorical_accuracy: 0.3183\n",
            "Epoch 00001: saving model to model_init_2021-03-1914_53_49.236647/model-00001-2.12949-0.31825-1.93582-0.16000.h5\n",
            "23/23 [==============================] - 218s 9s/step - batch: 11.0000 - size: 57.6522 - loss: 2.1295 - categorical_accuracy: 0.3183 - val_loss: 1.9358 - val_categorical_accuracy: 0.1600\n",
            "Epoch 2/30\n",
            "23/23 [==============================] - ETA: 0s - batch: 11.0000 - size: 57.6522 - loss: 1.5947 - categorical_accuracy: 0.4789\n",
            "Epoch 00002: saving model to model_init_2021-03-1914_53_49.236647/model-00002-1.59471-0.47888-2.76426-0.13000.h5\n",
            "23/23 [==============================] - 202s 9s/step - batch: 11.0000 - size: 57.6522 - loss: 1.5947 - categorical_accuracy: 0.4789 - val_loss: 2.7643 - val_categorical_accuracy: 0.1300\n",
            "Epoch 3/30\n",
            "23/23 [==============================] - ETA: 0s - batch: 11.0000 - size: 57.6522 - loss: 1.2019 - categorical_accuracy: 0.5656\n",
            "Epoch 00003: saving model to model_init_2021-03-1914_53_49.236647/model-00003-1.20189-0.56561-4.19788-0.18000.h5\n",
            "23/23 [==============================] - 199s 9s/step - batch: 11.0000 - size: 57.6522 - loss: 1.2019 - categorical_accuracy: 0.5656 - val_loss: 4.1979 - val_categorical_accuracy: 0.1800\n",
            "Epoch 4/30\n",
            "23/23 [==============================] - ETA: 0s - batch: 11.0000 - size: 57.6522 - loss: 1.1711 - categorical_accuracy: 0.5822\n",
            "Epoch 00004: saving model to model_init_2021-03-1914_53_49.236647/model-00004-1.17106-0.58220-4.59549-0.22000.h5\n",
            "23/23 [==============================] - 201s 9s/step - batch: 11.0000 - size: 57.6522 - loss: 1.1711 - categorical_accuracy: 0.5822 - val_loss: 4.5955 - val_categorical_accuracy: 0.2200\n",
            "Epoch 5/30\n",
            "23/23 [==============================] - ETA: 0s - batch: 11.0000 - size: 57.6522 - loss: 1.1126 - categorical_accuracy: 0.6056\n",
            "Epoch 00005: saving model to model_init_2021-03-1914_53_49.236647/model-00005-1.11262-0.60558-5.40145-0.21000.h5\n",
            "\n",
            "Epoch 00005: ReduceLROnPlateau reducing learning rate to 3.9999998989515007e-05.\n",
            "23/23 [==============================] - 205s 9s/step - batch: 11.0000 - size: 57.6522 - loss: 1.1126 - categorical_accuracy: 0.6056 - val_loss: 5.4014 - val_categorical_accuracy: 0.2100\n",
            "Epoch 6/30\n",
            "23/23 [==============================] - ETA: 0s - batch: 11.0000 - size: 57.6522 - loss: 1.0496 - categorical_accuracy: 0.6523\n",
            "Epoch 00006: saving model to model_init_2021-03-1914_53_49.236647/model-00006-1.04957-0.65234-6.73356-0.17000.h5\n",
            "23/23 [==============================] - 207s 9s/step - batch: 11.0000 - size: 57.6522 - loss: 1.0496 - categorical_accuracy: 0.6523 - val_loss: 6.7336 - val_categorical_accuracy: 0.1700\n",
            "Epoch 7/30\n",
            "23/23 [==============================] - ETA: 0s - batch: 11.0000 - size: 57.6522 - loss: 0.9482 - categorical_accuracy: 0.6689\n",
            "Epoch 00007: saving model to model_init_2021-03-1914_53_49.236647/model-00007-0.94818-0.66893-6.34842-0.25000.h5\n",
            "23/23 [==============================] - 210s 10s/step - batch: 11.0000 - size: 57.6522 - loss: 0.9482 - categorical_accuracy: 0.6689 - val_loss: 6.3484 - val_categorical_accuracy: 0.2500\n",
            "Epoch 8/30\n",
            "23/23 [==============================] - ETA: 0s - batch: 11.0000 - size: 57.6522 - loss: 0.9235 - categorical_accuracy: 0.6863\n",
            "Epoch 00008: saving model to model_init_2021-03-1914_53_49.236647/model-00008-0.92350-0.68627-7.56004-0.21000.h5\n",
            "23/23 [==============================] - 201s 9s/step - batch: 11.0000 - size: 57.6522 - loss: 0.9235 - categorical_accuracy: 0.6863 - val_loss: 7.5600 - val_categorical_accuracy: 0.2100\n",
            "Epoch 9/30\n",
            "23/23 [==============================] - ETA: 0s - batch: 11.0000 - size: 57.6522 - loss: 0.8841 - categorical_accuracy: 0.6825\n",
            "Epoch 00009: saving model to model_init_2021-03-1914_53_49.236647/model-00009-0.88406-0.68250-8.44364-0.21000.h5\n",
            "\n",
            "Epoch 00009: ReduceLROnPlateau reducing learning rate to 7.999999797903002e-06.\n",
            "23/23 [==============================] - 198s 9s/step - batch: 11.0000 - size: 57.6522 - loss: 0.8841 - categorical_accuracy: 0.6825 - val_loss: 8.4436 - val_categorical_accuracy: 0.2100\n",
            "Epoch 10/30\n",
            "23/23 [==============================] - ETA: 0s - batch: 11.0000 - size: 57.6522 - loss: 0.8709 - categorical_accuracy: 0.6848\n",
            "Epoch 00010: saving model to model_init_2021-03-1914_53_49.236647/model-00010-0.87091-0.68477-8.71934-0.22000.h5\n",
            "23/23 [==============================] - 200s 9s/step - batch: 11.0000 - size: 57.6522 - loss: 0.8709 - categorical_accuracy: 0.6848 - val_loss: 8.7193 - val_categorical_accuracy: 0.2200\n",
            "Epoch 11/30\n",
            "23/23 [==============================] - ETA: 0s - batch: 11.0000 - size: 57.6522 - loss: 0.8673 - categorical_accuracy: 0.6938\n",
            "Epoch 00011: saving model to model_init_2021-03-1914_53_49.236647/model-00011-0.86732-0.69382-8.68304-0.22000.h5\n",
            "23/23 [==============================] - 194s 9s/step - batch: 11.0000 - size: 57.6522 - loss: 0.8673 - categorical_accuracy: 0.6938 - val_loss: 8.6830 - val_categorical_accuracy: 0.2200\n",
            "Epoch 12/30\n",
            "23/23 [==============================] - ETA: 0s - batch: 11.0000 - size: 57.6522 - loss: 0.9065 - categorical_accuracy: 0.6893\n",
            "Epoch 00012: saving model to model_init_2021-03-1914_53_49.236647/model-00012-0.90649-0.68929-9.22480-0.18000.h5\n",
            "23/23 [==============================] - 203s 9s/step - batch: 11.0000 - size: 57.6522 - loss: 0.9065 - categorical_accuracy: 0.6893 - val_loss: 9.2248 - val_categorical_accuracy: 0.1800\n",
            "Epoch 13/30\n",
            "23/23 [==============================] - ETA: 0s - batch: 11.0000 - size: 57.6522 - loss: 0.8415 - categorical_accuracy: 0.6795\n",
            "Epoch 00013: saving model to model_init_2021-03-1914_53_49.236647/model-00013-0.84148-0.67949-8.78765-0.21000.h5\n",
            "\n",
            "Epoch 00013: ReduceLROnPlateau reducing learning rate to 1.5999999959603884e-06.\n",
            "23/23 [==============================] - 207s 9s/step - batch: 11.0000 - size: 57.6522 - loss: 0.8415 - categorical_accuracy: 0.6795 - val_loss: 8.7876 - val_categorical_accuracy: 0.2100\n",
            "Epoch 14/30\n",
            "23/23 [==============================] - ETA: 0s - batch: 11.0000 - size: 57.6522 - loss: 0.8979 - categorical_accuracy: 0.6667\n",
            "Epoch 00014: saving model to model_init_2021-03-1914_53_49.236647/model-00014-0.89791-0.66667-8.46350-0.20000.h5\n",
            "23/23 [==============================] - 213s 10s/step - batch: 11.0000 - size: 57.6522 - loss: 0.8979 - categorical_accuracy: 0.6667 - val_loss: 8.4635 - val_categorical_accuracy: 0.2000\n",
            "Epoch 15/30\n",
            "23/23 [==============================] - ETA: 0s - batch: 11.0000 - size: 57.6522 - loss: 0.8458 - categorical_accuracy: 0.6968\n",
            "Epoch 00015: saving model to model_init_2021-03-1914_53_49.236647/model-00015-0.84584-0.69683-7.25388-0.22000.h5\n",
            "23/23 [==============================] - 208s 9s/step - batch: 11.0000 - size: 57.6522 - loss: 0.8458 - categorical_accuracy: 0.6968 - val_loss: 7.2539 - val_categorical_accuracy: 0.2200\n",
            "Epoch 16/30\n",
            "23/23 [==============================] - ETA: 0s - batch: 11.0000 - size: 57.6522 - loss: 0.8510 - categorical_accuracy: 0.6931\n",
            "Epoch 00016: saving model to model_init_2021-03-1914_53_49.236647/model-00016-0.85101-0.69306-6.66958-0.21000.h5\n",
            "23/23 [==============================] - 209s 9s/step - batch: 11.0000 - size: 57.6522 - loss: 0.8510 - categorical_accuracy: 0.6931 - val_loss: 6.6696 - val_categorical_accuracy: 0.2100\n",
            "Epoch 17/30\n",
            "23/23 [==============================] - ETA: 0s - batch: 11.0000 - size: 57.6522 - loss: 0.9304 - categorical_accuracy: 0.6825\n",
            "Epoch 00017: saving model to model_init_2021-03-1914_53_49.236647/model-00017-0.93039-0.68250-5.86696-0.28000.h5\n",
            "\n",
            "Epoch 00017: ReduceLROnPlateau reducing learning rate to 3.200000037395512e-07.\n",
            "23/23 [==============================] - 208s 9s/step - batch: 11.0000 - size: 57.6522 - loss: 0.9304 - categorical_accuracy: 0.6825 - val_loss: 5.8670 - val_categorical_accuracy: 0.2800\n",
            "Epoch 18/30\n",
            "23/23 [==============================] - ETA: 0s - batch: 11.0000 - size: 57.6522 - loss: 0.9506 - categorical_accuracy: 0.6931\n",
            "Epoch 00018: saving model to model_init_2021-03-1914_53_49.236647/model-00018-0.95058-0.69306-5.07610-0.27000.h5\n",
            "23/23 [==============================] - 204s 9s/step - batch: 11.0000 - size: 57.6522 - loss: 0.9506 - categorical_accuracy: 0.6931 - val_loss: 5.0761 - val_categorical_accuracy: 0.2700\n",
            "Epoch 19/30\n",
            "23/23 [==============================] - ETA: 0s - batch: 11.0000 - size: 57.6522 - loss: 0.8169 - categorical_accuracy: 0.6983\n",
            "Epoch 00019: saving model to model_init_2021-03-1914_53_49.236647/model-00019-0.81691-0.69834-3.92337-0.30000.h5\n",
            "23/23 [==============================] - 200s 9s/step - batch: 11.0000 - size: 57.6522 - loss: 0.8169 - categorical_accuracy: 0.6983 - val_loss: 3.9234 - val_categorical_accuracy: 0.3000\n",
            "Epoch 20/30\n",
            "23/23 [==============================] - ETA: 0s - batch: 11.0000 - size: 57.6522 - loss: 0.9321 - categorical_accuracy: 0.6946\n",
            "Epoch 00020: saving model to model_init_2021-03-1914_53_49.236647/model-00020-0.93214-0.69457-3.47509-0.32000.h5\n",
            "23/23 [==============================] - 197s 9s/step - batch: 11.0000 - size: 57.6522 - loss: 0.9321 - categorical_accuracy: 0.6946 - val_loss: 3.4751 - val_categorical_accuracy: 0.3200\n",
            "Epoch 21/30\n",
            "23/23 [==============================] - ETA: 0s - batch: 11.0000 - size: 57.6522 - loss: 0.9063 - categorical_accuracy: 0.6855\n",
            "Epoch 00021: saving model to model_init_2021-03-1914_53_49.236647/model-00021-0.90629-0.68552-3.27592-0.33000.h5\n",
            "\n",
            "Epoch 00021: ReduceLROnPlateau reducing learning rate to 6.399999961104187e-08.\n",
            "23/23 [==============================] - 198s 9s/step - batch: 11.0000 - size: 57.6522 - loss: 0.9063 - categorical_accuracy: 0.6855 - val_loss: 3.2759 - val_categorical_accuracy: 0.3300\n",
            "Epoch 22/30\n",
            "23/23 [==============================] - ETA: 0s - batch: 11.0000 - size: 57.6522 - loss: 0.7661 - categorical_accuracy: 0.7044\n",
            "Epoch 00022: saving model to model_init_2021-03-1914_53_49.236647/model-00022-0.76613-0.70437-2.91587-0.37000.h5\n",
            "23/23 [==============================] - 202s 9s/step - batch: 11.0000 - size: 57.6522 - loss: 0.7661 - categorical_accuracy: 0.7044 - val_loss: 2.9159 - val_categorical_accuracy: 0.3700\n",
            "Epoch 23/30\n",
            "23/23 [==============================] - ETA: 0s - batch: 11.0000 - size: 57.6522 - loss: 0.8510 - categorical_accuracy: 0.6976\n",
            "Epoch 00023: saving model to model_init_2021-03-1914_53_49.236647/model-00023-0.85104-0.69759-2.35400-0.42000.h5\n",
            "23/23 [==============================] - 201s 9s/step - batch: 11.0000 - size: 57.6522 - loss: 0.8510 - categorical_accuracy: 0.6976 - val_loss: 2.3540 - val_categorical_accuracy: 0.4200\n",
            "Epoch 24/30\n",
            "23/23 [==============================] - ETA: 0s - batch: 11.0000 - size: 57.6522 - loss: 0.8430 - categorical_accuracy: 0.7059\n",
            "Epoch 00024: saving model to model_init_2021-03-1914_53_49.236647/model-00024-0.84296-0.70588-2.12262-0.42000.h5\n",
            "23/23 [==============================] - 199s 9s/step - batch: 11.0000 - size: 57.6522 - loss: 0.8430 - categorical_accuracy: 0.7059 - val_loss: 2.1226 - val_categorical_accuracy: 0.4200\n",
            "Epoch 25/30\n",
            "23/23 [==============================] - ETA: 0s - batch: 11.0000 - size: 57.6522 - loss: 0.9430 - categorical_accuracy: 0.6750\n",
            "Epoch 00025: saving model to model_init_2021-03-1914_53_49.236647/model-00025-0.94301-0.67496-1.68415-0.44000.h5\n",
            "23/23 [==============================] - 197s 9s/step - batch: 11.0000 - size: 57.6522 - loss: 0.9430 - categorical_accuracy: 0.6750 - val_loss: 1.6841 - val_categorical_accuracy: 0.4400\n",
            "Epoch 26/30\n",
            "23/23 [==============================] - ETA: 0s - batch: 11.0000 - size: 57.6522 - loss: 0.8188 - categorical_accuracy: 0.6817\n",
            "Epoch 00026: saving model to model_init_2021-03-1914_53_49.236647/model-00026-0.81877-0.68175-1.68448-0.44000.h5\n",
            "23/23 [==============================] - 198s 9s/step - batch: 11.0000 - size: 57.6522 - loss: 0.8188 - categorical_accuracy: 0.6817 - val_loss: 1.6845 - val_categorical_accuracy: 0.4400\n",
            "Epoch 27/30\n",
            "23/23 [==============================] - ETA: 0s - batch: 11.0000 - size: 57.6522 - loss: 0.8395 - categorical_accuracy: 0.6946\n",
            "Epoch 00027: saving model to model_init_2021-03-1914_53_49.236647/model-00027-0.83948-0.69457-1.18243-0.50000.h5\n",
            "23/23 [==============================] - 200s 9s/step - batch: 11.0000 - size: 57.6522 - loss: 0.8395 - categorical_accuracy: 0.6946 - val_loss: 1.1824 - val_categorical_accuracy: 0.5000\n",
            "Epoch 28/30\n",
            "23/23 [==============================] - ETA: 0s - batch: 11.0000 - size: 57.6522 - loss: 0.8786 - categorical_accuracy: 0.7036\n",
            "Epoch 00028: saving model to model_init_2021-03-1914_53_49.236647/model-00028-0.87858-0.70362-0.90539-0.60000.h5\n",
            "23/23 [==============================] - 199s 9s/step - batch: 11.0000 - size: 57.6522 - loss: 0.8786 - categorical_accuracy: 0.7036 - val_loss: 0.9054 - val_categorical_accuracy: 0.6000\n",
            "Epoch 29/30\n",
            "23/23 [==============================] - ETA: 0s - batch: 11.0000 - size: 57.6522 - loss: 0.8613 - categorical_accuracy: 0.6863\n",
            "Epoch 00029: saving model to model_init_2021-03-1914_53_49.236647/model-00029-0.86134-0.68627-1.03395-0.67000.h5\n",
            "23/23 [==============================] - 199s 9s/step - batch: 11.0000 - size: 57.6522 - loss: 0.8613 - categorical_accuracy: 0.6863 - val_loss: 1.0339 - val_categorical_accuracy: 0.6700\n",
            "Epoch 30/30\n",
            "23/23 [==============================] - ETA: 0s - batch: 11.0000 - size: 57.6522 - loss: 0.8291 - categorical_accuracy: 0.6893\n",
            "Epoch 00030: saving model to model_init_2021-03-1914_53_49.236647/model-00030-0.82907-0.68929-0.97733-0.72000.h5\n",
            "23/23 [==============================] - 202s 9s/step - batch: 11.0000 - size: 57.6522 - loss: 0.8291 - categorical_accuracy: 0.6893 - val_loss: 0.9773 - val_categorical_accuracy: 0.7200\n"
          ],
          "name": "stdout"
        }
      ]
    },
    {
      "cell_type": "code",
      "metadata": {
        "id": "7HghaRZtGQB9",
        "colab": {
          "base_uri": "https://localhost:8080/",
          "height": 265
        },
        "outputId": "7c634912-4e40-4662-ad20-ab36cea65fac"
      },
      "source": [
        "plot(accuracy_check_model_3)"
      ],
      "execution_count": 43,
      "outputs": [
        {
          "output_type": "display_data",
          "data": {
            "image/png": "[encoded data removed]",
            "text/plain": [
              "<Figure size 1080x288 with 2 Axes>"
            ]
          },
          "metadata": {
            "tags": [],
            "needs_background": "light"
          }
        }
      ]
    },
    {
      "cell_type": "markdown",
      "metadata": {
        "id": "r0IJgwK77wsF"
      },
      "source": [
        "This Model has a best validation accuracy of 68% and training accuracy of 68% . Also we were able to reduce the parameter size by half the earlier model. Let's trying adding more layers"
      ]
    },
    {
      "cell_type": "code",
      "metadata": {
        "id": "OQ8jW39zjSXp"
      },
      "source": [
        "Conv3D3.clear_session(Conv3D3_model)"
      ],
      "execution_count": 44,
      "outputs": []
    },
    {
      "cell_type": "markdown",
      "metadata": {
        "id": "WW5VAmu9ihlH"
      },
      "source": [
        "## Model 4 - Adding more layers"
      ]
    },
    {
      "cell_type": "code",
      "metadata": {
        "id": "4cyJpLxiitoB"
      },
      "source": [
        "class ModelConv3D4(ModelBuilder):\n",
        "    \n",
        "    def define_model(self,filtersize=(3,3,3),dense_neurons=64,dropout=0.25):\n",
        "\n",
        "        model = Sequential()\n",
        "        model.add(Conv3D(16, filtersize, padding='same',\n",
        "                 input_shape=(self.frames_to_sample,self.image_height,self.image_width,self.channels)))\n",
        "        model.add(Activation('relu'))\n",
        "        model.add(BatchNormalization())\n",
        "        \n",
        "        model.add(Conv3D(16, filtersize, padding='same',\n",
        "                 input_shape=(self.frames_to_sample,self.image_height,self.image_width,self.channels)))\n",
        "        model.add(Activation('relu'))\n",
        "        model.add(BatchNormalization())\n",
        "        \n",
        "        model.add(MaxPooling3D(pool_size=(2, 2, 2)))\n",
        "\n",
        "        model.add(Conv3D(32, filtersize, padding='same'))\n",
        "        model.add(Activation('relu'))\n",
        "        model.add(BatchNormalization())\n",
        "        \n",
        "        model.add(Conv3D(32, filtersize, padding='same'))\n",
        "        model.add(Activation('relu'))\n",
        "        model.add(BatchNormalization())\n",
        "        \n",
        "        model.add(MaxPooling3D(pool_size=(2, 2, 2)))\n",
        "\n",
        "        model.add(Conv3D(64, filtersize, padding='same'))\n",
        "        model.add(Activation('relu'))\n",
        "        model.add(BatchNormalization())\n",
        "        \n",
        "        model.add(Conv3D(64, filtersize, padding='same'))\n",
        "        model.add(Activation('relu'))\n",
        "        model.add(BatchNormalization())\n",
        "        \n",
        "        model.add(MaxPooling3D(pool_size=(2, 2, 2)))\n",
        "\n",
        "        model.add(Conv3D(128, filtersize, padding='same'))\n",
        "        model.add(Activation('relu'))\n",
        "        model.add(BatchNormalization())\n",
        "        \n",
        "        model.add(Conv3D(128, filtersize, padding='same'))\n",
        "        model.add(Activation('relu'))\n",
        "        model.add(BatchNormalization())\n",
        "        \n",
        "        model.add(MaxPooling3D(pool_size=(2, 2, 2)))\n",
        "        \n",
        "\n",
        "        model.add(Flatten())\n",
        "        model.add(Dense(dense_neurons,activation='relu'))\n",
        "        model.add(BatchNormalization())\n",
        "        model.add(Dropout(dropout))\n",
        "\n",
        "        model.add(Dense(dense_neurons,activation='relu'))\n",
        "        model.add(BatchNormalization())\n",
        "        model.add(Dropout(dropout))\n",
        "\n",
        "\n",
        "        model.add(Dense(self.num_classes,activation='softmax'))\n",
        "\n",
        "        optimiser = optimizers.Adam()\n",
        "        model.compile(optimizer=optimiser, loss='categorical_crossentropy', metrics=['categorical_accuracy'])\n",
        "        return model"
      ],
      "execution_count": 45,
      "outputs": []
    },
    {
      "cell_type": "code",
      "metadata": {
        "id": "AmOxJwmei5-S",
        "colab": {
          "base_uri": "https://localhost:8080/"
        },
        "outputId": "022a5325-d4ed-485e-ffcb-ad32e878cdd5"
      },
      "source": [
        "Conv3D4=ModelConv3D4()\n",
        "Conv3D4.initialize_src_path(main_folder)\n",
        "Conv3D4.initialize_image_properties(image_height=120,image_width=120)\n",
        "Conv3D4.initialize_hyperparams(frames_to_sample=16,batch_size=20,num_epochs=30)\n",
        "Conv3D4_model=Conv3D4.define_model(filtersize=(3,3,3),dense_neurons=256,dropout=0.5)\n",
        "Conv3D4_model.summary()"
      ],
      "execution_count": 46,
      "outputs": [
        {
          "output_type": "stream",
          "text": [
            "Model: \"sequential\"\n",
            "_________________________________________________________________\n",
            "Layer (type)                 Output Shape              Param #   \n",
            "=================================================================\n",
            "conv3d (Conv3D)              (None, 16, 120, 120, 16)  1312      \n",
            "_________________________________________________________________\n",
            "activation (Activation)      (None, 16, 120, 120, 16)  0         \n",
            "_________________________________________________________________\n",
            "batch_normalization (BatchNo (None, 16, 120, 120, 16)  64        \n",
            "_________________________________________________________________\n",
            "conv3d_1 (Conv3D)            (None, 16, 120, 120, 16)  6928      \n",
            "_________________________________________________________________\n",
            "activation_1 (Activation)    (None, 16, 120, 120, 16)  0         \n",
            "_________________________________________________________________\n",
            "batch_normalization_1 (Batch (None, 16, 120, 120, 16)  64        \n",
            "_________________________________________________________________\n",
            "max_pooling3d (MaxPooling3D) (None, 8, 60, 60, 16)     0         \n",
            "_________________________________________________________________\n",
            "conv3d_2 (Conv3D)            (None, 8, 60, 60, 32)     13856     \n",
            "_________________________________________________________________\n",
            "activation_2 (Activation)    (None, 8, 60, 60, 32)     0         \n",
            "_________________________________________________________________\n",
            "batch_normalization_2 (Batch (None, 8, 60, 60, 32)     128       \n",
            "_________________________________________________________________\n",
            "conv3d_3 (Conv3D)            (None, 8, 60, 60, 32)     27680     \n",
            "_________________________________________________________________\n",
            "activation_3 (Activation)    (None, 8, 60, 60, 32)     0         \n",
            "_________________________________________________________________\n",
            "batch_normalization_3 (Batch (None, 8, 60, 60, 32)     128       \n",
            "_________________________________________________________________\n",
            "max_pooling3d_1 (MaxPooling3 (None, 4, 30, 30, 32)     0         \n",
            "_________________________________________________________________\n",
            "conv3d_4 (Conv3D)            (None, 4, 30, 30, 64)     55360     \n",
            "_________________________________________________________________\n",
            "activation_4 (Activation)    (None, 4, 30, 30, 64)     0         \n",
            "_________________________________________________________________\n",
            "batch_normalization_4 (Batch (None, 4, 30, 30, 64)     256       \n",
            "_________________________________________________________________\n",
            "conv3d_5 (Conv3D)            (None, 4, 30, 30, 64)     110656    \n",
            "_________________________________________________________________\n",
            "activation_5 (Activation)    (None, 4, 30, 30, 64)     0         \n",
            "_________________________________________________________________\n",
            "batch_normalization_5 (Batch (None, 4, 30, 30, 64)     256       \n",
            "_________________________________________________________________\n",
            "max_pooling3d_2 (MaxPooling3 (None, 2, 15, 15, 64)     0         \n",
            "_________________________________________________________________\n",
            "conv3d_6 (Conv3D)            (None, 2, 15, 15, 128)    221312    \n",
            "_________________________________________________________________\n",
            "activation_6 (Activation)    (None, 2, 15, 15, 128)    0         \n",
            "_________________________________________________________________\n",
            "batch_normalization_6 (Batch (None, 2, 15, 15, 128)    512       \n",
            "_________________________________________________________________\n",
            "conv3d_7 (Conv3D)            (None, 2, 15, 15, 128)    442496    \n",
            "_________________________________________________________________\n",
            "activation_7 (Activation)    (None, 2, 15, 15, 128)    0         \n",
            "_________________________________________________________________\n",
            "batch_normalization_7 (Batch (None, 2, 15, 15, 128)    512       \n",
            "_________________________________________________________________\n",
            "max_pooling3d_3 (MaxPooling3 (None, 1, 7, 7, 128)      0         \n",
            "_________________________________________________________________\n",
            "flatten (Flatten)            (None, 6272)              0         \n",
            "_________________________________________________________________\n",
            "dense (Dense)                (None, 256)               1605888   \n",
            "_________________________________________________________________\n",
            "batch_normalization_8 (Batch (None, 256)               1024      \n",
            "_________________________________________________________________\n",
            "dropout (Dropout)            (None, 256)               0         \n",
            "_________________________________________________________________\n",
            "dense_1 (Dense)              (None, 256)               65792     \n",
            "_________________________________________________________________\n",
            "batch_normalization_9 (Batch (None, 256)               1024      \n",
            "_________________________________________________________________\n",
            "dropout_1 (Dropout)          (None, 256)               0         \n",
            "_________________________________________________________________\n",
            "dense_2 (Dense)              (None, 5)                 1285      \n",
            "=================================================================\n",
            "Total params: 2,556,533\n",
            "Trainable params: 2,554,549\n",
            "Non-trainable params: 1,984\n",
            "_________________________________________________________________\n"
          ],
          "name": "stdout"
        }
      ]
    },
    {
      "cell_type": "code",
      "metadata": {
        "id": "qoR4sAUBkGDJ",
        "colab": {
          "base_uri": "https://localhost:8080/"
        },
        "outputId": "ef3c38f8-d057-4f7d-9828-472ec6dc4be6"
      },
      "source": [
        "print(\"Total Params:\", Conv3D4_model.count_params())\n",
        "accuracy_check_model_4=Conv3D4.train_model(Conv3D4_model,augment_data=True)"
      ],
      "execution_count": 47,
      "outputs": [
        {
          "output_type": "stream",
          "text": [
            "Total Params: 2556533\n",
            "WARNING:tensorflow:`period` argument is deprecated. Please use `save_freq` to specify the frequency in number of batches seen.\n",
            "Epoch 1/30\n",
            "34/34 [==============================] - ETA: 0s - batch: 16.5000 - size: 39.0000 - loss: 2.0371 - categorical_accuracy: 0.3552\n",
            "Epoch 00001: saving model to model_init_2021-03-1916_35_12.107104/model-00001-2.03712-0.35520-2.38562-0.24000.h5\n",
            "34/34 [==============================] - 233s 6s/step - batch: 16.5000 - size: 39.0000 - loss: 2.0371 - categorical_accuracy: 0.3552 - val_loss: 2.3856 - val_categorical_accuracy: 0.2400\n",
            "Epoch 2/30\n",
            "34/34 [==============================] - ETA: 0s - batch: 16.5000 - size: 39.0000 - loss: 1.8000 - categorical_accuracy: 0.3922\n",
            "Epoch 00002: saving model to model_init_2021-03-1916_35_12.107104/model-00002-1.79996-0.39216-3.98991-0.19000.h5\n",
            "34/34 [==============================] - 204s 6s/step - batch: 16.5000 - size: 39.0000 - loss: 1.8000 - categorical_accuracy: 0.3922 - val_loss: 3.9899 - val_categorical_accuracy: 0.1900\n",
            "Epoch 3/30\n",
            "34/34 [==============================] - ETA: 0s - batch: 16.5000 - size: 39.0000 - loss: 1.4264 - categorical_accuracy: 0.5271\n",
            "Epoch 00003: saving model to model_init_2021-03-1916_35_12.107104/model-00003-1.42644-0.52715-3.32675-0.25000.h5\n",
            "34/34 [==============================] - 213s 6s/step - batch: 16.5000 - size: 39.0000 - loss: 1.4264 - categorical_accuracy: 0.5271 - val_loss: 3.3267 - val_categorical_accuracy: 0.2500\n",
            "Epoch 4/30\n",
            "34/34 [==============================] - ETA: 0s - batch: 16.5000 - size: 39.0000 - loss: 1.1999 - categorical_accuracy: 0.5777\n",
            "Epoch 00004: saving model to model_init_2021-03-1916_35_12.107104/model-00004-1.19992-0.57768-3.89556-0.21000.h5\n",
            "34/34 [==============================] - 217s 7s/step - batch: 16.5000 - size: 39.0000 - loss: 1.1999 - categorical_accuracy: 0.5777 - val_loss: 3.8956 - val_categorical_accuracy: 0.2100\n",
            "Epoch 5/30\n",
            "34/34 [==============================] - ETA: 0s - batch: 16.5000 - size: 39.0000 - loss: 1.1040 - categorical_accuracy: 0.6003\n",
            "Epoch 00005: saving model to model_init_2021-03-1916_35_12.107104/model-00005-1.10398-0.60030-2.59097-0.26000.h5\n",
            "\n",
            "Epoch 00005: ReduceLROnPlateau reducing learning rate to 0.00020000000949949026.\n",
            "34/34 [==============================] - 211s 6s/step - batch: 16.5000 - size: 39.0000 - loss: 1.1040 - categorical_accuracy: 0.6003 - val_loss: 2.5910 - val_categorical_accuracy: 0.2600\n",
            "Epoch 6/30\n",
            "34/34 [==============================] - ETA: 0s - batch: 16.5000 - size: 39.0000 - loss: 0.9311 - categorical_accuracy: 0.6493\n",
            "Epoch 00006: saving model to model_init_2021-03-1916_35_12.107104/model-00006-0.93115-0.64932-2.46329-0.23000.h5\n",
            "34/34 [==============================] - 209s 6s/step - batch: 16.5000 - size: 39.0000 - loss: 0.9311 - categorical_accuracy: 0.6493 - val_loss: 2.4633 - val_categorical_accuracy: 0.2300\n",
            "Epoch 7/30\n",
            "34/34 [==============================] - ETA: 0s - batch: 16.5000 - size: 39.0000 - loss: 0.7984 - categorical_accuracy: 0.7179\n",
            "Epoch 00007: saving model to model_init_2021-03-1916_35_12.107104/model-00007-0.79845-0.71795-2.60879-0.27000.h5\n",
            "34/34 [==============================] - 208s 6s/step - batch: 16.5000 - size: 39.0000 - loss: 0.7984 - categorical_accuracy: 0.7179 - val_loss: 2.6088 - val_categorical_accuracy: 0.2700\n",
            "Epoch 8/30\n",
            "34/34 [==============================] - ETA: 0s - batch: 16.5000 - size: 39.0000 - loss: 0.8542 - categorical_accuracy: 0.6976\n",
            "Epoch 00008: saving model to model_init_2021-03-1916_35_12.107104/model-00008-0.85423-0.69759-3.39310-0.21000.h5\n",
            "34/34 [==============================] - 210s 6s/step - batch: 16.5000 - size: 39.0000 - loss: 0.8542 - categorical_accuracy: 0.6976 - val_loss: 3.3931 - val_categorical_accuracy: 0.2100\n",
            "Epoch 9/30\n",
            "34/34 [==============================] - ETA: 0s - batch: 16.5000 - size: 39.0000 - loss: 0.7844 - categorical_accuracy: 0.6983\n",
            "Epoch 00009: saving model to model_init_2021-03-1916_35_12.107104/model-00009-0.78441-0.69834-2.23260-0.32000.h5\n",
            "34/34 [==============================] - 209s 6s/step - batch: 16.5000 - size: 39.0000 - loss: 0.7844 - categorical_accuracy: 0.6983 - val_loss: 2.2326 - val_categorical_accuracy: 0.3200\n",
            "Epoch 10/30\n",
            "34/34 [==============================] - ETA: 0s - batch: 16.5000 - size: 39.0000 - loss: 0.7027 - categorical_accuracy: 0.7391\n",
            "Epoch 00010: saving model to model_init_2021-03-1916_35_12.107104/model-00010-0.70270-0.73906-3.17781-0.19000.h5\n",
            "34/34 [==============================] - 211s 6s/step - batch: 16.5000 - size: 39.0000 - loss: 0.7027 - categorical_accuracy: 0.7391 - val_loss: 3.1778 - val_categorical_accuracy: 0.1900\n",
            "Epoch 11/30\n",
            "34/34 [==============================] - ETA: 0s - batch: 16.5000 - size: 39.0000 - loss: 0.7755 - categorical_accuracy: 0.7247\n",
            "Epoch 00011: saving model to model_init_2021-03-1916_35_12.107104/model-00011-0.77546-0.72474-3.60603-0.21000.h5\n",
            "34/34 [==============================] - 205s 6s/step - batch: 16.5000 - size: 39.0000 - loss: 0.7755 - categorical_accuracy: 0.7247 - val_loss: 3.6060 - val_categorical_accuracy: 0.2100\n",
            "Epoch 12/30\n",
            "34/34 [==============================] - ETA: 0s - batch: 16.5000 - size: 39.0000 - loss: 0.7316 - categorical_accuracy: 0.7391\n",
            "Epoch 00012: saving model to model_init_2021-03-1916_35_12.107104/model-00012-0.73163-0.73906-3.16184-0.23000.h5\n",
            "34/34 [==============================] - 207s 6s/step - batch: 16.5000 - size: 39.0000 - loss: 0.7316 - categorical_accuracy: 0.7391 - val_loss: 3.1618 - val_categorical_accuracy: 0.2300\n",
            "Epoch 13/30\n",
            "34/34 [==============================] - ETA: 0s - batch: 16.5000 - size: 39.0000 - loss: 0.6284 - categorical_accuracy: 0.7692\n",
            "Epoch 00013: saving model to model_init_2021-03-1916_35_12.107104/model-00013-0.62844-0.76923-2.35712-0.35000.h5\n",
            "\n",
            "Epoch 00013: ReduceLROnPlateau reducing learning rate to 4.0000001899898055e-05.\n",
            "34/34 [==============================] - 205s 6s/step - batch: 16.5000 - size: 39.0000 - loss: 0.6284 - categorical_accuracy: 0.7692 - val_loss: 2.3571 - val_categorical_accuracy: 0.3500\n",
            "Epoch 14/30\n",
            "34/34 [==============================] - ETA: 0s - batch: 16.5000 - size: 39.0000 - loss: 0.6510 - categorical_accuracy: 0.7647\n",
            "Epoch 00014: saving model to model_init_2021-03-1916_35_12.107104/model-00014-0.65100-0.76471-1.95842-0.42000.h5\n",
            "34/34 [==============================] - 209s 6s/step - batch: 16.5000 - size: 39.0000 - loss: 0.6510 - categorical_accuracy: 0.7647 - val_loss: 1.9584 - val_categorical_accuracy: 0.4200\n",
            "Epoch 15/30\n",
            "34/34 [==============================] - ETA: 0s - batch: 16.5000 - size: 39.0000 - loss: 0.5552 - categorical_accuracy: 0.8100\n",
            "Epoch 00015: saving model to model_init_2021-03-1916_35_12.107104/model-00015-0.55523-0.80995-1.43964-0.52000.h5\n",
            "34/34 [==============================] - 208s 6s/step - batch: 16.5000 - size: 39.0000 - loss: 0.5552 - categorical_accuracy: 0.8100 - val_loss: 1.4396 - val_categorical_accuracy: 0.5200\n",
            "Epoch 16/30\n",
            "34/34 [==============================] - ETA: 0s - batch: 16.5000 - size: 39.0000 - loss: 0.5290 - categorical_accuracy: 0.7896\n",
            "Epoch 00016: saving model to model_init_2021-03-1916_35_12.107104/model-00016-0.52896-0.78959-1.34933-0.56000.h5\n",
            "34/34 [==============================] - 207s 6s/step - batch: 16.5000 - size: 39.0000 - loss: 0.5290 - categorical_accuracy: 0.7896 - val_loss: 1.3493 - val_categorical_accuracy: 0.5600\n",
            "Epoch 17/30\n",
            "34/34 [==============================] - ETA: 0s - batch: 16.5000 - size: 39.0000 - loss: 0.5158 - categorical_accuracy: 0.8032\n",
            "Epoch 00017: saving model to model_init_2021-03-1916_35_12.107104/model-00017-0.51583-0.80317-1.01389-0.63000.h5\n",
            "34/34 [==============================] - 209s 6s/step - batch: 16.5000 - size: 39.0000 - loss: 0.5158 - categorical_accuracy: 0.8032 - val_loss: 1.0139 - val_categorical_accuracy: 0.6300\n",
            "Epoch 18/30\n",
            "34/34 [==============================] - ETA: 0s - batch: 16.5000 - size: 39.0000 - loss: 0.5381 - categorical_accuracy: 0.7964\n",
            "Epoch 00018: saving model to model_init_2021-03-1916_35_12.107104/model-00018-0.53811-0.79638-0.87440-0.70000.h5\n",
            "34/34 [==============================] - 205s 6s/step - batch: 16.5000 - size: 39.0000 - loss: 0.5381 - categorical_accuracy: 0.7964 - val_loss: 0.8744 - val_categorical_accuracy: 0.7000\n",
            "Epoch 19/30\n",
            "34/34 [==============================] - ETA: 0s - batch: 16.5000 - size: 39.0000 - loss: 0.4811 - categorical_accuracy: 0.8167\n",
            "Epoch 00019: saving model to model_init_2021-03-1916_35_12.107104/model-00019-0.48108-0.81674-0.88617-0.72000.h5\n",
            "34/34 [==============================] - 205s 6s/step - batch: 16.5000 - size: 39.0000 - loss: 0.4811 - categorical_accuracy: 0.8167 - val_loss: 0.8862 - val_categorical_accuracy: 0.7200\n",
            "Epoch 20/30\n",
            "34/34 [==============================] - ETA: 0s - batch: 16.5000 - size: 39.0000 - loss: 0.5999 - categorical_accuracy: 0.8100\n",
            "Epoch 00020: saving model to model_init_2021-03-1916_35_12.107104/model-00020-0.59990-0.80995-0.79427-0.74000.h5\n",
            "34/34 [==============================] - 207s 6s/step - batch: 16.5000 - size: 39.0000 - loss: 0.5999 - categorical_accuracy: 0.8100 - val_loss: 0.7943 - val_categorical_accuracy: 0.7400\n",
            "Epoch 21/30\n",
            "34/34 [==============================] - ETA: 0s - batch: 16.5000 - size: 39.0000 - loss: 0.5920 - categorical_accuracy: 0.8077\n",
            "Epoch 00021: saving model to model_init_2021-03-1916_35_12.107104/model-00021-0.59204-0.80769-0.76999-0.75000.h5\n",
            "34/34 [==============================] - 209s 6s/step - batch: 16.5000 - size: 39.0000 - loss: 0.5920 - categorical_accuracy: 0.8077 - val_loss: 0.7700 - val_categorical_accuracy: 0.7500\n",
            "Epoch 22/30\n",
            "34/34 [==============================] - ETA: 0s - batch: 16.5000 - size: 39.0000 - loss: 0.5612 - categorical_accuracy: 0.8213\n",
            "Epoch 00022: saving model to model_init_2021-03-1916_35_12.107104/model-00022-0.56120-0.82127-0.76601-0.71000.h5\n",
            "34/34 [==============================] - 205s 6s/step - batch: 16.5000 - size: 39.0000 - loss: 0.5612 - categorical_accuracy: 0.8213 - val_loss: 0.7660 - val_categorical_accuracy: 0.7100\n",
            "Epoch 23/30\n",
            "34/34 [==============================] - ETA: 0s - batch: 16.5000 - size: 39.0000 - loss: 0.4843 - categorical_accuracy: 0.8100\n",
            "Epoch 00023: saving model to model_init_2021-03-1916_35_12.107104/model-00023-0.48428-0.80995-0.90592-0.74000.h5\n",
            "34/34 [==============================] - 207s 6s/step - batch: 16.5000 - size: 39.0000 - loss: 0.4843 - categorical_accuracy: 0.8100 - val_loss: 0.9059 - val_categorical_accuracy: 0.7400\n",
            "Epoch 24/30\n",
            "34/34 [==============================] - ETA: 0s - batch: 16.5000 - size: 39.0000 - loss: 0.4799 - categorical_accuracy: 0.8273\n",
            "Epoch 00024: saving model to model_init_2021-03-1916_35_12.107104/model-00024-0.47994-0.82730-0.61952-0.78000.h5\n",
            "34/34 [==============================] - 205s 6s/step - batch: 16.5000 - size: 39.0000 - loss: 0.4799 - categorical_accuracy: 0.8273 - val_loss: 0.6195 - val_categorical_accuracy: 0.7800\n",
            "Epoch 25/30\n",
            "34/34 [==============================] - ETA: 0s - batch: 16.5000 - size: 39.0000 - loss: 0.4986 - categorical_accuracy: 0.8326\n",
            "Epoch 00025: saving model to model_init_2021-03-1916_35_12.107104/model-00025-0.49857-0.83258-0.78399-0.74000.h5\n",
            "34/34 [==============================] - 206s 6s/step - batch: 16.5000 - size: 39.0000 - loss: 0.4986 - categorical_accuracy: 0.8326 - val_loss: 0.7840 - val_categorical_accuracy: 0.7400\n",
            "Epoch 26/30\n",
            "34/34 [==============================] - ETA: 0s - batch: 16.5000 - size: 39.0000 - loss: 0.5152 - categorical_accuracy: 0.8205\n",
            "Epoch 00026: saving model to model_init_2021-03-1916_35_12.107104/model-00026-0.51524-0.82051-0.70409-0.77000.h5\n",
            "34/34 [==============================] - 204s 6s/step - batch: 16.5000 - size: 39.0000 - loss: 0.5152 - categorical_accuracy: 0.8205 - val_loss: 0.7041 - val_categorical_accuracy: 0.7700\n",
            "Epoch 27/30\n",
            "34/34 [==============================] - ETA: 0s - batch: 16.5000 - size: 39.0000 - loss: 0.3838 - categorical_accuracy: 0.8590\n",
            "Epoch 00027: saving model to model_init_2021-03-1916_35_12.107104/model-00027-0.38376-0.85897-0.59455-0.78000.h5\n",
            "34/34 [==============================] - 204s 6s/step - batch: 16.5000 - size: 39.0000 - loss: 0.3838 - categorical_accuracy: 0.8590 - val_loss: 0.5946 - val_categorical_accuracy: 0.7800\n",
            "Epoch 28/30\n",
            "34/34 [==============================] - ETA: 0s - batch: 16.5000 - size: 39.0000 - loss: 0.4146 - categorical_accuracy: 0.8348\n",
            "Epoch 00028: saving model to model_init_2021-03-1916_35_12.107104/model-00028-0.41464-0.83484-0.61320-0.83000.h5\n",
            "34/34 [==============================] - 200s 6s/step - batch: 16.5000 - size: 39.0000 - loss: 0.4146 - categorical_accuracy: 0.8348 - val_loss: 0.6132 - val_categorical_accuracy: 0.8300\n",
            "Epoch 29/30\n",
            "34/34 [==============================] - ETA: 0s - batch: 16.5000 - size: 39.0000 - loss: 0.4162 - categorical_accuracy: 0.8469\n",
            "Epoch 00029: saving model to model_init_2021-03-1916_35_12.107104/model-00029-0.41617-0.84691-0.51826-0.80000.h5\n",
            "34/34 [==============================] - 201s 6s/step - batch: 16.5000 - size: 39.0000 - loss: 0.4162 - categorical_accuracy: 0.8469 - val_loss: 0.5183 - val_categorical_accuracy: 0.8000\n",
            "Epoch 30/30\n",
            "34/34 [==============================] - ETA: 0s - batch: 16.5000 - size: 39.0000 - loss: 0.4626 - categorical_accuracy: 0.8567\n",
            "Epoch 00030: saving model to model_init_2021-03-1916_35_12.107104/model-00030-0.46255-0.85671-0.59710-0.76000.h5\n",
            "34/34 [==============================] - 205s 6s/step - batch: 16.5000 - size: 39.0000 - loss: 0.4626 - categorical_accuracy: 0.8567 - val_loss: 0.5971 - val_categorical_accuracy: 0.7600\n"
          ],
          "name": "stdout"
        }
      ]
    },
    {
      "cell_type": "code",
      "metadata": {
        "id": "l8lzWQankJXv",
        "colab": {
          "base_uri": "https://localhost:8080/",
          "height": 265
        },
        "outputId": "03a39501-73ff-4af8-b195-307e6e69caee"
      },
      "source": [
        "plot(accuracy_check_model_4)"
      ],
      "execution_count": 48,
      "outputs": [
        {
          "output_type": "display_data",
          "data": {
            "image/png": "[encoded data removed]",
            "text/plain": [
              "<Figure size 1080x288 with 2 Axes>"
            ]
          },
          "metadata": {
            "tags": [],
            "needs_background": "light"
          }
        }
      ]
    },
    {
      "cell_type": "markdown",
      "metadata": {
        "id": "6Q33XjvbSv8q"
      },
      "source": [
        "With more layers we see some performance improvement. We get a best validation accuracy of 73% . Let's try adding dropouts at the convolution layers"
      ]
    },
    {
      "cell_type": "markdown",
      "metadata": {
        "id": "PP6UEuorS7-z"
      },
      "source": [
        "## Model 5 Adding dropout at convolution layers"
      ]
    },
    {
      "cell_type": "code",
      "metadata": {
        "id": "BjEDLlauS6iK"
      },
      "source": [
        "Conv3D4.clear_session(Conv3D4_model)\n",
        "class ModelConv3D5(ModelBuilder):\n",
        "    \n",
        "    def define_model(self,filtersize=(3,3,3),dense_neurons=64,dropout=0.25):\n",
        "\n",
        "        model = Sequential()\n",
        "        model.add(Conv3D(16, filtersize, padding='same',\n",
        "                 input_shape=(self.frames_to_sample,self.image_height,self.image_width,self.channels)))\n",
        "        model.add(Activation('relu'))\n",
        "        model.add(BatchNormalization())\n",
        "        \n",
        "        model.add(Conv3D(16, filtersize, padding='same',\n",
        "                 input_shape=(self.frames_to_sample,self.image_height,self.image_width,self.channels)))\n",
        "        model.add(Activation('relu'))\n",
        "        model.add(BatchNormalization())\n",
        "        \n",
        "        model.add(MaxPooling3D(pool_size=(2, 2, 2)))\n",
        "        model.add(Dropout(dropout))\n",
        "\n",
        "        model.add(Conv3D(32, filtersize, padding='same'))\n",
        "        model.add(Activation('relu'))\n",
        "        model.add(BatchNormalization())\n",
        "        \n",
        "        model.add(Conv3D(32, filtersize, padding='same'))\n",
        "        model.add(Activation('relu'))\n",
        "        model.add(BatchNormalization())\n",
        "        \n",
        "        model.add(MaxPooling3D(pool_size=(2, 2, 2)))\n",
        "        model.add(Dropout(dropout))\n",
        "\n",
        "        model.add(Conv3D(64, filtersize, padding='same'))\n",
        "        model.add(Activation('relu'))\n",
        "        model.add(BatchNormalization())\n",
        "        \n",
        "        model.add(Conv3D(64, filtersize, padding='same'))\n",
        "        model.add(Activation('relu'))\n",
        "        model.add(BatchNormalization())\n",
        "        \n",
        "        model.add(MaxPooling3D(pool_size=(2, 2, 2)))\n",
        "        model.add(Dropout(dropout))\n",
        "\n",
        "        model.add(Conv3D(128, filtersize, padding='same'))\n",
        "        model.add(Activation('relu'))\n",
        "        model.add(BatchNormalization())\n",
        "        \n",
        "        model.add(Conv3D(128, filtersize, padding='same'))\n",
        "        model.add(Activation('relu'))\n",
        "        model.add(BatchNormalization())\n",
        "        \n",
        "        model.add(MaxPooling3D(pool_size=(2, 2, 2)))\n",
        "        model.add(Dropout(dropout))\n",
        "        \n",
        "        model.add(Flatten())\n",
        "        model.add(Dense(dense_neurons,activation='relu'))\n",
        "        model.add(BatchNormalization())\n",
        "        model.add(Dropout(dropout))\n",
        "\n",
        "        model.add(Dense(dense_neurons,activation='relu'))\n",
        "        model.add(BatchNormalization())\n",
        "        model.add(Dropout(dropout))\n",
        "\n",
        "\n",
        "        model.add(Dense(self.num_classes,activation='softmax'))\n",
        "\n",
        "        optimiser = optimizers.Adam()\n",
        "        model.compile(optimizer=optimiser, loss='categorical_crossentropy', metrics=['categorical_accuracy'])\n",
        "        return model"
      ],
      "execution_count": 49,
      "outputs": []
    },
    {
      "cell_type": "code",
      "metadata": {
        "id": "GXzE7zAXTlb5",
        "colab": {
          "base_uri": "https://localhost:8080/"
        },
        "outputId": "d3796f48-6eb2-486b-f695-5f5872700a4b"
      },
      "source": [
        "Conv3D5=ModelConv3D5()\n",
        "Conv3D5.initialize_src_path(main_folder)\n",
        "Conv3D5.initialize_image_properties(image_height=120,image_width=120)\n",
        "Conv3D5.initialize_hyperparams(frames_to_sample=16,batch_size=20,num_epochs=22)\n",
        "Conv3D5_model=Conv3D5.define_model(filtersize=(3,3,3),dense_neurons=256,dropout=0.25)\n",
        "Conv3D5_model.summary()"
      ],
      "execution_count": 50,
      "outputs": [
        {
          "output_type": "stream",
          "text": [
            "Model: \"sequential\"\n",
            "_________________________________________________________________\n",
            "Layer (type)                 Output Shape              Param #   \n",
            "=================================================================\n",
            "conv3d (Conv3D)              (None, 16, 120, 120, 16)  1312      \n",
            "_________________________________________________________________\n",
            "activation (Activation)      (None, 16, 120, 120, 16)  0         \n",
            "_________________________________________________________________\n",
            "batch_normalization (BatchNo (None, 16, 120, 120, 16)  64        \n",
            "_________________________________________________________________\n",
            "conv3d_1 (Conv3D)            (None, 16, 120, 120, 16)  6928      \n",
            "_________________________________________________________________\n",
            "activation_1 (Activation)    (None, 16, 120, 120, 16)  0         \n",
            "_________________________________________________________________\n",
            "batch_normalization_1 (Batch (None, 16, 120, 120, 16)  64        \n",
            "_________________________________________________________________\n",
            "max_pooling3d (MaxPooling3D) (None, 8, 60, 60, 16)     0         \n",
            "_________________________________________________________________\n",
            "dropout (Dropout)            (None, 8, 60, 60, 16)     0         \n",
            "_________________________________________________________________\n",
            "conv3d_2 (Conv3D)            (None, 8, 60, 60, 32)     13856     \n",
            "_________________________________________________________________\n",
            "activation_2 (Activation)    (None, 8, 60, 60, 32)     0         \n",
            "_________________________________________________________________\n",
            "batch_normalization_2 (Batch (None, 8, 60, 60, 32)     128       \n",
            "_________________________________________________________________\n",
            "conv3d_3 (Conv3D)            (None, 8, 60, 60, 32)     27680     \n",
            "_________________________________________________________________\n",
            "activation_3 (Activation)    (None, 8, 60, 60, 32)     0         \n",
            "_________________________________________________________________\n",
            "batch_normalization_3 (Batch (None, 8, 60, 60, 32)     128       \n",
            "_________________________________________________________________\n",
            "max_pooling3d_1 (MaxPooling3 (None, 4, 30, 30, 32)     0         \n",
            "_________________________________________________________________\n",
            "dropout_1 (Dropout)          (None, 4, 30, 30, 32)     0         \n",
            "_________________________________________________________________\n",
            "conv3d_4 (Conv3D)            (None, 4, 30, 30, 64)     55360     \n",
            "_________________________________________________________________\n",
            "activation_4 (Activation)    (None, 4, 30, 30, 64)     0         \n",
            "_________________________________________________________________\n",
            "batch_normalization_4 (Batch (None, 4, 30, 30, 64)     256       \n",
            "_________________________________________________________________\n",
            "conv3d_5 (Conv3D)            (None, 4, 30, 30, 64)     110656    \n",
            "_________________________________________________________________\n",
            "activation_5 (Activation)    (None, 4, 30, 30, 64)     0         \n",
            "_________________________________________________________________\n",
            "batch_normalization_5 (Batch (None, 4, 30, 30, 64)     256       \n",
            "_________________________________________________________________\n",
            "max_pooling3d_2 (MaxPooling3 (None, 2, 15, 15, 64)     0         \n",
            "_________________________________________________________________\n",
            "dropout_2 (Dropout)          (None, 2, 15, 15, 64)     0         \n",
            "_________________________________________________________________\n",
            "conv3d_6 (Conv3D)            (None, 2, 15, 15, 128)    221312    \n",
            "_________________________________________________________________\n",
            "activation_6 (Activation)    (None, 2, 15, 15, 128)    0         \n",
            "_________________________________________________________________\n",
            "batch_normalization_6 (Batch (None, 2, 15, 15, 128)    512       \n",
            "_________________________________________________________________\n",
            "conv3d_7 (Conv3D)            (None, 2, 15, 15, 128)    442496    \n",
            "_________________________________________________________________\n",
            "activation_7 (Activation)    (None, 2, 15, 15, 128)    0         \n",
            "_________________________________________________________________\n",
            "batch_normalization_7 (Batch (None, 2, 15, 15, 128)    512       \n",
            "_________________________________________________________________\n",
            "max_pooling3d_3 (MaxPooling3 (None, 1, 7, 7, 128)      0         \n",
            "_________________________________________________________________\n",
            "dropout_3 (Dropout)          (None, 1, 7, 7, 128)      0         \n",
            "_________________________________________________________________\n",
            "flatten (Flatten)            (None, 6272)              0         \n",
            "_________________________________________________________________\n",
            "dense (Dense)                (None, 256)               1605888   \n",
            "_________________________________________________________________\n",
            "batch_normalization_8 (Batch (None, 256)               1024      \n",
            "_________________________________________________________________\n",
            "dropout_4 (Dropout)          (None, 256)               0         \n",
            "_________________________________________________________________\n",
            "dense_1 (Dense)              (None, 256)               65792     \n",
            "_________________________________________________________________\n",
            "batch_normalization_9 (Batch (None, 256)               1024      \n",
            "_________________________________________________________________\n",
            "dropout_5 (Dropout)          (None, 256)               0         \n",
            "_________________________________________________________________\n",
            "dense_2 (Dense)              (None, 5)                 1285      \n",
            "=================================================================\n",
            "Total params: 2,556,533\n",
            "Trainable params: 2,554,549\n",
            "Non-trainable params: 1,984\n",
            "_________________________________________________________________\n"
          ],
          "name": "stdout"
        }
      ]
    },
    {
      "cell_type": "code",
      "metadata": {
        "id": "JesB78x6TvM3",
        "colab": {
          "base_uri": "https://localhost:8080/"
        },
        "outputId": "d0495682-4dea-4e9b-bcea-cf3783add11e"
      },
      "source": [
        "print(\"Total Params:\", Conv3D5_model.count_params())\n",
        "accuracy_check_model_5=Conv3D5.train_model(Conv3D5_model,augment_data=True)"
      ],
      "execution_count": 51,
      "outputs": [
        {
          "output_type": "stream",
          "text": [
            "Total Params: 2556533\n",
            "WARNING:tensorflow:`period` argument is deprecated. Please use `save_freq` to specify the frequency in number of batches seen.\n",
            "Epoch 1/22\n",
            "34/34 [==============================] - ETA: 0s - batch: 16.5000 - size: 39.0000 - loss: 1.7140 - categorical_accuracy: 0.4035\n",
            "Epoch 00001: saving model to model_init_2021-03-1918_19_16.500814/model-00001-1.71400-0.40347-1.79516-0.30000.h5\n",
            "34/34 [==============================] - 228s 6s/step - batch: 16.5000 - size: 39.0000 - loss: 1.7140 - categorical_accuracy: 0.4035 - val_loss: 1.7952 - val_categorical_accuracy: 0.3000\n",
            "Epoch 2/22\n",
            "34/34 [==============================] - ETA: 0s - batch: 16.5000 - size: 39.0000 - loss: 1.2752 - categorical_accuracy: 0.5385\n",
            "Epoch 00002: saving model to model_init_2021-03-1918_19_16.500814/model-00002-1.27516-0.53846-2.22387-0.25000.h5\n",
            "34/34 [==============================] - 203s 6s/step - batch: 16.5000 - size: 39.0000 - loss: 1.2752 - categorical_accuracy: 0.5385 - val_loss: 2.2239 - val_categorical_accuracy: 0.2500\n",
            "Epoch 3/22\n",
            "34/34 [==============================] - ETA: 0s - batch: 16.5000 - size: 39.0000 - loss: 0.9937 - categorical_accuracy: 0.6199\n",
            "Epoch 00003: saving model to model_init_2021-03-1918_19_16.500814/model-00003-0.99371-0.61991-2.73657-0.17000.h5\n",
            "34/34 [==============================] - 204s 6s/step - batch: 16.5000 - size: 39.0000 - loss: 0.9937 - categorical_accuracy: 0.6199 - val_loss: 2.7366 - val_categorical_accuracy: 0.1700\n",
            "Epoch 4/22\n",
            "34/34 [==============================] - ETA: 0s - batch: 16.5000 - size: 39.0000 - loss: 0.9874 - categorical_accuracy: 0.6312\n",
            "Epoch 00004: saving model to model_init_2021-03-1918_19_16.500814/model-00004-0.98736-0.63122-2.74473-0.38000.h5\n",
            "34/34 [==============================] - 208s 6s/step - batch: 16.5000 - size: 39.0000 - loss: 0.9874 - categorical_accuracy: 0.6312 - val_loss: 2.7447 - val_categorical_accuracy: 0.3800\n",
            "Epoch 5/22\n",
            "34/34 [==============================] - ETA: 0s - batch: 16.5000 - size: 39.0000 - loss: 0.8478 - categorical_accuracy: 0.6953\n",
            "Epoch 00005: saving model to model_init_2021-03-1918_19_16.500814/model-00005-0.84779-0.69532-3.33720-0.24000.h5\n",
            "\n",
            "Epoch 00005: ReduceLROnPlateau reducing learning rate to 0.00020000000949949026.\n",
            "34/34 [==============================] - 204s 6s/step - batch: 16.5000 - size: 39.0000 - loss: 0.8478 - categorical_accuracy: 0.6953 - val_loss: 3.3372 - val_categorical_accuracy: 0.2400\n",
            "Epoch 6/22\n",
            "34/34 [==============================] - ETA: 0s - batch: 16.5000 - size: 39.0000 - loss: 0.6586 - categorical_accuracy: 0.7534\n",
            "Epoch 00006: saving model to model_init_2021-03-1918_19_16.500814/model-00006-0.65858-0.75339-3.52267-0.24000.h5\n",
            "34/34 [==============================] - 206s 6s/step - batch: 16.5000 - size: 39.0000 - loss: 0.6586 - categorical_accuracy: 0.7534 - val_loss: 3.5227 - val_categorical_accuracy: 0.2400\n",
            "Epoch 7/22\n",
            "34/34 [==============================] - ETA: 0s - batch: 16.5000 - size: 39.0000 - loss: 0.5817 - categorical_accuracy: 0.7903\n",
            "Epoch 00007: saving model to model_init_2021-03-1918_19_16.500814/model-00007-0.58170-0.79035-3.75474-0.22000.h5\n",
            "34/34 [==============================] - 205s 6s/step - batch: 16.5000 - size: 39.0000 - loss: 0.5817 - categorical_accuracy: 0.7903 - val_loss: 3.7547 - val_categorical_accuracy: 0.2200\n",
            "Epoch 8/22\n",
            "34/34 [==============================] - ETA: 0s - batch: 16.5000 - size: 39.0000 - loss: 0.4983 - categorical_accuracy: 0.8024\n",
            "Epoch 00008: saving model to model_init_2021-03-1918_19_16.500814/model-00008-0.49833-0.80241-3.62918-0.21000.h5\n",
            "34/34 [==============================] - 206s 6s/step - batch: 16.5000 - size: 39.0000 - loss: 0.4983 - categorical_accuracy: 0.8024 - val_loss: 3.6292 - val_categorical_accuracy: 0.2100\n",
            "Epoch 9/22\n",
            "34/34 [==============================] - ETA: 0s - batch: 16.5000 - size: 39.0000 - loss: 0.4618 - categorical_accuracy: 0.8205\n",
            "Epoch 00009: saving model to model_init_2021-03-1918_19_16.500814/model-00009-0.46176-0.82051-3.52592-0.26000.h5\n",
            "\n",
            "Epoch 00009: ReduceLROnPlateau reducing learning rate to 4.0000001899898055e-05.\n",
            "34/34 [==============================] - 206s 6s/step - batch: 16.5000 - size: 39.0000 - loss: 0.4618 - categorical_accuracy: 0.8205 - val_loss: 3.5259 - val_categorical_accuracy: 0.2600\n",
            "Epoch 10/22\n",
            "34/34 [==============================] - ETA: 0s - batch: 16.5000 - size: 39.0000 - loss: 0.4568 - categorical_accuracy: 0.8273\n",
            "Epoch 00010: saving model to model_init_2021-03-1918_19_16.500814/model-00010-0.45684-0.82730-4.21485-0.20000.h5\n",
            "34/34 [==============================] - 213s 6s/step - batch: 16.5000 - size: 39.0000 - loss: 0.4568 - categorical_accuracy: 0.8273 - val_loss: 4.2148 - val_categorical_accuracy: 0.2000\n",
            "Epoch 11/22\n",
            "34/34 [==============================] - ETA: 0s - batch: 16.5000 - size: 39.0000 - loss: 0.4253 - categorical_accuracy: 0.8522\n",
            "Epoch 00011: saving model to model_init_2021-03-1918_19_16.500814/model-00011-0.42531-0.85219-3.98420-0.23000.h5\n",
            "34/34 [==============================] - 208s 6s/step - batch: 16.5000 - size: 39.0000 - loss: 0.4253 - categorical_accuracy: 0.8522 - val_loss: 3.9842 - val_categorical_accuracy: 0.2300\n",
            "Epoch 12/22\n",
            "34/34 [==============================] - ETA: 0s - batch: 16.5000 - size: 39.0000 - loss: 0.4328 - categorical_accuracy: 0.8612\n",
            "Epoch 00012: saving model to model_init_2021-03-1918_19_16.500814/model-00012-0.43278-0.86124-4.07189-0.25000.h5\n",
            "34/34 [==============================] - 209s 6s/step - batch: 16.5000 - size: 39.0000 - loss: 0.4328 - categorical_accuracy: 0.8612 - val_loss: 4.0719 - val_categorical_accuracy: 0.2500\n",
            "Epoch 13/22\n",
            "34/34 [==============================] - ETA: 0s - batch: 16.5000 - size: 39.0000 - loss: 0.3996 - categorical_accuracy: 0.8620\n",
            "Epoch 00013: saving model to model_init_2021-03-1918_19_16.500814/model-00013-0.39960-0.86199-3.54159-0.31000.h5\n",
            "\n",
            "Epoch 00013: ReduceLROnPlateau reducing learning rate to 8.000000525498762e-06.\n",
            "34/34 [==============================] - 215s 6s/step - batch: 16.5000 - size: 39.0000 - loss: 0.3996 - categorical_accuracy: 0.8620 - val_loss: 3.5416 - val_categorical_accuracy: 0.3100\n",
            "Epoch 14/22\n",
            "34/34 [==============================] - ETA: 0s - batch: 16.5000 - size: 39.0000 - loss: 0.4058 - categorical_accuracy: 0.8469\n",
            "Epoch 00014: saving model to model_init_2021-03-1918_19_16.500814/model-00014-0.40580-0.84691-3.39729-0.30000.h5\n",
            "34/34 [==============================] - 218s 7s/step - batch: 16.5000 - size: 39.0000 - loss: 0.4058 - categorical_accuracy: 0.8469 - val_loss: 3.3973 - val_categorical_accuracy: 0.3000\n",
            "Epoch 15/22\n",
            "34/34 [==============================] - ETA: 0s - batch: 16.5000 - size: 39.0000 - loss: 0.4195 - categorical_accuracy: 0.8718\n",
            "Epoch 00015: saving model to model_init_2021-03-1918_19_16.500814/model-00015-0.41952-0.87179-2.73335-0.32000.h5\n",
            "34/34 [==============================] - 221s 7s/step - batch: 16.5000 - size: 39.0000 - loss: 0.4195 - categorical_accuracy: 0.8718 - val_loss: 2.7333 - val_categorical_accuracy: 0.3200\n",
            "Epoch 16/22\n",
            "34/34 [==============================] - ETA: 0s - batch: 16.5000 - size: 39.0000 - loss: 0.4303 - categorical_accuracy: 0.8567\n",
            "Epoch 00016: saving model to model_init_2021-03-1918_19_16.500814/model-00016-0.43034-0.85671-2.35556-0.34000.h5\n",
            "34/34 [==============================] - 217s 7s/step - batch: 16.5000 - size: 39.0000 - loss: 0.4303 - categorical_accuracy: 0.8567 - val_loss: 2.3556 - val_categorical_accuracy: 0.3400\n",
            "Epoch 17/22\n",
            "34/34 [==============================] - ETA: 0s - batch: 16.5000 - size: 39.0000 - loss: 0.3744 - categorical_accuracy: 0.8643\n",
            "Epoch 00017: saving model to model_init_2021-03-1918_19_16.500814/model-00017-0.37443-0.86425-1.95004-0.43000.h5\n",
            "\n",
            "Epoch 00017: ReduceLROnPlateau reducing learning rate to 1.6000001778593287e-06.\n",
            "34/34 [==============================] - 217s 7s/step - batch: 16.5000 - size: 39.0000 - loss: 0.3744 - categorical_accuracy: 0.8643 - val_loss: 1.9500 - val_categorical_accuracy: 0.4300\n",
            "Epoch 18/22\n",
            "34/34 [==============================] - ETA: 0s - batch: 16.5000 - size: 39.0000 - loss: 0.3903 - categorical_accuracy: 0.8620\n",
            "Epoch 00018: saving model to model_init_2021-03-1918_19_16.500814/model-00018-0.39033-0.86199-1.62391-0.48000.h5\n",
            "34/34 [==============================] - 216s 7s/step - batch: 16.5000 - size: 39.0000 - loss: 0.3903 - categorical_accuracy: 0.8620 - val_loss: 1.6239 - val_categorical_accuracy: 0.4800\n",
            "Epoch 19/22\n",
            "34/34 [==============================] - ETA: 0s - batch: 16.5000 - size: 39.0000 - loss: 0.4390 - categorical_accuracy: 0.8401\n",
            "Epoch 00019: saving model to model_init_2021-03-1918_19_16.500814/model-00019-0.43905-0.84012-1.50581-0.49000.h5\n",
            "34/34 [==============================] - 214s 6s/step - batch: 16.5000 - size: 39.0000 - loss: 0.4390 - categorical_accuracy: 0.8401 - val_loss: 1.5058 - val_categorical_accuracy: 0.4900\n",
            "Epoch 20/22\n",
            "34/34 [==============================] - ETA: 0s - batch: 16.5000 - size: 39.0000 - loss: 0.4023 - categorical_accuracy: 0.8688\n",
            "Epoch 00020: saving model to model_init_2021-03-1918_19_16.500814/model-00020-0.40227-0.86878-1.10472-0.60000.h5\n",
            "34/34 [==============================] - 218s 7s/step - batch: 16.5000 - size: 39.0000 - loss: 0.4023 - categorical_accuracy: 0.8688 - val_loss: 1.1047 - val_categorical_accuracy: 0.6000\n",
            "Epoch 21/22\n",
            "34/34 [==============================] - ETA: 0s - batch: 16.5000 - size: 39.0000 - loss: 0.3929 - categorical_accuracy: 0.8537\n",
            "Epoch 00021: saving model to model_init_2021-03-1918_19_16.500814/model-00021-0.39294-0.85370-1.11000-0.63000.h5\n",
            "34/34 [==============================] - 216s 7s/step - batch: 16.5000 - size: 39.0000 - loss: 0.3929 - categorical_accuracy: 0.8537 - val_loss: 1.1100 - val_categorical_accuracy: 0.6300\n",
            "Epoch 22/22\n",
            "34/34 [==============================] - ETA: 0s - batch: 16.5000 - size: 39.0000 - loss: 0.3752 - categorical_accuracy: 0.8816\n",
            "Epoch 00022: saving model to model_init_2021-03-1918_19_16.500814/model-00022-0.37523-0.88160-1.07028-0.61000.h5\n",
            "34/34 [==============================] - 218s 7s/step - batch: 16.5000 - size: 39.0000 - loss: 0.3752 - categorical_accuracy: 0.8816 - val_loss: 1.0703 - val_categorical_accuracy: 0.6100\n"
          ],
          "name": "stdout"
        }
      ]
    },
    {
      "cell_type": "code",
      "metadata": {
        "id": "WSHXypIxT2_c",
        "colab": {
          "base_uri": "https://localhost:8080/",
          "height": 265
        },
        "outputId": "7218e73e-34d6-4359-fc3b-58eeeff65720"
      },
      "source": [
        "plot(accuracy_check_model_5)"
      ],
      "execution_count": 52,
      "outputs": [
        {
          "output_type": "display_data",
          "data": {
            "image/png": "[encoded data removed]",
            "text/plain": [
              "<Figure size 1080x288 with 2 Axes>"
            ]
          },
          "metadata": {
            "tags": [],
            "needs_background": "light"
          }
        }
      ]
    },
    {
      "cell_type": "markdown",
      "metadata": {
        "id": "QOot9MXnwkBV"
      },
      "source": [
        "\n",
        "Adding dropouts has further reduced validation accuracy as its not to learn generalizable features\n",
        "All models experimental models above have more than 1 million parameters. Let's try to reduce the model size and see the performance"
      ]
    },
    {
      "cell_type": "code",
      "metadata": {
        "id": "gCTXMah8xFXr"
      },
      "source": [
        "Conv3D5.clear_session(Conv3D5_model)"
      ],
      "execution_count": 53,
      "outputs": []
    },
    {
      "cell_type": "markdown",
      "metadata": {
        "id": "0FroiBKKw0un"
      },
      "source": [
        "## Model 6 - reducing the number of parameters"
      ]
    },
    {
      "cell_type": "code",
      "metadata": {
        "id": "wJj_Nb_IwnLi"
      },
      "source": [
        "class ModelConv3D6(ModelBuilder):\n",
        "    \n",
        "    def define_model(self,dense_neurons=64,dropout=0.25):\n",
        "\n",
        "        model = Sequential()\n",
        "        model.add(Conv3D(16, (3, 3, 3), padding='same',\n",
        "                 input_shape=(self.frames_to_sample,self.image_height,self.image_width,self.channels)))\n",
        "        model.add(Activation('relu'))\n",
        "        model.add(BatchNormalization())\n",
        "        model.add(MaxPooling3D(pool_size=(2, 2, 2)))\n",
        "\n",
        "        model.add(Conv3D(32, (2, 2, 2), padding='same'))\n",
        "        model.add(Activation('relu'))\n",
        "        model.add(BatchNormalization())\n",
        "        model.add(MaxPooling3D(pool_size=(2, 2, 2)))\n",
        "\n",
        "        model.add(Conv3D(64, (2, 2, 2), padding='same'))\n",
        "        model.add(Activation('relu'))\n",
        "        model.add(BatchNormalization())\n",
        "        model.add(MaxPooling3D(pool_size=(2, 2, 2)))\n",
        "\n",
        "        model.add(Conv3D(128, (2, 2, 2), padding='same'))\n",
        "        model.add(Activation('relu'))\n",
        "        model.add(BatchNormalization())\n",
        "        model.add(MaxPooling3D(pool_size=(2, 2, 2)))\n",
        "        \n",
        "        model.add(Flatten())\n",
        "        model.add(Dense(dense_neurons,activation='relu'))\n",
        "        model.add(BatchNormalization())\n",
        "        model.add(Dropout(dropout))\n",
        "\n",
        "        model.add(Dense(dense_neurons,activation='relu'))\n",
        "        model.add(BatchNormalization())\n",
        "        model.add(Dropout(dropout))\n",
        "\n",
        "        model.add(Dense(self.num_classes,activation='softmax'))\n",
        "\n",
        "        optimiser = optimizers.Adam(lr=0.0002)\n",
        "        model.compile(optimizer=optimiser, loss='categorical_crossentropy', metrics=['categorical_accuracy'])\n",
        "        return model"
      ],
      "execution_count": 14,
      "outputs": []
    },
    {
      "cell_type": "code",
      "metadata": {
        "id": "WKI57BD-xhK9",
        "colab": {
          "base_uri": "https://localhost:8080/"
        },
        "outputId": "2c940eb4-56f0-4233-fb3e-b11b69ed5ed7"
      },
      "source": [
        "Conv3D6=ModelConv3D6()\n",
        "Conv3D6.initialize_src_path(main_folder)\n",
        "Conv3D6.initialize_image_properties(image_height=100,image_width=100)\n",
        "Conv3D6.initialize_hyperparams(frames_to_sample=16,batch_size=20,num_epochs=30)\n",
        "Conv3D6_model=Conv3D6.define_model(dense_neurons=128,dropout=0.25)\n",
        "Conv3D6_model.summary()"
      ],
      "execution_count": 15,
      "outputs": [
        {
          "output_type": "stream",
          "text": [
            "Model: \"sequential\"\n",
            "_________________________________________________________________\n",
            "Layer (type)                 Output Shape              Param #   \n",
            "=================================================================\n",
            "conv3d (Conv3D)              (None, 16, 100, 100, 16)  1312      \n",
            "_________________________________________________________________\n",
            "activation (Activation)      (None, 16, 100, 100, 16)  0         \n",
            "_________________________________________________________________\n",
            "batch_normalization (BatchNo (None, 16, 100, 100, 16)  64        \n",
            "_________________________________________________________________\n",
            "max_pooling3d (MaxPooling3D) (None, 8, 50, 50, 16)     0         \n",
            "_________________________________________________________________\n",
            "conv3d_1 (Conv3D)            (None, 8, 50, 50, 32)     4128      \n",
            "_________________________________________________________________\n",
            "activation_1 (Activation)    (None, 8, 50, 50, 32)     0         \n",
            "_________________________________________________________________\n",
            "batch_normalization_1 (Batch (None, 8, 50, 50, 32)     128       \n",
            "_________________________________________________________________\n",
            "max_pooling3d_1 (MaxPooling3 (None, 4, 25, 25, 32)     0         \n",
            "_________________________________________________________________\n",
            "conv3d_2 (Conv3D)            (None, 4, 25, 25, 64)     16448     \n",
            "_________________________________________________________________\n",
            "activation_2 (Activation)    (None, 4, 25, 25, 64)     0         \n",
            "_________________________________________________________________\n",
            "batch_normalization_2 (Batch (None, 4, 25, 25, 64)     256       \n",
            "_________________________________________________________________\n",
            "max_pooling3d_2 (MaxPooling3 (None, 2, 12, 12, 64)     0         \n",
            "_________________________________________________________________\n",
            "conv3d_3 (Conv3D)            (None, 2, 12, 12, 128)    65664     \n",
            "_________________________________________________________________\n",
            "activation_3 (Activation)    (None, 2, 12, 12, 128)    0         \n",
            "_________________________________________________________________\n",
            "batch_normalization_3 (Batch (None, 2, 12, 12, 128)    512       \n",
            "_________________________________________________________________\n",
            "max_pooling3d_3 (MaxPooling3 (None, 1, 6, 6, 128)      0         \n",
            "_________________________________________________________________\n",
            "flatten (Flatten)            (None, 4608)              0         \n",
            "_________________________________________________________________\n",
            "dense (Dense)                (None, 128)               589952    \n",
            "_________________________________________________________________\n",
            "batch_normalization_4 (Batch (None, 128)               512       \n",
            "_________________________________________________________________\n",
            "dropout (Dropout)            (None, 128)               0         \n",
            "_________________________________________________________________\n",
            "dense_1 (Dense)              (None, 128)               16512     \n",
            "_________________________________________________________________\n",
            "batch_normalization_5 (Batch (None, 128)               512       \n",
            "_________________________________________________________________\n",
            "dropout_1 (Dropout)          (None, 128)               0         \n",
            "_________________________________________________________________\n",
            "dense_2 (Dense)              (None, 5)                 645       \n",
            "=================================================================\n",
            "Total params: 696,645\n",
            "Trainable params: 695,653\n",
            "Non-trainable params: 992\n",
            "_________________________________________________________________\n"
          ],
          "name": "stdout"
        }
      ]
    },
    {
      "cell_type": "code",
      "metadata": {
        "id": "2ydywdxnxwbU",
        "colab": {
          "base_uri": "https://localhost:8080/",
          "height": 1000
        },
        "outputId": "32588d9e-5f33-4be6-cbb4-4246199618bb"
      },
      "source": [
        "tprint(\"Total Params:\", Conv3D6_model.count_params())\n",
        "accuracy_check_model_6=Conv3D6.train_model(Conv3D6_model,augment_data=True)"
      ],
      "execution_count": 16,
      "outputs": [
        {
          "output_type": "stream",
          "text": [
            "Total Params: 696645\n",
            "WARNING:tensorflow:`period` argument is deprecated. Please use `save_freq` to specify the frequency in number of batches seen.\n",
            "Epoch 1/30\n",
            "34/34 [==============================] - ETA: 0s - batch: 16.5000 - size: 39.0000 - loss: 1.8113 - categorical_accuracy: 0.3499\n",
            "Epoch 00001: saving model to model_init_2021-03-2001_06_17.261230/model-00001-1.81129-0.34992-1.86787-0.22000.h5\n",
            "34/34 [==============================] - 212s 5s/step - batch: 16.5000 - size: 39.0000 - loss: 1.8113 - categorical_accuracy: 0.3499 - val_loss: 1.8679 - val_categorical_accuracy: 0.2200\n",
            "Epoch 2/30\n",
            "34/34 [==============================] - ETA: 0s - batch: 16.5000 - size: 39.0000 - loss: 1.2375 - categorical_accuracy: 0.5234\n",
            "Epoch 00002: saving model to model_init_2021-03-2001_06_17.261230/model-00002-1.23751-0.52338-2.58866-0.13000.h5\n",
            "34/34 [==============================] - 194s 6s/step - batch: 16.5000 - size: 39.0000 - loss: 1.2375 - categorical_accuracy: 0.5234 - val_loss: 2.5887 - val_categorical_accuracy: 0.1300\n",
            "Epoch 3/30\n",
            "34/34 [==============================] - ETA: 0s - batch: 16.5000 - size: 39.0000 - loss: 0.9346 - categorical_accuracy: 0.6312\n",
            "Epoch 00003: saving model to model_init_2021-03-2001_06_17.261230/model-00003-0.93460-0.63122-3.75442-0.15000.h5\n",
            "34/34 [==============================] - 198s 6s/step - batch: 16.5000 - size: 39.0000 - loss: 0.9346 - categorical_accuracy: 0.6312 - val_loss: 3.7544 - val_categorical_accuracy: 0.1500\n",
            "Epoch 4/30\n",
            "34/34 [==============================] - ETA: 0s - batch: 16.5000 - size: 39.0000 - loss: 0.8737 - categorical_accuracy: 0.6523\n",
            "Epoch 00004: saving model to model_init_2021-03-2001_06_17.261230/model-00004-0.87374-0.65234-5.11441-0.15000.h5\n",
            "34/34 [==============================] - 194s 6s/step - batch: 16.5000 - size: 39.0000 - loss: 0.8737 - categorical_accuracy: 0.6523 - val_loss: 5.1144 - val_categorical_accuracy: 0.1500\n",
            "Epoch 5/30\n",
            "34/34 [==============================] - ETA: 0s - batch: 16.5000 - size: 39.0000 - loss: 0.7826 - categorical_accuracy: 0.7021\n",
            "Epoch 00005: saving model to model_init_2021-03-2001_06_17.261230/model-00005-0.78261-0.70211-5.68009-0.15000.h5\n",
            "\n",
            "Epoch 00005: ReduceLROnPlateau reducing learning rate to 3.9999998989515007e-05.\n",
            "34/34 [==============================] - 200s 6s/step - batch: 16.5000 - size: 39.0000 - loss: 0.7826 - categorical_accuracy: 0.7021 - val_loss: 5.6801 - val_categorical_accuracy: 0.1500\n",
            "Epoch 6/30\n",
            "34/34 [==============================] - ETA: 0s - batch: 16.5000 - size: 39.0000 - loss: 0.6841 - categorical_accuracy: 0.7466\n",
            "Epoch 00006: saving model to model_init_2021-03-2001_06_17.261230/model-00006-0.68407-0.74661-5.70197-0.16000.h5\n",
            "34/34 [==============================] - 195s 6s/step - batch: 16.5000 - size: 39.0000 - loss: 0.6841 - categorical_accuracy: 0.7466 - val_loss: 5.7020 - val_categorical_accuracy: 0.1600\n",
            "Epoch 7/30\n",
            "34/34 [==============================] - ETA: 0s - batch: 16.5000 - size: 39.0000 - loss: 0.6481 - categorical_accuracy: 0.7459\n",
            "Epoch 00007: saving model to model_init_2021-03-2001_06_17.261230/model-00007-0.64813-0.74585-4.80073-0.18000.h5\n",
            "34/34 [==============================] - 192s 6s/step - batch: 16.5000 - size: 39.0000 - loss: 0.6481 - categorical_accuracy: 0.7459 - val_loss: 4.8007 - val_categorical_accuracy: 0.1800\n",
            "Epoch 8/30\n",
            "34/34 [==============================] - ETA: 0s - batch: 16.5000 - size: 39.0000 - loss: 0.6863 - categorical_accuracy: 0.7466\n",
            "Epoch 00008: saving model to model_init_2021-03-2001_06_17.261230/model-00008-0.68635-0.74661-5.03676-0.15000.h5\n",
            "34/34 [==============================] - 188s 6s/step - batch: 16.5000 - size: 39.0000 - loss: 0.6863 - categorical_accuracy: 0.7466 - val_loss: 5.0368 - val_categorical_accuracy: 0.1500\n",
            "Epoch 9/30\n",
            "34/34 [==============================] - ETA: 0s - batch: 16.5000 - size: 39.0000 - loss: 0.5942 - categorical_accuracy: 0.7828\n",
            "Epoch 00009: saving model to model_init_2021-03-2001_06_17.261230/model-00009-0.59418-0.78281-4.43331-0.24000.h5\n",
            "\n",
            "Epoch 00009: ReduceLROnPlateau reducing learning rate to 7.999999797903002e-06.\n",
            "34/34 [==============================] - 193s 6s/step - batch: 16.5000 - size: 39.0000 - loss: 0.5942 - categorical_accuracy: 0.7828 - val_loss: 4.4333 - val_categorical_accuracy: 0.2400\n",
            "Epoch 10/30\n",
            "34/34 [==============================] - ETA: 0s - batch: 16.5000 - size: 39.0000 - loss: 0.6306 - categorical_accuracy: 0.7873\n",
            "Epoch 00010: saving model to model_init_2021-03-2001_06_17.261230/model-00010-0.63058-0.78733-3.95433-0.29000.h5\n",
            "34/34 [==============================] - 196s 6s/step - batch: 16.5000 - size: 39.0000 - loss: 0.6306 - categorical_accuracy: 0.7873 - val_loss: 3.9543 - val_categorical_accuracy: 0.2900\n",
            "Epoch 11/30\n",
            "34/34 [==============================] - ETA: 0s - batch: 16.5000 - size: 39.0000 - loss: 0.6136 - categorical_accuracy: 0.7647\n",
            "Epoch 00011: saving model to model_init_2021-03-2001_06_17.261230/model-00011-0.61361-0.76471-3.71645-0.28000.h5\n",
            "34/34 [==============================] - 192s 6s/step - batch: 16.5000 - size: 39.0000 - loss: 0.6136 - categorical_accuracy: 0.7647 - val_loss: 3.7165 - val_categorical_accuracy: 0.2800\n",
            "Epoch 12/30\n",
            "34/34 [==============================] - ETA: 0s - batch: 16.5000 - size: 39.0000 - loss: 0.5702 - categorical_accuracy: 0.7934\n",
            "Epoch 00012: saving model to model_init_2021-03-2001_06_17.261230/model-00012-0.57024-0.79336-3.37426-0.28000.h5\n",
            "34/34 [==============================] - 194s 6s/step - batch: 16.5000 - size: 39.0000 - loss: 0.5702 - categorical_accuracy: 0.7934 - val_loss: 3.3743 - val_categorical_accuracy: 0.2800\n",
            "Epoch 13/30\n",
            "34/34 [==============================] - ETA: 0s - batch: 16.5000 - size: 39.0000 - loss: 0.5868 - categorical_accuracy: 0.7934\n",
            "Epoch 00013: saving model to model_init_2021-03-2001_06_17.261230/model-00013-0.58677-0.79336-2.45507-0.42000.h5\n",
            "\n",
            "Epoch 00013: ReduceLROnPlateau reducing learning rate to 1.5999999959603884e-06.\n",
            "34/34 [==============================] - 193s 6s/step - batch: 16.5000 - size: 39.0000 - loss: 0.5868 - categorical_accuracy: 0.7934 - val_loss: 2.4551 - val_categorical_accuracy: 0.4200\n",
            "Epoch 14/30\n",
            "34/34 [==============================] - ETA: 0s - batch: 16.5000 - size: 39.0000 - loss: 0.5786 - categorical_accuracy: 0.7934\n",
            "Epoch 00014: saving model to model_init_2021-03-2001_06_17.261230/model-00014-0.57864-0.79336-2.18972-0.35000.h5\n",
            "34/34 [==============================] - 194s 6s/step - batch: 16.5000 - size: 39.0000 - loss: 0.5786 - categorical_accuracy: 0.7934 - val_loss: 2.1897 - val_categorical_accuracy: 0.3500\n",
            "Epoch 15/30\n",
            "34/34 [==============================] - ETA: 0s - batch: 16.5000 - size: 39.0000 - loss: 0.6176 - categorical_accuracy: 0.7790\n",
            "Epoch 00015: saving model to model_init_2021-03-2001_06_17.261230/model-00015-0.61761-0.77903-1.91049-0.37000.h5\n",
            "34/34 [==============================] - 192s 6s/step - batch: 16.5000 - size: 39.0000 - loss: 0.6176 - categorical_accuracy: 0.7790 - val_loss: 1.9105 - val_categorical_accuracy: 0.3700\n",
            "Epoch 16/30\n",
            "34/34 [==============================] - ETA: 0s - batch: 16.5000 - size: 39.0000 - loss: 0.5839 - categorical_accuracy: 0.7760\n",
            "Epoch 00016: saving model to model_init_2021-03-2001_06_17.261230/model-00016-0.58387-0.77602-1.56800-0.44000.h5\n",
            "34/34 [==============================] - 191s 6s/step - batch: 16.5000 - size: 39.0000 - loss: 0.5839 - categorical_accuracy: 0.7760 - val_loss: 1.5680 - val_categorical_accuracy: 0.4400\n",
            "Epoch 17/30\n",
            "34/34 [==============================] - ETA: 0s - batch: 16.5000 - size: 39.0000 - loss: 0.6167 - categorical_accuracy: 0.7541\n",
            "Epoch 00017: saving model to model_init_2021-03-2001_06_17.261230/model-00017-0.61666-0.75415-1.33743-0.51000.h5\n",
            "34/34 [==============================] - 194s 6s/step - batch: 16.5000 - size: 39.0000 - loss: 0.6167 - categorical_accuracy: 0.7541 - val_loss: 1.3374 - val_categorical_accuracy: 0.5100\n",
            "Epoch 18/30\n",
            "34/34 [==============================] - ETA: 0s - batch: 16.5000 - size: 39.0000 - loss: 0.5689 - categorical_accuracy: 0.7986\n",
            "Epoch 00018: saving model to model_init_2021-03-2001_06_17.261230/model-00018-0.56889-0.79864-1.08589-0.60000.h5\n",
            "34/34 [==============================] - 190s 6s/step - batch: 16.5000 - size: 39.0000 - loss: 0.5689 - categorical_accuracy: 0.7986 - val_loss: 1.0859 - val_categorical_accuracy: 0.6000\n",
            "Epoch 19/30\n",
            "34/34 [==============================] - ETA: 0s - batch: 16.5000 - size: 39.0000 - loss: 0.5975 - categorical_accuracy: 0.7821\n",
            "Epoch 00019: saving model to model_init_2021-03-2001_06_17.261230/model-00019-0.59752-0.78205-1.21356-0.64000.h5\n",
            "34/34 [==============================] - 193s 6s/step - batch: 16.5000 - size: 39.0000 - loss: 0.5975 - categorical_accuracy: 0.7821 - val_loss: 1.2136 - val_categorical_accuracy: 0.6400\n",
            "Epoch 20/30\n",
            "34/34 [==============================] - ETA: 0s - batch: 16.5000 - size: 39.0000 - loss: 0.5815 - categorical_accuracy: 0.7926\n",
            "Epoch 00020: saving model to model_init_2021-03-2001_06_17.261230/model-00020-0.58151-0.79261-1.00410-0.62000.h5\n",
            "34/34 [==============================] - 196s 6s/step - batch: 16.5000 - size: 39.0000 - loss: 0.5815 - categorical_accuracy: 0.7926 - val_loss: 1.0041 - val_categorical_accuracy: 0.6200\n",
            "Epoch 21/30\n",
            "34/34 [==============================] - ETA: 0s - batch: 16.5000 - size: 39.0000 - loss: 0.6030 - categorical_accuracy: 0.7813\n",
            "Epoch 00021: saving model to model_init_2021-03-2001_06_17.261230/model-00021-0.60304-0.78130-0.96372-0.65000.h5\n",
            "34/34 [==============================] - 190s 6s/step - batch: 16.5000 - size: 39.0000 - loss: 0.6030 - categorical_accuracy: 0.7813 - val_loss: 0.9637 - val_categorical_accuracy: 0.6500\n",
            "Epoch 22/30\n",
            "34/34 [==============================] - ETA: 0s - batch: 16.5000 - size: 39.0000 - loss: 0.5567 - categorical_accuracy: 0.7971\n",
            "Epoch 00022: saving model to model_init_2021-03-2001_06_17.261230/model-00022-0.55668-0.79713-1.05054-0.66000.h5\n",
            "34/34 [==============================] - 195s 6s/step - batch: 16.5000 - size: 39.0000 - loss: 0.5567 - categorical_accuracy: 0.7971 - val_loss: 1.0505 - val_categorical_accuracy: 0.6600\n",
            "Epoch 23/30\n",
            "34/34 [==============================] - ETA: 0s - batch: 16.5000 - size: 39.0000 - loss: 0.5804 - categorical_accuracy: 0.7971\n",
            "Epoch 00023: saving model to model_init_2021-03-2001_06_17.261230/model-00023-0.58038-0.79713-0.80642-0.70000.h5\n",
            "34/34 [==============================] - 196s 6s/step - batch: 16.5000 - size: 39.0000 - loss: 0.5804 - categorical_accuracy: 0.7971 - val_loss: 0.8064 - val_categorical_accuracy: 0.7000\n",
            "Epoch 24/30\n",
            "34/34 [==============================] - ETA: 0s - batch: 16.5000 - size: 39.0000 - loss: 0.6163 - categorical_accuracy: 0.7986\n",
            "Epoch 00024: saving model to model_init_2021-03-2001_06_17.261230/model-00024-0.61634-0.79864-0.90607-0.68000.h5\n",
            "34/34 [==============================] - 195s 6s/step - batch: 16.5000 - size: 39.0000 - loss: 0.6163 - categorical_accuracy: 0.7986 - val_loss: 0.9061 - val_categorical_accuracy: 0.6800\n",
            "Epoch 25/30\n",
            "34/34 [==============================] - ETA: 0s - batch: 16.5000 - size: 39.0000 - loss: 0.5928 - categorical_accuracy: 0.7783\n",
            "Epoch 00025: saving model to model_init_2021-03-2001_06_17.261230/model-00025-0.59281-0.77828-0.81143-0.69000.h5\n",
            "34/34 [==============================] - 196s 6s/step - batch: 16.5000 - size: 39.0000 - loss: 0.5928 - categorical_accuracy: 0.7783 - val_loss: 0.8114 - val_categorical_accuracy: 0.6900\n",
            "Epoch 26/30\n",
            "34/34 [==============================] - ETA: 0s - batch: 16.5000 - size: 39.0000 - loss: 0.5698 - categorical_accuracy: 0.8122\n",
            "Epoch 00026: saving model to model_init_2021-03-2001_06_17.261230/model-00026-0.56982-0.81222-0.89705-0.67000.h5\n",
            "34/34 [==============================] - 194s 6s/step - batch: 16.5000 - size: 39.0000 - loss: 0.5698 - categorical_accuracy: 0.8122 - val_loss: 0.8970 - val_categorical_accuracy: 0.6700\n",
            "Epoch 27/30\n",
            "19/34 [===============>..............] - ETA: 1:14 - batch: 9.0000 - size: 40.0000 - loss: 0.4813 - categorical_accuracy: 0.8250"
          ],
          "name": "stdout"
        },
        {
          "output_type": "error",
          "ename": "KeyboardInterrupt",
          "evalue": "ignored",
          "traceback": [
            "\u001b[0;31m---------------------------------------------------------------------------\u001b[0m",
            "\u001b[0;31mKeyboardInterrupt\u001b[0m                         Traceback (most recent call last)",
            "\u001b[0;32m<ipython-input-16-8e34d6e208c8>\u001b[0m in \u001b[0;36m<module>\u001b[0;34m()\u001b[0m\n\u001b[1;32m      1\u001b[0m \u001b[0mprint\u001b[0m\u001b[0;34m(\u001b[0m\u001b[0;34m\"Total Params:\"\u001b[0m\u001b[0;34m,\u001b[0m \u001b[0mConv3D6_model\u001b[0m\u001b[0;34m.\u001b[0m\u001b[0mcount_params\u001b[0m\u001b[0;34m(\u001b[0m\u001b[0;34m)\u001b[0m\u001b[0;34m)\u001b[0m\u001b[0;34m\u001b[0m\u001b[0;34m\u001b[0m\u001b[0m\n\u001b[0;32m----> 2\u001b[0;31m \u001b[0maccuracy_check_model_6\u001b[0m\u001b[0;34m=\u001b[0m\u001b[0mConv3D6\u001b[0m\u001b[0;34m.\u001b[0m\u001b[0mtrain_model\u001b[0m\u001b[0;34m(\u001b[0m\u001b[0mConv3D6_model\u001b[0m\u001b[0;34m,\u001b[0m\u001b[0maugment_data\u001b[0m\u001b[0;34m=\u001b[0m\u001b[0;32mTrue\u001b[0m\u001b[0;34m)\u001b[0m\u001b[0;34m\u001b[0m\u001b[0;34m\u001b[0m\u001b[0m\n\u001b[0m",
            "\u001b[0;32m<ipython-input-13-7036085f51e6>\u001b[0m in \u001b[0;36mtrain_model\u001b[0;34m(self, model, augment_data)\u001b[0m\n\u001b[1;32m    120\u001b[0m         history=model.fit_generator(train_generator, steps_per_epoch=steps_per_epoch, epochs=self.num_epochs, verbose=1, \n\u001b[1;32m    121\u001b[0m                             \u001b[0mcallbacks\u001b[0m\u001b[0;34m=\u001b[0m\u001b[0mcallbacks_list\u001b[0m\u001b[0;34m,\u001b[0m \u001b[0mvalidation_data\u001b[0m\u001b[0;34m=\u001b[0m\u001b[0mval_generator\u001b[0m\u001b[0;34m,\u001b[0m\u001b[0;34m\u001b[0m\u001b[0;34m\u001b[0m\u001b[0m\n\u001b[0;32m--> 122\u001b[0;31m                             validation_steps=validation_steps, class_weight=None, workers=1, initial_epoch=0)\n\u001b[0m\u001b[1;32m    123\u001b[0m         \u001b[0;32mreturn\u001b[0m \u001b[0mhistory\u001b[0m\u001b[0;34m\u001b[0m\u001b[0;34m\u001b[0m\u001b[0m\n\u001b[1;32m    124\u001b[0m \u001b[0;34m\u001b[0m\u001b[0m\n",
            "\u001b[0;32m/usr/local/lib/python3.7/dist-packages/tensorflow/python/keras/engine/training_v1.py\u001b[0m in \u001b[0;36mfit_generator\u001b[0;34m(self, generator, steps_per_epoch, epochs, verbose, callbacks, validation_data, validation_steps, validation_freq, class_weight, max_queue_size, workers, use_multiprocessing, shuffle, initial_epoch)\u001b[0m\n\u001b[1;32m   1255\u001b[0m         \u001b[0muse_multiprocessing\u001b[0m\u001b[0;34m=\u001b[0m\u001b[0muse_multiprocessing\u001b[0m\u001b[0;34m,\u001b[0m\u001b[0;34m\u001b[0m\u001b[0;34m\u001b[0m\u001b[0m\n\u001b[1;32m   1256\u001b[0m         \u001b[0mshuffle\u001b[0m\u001b[0;34m=\u001b[0m\u001b[0mshuffle\u001b[0m\u001b[0;34m,\u001b[0m\u001b[0;34m\u001b[0m\u001b[0;34m\u001b[0m\u001b[0m\n\u001b[0;32m-> 1257\u001b[0;31m         initial_epoch=initial_epoch)\n\u001b[0m\u001b[1;32m   1258\u001b[0m \u001b[0;34m\u001b[0m\u001b[0m\n\u001b[1;32m   1259\u001b[0m   def evaluate_generator(self,\n",
            "\u001b[0;32m/usr/local/lib/python3.7/dist-packages/tensorflow/python/keras/engine/training_v1.py\u001b[0m in \u001b[0;36mfit\u001b[0;34m(self, x, y, batch_size, epochs, verbose, callbacks, validation_split, validation_data, shuffle, class_weight, sample_weight, initial_epoch, steps_per_epoch, validation_steps, validation_freq, max_queue_size, workers, use_multiprocessing, **kwargs)\u001b[0m\n\u001b[1;32m    806\u001b[0m         \u001b[0mmax_queue_size\u001b[0m\u001b[0;34m=\u001b[0m\u001b[0mmax_queue_size\u001b[0m\u001b[0;34m,\u001b[0m\u001b[0;34m\u001b[0m\u001b[0;34m\u001b[0m\u001b[0m\n\u001b[1;32m    807\u001b[0m         \u001b[0mworkers\u001b[0m\u001b[0;34m=\u001b[0m\u001b[0mworkers\u001b[0m\u001b[0;34m,\u001b[0m\u001b[0;34m\u001b[0m\u001b[0;34m\u001b[0m\u001b[0m\n\u001b[0;32m--> 808\u001b[0;31m         use_multiprocessing=use_multiprocessing)\n\u001b[0m\u001b[1;32m    809\u001b[0m \u001b[0;34m\u001b[0m\u001b[0m\n\u001b[1;32m    810\u001b[0m   def evaluate(self,\n",
            "\u001b[0;32m/usr/local/lib/python3.7/dist-packages/tensorflow/python/keras/engine/training_generator_v1.py\u001b[0m in \u001b[0;36mfit\u001b[0;34m(self, model, x, y, batch_size, epochs, verbose, callbacks, validation_split, validation_data, shuffle, class_weight, sample_weight, initial_epoch, steps_per_epoch, validation_steps, validation_freq, max_queue_size, workers, use_multiprocessing)\u001b[0m\n\u001b[1;32m    591\u001b[0m         \u001b[0mshuffle\u001b[0m\u001b[0;34m=\u001b[0m\u001b[0mshuffle\u001b[0m\u001b[0;34m,\u001b[0m\u001b[0;34m\u001b[0m\u001b[0;34m\u001b[0m\u001b[0m\n\u001b[1;32m    592\u001b[0m         \u001b[0minitial_epoch\u001b[0m\u001b[0;34m=\u001b[0m\u001b[0minitial_epoch\u001b[0m\u001b[0;34m,\u001b[0m\u001b[0;34m\u001b[0m\u001b[0;34m\u001b[0m\u001b[0m\n\u001b[0;32m--> 593\u001b[0;31m         steps_name='steps_per_epoch')\n\u001b[0m\u001b[1;32m    594\u001b[0m \u001b[0;34m\u001b[0m\u001b[0m\n\u001b[1;32m    595\u001b[0m   def evaluate(self,\n",
            "\u001b[0;32m/usr/local/lib/python3.7/dist-packages/tensorflow/python/keras/engine/training_generator_v1.py\u001b[0m in \u001b[0;36mmodel_iteration\u001b[0;34m(model, data, steps_per_epoch, epochs, verbose, callbacks, validation_data, validation_steps, validation_freq, class_weight, max_queue_size, workers, use_multiprocessing, shuffle, initial_epoch, mode, batch_size, steps_name, **kwargs)\u001b[0m\n\u001b[1;32m    217\u001b[0m     \u001b[0mstep\u001b[0m \u001b[0;34m=\u001b[0m \u001b[0;36m0\u001b[0m\u001b[0;34m\u001b[0m\u001b[0;34m\u001b[0m\u001b[0m\n\u001b[1;32m    218\u001b[0m     \u001b[0;32mwhile\u001b[0m \u001b[0mstep\u001b[0m \u001b[0;34m<\u001b[0m \u001b[0mtarget_steps\u001b[0m\u001b[0;34m:\u001b[0m\u001b[0;34m\u001b[0m\u001b[0;34m\u001b[0m\u001b[0m\n\u001b[0;32m--> 219\u001b[0;31m       \u001b[0mbatch_data\u001b[0m \u001b[0;34m=\u001b[0m \u001b[0m_get_next_batch\u001b[0m\u001b[0;34m(\u001b[0m\u001b[0mgenerator\u001b[0m\u001b[0;34m)\u001b[0m\u001b[0;34m\u001b[0m\u001b[0;34m\u001b[0m\u001b[0m\n\u001b[0m\u001b[1;32m    220\u001b[0m       \u001b[0;32mif\u001b[0m \u001b[0mbatch_data\u001b[0m \u001b[0;32mis\u001b[0m \u001b[0;32mNone\u001b[0m\u001b[0;34m:\u001b[0m\u001b[0;34m\u001b[0m\u001b[0;34m\u001b[0m\u001b[0m\n\u001b[1;32m    221\u001b[0m         \u001b[0;32mif\u001b[0m \u001b[0mis_dataset\u001b[0m\u001b[0;34m:\u001b[0m\u001b[0;34m\u001b[0m\u001b[0;34m\u001b[0m\u001b[0m\n",
            "\u001b[0;32m/usr/local/lib/python3.7/dist-packages/tensorflow/python/keras/engine/training_generator_v1.py\u001b[0m in \u001b[0;36m_get_next_batch\u001b[0;34m(generator)\u001b[0m\n\u001b[1;32m    351\u001b[0m   \u001b[0;34m\"\"\"Retrieves the next batch of input data.\"\"\"\u001b[0m\u001b[0;34m\u001b[0m\u001b[0;34m\u001b[0m\u001b[0m\n\u001b[1;32m    352\u001b[0m   \u001b[0;32mtry\u001b[0m\u001b[0;34m:\u001b[0m\u001b[0;34m\u001b[0m\u001b[0;34m\u001b[0m\u001b[0m\n\u001b[0;32m--> 353\u001b[0;31m     \u001b[0mgenerator_output\u001b[0m \u001b[0;34m=\u001b[0m \u001b[0mnext\u001b[0m\u001b[0;34m(\u001b[0m\u001b[0mgenerator\u001b[0m\u001b[0;34m)\u001b[0m\u001b[0;34m\u001b[0m\u001b[0;34m\u001b[0m\u001b[0m\n\u001b[0m\u001b[1;32m    354\u001b[0m   \u001b[0;32mexcept\u001b[0m \u001b[0;34m(\u001b[0m\u001b[0mStopIteration\u001b[0m\u001b[0;34m,\u001b[0m \u001b[0merrors\u001b[0m\u001b[0;34m.\u001b[0m\u001b[0mOutOfRangeError\u001b[0m\u001b[0;34m)\u001b[0m\u001b[0;34m:\u001b[0m\u001b[0;34m\u001b[0m\u001b[0;34m\u001b[0m\u001b[0m\n\u001b[1;32m    355\u001b[0m     \u001b[0;32mreturn\u001b[0m \u001b[0;32mNone\u001b[0m\u001b[0;34m\u001b[0m\u001b[0;34m\u001b[0m\u001b[0m\n",
            "\u001b[0;32m/usr/local/lib/python3.7/dist-packages/tensorflow/python/keras/utils/data_utils.py\u001b[0m in \u001b[0;36mget\u001b[0;34m(self)\u001b[0m\n\u001b[1;32m    895\u001b[0m     \u001b[0;32mtry\u001b[0m\u001b[0;34m:\u001b[0m\u001b[0;34m\u001b[0m\u001b[0;34m\u001b[0m\u001b[0m\n\u001b[1;32m    896\u001b[0m       \u001b[0;32mwhile\u001b[0m \u001b[0mself\u001b[0m\u001b[0;34m.\u001b[0m\u001b[0mis_running\u001b[0m\u001b[0;34m(\u001b[0m\u001b[0;34m)\u001b[0m\u001b[0;34m:\u001b[0m\u001b[0;34m\u001b[0m\u001b[0;34m\u001b[0m\u001b[0m\n\u001b[0;32m--> 897\u001b[0;31m         \u001b[0minputs\u001b[0m \u001b[0;34m=\u001b[0m \u001b[0mself\u001b[0m\u001b[0;34m.\u001b[0m\u001b[0mqueue\u001b[0m\u001b[0;34m.\u001b[0m\u001b[0mget\u001b[0m\u001b[0;34m(\u001b[0m\u001b[0mblock\u001b[0m\u001b[0;34m=\u001b[0m\u001b[0;32mTrue\u001b[0m\u001b[0;34m)\u001b[0m\u001b[0;34m.\u001b[0m\u001b[0mget\u001b[0m\u001b[0;34m(\u001b[0m\u001b[0;34m)\u001b[0m\u001b[0;34m\u001b[0m\u001b[0;34m\u001b[0m\u001b[0m\n\u001b[0m\u001b[1;32m    898\u001b[0m         \u001b[0mself\u001b[0m\u001b[0;34m.\u001b[0m\u001b[0mqueue\u001b[0m\u001b[0;34m.\u001b[0m\u001b[0mtask_done\u001b[0m\u001b[0;34m(\u001b[0m\u001b[0;34m)\u001b[0m\u001b[0;34m\u001b[0m\u001b[0;34m\u001b[0m\u001b[0m\n\u001b[1;32m    899\u001b[0m         \u001b[0;32mif\u001b[0m \u001b[0minputs\u001b[0m \u001b[0;32mis\u001b[0m \u001b[0;32mnot\u001b[0m \u001b[0;32mNone\u001b[0m\u001b[0;34m:\u001b[0m\u001b[0;34m\u001b[0m\u001b[0;34m\u001b[0m\u001b[0m\n",
            "\u001b[0;32m/usr/lib/python3.7/multiprocessing/pool.py\u001b[0m in \u001b[0;36mget\u001b[0;34m(self, timeout)\u001b[0m\n\u001b[1;32m    649\u001b[0m \u001b[0;34m\u001b[0m\u001b[0m\n\u001b[1;32m    650\u001b[0m     \u001b[0;32mdef\u001b[0m \u001b[0mget\u001b[0m\u001b[0;34m(\u001b[0m\u001b[0mself\u001b[0m\u001b[0;34m,\u001b[0m \u001b[0mtimeout\u001b[0m\u001b[0;34m=\u001b[0m\u001b[0;32mNone\u001b[0m\u001b[0;34m)\u001b[0m\u001b[0;34m:\u001b[0m\u001b[0;34m\u001b[0m\u001b[0;34m\u001b[0m\u001b[0m\n\u001b[0;32m--> 651\u001b[0;31m         \u001b[0mself\u001b[0m\u001b[0;34m.\u001b[0m\u001b[0mwait\u001b[0m\u001b[0;34m(\u001b[0m\u001b[0mtimeout\u001b[0m\u001b[0;34m)\u001b[0m\u001b[0;34m\u001b[0m\u001b[0;34m\u001b[0m\u001b[0m\n\u001b[0m\u001b[1;32m    652\u001b[0m         \u001b[0;32mif\u001b[0m \u001b[0;32mnot\u001b[0m \u001b[0mself\u001b[0m\u001b[0;34m.\u001b[0m\u001b[0mready\u001b[0m\u001b[0;34m(\u001b[0m\u001b[0;34m)\u001b[0m\u001b[0;34m:\u001b[0m\u001b[0;34m\u001b[0m\u001b[0;34m\u001b[0m\u001b[0m\n\u001b[1;32m    653\u001b[0m             \u001b[0;32mraise\u001b[0m \u001b[0mTimeoutError\u001b[0m\u001b[0;34m\u001b[0m\u001b[0;34m\u001b[0m\u001b[0m\n",
            "\u001b[0;32m/usr/lib/python3.7/multiprocessing/pool.py\u001b[0m in \u001b[0;36mwait\u001b[0;34m(self, timeout)\u001b[0m\n\u001b[1;32m    646\u001b[0m \u001b[0;34m\u001b[0m\u001b[0m\n\u001b[1;32m    647\u001b[0m     \u001b[0;32mdef\u001b[0m \u001b[0mwait\u001b[0m\u001b[0;34m(\u001b[0m\u001b[0mself\u001b[0m\u001b[0;34m,\u001b[0m \u001b[0mtimeout\u001b[0m\u001b[0;34m=\u001b[0m\u001b[0;32mNone\u001b[0m\u001b[0;34m)\u001b[0m\u001b[0;34m:\u001b[0m\u001b[0;34m\u001b[0m\u001b[0;34m\u001b[0m\u001b[0m\n\u001b[0;32m--> 648\u001b[0;31m         \u001b[0mself\u001b[0m\u001b[0;34m.\u001b[0m\u001b[0m_event\u001b[0m\u001b[0;34m.\u001b[0m\u001b[0mwait\u001b[0m\u001b[0;34m(\u001b[0m\u001b[0mtimeout\u001b[0m\u001b[0;34m)\u001b[0m\u001b[0;34m\u001b[0m\u001b[0;34m\u001b[0m\u001b[0m\n\u001b[0m\u001b[1;32m    649\u001b[0m \u001b[0;34m\u001b[0m\u001b[0m\n\u001b[1;32m    650\u001b[0m     \u001b[0;32mdef\u001b[0m \u001b[0mget\u001b[0m\u001b[0;34m(\u001b[0m\u001b[0mself\u001b[0m\u001b[0;34m,\u001b[0m \u001b[0mtimeout\u001b[0m\u001b[0;34m=\u001b[0m\u001b[0;32mNone\u001b[0m\u001b[0;34m)\u001b[0m\u001b[0;34m:\u001b[0m\u001b[0;34m\u001b[0m\u001b[0;34m\u001b[0m\u001b[0m\n",
            "\u001b[0;32m/usr/lib/python3.7/threading.py\u001b[0m in \u001b[0;36mwait\u001b[0;34m(self, timeout)\u001b[0m\n\u001b[1;32m    550\u001b[0m             \u001b[0msignaled\u001b[0m \u001b[0;34m=\u001b[0m \u001b[0mself\u001b[0m\u001b[0;34m.\u001b[0m\u001b[0m_flag\u001b[0m\u001b[0;34m\u001b[0m\u001b[0;34m\u001b[0m\u001b[0m\n\u001b[1;32m    551\u001b[0m             \u001b[0;32mif\u001b[0m \u001b[0;32mnot\u001b[0m \u001b[0msignaled\u001b[0m\u001b[0;34m:\u001b[0m\u001b[0;34m\u001b[0m\u001b[0;34m\u001b[0m\u001b[0m\n\u001b[0;32m--> 552\u001b[0;31m                 \u001b[0msignaled\u001b[0m \u001b[0;34m=\u001b[0m \u001b[0mself\u001b[0m\u001b[0;34m.\u001b[0m\u001b[0m_cond\u001b[0m\u001b[0;34m.\u001b[0m\u001b[0mwait\u001b[0m\u001b[0;34m(\u001b[0m\u001b[0mtimeout\u001b[0m\u001b[0;34m)\u001b[0m\u001b[0;34m\u001b[0m\u001b[0;34m\u001b[0m\u001b[0m\n\u001b[0m\u001b[1;32m    553\u001b[0m             \u001b[0;32mreturn\u001b[0m \u001b[0msignaled\u001b[0m\u001b[0;34m\u001b[0m\u001b[0;34m\u001b[0m\u001b[0m\n\u001b[1;32m    554\u001b[0m \u001b[0;34m\u001b[0m\u001b[0m\n",
            "\u001b[0;32m/usr/lib/python3.7/threading.py\u001b[0m in \u001b[0;36mwait\u001b[0;34m(self, timeout)\u001b[0m\n\u001b[1;32m    294\u001b[0m         \u001b[0;32mtry\u001b[0m\u001b[0;34m:\u001b[0m    \u001b[0;31m# restore state no matter what (e.g., KeyboardInterrupt)\u001b[0m\u001b[0;34m\u001b[0m\u001b[0;34m\u001b[0m\u001b[0m\n\u001b[1;32m    295\u001b[0m             \u001b[0;32mif\u001b[0m \u001b[0mtimeout\u001b[0m \u001b[0;32mis\u001b[0m \u001b[0;32mNone\u001b[0m\u001b[0;34m:\u001b[0m\u001b[0;34m\u001b[0m\u001b[0;34m\u001b[0m\u001b[0m\n\u001b[0;32m--> 296\u001b[0;31m                 \u001b[0mwaiter\u001b[0m\u001b[0;34m.\u001b[0m\u001b[0macquire\u001b[0m\u001b[0;34m(\u001b[0m\u001b[0;34m)\u001b[0m\u001b[0;34m\u001b[0m\u001b[0;34m\u001b[0m\u001b[0m\n\u001b[0m\u001b[1;32m    297\u001b[0m                 \u001b[0mgotit\u001b[0m \u001b[0;34m=\u001b[0m \u001b[0;32mTrue\u001b[0m\u001b[0;34m\u001b[0m\u001b[0;34m\u001b[0m\u001b[0m\n\u001b[1;32m    298\u001b[0m             \u001b[0;32melse\u001b[0m\u001b[0;34m:\u001b[0m\u001b[0;34m\u001b[0m\u001b[0;34m\u001b[0m\u001b[0m\n",
            "\u001b[0;31mKeyboardInterrupt\u001b[0m: "
          ]
        }
      ]
    },
    {
      "cell_type": "code",
      "metadata": {
        "id": "I7WQvNWYDybQ"
      },
      "source": [
        "plot(accuracy_check_model_6)"
      ],
      "execution_count": null,
      "outputs": []
    },
    {
      "cell_type": "markdown",
      "metadata": {
        "id": "zBJFD6jaJsTV"
      },
      "source": [
        "For the above low memory foot print model the best validation accuracy of 73%"
      ]
    },
    {
      "cell_type": "code",
      "metadata": {
        "id": "cArLoK-0RXxf"
      },
      "source": [
        "Conv3D6.clear_session(Conv3D6_model)"
      ],
      "execution_count": null,
      "outputs": []
    },
    {
      "cell_type": "markdown",
      "metadata": {
        "id": "AHU3qisEKMLX"
      },
      "source": [
        "## Model 7 - reducing the number of parameters"
      ]
    },
    {
      "cell_type": "code",
      "metadata": {
        "id": "huD4YXHfJ9E7"
      },
      "source": [
        "class ModelConv3D7(ModelBuilder):\n",
        "    \n",
        "    def define_model(self,dense_neurons=64,dropout=0.25):\n",
        "\n",
        "        model = Sequential()\n",
        "        model.add(Conv3D(16, (3, 3, 3), padding='same',\n",
        "                 input_shape=(self.frames_to_sample,self.image_height,self.image_width,self.channels)))\n",
        "        model.add(Activation('relu'))\n",
        "        model.add(BatchNormalization())\n",
        "        model.add(MaxPooling3D(pool_size=(2, 2, 2)))\n",
        "\n",
        "        model.add(Conv3D(32, (3, 3, 3), padding='same'))\n",
        "        model.add(Activation('relu'))\n",
        "        model.add(BatchNormalization())\n",
        "        model.add(MaxPooling3D(pool_size=(2, 2, 2)))\n",
        "\n",
        "        model.add(Conv3D(64, (2, 2, 2), padding='same'))\n",
        "        model.add(Activation('relu'))\n",
        "        model.add(BatchNormalization())\n",
        "        model.add(MaxPooling3D(pool_size=(2, 2, 2)))\n",
        "\n",
        "        model.add(Conv3D(128, (2, 2, 2), padding='same'))\n",
        "        model.add(Activation('relu'))\n",
        "        model.add(BatchNormalization())\n",
        "        model.add(MaxPooling3D(pool_size=(2, 2, 2)))\n",
        "        \n",
        "        model.add(Flatten())\n",
        "        model.add(Dense(dense_neurons,activation='relu'))\n",
        "        model.add(BatchNormalization())\n",
        "        model.add(Dropout(dropout))\n",
        "\n",
        "        model.add(Dense(dense_neurons,activation='relu'))\n",
        "        model.add(BatchNormalization())\n",
        "        model.add(Dropout(dropout))\n",
        "\n",
        "        model.add(Dense(self.num_classes,activation='softmax'))\n",
        "\n",
        "        optimiser = optimizers.Adam(lr=0.0002)\n",
        "        model.compile(optimizer=optimiser, loss='categorical_crossentropy', metrics=['categorical_accuracy'])\n",
        "        return model"
      ],
      "execution_count": null,
      "outputs": []
    },
    {
      "cell_type": "code",
      "metadata": {
        "id": "VR3gHG0T256h"
      },
      "source": [
        "conv_3d7=ModelConv3D7()\n",
        "conv_3d7.initialize_src_path(main_folder)\n",
        "conv_3d7.initialize_image_properties(image_height=120,image_width=120)\n",
        "conv_3d7.initialize_hyperparams(frames_to_sample=16,batch_size=20,num_epochs=25)\n",
        "conv_3d7_model=conv_3d7.define_model(dense_neurons=64,dropout=0.25)\n",
        "conv_3d7_model.summary()"
      ],
      "execution_count": null,
      "outputs": []
    },
    {
      "cell_type": "code",
      "metadata": {
        "id": "s63kvjqd3UKl"
      },
      "source": [
        "print(\"Total Params:\", conv_3d7_model.count_params())\n",
        "accuracy_check_model_7=conv_3d7.train_model(conv_3d7_model,augment_data=True)"
      ],
      "execution_count": null,
      "outputs": []
    },
    {
      "cell_type": "code",
      "metadata": {
        "id": "yBJGgwaa3kOR"
      },
      "source": [
        "plot(accuracy_check_model_7)"
      ],
      "execution_count": null,
      "outputs": []
    },
    {
      "cell_type": "code",
      "metadata": {
        "id": "0bBbPYK-RgAh"
      },
      "source": [
        "conv_3d7.clear_session(conv_3d7_model)"
      ],
      "execution_count": null,
      "outputs": []
    },
    {
      "cell_type": "markdown",
      "metadata": {
        "id": "4OW55j6S4f5y"
      },
      "source": [
        "## Model 8 - reducing the number of parameters"
      ]
    },
    {
      "cell_type": "code",
      "metadata": {
        "id": "JtU-6-0v4e12"
      },
      "source": [
        "class ModelConv3D8(ModelBuilder):\n",
        "    \n",
        "    def define_model(self,dense_neurons=64,dropout=0.25):\n",
        "\n",
        "        model = Sequential()\n",
        "        model.add(Conv3D(8, (3, 3, 3), padding='same',\n",
        "        input_shape=(self.frames_to_sample,self.image_height,self.image_width,self.channels)))\n",
        "        model.add(Activation('relu'))\n",
        "        model.add(BatchNormalization())\n",
        "        model.add(MaxPooling3D(pool_size=(2, 2, 2)))\n",
        "\n",
        "        model.add(Conv3D(16, (3, 3, 3), padding='same'))\n",
        "        model.add(Activation('relu'))\n",
        "        model.add(BatchNormalization())\n",
        "        model.add(MaxPooling3D(pool_size=(2, 2, 2)))\n",
        "\n",
        "        model.add(Conv3D(32, (2, 2, 2), padding='same'))\n",
        "        model.add(Activation('relu'))\n",
        "        model.add(BatchNormalization())\n",
        "        model.add(MaxPooling3D(pool_size=(2, 2, 2)))\n",
        "\n",
        "        model.add(Conv3D(64, (2, 2, 2), padding='same'))\n",
        "        model.add(Activation('relu'))\n",
        "        model.add(BatchNormalization())\n",
        "        model.add(MaxPooling3D(pool_size=(2, 2, 2)))\n",
        "        \n",
        "        model.add(Flatten())\n",
        "        model.add(Dense(dense_neurons,activation='relu'))\n",
        "        model.add(BatchNormalization())\n",
        "        model.add(Dropout(dropout))\n",
        "\n",
        "        model.add(Dense(dense_neurons,activation='relu'))\n",
        "        model.add(BatchNormalization())\n",
        "        model.add(Dropout(dropout))\n",
        "\n",
        "        model.add(Dense(self.num_classes,activation='softmax'))\n",
        "\n",
        "        optimiser = optimizers.Adam(lr=0.0002)\n",
        "        model.compile(optimizer=optimiser, loss='categorical_crossentropy', metrics=['categorical_accuracy'])\n",
        "        return model"
      ],
      "execution_count": null,
      "outputs": []
    },
    {
      "cell_type": "code",
      "metadata": {
        "id": "BC1Vxikp44zW"
      },
      "source": [
        "conv_3d8=ModelConv3D8()\n",
        "conv_3d8.initialize_src_path(main_folder)\n",
        "conv_3d8.initialize_image_properties(image_height=120,image_width=120)\n",
        "conv_3d8.initialize_hyperparams(frames_to_sample=16,batch_size=20,num_epochs=30)\n",
        "conv_3d8_model=conv_3d8.define_model(dense_neurons=64,dropout=0.25)\n",
        "conv_3d8_model.summary()"
      ],
      "execution_count": null,
      "outputs": []
    },
    {
      "cell_type": "code",
      "metadata": {
        "id": "oikZb8Ij5DNw"
      },
      "source": [
        "print(\"Total Params:\", conv_3d8_model.count_params())\n",
        "accuracy_check_model_8=conv_3d8.train_model(conv_3d8_model,augment_data=True)"
      ],
      "execution_count": null,
      "outputs": []
    },
    {
      "cell_type": "code",
      "metadata": {
        "id": "ds6Ddq2y5SsD"
      },
      "source": [
        "plot(accuracy_check_model_8)"
      ],
      "execution_count": null,
      "outputs": []
    },
    {
      "cell_type": "code",
      "metadata": {
        "id": "Bq14-oPeXfA9"
      },
      "source": [
        "conv_3d8.clear_session(conv_3d8_model)"
      ],
      "execution_count": null,
      "outputs": []
    },
    {
      "cell_type": "markdown",
      "metadata": {
        "id": "iGRwZahyW2aW"
      },
      "source": [
        "## Model 9 - CNN- LSTM Model"
      ]
    },
    {
      "cell_type": "code",
      "metadata": {
        "id": "FuOHUaOhW0gJ"
      },
      "source": [
        "class CNNRNN1(ModelBuilder):\n",
        "    \n",
        "    def define_model(self,lstm_cells=64,dense_neurons=64,dropout=0.25):\n",
        "\n",
        "        model = Sequential()\n",
        "\n",
        "        model.add(TimeDistributed(Conv2D(16, (3, 3) , padding='same', activation='relu'),\n",
        "                                  input_shape=(self.frames_to_sample,self.image_height,self.image_width,self.channels)))\n",
        "        model.add(TimeDistributed(BatchNormalization()))\n",
        "        model.add(TimeDistributed(MaxPooling2D((2, 2))))\n",
        "        \n",
        "        model.add(TimeDistributed(Conv2D(32, (3, 3) , padding='same', activation='relu')))\n",
        "        model.add(TimeDistributed(BatchNormalization()))\n",
        "        model.add(TimeDistributed(MaxPooling2D((2, 2))))\n",
        "        \n",
        "        model.add(TimeDistributed(Conv2D(64, (3, 3) , padding='same', activation='relu')))\n",
        "        model.add(TimeDistributed(BatchNormalization()))\n",
        "        model.add(TimeDistributed(MaxPooling2D((2, 2))))\n",
        "        \n",
        "        model.add(TimeDistributed(Conv2D(128, (3, 3) , padding='same', activation='relu')))\n",
        "        model.add(TimeDistributed(BatchNormalization()))\n",
        "        model.add(TimeDistributed(MaxPooling2D((2, 2))))\n",
        "        \n",
        "        model.add(TimeDistributed(Conv2D(256, (3, 3) , padding='same', activation='relu')))\n",
        "        model.add(TimeDistributed(BatchNormalization()))\n",
        "        model.add(TimeDistributed(MaxPooling2D((2, 2))))\n",
        "        \n",
        "        model.add(TimeDistributed(Flatten()))\n",
        "\n",
        "\n",
        "        model.add(LSTM(lstm_cells))\n",
        "        model.add(Dropout(dropout))\n",
        "        \n",
        "        model.add(Dense(dense_neurons,activation='relu'))\n",
        "        model.add(Dropout(dropout))\n",
        "        \n",
        "        model.add(Dense(self.num_classes, activation='softmax'))\n",
        "        optimiser = optimizers.Adam()\n",
        "        model.compile(optimizer=optimiser, loss='categorical_crossentropy', metrics=['categorical_accuracy'])\n",
        "        return model"
      ],
      "execution_count": null,
      "outputs": []
    },
    {
      "cell_type": "code",
      "metadata": {
        "id": "HCoDy3FXXJj4"
      },
      "source": [
        "cnn_rnn1=CNNRNN1()\n",
        "cnn_rnn1.initialize_src_path(main_folder)\n",
        "cnn_rnn1.initialize_image_properties(image_height=120,image_width=120)\n",
        "cnn_rnn1.initialize_hyperparams(frames_to_sample=18,batch_size=20,num_epochs=20)\n",
        "cnn_rnn1_model=cnn_rnn1.define_model(lstm_cells=128,dense_neurons=128,dropout=0.25)\n",
        "cnn_rnn1_model.summary()"
      ],
      "execution_count": null,
      "outputs": []
    },
    {
      "cell_type": "code",
      "metadata": {
        "id": "2-t4EsndXVii"
      },
      "source": [
        "print(\"Total Params:\", cnn_rnn1_model.count_params())\n",
        "accuracy_check_model_9=cnn_rnn1.train_model(cnn_rnn1_model,augment_data=True)"
      ],
      "execution_count": null,
      "outputs": []
    },
    {
      "cell_type": "code",
      "metadata": {
        "id": "gm-imdTuXwbq"
      },
      "source": [
        "plot(accuracy_check_model_9)"
      ],
      "execution_count": null,
      "outputs": []
    },
    {
      "cell_type": "markdown",
      "metadata": {
        "id": "Gdy0_yQzOn7y"
      },
      "source": [
        "## Applying More Augmentation"
      ]
    },
    {
      "cell_type": "code",
      "metadata": {
        "id": "onOKdsVRO26u"
      },
      "source": [
        "class ModelBuilderMoreAugmentation(metaclass= abc.ABCMeta):\n",
        "    \n",
        "    def initialize_src_path(self,main_folder):\n",
        "        self.train_doc = np.random.permutation(open(main_folder + '/' + 'train.csv').readlines())\n",
        "        self.val_doc = np.random.permutation(open(main_folder + '/' + 'val.csv').readlines())\n",
        "        self.train_path = main_folder + '/' + 'train'\n",
        "        self.val_path =  main_folder + '/' + 'val'\n",
        "        self.num_train_sequences = len(self.train_doc)\n",
        "        self.num_val_sequences = len(self.val_doc)\n",
        "        \n",
        "    def initialize_image_properties(self,image_height=100,image_width=100):\n",
        "        self.image_height=image_height\n",
        "        self.image_width=image_width\n",
        "        self.channels=3\n",
        "        self.num_classes=5\n",
        "        self.total_frames=30\n",
        "          \n",
        "    def initialize_hyperparams(self,frames_to_sample=30,batch_size=20,num_epochs=20):\n",
        "        self.frames_to_sample=frames_to_sample\n",
        "        self.batch_size=batch_size\n",
        "        self.num_epochs=num_epochs\n",
        "        \n",
        "        \n",
        "    def generator(self,source_path, folder_list, augment=False):\n",
        "        img_idx = np.round(np.linspace(0,self.total_frames-1,self.frames_to_sample)).astype(int)\n",
        "        batch_size=self.batch_size\n",
        "        while True:\n",
        "            t = np.random.permutation(folder_list)\n",
        "            num_batches = len(t)//batch_size\n",
        "        \n",
        "            for batch in range(num_batches): \n",
        "                batch_data, batch_labels= self.one_batch_data(source_path,t,batch,batch_size,img_idx,augment)\n",
        "                yield batch_data, batch_labels \n",
        "\n",
        "            remaining_seq=len(t)%batch_size\n",
        "        \n",
        "            if (remaining_seq != 0):\n",
        "                batch_data, batch_labels= self.one_batch_data(source_path,t,num_batches,batch_size,img_idx,augment,remaining_seq)\n",
        "                yield batch_data, batch_labels \n",
        "    \n",
        "    \n",
        "    def one_batch_data(self,source_path,t,batch,batch_size,img_idx,augment,remaining_seq=0):\n",
        "    \n",
        "        seq_len = remaining_seq if remaining_seq else batch_size\n",
        "    \n",
        "        batch_data = np.zeros((seq_len,len(img_idx),self.image_height,self.image_width,self.channels)) \n",
        "        batch_labels = np.zeros((seq_len,self.num_classes)) \n",
        "    \n",
        "        if (augment): batch_data_aug = np.zeros((seq_len,len(img_idx),self.image_height,self.image_width,self.channels))\n",
        "\n",
        "        \n",
        "        for folder in range(seq_len): \n",
        "            imgs = os.listdir(source_path+'/'+ t[folder + (batch*batch_size)].split(';')[0]) \n",
        "            for idx,item in enumerate(img_idx): \n",
        "                image = imread(source_path+'/'+ t[folder + (batch*batch_size)].strip().split(';')[0]+'/'+imgs[item]).astype(np.float32)\n",
        "                image_resized=transform.resize(image,(self.image_height,self.image_width,3))\n",
        "            \n",
        "\n",
        "                batch_data[folder,idx,:,:,0] = (image_resized[:,:,0])/255\n",
        "                batch_data[folder,idx,:,:,1] = (image_resized[:,:,1])/255\n",
        "                batch_data[folder,idx,:,:,2] = (image_resized[:,:,2])/255\n",
        "            \n",
        "                if (augment):\n",
        "                    shifted = cv2.warpAffine(image, \n",
        "                                             np.float32([[1, 0, np.random.randint(-30,30)],[0, 1, np.random.randint(-30,30)]]), \n",
        "                                            (image.shape[1], image.shape[0]))\n",
        "                    \n",
        "                    gray = cv2.cvtColor(shifted,cv2.COLOR_BGR2GRAY)\n",
        "\n",
        "                    x0, y0 = np.argwhere(gray > 0).min(axis=0)\n",
        "                    x1, y1 = np.argwhere(gray > 0).max(axis=0) \n",
        "                    \n",
        "                    cropped=shifted[x0:x1,y0:y1,:]\n",
        "                    \n",
        "                    image_resized=transform.resize(cropped,(self.image_height,self.image_width,3))\n",
        "                    \n",
        "                    M = cv2.getRotationMatrix2D((self.image_width//2,self.image_height//2),\n",
        "                                                np.random.randint(-10,10), 1.0)\n",
        "                    rotated = cv2.warpAffine(image_resized, M, (self.image_width, self.image_height))\n",
        "                  \n",
        "                    batch_data_aug[folder,idx,:,:,0] = (rotated[:,:,0])/255\n",
        "                    batch_data_aug[folder,idx,:,:,1] = (rotated[:,:,1])/255\n",
        "                    batch_data_aug[folder,idx,:,:,2] = (rotated[:,:,2])/255\n",
        "                \n",
        "            \n",
        "            batch_labels[folder, int(t[folder + (batch*batch_size)].strip().split(';')[2])] = 1\n",
        "            \n",
        "    \n",
        "        if (augment):\n",
        "            batch_data=np.concatenate([batch_data,batch_data_aug])\n",
        "            batch_labels=np.concatenate([batch_labels,batch_labels])\n",
        "\n",
        "        \n",
        "        return(batch_data,batch_labels)\n",
        "    \n",
        "    \n",
        "    def train_model(self, model, augment_data=False):\n",
        "        train_generator = self.generator(self.train_path, self.train_doc,augment=augment_data)\n",
        "        val_generator = self.generator(self.val_path, self.val_doc)\n",
        "\n",
        "        model_name = 'model_init' + '_' + str(datetime.datetime.now()).replace(' ','').replace(':','_') + '/'\n",
        "    \n",
        "        if not os.path.exists(model_name):\n",
        "            os.mkdir(model_name)\n",
        "        \n",
        "        filepath = model_name + 'model-{epoch:05d}-{loss:.5f}-{categorical_accuracy:.5f}-{val_loss:.5f}-{val_categorical_accuracy:.5f}.h5'\n",
        "\n",
        "        checkpoint = ModelCheckpoint(filepath, monitor='val_loss', verbose=1, save_best_only=False, save_weights_only=False, mode='auto', period=1)\n",
        "        LR = ReduceLROnPlateau(monitor='val_loss', factor=0.2, verbose=1, patience=4)\n",
        "        callbacks_list = [checkpoint, LR]\n",
        "\n",
        "        if (self.num_train_sequences%self.batch_size) == 0:\n",
        "            steps_per_epoch = int(self.num_train_sequences/self.batch_size)\n",
        "        else:\n",
        "            steps_per_epoch = (self.num_train_sequences//self.batch_size) + 1\n",
        "\n",
        "        if (self.num_val_sequences%self.batch_size) == 0:\n",
        "            validation_steps = int(self.num_val_sequences/self.batch_size)\n",
        "        else:\n",
        "            validation_steps = (self.num_val_sequences//self.batch_size) + 1\n",
        "    \n",
        "        history=model.fit_generator(train_generator, steps_per_epoch=steps_per_epoch, epochs=self.num_epochs, verbose=1, \n",
        "                            callbacks=callbacks_list, validation_data=val_generator, \n",
        "                            validation_steps=validation_steps, class_weight=None, workers=1, initial_epoch=0)\n",
        "        return history\n",
        "\n",
        "        \n",
        "    @abc.abstractmethod\n",
        "    def define_model(self):\n",
        "        pass"
      ],
      "execution_count": 33,
      "outputs": []
    },
    {
      "cell_type": "markdown",
      "metadata": {
        "id": "KNCI5V1JPp5N"
      },
      "source": [
        "## Model 10 - (3,3,3) Filter & 160x160 Image resolution - similar to Model 2"
      ]
    },
    {
      "cell_type": "code",
      "metadata": {
        "id": "SHkhEeqoPoZ-"
      },
      "source": [
        "class ModelConv3D10(ModelBuilderMoreAugmentation):\n",
        "    \n",
        "    def define_model(self,filtersize=(3,3,3),dense_neurons=64,dropout=0.25):\n",
        "\n",
        "        model = Sequential()\n",
        "        model.add(Conv3D(16, filtersize, padding='same',\n",
        "                 input_shape=(self.frames_to_sample,self.image_height,self.image_width,self.channels)))\n",
        "        model.add(Activation('relu'))\n",
        "        model.add(BatchNormalization())\n",
        "        model.add(MaxPooling3D(pool_size=(2, 2, 2)))\n",
        "\n",
        "        model.add(Conv3D(32, filtersize, padding='same'))\n",
        "        model.add(Activation('relu'))\n",
        "        model.add(BatchNormalization())\n",
        "        model.add(MaxPooling3D(pool_size=(2, 2, 2)))\n",
        "\n",
        "        model.add(Conv3D(64, filtersize, padding='same'))\n",
        "        model.add(Activation('relu'))\n",
        "        model.add(BatchNormalization())\n",
        "        model.add(MaxPooling3D(pool_size=(2, 2, 2)))\n",
        "\n",
        "        model.add(Conv3D(128, filtersize, padding='same'))\n",
        "        model.add(Activation('relu'))\n",
        "        model.add(BatchNormalization())\n",
        "        model.add(MaxPooling3D(pool_size=(2, 2, 2)))\n",
        "\n",
        "        model.add(Flatten())\n",
        "        model.add(Dense(dense_neurons,activation='relu'))\n",
        "        model.add(BatchNormalization())\n",
        "        model.add(Dropout(dropout))\n",
        "\n",
        "        model.add(Dense(dense_neurons,activation='relu'))\n",
        "        model.add(BatchNormalization())\n",
        "        model.add(Dropout(dropout))\n",
        "\n",
        "\n",
        "        model.add(Dense(self.num_classes,activation='softmax'))\n",
        "\n",
        "        optimiser = optimizers.Adam(lr=0.0002)\n",
        "        model.compile(optimizer=optimiser, loss='categorical_crossentropy', metrics=['categorical_accuracy'])\n",
        "        return model"
      ],
      "execution_count": 34,
      "outputs": []
    },
    {
      "cell_type": "code",
      "metadata": {
        "colab": {
          "base_uri": "https://localhost:8080/"
        },
        "id": "3zxshqMLQNAK",
        "outputId": "3695dc71-be43-4400-c1ae-401f71f2cb7e"
      },
      "source": [
        "conv_3d10=ModelConv3D10()\n",
        "conv_3d10.initialize_src_path(main_folder)\n",
        "conv_3d10.initialize_image_properties(image_height=160,image_width=160)\n",
        "conv_3d10.initialize_hyperparams(frames_to_sample=20,batch_size=20,num_epochs=30)\n",
        "conv_3d10_model=conv_3d10.define_model(dense_neurons=256,dropout=0.5)\n",
        "conv_3d10_model.summary()"
      ],
      "execution_count": 36,
      "outputs": [
        {
          "output_type": "stream",
          "text": [
            "Model: \"sequential_1\"\n",
            "_________________________________________________________________\n",
            "Layer (type)                 Output Shape              Param #   \n",
            "=================================================================\n",
            "conv3d_4 (Conv3D)            (None, 20, 160, 160, 16)  1312      \n",
            "_________________________________________________________________\n",
            "activation_4 (Activation)    (None, 20, 160, 160, 16)  0         \n",
            "_________________________________________________________________\n",
            "batch_normalization_6 (Batch (None, 20, 160, 160, 16)  64        \n",
            "_________________________________________________________________\n",
            "max_pooling3d_4 (MaxPooling3 (None, 10, 80, 80, 16)    0         \n",
            "_________________________________________________________________\n",
            "conv3d_5 (Conv3D)            (None, 10, 80, 80, 32)    13856     \n",
            "_________________________________________________________________\n",
            "activation_5 (Activation)    (None, 10, 80, 80, 32)    0         \n",
            "_________________________________________________________________\n",
            "batch_normalization_7 (Batch (None, 10, 80, 80, 32)    128       \n",
            "_________________________________________________________________\n",
            "max_pooling3d_5 (MaxPooling3 (None, 5, 40, 40, 32)     0         \n",
            "_________________________________________________________________\n",
            "conv3d_6 (Conv3D)            (None, 5, 40, 40, 64)     55360     \n",
            "_________________________________________________________________\n",
            "activation_6 (Activation)    (None, 5, 40, 40, 64)     0         \n",
            "_________________________________________________________________\n",
            "batch_normalization_8 (Batch (None, 5, 40, 40, 64)     256       \n",
            "_________________________________________________________________\n",
            "max_pooling3d_6 (MaxPooling3 (None, 2, 20, 20, 64)     0         \n",
            "_________________________________________________________________\n",
            "conv3d_7 (Conv3D)            (None, 2, 20, 20, 128)    221312    \n",
            "_________________________________________________________________\n",
            "activation_7 (Activation)    (None, 2, 20, 20, 128)    0         \n",
            "_________________________________________________________________\n",
            "batch_normalization_9 (Batch (None, 2, 20, 20, 128)    512       \n",
            "_________________________________________________________________\n",
            "max_pooling3d_7 (MaxPooling3 (None, 1, 10, 10, 128)    0         \n",
            "_________________________________________________________________\n",
            "flatten_1 (Flatten)          (None, 12800)             0         \n",
            "_________________________________________________________________\n",
            "dense_3 (Dense)              (None, 256)               3277056   \n",
            "_________________________________________________________________\n",
            "batch_normalization_10 (Batc (None, 256)               1024      \n",
            "_________________________________________________________________\n",
            "dropout_2 (Dropout)          (None, 256)               0         \n",
            "_________________________________________________________________\n",
            "dense_4 (Dense)              (None, 256)               65792     \n",
            "_________________________________________________________________\n",
            "batch_normalization_11 (Batc (None, 256)               1024      \n",
            "_________________________________________________________________\n",
            "dropout_3 (Dropout)          (None, 256)               0         \n",
            "_________________________________________________________________\n",
            "dense_5 (Dense)              (None, 5)                 1285      \n",
            "=================================================================\n",
            "Total params: 3,638,981\n",
            "Trainable params: 3,637,477\n",
            "Non-trainable params: 1,504\n",
            "_________________________________________________________________\n"
          ],
          "name": "stdout"
        }
      ]
    },
    {
      "cell_type": "code",
      "metadata": {
        "colab": {
          "base_uri": "https://localhost:8080/"
        },
        "id": "1Qjf4MvRQSSG",
        "outputId": "50f6b4f3-076b-4de1-debe-677ff03de521"
      },
      "source": [
        "print(\"Total Params:\", conv_3d10_model.count_params())\n",
        "history_model10=conv_3d10.train_model(conv_3d10_model,augment_data=True)"
      ],
      "execution_count": null,
      "outputs": [
        {
          "output_type": "stream",
          "text": [
            "Total Params: 3638981\n",
            "WARNING:tensorflow:`period` argument is deprecated. Please use `save_freq` to specify the frequency in number of batches seen.\n",
            "Epoch 1/30\n",
            "34/34 [==============================] - ETA: 0s - batch: 16.5000 - size: 39.0000 - loss: 2.0266 - categorical_accuracy: 0.3529\n",
            "Epoch 00001: saving model to model_init_2021-03-2002_38_10.634828/model-00001-2.02660-0.35294-2.05880-0.21000.h5\n",
            "34/34 [==============================] - 333s 10s/step - batch: 16.5000 - size: 39.0000 - loss: 2.0266 - categorical_accuracy: 0.3529 - val_loss: 2.0588 - val_categorical_accuracy: 0.2100\n",
            "Epoch 2/30\n",
            "34/34 [==============================] - ETA: 0s - batch: 16.5000 - size: 39.0000 - loss: 1.5209 - categorical_accuracy: 0.4811\n",
            "Epoch 00002: saving model to model_init_2021-03-2002_38_10.634828/model-00002-1.52086-0.48115-3.43377-0.20000.h5\n",
            "34/34 [==============================] - 293s 9s/step - batch: 16.5000 - size: 39.0000 - loss: 1.5209 - categorical_accuracy: 0.4811 - val_loss: 3.4338 - val_categorical_accuracy: 0.2000\n",
            "Epoch 3/30\n",
            "34/34 [==============================] - ETA: 0s - batch: 16.5000 - size: 39.0000 - loss: 1.2807 - categorical_accuracy: 0.5490\n",
            "Epoch 00003: saving model to model_init_2021-03-2002_38_10.634828/model-00003-1.28067-0.54902-4.54476-0.19000.h5\n",
            "34/34 [==============================] - 300s 9s/step - batch: 16.5000 - size: 39.0000 - loss: 1.2807 - categorical_accuracy: 0.5490 - val_loss: 4.5448 - val_categorical_accuracy: 0.1900\n",
            "Epoch 4/30\n",
            "34/34 [==============================] - ETA: 0s - batch: 16.5000 - size: 39.0000 - loss: 1.2549 - categorical_accuracy: 0.5505\n",
            "Epoch 00004: saving model to model_init_2021-03-2002_38_10.634828/model-00004-1.25493-0.55053-6.45294-0.20000.h5\n",
            "34/34 [==============================] - 294s 9s/step - batch: 16.5000 - size: 39.0000 - loss: 1.2549 - categorical_accuracy: 0.5505 - val_loss: 6.4529 - val_categorical_accuracy: 0.2000\n",
            "Epoch 5/30\n",
            "34/34 [==============================] - ETA: 0s - batch: 16.5000 - size: 39.0000 - loss: 1.1194 - categorical_accuracy: 0.5860\n",
            "Epoch 00005: saving model to model_init_2021-03-2002_38_10.634828/model-00005-1.11936-0.58597-5.98819-0.25000.h5\n",
            "\n",
            "Epoch 00005: ReduceLROnPlateau reducing learning rate to 3.9999998989515007e-05.\n",
            "34/34 [==============================] - 291s 9s/step - batch: 16.5000 - size: 39.0000 - loss: 1.1194 - categorical_accuracy: 0.5860 - val_loss: 5.9882 - val_categorical_accuracy: 0.2500\n",
            "Epoch 6/30\n",
            "34/34 [==============================] - ETA: 0s - batch: 16.5000 - size: 39.0000 - loss: 0.9153 - categorical_accuracy: 0.6523\n",
            "Epoch 00006: saving model to model_init_2021-03-2002_38_10.634828/model-00006-0.91534-0.65234-6.30115-0.27000.h5\n",
            "34/34 [==============================] - 290s 9s/step - batch: 16.5000 - size: 39.0000 - loss: 0.9153 - categorical_accuracy: 0.6523 - val_loss: 6.3012 - val_categorical_accuracy: 0.2700\n",
            "Epoch 7/30\n",
            "34/34 [==============================] - ETA: 0s - batch: 16.5000 - size: 39.0000 - loss: 0.8845 - categorical_accuracy: 0.6802\n",
            "Epoch 00007: saving model to model_init_2021-03-2002_38_10.634828/model-00007-0.88451-0.68024-6.31532-0.29000.h5\n",
            "34/34 [==============================] - 289s 9s/step - batch: 16.5000 - size: 39.0000 - loss: 0.8845 - categorical_accuracy: 0.6802 - val_loss: 6.3153 - val_categorical_accuracy: 0.2900\n",
            "Epoch 8/30\n",
            " 5/34 [===>..........................] - ETA: 2:49 - batch: 2.0000 - size: 40.0000 - loss: 0.7421 - categorical_accuracy: 0.7100"
          ],
          "name": "stdout"
        }
      ]
    }
  ]
}