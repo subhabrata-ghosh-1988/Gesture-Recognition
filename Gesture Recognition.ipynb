{
  "nbformat": 4,
  "nbformat_minor": 0,
  "metadata": {
    "kernelspec": {
      "display_name": "Python 3",
      "language": "python",
      "name": "python3"
    },
    "language_info": {
      "codemirror_mode": {
        "name": "ipython",
        "version": 3
      },
      "file_extension": ".py",
      "mimetype": "text/x-python",
      "name": "python",
      "nbconvert_exporter": "python",
      "pygments_lexer": "ipython3",
      "version": "3.7.3"
    },
    "colab": {
      "name": "Gesture Recognition.ipynb",
      "provenance": [],
      "include_colab_link": true
    },
    "accelerator": "GPU"
  },
  "cells": [
    {
      "cell_type": "markdown",
      "metadata": {
        "id": "view-in-github",
        "colab_type": "text"
      },
      "source": [
        "<a href=\"https://colab.research.google.com/github/subhabrata-ghosh-1988/Gesture-Recognition/blob/main/Gesture%20Recognition.ipynb\" target=\"_parent\"><img src=\"https://colab.research.google.com/assets/colab-badge.svg\" alt=\"Open In Colab\"/></a>"
      ]
    },
    {
      "cell_type": "markdown",
      "metadata": {
        "id": "Q7ZfgtjxNVrR"
      },
      "source": [
        "# Gesture Recognition\n",
        "In this group project, you are going to build a 3D Conv model that will be able to predict the 5 gestures correctly. Please import the following libraries to get started."
      ]
    },
    {
      "cell_type": "code",
      "metadata": {
        "id": "2-eH5pKuNVrV"
      },
      "source": [
        "## Import libraries\n",
        "import numpy as np\n",
        "import os\n",
        "from scipy import misc\n",
        "from imageio import imread\n",
        "import cv2\n",
        "from skimage import transform,io\n",
        "import datetime\n",
        "import os\n",
        "import warnings\n",
        "warnings.filterwarnings(\"ignore\")\n",
        "import abc\n",
        "from sys import getsizeof\n",
        "import shutil\n",
        "import abc\n"
      ],
      "execution_count": 1,
      "outputs": []
    },
    {
      "cell_type": "code",
      "metadata": {
        "id": "J94bqUhVNVrW"
      },
      "source": [
        "import glob, os , shutil\n",
        "for f in glob.glob(\"/content/model_init*\"):\n",
        "    shutil.rmtree(f)"
      ],
      "execution_count": 2,
      "outputs": []
    },
    {
      "cell_type": "code",
      "metadata": {
        "id": "H0Ubj-HfSRY3"
      },
      "source": [
        "## remove the existing zip file\r\n",
        "shutil.rmtree('/content/Project_data.zip', ignore_errors=True)"
      ],
      "execution_count": 3,
      "outputs": []
    },
    {
      "cell_type": "code",
      "metadata": {
        "id": "i4ty5a19SiNl",
        "colab": {
          "base_uri": "https://localhost:8080/",
          "height": 278
        },
        "outputId": "aa4219d1-2039-441c-b994-7409c5b181ab"
      },
      "source": [
        "## Initiate the file download\r\n",
        "!pip install gdown\r\n",
        "import gdown\r\n",
        "url=\"https://drive.google.com/uc?id=1kM4V7pnLjGbuCaDpfBNHig99gr2rdqyJ\"\r\n",
        "output = \"Project_data.zip\"\r\n",
        "gdown.download(url, output, quiet=False)"
      ],
      "execution_count": 4,
      "outputs": [
        {
          "output_type": "stream",
          "text": [
            "Requirement already satisfied: gdown in /usr/local/lib/python3.7/dist-packages (3.6.4)\n",
            "Requirement already satisfied: six in /usr/local/lib/python3.7/dist-packages (from gdown) (1.15.0)\n",
            "Requirement already satisfied: tqdm in /usr/local/lib/python3.7/dist-packages (from gdown) (4.41.1)\n",
            "Requirement already satisfied: requests in /usr/local/lib/python3.7/dist-packages (from gdown) (2.23.0)\n",
            "Requirement already satisfied: idna<3,>=2.5 in /usr/local/lib/python3.7/dist-packages (from requests->gdown) (2.10)\n",
            "Requirement already satisfied: certifi>=2017.4.17 in /usr/local/lib/python3.7/dist-packages (from requests->gdown) (2020.12.5)\n",
            "Requirement already satisfied: urllib3!=1.25.0,!=1.25.1,<1.26,>=1.21.1 in /usr/local/lib/python3.7/dist-packages (from requests->gdown) (1.24.3)\n",
            "Requirement already satisfied: chardet<4,>=3.0.2 in /usr/local/lib/python3.7/dist-packages (from requests->gdown) (3.0.4)\n"
          ],
          "name": "stdout"
        },
        {
          "output_type": "stream",
          "text": [
            "Downloading...\n",
            "From: https://drive.google.com/uc?id=1kM4V7pnLjGbuCaDpfBNHig99gr2rdqyJ\n",
            "To: /content/Project_data.zip\n",
            "1.71GB [00:09, 180MB/s] \n"
          ],
          "name": "stderr"
        },
        {
          "output_type": "execute_result",
          "data": {
            "application/vnd.google.colaboratory.intrinsic+json": {
              "type": "string"
            },
            "text/plain": [
              "'Project_data.zip'"
            ]
          },
          "metadata": {
            "tags": []
          },
          "execution_count": 4
        }
      ]
    },
    {
      "cell_type": "code",
      "metadata": {
        "id": "w-fwe5jbTX8r"
      },
      "source": [
        "## unzip the downloaded folder\r\n",
        "shutil.rmtree('/content/Project_data', ignore_errors=True)\r\n",
        "shutil.unpack_archive(\"Project_data.zip\", \"Project_data\")"
      ],
      "execution_count": 5,
      "outputs": []
    },
    {
      "cell_type": "markdown",
      "metadata": {
        "id": "GIQHPGi_NVrX"
      },
      "source": [
        "We set the random seed so that the results don't vary drastically."
      ]
    },
    {
      "cell_type": "code",
      "metadata": {
        "id": "ci_N-NnWNVrZ"
      },
      "source": [
        "np.random.seed(30)\n",
        "import random as rn\n",
        "rn.seed(30)\n",
        "import tensorflow as tf\n",
        "tf.random.set_seed(30)\n",
        "tf.compat.v1.disable_eager_execution()"
      ],
      "execution_count": 6,
      "outputs": []
    },
    {
      "cell_type": "markdown",
      "metadata": {
        "id": "6bWyzW_oNVrZ"
      },
      "source": [
        "**In this block, you read the folder names for training and validation. You also set the batch_size here. Note that you set the batch size in such a way that you are able to use the GPU in full capacity. You keep increasing the batch size until the machine throws an error.**"
      ]
    },
    {
      "cell_type": "code",
      "metadata": {
        "id": "AyTupvi3NVrb"
      },
      "source": [
        "from keras.models import Sequential, Model\n",
        "from keras.layers import Dense, GRU, Flatten, TimeDistributed, Flatten, BatchNormalization, Activation\n",
        "from keras.layers.convolutional import Conv3D, MaxPooling3D, Conv2D, MaxPooling2D\n",
        "from keras.layers.recurrent import LSTM\n",
        "from keras.callbacks import ModelCheckpoint, ReduceLROnPlateau\n",
        "from keras import optimizers\n",
        "from keras.layers import Dropout"
      ],
      "execution_count": 7,
      "outputs": []
    },
    {
      "cell_type": "code",
      "metadata": {
        "id": "VCjeEg_tNVrc"
      },
      "source": [
        "# the entire dataset is placed in below directory\n",
        "main_folder='/content/Project_data/Project_data'"
      ],
      "execution_count": 8,
      "outputs": []
    },
    {
      "cell_type": "code",
      "metadata": {
        "id": "NSUMkqaSXcC4",
        "colab": {
          "base_uri": "https://localhost:8080/",
          "height": 36
        },
        "outputId": "4e128d5d-3892-4fb0-fdf7-292c4d78f250"
      },
      "source": [
        "## Checking current TF version\r\n",
        "tf.version.VERSION"
      ],
      "execution_count": 9,
      "outputs": [
        {
          "output_type": "execute_result",
          "data": {
            "application/vnd.google.colaboratory.intrinsic+json": {
              "type": "string"
            },
            "text/plain": [
              "'2.4.1'"
            ]
          },
          "metadata": {
            "tags": []
          },
          "execution_count": 9
        }
      ]
    },
    {
      "cell_type": "markdown",
      "metadata": {
        "id": "REgxbVunNVrd"
      },
      "source": [
        "### Plotting"
      ]
    },
    {
      "cell_type": "code",
      "metadata": {
        "id": "k3UJmY03NVre"
      },
      "source": [
        "import matplotlib.pyplot as plt\n",
        "def plot(Model):\n",
        "    fig, axes = plt.subplots(nrows=1, ncols=2, figsize=(15,4))\n",
        "    axes[0].plot(Model.history['loss'])   \n",
        "    axes[0].plot(Model.history['val_loss'])\n",
        "    axes[0].legend(['loss','val_loss'])\n",
        "\n",
        "    axes[1].plot(Model.history['categorical_accuracy'])   \n",
        "    axes[1].plot(Model.history['val_categorical_accuracy'])\n",
        "    axes[1].legend(['categorical_accuracy','val_categorical_accuracy'])"
      ],
      "execution_count": 36,
      "outputs": []
    },
    {
      "cell_type": "markdown",
      "metadata": {
        "id": "QtV6apQQNVrf"
      },
      "source": [
        "## Generator\n",
        "This is one of the most important part of the code. The overall structure of the generator has been given. In the generator, you are going to preprocess the images as you have images of 2 different dimensions as well as create a batch of video frames. You have to experiment with `img_idx`, `y`,`z` and normalization such that you get high accuracy."
      ]
    },
    {
      "cell_type": "code",
      "metadata": {
        "id": "haSnpGsboLKX"
      },
      "source": [
        "import gc\r\n",
        "class GCCallback(tf.keras.callbacks.Callback):\r\n",
        "      def on_epoch_end(self, epoch, logs=None):\r\n",
        "          print(gc.collect())"
      ],
      "execution_count": 11,
      "outputs": []
    },
    {
      "cell_type": "code",
      "metadata": {
        "id": "4YC-BRedNVri"
      },
      "source": [
        "# referred ABC library use case from this link https://riptutorial.com/python/example/23083/why-how-to-use-abcmeta-and--abstractmethod\n",
        "\n",
        "class ModelBuilder(metaclass= abc.ABCMeta):\n",
        "    \n",
        "    def initialize_src_path(self,main_folder):\n",
        "        self.train_doc = np.random.permutation(open(main_folder + '/' + 'train.csv').readlines())\n",
        "        self.val_doc = np.random.permutation(open(main_folder + '/' + 'val.csv').readlines())\n",
        "        self.train_path = main_folder + '/' + 'train'\n",
        "        self.val_path =  main_folder + '/' + 'val'\n",
        "        self.num_train_sequences = len(self.train_doc)\n",
        "        self.num_val_sequences = len(self.val_doc)\n",
        "        \n",
        "    def initialize_image_properties(self,image_height=100,image_width=100):\n",
        "        self.image_height=image_height\n",
        "        self.image_width=image_width\n",
        "        self.channels=3\n",
        "        self.num_classes=5\n",
        "        self.total_frames=30\n",
        "          \n",
        "    def initialize_hyperparams(self,frames_to_sample=30,batch_size=40,num_epochs=20):\n",
        "        self.frames_to_sample=frames_to_sample\n",
        "        self.batch_size=batch_size\n",
        "        self.num_epochs=num_epochs\n",
        "        \n",
        "        \n",
        "    def generator(self,source_path, folder_list, augment=False):\n",
        "        img_idx = np.round(np.linspace(0,self.total_frames-1,self.frames_to_sample)).astype(int)\n",
        "        batch_size=self.batch_size\n",
        "        while True:\n",
        "            t = np.random.permutation(folder_list)\n",
        "            num_batches = len(t)//batch_size\n",
        "        \n",
        "            for batch in range(num_batches): \n",
        "                batch_data, batch_labels= self.one_batch_data(source_path,t,batch,batch_size,img_idx,augment)\n",
        "                yield batch_data, batch_labels \n",
        "\n",
        "            remaining_seq=len(t)%batch_size\n",
        "        \n",
        "            if (remaining_seq != 0):\n",
        "                batch_data, batch_labels= self.one_batch_data(source_path,t,num_batches,batch_size,img_idx,augment,remaining_seq)\n",
        "                yield batch_data, batch_labels \n",
        "    \n",
        "    \n",
        "    def one_batch_data(self,source_path,t,batch,batch_size,img_idx,augment,remaining_seq=0):\n",
        "    \n",
        "        seq_len = remaining_seq if remaining_seq else batch_size\n",
        "    \n",
        "        batch_data = np.zeros((seq_len,len(img_idx),self.image_height,self.image_width,self.channels)) \n",
        "        batch_labels = np.zeros((seq_len,self.num_classes)) \n",
        "    \n",
        "        if (augment): batch_data_aug = np.zeros((seq_len,len(img_idx),self.image_height,self.image_width,self.channels))\n",
        "\n",
        "        \n",
        "        for folder in range(seq_len): \n",
        "            imgs = os.listdir(source_path+'/'+ t[folder + (batch*batch_size)].split(';')[0]) \n",
        "            for idx,item in enumerate(img_idx): \n",
        "                image = imread(source_path+'/'+ t[folder + (batch*batch_size)].strip().split(';')[0]+'/'+imgs[item]).astype(np.float32)\n",
        "                image_resized=transform.resize(image,(self.image_height,self.image_width,3))\n",
        "            \n",
        "\n",
        "                batch_data[folder,idx,:,:,0] = (image_resized[:,:,0])/255\n",
        "                batch_data[folder,idx,:,:,1] = (image_resized[:,:,1])/255\n",
        "                batch_data[folder,idx,:,:,2] = (image_resized[:,:,2])/255\n",
        "            \n",
        "                if (augment):\n",
        "                    shifted = cv2.warpAffine(image, \n",
        "                                             np.float32([[1, 0, np.random.randint(-30,30)],[0, 1, np.random.randint(-30,30)]]), \n",
        "                                            (image.shape[1], image.shape[0]))\n",
        "                    \n",
        "                    gray = cv2.cvtColor(shifted,cv2.COLOR_BGR2GRAY)\n",
        "\n",
        "                    x0, y0 = np.argwhere(gray > 0).min(axis=0)\n",
        "                    x1, y1 = np.argwhere(gray > 0).max(axis=0) \n",
        "                    \n",
        "                    cropped=shifted[x0:x1,y0:y1,:]\n",
        "                    \n",
        "                    image_resized=transform.resize(cropped,(self.image_height,self.image_width,3))\n",
        "            \n",
        "                    batch_data_aug[folder,idx,:,:,0] = (image_resized[:,:,0])/255\n",
        "                    batch_data_aug[folder,idx,:,:,1] = (image_resized[:,:,1])/255\n",
        "                    batch_data_aug[folder,idx,:,:,2] = (image_resized[:,:,2])/255\n",
        "                \n",
        "            \n",
        "            batch_labels[folder, int(t[folder + (batch*batch_size)].strip().split(';')[2])] = 1\n",
        "            \n",
        "    \n",
        "        if (augment):\n",
        "            batch_data=np.concatenate([batch_data,batch_data_aug])\n",
        "            batch_labels=np.concatenate([batch_labels,batch_labels])\n",
        "\n",
        "        \n",
        "        return(batch_data,batch_labels)\n",
        "    \n",
        "    \n",
        "    def train_model(self, model, augment_data=False):\n",
        "        train_generator = self.generator(self.train_path, self.train_doc,augment=augment_data)\n",
        "        val_generator = self.generator(self.val_path, self.val_doc)\n",
        "\n",
        "        model_name = 'model_init' + '_' + str(datetime.datetime.now()).replace(' ','').replace(':','_') + '/'\n",
        "    \n",
        "        if not os.path.exists(model_name):\n",
        "            os.mkdir(model_name)\n",
        "        \n",
        "        filepath = model_name + 'model-{epoch:05d}-{loss:.5f}-{categorical_accuracy:.5f}-{val_loss:.5f}-{val_categorical_accuracy:.5f}.h5'\n",
        "\n",
        "        checkpoint = ModelCheckpoint(filepath, monitor='val_loss', verbose=1, save_best_only=False, save_weights_only=False, mode='auto', period=1)\n",
        "        LR = ReduceLROnPlateau(monitor='val_loss', factor=0.2, verbose=1, patience=4)\n",
        "        callbacks_list = [checkpoint, LR, GCCallback()]\n",
        "\n",
        "        if (self.num_train_sequences%self.batch_size) == 0:\n",
        "            steps_per_epoch = int(self.num_train_sequences/self.batch_size)\n",
        "        else:\n",
        "            steps_per_epoch = (self.num_train_sequences//self.batch_size) + 1\n",
        "\n",
        "        if (self.num_val_sequences%self.batch_size) == 0:\n",
        "            validation_steps = int(self.num_val_sequences/self.batch_size)\n",
        "        else:\n",
        "            validation_steps = (self.num_val_sequences//self.batch_size) + 1\n",
        "    \n",
        "        history=model.fit_generator(train_generator, steps_per_epoch=steps_per_epoch, epochs=self.num_epochs, verbose=1, \n",
        "                            callbacks=callbacks_list, validation_data=val_generator, \n",
        "                            validation_steps=validation_steps, class_weight=None, workers=1, initial_epoch=0)\n",
        "        return history\n",
        "\n",
        "    def clear_session(self, model):\n",
        "        del model\n",
        "        gc.collect()\n",
        "        tf.keras.backend.clear_session()\n",
        "        tf.compat.v1.reset_default_graph() # TF graph isn't same as Keras graph\n",
        "\n",
        "    @abc.abstractmethod\n",
        "    def define_model(self):\n",
        "        pass\n"
      ],
      "execution_count": 12,
      "outputs": []
    },
    {
      "cell_type": "markdown",
      "metadata": {
        "id": "kkdCou-eNVri"
      },
      "source": [
        "## Sample Model\n",
        "Here you make the model using different functionalities that Keras provides. Remember to use `Conv3D` and `MaxPooling3D` and not `Conv2D` and `Maxpooling2D` for a 3D convolution model. You would want to use `TimeDistributed` while building a Conv2D + RNN model. Also remember that the last layer is the softmax. Design the network in such a way that the model is able to give good accuracy on the least number of parameters so that it can fit in the memory of the webcam."
      ]
    },
    {
      "cell_type": "code",
      "metadata": {
        "id": "G1XR94jpNVrk"
      },
      "source": [
        "class ModelConv3D1(ModelBuilder):\n",
        "    \n",
        "    def define_model(self):\n",
        "\n",
        "        model = Sequential()\n",
        "        model.add(Conv3D(16, (3, 3, 3), padding='same',\n",
        "                 input_shape=(self.frames_to_sample,self.image_height,self.image_width,self.channels)))\n",
        "        model.add(Activation('relu'))\n",
        "        model.add(BatchNormalization())\n",
        "        model.add(MaxPooling3D(pool_size=(2, 2, 2)))\n",
        "\n",
        "        model.add(Conv3D(32, (2, 2, 2), padding='same'))\n",
        "        model.add(Activation('relu'))\n",
        "        model.add(BatchNormalization())\n",
        "        model.add(MaxPooling3D(pool_size=(2, 2, 2)))\n",
        "\n",
        "        model.add(Conv3D(64, (2, 2, 2), padding='same'))\n",
        "        model.add(Activation('relu'))\n",
        "        model.add(BatchNormalization())\n",
        "        model.add(MaxPooling3D(pool_size=(2, 2, 2)))\n",
        "\n",
        "        model.add(Conv3D(128, (2, 2, 2), padding='same'))\n",
        "        model.add(Activation('relu'))\n",
        "        model.add(BatchNormalization())\n",
        "        model.add(MaxPooling3D(pool_size=(2, 2, 2)))\n",
        "\n",
        "        model.add(Flatten())\n",
        "        model.add(Dense(128,activation='relu'))\n",
        "        model.add(BatchNormalization())\n",
        "        model.add(Dropout(0.5))\n",
        "\n",
        "        model.add(Dense(64,activation='relu'))\n",
        "        model.add(BatchNormalization())\n",
        "        model.add(Dropout(0.25))\n",
        "\n",
        "\n",
        "        model.add(Dense(self.num_classes,activation='softmax'))\n",
        "\n",
        "        optimiser = optimizers.Adam()\n",
        "        #optimiser = 'sgd'\n",
        "        model.compile(optimizer=optimiser, loss='categorical_crossentropy', metrics=['categorical_accuracy'])\n",
        "        return model"
      ],
      "execution_count": 13,
      "outputs": []
    },
    {
      "cell_type": "code",
      "metadata": {
        "id": "8PIGA0cbNVrl",
        "colab": {
          "base_uri": "https://localhost:8080/"
        },
        "outputId": "0893a34a-0eb3-483d-f9be-54993832ffc6"
      },
      "source": [
        "Conv3D1=ModelConv3D1()\n",
        "Conv3D1.initialize_src_path(main_folder)\n",
        "Conv3D1.initialize_image_properties(image_height=160,image_width=160)\n",
        "Conv3D1.initialize_hyperparams(frames_to_sample=30,batch_size=30,num_epochs=1)\n",
        "Conv3D1_model=Conv3D1.define_model()\n",
        "Conv3D1_model.summary()"
      ],
      "execution_count": 14,
      "outputs": [
        {
          "output_type": "stream",
          "text": [
            "Model: \"sequential\"\n",
            "_________________________________________________________________\n",
            "Layer (type)                 Output Shape              Param #   \n",
            "=================================================================\n",
            "conv3d (Conv3D)              (None, 30, 160, 160, 16)  1312      \n",
            "_________________________________________________________________\n",
            "activation (Activation)      (None, 30, 160, 160, 16)  0         \n",
            "_________________________________________________________________\n",
            "batch_normalization (BatchNo (None, 30, 160, 160, 16)  64        \n",
            "_________________________________________________________________\n",
            "max_pooling3d (MaxPooling3D) (None, 15, 80, 80, 16)    0         \n",
            "_________________________________________________________________\n",
            "conv3d_1 (Conv3D)            (None, 15, 80, 80, 32)    4128      \n",
            "_________________________________________________________________\n",
            "activation_1 (Activation)    (None, 15, 80, 80, 32)    0         \n",
            "_________________________________________________________________\n",
            "batch_normalization_1 (Batch (None, 15, 80, 80, 32)    128       \n",
            "_________________________________________________________________\n",
            "max_pooling3d_1 (MaxPooling3 (None, 7, 40, 40, 32)     0         \n",
            "_________________________________________________________________\n",
            "conv3d_2 (Conv3D)            (None, 7, 40, 40, 64)     16448     \n",
            "_________________________________________________________________\n",
            "activation_2 (Activation)    (None, 7, 40, 40, 64)     0         \n",
            "_________________________________________________________________\n",
            "batch_normalization_2 (Batch (None, 7, 40, 40, 64)     256       \n",
            "_________________________________________________________________\n",
            "max_pooling3d_2 (MaxPooling3 (None, 3, 20, 20, 64)     0         \n",
            "_________________________________________________________________\n",
            "conv3d_3 (Conv3D)            (None, 3, 20, 20, 128)    65664     \n",
            "_________________________________________________________________\n",
            "activation_3 (Activation)    (None, 3, 20, 20, 128)    0         \n",
            "_________________________________________________________________\n",
            "batch_normalization_3 (Batch (None, 3, 20, 20, 128)    512       \n",
            "_________________________________________________________________\n",
            "max_pooling3d_3 (MaxPooling3 (None, 1, 10, 10, 128)    0         \n",
            "_________________________________________________________________\n",
            "flatten (Flatten)            (None, 12800)             0         \n",
            "_________________________________________________________________\n",
            "dense (Dense)                (None, 128)               1638528   \n",
            "_________________________________________________________________\n",
            "batch_normalization_4 (Batch (None, 128)               512       \n",
            "_________________________________________________________________\n",
            "dropout (Dropout)            (None, 128)               0         \n",
            "_________________________________________________________________\n",
            "dense_1 (Dense)              (None, 64)                8256      \n",
            "_________________________________________________________________\n",
            "batch_normalization_5 (Batch (None, 64)                256       \n",
            "_________________________________________________________________\n",
            "dropout_1 (Dropout)          (None, 64)                0         \n",
            "_________________________________________________________________\n",
            "dense_2 (Dense)              (None, 5)                 325       \n",
            "=================================================================\n",
            "Total params: 1,736,389\n",
            "Trainable params: 1,735,525\n",
            "Non-trainable params: 864\n",
            "_________________________________________________________________\n"
          ],
          "name": "stdout"
        }
      ]
    },
    {
      "cell_type": "code",
      "metadata": {
        "id": "0eU6XuXdNVrm",
        "colab": {
          "base_uri": "https://localhost:8080/"
        },
        "outputId": "cae4a73f-7539-4744-f71a-7f5651ee4b1d"
      },
      "source": [
        "Conv3D1.train_model(Conv3D1_model)"
      ],
      "execution_count": 15,
      "outputs": [
        {
          "output_type": "stream",
          "text": [
            "WARNING:tensorflow:`period` argument is deprecated. Please use `save_freq` to specify the frequency in number of batches seen.\n",
            "23/23 [==============================] - ETA: 0s - batch: 11.0000 - size: 28.8261 - loss: 1.4350 - categorical_accuracy: 0.4646\n",
            "Epoch 00001: saving model to model_init_2021-03-1609_41_11.651024/model-00001-1.43496-0.46456-2.09574-0.18000.h5\n",
            "0\n",
            "23/23 [==============================] - 267s 11s/step - batch: 11.0000 - size: 28.8261 - loss: 1.4350 - categorical_accuracy: 0.4646 - val_loss: 2.0957 - val_categorical_accuracy: 0.1800\n"
          ],
          "name": "stdout"
        },
        {
          "output_type": "execute_result",
          "data": {
            "text/plain": [
              "<tensorflow.python.keras.callbacks.History at 0x7f4fdf6ffd90>"
            ]
          },
          "metadata": {
            "tags": []
          },
          "execution_count": 15
        }
      ]
    },
    {
      "cell_type": "code",
      "metadata": {
        "id": "JaJ-270dCcnY"
      },
      "source": [
        "Conv3D1.clear_session(Conv3D1_model)"
      ],
      "execution_count": 16,
      "outputs": []
    },
    {
      "cell_type": "code",
      "metadata": {
        "id": "qPGUJrJXNVrn",
        "colab": {
          "base_uri": "https://localhost:8080/"
        },
        "outputId": "4cb551f0-f244-480f-9b53-97d691523823"
      },
      "source": [
        "Conv3D1_bs40=ModelConv3D1()\n",
        "Conv3D1_bs40.initialize_src_path(main_folder)\n",
        "Conv3D1_bs40.initialize_image_properties(image_height=160,image_width=160)\n",
        "Conv3D1_bs40.initialize_hyperparams(frames_to_sample=30,batch_size=40,num_epochs=1)\n",
        "Conv3D1_model_bs40=Conv3D1_bs40.define_model()\n",
        "Conv3D1_model_bs40.summary()"
      ],
      "execution_count": 17,
      "outputs": [
        {
          "output_type": "stream",
          "text": [
            "Model: \"sequential\"\n",
            "_________________________________________________________________\n",
            "Layer (type)                 Output Shape              Param #   \n",
            "=================================================================\n",
            "conv3d (Conv3D)              (None, 30, 160, 160, 16)  1312      \n",
            "_________________________________________________________________\n",
            "activation (Activation)      (None, 30, 160, 160, 16)  0         \n",
            "_________________________________________________________________\n",
            "batch_normalization (BatchNo (None, 30, 160, 160, 16)  64        \n",
            "_________________________________________________________________\n",
            "max_pooling3d (MaxPooling3D) (None, 15, 80, 80, 16)    0         \n",
            "_________________________________________________________________\n",
            "conv3d_1 (Conv3D)            (None, 15, 80, 80, 32)    4128      \n",
            "_________________________________________________________________\n",
            "activation_1 (Activation)    (None, 15, 80, 80, 32)    0         \n",
            "_________________________________________________________________\n",
            "batch_normalization_1 (Batch (None, 15, 80, 80, 32)    128       \n",
            "_________________________________________________________________\n",
            "max_pooling3d_1 (MaxPooling3 (None, 7, 40, 40, 32)     0         \n",
            "_________________________________________________________________\n",
            "conv3d_2 (Conv3D)            (None, 7, 40, 40, 64)     16448     \n",
            "_________________________________________________________________\n",
            "activation_2 (Activation)    (None, 7, 40, 40, 64)     0         \n",
            "_________________________________________________________________\n",
            "batch_normalization_2 (Batch (None, 7, 40, 40, 64)     256       \n",
            "_________________________________________________________________\n",
            "max_pooling3d_2 (MaxPooling3 (None, 3, 20, 20, 64)     0         \n",
            "_________________________________________________________________\n",
            "conv3d_3 (Conv3D)            (None, 3, 20, 20, 128)    65664     \n",
            "_________________________________________________________________\n",
            "activation_3 (Activation)    (None, 3, 20, 20, 128)    0         \n",
            "_________________________________________________________________\n",
            "batch_normalization_3 (Batch (None, 3, 20, 20, 128)    512       \n",
            "_________________________________________________________________\n",
            "max_pooling3d_3 (MaxPooling3 (None, 1, 10, 10, 128)    0         \n",
            "_________________________________________________________________\n",
            "flatten (Flatten)            (None, 12800)             0         \n",
            "_________________________________________________________________\n",
            "dense (Dense)                (None, 128)               1638528   \n",
            "_________________________________________________________________\n",
            "batch_normalization_4 (Batch (None, 128)               512       \n",
            "_________________________________________________________________\n",
            "dropout (Dropout)            (None, 128)               0         \n",
            "_________________________________________________________________\n",
            "dense_1 (Dense)              (None, 64)                8256      \n",
            "_________________________________________________________________\n",
            "batch_normalization_5 (Batch (None, 64)                256       \n",
            "_________________________________________________________________\n",
            "dropout_1 (Dropout)          (None, 64)                0         \n",
            "_________________________________________________________________\n",
            "dense_2 (Dense)              (None, 5)                 325       \n",
            "=================================================================\n",
            "Total params: 1,736,389\n",
            "Trainable params: 1,735,525\n",
            "Non-trainable params: 864\n",
            "_________________________________________________________________\n"
          ],
          "name": "stdout"
        }
      ]
    },
    {
      "cell_type": "markdown",
      "metadata": {
        "id": "EHCAyYjiNVro"
      },
      "source": [
        "#### Got below memory exhaust error with image resolution of 160x160, 30 frames and a batch_size of 40\n",
        "ResourceExhaustedError:  OOM when allocating tensor with shape[40,16,15,80,80] and type float on /job:localhost/replica:0/task:0/device:GPU:0 by allocator GPU_0_bfc\n",
        "\t [[node gradient_tape/sequential_2/max_pooling3d_8/MaxPool3D/MaxPool3DGrad (defined at <ipython-input-11-c85facc09113>:122) ]]\n",
        "Hint: If you want to see a list of allocated tensors when OOM happens, add report_tensor_allocations_upon_oom to RunOptions for current allocation info.\n",
        " [Op:__inference_train_function_7489]"
      ]
    },
    {
      "cell_type": "code",
      "metadata": {
        "id": "J7SaHnFVNVro",
        "colab": {
          "base_uri": "https://localhost:8080/"
        },
        "outputId": "3acc1646-de0b-45cc-da37-c7e5478a9cf1"
      },
      "source": [
        "print(\"Memory util is {} Gigs\". format(getsizeof(np.zeros((40,16,30,160,160)))/(1024*1024*1024)))"
      ],
      "execution_count": 18,
      "outputs": [
        {
          "output_type": "stream",
          "text": [
            "Memory util is 3.662109524011612 Gigs\n"
          ],
          "name": "stdout"
        }
      ]
    },
    {
      "cell_type": "code",
      "metadata": {
        "id": "jSsKCHtZNVrp",
        "colab": {
          "base_uri": "https://localhost:8080/"
        },
        "outputId": "9d69440c-de41-4df7-b92f-1e8594e71634"
      },
      "source": [
        "conv_3d1=ModelConv3D1()\n",
        "conv_3d1.initialize_src_path(main_folder)\n",
        "conv_3d1.initialize_image_properties(image_height=160,image_width=160)\n",
        "conv_3d1.initialize_hyperparams(frames_to_sample=16,batch_size=30,num_epochs=3)\n",
        "conv_3d1_model=conv_3d1.define_model()\n",
        "print(\"Total Params:\", conv_3d1_model.count_params())\n",
        "conv_3d1.train_model(conv_3d1_model)"
      ],
      "execution_count": 19,
      "outputs": [
        {
          "output_type": "stream",
          "text": [
            "Total Params: 1736389\n",
            "WARNING:tensorflow:`period` argument is deprecated. Please use `save_freq` to specify the frequency in number of batches seen.\n",
            "Epoch 1/3\n",
            "23/23 [==============================] - ETA: 0s - batch: 11.0000 - size: 28.8261 - loss: 1.5342 - categorical_accuracy: 0.4163\n",
            "Epoch 00001: saving model to model_init_2021-03-1609_45_47.279486/model-00001-1.53424-0.41629-2.80722-0.18000.h5\n",
            "4\n",
            "23/23 [==============================] - 157s 7s/step - batch: 11.0000 - size: 28.8261 - loss: 1.5342 - categorical_accuracy: 0.4163 - val_loss: 2.8072 - val_categorical_accuracy: 0.1800\n",
            "Epoch 2/3\n",
            "23/23 [==============================] - ETA: 0s - batch: 11.0000 - size: 28.8261 - loss: 1.0878 - categorical_accuracy: 0.5641\n",
            "Epoch 00002: saving model to model_init_2021-03-1609_45_47.279486/model-00002-1.08779-0.56410-3.85888-0.27000.h5\n",
            "0\n",
            "23/23 [==============================] - 123s 6s/step - batch: 11.0000 - size: 28.8261 - loss: 1.0878 - categorical_accuracy: 0.5641 - val_loss: 3.8589 - val_categorical_accuracy: 0.2700\n",
            "Epoch 3/3\n",
            "23/23 [==============================] - ETA: 0s - batch: 11.0000 - size: 28.8261 - loss: 0.8493 - categorical_accuracy: 0.6833\n",
            "Epoch 00003: saving model to model_init_2021-03-1609_45_47.279486/model-00003-0.84925-0.68326-4.80000-0.24000.h5\n",
            "0\n",
            "23/23 [==============================] - 125s 6s/step - batch: 11.0000 - size: 28.8261 - loss: 0.8493 - categorical_accuracy: 0.6833 - val_loss: 4.8000 - val_categorical_accuracy: 0.2400\n"
          ],
          "name": "stdout"
        },
        {
          "output_type": "execute_result",
          "data": {
            "text/plain": [
              "<tensorflow.python.keras.callbacks.History at 0x7f4fa26ff310>"
            ]
          },
          "metadata": {
            "tags": []
          },
          "execution_count": 19
        }
      ]
    },
    {
      "cell_type": "code",
      "metadata": {
        "id": "jx0kjX0PNVrr",
        "colab": {
          "base_uri": "https://localhost:8080/"
        },
        "outputId": "189c7a9b-2017-4e32-cf51-7f60f92521af"
      },
      "source": [
        "conv_3d1.clear_session(conv_3d1_model)\n",
        "conv_3d1=ModelConv3D1()\n",
        "conv_3d1.initialize_src_path(main_folder)\n",
        "conv_3d1.initialize_image_properties(image_height=100,image_width=100)\n",
        "conv_3d1.initialize_hyperparams(frames_to_sample=30,batch_size=30,num_epochs=2)\n",
        "conv_3d1_model=conv_3d1.define_model()\n",
        "print(\"Total Params:\", conv_3d1_model.count_params())\n",
        "conv_3d1.train_model(conv_3d1_model)"
      ],
      "execution_count": 20,
      "outputs": [
        {
          "output_type": "stream",
          "text": [
            "Total Params: 687813\n",
            "WARNING:tensorflow:`period` argument is deprecated. Please use `save_freq` to specify the frequency in number of batches seen.\n",
            "Epoch 1/2\n",
            "23/23 [==============================] - ETA: 0s - batch: 11.0000 - size: 28.8261 - loss: 1.6214 - categorical_accuracy: 0.3786\n",
            "Epoch 00001: saving model to model_init_2021-03-1609_52_34.811732/model-00001-1.62143-0.37858-2.15789-0.21000.h5\n",
            "48\n",
            "23/23 [==============================] - 235s 10s/step - batch: 11.0000 - size: 28.8261 - loss: 1.6214 - categorical_accuracy: 0.3786 - val_loss: 2.1579 - val_categorical_accuracy: 0.2100\n",
            "Epoch 2/2\n",
            "23/23 [==============================] - ETA: 0s - batch: 11.0000 - size: 28.8261 - loss: 1.1431 - categorical_accuracy: 0.5732\n",
            "Epoch 00002: saving model to model_init_2021-03-1609_52_34.811732/model-00002-1.14314-0.57315-4.19798-0.16000.h5\n",
            "0\n",
            "23/23 [==============================] - 197s 9s/step - batch: 11.0000 - size: 28.8261 - loss: 1.1431 - categorical_accuracy: 0.5732 - val_loss: 4.1980 - val_categorical_accuracy: 0.1600\n"
          ],
          "name": "stdout"
        },
        {
          "output_type": "execute_result",
          "data": {
            "text/plain": [
              "<tensorflow.python.keras.callbacks.History at 0x7f4fa216ebd0>"
            ]
          },
          "metadata": {
            "tags": []
          },
          "execution_count": 20
        }
      ]
    },
    {
      "cell_type": "code",
      "metadata": {
        "id": "xReB_wtlNVrx",
        "colab": {
          "base_uri": "https://localhost:8080/"
        },
        "outputId": "aaca1524-d2ae-4fc9-cc34-ef4e1d6acea1"
      },
      "source": [
        "conv_3d1.clear_session(conv_3d1_model)\n",
        "conv_3d1=ModelConv3D1()\n",
        "conv_3d1.initialize_src_path(main_folder)\n",
        "conv_3d1.initialize_image_properties(image_height=100,image_width=100)\n",
        "conv_3d1.initialize_hyperparams(frames_to_sample=30,batch_size=60,num_epochs=2)\n",
        "conv_3d1_model=conv_3d1.define_model()\n",
        "print(\"Total Params:\", conv_3d1_model.count_params())\n",
        "conv_3d1.train_model(conv_3d1_model)"
      ],
      "execution_count": 21,
      "outputs": [
        {
          "output_type": "stream",
          "text": [
            "Total Params: 687813\n",
            "WARNING:tensorflow:`period` argument is deprecated. Please use `save_freq` to specify the frequency in number of batches seen.\n",
            "Epoch 1/2\n",
            "12/12 [==============================] - ETA: 0s - batch: 5.5000 - size: 55.2500 - loss: 1.6533 - categorical_accuracy: 0.3906 \n",
            "Epoch 00001: saving model to model_init_2021-03-1609_59_48.849128/model-00001-1.65330-0.39065-1.84520-0.16000.h5\n",
            "48\n",
            "12/12 [==============================] - 234s 19s/step - batch: 5.5000 - size: 55.2500 - loss: 1.6533 - categorical_accuracy: 0.3906 - val_loss: 1.8452 - val_categorical_accuracy: 0.1600\n",
            "Epoch 2/2\n",
            "12/12 [==============================] - ETA: 0s - batch: 5.5000 - size: 55.2500 - loss: 1.1881 - categorical_accuracy: 0.5520 \n",
            "Epoch 00002: saving model to model_init_2021-03-1609_59_48.849128/model-00002-1.18807-0.55204-3.28415-0.16000.h5\n",
            "0\n",
            "12/12 [==============================] - 209s 19s/step - batch: 5.5000 - size: 55.2500 - loss: 1.1881 - categorical_accuracy: 0.5520 - val_loss: 3.2842 - val_categorical_accuracy: 0.1600\n"
          ],
          "name": "stdout"
        },
        {
          "output_type": "execute_result",
          "data": {
            "text/plain": [
              "<tensorflow.python.keras.callbacks.History at 0x7f4fa04818d0>"
            ]
          },
          "metadata": {
            "tags": []
          },
          "execution_count": 21
        }
      ]
    },
    {
      "cell_type": "code",
      "metadata": {
        "id": "DoKopL3YNVry",
        "colab": {
          "base_uri": "https://localhost:8080/"
        },
        "outputId": "e926ad94-f5bb-440f-a4f5-f971641c7de6"
      },
      "source": [
        "conv_3d1.clear_session(conv_3d1_model)\n",
        "conv_3d1=ModelConv3D1()\n",
        "conv_3d1.initialize_src_path(main_folder)\n",
        "conv_3d1.initialize_image_properties(image_height=100,image_width=100)\n",
        "conv_3d1.initialize_hyperparams(frames_to_sample=16,batch_size=60,num_epochs=2)\n",
        "conv_3d1_model=conv_3d1.define_model()\n",
        "print(\"Total Params:\", conv_3d1_model.count_params())\n",
        "conv_3d1.train_model(conv_3d1_model)"
      ],
      "execution_count": 22,
      "outputs": [
        {
          "output_type": "stream",
          "text": [
            "Total Params: 687813\n",
            "WARNING:tensorflow:`period` argument is deprecated. Please use `save_freq` to specify the frequency in number of batches seen.\n",
            "Epoch 1/2\n",
            "12/12 [==============================] - ETA: 0s - batch: 5.5000 - size: 55.2500 - loss: 1.6485 - categorical_accuracy: 0.3680\n",
            "Epoch 00001: saving model to model_init_2021-03-1610_07_15.236343/model-00001-1.64850-0.36802-1.66884-0.24000.h5\n",
            "48\n",
            "12/12 [==============================] - 130s 10s/step - batch: 5.5000 - size: 55.2500 - loss: 1.6485 - categorical_accuracy: 0.3680 - val_loss: 1.6688 - val_categorical_accuracy: 0.2400\n",
            "Epoch 2/2\n",
            "11/12 [==========================>...] - ETA: 8s - batch: 5.0000 - size: 60.0000 - loss: 1.1689 - categorical_accuracy: 0.5530 \n",
            "Epoch 00002: saving model to model_init_2021-03-1610_07_15.236343/model-00002-1.19169-0.55204-1.85457-0.22000.h5\n",
            "0\n",
            "12/12 [==============================] - 109s 10s/step - batch: 5.5000 - size: 55.2500 - loss: 1.1917 - categorical_accuracy: 0.5520 - val_loss: 1.8546 - val_categorical_accuracy: 0.2200\n"
          ],
          "name": "stdout"
        },
        {
          "output_type": "execute_result",
          "data": {
            "text/plain": [
              "<tensorflow.python.keras.callbacks.History at 0x7f4f54b00d90>"
            ]
          },
          "metadata": {
            "tags": []
          },
          "execution_count": 22
        }
      ]
    },
    {
      "cell_type": "code",
      "metadata": {
        "id": "IHABNT4GNVry",
        "colab": {
          "base_uri": "https://localhost:8080/"
        },
        "outputId": "747ce63c-79ba-499f-ca32-5b5be6717571"
      },
      "source": [
        "conv_3d1.clear_session(conv_3d1_model)\n",
        "conv_3d1=ModelConv3D1()\n",
        "conv_3d1.initialize_src_path(main_folder)\n",
        "conv_3d1.initialize_image_properties(image_height=100,image_width=100)\n",
        "conv_3d1.initialize_hyperparams(frames_to_sample=16,batch_size=80,num_epochs=2)\n",
        "conv_3d1_model=conv_3d1.define_model()\n",
        "print(\"Total Params:\", conv_3d1_model.count_params())\n",
        "conv_3d1.train_model(conv_3d1_model)"
      ],
      "execution_count": 23,
      "outputs": [
        {
          "output_type": "stream",
          "text": [
            "Total Params: 687813\n",
            "WARNING:tensorflow:`period` argument is deprecated. Please use `save_freq` to specify the frequency in number of batches seen.\n",
            "Epoch 1/2\n",
            "9/9 [==============================] - ETA: 0s - batch: 4.0000 - size: 73.6667 - loss: 1.7151 - categorical_accuracy: 0.3725 \n",
            "Epoch 00001: saving model to model_init_2021-03-1610_11_16.996681/model-00001-1.71507-0.37255-1.64277-0.24000.h5\n",
            "48\n",
            "9/9 [==============================] - 134s 14s/step - batch: 4.0000 - size: 73.6667 - loss: 1.7151 - categorical_accuracy: 0.3725 - val_loss: 1.6428 - val_categorical_accuracy: 0.2400\n",
            "Epoch 2/2\n",
            "9/9 [==============================] - ETA: 0s - batch: 4.0000 - size: 73.6667 - loss: 1.1304 - categorical_accuracy: 0.5807 \n",
            "Epoch 00002: saving model to model_init_2021-03-1610_11_16.996681/model-00002-1.13041-0.58069-2.41928-0.16000.h5\n",
            "0\n",
            "9/9 [==============================] - 109s 14s/step - batch: 4.0000 - size: 73.6667 - loss: 1.1304 - categorical_accuracy: 0.5807 - val_loss: 2.4193 - val_categorical_accuracy: 0.1600\n"
          ],
          "name": "stdout"
        },
        {
          "output_type": "execute_result",
          "data": {
            "text/plain": [
              "<tensorflow.python.keras.callbacks.History at 0x7f4f56ddcd90>"
            ]
          },
          "metadata": {
            "tags": []
          },
          "execution_count": 23
        }
      ]
    },
    {
      "cell_type": "code",
      "metadata": {
        "id": "d2T9W4HyNVrz",
        "colab": {
          "base_uri": "https://localhost:8080/"
        },
        "outputId": "4516796c-2fd3-440b-ca73-074c4ab778d8"
      },
      "source": [
        "conv_3d1.clear_session(conv_3d1_model)\n",
        "conv_3d1=ModelConv3D1()\n",
        "conv_3d1.initialize_src_path(main_folder)\n",
        "conv_3d1.initialize_image_properties(image_height=160,image_width=160)\n",
        "conv_3d1.initialize_hyperparams(frames_to_sample=30,batch_size=15,num_epochs=2)\n",
        "conv_3d1_model=conv_3d1.define_model()\n",
        "print(\"Total Params:\", conv_3d1_model.count_params())\n",
        "conv_3d1.train_model(conv_3d1_model)"
      ],
      "execution_count": 24,
      "outputs": [
        {
          "output_type": "stream",
          "text": [
            "Total Params: 1736389\n",
            "WARNING:tensorflow:`period` argument is deprecated. Please use `save_freq` to specify the frequency in number of batches seen.\n",
            "Epoch 1/2\n",
            "45/45 [==============================] - ETA: 0s - batch: 22.0000 - size: 14.7333 - loss: 1.5826 - categorical_accuracy: 0.4329\n",
            "Epoch 00001: saving model to model_init_2021-03-1610_15_22.605423/model-00001-1.58257-0.43288-2.77167-0.24000.h5\n",
            "48\n",
            "45/45 [==============================] - 270s 6s/step - batch: 22.0000 - size: 14.7333 - loss: 1.5826 - categorical_accuracy: 0.4329 - val_loss: 2.7717 - val_categorical_accuracy: 0.2400\n",
            "Epoch 2/2\n",
            "45/45 [==============================] - ETA: 0s - batch: 22.0000 - size: 14.7333 - loss: 1.0508 - categorical_accuracy: 0.5882\n",
            "Epoch 00002: saving model to model_init_2021-03-1610_15_22.605423/model-00002-1.05078-0.58824-6.31989-0.17000.h5\n",
            "0\n",
            "45/45 [==============================] - 230s 5s/step - batch: 22.0000 - size: 14.7333 - loss: 1.0508 - categorical_accuracy: 0.5882 - val_loss: 6.3199 - val_categorical_accuracy: 0.1700\n"
          ],
          "name": "stdout"
        },
        {
          "output_type": "execute_result",
          "data": {
            "text/plain": [
              "<tensorflow.python.keras.callbacks.History at 0x7f4f57333cd0>"
            ]
          },
          "metadata": {
            "tags": []
          },
          "execution_count": 24
        }
      ]
    },
    {
      "cell_type": "code",
      "metadata": {
        "id": "25WU3xHcNVrz",
        "colab": {
          "base_uri": "https://localhost:8080/"
        },
        "outputId": "43fac2c5-a60e-42fc-f845-a38fa0855e8d"
      },
      "source": [
        "conv_3d1.clear_session(conv_3d1_model)\n",
        "conv_3d1=ModelConv3D1()\n",
        "conv_3d1.initialize_src_path(main_folder)\n",
        "conv_3d1.initialize_image_properties(image_height=160,image_width=160)\n",
        "conv_3d1.initialize_hyperparams(frames_to_sample=16,batch_size=15,num_epochs=2)\n",
        "conv_3d1_model=conv_3d1.define_model()\n",
        "print(\"Total Params:\", conv_3d1_model.count_params())\n",
        "conv_3d1.train_model(conv_3d1_model)"
      ],
      "execution_count": 25,
      "outputs": [
        {
          "output_type": "stream",
          "text": [
            "Total Params: 1736389\n",
            "WARNING:tensorflow:`period` argument is deprecated. Please use `save_freq` to specify the frequency in number of batches seen.\n",
            "Epoch 1/2\n",
            "45/45 [==============================] - ETA: 0s - batch: 22.0000 - size: 14.7333 - loss: 1.6042 - categorical_accuracy: 0.4314\n",
            "Epoch 00001: saving model to model_init_2021-03-1610_23_44.926336/model-00001-1.60423-0.43137-5.21009-0.21000.h5\n",
            "48\n",
            "45/45 [==============================] - 146s 3s/step - batch: 22.0000 - size: 14.7333 - loss: 1.6042 - categorical_accuracy: 0.4314 - val_loss: 5.2101 - val_categorical_accuracy: 0.2100\n",
            "Epoch 2/2\n",
            "45/45 [==============================] - ETA: 0s - batch: 22.0000 - size: 14.7333 - loss: 1.0936 - categorical_accuracy: 0.5747\n",
            "Epoch 00002: saving model to model_init_2021-03-1610_23_44.926336/model-00002-1.09355-0.57466-6.48449-0.21000.h5\n",
            "0\n",
            "45/45 [==============================] - 122s 3s/step - batch: 22.0000 - size: 14.7333 - loss: 1.0936 - categorical_accuracy: 0.5747 - val_loss: 6.4845 - val_categorical_accuracy: 0.2100\n"
          ],
          "name": "stdout"
        },
        {
          "output_type": "execute_result",
          "data": {
            "text/plain": [
              "<tensorflow.python.keras.callbacks.History at 0x7f4f57b2f110>"
            ]
          },
          "metadata": {
            "tags": []
          },
          "execution_count": 25
        }
      ]
    },
    {
      "cell_type": "code",
      "metadata": {
        "id": "KPzFJDfUNVr0",
        "colab": {
          "base_uri": "https://localhost:8080/"
        },
        "outputId": "4b10fa7f-dc4b-434a-9d34-0257218161fe"
      },
      "source": [
        "conv_3d1.clear_session(conv_3d1_model)\n",
        "conv_3d1=ModelConv3D1()\n",
        "conv_3d1.initialize_src_path(main_folder)\n",
        "conv_3d1.initialize_image_properties(image_height=100,image_width=100)\n",
        "conv_3d1.initialize_hyperparams(frames_to_sample=16,batch_size=15,num_epochs=2)\n",
        "conv_3d1_model=conv_3d1.define_model()\n",
        "print(\"Total Params:\", conv_3d1_model.count_params())\n",
        "conv_3d1.train_model(conv_3d1_model)"
      ],
      "execution_count": 26,
      "outputs": [
        {
          "output_type": "stream",
          "text": [
            "Total Params: 687813\n",
            "WARNING:tensorflow:`period` argument is deprecated. Please use `save_freq` to specify the frequency in number of batches seen.\n",
            "Epoch 1/2\n",
            "45/45 [==============================] - ETA: 0s - batch: 22.0000 - size: 14.7333 - loss: 1.7345 - categorical_accuracy: 0.3484\n",
            "Epoch 00001: saving model to model_init_2021-03-1610_28_15.853693/model-00001-1.73454-0.34842-2.44110-0.21000.h5\n",
            "48\n",
            "45/45 [==============================] - 127s 3s/step - batch: 22.0000 - size: 14.7333 - loss: 1.7345 - categorical_accuracy: 0.3484 - val_loss: 2.4411 - val_categorical_accuracy: 0.2100\n",
            "Epoch 2/2\n",
            "45/45 [==============================] - ETA: 0s - batch: 22.0000 - size: 14.7333 - loss: 1.2101 - categorical_accuracy: 0.5324\n",
            "Epoch 00002: saving model to model_init_2021-03-1610_28_15.853693/model-00002-1.21005-0.53243-2.75558-0.23000.h5\n",
            "0\n",
            "45/45 [==============================] - 107s 2s/step - batch: 22.0000 - size: 14.7333 - loss: 1.2101 - categorical_accuracy: 0.5324 - val_loss: 2.7556 - val_categorical_accuracy: 0.2300\n"
          ],
          "name": "stdout"
        },
        {
          "output_type": "execute_result",
          "data": {
            "text/plain": [
              "<tensorflow.python.keras.callbacks.History at 0x7f4f575a6e50>"
            ]
          },
          "metadata": {
            "tags": []
          },
          "execution_count": 26
        }
      ]
    },
    {
      "cell_type": "code",
      "metadata": {
        "id": "zdQ6Aed-NVr4",
        "colab": {
          "base_uri": "https://localhost:8080/"
        },
        "outputId": "3dae2a36-e7c4-41c6-8008-0559e0c8d0a6"
      },
      "source": [
        "conv_3d1.clear_session(conv_3d1_model)\n",
        "conv_3d1=ModelConv3D1()\n",
        "conv_3d1.initialize_src_path(main_folder)\n",
        "conv_3d1.initialize_image_properties(image_height=100,image_width=100)\n",
        "conv_3d1.initialize_hyperparams(frames_to_sample=16,batch_size=10,num_epochs=2)\n",
        "conv_3d1_model=conv_3d1.define_model()\n",
        "print(\"Total Params:\", conv_3d1_model.count_params())\n",
        "conv_3d1.train_model(conv_3d1_model)"
      ],
      "execution_count": 27,
      "outputs": [
        {
          "output_type": "stream",
          "text": [
            "Total Params: 687813\n",
            "WARNING:tensorflow:`period` argument is deprecated. Please use `save_freq` to specify the frequency in number of batches seen.\n",
            "Epoch 1/2\n",
            "67/67 [==============================] - ETA: 0s - batch: 33.0000 - size: 9.8955 - loss: 1.6351 - categorical_accuracy: 0.3861 \n",
            "Epoch 00001: saving model to model_init_2021-03-1610_32_12.275621/model-00001-1.63514-0.38612-5.49332-0.16000.h5\n",
            "48\n",
            "67/67 [==============================] - 125s 2s/step - batch: 33.0000 - size: 9.8955 - loss: 1.6351 - categorical_accuracy: 0.3861 - val_loss: 5.4933 - val_categorical_accuracy: 0.1600\n",
            "Epoch 2/2\n",
            "67/67 [==============================] - ETA: 0s - batch: 33.0000 - size: 9.8955 - loss: 1.2190 - categorical_accuracy: 0.5219 \n",
            "Epoch 00002: saving model to model_init_2021-03-1610_32_12.275621/model-00002-1.21904-0.52187-7.80837-0.16000.h5\n",
            "0\n",
            "67/67 [==============================] - 106s 2s/step - batch: 33.0000 - size: 9.8955 - loss: 1.2190 - categorical_accuracy: 0.5219 - val_loss: 7.8084 - val_categorical_accuracy: 0.1600\n"
          ],
          "name": "stdout"
        },
        {
          "output_type": "execute_result",
          "data": {
            "text/plain": [
              "<tensorflow.python.keras.callbacks.History at 0x7f4f569fe710>"
            ]
          },
          "metadata": {
            "tags": []
          },
          "execution_count": 27
        }
      ]
    },
    {
      "cell_type": "code",
      "metadata": {
        "id": "1OYsvNb7NVr5",
        "colab": {
          "base_uri": "https://localhost:8080/"
        },
        "outputId": "1110512e-8518-41ad-fe55-c32d0c68ab61"
      },
      "source": [
        "conv_3d1.clear_session(conv_3d1_model)\n",
        "conv_3d1=ModelConv3D1()\n",
        "conv_3d1.initialize_src_path(main_folder)\n",
        "conv_3d1.initialize_image_properties(image_height=100,image_width=100)\n",
        "conv_3d1.initialize_hyperparams(frames_to_sample=30,batch_size=10,num_epochs=2)\n",
        "conv_3d1_model=conv_3d1.define_model()\n",
        "print(\"Total Params:\", conv_3d1_model.count_params())\n",
        "conv_3d1.train_model(conv_3d1_model)"
      ],
      "execution_count": 28,
      "outputs": [
        {
          "output_type": "stream",
          "text": [
            "Total Params: 687813\n",
            "WARNING:tensorflow:`period` argument is deprecated. Please use `save_freq` to specify the frequency in number of batches seen.\n",
            "Epoch 1/2\n",
            "67/67 [==============================] - ETA: 0s - batch: 33.0000 - size: 9.8955 - loss: 1.6592 - categorical_accuracy: 0.3650 \n",
            "Epoch 00001: saving model to model_init_2021-03-1610_36_04.606069/model-00001-1.65924-0.36501-4.66347-0.16000.h5\n",
            "48\n",
            "67/67 [==============================] - 226s 3s/step - batch: 33.0000 - size: 9.8955 - loss: 1.6592 - categorical_accuracy: 0.3650 - val_loss: 4.6635 - val_categorical_accuracy: 0.1600\n",
            "Epoch 2/2\n",
            "67/67 [==============================] - ETA: 0s - batch: 33.0000 - size: 9.8955 - loss: 1.2444 - categorical_accuracy: 0.5068 \n",
            "Epoch 00002: saving model to model_init_2021-03-1610_36_04.606069/model-00002-1.24444-0.50679-9.06098-0.17000.h5\n",
            "0\n",
            "67/67 [==============================] - 208s 3s/step - batch: 33.0000 - size: 9.8955 - loss: 1.2444 - categorical_accuracy: 0.5068 - val_loss: 9.0610 - val_categorical_accuracy: 0.1700\n"
          ],
          "name": "stdout"
        },
        {
          "output_type": "execute_result",
          "data": {
            "text/plain": [
              "<tensorflow.python.keras.callbacks.History at 0x7f4fa1ee9850>"
            ]
          },
          "metadata": {
            "tags": []
          },
          "execution_count": 28
        }
      ]
    },
    {
      "cell_type": "code",
      "metadata": {
        "id": "6D4BJx6gNVr6",
        "colab": {
          "base_uri": "https://localhost:8080/"
        },
        "outputId": "cb8dd42d-e5a3-4023-d686-16cee0d4f611"
      },
      "source": [
        "conv_3d1.clear_session(conv_3d1_model)\n",
        "conv_3d1=ModelConv3D1()\n",
        "conv_3d1.initialize_src_path(main_folder)\n",
        "conv_3d1.initialize_image_properties(image_height=160,image_width=160)\n",
        "conv_3d1.initialize_hyperparams(frames_to_sample=30,batch_size=10,num_epochs=2)\n",
        "conv_3d1_model=conv_3d1.define_model()\n",
        "print(\"Total Params:\", conv_3d1_model.count_params())\n",
        "conv_3d1.train_model(conv_3d1_model)"
      ],
      "execution_count": 29,
      "outputs": [
        {
          "output_type": "stream",
          "text": [
            "Total Params: 1736389\n",
            "WARNING:tensorflow:`period` argument is deprecated. Please use `save_freq` to specify the frequency in number of batches seen.\n",
            "Epoch 1/2\n",
            "67/67 [==============================] - ETA: 0s - batch: 33.0000 - size: 9.8955 - loss: 1.5864 - categorical_accuracy: 0.4389 \n",
            "Epoch 00001: saving model to model_init_2021-03-1610_43_20.193678/model-00001-1.58642-0.43891-7.43368-0.16000.h5\n",
            "48\n",
            "67/67 [==============================] - 265s 4s/step - batch: 33.0000 - size: 9.8955 - loss: 1.5864 - categorical_accuracy: 0.4389 - val_loss: 7.4337 - val_categorical_accuracy: 0.1600\n",
            "Epoch 2/2\n",
            "67/67 [==============================] - ETA: 0s - batch: 33.0000 - size: 9.8955 - loss: 1.2252 - categorical_accuracy: 0.5475 \n",
            "Epoch 00002: saving model to model_init_2021-03-1610_43_20.193678/model-00002-1.22516-0.54751-7.87354-0.31000.h5\n",
            "0\n",
            "67/67 [==============================] - 228s 3s/step - batch: 33.0000 - size: 9.8955 - loss: 1.2252 - categorical_accuracy: 0.5475 - val_loss: 7.8735 - val_categorical_accuracy: 0.3100\n"
          ],
          "name": "stdout"
        },
        {
          "output_type": "execute_result",
          "data": {
            "text/plain": [
              "<tensorflow.python.keras.callbacks.History at 0x7f4fa19bec90>"
            ]
          },
          "metadata": {
            "tags": []
          },
          "execution_count": 29
        }
      ]
    },
    {
      "cell_type": "code",
      "metadata": {
        "id": "oo38TA_HNVr6",
        "colab": {
          "base_uri": "https://localhost:8080/"
        },
        "outputId": "ab293f6c-0726-4c72-e321-90be0f8e5e87"
      },
      "source": [
        "conv_3d1.clear_session(conv_3d1_model)\n",
        "conv_3d1=ModelConv3D1()\n",
        "conv_3d1.initialize_src_path(main_folder)\n",
        "conv_3d1.initialize_image_properties(image_height=160,image_width=160)\n",
        "conv_3d1.initialize_hyperparams(frames_to_sample=16,batch_size=10,num_epochs=2)\n",
        "conv_3d1_model=conv_3d1.define_model()\n",
        "print(\"Total Params:\", conv_3d1_model.count_params())\n",
        "conv_3d1.train_model(conv_3d1_model)"
      ],
      "execution_count": 30,
      "outputs": [
        {
          "output_type": "stream",
          "text": [
            "Total Params: 1736389\n",
            "WARNING:tensorflow:`period` argument is deprecated. Please use `save_freq` to specify the frequency in number of batches seen.\n",
            "Epoch 1/2\n",
            "67/67 [==============================] - ETA: 0s - batch: 33.0000 - size: 9.8955 - loss: 1.6417 - categorical_accuracy: 0.4103 \n",
            "Epoch 00001: saving model to model_init_2021-03-1610_51_34.371538/model-00001-1.64168-0.41026-10.58059-0.21000.h5\n",
            "48\n",
            "67/67 [==============================] - 145s 2s/step - batch: 33.0000 - size: 9.8955 - loss: 1.6417 - categorical_accuracy: 0.4103 - val_loss: 10.5806 - val_categorical_accuracy: 0.2100\n",
            "Epoch 2/2\n",
            "67/67 [==============================] - ETA: 0s - batch: 33.0000 - size: 9.8955 - loss: 1.3090 - categorical_accuracy: 0.4796 \n",
            "Epoch 00002: saving model to model_init_2021-03-1610_51_34.371538/model-00002-1.30897-0.47964-10.01504-0.23000.h5\n",
            "0\n",
            "67/67 [==============================] - 124s 2s/step - batch: 33.0000 - size: 9.8955 - loss: 1.3090 - categorical_accuracy: 0.4796 - val_loss: 10.0150 - val_categorical_accuracy: 0.2300\n"
          ],
          "name": "stdout"
        },
        {
          "output_type": "execute_result",
          "data": {
            "text/plain": [
              "<tensorflow.python.keras.callbacks.History at 0x7f4f5d0b4350>"
            ]
          },
          "metadata": {
            "tags": []
          },
          "execution_count": 30
        }
      ]
    },
    {
      "cell_type": "code",
      "metadata": {
        "id": "ns4lmR9bNVr7",
        "colab": {
          "base_uri": "https://localhost:8080/"
        },
        "outputId": "8869bc71-84a2-4dd7-d348-2f079f56d082"
      },
      "source": [
        "conv_3d1.clear_session(conv_3d1_model)\n",
        "conv_3d1=ModelConv3D1()\n",
        "conv_3d1.initialize_src_path(main_folder)\n",
        "conv_3d1.initialize_image_properties(image_height=160,image_width=160)\n",
        "conv_3d1.initialize_hyperparams(frames_to_sample=16,batch_size=40,num_epochs=2)\n",
        "conv_3d1_model=conv_3d1.define_model()\n",
        "print(\"Total Params:\", conv_3d1_model.count_params())\n",
        "conv_3d1.train_model(conv_3d1_model)"
      ],
      "execution_count": 31,
      "outputs": [
        {
          "output_type": "stream",
          "text": [
            "Total Params: 1736389\n",
            "WARNING:tensorflow:`period` argument is deprecated. Please use `save_freq` to specify the frequency in number of batches seen.\n",
            "Epoch 1/2\n",
            "17/17 [==============================] - ETA: 0s - batch: 8.0000 - size: 39.0000 - loss: 1.5491 - categorical_accuracy: 0.4434\n",
            "Epoch 00001: saving model to model_init_2021-03-1610_56_05.542566/model-00001-1.54910-0.44344-1.92613-0.21000.h5\n",
            "48\n",
            "17/17 [==============================] - 144s 8s/step - batch: 8.0000 - size: 39.0000 - loss: 1.5491 - categorical_accuracy: 0.4434 - val_loss: 1.9261 - val_categorical_accuracy: 0.2100\n",
            "Epoch 2/2\n",
            "17/17 [==============================] - ETA: 0s - batch: 8.0000 - size: 39.0000 - loss: 0.9681 - categorical_accuracy: 0.6425\n",
            "Epoch 00002: saving model to model_init_2021-03-1610_56_05.542566/model-00002-0.96810-0.64253-4.35986-0.18000.h5\n",
            "0\n",
            "17/17 [==============================] - 125s 8s/step - batch: 8.0000 - size: 39.0000 - loss: 0.9681 - categorical_accuracy: 0.6425 - val_loss: 4.3599 - val_categorical_accuracy: 0.1800\n"
          ],
          "name": "stdout"
        },
        {
          "output_type": "execute_result",
          "data": {
            "text/plain": [
              "<tensorflow.python.keras.callbacks.History at 0x7f4f5cb8cdd0>"
            ]
          },
          "metadata": {
            "tags": []
          },
          "execution_count": 31
        }
      ]
    },
    {
      "cell_type": "markdown",
      "metadata": {
        "id": "vVh5rIRCNVr7"
      },
      "source": [
        "### Observation\n",
        "\n",
        "**As we see from the above experiments image resolution and number of frames in sequence have more impact on training time than batch_size.**\n",
        "\n",
        "So experimentations are carried with batch size fixed around 15-40 and changing the resolution and number of image per sequence based on the device memory constraints . Models are designed such that their memory foot print is less than 50 MB which corresponds to 4.3 million parameters assuming the datatype size of parameters to be 12 bytes"
      ]
    },
    {
      "cell_type": "markdown",
      "metadata": {
        "id": "ZKbxe-Szy15j"
      },
      "source": [
        "## Model 1 - Base Model - No Data Augmentation Batch Size 40 and Epoch 15"
      ]
    },
    {
      "cell_type": "code",
      "metadata": {
        "id": "7LVQM4NsNVr7"
      },
      "source": [
        "class ModelConv3D1(ModelBuilder):\r\n",
        "    \r\n",
        "    def define_model(self,filtersize=(3,3,3),dense_neurons=64,dropout=0.25):\r\n",
        "\r\n",
        "        model = Sequential()\r\n",
        "        model.add(Conv3D(16, filtersize, padding='same',\r\n",
        "                 input_shape=(self.frames_to_sample,self.image_height,self.image_width,self.channels)))\r\n",
        "        model.add(Activation('relu'))\r\n",
        "        model.add(BatchNormalization())\r\n",
        "        model.add(MaxPooling3D(pool_size=(2, 2, 2)))\r\n",
        "\r\n",
        "        model.add(Conv3D(32, filtersize, padding='same'))\r\n",
        "        model.add(Activation('relu'))\r\n",
        "        model.add(BatchNormalization())\r\n",
        "        model.add(MaxPooling3D(pool_size=(2, 2, 2)))\r\n",
        "\r\n",
        "        model.add(Conv3D(64, filtersize, padding='same'))\r\n",
        "        model.add(Activation('relu'))\r\n",
        "        model.add(BatchNormalization())\r\n",
        "        model.add(MaxPooling3D(pool_size=(2, 2, 2)))\r\n",
        "\r\n",
        "        model.add(Conv3D(128, filtersize, padding='same'))\r\n",
        "        model.add(Activation('relu'))\r\n",
        "        model.add(BatchNormalization())\r\n",
        "        model.add(MaxPooling3D(pool_size=(2, 2, 2)))\r\n",
        "\r\n",
        "        model.add(Flatten())\r\n",
        "        model.add(Dense(dense_neurons,activation='relu'))\r\n",
        "        model.add(BatchNormalization())\r\n",
        "        model.add(Dropout(dropout))\r\n",
        "\r\n",
        "        model.add(Dense(dense_neurons,activation='relu'))\r\n",
        "        model.add(BatchNormalization())\r\n",
        "        model.add(Dropout(dropout))\r\n",
        "\r\n",
        "\r\n",
        "        model.add(Dense(self.num_classes,activation='softmax'))\r\n",
        "\r\n",
        "        optimiser = optimizers.Adam()\r\n",
        "        model.compile(optimizer=optimiser, loss='categorical_crossentropy', metrics=['categorical_accuracy'])\r\n",
        "        return model"
      ],
      "execution_count": 32,
      "outputs": []
    },
    {
      "cell_type": "code",
      "metadata": {
        "colab": {
          "base_uri": "https://localhost:8080/"
        },
        "id": "-89dV5W8WAw3",
        "outputId": "afc3362a-f256-4560-d2ae-6759b3f8c856"
      },
      "source": [
        "conv_3d1.clear_session(conv_3d1_model)\r\n",
        "Conv3D1=ModelConv3D1()\r\n",
        "Conv3D1.initialize_src_path(main_folder)\r\n",
        "Conv3D1.initialize_image_properties(image_height=160,image_width=160)\r\n",
        "Conv3D1.initialize_hyperparams(frames_to_sample=20,batch_size=40,num_epochs=15)\r\n",
        "Conv3D1_model=Conv3D1.define_model()\r\n",
        "Conv3D1_model.summary()"
      ],
      "execution_count": 33,
      "outputs": [
        {
          "output_type": "stream",
          "text": [
            "Model: \"sequential\"\n",
            "_________________________________________________________________\n",
            "Layer (type)                 Output Shape              Param #   \n",
            "=================================================================\n",
            "conv3d (Conv3D)              (None, 20, 160, 160, 16)  1312      \n",
            "_________________________________________________________________\n",
            "activation (Activation)      (None, 20, 160, 160, 16)  0         \n",
            "_________________________________________________________________\n",
            "batch_normalization (BatchNo (None, 20, 160, 160, 16)  64        \n",
            "_________________________________________________________________\n",
            "max_pooling3d (MaxPooling3D) (None, 10, 80, 80, 16)    0         \n",
            "_________________________________________________________________\n",
            "conv3d_1 (Conv3D)            (None, 10, 80, 80, 32)    13856     \n",
            "_________________________________________________________________\n",
            "activation_1 (Activation)    (None, 10, 80, 80, 32)    0         \n",
            "_________________________________________________________________\n",
            "batch_normalization_1 (Batch (None, 10, 80, 80, 32)    128       \n",
            "_________________________________________________________________\n",
            "max_pooling3d_1 (MaxPooling3 (None, 5, 40, 40, 32)     0         \n",
            "_________________________________________________________________\n",
            "conv3d_2 (Conv3D)            (None, 5, 40, 40, 64)     55360     \n",
            "_________________________________________________________________\n",
            "activation_2 (Activation)    (None, 5, 40, 40, 64)     0         \n",
            "_________________________________________________________________\n",
            "batch_normalization_2 (Batch (None, 5, 40, 40, 64)     256       \n",
            "_________________________________________________________________\n",
            "max_pooling3d_2 (MaxPooling3 (None, 2, 20, 20, 64)     0         \n",
            "_________________________________________________________________\n",
            "conv3d_3 (Conv3D)            (None, 2, 20, 20, 128)    221312    \n",
            "_________________________________________________________________\n",
            "activation_3 (Activation)    (None, 2, 20, 20, 128)    0         \n",
            "_________________________________________________________________\n",
            "batch_normalization_3 (Batch (None, 2, 20, 20, 128)    512       \n",
            "_________________________________________________________________\n",
            "max_pooling3d_3 (MaxPooling3 (None, 1, 10, 10, 128)    0         \n",
            "_________________________________________________________________\n",
            "flatten (Flatten)            (None, 12800)             0         \n",
            "_________________________________________________________________\n",
            "dense (Dense)                (None, 64)                819264    \n",
            "_________________________________________________________________\n",
            "batch_normalization_4 (Batch (None, 64)                256       \n",
            "_________________________________________________________________\n",
            "dropout (Dropout)            (None, 64)                0         \n",
            "_________________________________________________________________\n",
            "dense_1 (Dense)              (None, 64)                4160      \n",
            "_________________________________________________________________\n",
            "batch_normalization_5 (Batch (None, 64)                256       \n",
            "_________________________________________________________________\n",
            "dropout_1 (Dropout)          (None, 64)                0         \n",
            "_________________________________________________________________\n",
            "dense_2 (Dense)              (None, 5)                 325       \n",
            "=================================================================\n",
            "Total params: 1,117,061\n",
            "Trainable params: 1,116,325\n",
            "Non-trainable params: 736\n",
            "_________________________________________________________________\n"
          ],
          "name": "stdout"
        }
      ]
    },
    {
      "cell_type": "code",
      "metadata": {
        "colab": {
          "base_uri": "https://localhost:8080/"
        },
        "id": "5j884vjoWQD0",
        "outputId": "d65930b7-a725-4c8b-e2ec-523859521729"
      },
      "source": [
        "print(\"Total Params:\", Conv3D1_model.count_params())\r\n",
        "accuracy_check_model_1 = Conv3D1.train_model(Conv3D1_model)"
      ],
      "execution_count": 34,
      "outputs": [
        {
          "output_type": "stream",
          "text": [
            "Total Params: 1117061\n",
            "WARNING:tensorflow:`period` argument is deprecated. Please use `save_freq` to specify the frequency in number of batches seen.\n",
            "Epoch 1/15\n",
            "17/17 [==============================] - ETA: 0s - batch: 8.0000 - size: 39.0000 - loss: 1.4599 - categorical_accuracy: 0.4359\n",
            "Epoch 00001: saving model to model_init_2021-03-1611_00_37.773482/model-00001-1.45995-0.43590-2.27087-0.21000.h5\n",
            "48\n",
            "17/17 [==============================] - 183s 10s/step - batch: 8.0000 - size: 39.0000 - loss: 1.4599 - categorical_accuracy: 0.4359 - val_loss: 2.2709 - val_categorical_accuracy: 0.2100\n",
            "Epoch 2/15\n",
            "17/17 [==============================] - ETA: 0s - batch: 8.0000 - size: 39.0000 - loss: 0.9652 - categorical_accuracy: 0.6244\n",
            "Epoch 00002: saving model to model_init_2021-03-1611_00_37.773482/model-00002-0.96520-0.62443-3.57726-0.23000.h5\n",
            "0\n",
            "17/17 [==============================] - 157s 10s/step - batch: 8.0000 - size: 39.0000 - loss: 0.9652 - categorical_accuracy: 0.6244 - val_loss: 3.5773 - val_categorical_accuracy: 0.2300\n",
            "Epoch 3/15\n",
            "17/17 [==============================] - ETA: 0s - batch: 8.0000 - size: 39.0000 - loss: 0.7494 - categorical_accuracy: 0.7255\n",
            "Epoch 00003: saving model to model_init_2021-03-1611_00_37.773482/model-00003-0.74938-0.72549-4.74245-0.22000.h5\n",
            "0\n",
            "17/17 [==============================] - 154s 10s/step - batch: 8.0000 - size: 39.0000 - loss: 0.7494 - categorical_accuracy: 0.7255 - val_loss: 4.7424 - val_categorical_accuracy: 0.2200\n",
            "Epoch 4/15\n",
            "17/17 [==============================] - ETA: 0s - batch: 8.0000 - size: 39.0000 - loss: 0.6639 - categorical_accuracy: 0.7526\n",
            "Epoch 00004: saving model to model_init_2021-03-1611_00_37.773482/model-00004-0.66387-0.75264-3.39949-0.21000.h5\n",
            "0\n",
            "17/17 [==============================] - 154s 10s/step - batch: 8.0000 - size: 39.0000 - loss: 0.6639 - categorical_accuracy: 0.7526 - val_loss: 3.3995 - val_categorical_accuracy: 0.2100\n",
            "Epoch 5/15\n",
            "17/17 [==============================] - ETA: 0s - batch: 8.0000 - size: 39.0000 - loss: 0.4698 - categorical_accuracy: 0.8265\n",
            "Epoch 00005: saving model to model_init_2021-03-1611_00_37.773482/model-00005-0.46979-0.82655-4.89329-0.17000.h5\n",
            "\n",
            "Epoch 00005: ReduceLROnPlateau reducing learning rate to 0.00020000000949949026.\n",
            "0\n",
            "17/17 [==============================] - 155s 10s/step - batch: 8.0000 - size: 39.0000 - loss: 0.4698 - categorical_accuracy: 0.8265 - val_loss: 4.8933 - val_categorical_accuracy: 0.1700\n",
            "Epoch 6/15\n",
            "17/17 [==============================] - ETA: 0s - batch: 8.0000 - size: 39.0000 - loss: 0.4118 - categorical_accuracy: 0.8446\n",
            "Epoch 00006: saving model to model_init_2021-03-1611_00_37.773482/model-00006-0.41182-0.84465-4.39975-0.25000.h5\n",
            "0\n",
            "17/17 [==============================] - 158s 10s/step - batch: 8.0000 - size: 39.0000 - loss: 0.4118 - categorical_accuracy: 0.8446 - val_loss: 4.3997 - val_categorical_accuracy: 0.2500\n",
            "Epoch 7/15\n",
            "17/17 [==============================] - ETA: 0s - batch: 8.0000 - size: 39.0000 - loss: 0.2987 - categorical_accuracy: 0.9050\n",
            "Epoch 00007: saving model to model_init_2021-03-1611_00_37.773482/model-00007-0.29869-0.90498-5.04272-0.21000.h5\n",
            "0\n",
            "17/17 [==============================] - 154s 10s/step - batch: 8.0000 - size: 39.0000 - loss: 0.2987 - categorical_accuracy: 0.9050 - val_loss: 5.0427 - val_categorical_accuracy: 0.2100\n",
            "Epoch 8/15\n",
            "17/17 [==============================] - ETA: 0s - batch: 8.0000 - size: 39.0000 - loss: 0.2850 - categorical_accuracy: 0.9155\n",
            "Epoch 00008: saving model to model_init_2021-03-1611_00_37.773482/model-00008-0.28500-0.91554-5.65427-0.21000.h5\n",
            "0\n",
            "17/17 [==============================] - 155s 10s/step - batch: 8.0000 - size: 39.0000 - loss: 0.2850 - categorical_accuracy: 0.9155 - val_loss: 5.6543 - val_categorical_accuracy: 0.2100\n",
            "Epoch 9/15\n",
            "17/17 [==============================] - ETA: 0s - batch: 8.0000 - size: 39.0000 - loss: 0.2554 - categorical_accuracy: 0.9336\n",
            "Epoch 00009: saving model to model_init_2021-03-1611_00_37.773482/model-00009-0.25535-0.93363-5.95702-0.21000.h5\n",
            "\n",
            "Epoch 00009: ReduceLROnPlateau reducing learning rate to 4.0000001899898055e-05.\n",
            "0\n",
            "17/17 [==============================] - 157s 10s/step - batch: 8.0000 - size: 39.0000 - loss: 0.2554 - categorical_accuracy: 0.9336 - val_loss: 5.9570 - val_categorical_accuracy: 0.2100\n",
            "Epoch 10/15\n",
            "17/17 [==============================] - ETA: 0s - batch: 8.0000 - size: 39.0000 - loss: 0.2278 - categorical_accuracy: 0.9351\n",
            "Epoch 00010: saving model to model_init_2021-03-1611_00_37.773482/model-00010-0.22785-0.93514-6.36046-0.21000.h5\n",
            "0\n",
            "17/17 [==============================] - 153s 10s/step - batch: 8.0000 - size: 39.0000 - loss: 0.2278 - categorical_accuracy: 0.9351 - val_loss: 6.3605 - val_categorical_accuracy: 0.2100\n",
            "Epoch 11/15\n",
            "17/17 [==============================] - ETA: 0s - batch: 8.0000 - size: 39.0000 - loss: 0.2124 - categorical_accuracy: 0.9517\n",
            "Epoch 00011: saving model to model_init_2021-03-1611_00_37.773482/model-00011-0.21244-0.95173-6.61758-0.19000.h5\n",
            "0\n",
            "17/17 [==============================] - 157s 10s/step - batch: 8.0000 - size: 39.0000 - loss: 0.2124 - categorical_accuracy: 0.9517 - val_loss: 6.6176 - val_categorical_accuracy: 0.1900\n",
            "Epoch 12/15\n",
            "17/17 [==============================] - ETA: 0s - batch: 8.0000 - size: 39.0000 - loss: 0.2143 - categorical_accuracy: 0.9457\n",
            "Epoch 00012: saving model to model_init_2021-03-1611_00_37.773482/model-00012-0.21432-0.94570-6.37276-0.24000.h5\n",
            "0\n",
            "17/17 [==============================] - 159s 10s/step - batch: 8.0000 - size: 39.0000 - loss: 0.2143 - categorical_accuracy: 0.9457 - val_loss: 6.3728 - val_categorical_accuracy: 0.2400\n",
            "Epoch 13/15\n",
            "17/17 [==============================] - ETA: 0s - batch: 8.0000 - size: 39.0000 - loss: 0.2184 - categorical_accuracy: 0.9472\n",
            "Epoch 00013: saving model to model_init_2021-03-1611_00_37.773482/model-00013-0.21837-0.94721-6.53760-0.21000.h5\n",
            "\n",
            "Epoch 00013: ReduceLROnPlateau reducing learning rate to 8.000000525498762e-06.\n",
            "0\n",
            "17/17 [==============================] - 153s 9s/step - batch: 8.0000 - size: 39.0000 - loss: 0.2184 - categorical_accuracy: 0.9472 - val_loss: 6.5376 - val_categorical_accuracy: 0.2100\n",
            "Epoch 14/15\n",
            "17/17 [==============================] - ETA: 0s - batch: 8.0000 - size: 39.0000 - loss: 0.1967 - categorical_accuracy: 0.9412\n",
            "Epoch 00014: saving model to model_init_2021-03-1611_00_37.773482/model-00014-0.19666-0.94118-6.68050-0.23000.h5\n",
            "0\n",
            "17/17 [==============================] - 157s 10s/step - batch: 8.0000 - size: 39.0000 - loss: 0.1967 - categorical_accuracy: 0.9412 - val_loss: 6.6805 - val_categorical_accuracy: 0.2300\n",
            "Epoch 15/15\n",
            "17/17 [==============================] - ETA: 0s - batch: 8.0000 - size: 39.0000 - loss: 0.1925 - categorical_accuracy: 0.9548\n",
            "Epoch 00015: saving model to model_init_2021-03-1611_00_37.773482/model-00015-0.19254-0.95475-6.63226-0.19000.h5\n",
            "0\n",
            "17/17 [==============================] - 155s 10s/step - batch: 8.0000 - size: 39.0000 - loss: 0.1925 - categorical_accuracy: 0.9548 - val_loss: 6.6323 - val_categorical_accuracy: 0.1900\n"
          ],
          "name": "stdout"
        }
      ]
    },
    {
      "cell_type": "code",
      "metadata": {
        "colab": {
          "base_uri": "https://localhost:8080/",
          "height": 269
        },
        "id": "r00TPGbNXXhX",
        "outputId": "7a7b9ac5-d2d6-4f12-a0ad-b2966924c0f5"
      },
      "source": [
        "plot(accuracy_check_model_1)"
      ],
      "execution_count": 37,
      "outputs": [
        {
          "output_type": "display_data",
          "data": {
            "image/png": "[encoded data removed]",
            "text/plain": [
              "<Figure size 1080x288 with 2 Axes>"
            ]
          },
          "metadata": {
            "tags": [],
            "needs_background": "light"
          }
        }
      ]
    },
    {
      "cell_type": "markdown",
      "metadata": {
        "id": "Dtxwayy_14Hn"
      },
      "source": [
        "#### Model is clearly overfitting. So we need to do data augmentation"
      ]
    },
    {
      "cell_type": "markdown",
      "metadata": {
        "id": "iJk2twS_2lRx"
      },
      "source": [
        "## Model 2 - Augment Data , (3,3,3) filter & 160x160 image resolution"
      ]
    },
    {
      "cell_type": "code",
      "metadata": {
        "colab": {
          "base_uri": "https://localhost:8080/"
        },
        "id": "fQxHzlc92oOq",
        "outputId": "894b6282-1f55-4f89-c750-0859dbe10c9f"
      },
      "source": [
        "Conv3D1.clear_session(Conv3D1_model)\r\n",
        "Conv3D2=ModelConv3D1()\r\n",
        "Conv3D2.initialize_src_path(main_folder)\r\n",
        "Conv3D2.initialize_image_properties(image_height=160,image_width=160)\r\n",
        "Conv3D2.initialize_hyperparams(frames_to_sample=20,batch_size=20,num_epochs=25)\r\n",
        "Conv3D2_model=Conv3D2.define_model(dense_neurons=256,dropout=0.5)\r\n",
        "Conv3D2_model.summary()"
      ],
      "execution_count": 38,
      "outputs": [
        {
          "output_type": "stream",
          "text": [
            "Model: \"sequential\"\n",
            "_________________________________________________________________\n",
            "Layer (type)                 Output Shape              Param #   \n",
            "=================================================================\n",
            "conv3d (Conv3D)              (None, 20, 160, 160, 16)  1312      \n",
            "_________________________________________________________________\n",
            "activation (Activation)      (None, 20, 160, 160, 16)  0         \n",
            "_________________________________________________________________\n",
            "batch_normalization (BatchNo (None, 20, 160, 160, 16)  64        \n",
            "_________________________________________________________________\n",
            "max_pooling3d (MaxPooling3D) (None, 10, 80, 80, 16)    0         \n",
            "_________________________________________________________________\n",
            "conv3d_1 (Conv3D)            (None, 10, 80, 80, 32)    13856     \n",
            "_________________________________________________________________\n",
            "activation_1 (Activation)    (None, 10, 80, 80, 32)    0         \n",
            "_________________________________________________________________\n",
            "batch_normalization_1 (Batch (None, 10, 80, 80, 32)    128       \n",
            "_________________________________________________________________\n",
            "max_pooling3d_1 (MaxPooling3 (None, 5, 40, 40, 32)     0         \n",
            "_________________________________________________________________\n",
            "conv3d_2 (Conv3D)            (None, 5, 40, 40, 64)     55360     \n",
            "_________________________________________________________________\n",
            "activation_2 (Activation)    (None, 5, 40, 40, 64)     0         \n",
            "_________________________________________________________________\n",
            "batch_normalization_2 (Batch (None, 5, 40, 40, 64)     256       \n",
            "_________________________________________________________________\n",
            "max_pooling3d_2 (MaxPooling3 (None, 2, 20, 20, 64)     0         \n",
            "_________________________________________________________________\n",
            "conv3d_3 (Conv3D)            (None, 2, 20, 20, 128)    221312    \n",
            "_________________________________________________________________\n",
            "activation_3 (Activation)    (None, 2, 20, 20, 128)    0         \n",
            "_________________________________________________________________\n",
            "batch_normalization_3 (Batch (None, 2, 20, 20, 128)    512       \n",
            "_________________________________________________________________\n",
            "max_pooling3d_3 (MaxPooling3 (None, 1, 10, 10, 128)    0         \n",
            "_________________________________________________________________\n",
            "flatten (Flatten)            (None, 12800)             0         \n",
            "_________________________________________________________________\n",
            "dense (Dense)                (None, 256)               3277056   \n",
            "_________________________________________________________________\n",
            "batch_normalization_4 (Batch (None, 256)               1024      \n",
            "_________________________________________________________________\n",
            "dropout (Dropout)            (None, 256)               0         \n",
            "_________________________________________________________________\n",
            "dense_1 (Dense)              (None, 256)               65792     \n",
            "_________________________________________________________________\n",
            "batch_normalization_5 (Batch (None, 256)               1024      \n",
            "_________________________________________________________________\n",
            "dropout_1 (Dropout)          (None, 256)               0         \n",
            "_________________________________________________________________\n",
            "dense_2 (Dense)              (None, 5)                 1285      \n",
            "=================================================================\n",
            "Total params: 3,638,981\n",
            "Trainable params: 3,637,477\n",
            "Non-trainable params: 1,504\n",
            "_________________________________________________________________\n"
          ],
          "name": "stdout"
        }
      ]
    },
    {
      "cell_type": "code",
      "metadata": {
        "colab": {
          "base_uri": "https://localhost:8080/"
        },
        "id": "PCx8waqu3PY9",
        "outputId": "bb8271b9-5c91-4712-faa0-e1e0e65f4b21"
      },
      "source": [
        "print(\"Total Params:\", Conv3D2_model.count_params())\r\n",
        "accuracy_check_model_2=Conv3D2.train_model(Conv3D2_model,augment_data=True)"
      ],
      "execution_count": 39,
      "outputs": [
        {
          "output_type": "stream",
          "text": [
            "Total Params: 3638981\n",
            "WARNING:tensorflow:`period` argument is deprecated. Please use `save_freq` to specify the frequency in number of batches seen.\n",
            "Epoch 1/25\n",
            "34/34 [==============================] - ETA: 0s - batch: 16.5000 - size: 39.0000 - loss: 1.8178 - categorical_accuracy: 0.3997\n",
            "Epoch 00001: saving model to model_init_2021-03-1611_48_10.230425/model-00001-1.81782-0.39970-2.66929-0.25000.h5\n",
            "48\n",
            "34/34 [==============================] - 313s 9s/step - batch: 16.5000 - size: 39.0000 - loss: 1.8178 - categorical_accuracy: 0.3997 - val_loss: 2.6693 - val_categorical_accuracy: 0.2500\n",
            "Epoch 2/25\n",
            "34/34 [==============================] - ETA: 0s - batch: 16.5000 - size: 39.0000 - loss: 1.3409 - categorical_accuracy: 0.5347\n",
            "Epoch 00002: saving model to model_init_2021-03-1611_48_10.230425/model-00002-1.34087-0.53469-7.12469-0.19000.h5\n",
            "0\n",
            "34/34 [==============================] - 284s 9s/step - batch: 16.5000 - size: 39.0000 - loss: 1.3409 - categorical_accuracy: 0.5347 - val_loss: 7.1247 - val_categorical_accuracy: 0.1900\n",
            "Epoch 3/25\n",
            "34/34 [==============================] - ETA: 0s - batch: 16.5000 - size: 39.0000 - loss: 1.2948 - categorical_accuracy: 0.5626\n",
            "Epoch 00003: saving model to model_init_2021-03-1611_48_10.230425/model-00003-1.29481-0.56259-6.83948-0.23000.h5\n",
            "0\n",
            "34/34 [==============================] - 281s 8s/step - batch: 16.5000 - size: 39.0000 - loss: 1.2948 - categorical_accuracy: 0.5626 - val_loss: 6.8395 - val_categorical_accuracy: 0.2300\n",
            "Epoch 4/25\n",
            "34/34 [==============================] - ETA: 0s - batch: 16.5000 - size: 39.0000 - loss: 1.1348 - categorical_accuracy: 0.6116\n",
            "Epoch 00004: saving model to model_init_2021-03-1611_48_10.230425/model-00004-1.13481-0.61161-9.42922-0.20000.h5\n",
            "0\n",
            "34/34 [==============================] - 287s 9s/step - batch: 16.5000 - size: 39.0000 - loss: 1.1348 - categorical_accuracy: 0.6116 - val_loss: 9.4292 - val_categorical_accuracy: 0.2000\n",
            "Epoch 5/25\n",
            "34/34 [==============================] - ETA: 0s - batch: 16.5000 - size: 39.0000 - loss: 1.0374 - categorical_accuracy: 0.6320\n",
            "Epoch 00005: saving model to model_init_2021-03-1611_48_10.230425/model-00005-1.03736-0.63198-8.53804-0.23000.h5\n",
            "\n",
            "Epoch 00005: ReduceLROnPlateau reducing learning rate to 0.00020000000949949026.\n",
            "0\n",
            "34/34 [==============================] - 281s 8s/step - batch: 16.5000 - size: 39.0000 - loss: 1.0374 - categorical_accuracy: 0.6320 - val_loss: 8.5380 - val_categorical_accuracy: 0.2300\n",
            "Epoch 6/25\n",
            "34/34 [==============================] - ETA: 0s - batch: 16.5000 - size: 39.0000 - loss: 0.7869 - categorical_accuracy: 0.6983\n",
            "Epoch 00006: saving model to model_init_2021-03-1611_48_10.230425/model-00006-0.78693-0.69834-8.21821-0.21000.h5\n",
            "0\n",
            "34/34 [==============================] - 282s 9s/step - batch: 16.5000 - size: 39.0000 - loss: 0.7869 - categorical_accuracy: 0.6983 - val_loss: 8.2182 - val_categorical_accuracy: 0.2100\n",
            "Epoch 7/25\n",
            "34/34 [==============================] - ETA: 0s - batch: 16.5000 - size: 39.0000 - loss: 0.7576 - categorical_accuracy: 0.7195\n",
            "Epoch 00007: saving model to model_init_2021-03-1611_48_10.230425/model-00007-0.75762-0.71946-7.19118-0.20000.h5\n",
            "0\n",
            "34/34 [==============================] - 284s 9s/step - batch: 16.5000 - size: 39.0000 - loss: 0.7576 - categorical_accuracy: 0.7195 - val_loss: 7.1912 - val_categorical_accuracy: 0.2000\n",
            "Epoch 8/25\n",
            "34/34 [==============================] - ETA: 0s - batch: 16.5000 - size: 39.0000 - loss: 0.7131 - categorical_accuracy: 0.7376\n",
            "Epoch 00008: saving model to model_init_2021-03-1611_48_10.230425/model-00008-0.71307-0.73756-6.38430-0.20000.h5\n",
            "0\n",
            "34/34 [==============================] - 285s 9s/step - batch: 16.5000 - size: 39.0000 - loss: 0.7131 - categorical_accuracy: 0.7376 - val_loss: 6.3843 - val_categorical_accuracy: 0.2000\n",
            "Epoch 9/25\n",
            "34/34 [==============================] - ETA: 0s - batch: 16.5000 - size: 39.0000 - loss: 0.6209 - categorical_accuracy: 0.7738\n",
            "Epoch 00009: saving model to model_init_2021-03-1611_48_10.230425/model-00009-0.62089-0.77376-5.59594-0.27000.h5\n",
            "\n",
            "Epoch 00009: ReduceLROnPlateau reducing learning rate to 4.0000001899898055e-05.\n",
            "0\n",
            "34/34 [==============================] - 289s 9s/step - batch: 16.5000 - size: 39.0000 - loss: 0.6209 - categorical_accuracy: 0.7738 - val_loss: 5.5959 - val_categorical_accuracy: 0.2700\n",
            "Epoch 10/25\n",
            "34/34 [==============================] - ETA: 0s - batch: 16.5000 - size: 39.0000 - loss: 0.6263 - categorical_accuracy: 0.7722\n",
            "Epoch 00010: saving model to model_init_2021-03-1611_48_10.230425/model-00010-0.62634-0.77225-5.03875-0.25000.h5\n",
            "0\n",
            "34/34 [==============================] - 285s 9s/step - batch: 16.5000 - size: 39.0000 - loss: 0.6263 - categorical_accuracy: 0.7722 - val_loss: 5.0388 - val_categorical_accuracy: 0.2500\n",
            "Epoch 11/25\n",
            "34/34 [==============================] - ETA: 0s - batch: 16.5000 - size: 39.0000 - loss: 0.6039 - categorical_accuracy: 0.7730\n",
            "Epoch 00011: saving model to model_init_2021-03-1611_48_10.230425/model-00011-0.60394-0.77300-4.52237-0.23000.h5\n",
            "0\n",
            "34/34 [==============================] - 290s 9s/step - batch: 16.5000 - size: 39.0000 - loss: 0.6039 - categorical_accuracy: 0.7730 - val_loss: 4.5224 - val_categorical_accuracy: 0.2300\n",
            "Epoch 12/25\n",
            "34/34 [==============================] - ETA: 0s - batch: 16.5000 - size: 39.0000 - loss: 0.6108 - categorical_accuracy: 0.7798\n",
            "Epoch 00012: saving model to model_init_2021-03-1611_48_10.230425/model-00012-0.61080-0.77979-3.43379-0.27000.h5\n",
            "0\n",
            "34/34 [==============================] - 286s 9s/step - batch: 16.5000 - size: 39.0000 - loss: 0.6108 - categorical_accuracy: 0.7798 - val_loss: 3.4338 - val_categorical_accuracy: 0.2700\n",
            "Epoch 13/25\n",
            "34/34 [==============================] - ETA: 0s - batch: 16.5000 - size: 39.0000 - loss: 0.5515 - categorical_accuracy: 0.7956\n",
            "Epoch 00013: saving model to model_init_2021-03-1611_48_10.230425/model-00013-0.55149-0.79563-3.14635-0.22000.h5\n",
            "\n",
            "Epoch 00013: ReduceLROnPlateau reducing learning rate to 8.000000525498762e-06.\n",
            "0\n",
            "34/34 [==============================] - 291s 9s/step - batch: 16.5000 - size: 39.0000 - loss: 0.5515 - categorical_accuracy: 0.7956 - val_loss: 3.1464 - val_categorical_accuracy: 0.2200\n",
            "Epoch 14/25\n",
            "34/34 [==============================] - ETA: 0s - batch: 16.5000 - size: 39.0000 - loss: 0.6120 - categorical_accuracy: 0.7843\n",
            "Epoch 00014: saving model to model_init_2021-03-1611_48_10.230425/model-00014-0.61197-0.78431-2.45230-0.33000.h5\n",
            "0\n",
            "34/34 [==============================] - 286s 9s/step - batch: 16.5000 - size: 39.0000 - loss: 0.6120 - categorical_accuracy: 0.7843 - val_loss: 2.4523 - val_categorical_accuracy: 0.3300\n",
            "Epoch 15/25\n",
            "34/34 [==============================] - ETA: 0s - batch: 16.5000 - size: 39.0000 - loss: 0.5553 - categorical_accuracy: 0.7866\n",
            "Epoch 00015: saving model to model_init_2021-03-1611_48_10.230425/model-00015-0.55535-0.78658-2.21543-0.38000.h5\n",
            "0\n",
            "34/34 [==============================] - 289s 9s/step - batch: 16.5000 - size: 39.0000 - loss: 0.5553 - categorical_accuracy: 0.7866 - val_loss: 2.2154 - val_categorical_accuracy: 0.3800\n",
            "Epoch 16/25\n",
            "34/34 [==============================] - ETA: 0s - batch: 16.5000 - size: 39.0000 - loss: 0.5156 - categorical_accuracy: 0.8122\n",
            "Epoch 00016: saving model to model_init_2021-03-1611_48_10.230425/model-00016-0.51565-0.81222-1.66385-0.45000.h5\n",
            "0\n",
            "34/34 [==============================] - 285s 9s/step - batch: 16.5000 - size: 39.0000 - loss: 0.5156 - categorical_accuracy: 0.8122 - val_loss: 1.6638 - val_categorical_accuracy: 0.4500\n",
            "Epoch 17/25\n",
            "34/34 [==============================] - ETA: 0s - batch: 16.5000 - size: 39.0000 - loss: 0.5787 - categorical_accuracy: 0.7934\n",
            "Epoch 00017: saving model to model_init_2021-03-1611_48_10.230425/model-00017-0.57868-0.79336-1.20998-0.55000.h5\n",
            "0\n",
            "34/34 [==============================] - 285s 9s/step - batch: 16.5000 - size: 39.0000 - loss: 0.5787 - categorical_accuracy: 0.7934 - val_loss: 1.2100 - val_categorical_accuracy: 0.5500\n",
            "Epoch 18/25\n",
            "34/34 [==============================] - ETA: 0s - batch: 16.5000 - size: 39.0000 - loss: 0.5621 - categorical_accuracy: 0.7934\n",
            "Epoch 00018: saving model to model_init_2021-03-1611_48_10.230425/model-00018-0.56210-0.79336-1.07097-0.62000.h5\n",
            "0\n",
            "34/34 [==============================] - 285s 9s/step - batch: 16.5000 - size: 39.0000 - loss: 0.5621 - categorical_accuracy: 0.7934 - val_loss: 1.0710 - val_categorical_accuracy: 0.6200\n",
            "Epoch 19/25\n",
            "34/34 [==============================] - ETA: 0s - batch: 16.5000 - size: 39.0000 - loss: 0.5744 - categorical_accuracy: 0.7956\n",
            "Epoch 00019: saving model to model_init_2021-03-1611_48_10.230425/model-00019-0.57436-0.79563-0.93357-0.68000.h5\n",
            "0\n",
            "34/34 [==============================] - 284s 9s/step - batch: 16.5000 - size: 39.0000 - loss: 0.5744 - categorical_accuracy: 0.7956 - val_loss: 0.9336 - val_categorical_accuracy: 0.6800\n",
            "Epoch 20/25\n",
            "34/34 [==============================] - ETA: 0s - batch: 16.5000 - size: 39.0000 - loss: 0.6404 - categorical_accuracy: 0.7624\n",
            "Epoch 00020: saving model to model_init_2021-03-1611_48_10.230425/model-00020-0.64039-0.76244-0.84762-0.72000.h5\n",
            "0\n",
            "34/34 [==============================] - 283s 9s/step - batch: 16.5000 - size: 39.0000 - loss: 0.6404 - categorical_accuracy: 0.7624 - val_loss: 0.8476 - val_categorical_accuracy: 0.7200\n",
            "Epoch 21/25\n",
            "34/34 [==============================] - ETA: 0s - batch: 16.5000 - size: 39.0000 - loss: 0.5131 - categorical_accuracy: 0.7956\n",
            "Epoch 00021: saving model to model_init_2021-03-1611_48_10.230425/model-00021-0.51308-0.79563-0.77741-0.71000.h5\n",
            "0\n",
            "34/34 [==============================] - 287s 9s/step - batch: 16.5000 - size: 39.0000 - loss: 0.5131 - categorical_accuracy: 0.7956 - val_loss: 0.7774 - val_categorical_accuracy: 0.7100\n",
            "Epoch 22/25\n",
            "34/34 [==============================] - ETA: 0s - batch: 16.5000 - size: 39.0000 - loss: 0.4992 - categorical_accuracy: 0.8062\n",
            "Epoch 00022: saving model to model_init_2021-03-1611_48_10.230425/model-00022-0.49922-0.80618-0.62357-0.76000.h5\n",
            "0\n",
            "34/34 [==============================] - 284s 9s/step - batch: 16.5000 - size: 39.0000 - loss: 0.4992 - categorical_accuracy: 0.8062 - val_loss: 0.6236 - val_categorical_accuracy: 0.7600\n",
            "Epoch 23/25\n",
            "34/34 [==============================] - ETA: 0s - batch: 16.5000 - size: 39.0000 - loss: 0.5030 - categorical_accuracy: 0.8054\n",
            "Epoch 00023: saving model to model_init_2021-03-1611_48_10.230425/model-00023-0.50301-0.80543-0.73684-0.71000.h5\n",
            "0\n",
            "34/34 [==============================] - 281s 8s/step - batch: 16.5000 - size: 39.0000 - loss: 0.5030 - categorical_accuracy: 0.8054 - val_loss: 0.7368 - val_categorical_accuracy: 0.7100\n",
            "Epoch 24/25\n",
            "34/34 [==============================] - ETA: 0s - batch: 16.5000 - size: 39.0000 - loss: 0.5774 - categorical_accuracy: 0.7971\n",
            "Epoch 00024: saving model to model_init_2021-03-1611_48_10.230425/model-00024-0.57740-0.79713-0.58314-0.78000.h5\n",
            "0\n",
            "34/34 [==============================] - 285s 9s/step - batch: 16.5000 - size: 39.0000 - loss: 0.5774 - categorical_accuracy: 0.7971 - val_loss: 0.5831 - val_categorical_accuracy: 0.7800\n",
            "Epoch 25/25\n",
            "34/34 [==============================] - ETA: 0s - batch: 16.5000 - size: 39.0000 - loss: 0.5382 - categorical_accuracy: 0.7941\n",
            "Epoch 00025: saving model to model_init_2021-03-1611_48_10.230425/model-00025-0.53820-0.79412-0.57240-0.80000.h5\n",
            "0\n",
            "34/34 [==============================] - 282s 8s/step - batch: 16.5000 - size: 39.0000 - loss: 0.5382 - categorical_accuracy: 0.7941 - val_loss: 0.5724 - val_categorical_accuracy: 0.8000\n"
          ],
          "name": "stdout"
        }
      ]
    },
    {
      "cell_type": "code",
      "metadata": {
        "colab": {
          "base_uri": "https://localhost:8080/",
          "height": 265
        },
        "id": "PXZ8sThy3XSr",
        "outputId": "b23eda7a-150c-4d68-aa9a-aa6c26155a82"
      },
      "source": [
        "plot(accuracy_check_model_2)"
      ],
      "execution_count": 40,
      "outputs": [
        {
          "output_type": "display_data",
          "data": {
            "image/png": "[encoded data removed]",
            "text/plain": [
              "<Figure size 1080x288 with 2 Axes>"
            ]
          },
          "metadata": {
            "tags": [],
            "needs_background": "light"
          }
        }
      ]
    },
    {
      "cell_type": "markdown",
      "metadata": {
        "id": "ldsJg52PTDPq"
      },
      "source": [
        "Model is not overfitting and we get a best validation accuracy of ~80% and training accuracy of ~82%. Next we will try to reduce the filter size and image resolution and see if get better results. Moreover since we see minor oscillations in loss, let's try lowering the learning rate to 0.0002"
      ]
    },
    {
      "cell_type": "markdown",
      "metadata": {
        "id": "_qrMlLsVTSA7"
      },
      "source": [
        "## Model 3 - Reduce filter size to (2,2,2) and image res to 120 x 120"
      ]
    },
    {
      "cell_type": "code",
      "metadata": {
        "id": "vkPpJFg3TRLh"
      },
      "source": [
        "Conv3D2.clear_session(Conv3D2_model)\r\n",
        "class ModelConv3D3(ModelBuilder):\r\n",
        "    \r\n",
        "    def define_model(self,filtersize=(3,3,3),dense_neurons=64,dropout=0.25):\r\n",
        "\r\n",
        "        model = Sequential()\r\n",
        "        model.add(Conv3D(16, filtersize, padding='same',\r\n",
        "                 input_shape=(self.frames_to_sample,self.image_height,self.image_width,self.channels)))\r\n",
        "        model.add(Activation('relu'))\r\n",
        "        model.add(BatchNormalization())\r\n",
        "        model.add(MaxPooling3D(pool_size=(2, 2, 2)))\r\n",
        "\r\n",
        "        model.add(Conv3D(32, filtersize, padding='same'))\r\n",
        "        model.add(Activation('relu'))\r\n",
        "        model.add(BatchNormalization())\r\n",
        "        model.add(MaxPooling3D(pool_size=(2, 2, 2)))\r\n",
        "\r\n",
        "        model.add(Conv3D(64, filtersize, padding='same'))\r\n",
        "        model.add(Activation('relu'))\r\n",
        "        model.add(BatchNormalization())\r\n",
        "        model.add(MaxPooling3D(pool_size=(2, 2, 2)))\r\n",
        "\r\n",
        "        model.add(Conv3D(128, filtersize, padding='same'))\r\n",
        "        model.add(Activation('relu'))\r\n",
        "        model.add(BatchNormalization())\r\n",
        "        model.add(MaxPooling3D(pool_size=(2, 2, 2)))\r\n",
        "\r\n",
        "        model.add(Flatten())\r\n",
        "        model.add(Dense(dense_neurons,activation='relu'))\r\n",
        "        model.add(BatchNormalization())\r\n",
        "        model.add(Dropout(dropout))\r\n",
        "\r\n",
        "        model.add(Dense(dense_neurons,activation='relu'))\r\n",
        "        model.add(BatchNormalization())\r\n",
        "        model.add(Dropout(dropout))\r\n",
        "\r\n",
        "\r\n",
        "        model.add(Dense(self.num_classes,activation='softmax'))\r\n",
        "\r\n",
        "        optimiser = optimizers.Adam(lr=0.0002)\r\n",
        "        model.compile(optimizer=optimiser, loss='categorical_crossentropy', metrics=['categorical_accuracy'])\r\n",
        "        return model"
      ],
      "execution_count": 43,
      "outputs": []
    },
    {
      "cell_type": "code",
      "metadata": {
        "id": "lk9L9pt7UBB1",
        "outputId": "4d810987-7893-4c26-ea49-a89d922439ca",
        "colab": {
          "base_uri": "https://localhost:8080/"
        }
      },
      "source": [
        "\r\n",
        "Conv3D3=ModelConv3D3()\r\n",
        "Conv3D3.initialize_src_path(main_folder)\r\n",
        "Conv3D3.initialize_image_properties(image_height=120,image_width=120)\r\n",
        "Conv3D3.initialize_hyperparams(frames_to_sample=16,batch_size=30,num_epochs=30)\r\n",
        "Conv3D3_model=Conv3D3.define_model(filtersize=(2,2,2),dense_neurons=256,dropout=0.5)\r\n",
        "Conv3D3_model.summary()"
      ],
      "execution_count": 44,
      "outputs": [
        {
          "output_type": "stream",
          "text": [
            "Model: \"sequential\"\n",
            "_________________________________________________________________\n",
            "Layer (type)                 Output Shape              Param #   \n",
            "=================================================================\n",
            "conv3d (Conv3D)              (None, 16, 120, 120, 16)  400       \n",
            "_________________________________________________________________\n",
            "activation (Activation)      (None, 16, 120, 120, 16)  0         \n",
            "_________________________________________________________________\n",
            "batch_normalization (BatchNo (None, 16, 120, 120, 16)  64        \n",
            "_________________________________________________________________\n",
            "max_pooling3d (MaxPooling3D) (None, 8, 60, 60, 16)     0         \n",
            "_________________________________________________________________\n",
            "conv3d_1 (Conv3D)            (None, 8, 60, 60, 32)     4128      \n",
            "_________________________________________________________________\n",
            "activation_1 (Activation)    (None, 8, 60, 60, 32)     0         \n",
            "_________________________________________________________________\n",
            "batch_normalization_1 (Batch (None, 8, 60, 60, 32)     128       \n",
            "_________________________________________________________________\n",
            "max_pooling3d_1 (MaxPooling3 (None, 4, 30, 30, 32)     0         \n",
            "_________________________________________________________________\n",
            "conv3d_2 (Conv3D)            (None, 4, 30, 30, 64)     16448     \n",
            "_________________________________________________________________\n",
            "activation_2 (Activation)    (None, 4, 30, 30, 64)     0         \n",
            "_________________________________________________________________\n",
            "batch_normalization_2 (Batch (None, 4, 30, 30, 64)     256       \n",
            "_________________________________________________________________\n",
            "max_pooling3d_2 (MaxPooling3 (None, 2, 15, 15, 64)     0         \n",
            "_________________________________________________________________\n",
            "conv3d_3 (Conv3D)            (None, 2, 15, 15, 128)    65664     \n",
            "_________________________________________________________________\n",
            "activation_3 (Activation)    (None, 2, 15, 15, 128)    0         \n",
            "_________________________________________________________________\n",
            "batch_normalization_3 (Batch (None, 2, 15, 15, 128)    512       \n",
            "_________________________________________________________________\n",
            "max_pooling3d_3 (MaxPooling3 (None, 1, 7, 7, 128)      0         \n",
            "_________________________________________________________________\n",
            "flatten (Flatten)            (None, 6272)              0         \n",
            "_________________________________________________________________\n",
            "dense (Dense)                (None, 256)               1605888   \n",
            "_________________________________________________________________\n",
            "batch_normalization_4 (Batch (None, 256)               1024      \n",
            "_________________________________________________________________\n",
            "dropout (Dropout)            (None, 256)               0         \n",
            "_________________________________________________________________\n",
            "dense_1 (Dense)              (None, 256)               65792     \n",
            "_________________________________________________________________\n",
            "batch_normalization_5 (Batch (None, 256)               1024      \n",
            "_________________________________________________________________\n",
            "dropout_1 (Dropout)          (None, 256)               0         \n",
            "_________________________________________________________________\n",
            "dense_2 (Dense)              (None, 5)                 1285      \n",
            "=================================================================\n",
            "Total params: 1,762,613\n",
            "Trainable params: 1,761,109\n",
            "Non-trainable params: 1,504\n",
            "_________________________________________________________________\n"
          ],
          "name": "stdout"
        }
      ]
    },
    {
      "cell_type": "code",
      "metadata": {
        "id": "WW17sf6iUcQh",
        "outputId": "6905ca03-001f-407e-f645-03a580ff1fd2",
        "colab": {
          "base_uri": "https://localhost:8080/"
        }
      },
      "source": [
        "##tf.compat.v1.enable_eager_execution()\r\n",
        "print(tf.executing_eagerly())\r\n",
        "print(\"Total Params:\", Conv3D3_model.count_params())\r\n",
        "accuracy_check_model3=Conv3D3.train_model(Conv3D3_model,augment_data=True)"
      ],
      "execution_count": null,
      "outputs": [
        {
          "output_type": "stream",
          "text": [
            "False\n",
            "Total Params: 1762613\n",
            "WARNING:tensorflow:`period` argument is deprecated. Please use `save_freq` to specify the frequency in number of batches seen.\n",
            "Epoch 1/30\n",
            "23/23 [==============================] - ETA: 0s - batch: 11.0000 - size: 57.6522 - loss: 2.1736 - categorical_accuracy: 0.3409\n",
            "Epoch 00001: saving model to model_init_2021-03-1613_57_21.995414/model-00001-2.17355-0.34087-2.05905-0.21000.h5\n",
            "683\n",
            "23/23 [==============================] - 223s 10s/step - batch: 11.0000 - size: 57.6522 - loss: 2.1736 - categorical_accuracy: 0.3409 - val_loss: 2.0590 - val_categorical_accuracy: 0.2100\n",
            "Epoch 2/30\n",
            "10/23 [============>.................] - ETA: 1:47 - batch: 4.5000 - size: 60.0000 - loss: 1.6188 - categorical_accuracy: 0.4667"
          ],
          "name": "stdout"
        }
      ]
    }
  ]
}