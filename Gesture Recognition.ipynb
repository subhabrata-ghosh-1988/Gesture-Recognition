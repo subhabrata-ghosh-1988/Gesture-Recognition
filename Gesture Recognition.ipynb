{
  "nbformat": 4,
  "nbformat_minor": 0,
  "metadata": {
    "kernelspec": {
      "display_name": "Python 3",
      "language": "python",
      "name": "python3"
    },
    "language_info": {
      "codemirror_mode": {
        "name": "ipython",
        "version": 3
      },
      "file_extension": ".py",
      "mimetype": "text/x-python",
      "name": "python",
      "nbconvert_exporter": "python",
      "pygments_lexer": "ipython3",
      "version": "3.7.3"
    },
    "colab": {
      "name": "Gesture Recognition.ipynb",
      "provenance": [],
      "include_colab_link": true
    },
    "accelerator": "GPU"
  },
  "cells": [
    {
      "cell_type": "markdown",
      "metadata": {
        "id": "view-in-github",
        "colab_type": "text"
      },
      "source": [
        "<a href=\"https://colab.research.google.com/github/subhabrata-ghosh-1988/Gesture-Recognition/blob/main/Gesture%20Recognition.ipynb\" target=\"_parent\"><img src=\"https://colab.research.google.com/assets/colab-badge.svg\" alt=\"Open In Colab\"/></a>"
      ]
    },
    {
      "cell_type": "markdown",
      "metadata": {
        "id": "Q7ZfgtjxNVrR"
      },
      "source": [
        "# Gesture Recognition\n",
        "In this group project, you are going to build a 3D Conv model that will be able to predict the 5 gestures correctly. Please import the following libraries to get started."
      ]
    },
    {
      "cell_type": "code",
      "metadata": {
        "id": "2-eH5pKuNVrV"
      },
      "source": [
        "## Import libraries\n",
        "import numpy as np\n",
        "import os\n",
        "from scipy import misc\n",
        "from imageio import imread\n",
        "import cv2\n",
        "from skimage import transform,io\n",
        "import datetime\n",
        "import os\n",
        "import warnings\n",
        "warnings.filterwarnings(\"ignore\")\n",
        "import abc\n",
        "from sys import getsizeof\n",
        "import shutil\n",
        "import abc\n"
      ],
      "execution_count": null,
      "outputs": []
    },
    {
      "cell_type": "code",
      "metadata": {
        "id": "J94bqUhVNVrW"
      },
      "source": [
        "import glob, os , shutil\n",
        "for f in glob.glob(\"/content/model_init*\"):\n",
        "    shutil.rmtree(f)"
      ],
      "execution_count": null,
      "outputs": []
    },
    {
      "cell_type": "code",
      "metadata": {
        "id": "H0Ubj-HfSRY3"
      },
      "source": [
        "## remove the existing zip file\r\n",
        "shutil.rmtree('/content/Project_data.zip', ignore_errors=True)"
      ],
      "execution_count": null,
      "outputs": []
    },
    {
      "cell_type": "code",
      "metadata": {
        "id": "i4ty5a19SiNl",
        "colab": {
          "base_uri": "https://localhost:8080/",
          "height": 258
        },
        "outputId": "bc6b7245-50e4-4c9d-a390-4326a8ba9905"
      },
      "source": [
        "## Initiate the file download\r\n",
        "!pip install gdown\r\n",
        "import gdown\r\n",
        "url=\"https://drive.google.com/uc?id=1kM4V7pnLjGbuCaDpfBNHig99gr2rdqyJ\"\r\n",
        "output = \"Project_data.zip\"\r\n",
        "gdown.download(url, output, quiet=False)"
      ],
      "execution_count": null,
      "outputs": [
        {
          "output_type": "stream",
          "text": [
            "Requirement already satisfied: gdown in /usr/local/lib/python3.7/dist-packages (3.6.4)\n",
            "Requirement already satisfied: requests in /usr/local/lib/python3.7/dist-packages (from gdown) (2.23.0)\n",
            "Requirement already satisfied: tqdm in /usr/local/lib/python3.7/dist-packages (from gdown) (4.41.1)\n",
            "Requirement already satisfied: six in /usr/local/lib/python3.7/dist-packages (from gdown) (1.15.0)\n",
            "Requirement already satisfied: certifi>=2017.4.17 in /usr/local/lib/python3.7/dist-packages (from requests->gdown) (2020.12.5)\n",
            "Requirement already satisfied: urllib3!=1.25.0,!=1.25.1,<1.26,>=1.21.1 in /usr/local/lib/python3.7/dist-packages (from requests->gdown) (1.24.3)\n",
            "Requirement already satisfied: idna<3,>=2.5 in /usr/local/lib/python3.7/dist-packages (from requests->gdown) (2.10)\n",
            "Requirement already satisfied: chardet<4,>=3.0.2 in /usr/local/lib/python3.7/dist-packages (from requests->gdown) (3.0.4)\n"
          ],
          "name": "stdout"
        },
        {
          "output_type": "stream",
          "text": [
            "Downloading...\n",
            "From: https://drive.google.com/uc?id=1kM4V7pnLjGbuCaDpfBNHig99gr2rdqyJ\n",
            "To: /content/Project_data.zip\n",
            "1.71GB [00:47, 36.1MB/s]\n"
          ],
          "name": "stderr"
        },
        {
          "output_type": "execute_result",
          "data": {
            "application/vnd.google.colaboratory.intrinsic+json": {
              "type": "string"
            },
            "text/plain": [
              "'Project_data.zip'"
            ]
          },
          "metadata": {
            "tags": []
          },
          "execution_count": 4
        }
      ]
    },
    {
      "cell_type": "code",
      "metadata": {
        "id": "w-fwe5jbTX8r"
      },
      "source": [
        "## unzip the downloaded folder\r\n",
        "shutil.rmtree('/content/Project_data', ignore_errors=True)\r\n",
        "shutil.unpack_archive(\"Project_data.zip\", \"Project_data\")"
      ],
      "execution_count": null,
      "outputs": []
    },
    {
      "cell_type": "markdown",
      "metadata": {
        "id": "GIQHPGi_NVrX"
      },
      "source": [
        "We set the random seed so that the results don't vary drastically."
      ]
    },
    {
      "cell_type": "code",
      "metadata": {
        "id": "ci_N-NnWNVrZ"
      },
      "source": [
        "np.random.seed(30)\n",
        "import random as rn\n",
        "rn.seed(30)\n",
        "import tensorflow as tf\n",
        "tf.random.set_seed(30)\n",
        "tf.compat.v1.disable_eager_execution()"
      ],
      "execution_count": null,
      "outputs": []
    },
    {
      "cell_type": "markdown",
      "metadata": {
        "id": "6bWyzW_oNVrZ"
      },
      "source": [
        "**In this block, you read the folder names for training and validation. You also set the batch_size here. Note that you set the batch size in such a way that you are able to use the GPU in full capacity. You keep increasing the batch size until the machine throws an error.**"
      ]
    },
    {
      "cell_type": "code",
      "metadata": {
        "id": "AyTupvi3NVrb"
      },
      "source": [
        "from keras.models import Sequential, Model\n",
        "from keras.layers import Dense, GRU, Flatten, TimeDistributed, Flatten, BatchNormalization, Activation\n",
        "from keras.layers.convolutional import Conv3D, MaxPooling3D, Conv2D, MaxPooling2D\n",
        "from keras.layers.recurrent import LSTM\n",
        "from keras.callbacks import ModelCheckpoint, ReduceLROnPlateau\n",
        "from keras import optimizers\n",
        "from keras.layers import Dropout"
      ],
      "execution_count": null,
      "outputs": []
    },
    {
      "cell_type": "code",
      "metadata": {
        "id": "VCjeEg_tNVrc"
      },
      "source": [
        "# the entire dataset is placed in below directory\n",
        "main_folder='/content/Project_data/Project_data'"
      ],
      "execution_count": null,
      "outputs": []
    },
    {
      "cell_type": "code",
      "metadata": {
        "id": "NSUMkqaSXcC4",
        "colab": {
          "base_uri": "https://localhost:8080/",
          "height": 36
        },
        "outputId": "6bb01b58-c61a-4b11-ca94-a31a64c03f2e"
      },
      "source": [
        "## Checking current TF version\r\n",
        "tf.version.VERSION"
      ],
      "execution_count": null,
      "outputs": [
        {
          "output_type": "execute_result",
          "data": {
            "application/vnd.google.colaboratory.intrinsic+json": {
              "type": "string"
            },
            "text/plain": [
              "'2.4.1'"
            ]
          },
          "metadata": {
            "tags": []
          },
          "execution_count": 9
        }
      ]
    },
    {
      "cell_type": "markdown",
      "metadata": {
        "id": "REgxbVunNVrd"
      },
      "source": [
        "### Plotting"
      ]
    },
    {
      "cell_type": "code",
      "metadata": {
        "id": "k3UJmY03NVre"
      },
      "source": [
        "import matplotlib.pyplot as plt\n",
        "def plot(Model):\n",
        "    fig, axes = plt.subplots(nrows=1, ncols=2, figsize=(15,4))\n",
        "    axes[0].plot(Model.history['loss'])   \n",
        "    axes[0].plot(Model.history['val_loss'])\n",
        "    axes[0].legend(['loss','val_loss'])\n",
        "\n",
        "    axes[1].plot(Model.history['categorical_accuracy'])   \n",
        "    axes[1].plot(Model.history['val_categorical_accuracy'])\n",
        "    axes[1].legend(['categorical_accuracy','val_categorical_accuracy'])"
      ],
      "execution_count": null,
      "outputs": []
    },
    {
      "cell_type": "markdown",
      "metadata": {
        "id": "QtV6apQQNVrf"
      },
      "source": [
        "## Generator\n",
        "This is one of the most important part of the code. The overall structure of the generator has been given. In the generator, you are going to preprocess the images as you have images of 2 different dimensions as well as create a batch of video frames. You have to experiment with `img_idx`, `y`,`z` and normalization such that you get high accuracy."
      ]
    },
    {
      "cell_type": "code",
      "metadata": {
        "id": "haSnpGsboLKX"
      },
      "source": [
        "import gc\r\n",
        "class GCCallback(tf.keras.callbacks.Callback):\r\n",
        "      def on_epoch_end(self, epoch, logs=None):\r\n",
        "          print(gc.collect())"
      ],
      "execution_count": null,
      "outputs": []
    },
    {
      "cell_type": "code",
      "metadata": {
        "id": "4YC-BRedNVri"
      },
      "source": [
        "# referred ABC library use case from this link https://riptutorial.com/python/example/23083/why-how-to-use-abcmeta-and--abstractmethod\n",
        "\n",
        "class ModelBuilder(metaclass= abc.ABCMeta):\n",
        "    \n",
        "    def initialize_src_path(self,main_folder):\n",
        "        self.train_doc = np.random.permutation(open(main_folder + '/' + 'train.csv').readlines())\n",
        "        self.val_doc = np.random.permutation(open(main_folder + '/' + 'val.csv').readlines())\n",
        "        self.train_path = main_folder + '/' + 'train'\n",
        "        self.val_path =  main_folder + '/' + 'val'\n",
        "        self.num_train_sequences = len(self.train_doc)\n",
        "        self.num_val_sequences = len(self.val_doc)\n",
        "        \n",
        "    def initialize_image_properties(self,image_height=100,image_width=100):\n",
        "        self.image_height=image_height\n",
        "        self.image_width=image_width\n",
        "        self.channels=3\n",
        "        self.num_classes=5\n",
        "        self.total_frames=30\n",
        "          \n",
        "    def initialize_hyperparams(self,frames_to_sample=30,batch_size=40,num_epochs=20):\n",
        "        self.frames_to_sample=frames_to_sample\n",
        "        self.batch_size=batch_size\n",
        "        self.num_epochs=num_epochs\n",
        "        \n",
        "        \n",
        "    def generator(self,source_path, folder_list, augment=False):\n",
        "        img_idx = np.round(np.linspace(0,self.total_frames-1,self.frames_to_sample)).astype(int)\n",
        "        batch_size=self.batch_size\n",
        "        while True:\n",
        "            t = np.random.permutation(folder_list)\n",
        "            num_batches = len(t)//batch_size\n",
        "        \n",
        "            for batch in range(num_batches): \n",
        "                batch_data, batch_labels= self.one_batch_data(source_path,t,batch,batch_size,img_idx,augment)\n",
        "                yield batch_data, batch_labels \n",
        "\n",
        "            remaining_seq=len(t)%batch_size\n",
        "        \n",
        "            if (remaining_seq != 0):\n",
        "                batch_data, batch_labels= self.one_batch_data(source_path,t,num_batches,batch_size,img_idx,augment,remaining_seq)\n",
        "                yield batch_data, batch_labels \n",
        "    \n",
        "    \n",
        "    def one_batch_data(self,source_path,t,batch,batch_size,img_idx,augment,remaining_seq=0):\n",
        "    \n",
        "        seq_len = remaining_seq if remaining_seq else batch_size\n",
        "    \n",
        "        batch_data = np.zeros((seq_len,len(img_idx),self.image_height,self.image_width,self.channels)) \n",
        "        batch_labels = np.zeros((seq_len,self.num_classes)) \n",
        "    \n",
        "        if (augment): batch_data_aug = np.zeros((seq_len,len(img_idx),self.image_height,self.image_width,self.channels))\n",
        "\n",
        "        \n",
        "        for folder in range(seq_len): \n",
        "            imgs = os.listdir(source_path+'/'+ t[folder + (batch*batch_size)].split(';')[0]) \n",
        "            for idx,item in enumerate(img_idx): \n",
        "                image = imread(source_path+'/'+ t[folder + (batch*batch_size)].strip().split(';')[0]+'/'+imgs[item]).astype(np.float32)\n",
        "                image_resized=transform.resize(image,(self.image_height,self.image_width,3))\n",
        "            \n",
        "\n",
        "                batch_data[folder,idx,:,:,0] = (image_resized[:,:,0])/255\n",
        "                batch_data[folder,idx,:,:,1] = (image_resized[:,:,1])/255\n",
        "                batch_data[folder,idx,:,:,2] = (image_resized[:,:,2])/255\n",
        "            \n",
        "                if (augment):\n",
        "                    shifted = cv2.warpAffine(image, \n",
        "                                             np.float32([[1, 0, np.random.randint(-30,30)],[0, 1, np.random.randint(-30,30)]]), \n",
        "                                            (image.shape[1], image.shape[0]))\n",
        "                    \n",
        "                    gray = cv2.cvtColor(shifted,cv2.COLOR_BGR2GRAY)\n",
        "\n",
        "                    x0, y0 = np.argwhere(gray > 0).min(axis=0)\n",
        "                    x1, y1 = np.argwhere(gray > 0).max(axis=0) \n",
        "                    \n",
        "                    cropped=shifted[x0:x1,y0:y1,:]\n",
        "                    \n",
        "                    image_resized=transform.resize(cropped,(self.image_height,self.image_width,3))\n",
        "            \n",
        "                    batch_data_aug[folder,idx,:,:,0] = (image_resized[:,:,0])/255\n",
        "                    batch_data_aug[folder,idx,:,:,1] = (image_resized[:,:,1])/255\n",
        "                    batch_data_aug[folder,idx,:,:,2] = (image_resized[:,:,2])/255\n",
        "                \n",
        "            \n",
        "            batch_labels[folder, int(t[folder + (batch*batch_size)].strip().split(';')[2])] = 1\n",
        "            \n",
        "    \n",
        "        if (augment):\n",
        "            batch_data=np.concatenate([batch_data,batch_data_aug])\n",
        "            batch_labels=np.concatenate([batch_labels,batch_labels])\n",
        "\n",
        "        \n",
        "        return(batch_data,batch_labels)\n",
        "    \n",
        "    \n",
        "    def train_model(self, model, augment_data=False):\n",
        "        train_generator = self.generator(self.train_path, self.train_doc,augment=augment_data)\n",
        "        val_generator = self.generator(self.val_path, self.val_doc)\n",
        "\n",
        "        model_name = 'model_init' + '_' + str(datetime.datetime.now()).replace(' ','').replace(':','_') + '/'\n",
        "    \n",
        "        if not os.path.exists(model_name):\n",
        "            os.mkdir(model_name)\n",
        "        \n",
        "        filepath = model_name + 'model-{epoch:05d}-{loss:.5f}-{categorical_accuracy:.5f}-{val_loss:.5f}-{val_categorical_accuracy:.5f}.h5'\n",
        "\n",
        "        checkpoint = ModelCheckpoint(filepath, monitor='val_loss', verbose=1, save_best_only=False, save_weights_only=False, mode='auto', period=1)\n",
        "        LR = ReduceLROnPlateau(monitor='val_loss', factor=0.2, verbose=1, patience=4)\n",
        "        callbacks_list = [checkpoint, LR, GCCallback()]\n",
        "\n",
        "        if (self.num_train_sequences%self.batch_size) == 0:\n",
        "            steps_per_epoch = int(self.num_train_sequences/self.batch_size)\n",
        "        else:\n",
        "            steps_per_epoch = (self.num_train_sequences//self.batch_size) + 1\n",
        "\n",
        "        if (self.num_val_sequences%self.batch_size) == 0:\n",
        "            validation_steps = int(self.num_val_sequences/self.batch_size)\n",
        "        else:\n",
        "            validation_steps = (self.num_val_sequences//self.batch_size) + 1\n",
        "    \n",
        "        history=model.fit_generator(train_generator, steps_per_epoch=steps_per_epoch, epochs=self.num_epochs, verbose=1, \n",
        "                            callbacks=callbacks_list, validation_data=val_generator, \n",
        "                            validation_steps=validation_steps, class_weight=None, workers=1, initial_epoch=0)\n",
        "        return history\n",
        "\n",
        "    def clear_session(self, model):\n",
        "        del model\n",
        "        gc.collect()\n",
        "        tf.keras.backend.clear_session()\n",
        "        tf.compat.v1.reset_default_graph() # TF graph isn't same as Keras graph\n",
        "\n",
        "    @abc.abstractmethod\n",
        "    def define_model(self):\n",
        "        pass\n"
      ],
      "execution_count": null,
      "outputs": []
    },
    {
      "cell_type": "markdown",
      "metadata": {
        "id": "kkdCou-eNVri"
      },
      "source": [
        "## Sample Model\n",
        "Here you make the model using different functionalities that Keras provides. Remember to use `Conv3D` and `MaxPooling3D` and not `Conv2D` and `Maxpooling2D` for a 3D convolution model. You would want to use `TimeDistributed` while building a Conv2D + RNN model. Also remember that the last layer is the softmax. Design the network in such a way that the model is able to give good accuracy on the least number of parameters so that it can fit in the memory of the webcam."
      ]
    },
    {
      "cell_type": "code",
      "metadata": {
        "id": "G1XR94jpNVrk"
      },
      "source": [
        "class ModelConv3D1(ModelBuilder):\n",
        "    \n",
        "    def define_model(self):\n",
        "\n",
        "        model = Sequential()\n",
        "        model.add(Conv3D(16, (3, 3, 3), padding='same',\n",
        "                 input_shape=(self.frames_to_sample,self.image_height,self.image_width,self.channels)))\n",
        "        model.add(Activation('relu'))\n",
        "        model.add(BatchNormalization())\n",
        "        model.add(MaxPooling3D(pool_size=(2, 2, 2)))\n",
        "\n",
        "        model.add(Conv3D(32, (2, 2, 2), padding='same'))\n",
        "        model.add(Activation('relu'))\n",
        "        model.add(BatchNormalization())\n",
        "        model.add(MaxPooling3D(pool_size=(2, 2, 2)))\n",
        "\n",
        "        model.add(Conv3D(64, (2, 2, 2), padding='same'))\n",
        "        model.add(Activation('relu'))\n",
        "        model.add(BatchNormalization())\n",
        "        model.add(MaxPooling3D(pool_size=(2, 2, 2)))\n",
        "\n",
        "        model.add(Conv3D(128, (2, 2, 2), padding='same'))\n",
        "        model.add(Activation('relu'))\n",
        "        model.add(BatchNormalization())\n",
        "        model.add(MaxPooling3D(pool_size=(2, 2, 2)))\n",
        "\n",
        "        model.add(Flatten())\n",
        "        model.add(Dense(128,activation='relu'))\n",
        "        model.add(BatchNormalization())\n",
        "        model.add(Dropout(0.5))\n",
        "\n",
        "        model.add(Dense(64,activation='relu'))\n",
        "        model.add(BatchNormalization())\n",
        "        model.add(Dropout(0.25))\n",
        "\n",
        "\n",
        "        model.add(Dense(self.num_classes,activation='softmax'))\n",
        "\n",
        "        optimiser = optimizers.Adam()\n",
        "        #optimiser = 'sgd'\n",
        "        model.compile(optimizer=optimiser, loss='categorical_crossentropy', metrics=['categorical_accuracy'])\n",
        "        return model"
      ],
      "execution_count": null,
      "outputs": []
    },
    {
      "cell_type": "code",
      "metadata": {
        "id": "8PIGA0cbNVrl",
        "colab": {
          "base_uri": "https://localhost:8080/"
        },
        "outputId": "edeab142-7671-4f4a-c005-eb1ae4e953ea"
      },
      "source": [
        "Conv3D1=ModelConv3D1()\n",
        "Conv3D1.initialize_src_path(main_folder)\n",
        "Conv3D1.initialize_image_properties(image_height=160,image_width=160)\n",
        "Conv3D1.initialize_hyperparams(frames_to_sample=30,batch_size=30,num_epochs=1)\n",
        "Conv3D1_model=Conv3D1.define_model()\n",
        "Conv3D1_model.summary()"
      ],
      "execution_count": null,
      "outputs": [
        {
          "output_type": "stream",
          "text": [
            "Model: \"sequential\"\n",
            "_________________________________________________________________\n",
            "Layer (type)                 Output Shape              Param #   \n",
            "=================================================================\n",
            "conv3d (Conv3D)              (None, 30, 160, 160, 16)  1312      \n",
            "_________________________________________________________________\n",
            "activation (Activation)      (None, 30, 160, 160, 16)  0         \n",
            "_________________________________________________________________\n",
            "batch_normalization (BatchNo (None, 30, 160, 160, 16)  64        \n",
            "_________________________________________________________________\n",
            "max_pooling3d (MaxPooling3D) (None, 15, 80, 80, 16)    0         \n",
            "_________________________________________________________________\n",
            "conv3d_1 (Conv3D)            (None, 15, 80, 80, 32)    4128      \n",
            "_________________________________________________________________\n",
            "activation_1 (Activation)    (None, 15, 80, 80, 32)    0         \n",
            "_________________________________________________________________\n",
            "batch_normalization_1 (Batch (None, 15, 80, 80, 32)    128       \n",
            "_________________________________________________________________\n",
            "max_pooling3d_1 (MaxPooling3 (None, 7, 40, 40, 32)     0         \n",
            "_________________________________________________________________\n",
            "conv3d_2 (Conv3D)            (None, 7, 40, 40, 64)     16448     \n",
            "_________________________________________________________________\n",
            "activation_2 (Activation)    (None, 7, 40, 40, 64)     0         \n",
            "_________________________________________________________________\n",
            "batch_normalization_2 (Batch (None, 7, 40, 40, 64)     256       \n",
            "_________________________________________________________________\n",
            "max_pooling3d_2 (MaxPooling3 (None, 3, 20, 20, 64)     0         \n",
            "_________________________________________________________________\n",
            "conv3d_3 (Conv3D)            (None, 3, 20, 20, 128)    65664     \n",
            "_________________________________________________________________\n",
            "activation_3 (Activation)    (None, 3, 20, 20, 128)    0         \n",
            "_________________________________________________________________\n",
            "batch_normalization_3 (Batch (None, 3, 20, 20, 128)    512       \n",
            "_________________________________________________________________\n",
            "max_pooling3d_3 (MaxPooling3 (None, 1, 10, 10, 128)    0         \n",
            "_________________________________________________________________\n",
            "flatten (Flatten)            (None, 12800)             0         \n",
            "_________________________________________________________________\n",
            "dense (Dense)                (None, 128)               1638528   \n",
            "_________________________________________________________________\n",
            "batch_normalization_4 (Batch (None, 128)               512       \n",
            "_________________________________________________________________\n",
            "dropout (Dropout)            (None, 128)               0         \n",
            "_________________________________________________________________\n",
            "dense_1 (Dense)              (None, 64)                8256      \n",
            "_________________________________________________________________\n",
            "batch_normalization_5 (Batch (None, 64)                256       \n",
            "_________________________________________________________________\n",
            "dropout_1 (Dropout)          (None, 64)                0         \n",
            "_________________________________________________________________\n",
            "dense_2 (Dense)              (None, 5)                 325       \n",
            "=================================================================\n",
            "Total params: 1,736,389\n",
            "Trainable params: 1,735,525\n",
            "Non-trainable params: 864\n",
            "_________________________________________________________________\n"
          ],
          "name": "stdout"
        }
      ]
    },
    {
      "cell_type": "code",
      "metadata": {
        "id": "0eU6XuXdNVrm",
        "colab": {
          "base_uri": "https://localhost:8080/"
        },
        "outputId": "30b67664-1be1-47f1-a50a-74883d0cb2c7"
      },
      "source": [
        "Conv3D1.train_model(Conv3D1_model)"
      ],
      "execution_count": null,
      "outputs": [
        {
          "output_type": "stream",
          "text": [
            "WARNING:tensorflow:`period` argument is deprecated. Please use `save_freq` to specify the frequency in number of batches seen.\n",
            "23/23 [==============================] - ETA: 0s - batch: 11.0000 - size: 28.8261 - loss: 1.5124 - categorical_accuracy: 0.4585 \n",
            "Epoch 00001: saving model to model_init_2021-03-1617_19_52.926030/model-00001-1.51240-0.45852-3.24692-0.21000.h5\n",
            "0\n",
            "23/23 [==============================] - 341s 13s/step - batch: 11.0000 - size: 28.8261 - loss: 1.5124 - categorical_accuracy: 0.4585 - val_loss: 3.2469 - val_categorical_accuracy: 0.2100\n"
          ],
          "name": "stdout"
        },
        {
          "output_type": "execute_result",
          "data": {
            "text/plain": [
              "<tensorflow.python.keras.callbacks.History at 0x7f31e2b8d4d0>"
            ]
          },
          "metadata": {
            "tags": []
          },
          "execution_count": 15
        }
      ]
    },
    {
      "cell_type": "code",
      "metadata": {
        "id": "JaJ-270dCcnY"
      },
      "source": [
        "Conv3D1.clear_session(Conv3D1_model)"
      ],
      "execution_count": null,
      "outputs": []
    },
    {
      "cell_type": "code",
      "metadata": {
        "id": "qPGUJrJXNVrn",
        "colab": {
          "base_uri": "https://localhost:8080/"
        },
        "outputId": "664bb7e2-3abf-4726-dee9-b2386588bd87"
      },
      "source": [
        "Conv3D1_bs40=ModelConv3D1()\n",
        "Conv3D1_bs40.initialize_src_path(main_folder)\n",
        "Conv3D1_bs40.initialize_image_properties(image_height=160,image_width=160)\n",
        "Conv3D1_bs40.initialize_hyperparams(frames_to_sample=30,batch_size=40,num_epochs=1)\n",
        "Conv3D1_model_bs40=Conv3D1_bs40.define_model()\n",
        "Conv3D1_model_bs40.summary()"
      ],
      "execution_count": null,
      "outputs": [
        {
          "output_type": "stream",
          "text": [
            "Model: \"sequential\"\n",
            "_________________________________________________________________\n",
            "Layer (type)                 Output Shape              Param #   \n",
            "=================================================================\n",
            "conv3d (Conv3D)              (None, 30, 160, 160, 16)  1312      \n",
            "_________________________________________________________________\n",
            "activation (Activation)      (None, 30, 160, 160, 16)  0         \n",
            "_________________________________________________________________\n",
            "batch_normalization (BatchNo (None, 30, 160, 160, 16)  64        \n",
            "_________________________________________________________________\n",
            "max_pooling3d (MaxPooling3D) (None, 15, 80, 80, 16)    0         \n",
            "_________________________________________________________________\n",
            "conv3d_1 (Conv3D)            (None, 15, 80, 80, 32)    4128      \n",
            "_________________________________________________________________\n",
            "activation_1 (Activation)    (None, 15, 80, 80, 32)    0         \n",
            "_________________________________________________________________\n",
            "batch_normalization_1 (Batch (None, 15, 80, 80, 32)    128       \n",
            "_________________________________________________________________\n",
            "max_pooling3d_1 (MaxPooling3 (None, 7, 40, 40, 32)     0         \n",
            "_________________________________________________________________\n",
            "conv3d_2 (Conv3D)            (None, 7, 40, 40, 64)     16448     \n",
            "_________________________________________________________________\n",
            "activation_2 (Activation)    (None, 7, 40, 40, 64)     0         \n",
            "_________________________________________________________________\n",
            "batch_normalization_2 (Batch (None, 7, 40, 40, 64)     256       \n",
            "_________________________________________________________________\n",
            "max_pooling3d_2 (MaxPooling3 (None, 3, 20, 20, 64)     0         \n",
            "_________________________________________________________________\n",
            "conv3d_3 (Conv3D)            (None, 3, 20, 20, 128)    65664     \n",
            "_________________________________________________________________\n",
            "activation_3 (Activation)    (None, 3, 20, 20, 128)    0         \n",
            "_________________________________________________________________\n",
            "batch_normalization_3 (Batch (None, 3, 20, 20, 128)    512       \n",
            "_________________________________________________________________\n",
            "max_pooling3d_3 (MaxPooling3 (None, 1, 10, 10, 128)    0         \n",
            "_________________________________________________________________\n",
            "flatten (Flatten)            (None, 12800)             0         \n",
            "_________________________________________________________________\n",
            "dense (Dense)                (None, 128)               1638528   \n",
            "_________________________________________________________________\n",
            "batch_normalization_4 (Batch (None, 128)               512       \n",
            "_________________________________________________________________\n",
            "dropout (Dropout)            (None, 128)               0         \n",
            "_________________________________________________________________\n",
            "dense_1 (Dense)              (None, 64)                8256      \n",
            "_________________________________________________________________\n",
            "batch_normalization_5 (Batch (None, 64)                256       \n",
            "_________________________________________________________________\n",
            "dropout_1 (Dropout)          (None, 64)                0         \n",
            "_________________________________________________________________\n",
            "dense_2 (Dense)              (None, 5)                 325       \n",
            "=================================================================\n",
            "Total params: 1,736,389\n",
            "Trainable params: 1,735,525\n",
            "Non-trainable params: 864\n",
            "_________________________________________________________________\n"
          ],
          "name": "stdout"
        }
      ]
    },
    {
      "cell_type": "markdown",
      "metadata": {
        "id": "EHCAyYjiNVro"
      },
      "source": [
        "#### Got below memory exhaust error with image resolution of 160x160, 30 frames and a batch_size of 40\n",
        "ResourceExhaustedError:  OOM when allocating tensor with shape[40,16,15,80,80] and type float on /job:localhost/replica:0/task:0/device:GPU:0 by allocator GPU_0_bfc\n",
        "\t [[node gradient_tape/sequential_2/max_pooling3d_8/MaxPool3D/MaxPool3DGrad (defined at <ipython-input-11-c85facc09113>:122) ]]\n",
        "Hint: If you want to see a list of allocated tensors when OOM happens, add report_tensor_allocations_upon_oom to RunOptions for current allocation info.\n",
        " [Op:__inference_train_function_7489]"
      ]
    },
    {
      "cell_type": "code",
      "metadata": {
        "id": "J7SaHnFVNVro",
        "colab": {
          "base_uri": "https://localhost:8080/"
        },
        "outputId": "0dc96723-b99c-4cf5-de74-090abba71d4e"
      },
      "source": [
        "print(\"Memory util is {} Gigs\". format(getsizeof(np.zeros((40,16,30,160,160)))/(1024*1024*1024)))"
      ],
      "execution_count": null,
      "outputs": [
        {
          "output_type": "stream",
          "text": [
            "Memory util is 3.662109524011612 Gigs\n"
          ],
          "name": "stdout"
        }
      ]
    },
    {
      "cell_type": "code",
      "metadata": {
        "id": "jSsKCHtZNVrp",
        "colab": {
          "base_uri": "https://localhost:8080/"
        },
        "outputId": "8cb40823-6f73-46dc-d828-6f536990e4f6"
      },
      "source": [
        "conv_3d1=ModelConv3D1()\n",
        "conv_3d1.initialize_src_path(main_folder)\n",
        "conv_3d1.initialize_image_properties(image_height=160,image_width=160)\n",
        "conv_3d1.initialize_hyperparams(frames_to_sample=16,batch_size=30,num_epochs=3)\n",
        "conv_3d1_model=conv_3d1.define_model()\n",
        "print(\"Total Params:\", conv_3d1_model.count_params())\n",
        "conv_3d1.train_model(conv_3d1_model)"
      ],
      "execution_count": null,
      "outputs": [
        {
          "output_type": "stream",
          "text": [
            "Total Params: 1736389\n",
            "WARNING:tensorflow:`period` argument is deprecated. Please use `save_freq` to specify the frequency in number of batches seen.\n",
            "Epoch 1/3\n",
            "23/23 [==============================] - ETA: 0s - batch: 11.0000 - size: 28.8261 - loss: 1.4579 - categorical_accuracy: 0.4480\n",
            "Epoch 00001: saving model to model_init_2021-03-1617_25_47.436925/model-00001-1.45787-0.44796-3.58210-0.16000.h5\n",
            "4\n",
            "23/23 [==============================] - 198s 8s/step - batch: 11.0000 - size: 28.8261 - loss: 1.4579 - categorical_accuracy: 0.4480 - val_loss: 3.5821 - val_categorical_accuracy: 0.1600\n",
            "Epoch 2/3\n",
            "23/23 [==============================] - ETA: 0s - batch: 11.0000 - size: 28.8261 - loss: 0.9643 - categorical_accuracy: 0.6275\n",
            "Epoch 00002: saving model to model_init_2021-03-1617_25_47.436925/model-00002-0.96433-0.62745-7.10073-0.18000.h5\n",
            "0\n",
            "23/23 [==============================] - 153s 7s/step - batch: 11.0000 - size: 28.8261 - loss: 0.9643 - categorical_accuracy: 0.6275 - val_loss: 7.1007 - val_categorical_accuracy: 0.1800\n",
            "Epoch 3/3\n",
            "23/23 [==============================] - ETA: 0s - batch: 11.0000 - size: 28.8261 - loss: 0.7267 - categorical_accuracy: 0.7255\n",
            "Epoch 00003: saving model to model_init_2021-03-1617_25_47.436925/model-00003-0.72666-0.72549-10.37415-0.11000.h5\n",
            "0\n",
            "23/23 [==============================] - 157s 7s/step - batch: 11.0000 - size: 28.8261 - loss: 0.7267 - categorical_accuracy: 0.7255 - val_loss: 10.3741 - val_categorical_accuracy: 0.1100\n"
          ],
          "name": "stdout"
        },
        {
          "output_type": "execute_result",
          "data": {
            "text/plain": [
              "<tensorflow.python.keras.callbacks.History at 0x7f31e28b1050>"
            ]
          },
          "metadata": {
            "tags": []
          },
          "execution_count": 19
        }
      ]
    },
    {
      "cell_type": "code",
      "metadata": {
        "id": "jx0kjX0PNVrr",
        "colab": {
          "base_uri": "https://localhost:8080/"
        },
        "outputId": "e684d798-9e4f-42e0-bc73-2c872d5c33b8"
      },
      "source": [
        "conv_3d1.clear_session(conv_3d1_model)\n",
        "conv_3d1=ModelConv3D1()\n",
        "conv_3d1.initialize_src_path(main_folder)\n",
        "conv_3d1.initialize_image_properties(image_height=100,image_width=100)\n",
        "conv_3d1.initialize_hyperparams(frames_to_sample=30,batch_size=30,num_epochs=2)\n",
        "conv_3d1_model=conv_3d1.define_model()\n",
        "print(\"Total Params:\", conv_3d1_model.count_params())\n",
        "conv_3d1.train_model(conv_3d1_model)"
      ],
      "execution_count": null,
      "outputs": [
        {
          "output_type": "stream",
          "text": [
            "Total Params: 687813\n",
            "WARNING:tensorflow:`period` argument is deprecated. Please use `save_freq` to specify the frequency in number of batches seen.\n",
            "Epoch 1/2\n",
            "23/23 [==============================] - ETA: 0s - batch: 11.0000 - size: 28.8261 - loss: 1.6429 - categorical_accuracy: 0.4012 \n",
            "Epoch 00001: saving model to model_init_2021-03-1617_34_18.525372/model-00001-1.64291-0.40121-1.79644-0.21000.h5\n",
            "48\n",
            "23/23 [==============================] - 294s 13s/step - batch: 11.0000 - size: 28.8261 - loss: 1.6429 - categorical_accuracy: 0.4012 - val_loss: 1.7964 - val_categorical_accuracy: 0.2100\n",
            "Epoch 2/2\n",
            "23/23 [==============================] - ETA: 0s - batch: 11.0000 - size: 28.8261 - loss: 1.1605 - categorical_accuracy: 0.5566\n",
            "Epoch 00002: saving model to model_init_2021-03-1617_34_18.525372/model-00002-1.16052-0.55656-2.92926-0.16000.h5\n",
            "0\n",
            "23/23 [==============================] - 246s 11s/step - batch: 11.0000 - size: 28.8261 - loss: 1.1605 - categorical_accuracy: 0.5566 - val_loss: 2.9293 - val_categorical_accuracy: 0.1600\n"
          ],
          "name": "stdout"
        },
        {
          "output_type": "execute_result",
          "data": {
            "text/plain": [
              "<tensorflow.python.keras.callbacks.History at 0x7f31e232df90>"
            ]
          },
          "metadata": {
            "tags": []
          },
          "execution_count": 20
        }
      ]
    },
    {
      "cell_type": "code",
      "metadata": {
        "id": "xReB_wtlNVrx",
        "colab": {
          "base_uri": "https://localhost:8080/"
        },
        "outputId": "ce7ffabf-3db9-468f-8e37-fc1c7a3ea23d"
      },
      "source": [
        "conv_3d1.clear_session(conv_3d1_model)\n",
        "conv_3d1=ModelConv3D1()\n",
        "conv_3d1.initialize_src_path(main_folder)\n",
        "conv_3d1.initialize_image_properties(image_height=100,image_width=100)\n",
        "conv_3d1.initialize_hyperparams(frames_to_sample=30,batch_size=60,num_epochs=2)\n",
        "conv_3d1_model=conv_3d1.define_model()\n",
        "print(\"Total Params:\", conv_3d1_model.count_params())\n",
        "conv_3d1.train_model(conv_3d1_model)"
      ],
      "execution_count": null,
      "outputs": [
        {
          "output_type": "stream",
          "text": [
            "Total Params: 687813\n",
            "WARNING:tensorflow:`period` argument is deprecated. Please use `save_freq` to specify the frequency in number of batches seen.\n",
            "Epoch 1/2\n",
            "12/12 [==============================] - ETA: 0s - batch: 5.5000 - size: 55.2500 - loss: 1.5702 - categorical_accuracy: 0.4148 \n",
            "Epoch 00001: saving model to model_init_2021-03-1617_43_22.305275/model-00001-1.57016-0.41478-1.65085-0.16000.h5\n",
            "48\n",
            "12/12 [==============================] - 294s 24s/step - batch: 5.5000 - size: 55.2500 - loss: 1.5702 - categorical_accuracy: 0.4148 - val_loss: 1.6508 - val_categorical_accuracy: 0.1600\n",
            "Epoch 2/2\n",
            "12/12 [==============================] - ETA: 0s - batch: 5.5000 - size: 55.2500 - loss: 1.2213 - categorical_accuracy: 0.5596 \n",
            "Epoch 00002: saving model to model_init_2021-03-1617_43_22.305275/model-00002-1.22129-0.55958-2.46422-0.16000.h5\n",
            "0\n",
            "12/12 [==============================] - 255s 23s/step - batch: 5.5000 - size: 55.2500 - loss: 1.2213 - categorical_accuracy: 0.5596 - val_loss: 2.4642 - val_categorical_accuracy: 0.1600\n"
          ],
          "name": "stdout"
        },
        {
          "output_type": "execute_result",
          "data": {
            "text/plain": [
              "<tensorflow.python.keras.callbacks.History at 0x7f31e1e44f10>"
            ]
          },
          "metadata": {
            "tags": []
          },
          "execution_count": 21
        }
      ]
    },
    {
      "cell_type": "code",
      "metadata": {
        "id": "DoKopL3YNVry",
        "colab": {
          "base_uri": "https://localhost:8080/"
        },
        "outputId": "ca951448-4f74-477b-ce70-813d98224483"
      },
      "source": [
        "conv_3d1.clear_session(conv_3d1_model)\n",
        "conv_3d1=ModelConv3D1()\n",
        "conv_3d1.initialize_src_path(main_folder)\n",
        "conv_3d1.initialize_image_properties(image_height=100,image_width=100)\n",
        "conv_3d1.initialize_hyperparams(frames_to_sample=16,batch_size=60,num_epochs=2)\n",
        "conv_3d1_model=conv_3d1.define_model()\n",
        "print(\"Total Params:\", conv_3d1_model.count_params())\n",
        "conv_3d1.train_model(conv_3d1_model)"
      ],
      "execution_count": null,
      "outputs": [
        {
          "output_type": "stream",
          "text": [
            "Total Params: 687813\n",
            "WARNING:tensorflow:`period` argument is deprecated. Please use `save_freq` to specify the frequency in number of batches seen.\n",
            "Epoch 1/2\n",
            "12/12 [==============================] - ETA: 0s - batch: 5.5000 - size: 55.2500 - loss: 1.7014 - categorical_accuracy: 0.3665 \n",
            "Epoch 00001: saving model to model_init_2021-03-1617_52_34.815078/model-00001-1.70136-0.36652-1.71886-0.17000.h5\n",
            "48\n",
            "12/12 [==============================] - 179s 13s/step - batch: 5.5000 - size: 55.2500 - loss: 1.7014 - categorical_accuracy: 0.3665 - val_loss: 1.7189 - val_categorical_accuracy: 0.1700\n",
            "Epoch 2/2\n",
            "12/12 [==============================] - ETA: 0s - batch: 5.5000 - size: 55.2500 - loss: 1.4547 - categorical_accuracy: 0.5023 \n",
            "Epoch 00002: saving model to model_init_2021-03-1617_52_34.815078/model-00002-1.45466-0.50226-2.78275-0.17000.h5\n",
            "0\n",
            "12/12 [==============================] - 136s 12s/step - batch: 5.5000 - size: 55.2500 - loss: 1.4547 - categorical_accuracy: 0.5023 - val_loss: 2.7828 - val_categorical_accuracy: 0.1700\n"
          ],
          "name": "stdout"
        },
        {
          "output_type": "execute_result",
          "data": {
            "text/plain": [
              "<tensorflow.python.keras.callbacks.History at 0x7f312f57f550>"
            ]
          },
          "metadata": {
            "tags": []
          },
          "execution_count": 22
        }
      ]
    },
    {
      "cell_type": "code",
      "metadata": {
        "id": "IHABNT4GNVry",
        "colab": {
          "base_uri": "https://localhost:8080/"
        },
        "outputId": "321eafc0-7608-4e19-a099-106c914830a4"
      },
      "source": [
        "conv_3d1.clear_session(conv_3d1_model)\n",
        "conv_3d1=ModelConv3D1()\n",
        "conv_3d1.initialize_src_path(main_folder)\n",
        "conv_3d1.initialize_image_properties(image_height=100,image_width=100)\n",
        "conv_3d1.initialize_hyperparams(frames_to_sample=16,batch_size=80,num_epochs=2)\n",
        "conv_3d1_model=conv_3d1.define_model()\n",
        "print(\"Total Params:\", conv_3d1_model.count_params())\n",
        "conv_3d1.train_model(conv_3d1_model)"
      ],
      "execution_count": null,
      "outputs": [
        {
          "output_type": "stream",
          "text": [
            "Total Params: 687813\n",
            "WARNING:tensorflow:`period` argument is deprecated. Please use `save_freq` to specify the frequency in number of batches seen.\n",
            "Epoch 1/2\n",
            "9/9 [==============================] - ETA: 0s - batch: 4.0000 - size: 73.6667 - loss: 1.7387 - categorical_accuracy: 0.3786 \n",
            "Epoch 00001: saving model to model_init_2021-03-1617_57_53.433839/model-00001-1.73868-0.37858-1.61466-0.21000.h5\n",
            "48\n",
            "9/9 [==============================] - 166s 17s/step - batch: 4.0000 - size: 73.6667 - loss: 1.7387 - categorical_accuracy: 0.3786 - val_loss: 1.6147 - val_categorical_accuracy: 0.2100\n",
            "Epoch 2/2\n",
            "9/9 [==============================] - ETA: 0s - batch: 4.0000 - size: 73.6667 - loss: 1.1627 - categorical_accuracy: 0.5732 \n",
            "Epoch 00002: saving model to model_init_2021-03-1617_57_53.433839/model-00002-1.16269-0.57315-2.01522-0.16000.h5\n",
            "0\n",
            "9/9 [==============================] - 138s 17s/step - batch: 4.0000 - size: 73.6667 - loss: 1.1627 - categorical_accuracy: 0.5732 - val_loss: 2.0152 - val_categorical_accuracy: 0.1600\n"
          ],
          "name": "stdout"
        },
        {
          "output_type": "execute_result",
          "data": {
            "text/plain": [
              "<tensorflow.python.keras.callbacks.History at 0x7f313205ff50>"
            ]
          },
          "metadata": {
            "tags": []
          },
          "execution_count": 23
        }
      ]
    },
    {
      "cell_type": "code",
      "metadata": {
        "id": "d2T9W4HyNVrz",
        "colab": {
          "base_uri": "https://localhost:8080/"
        },
        "outputId": "936f3dbd-4e00-4db7-9c0d-2bd2a4dcdbbf"
      },
      "source": [
        "conv_3d1.clear_session(conv_3d1_model)\n",
        "conv_3d1=ModelConv3D1()\n",
        "conv_3d1.initialize_src_path(main_folder)\n",
        "conv_3d1.initialize_image_properties(image_height=160,image_width=160)\n",
        "conv_3d1.initialize_hyperparams(frames_to_sample=30,batch_size=15,num_epochs=2)\n",
        "conv_3d1_model=conv_3d1.define_model()\n",
        "print(\"Total Params:\", conv_3d1_model.count_params())\n",
        "conv_3d1.train_model(conv_3d1_model)"
      ],
      "execution_count": null,
      "outputs": [
        {
          "output_type": "stream",
          "text": [
            "Total Params: 1736389\n",
            "WARNING:tensorflow:`period` argument is deprecated. Please use `save_freq` to specify the frequency in number of batches seen.\n",
            "Epoch 1/2\n",
            "45/45 [==============================] - ETA: 0s - batch: 22.0000 - size: 14.7333 - loss: 1.5972 - categorical_accuracy: 0.4284\n",
            "Epoch 00001: saving model to model_init_2021-03-1618_03_00.910522/model-00001-1.59724-0.42836-5.32844-0.21000.h5\n",
            "48\n",
            "45/45 [==============================] - 334s 7s/step - batch: 22.0000 - size: 14.7333 - loss: 1.5972 - categorical_accuracy: 0.4284 - val_loss: 5.3284 - val_categorical_accuracy: 0.2100\n",
            "Epoch 2/2\n",
            "45/45 [==============================] - ETA: 0s - batch: 22.0000 - size: 14.7333 - loss: 1.1243 - categorical_accuracy: 0.5882\n",
            "Epoch 00002: saving model to model_init_2021-03-1618_03_00.910522/model-00002-1.12431-0.58824-9.55669-0.23000.h5\n",
            "0\n",
            "45/45 [==============================] - 284s 6s/step - batch: 22.0000 - size: 14.7333 - loss: 1.1243 - categorical_accuracy: 0.5882 - val_loss: 9.5567 - val_categorical_accuracy: 0.2300\n"
          ],
          "name": "stdout"
        },
        {
          "output_type": "execute_result",
          "data": {
            "text/plain": [
              "<tensorflow.python.keras.callbacks.History at 0x7f31a34bd850>"
            ]
          },
          "metadata": {
            "tags": []
          },
          "execution_count": 24
        }
      ]
    },
    {
      "cell_type": "code",
      "metadata": {
        "id": "25WU3xHcNVrz",
        "colab": {
          "base_uri": "https://localhost:8080/"
        },
        "outputId": "9246c9d0-c253-442c-ba3e-1f6ca5d6260e"
      },
      "source": [
        "conv_3d1.clear_session(conv_3d1_model)\n",
        "conv_3d1=ModelConv3D1()\n",
        "conv_3d1.initialize_src_path(main_folder)\n",
        "conv_3d1.initialize_image_properties(image_height=160,image_width=160)\n",
        "conv_3d1.initialize_hyperparams(frames_to_sample=16,batch_size=15,num_epochs=2)\n",
        "conv_3d1_model=conv_3d1.define_model()\n",
        "print(\"Total Params:\", conv_3d1_model.count_params())\n",
        "conv_3d1.train_model(conv_3d1_model)"
      ],
      "execution_count": null,
      "outputs": [
        {
          "output_type": "stream",
          "text": [
            "Total Params: 1736389\n",
            "WARNING:tensorflow:`period` argument is deprecated. Please use `save_freq` to specify the frequency in number of batches seen.\n",
            "Epoch 1/2\n",
            "45/45 [==============================] - ETA: 0s - batch: 22.0000 - size: 14.7333 - loss: 1.5379 - categorical_accuracy: 0.4253\n",
            "Epoch 00001: saving model to model_init_2021-03-1618_13_23.156274/model-00001-1.53788-0.42534-6.44199-0.15000.h5\n",
            "48\n",
            "45/45 [==============================] - 180s 4s/step - batch: 22.0000 - size: 14.7333 - loss: 1.5379 - categorical_accuracy: 0.4253 - val_loss: 6.4420 - val_categorical_accuracy: 0.1500\n",
            "Epoch 2/2\n",
            "45/45 [==============================] - ETA: 0s - batch: 22.0000 - size: 14.7333 - loss: 1.0118 - categorical_accuracy: 0.6094\n",
            "Epoch 00002: saving model to model_init_2021-03-1618_13_23.156274/model-00002-1.01183-0.60935-9.79796-0.13000.h5\n",
            "0\n",
            "45/45 [==============================] - 151s 3s/step - batch: 22.0000 - size: 14.7333 - loss: 1.0118 - categorical_accuracy: 0.6094 - val_loss: 9.7980 - val_categorical_accuracy: 0.1300\n"
          ],
          "name": "stdout"
        },
        {
          "output_type": "execute_result",
          "data": {
            "text/plain": [
              "<tensorflow.python.keras.callbacks.History at 0x7f313158eb50>"
            ]
          },
          "metadata": {
            "tags": []
          },
          "execution_count": 25
        }
      ]
    },
    {
      "cell_type": "code",
      "metadata": {
        "id": "KPzFJDfUNVr0",
        "colab": {
          "base_uri": "https://localhost:8080/"
        },
        "outputId": "e4afdc45-e433-4b7c-8c80-03c5289af80c"
      },
      "source": [
        "conv_3d1.clear_session(conv_3d1_model)\n",
        "conv_3d1=ModelConv3D1()\n",
        "conv_3d1.initialize_src_path(main_folder)\n",
        "conv_3d1.initialize_image_properties(image_height=100,image_width=100)\n",
        "conv_3d1.initialize_hyperparams(frames_to_sample=16,batch_size=15,num_epochs=2)\n",
        "conv_3d1_model=conv_3d1.define_model()\n",
        "print(\"Total Params:\", conv_3d1_model.count_params())\n",
        "conv_3d1.train_model(conv_3d1_model)"
      ],
      "execution_count": null,
      "outputs": [
        {
          "output_type": "stream",
          "text": [
            "Total Params: 687813\n",
            "WARNING:tensorflow:`period` argument is deprecated. Please use `save_freq` to specify the frequency in number of batches seen.\n",
            "Epoch 1/2\n",
            "45/45 [==============================] - ETA: 0s - batch: 22.0000 - size: 14.7333 - loss: 1.7739 - categorical_accuracy: 0.3741\n",
            "Epoch 00001: saving model to model_init_2021-03-1618_18_57.526314/model-00001-1.77390-0.37406-2.06810-0.21000.h5\n",
            "48\n",
            "45/45 [==============================] - 155s 3s/step - batch: 22.0000 - size: 14.7333 - loss: 1.7739 - categorical_accuracy: 0.3741 - val_loss: 2.0681 - val_categorical_accuracy: 0.2100\n",
            "Epoch 2/2\n",
            "45/45 [==============================] - ETA: 0s - batch: 22.0000 - size: 14.7333 - loss: 1.2061 - categorical_accuracy: 0.5324\n",
            "Epoch 00002: saving model to model_init_2021-03-1618_18_57.526314/model-00002-1.20606-0.53243-4.29833-0.13000.h5\n",
            "0\n",
            "45/45 [==============================] - 134s 3s/step - batch: 22.0000 - size: 14.7333 - loss: 1.2061 - categorical_accuracy: 0.5324 - val_loss: 4.2983 - val_categorical_accuracy: 0.1300\n"
          ],
          "name": "stdout"
        },
        {
          "output_type": "execute_result",
          "data": {
            "text/plain": [
              "<tensorflow.python.keras.callbacks.History at 0x7f312eb62c90>"
            ]
          },
          "metadata": {
            "tags": []
          },
          "execution_count": 26
        }
      ]
    },
    {
      "cell_type": "code",
      "metadata": {
        "id": "zdQ6Aed-NVr4",
        "colab": {
          "base_uri": "https://localhost:8080/"
        },
        "outputId": "5373637f-b397-4727-b826-50ed8585ada2"
      },
      "source": [
        "conv_3d1.clear_session(conv_3d1_model)\n",
        "conv_3d1=ModelConv3D1()\n",
        "conv_3d1.initialize_src_path(main_folder)\n",
        "conv_3d1.initialize_image_properties(image_height=100,image_width=100)\n",
        "conv_3d1.initialize_hyperparams(frames_to_sample=16,batch_size=10,num_epochs=2)\n",
        "conv_3d1_model=conv_3d1.define_model()\n",
        "print(\"Total Params:\", conv_3d1_model.count_params())\n",
        "conv_3d1.train_model(conv_3d1_model)"
      ],
      "execution_count": null,
      "outputs": [
        {
          "output_type": "stream",
          "text": [
            "Total Params: 687813\n",
            "WARNING:tensorflow:`period` argument is deprecated. Please use `save_freq` to specify the frequency in number of batches seen.\n",
            "Epoch 1/2\n",
            "67/67 [==============================] - ETA: 0s - batch: 33.0000 - size: 9.8955 - loss: 1.7582 - categorical_accuracy: 0.3741 \n",
            "Epoch 00001: saving model to model_init_2021-03-1618_23_49.971391/model-00001-1.75815-0.37406-3.13596-0.17000.h5\n",
            "48\n",
            "67/67 [==============================] - 160s 2s/step - batch: 33.0000 - size: 9.8955 - loss: 1.7582 - categorical_accuracy: 0.3741 - val_loss: 3.1360 - val_categorical_accuracy: 0.1700\n",
            "Epoch 2/2\n",
            "67/67 [==============================] - ETA: 0s - batch: 33.0000 - size: 9.8955 - loss: 1.2933 - categorical_accuracy: 0.4691 \n",
            "Epoch 00002: saving model to model_init_2021-03-1618_23_49.971391/model-00002-1.29329-0.46908-5.00531-0.16000.h5\n",
            "0\n",
            "67/67 [==============================] - 134s 2s/step - batch: 33.0000 - size: 9.8955 - loss: 1.2933 - categorical_accuracy: 0.4691 - val_loss: 5.0053 - val_categorical_accuracy: 0.1600\n"
          ],
          "name": "stdout"
        },
        {
          "output_type": "execute_result",
          "data": {
            "text/plain": [
              "<tensorflow.python.keras.callbacks.History at 0x7f31309f8490>"
            ]
          },
          "metadata": {
            "tags": []
          },
          "execution_count": 27
        }
      ]
    },
    {
      "cell_type": "code",
      "metadata": {
        "id": "1OYsvNb7NVr5",
        "colab": {
          "base_uri": "https://localhost:8080/"
        },
        "outputId": "b86800ed-4c47-43d6-a2a2-056f3e09423a"
      },
      "source": [
        "conv_3d1.clear_session(conv_3d1_model)\n",
        "conv_3d1=ModelConv3D1()\n",
        "conv_3d1.initialize_src_path(main_folder)\n",
        "conv_3d1.initialize_image_properties(image_height=100,image_width=100)\n",
        "conv_3d1.initialize_hyperparams(frames_to_sample=30,batch_size=10,num_epochs=2)\n",
        "conv_3d1_model=conv_3d1.define_model()\n",
        "print(\"Total Params:\", conv_3d1_model.count_params())\n",
        "conv_3d1.train_model(conv_3d1_model)"
      ],
      "execution_count": null,
      "outputs": [
        {
          "output_type": "stream",
          "text": [
            "Total Params: 687813\n",
            "WARNING:tensorflow:`period` argument is deprecated. Please use `save_freq` to specify the frequency in number of batches seen.\n",
            "Epoch 1/2\n",
            "67/67 [==============================] - ETA: 0s - batch: 33.0000 - size: 9.8955 - loss: 1.7235 - categorical_accuracy: 0.3741 \n",
            "Epoch 00001: saving model to model_init_2021-03-1618_28_46.253421/model-00001-1.72346-0.37406-7.84060-0.21000.h5\n",
            "48\n",
            "67/67 [==============================] - 288s 4s/step - batch: 33.0000 - size: 9.8955 - loss: 1.7235 - categorical_accuracy: 0.3741 - val_loss: 7.8406 - val_categorical_accuracy: 0.2100\n",
            "Epoch 2/2\n",
            "67/67 [==============================] - ETA: 0s - batch: 33.0000 - size: 9.8955 - loss: 1.2003 - categorical_accuracy: 0.5400 \n",
            "Epoch 00002: saving model to model_init_2021-03-1618_28_46.253421/model-00002-1.20034-0.53997-12.12701-0.20000.h5\n",
            "0\n",
            "67/67 [==============================] - 258s 4s/step - batch: 33.0000 - size: 9.8955 - loss: 1.2003 - categorical_accuracy: 0.5400 - val_loss: 12.1270 - val_categorical_accuracy: 0.2000\n"
          ],
          "name": "stdout"
        },
        {
          "output_type": "execute_result",
          "data": {
            "text/plain": [
              "<tensorflow.python.keras.callbacks.History at 0x7f31e08e5b50>"
            ]
          },
          "metadata": {
            "tags": []
          },
          "execution_count": 28
        }
      ]
    },
    {
      "cell_type": "code",
      "metadata": {
        "id": "6D4BJx6gNVr6",
        "colab": {
          "base_uri": "https://localhost:8080/"
        },
        "outputId": "2cce9353-bcbb-4976-c397-4d939977213d"
      },
      "source": [
        "conv_3d1.clear_session(conv_3d1_model)\n",
        "conv_3d1=ModelConv3D1()\n",
        "conv_3d1.initialize_src_path(main_folder)\n",
        "conv_3d1.initialize_image_properties(image_height=160,image_width=160)\n",
        "conv_3d1.initialize_hyperparams(frames_to_sample=30,batch_size=10,num_epochs=2)\n",
        "conv_3d1_model=conv_3d1.define_model()\n",
        "print(\"Total Params:\", conv_3d1_model.count_params())\n",
        "conv_3d1.train_model(conv_3d1_model)"
      ],
      "execution_count": null,
      "outputs": [
        {
          "output_type": "stream",
          "text": [
            "Total Params: 1736389\n",
            "WARNING:tensorflow:`period` argument is deprecated. Please use `save_freq` to specify the frequency in number of batches seen.\n",
            "Epoch 1/2\n",
            "67/67 [==============================] - ETA: 0s - batch: 33.0000 - size: 9.8955 - loss: 1.5896 - categorical_accuracy: 0.3891 \n",
            "Epoch 00001: saving model to model_init_2021-03-1618_37_55.570999/model-00001-1.58957-0.38914-6.22037-0.16000.h5\n",
            "48\n",
            "67/67 [==============================] - 338s 5s/step - batch: 33.0000 - size: 9.8955 - loss: 1.5896 - categorical_accuracy: 0.3891 - val_loss: 6.2204 - val_categorical_accuracy: 0.1600\n",
            "Epoch 2/2\n",
            "67/67 [==============================] - ETA: 0s - batch: 33.0000 - size: 9.8955 - loss: 1.2065 - categorical_accuracy: 0.5234 \n",
            "Epoch 00002: saving model to model_init_2021-03-1618_37_55.570999/model-00002-1.20654-0.52338-9.05409-0.16000.h5\n",
            "0\n",
            "67/67 [==============================] - 290s 4s/step - batch: 33.0000 - size: 9.8955 - loss: 1.2065 - categorical_accuracy: 0.5234 - val_loss: 9.0541 - val_categorical_accuracy: 0.1600\n"
          ],
          "name": "stdout"
        },
        {
          "output_type": "execute_result",
          "data": {
            "text/plain": [
              "<tensorflow.python.keras.callbacks.History at 0x7f31e03bda10>"
            ]
          },
          "metadata": {
            "tags": []
          },
          "execution_count": 29
        }
      ]
    },
    {
      "cell_type": "code",
      "metadata": {
        "id": "oo38TA_HNVr6",
        "colab": {
          "base_uri": "https://localhost:8080/"
        },
        "outputId": "a25c53e2-3be1-465a-ec8a-4feb2fffedb0"
      },
      "source": [
        "conv_3d1.clear_session(conv_3d1_model)\n",
        "conv_3d1=ModelConv3D1()\n",
        "conv_3d1.initialize_src_path(main_folder)\n",
        "conv_3d1.initialize_image_properties(image_height=160,image_width=160)\n",
        "conv_3d1.initialize_hyperparams(frames_to_sample=16,batch_size=10,num_epochs=2)\n",
        "conv_3d1_model=conv_3d1.define_model()\n",
        "print(\"Total Params:\", conv_3d1_model.count_params())\n",
        "conv_3d1.train_model(conv_3d1_model)"
      ],
      "execution_count": null,
      "outputs": [
        {
          "output_type": "stream",
          "text": [
            "Total Params: 1736389\n",
            "WARNING:tensorflow:`period` argument is deprecated. Please use `save_freq` to specify the frequency in number of batches seen.\n",
            "Epoch 1/2\n",
            "67/67 [==============================] - ETA: 0s - batch: 33.0000 - size: 9.8955 - loss: 1.6350 - categorical_accuracy: 0.3967 \n",
            "Epoch 00001: saving model to model_init_2021-03-1618_48_26.069391/model-00001-1.63499-0.39668-4.31884-0.22000.h5\n",
            "48\n",
            "67/67 [==============================] - 181s 3s/step - batch: 33.0000 - size: 9.8955 - loss: 1.6350 - categorical_accuracy: 0.3967 - val_loss: 4.3188 - val_categorical_accuracy: 0.2200\n",
            "Epoch 2/2\n",
            "67/67 [==============================] - ETA: 0s - batch: 33.0000 - size: 9.8955 - loss: 1.3540 - categorical_accuracy: 0.4827 \n",
            "Epoch 00002: saving model to model_init_2021-03-1618_48_26.069391/model-00002-1.35397-0.48265-7.07003-0.17000.h5\n",
            "0\n",
            "67/67 [==============================] - 157s 2s/step - batch: 33.0000 - size: 9.8955 - loss: 1.3540 - categorical_accuracy: 0.4827 - val_loss: 7.0700 - val_categorical_accuracy: 0.1700\n"
          ],
          "name": "stdout"
        },
        {
          "output_type": "execute_result",
          "data": {
            "text/plain": [
              "<tensorflow.python.keras.callbacks.History at 0x7f3132503590>"
            ]
          },
          "metadata": {
            "tags": []
          },
          "execution_count": 30
        }
      ]
    },
    {
      "cell_type": "code",
      "metadata": {
        "id": "ns4lmR9bNVr7",
        "colab": {
          "base_uri": "https://localhost:8080/"
        },
        "outputId": "64bb6035-a799-4261-f8e7-9d2d8a94563c"
      },
      "source": [
        "conv_3d1.clear_session(conv_3d1_model)\n",
        "conv_3d1=ModelConv3D1()\n",
        "conv_3d1.initialize_src_path(main_folder)\n",
        "conv_3d1.initialize_image_properties(image_height=160,image_width=160)\n",
        "conv_3d1.initialize_hyperparams(frames_to_sample=16,batch_size=40,num_epochs=2)\n",
        "conv_3d1_model=conv_3d1.define_model()\n",
        "print(\"Total Params:\", conv_3d1_model.count_params())\n",
        "conv_3d1.train_model(conv_3d1_model)"
      ],
      "execution_count": null,
      "outputs": [
        {
          "output_type": "stream",
          "text": [
            "Total Params: 1736389\n",
            "WARNING:tensorflow:`period` argument is deprecated. Please use `save_freq` to specify the frequency in number of batches seen.\n",
            "Epoch 1/2\n",
            "17/17 [==============================] - ETA: 0s - batch: 8.0000 - size: 39.0000 - loss: 1.6316 - categorical_accuracy: 0.4268\n",
            "Epoch 00001: saving model to model_init_2021-03-1618_54_06.533408/model-00001-1.63161-0.42685-3.55708-0.21000.h5\n",
            "48\n",
            "17/17 [==============================] - 181s 10s/step - batch: 8.0000 - size: 39.0000 - loss: 1.6316 - categorical_accuracy: 0.4268 - val_loss: 3.5571 - val_categorical_accuracy: 0.2100\n",
            "Epoch 2/2\n",
            "17/17 [==============================] - ETA: 0s - batch: 8.0000 - size: 39.0000 - loss: 1.0408 - categorical_accuracy: 0.6018\n",
            "Epoch 00002: saving model to model_init_2021-03-1618_54_06.533408/model-00002-1.04082-0.60181-7.17712-0.18000.h5\n",
            "0\n",
            "17/17 [==============================] - 156s 10s/step - batch: 8.0000 - size: 39.0000 - loss: 1.0408 - categorical_accuracy: 0.6018 - val_loss: 7.1771 - val_categorical_accuracy: 0.1800\n"
          ],
          "name": "stdout"
        },
        {
          "output_type": "execute_result",
          "data": {
            "text/plain": [
              "<tensorflow.python.keras.callbacks.History at 0x7f312e896bd0>"
            ]
          },
          "metadata": {
            "tags": []
          },
          "execution_count": 31
        }
      ]
    },
    {
      "cell_type": "markdown",
      "metadata": {
        "id": "vVh5rIRCNVr7"
      },
      "source": [
        "### Observation\n",
        "\n",
        "**As we see from the above experiments image resolution and number of frames in sequence have more impact on training time than batch_size.**\n",
        "\n",
        "So experimentations are carried with batch size fixed around 15-40 and changing the resolution and number of image per sequence based on the device memory constraints . Models are designed such that their memory foot print is less than 50 MB which corresponds to 4.3 million parameters assuming the datatype size of parameters to be 12 bytes"
      ]
    },
    {
      "cell_type": "markdown",
      "metadata": {
        "id": "ZKbxe-Szy15j"
      },
      "source": [
        "## Model 1 - Base Model - No Data Augmentation Batch Size 40 and Epoch 15"
      ]
    },
    {
      "cell_type": "code",
      "metadata": {
        "id": "7LVQM4NsNVr7"
      },
      "source": [
        "class ModelConv3D1(ModelBuilder):\r\n",
        "    \r\n",
        "    def define_model(self,filtersize=(3,3,3),dense_neurons=64,dropout=0.25):\r\n",
        "\r\n",
        "        model = Sequential()\r\n",
        "        model.add(Conv3D(16, filtersize, padding='same',\r\n",
        "                 input_shape=(self.frames_to_sample,self.image_height,self.image_width,self.channels)))\r\n",
        "        model.add(Activation('relu'))\r\n",
        "        model.add(BatchNormalization())\r\n",
        "        model.add(MaxPooling3D(pool_size=(2, 2, 2)))\r\n",
        "\r\n",
        "        model.add(Conv3D(32, filtersize, padding='same'))\r\n",
        "        model.add(Activation('relu'))\r\n",
        "        model.add(BatchNormalization())\r\n",
        "        model.add(MaxPooling3D(pool_size=(2, 2, 2)))\r\n",
        "\r\n",
        "        model.add(Conv3D(64, filtersize, padding='same'))\r\n",
        "        model.add(Activation('relu'))\r\n",
        "        model.add(BatchNormalization())\r\n",
        "        model.add(MaxPooling3D(pool_size=(2, 2, 2)))\r\n",
        "\r\n",
        "        model.add(Conv3D(128, filtersize, padding='same'))\r\n",
        "        model.add(Activation('relu'))\r\n",
        "        model.add(BatchNormalization())\r\n",
        "        model.add(MaxPooling3D(pool_size=(2, 2, 2)))\r\n",
        "\r\n",
        "        model.add(Flatten())\r\n",
        "        model.add(Dense(dense_neurons,activation='relu'))\r\n",
        "        model.add(BatchNormalization())\r\n",
        "        model.add(Dropout(dropout))\r\n",
        "\r\n",
        "        model.add(Dense(dense_neurons,activation='relu'))\r\n",
        "        model.add(BatchNormalization())\r\n",
        "        model.add(Dropout(dropout))\r\n",
        "\r\n",
        "\r\n",
        "        model.add(Dense(self.num_classes,activation='softmax'))\r\n",
        "\r\n",
        "        optimiser = optimizers.Adam()\r\n",
        "        model.compile(optimizer=optimiser, loss='categorical_crossentropy', metrics=['categorical_accuracy'])\r\n",
        "        return model"
      ],
      "execution_count": null,
      "outputs": []
    },
    {
      "cell_type": "code",
      "metadata": {
        "colab": {
          "base_uri": "https://localhost:8080/"
        },
        "id": "-89dV5W8WAw3",
        "outputId": "6fb43622-3b41-434d-9ecb-1a7520f4c960"
      },
      "source": [
        "conv_3d1.clear_session(conv_3d1_model)\r\n",
        "Conv3D1=ModelConv3D1()\r\n",
        "Conv3D1.initialize_src_path(main_folder)\r\n",
        "Conv3D1.initialize_image_properties(image_height=160,image_width=160)\r\n",
        "Conv3D1.initialize_hyperparams(frames_to_sample=20,batch_size=40,num_epochs=15)\r\n",
        "Conv3D1_model=Conv3D1.define_model()\r\n",
        "Conv3D1_model.summary()"
      ],
      "execution_count": null,
      "outputs": [
        {
          "output_type": "stream",
          "text": [
            "Model: \"sequential\"\n",
            "_________________________________________________________________\n",
            "Layer (type)                 Output Shape              Param #   \n",
            "=================================================================\n",
            "conv3d (Conv3D)              (None, 20, 160, 160, 16)  1312      \n",
            "_________________________________________________________________\n",
            "activation (Activation)      (None, 20, 160, 160, 16)  0         \n",
            "_________________________________________________________________\n",
            "batch_normalization (BatchNo (None, 20, 160, 160, 16)  64        \n",
            "_________________________________________________________________\n",
            "max_pooling3d (MaxPooling3D) (None, 10, 80, 80, 16)    0         \n",
            "_________________________________________________________________\n",
            "conv3d_1 (Conv3D)            (None, 10, 80, 80, 32)    13856     \n",
            "_________________________________________________________________\n",
            "activation_1 (Activation)    (None, 10, 80, 80, 32)    0         \n",
            "_________________________________________________________________\n",
            "batch_normalization_1 (Batch (None, 10, 80, 80, 32)    128       \n",
            "_________________________________________________________________\n",
            "max_pooling3d_1 (MaxPooling3 (None, 5, 40, 40, 32)     0         \n",
            "_________________________________________________________________\n",
            "conv3d_2 (Conv3D)            (None, 5, 40, 40, 64)     55360     \n",
            "_________________________________________________________________\n",
            "activation_2 (Activation)    (None, 5, 40, 40, 64)     0         \n",
            "_________________________________________________________________\n",
            "batch_normalization_2 (Batch (None, 5, 40, 40, 64)     256       \n",
            "_________________________________________________________________\n",
            "max_pooling3d_2 (MaxPooling3 (None, 2, 20, 20, 64)     0         \n",
            "_________________________________________________________________\n",
            "conv3d_3 (Conv3D)            (None, 2, 20, 20, 128)    221312    \n",
            "_________________________________________________________________\n",
            "activation_3 (Activation)    (None, 2, 20, 20, 128)    0         \n",
            "_________________________________________________________________\n",
            "batch_normalization_3 (Batch (None, 2, 20, 20, 128)    512       \n",
            "_________________________________________________________________\n",
            "max_pooling3d_3 (MaxPooling3 (None, 1, 10, 10, 128)    0         \n",
            "_________________________________________________________________\n",
            "flatten (Flatten)            (None, 12800)             0         \n",
            "_________________________________________________________________\n",
            "dense (Dense)                (None, 64)                819264    \n",
            "_________________________________________________________________\n",
            "batch_normalization_4 (Batch (None, 64)                256       \n",
            "_________________________________________________________________\n",
            "dropout (Dropout)            (None, 64)                0         \n",
            "_________________________________________________________________\n",
            "dense_1 (Dense)              (None, 64)                4160      \n",
            "_________________________________________________________________\n",
            "batch_normalization_5 (Batch (None, 64)                256       \n",
            "_________________________________________________________________\n",
            "dropout_1 (Dropout)          (None, 64)                0         \n",
            "_________________________________________________________________\n",
            "dense_2 (Dense)              (None, 5)                 325       \n",
            "=================================================================\n",
            "Total params: 1,117,061\n",
            "Trainable params: 1,116,325\n",
            "Non-trainable params: 736\n",
            "_________________________________________________________________\n"
          ],
          "name": "stdout"
        }
      ]
    },
    {
      "cell_type": "code",
      "metadata": {
        "colab": {
          "base_uri": "https://localhost:8080/"
        },
        "id": "5j884vjoWQD0",
        "outputId": "a4f6ae20-0fb1-43b6-ad1b-8b17a6c16a5c"
      },
      "source": [
        "print(\"Total Params:\", Conv3D1_model.count_params())\r\n",
        "accuracy_check_model_1 = Conv3D1.train_model(Conv3D1_model)"
      ],
      "execution_count": null,
      "outputs": [
        {
          "output_type": "stream",
          "text": [
            "Total Params: 1117061\n",
            "WARNING:tensorflow:`period` argument is deprecated. Please use `save_freq` to specify the frequency in number of batches seen.\n",
            "Epoch 1/15\n",
            "17/17 [==============================] - ETA: 0s - batch: 8.0000 - size: 39.0000 - loss: 1.4970 - categorical_accuracy: 0.4284\n",
            "Epoch 00001: saving model to model_init_2021-03-1618_59_46.959255/model-00001-1.49695-0.42836-2.00776-0.16000.h5\n",
            "48\n",
            "17/17 [==============================] - 230s 13s/step - batch: 8.0000 - size: 39.0000 - loss: 1.4970 - categorical_accuracy: 0.4284 - val_loss: 2.0078 - val_categorical_accuracy: 0.1600\n",
            "Epoch 2/15\n",
            "17/17 [==============================] - ETA: 0s - batch: 8.0000 - size: 39.0000 - loss: 0.9806 - categorical_accuracy: 0.6259\n",
            "Epoch 00002: saving model to model_init_2021-03-1618_59_46.959255/model-00002-0.98061-0.62594-2.63525-0.27000.h5\n",
            "0\n",
            "17/17 [==============================] - 197s 12s/step - batch: 8.0000 - size: 39.0000 - loss: 0.9806 - categorical_accuracy: 0.6259 - val_loss: 2.6353 - val_categorical_accuracy: 0.2700\n",
            "Epoch 3/15\n",
            "17/17 [==============================] - ETA: 0s - batch: 8.0000 - size: 39.0000 - loss: 0.7097 - categorical_accuracy: 0.7511\n",
            "Epoch 00003: saving model to model_init_2021-03-1618_59_46.959255/model-00003-0.70967-0.75113-3.18782-0.22000.h5\n",
            "0\n",
            "17/17 [==============================] - 193s 12s/step - batch: 8.0000 - size: 39.0000 - loss: 0.7097 - categorical_accuracy: 0.7511 - val_loss: 3.1878 - val_categorical_accuracy: 0.2200\n",
            "Epoch 4/15\n",
            "17/17 [==============================] - ETA: 0s - batch: 8.0000 - size: 39.0000 - loss: 0.4927 - categorical_accuracy: 0.8326\n",
            "Epoch 00004: saving model to model_init_2021-03-1618_59_46.959255/model-00004-0.49273-0.83258-3.98157-0.21000.h5\n",
            "0\n",
            "17/17 [==============================] - 194s 12s/step - batch: 8.0000 - size: 39.0000 - loss: 0.4927 - categorical_accuracy: 0.8326 - val_loss: 3.9816 - val_categorical_accuracy: 0.2100\n",
            "Epoch 5/15\n",
            "17/17 [==============================] - ETA: 0s - batch: 8.0000 - size: 39.0000 - loss: 0.3575 - categorical_accuracy: 0.8839\n",
            "Epoch 00005: saving model to model_init_2021-03-1618_59_46.959255/model-00005-0.35747-0.88386-4.74079-0.17000.h5\n",
            "\n",
            "Epoch 00005: ReduceLROnPlateau reducing learning rate to 0.00020000000949949026.\n",
            "0\n",
            "17/17 [==============================] - 191s 12s/step - batch: 8.0000 - size: 39.0000 - loss: 0.3575 - categorical_accuracy: 0.8839 - val_loss: 4.7408 - val_categorical_accuracy: 0.1700\n",
            "Epoch 6/15\n",
            "17/17 [==============================] - ETA: 0s - batch: 8.0000 - size: 39.0000 - loss: 0.2912 - categorical_accuracy: 0.9080\n",
            "Epoch 00006: saving model to model_init_2021-03-1618_59_46.959255/model-00006-0.29120-0.90799-4.57409-0.25000.h5\n",
            "0\n",
            "17/17 [==============================] - 199s 12s/step - batch: 8.0000 - size: 39.0000 - loss: 0.2912 - categorical_accuracy: 0.9080 - val_loss: 4.5741 - val_categorical_accuracy: 0.2500\n",
            "Epoch 7/15\n",
            "17/17 [==============================] - ETA: 0s - batch: 8.0000 - size: 39.0000 - loss: 0.2131 - categorical_accuracy: 0.9367\n",
            "Epoch 00007: saving model to model_init_2021-03-1618_59_46.959255/model-00007-0.21314-0.93665-5.18399-0.21000.h5\n",
            "0\n",
            "17/17 [==============================] - 191s 12s/step - batch: 8.0000 - size: 39.0000 - loss: 0.2131 - categorical_accuracy: 0.9367 - val_loss: 5.1840 - val_categorical_accuracy: 0.2100\n",
            "Epoch 8/15\n",
            "17/17 [==============================] - ETA: 0s - batch: 8.0000 - size: 39.0000 - loss: 0.1969 - categorical_accuracy: 0.9502\n",
            "Epoch 00008: saving model to model_init_2021-03-1618_59_46.959255/model-00008-0.19689-0.95023-5.83516-0.21000.h5\n",
            "0\n",
            "17/17 [==============================] - 197s 12s/step - batch: 8.0000 - size: 39.0000 - loss: 0.1969 - categorical_accuracy: 0.9502 - val_loss: 5.8352 - val_categorical_accuracy: 0.2100\n",
            "Epoch 9/15\n",
            "17/17 [==============================] - ETA: 0s - batch: 8.0000 - size: 39.0000 - loss: 0.1664 - categorical_accuracy: 0.9713\n",
            "Epoch 00009: saving model to model_init_2021-03-1618_59_46.959255/model-00009-0.16636-0.97134-5.79989-0.21000.h5\n",
            "\n",
            "Epoch 00009: ReduceLROnPlateau reducing learning rate to 4.0000001899898055e-05.\n",
            "0\n",
            "17/17 [==============================] - 197s 12s/step - batch: 8.0000 - size: 39.0000 - loss: 0.1664 - categorical_accuracy: 0.9713 - val_loss: 5.7999 - val_categorical_accuracy: 0.2100\n",
            "Epoch 10/15\n",
            "17/17 [==============================] - ETA: 0s - batch: 8.0000 - size: 39.0000 - loss: 0.1693 - categorical_accuracy: 0.9608\n",
            "Epoch 00010: saving model to model_init_2021-03-1618_59_46.959255/model-00010-0.16931-0.96078-6.57688-0.21000.h5\n",
            "0\n",
            "17/17 [==============================] - 192s 12s/step - batch: 8.0000 - size: 39.0000 - loss: 0.1693 - categorical_accuracy: 0.9608 - val_loss: 6.5769 - val_categorical_accuracy: 0.2100\n",
            "Epoch 11/15\n",
            "17/17 [==============================] - ETA: 0s - batch: 8.0000 - size: 39.0000 - loss: 0.1478 - categorical_accuracy: 0.9759\n",
            "Epoch 00011: saving model to model_init_2021-03-1618_59_46.959255/model-00011-0.14779-0.97587-6.85915-0.19000.h5\n",
            "0\n",
            "17/17 [==============================] - 195s 12s/step - batch: 8.0000 - size: 39.0000 - loss: 0.1478 - categorical_accuracy: 0.9759 - val_loss: 6.8591 - val_categorical_accuracy: 0.1900\n",
            "Epoch 12/15\n",
            "17/17 [==============================] - ETA: 0s - batch: 8.0000 - size: 39.0000 - loss: 0.1513 - categorical_accuracy: 0.9759\n",
            "Epoch 00012: saving model to model_init_2021-03-1618_59_46.959255/model-00012-0.15131-0.97587-6.55005-0.24000.h5\n",
            "0\n",
            "17/17 [==============================] - 197s 12s/step - batch: 8.0000 - size: 39.0000 - loss: 0.1513 - categorical_accuracy: 0.9759 - val_loss: 6.5501 - val_categorical_accuracy: 0.2400\n",
            "Epoch 13/15\n",
            "17/17 [==============================] - ETA: 0s - batch: 8.0000 - size: 39.0000 - loss: 0.1480 - categorical_accuracy: 0.9729\n",
            "Epoch 00013: saving model to model_init_2021-03-1618_59_46.959255/model-00013-0.14797-0.97285-6.76848-0.21000.h5\n",
            "\n",
            "Epoch 00013: ReduceLROnPlateau reducing learning rate to 8.000000525498762e-06.\n",
            "0\n",
            "17/17 [==============================] - 191s 12s/step - batch: 8.0000 - size: 39.0000 - loss: 0.1480 - categorical_accuracy: 0.9729 - val_loss: 6.7685 - val_categorical_accuracy: 0.2100\n",
            "Epoch 14/15\n",
            "17/17 [==============================] - ETA: 0s - batch: 8.0000 - size: 39.0000 - loss: 0.1366 - categorical_accuracy: 0.9774\n",
            "Epoch 00014: saving model to model_init_2021-03-1618_59_46.959255/model-00014-0.13664-0.97738-6.79737-0.23000.h5\n",
            "0\n",
            "17/17 [==============================] - 196s 12s/step - batch: 8.0000 - size: 39.0000 - loss: 0.1366 - categorical_accuracy: 0.9774 - val_loss: 6.7974 - val_categorical_accuracy: 0.2300\n",
            "Epoch 15/15\n",
            "17/17 [==============================] - ETA: 0s - batch: 8.0000 - size: 39.0000 - loss: 0.1299 - categorical_accuracy: 0.9819\n",
            "Epoch 00015: saving model to model_init_2021-03-1618_59_46.959255/model-00015-0.12993-0.98190-6.74204-0.19000.h5\n",
            "0\n",
            "17/17 [==============================] - 191s 12s/step - batch: 8.0000 - size: 39.0000 - loss: 0.1299 - categorical_accuracy: 0.9819 - val_loss: 6.7420 - val_categorical_accuracy: 0.1900\n"
          ],
          "name": "stdout"
        }
      ]
    },
    {
      "cell_type": "code",
      "metadata": {
        "colab": {
          "base_uri": "https://localhost:8080/",
          "height": 265
        },
        "id": "r00TPGbNXXhX",
        "outputId": "10439c28-78d0-42fd-f05e-51f6634c59e8"
      },
      "source": [
        "plot(accuracy_check_model_1)"
      ],
      "execution_count": null,
      "outputs": [
        {
          "output_type": "display_data",
          "data": {
            "image/png": "[encoded data removed]",
            "text/plain": [
              "<Figure size 1080x288 with 2 Axes>"
            ]
          },
          "metadata": {
            "tags": [],
            "needs_background": "light"
          }
        }
      ]
    },
    {
      "cell_type": "markdown",
      "metadata": {
        "id": "Dtxwayy_14Hn"
      },
      "source": [
        "#### Model is clearly overfitting. So we need to do data augmentation"
      ]
    },
    {
      "cell_type": "markdown",
      "metadata": {
        "id": "iJk2twS_2lRx"
      },
      "source": [
        "## Model 2 - Augment Data , (3,3,3) filter & 160x160 image resolution"
      ]
    },
    {
      "cell_type": "code",
      "metadata": {
        "colab": {
          "base_uri": "https://localhost:8080/"
        },
        "id": "fQxHzlc92oOq",
        "outputId": "a080ccd3-fe5f-44e2-a9ec-2e7f45b03655"
      },
      "source": [
        "Conv3D1.clear_session(Conv3D1_model)\r\n",
        "Conv3D2=ModelConv3D1()\r\n",
        "Conv3D2.initialize_src_path(main_folder)\r\n",
        "Conv3D2.initialize_image_properties(image_height=160,image_width=160)\r\n",
        "Conv3D2.initialize_hyperparams(frames_to_sample=20,batch_size=20,num_epochs=25)\r\n",
        "Conv3D2_model=Conv3D2.define_model(dense_neurons=256,dropout=0.5)\r\n",
        "Conv3D2_model.summary()"
      ],
      "execution_count": null,
      "outputs": [
        {
          "output_type": "stream",
          "text": [
            "Model: \"sequential\"\n",
            "_________________________________________________________________\n",
            "Layer (type)                 Output Shape              Param #   \n",
            "=================================================================\n",
            "conv3d (Conv3D)              (None, 20, 160, 160, 16)  1312      \n",
            "_________________________________________________________________\n",
            "activation (Activation)      (None, 20, 160, 160, 16)  0         \n",
            "_________________________________________________________________\n",
            "batch_normalization (BatchNo (None, 20, 160, 160, 16)  64        \n",
            "_________________________________________________________________\n",
            "max_pooling3d (MaxPooling3D) (None, 10, 80, 80, 16)    0         \n",
            "_________________________________________________________________\n",
            "conv3d_1 (Conv3D)            (None, 10, 80, 80, 32)    13856     \n",
            "_________________________________________________________________\n",
            "activation_1 (Activation)    (None, 10, 80, 80, 32)    0         \n",
            "_________________________________________________________________\n",
            "batch_normalization_1 (Batch (None, 10, 80, 80, 32)    128       \n",
            "_________________________________________________________________\n",
            "max_pooling3d_1 (MaxPooling3 (None, 5, 40, 40, 32)     0         \n",
            "_________________________________________________________________\n",
            "conv3d_2 (Conv3D)            (None, 5, 40, 40, 64)     55360     \n",
            "_________________________________________________________________\n",
            "activation_2 (Activation)    (None, 5, 40, 40, 64)     0         \n",
            "_________________________________________________________________\n",
            "batch_normalization_2 (Batch (None, 5, 40, 40, 64)     256       \n",
            "_________________________________________________________________\n",
            "max_pooling3d_2 (MaxPooling3 (None, 2, 20, 20, 64)     0         \n",
            "_________________________________________________________________\n",
            "conv3d_3 (Conv3D)            (None, 2, 20, 20, 128)    221312    \n",
            "_________________________________________________________________\n",
            "activation_3 (Activation)    (None, 2, 20, 20, 128)    0         \n",
            "_________________________________________________________________\n",
            "batch_normalization_3 (Batch (None, 2, 20, 20, 128)    512       \n",
            "_________________________________________________________________\n",
            "max_pooling3d_3 (MaxPooling3 (None, 1, 10, 10, 128)    0         \n",
            "_________________________________________________________________\n",
            "flatten (Flatten)            (None, 12800)             0         \n",
            "_________________________________________________________________\n",
            "dense (Dense)                (None, 256)               3277056   \n",
            "_________________________________________________________________\n",
            "batch_normalization_4 (Batch (None, 256)               1024      \n",
            "_________________________________________________________________\n",
            "dropout (Dropout)            (None, 256)               0         \n",
            "_________________________________________________________________\n",
            "dense_1 (Dense)              (None, 256)               65792     \n",
            "_________________________________________________________________\n",
            "batch_normalization_5 (Batch (None, 256)               1024      \n",
            "_________________________________________________________________\n",
            "dropout_1 (Dropout)          (None, 256)               0         \n",
            "_________________________________________________________________\n",
            "dense_2 (Dense)              (None, 5)                 1285      \n",
            "=================================================================\n",
            "Total params: 3,638,981\n",
            "Trainable params: 3,637,477\n",
            "Non-trainable params: 1,504\n",
            "_________________________________________________________________\n"
          ],
          "name": "stdout"
        }
      ]
    },
    {
      "cell_type": "code",
      "metadata": {
        "colab": {
          "base_uri": "https://localhost:8080/"
        },
        "id": "PCx8waqu3PY9",
        "outputId": "c595b69e-bfeb-455d-c961-f474d21e9bf9"
      },
      "source": [
        "print(\"Total Params:\", Conv3D2_model.count_params())\r\n",
        "accuracy_check_model_2=Conv3D2.train_model(Conv3D2_model,augment_data=True)"
      ],
      "execution_count": null,
      "outputs": [
        {
          "output_type": "stream",
          "text": [
            "Total Params: 3638981\n",
            "WARNING:tensorflow:`period` argument is deprecated. Please use `save_freq` to specify the frequency in number of batches seen.\n",
            "Epoch 1/25\n",
            "34/34 [==============================] - ETA: 0s - batch: 16.5000 - size: 39.0000 - loss: 1.9191 - categorical_accuracy: 0.4103\n",
            "Epoch 00001: saving model to model_init_2021-03-1619_49_03.931325/model-00001-1.91905-0.41026-1.75285-0.32000.h5\n",
            "48\n",
            "34/34 [==============================] - 385s 11s/step - batch: 16.5000 - size: 39.0000 - loss: 1.9191 - categorical_accuracy: 0.4103 - val_loss: 1.7529 - val_categorical_accuracy: 0.3200\n",
            "Epoch 2/25\n",
            "34/34 [==============================] - ETA: 0s - batch: 16.5000 - size: 39.0000 - loss: 1.3964 - categorical_accuracy: 0.5400\n",
            "Epoch 00002: saving model to model_init_2021-03-1619_49_03.931325/model-00002-1.39645-0.53997-2.33815-0.34000.h5\n",
            "0\n",
            "34/34 [==============================] - 355s 11s/step - batch: 16.5000 - size: 39.0000 - loss: 1.3964 - categorical_accuracy: 0.5400 - val_loss: 2.3381 - val_categorical_accuracy: 0.3400\n",
            "Epoch 3/25\n",
            "34/34 [==============================] - ETA: 0s - batch: 16.5000 - size: 39.0000 - loss: 1.1994 - categorical_accuracy: 0.5618\n",
            "Epoch 00003: saving model to model_init_2021-03-1619_49_03.931325/model-00003-1.19944-0.56184-5.52935-0.26000.h5\n",
            "0\n",
            "34/34 [==============================] - 354s 11s/step - batch: 16.5000 - size: 39.0000 - loss: 1.1994 - categorical_accuracy: 0.5618 - val_loss: 5.5294 - val_categorical_accuracy: 0.2600\n",
            "Epoch 4/25\n",
            "34/34 [==============================] - ETA: 0s - batch: 16.5000 - size: 39.0000 - loss: 1.1600 - categorical_accuracy: 0.5958\n",
            "Epoch 00004: saving model to model_init_2021-03-1619_49_03.931325/model-00004-1.16000-0.59578-6.63132-0.25000.h5\n",
            "0\n",
            "34/34 [==============================] - 356s 11s/step - batch: 16.5000 - size: 39.0000 - loss: 1.1600 - categorical_accuracy: 0.5958 - val_loss: 6.6313 - val_categorical_accuracy: 0.2500\n",
            "Epoch 5/25\n",
            "34/34 [==============================] - ETA: 0s - batch: 16.5000 - size: 39.0000 - loss: 1.1125 - categorical_accuracy: 0.6056\n",
            "Epoch 00005: saving model to model_init_2021-03-1619_49_03.931325/model-00005-1.11251-0.60558-2.88685-0.27000.h5\n",
            "\n",
            "Epoch 00005: ReduceLROnPlateau reducing learning rate to 0.00020000000949949026.\n",
            "0\n",
            "34/34 [==============================] - 358s 11s/step - batch: 16.5000 - size: 39.0000 - loss: 1.1125 - categorical_accuracy: 0.6056 - val_loss: 2.8868 - val_categorical_accuracy: 0.2700\n",
            "Epoch 6/25\n",
            "34/34 [==============================] - ETA: 0s - batch: 16.5000 - size: 39.0000 - loss: 0.9109 - categorical_accuracy: 0.6795\n",
            "Epoch 00006: saving model to model_init_2021-03-1619_49_03.931325/model-00006-0.91093-0.67949-3.97602-0.27000.h5\n",
            "0\n",
            "34/34 [==============================] - 360s 11s/step - batch: 16.5000 - size: 39.0000 - loss: 0.9109 - categorical_accuracy: 0.6795 - val_loss: 3.9760 - val_categorical_accuracy: 0.2700\n",
            "Epoch 7/25\n",
            "34/34 [==============================] - ETA: 0s - batch: 16.5000 - size: 39.0000 - loss: 0.8265 - categorical_accuracy: 0.7074\n",
            "Epoch 00007: saving model to model_init_2021-03-1619_49_03.931325/model-00007-0.82653-0.70739-3.96932-0.29000.h5\n",
            "0\n",
            "34/34 [==============================] - 364s 11s/step - batch: 16.5000 - size: 39.0000 - loss: 0.8265 - categorical_accuracy: 0.7074 - val_loss: 3.9693 - val_categorical_accuracy: 0.2900\n",
            "Epoch 8/25\n",
            "34/34 [==============================] - ETA: 0s - batch: 16.5000 - size: 39.0000 - loss: 0.7744 - categorical_accuracy: 0.7368\n",
            "Epoch 00008: saving model to model_init_2021-03-1619_49_03.931325/model-00008-0.77443-0.73680-4.23046-0.29000.h5\n",
            "0\n",
            "34/34 [==============================] - 356s 11s/step - batch: 16.5000 - size: 39.0000 - loss: 0.7744 - categorical_accuracy: 0.7368 - val_loss: 4.2305 - val_categorical_accuracy: 0.2900\n",
            "Epoch 9/25\n",
            "34/34 [==============================] - ETA: 0s - batch: 16.5000 - size: 39.0000 - loss: 0.7421 - categorical_accuracy: 0.7210\n",
            "Epoch 00009: saving model to model_init_2021-03-1619_49_03.931325/model-00009-0.74206-0.72097-4.33614-0.27000.h5\n",
            "\n",
            "Epoch 00009: ReduceLROnPlateau reducing learning rate to 4.0000001899898055e-05.\n",
            "0\n",
            "34/34 [==============================] - 364s 11s/step - batch: 16.5000 - size: 39.0000 - loss: 0.7421 - categorical_accuracy: 0.7210 - val_loss: 4.3361 - val_categorical_accuracy: 0.2700\n",
            "Epoch 10/25\n",
            "34/34 [==============================] - ETA: 0s - batch: 16.5000 - size: 39.0000 - loss: 0.6522 - categorical_accuracy: 0.7496\n",
            "Epoch 00010: saving model to model_init_2021-03-1619_49_03.931325/model-00010-0.65224-0.74962-4.16016-0.28000.h5\n",
            "0\n",
            "34/34 [==============================] - 350s 11s/step - batch: 16.5000 - size: 39.0000 - loss: 0.6522 - categorical_accuracy: 0.7496 - val_loss: 4.1602 - val_categorical_accuracy: 0.2800\n",
            "Epoch 11/25\n",
            "34/34 [==============================] - ETA: 0s - batch: 16.5000 - size: 39.0000 - loss: 0.6825 - categorical_accuracy: 0.7459\n",
            "Epoch 00011: saving model to model_init_2021-03-1619_49_03.931325/model-00011-0.68255-0.74585-3.46579-0.28000.h5\n",
            "0\n",
            "34/34 [==============================] - 358s 11s/step - batch: 16.5000 - size: 39.0000 - loss: 0.6825 - categorical_accuracy: 0.7459 - val_loss: 3.4658 - val_categorical_accuracy: 0.2800\n",
            "Epoch 12/25\n",
            "34/34 [==============================] - ETA: 0s - batch: 16.5000 - size: 39.0000 - loss: 0.7273 - categorical_accuracy: 0.7391\n",
            "Epoch 00012: saving model to model_init_2021-03-1619_49_03.931325/model-00012-0.72732-0.73906-3.10514-0.30000.h5\n",
            "0\n",
            "34/34 [==============================] - 349s 11s/step - batch: 16.5000 - size: 39.0000 - loss: 0.7273 - categorical_accuracy: 0.7391 - val_loss: 3.1051 - val_categorical_accuracy: 0.3000\n",
            "Epoch 13/25\n",
            "34/34 [==============================] - ETA: 0s - batch: 16.5000 - size: 39.0000 - loss: 0.6825 - categorical_accuracy: 0.7549\n",
            "Epoch 00013: saving model to model_init_2021-03-1619_49_03.931325/model-00013-0.68254-0.75490-2.46385-0.36000.h5\n",
            "\n",
            "Epoch 00013: ReduceLROnPlateau reducing learning rate to 8.000000525498762e-06.\n",
            "0\n",
            "34/34 [==============================] - 348s 10s/step - batch: 16.5000 - size: 39.0000 - loss: 0.6825 - categorical_accuracy: 0.7549 - val_loss: 2.4638 - val_categorical_accuracy: 0.3600\n",
            "Epoch 14/25\n",
            "34/34 [==============================] - ETA: 0s - batch: 16.5000 - size: 39.0000 - loss: 0.6165 - categorical_accuracy: 0.7670\n",
            "Epoch 00014: saving model to model_init_2021-03-1619_49_03.931325/model-00014-0.61647-0.76697-2.09655-0.35000.h5\n",
            "0\n",
            "34/34 [==============================] - 350s 11s/step - batch: 16.5000 - size: 39.0000 - loss: 0.6165 - categorical_accuracy: 0.7670 - val_loss: 2.0965 - val_categorical_accuracy: 0.3500\n",
            "Epoch 15/25\n",
            "34/34 [==============================] - ETA: 0s - batch: 16.5000 - size: 39.0000 - loss: 0.7184 - categorical_accuracy: 0.7519\n",
            "Epoch 00015: saving model to model_init_2021-03-1619_49_03.931325/model-00015-0.71845-0.75189-1.92763-0.38000.h5\n",
            "0\n",
            "34/34 [==============================] - 352s 11s/step - batch: 16.5000 - size: 39.0000 - loss: 0.7184 - categorical_accuracy: 0.7519 - val_loss: 1.9276 - val_categorical_accuracy: 0.3800\n",
            "Epoch 16/25\n",
            "34/34 [==============================] - ETA: 0s - batch: 16.5000 - size: 39.0000 - loss: 0.6131 - categorical_accuracy: 0.7647\n",
            "Epoch 00016: saving model to model_init_2021-03-1619_49_03.931325/model-00016-0.61306-0.76471-1.52612-0.47000.h5\n",
            "0\n",
            "34/34 [==============================] - 352s 11s/step - batch: 16.5000 - size: 39.0000 - loss: 0.6131 - categorical_accuracy: 0.7647 - val_loss: 1.5261 - val_categorical_accuracy: 0.4700\n",
            "Epoch 17/25\n",
            "34/34 [==============================] - ETA: 0s - batch: 16.5000 - size: 39.0000 - loss: 0.7082 - categorical_accuracy: 0.7391\n",
            "Epoch 00017: saving model to model_init_2021-03-1619_49_03.931325/model-00017-0.70823-0.73906-1.37001-0.53000.h5\n",
            "0\n",
            "34/34 [==============================] - 352s 11s/step - batch: 16.5000 - size: 39.0000 - loss: 0.7082 - categorical_accuracy: 0.7391 - val_loss: 1.3700 - val_categorical_accuracy: 0.5300\n",
            "Epoch 18/25\n",
            "34/34 [==============================] - ETA: 0s - batch: 16.5000 - size: 39.0000 - loss: 0.6448 - categorical_accuracy: 0.7602\n",
            "Epoch 00018: saving model to model_init_2021-03-1619_49_03.931325/model-00018-0.64481-0.76018-1.12167-0.63000.h5\n",
            "0\n",
            "34/34 [==============================] - 350s 11s/step - batch: 16.5000 - size: 39.0000 - loss: 0.6448 - categorical_accuracy: 0.7602 - val_loss: 1.1217 - val_categorical_accuracy: 0.6300\n",
            "Epoch 19/25\n",
            "34/34 [==============================] - ETA: 0s - batch: 16.5000 - size: 39.0000 - loss: 0.6298 - categorical_accuracy: 0.7609\n",
            "Epoch 00019: saving model to model_init_2021-03-1619_49_03.931325/model-00019-0.62979-0.76094-1.00751-0.66000.h5\n",
            "0\n",
            "34/34 [==============================] - 349s 11s/step - batch: 16.5000 - size: 39.0000 - loss: 0.6298 - categorical_accuracy: 0.7609 - val_loss: 1.0075 - val_categorical_accuracy: 0.6600\n",
            "Epoch 20/25\n",
            "34/34 [==============================] - ETA: 0s - batch: 16.5000 - size: 39.0000 - loss: 0.6754 - categorical_accuracy: 0.7534\n",
            "Epoch 00020: saving model to model_init_2021-03-1619_49_03.931325/model-00020-0.67536-0.75339-0.83984-0.68000.h5\n",
            "0\n",
            "34/34 [==============================] - 356s 11s/step - batch: 16.5000 - size: 39.0000 - loss: 0.6754 - categorical_accuracy: 0.7534 - val_loss: 0.8398 - val_categorical_accuracy: 0.6800\n",
            "Epoch 21/25\n",
            "34/34 [==============================] - ETA: 0s - batch: 16.5000 - size: 39.0000 - loss: 0.6749 - categorical_accuracy: 0.7541\n",
            "Epoch 00021: saving model to model_init_2021-03-1619_49_03.931325/model-00021-0.67494-0.75415-0.79592-0.70000.h5\n",
            "0\n",
            "34/34 [==============================] - 364s 11s/step - batch: 16.5000 - size: 39.0000 - loss: 0.6749 - categorical_accuracy: 0.7541 - val_loss: 0.7959 - val_categorical_accuracy: 0.7000\n",
            "Epoch 22/25\n",
            "34/34 [==============================] - ETA: 0s - batch: 16.5000 - size: 39.0000 - loss: 0.6055 - categorical_accuracy: 0.7647\n",
            "Epoch 00022: saving model to model_init_2021-03-1619_49_03.931325/model-00022-0.60554-0.76471-0.79071-0.72000.h5\n",
            "0\n",
            "34/34 [==============================] - 360s 11s/step - batch: 16.5000 - size: 39.0000 - loss: 0.6055 - categorical_accuracy: 0.7647 - val_loss: 0.7907 - val_categorical_accuracy: 0.7200\n",
            "Epoch 23/25\n",
            "34/34 [==============================] - ETA: 0s - batch: 16.5000 - size: 39.0000 - loss: 0.5822 - categorical_accuracy: 0.7760\n",
            "Epoch 00023: saving model to model_init_2021-03-1619_49_03.931325/model-00023-0.58218-0.77602-0.64308-0.74000.h5\n",
            "0\n",
            "34/34 [==============================] - 360s 11s/step - batch: 16.5000 - size: 39.0000 - loss: 0.5822 - categorical_accuracy: 0.7760 - val_loss: 0.6431 - val_categorical_accuracy: 0.7400\n",
            "Epoch 24/25\n",
            "34/34 [==============================] - ETA: 0s - batch: 16.5000 - size: 39.0000 - loss: 0.6550 - categorical_accuracy: 0.7783\n",
            "Epoch 00024: saving model to model_init_2021-03-1619_49_03.931325/model-00024-0.65496-0.77828-0.63092-0.77000.h5\n",
            "0\n",
            "34/34 [==============================] - 350s 11s/step - batch: 16.5000 - size: 39.0000 - loss: 0.6550 - categorical_accuracy: 0.7783 - val_loss: 0.6309 - val_categorical_accuracy: 0.7700\n",
            "Epoch 25/25\n",
            "34/34 [==============================] - ETA: 0s - batch: 16.5000 - size: 39.0000 - loss: 0.6310 - categorical_accuracy: 0.7519\n",
            "Epoch 00025: saving model to model_init_2021-03-1619_49_03.931325/model-00025-0.63104-0.75189-0.67765-0.76000.h5\n",
            "0\n",
            "34/34 [==============================] - 349s 11s/step - batch: 16.5000 - size: 39.0000 - loss: 0.6310 - categorical_accuracy: 0.7519 - val_loss: 0.6776 - val_categorical_accuracy: 0.7600\n"
          ],
          "name": "stdout"
        }
      ]
    },
    {
      "cell_type": "code",
      "metadata": {
        "colab": {
          "base_uri": "https://localhost:8080/",
          "height": 268
        },
        "id": "PXZ8sThy3XSr",
        "outputId": "dde790fd-2966-4e90-90c3-d8e9fbfb2dc6"
      },
      "source": [
        "plot(accuracy_check_model_2)"
      ],
      "execution_count": null,
      "outputs": [
        {
          "output_type": "display_data",
          "data": {
            "image/png": "[encoded data removed]",
            "text/plain": [
              "<Figure size 1080x288 with 2 Axes>"
            ]
          },
          "metadata": {
            "tags": [],
            "needs_background": "light"
          }
        }
      ]
    },
    {
      "cell_type": "markdown",
      "metadata": {
        "id": "ldsJg52PTDPq"
      },
      "source": [
        "Model is not overfitting and we get a best validation accuracy of ~80% and training accuracy of ~82%. Next we will try to reduce the filter size and image resolution and see if get better results. Moreover since we see minor oscillations in loss, let's try lowering the learning rate to 0.0002"
      ]
    },
    {
      "cell_type": "code",
      "metadata": {
        "id": "mDO0BmuThfN_"
      },
      "source": [
        "Conv3D2.clear_session(Conv3D2_model)"
      ],
      "execution_count": null,
      "outputs": []
    },
    {
      "cell_type": "markdown",
      "metadata": {
        "id": "_qrMlLsVTSA7"
      },
      "source": [
        "## Model 3 - Reduce filter size to (2,2,2) and image res to 120 x 120"
      ]
    },
    {
      "cell_type": "code",
      "metadata": {
        "id": "vkPpJFg3TRLh"
      },
      "source": [
        "class ModelConv3D3(ModelBuilder):\r\n",
        "    \r\n",
        "    def define_model(self,filtersize=(3,3,3),dense_neurons=64,dropout=0.25):\r\n",
        "\r\n",
        "        model = Sequential()\r\n",
        "        model.add(Conv3D(16, filtersize, padding='same',\r\n",
        "                 input_shape=(self.frames_to_sample,self.image_height,self.image_width,self.channels)))\r\n",
        "        model.add(Activation('relu'))\r\n",
        "        model.add(BatchNormalization())\r\n",
        "        model.add(MaxPooling3D(pool_size=(2, 2, 2)))\r\n",
        "\r\n",
        "        model.add(Conv3D(32, filtersize, padding='same'))\r\n",
        "        model.add(Activation('relu'))\r\n",
        "        model.add(BatchNormalization())\r\n",
        "        model.add(MaxPooling3D(pool_size=(2, 2, 2)))\r\n",
        "\r\n",
        "        model.add(Conv3D(64, filtersize, padding='same'))\r\n",
        "        model.add(Activation('relu'))\r\n",
        "        model.add(BatchNormalization())\r\n",
        "        model.add(MaxPooling3D(pool_size=(2, 2, 2)))\r\n",
        "\r\n",
        "        model.add(Conv3D(128, filtersize, padding='same'))\r\n",
        "        model.add(Activation('relu'))\r\n",
        "        model.add(BatchNormalization())\r\n",
        "        model.add(MaxPooling3D(pool_size=(2, 2, 2)))\r\n",
        "\r\n",
        "        model.add(Flatten())\r\n",
        "        model.add(Dense(dense_neurons,activation='relu'))\r\n",
        "        model.add(BatchNormalization())\r\n",
        "        model.add(Dropout(dropout))\r\n",
        "\r\n",
        "        model.add(Dense(dense_neurons,activation='relu'))\r\n",
        "        model.add(BatchNormalization())\r\n",
        "        model.add(Dropout(dropout))\r\n",
        "\r\n",
        "\r\n",
        "        model.add(Dense(self.num_classes,activation='softmax'))\r\n",
        "\r\n",
        "        optimiser = optimizers.Adam(lr=0.0002)\r\n",
        "        model.compile(optimizer=optimiser, loss='categorical_crossentropy', metrics=['categorical_accuracy'])\r\n",
        "        return model"
      ],
      "execution_count": null,
      "outputs": []
    },
    {
      "cell_type": "code",
      "metadata": {
        "id": "lk9L9pt7UBB1",
        "colab": {
          "base_uri": "https://localhost:8080/"
        },
        "outputId": "2b8d66fc-ba3f-44fc-d74c-398f0ae00318"
      },
      "source": [
        "\r\n",
        "Conv3D3=ModelConv3D3()\r\n",
        "Conv3D3.initialize_src_path(main_folder)\r\n",
        "Conv3D3.initialize_image_properties(image_height=120,image_width=120)\r\n",
        "Conv3D3.initialize_hyperparams(frames_to_sample=16,batch_size=30,num_epochs=30)\r\n",
        "Conv3D3_model=Conv3D3.define_model(filtersize=(2,2,2),dense_neurons=256,dropout=0.5)\r\n",
        "Conv3D3_model.summary()"
      ],
      "execution_count": null,
      "outputs": [
        {
          "output_type": "stream",
          "text": [
            "Model: \"sequential\"\n",
            "_________________________________________________________________\n",
            "Layer (type)                 Output Shape              Param #   \n",
            "=================================================================\n",
            "conv3d (Conv3D)              (None, 16, 120, 120, 16)  400       \n",
            "_________________________________________________________________\n",
            "activation (Activation)      (None, 16, 120, 120, 16)  0         \n",
            "_________________________________________________________________\n",
            "batch_normalization (BatchNo (None, 16, 120, 120, 16)  64        \n",
            "_________________________________________________________________\n",
            "max_pooling3d (MaxPooling3D) (None, 8, 60, 60, 16)     0         \n",
            "_________________________________________________________________\n",
            "conv3d_1 (Conv3D)            (None, 8, 60, 60, 32)     4128      \n",
            "_________________________________________________________________\n",
            "activation_1 (Activation)    (None, 8, 60, 60, 32)     0         \n",
            "_________________________________________________________________\n",
            "batch_normalization_1 (Batch (None, 8, 60, 60, 32)     128       \n",
            "_________________________________________________________________\n",
            "max_pooling3d_1 (MaxPooling3 (None, 4, 30, 30, 32)     0         \n",
            "_________________________________________________________________\n",
            "conv3d_2 (Conv3D)            (None, 4, 30, 30, 64)     16448     \n",
            "_________________________________________________________________\n",
            "activation_2 (Activation)    (None, 4, 30, 30, 64)     0         \n",
            "_________________________________________________________________\n",
            "batch_normalization_2 (Batch (None, 4, 30, 30, 64)     256       \n",
            "_________________________________________________________________\n",
            "max_pooling3d_2 (MaxPooling3 (None, 2, 15, 15, 64)     0         \n",
            "_________________________________________________________________\n",
            "conv3d_3 (Conv3D)            (None, 2, 15, 15, 128)    65664     \n",
            "_________________________________________________________________\n",
            "activation_3 (Activation)    (None, 2, 15, 15, 128)    0         \n",
            "_________________________________________________________________\n",
            "batch_normalization_3 (Batch (None, 2, 15, 15, 128)    512       \n",
            "_________________________________________________________________\n",
            "max_pooling3d_3 (MaxPooling3 (None, 1, 7, 7, 128)      0         \n",
            "_________________________________________________________________\n",
            "flatten (Flatten)            (None, 6272)              0         \n",
            "_________________________________________________________________\n",
            "dense (Dense)                (None, 256)               1605888   \n",
            "_________________________________________________________________\n",
            "batch_normalization_4 (Batch (None, 256)               1024      \n",
            "_________________________________________________________________\n",
            "dropout (Dropout)            (None, 256)               0         \n",
            "_________________________________________________________________\n",
            "dense_1 (Dense)              (None, 256)               65792     \n",
            "_________________________________________________________________\n",
            "batch_normalization_5 (Batch (None, 256)               1024      \n",
            "_________________________________________________________________\n",
            "dropout_1 (Dropout)          (None, 256)               0         \n",
            "_________________________________________________________________\n",
            "dense_2 (Dense)              (None, 5)                 1285      \n",
            "=================================================================\n",
            "Total params: 1,762,613\n",
            "Trainable params: 1,761,109\n",
            "Non-trainable params: 1,504\n",
            "_________________________________________________________________\n"
          ],
          "name": "stdout"
        }
      ]
    },
    {
      "cell_type": "code",
      "metadata": {
        "id": "WW17sf6iUcQh",
        "colab": {
          "base_uri": "https://localhost:8080/"
        },
        "outputId": "2571fb51-58af-4e89-f260-4d1a1cfb7636"
      },
      "source": [
        "##tf.compat.v1.enable_eager_execution()\r\n",
        "print(tf.executing_eagerly())\r\n",
        "print(\"Total Params:\", Conv3D3_model.count_params())\r\n",
        "accuracy_check_model_3=Conv3D3.train_model(Conv3D3_model,augment_data=True)"
      ],
      "execution_count": null,
      "outputs": [
        {
          "output_type": "stream",
          "text": [
            "True\n",
            "Total Params: 1762613\n",
            "WARNING:tensorflow:`period` argument is deprecated. Please use `save_freq` to specify the frequency in number of batches seen.\n",
            "Epoch 1/30\n",
            "23/23 [==============================] - 245s 10s/step - loss: 2.3196 - categorical_accuracy: 0.2668 - val_loss: 1.9330 - val_categorical_accuracy: 0.2100\n",
            "\n",
            "Epoch 00001: saving model to model_init_2021-03-1700_12_08.462801/model-00001-2.16032-0.31373-1.93303-0.21000.h5\n",
            "12\n",
            "Epoch 2/30\n",
            "23/23 [==============================] - 213s 10s/step - loss: 1.6101 - categorical_accuracy: 0.4821 - val_loss: 3.0607 - val_categorical_accuracy: 0.1500\n",
            "\n",
            "Epoch 00002: saving model to model_init_2021-03-1700_12_08.462801/model-00002-1.54150-0.49849-3.06068-0.15000.h5\n",
            "0\n",
            "Epoch 3/30\n",
            "23/23 [==============================] - 212s 10s/step - loss: 1.3712 - categorical_accuracy: 0.5277 - val_loss: 3.9951 - val_categorical_accuracy: 0.2000\n",
            "\n",
            "Epoch 00003: saving model to model_init_2021-03-1700_12_08.462801/model-00003-1.32599-0.54676-3.99511-0.20000.h5\n",
            "0\n",
            "Epoch 4/30\n",
            "23/23 [==============================] - 201s 9s/step - loss: 1.2176 - categorical_accuracy: 0.5841 - val_loss: 5.1031 - val_categorical_accuracy: 0.1700\n",
            "\n",
            "Epoch 00004: saving model to model_init_2021-03-1700_12_08.462801/model-00004-1.14791-0.59729-5.10305-0.17000.h5\n",
            "0\n",
            "Epoch 5/30\n",
            "23/23 [==============================] - 201s 9s/step - loss: 1.0345 - categorical_accuracy: 0.6399 - val_loss: 5.6838 - val_categorical_accuracy: 0.1600\n",
            "\n",
            "Epoch 00005: saving model to model_init_2021-03-1700_12_08.462801/model-00005-1.04497-0.64404-5.68378-0.16000.h5\n",
            "\n",
            "Epoch 00005: ReduceLROnPlateau reducing learning rate to 3.9999998989515007e-05.\n",
            "0\n",
            "Epoch 6/30\n",
            "23/23 [==============================] - 212s 10s/step - loss: 0.9652 - categorical_accuracy: 0.6567 - val_loss: 5.7626 - val_categorical_accuracy: 0.1500\n",
            "\n",
            "Epoch 00006: saving model to model_init_2021-03-1700_12_08.462801/model-00006-0.95898-0.65460-5.76255-0.15000.h5\n",
            "0\n",
            "Epoch 7/30\n",
            "23/23 [==============================] - 210s 10s/step - loss: 0.9882 - categorical_accuracy: 0.6322 - val_loss: 6.3369 - val_categorical_accuracy: 0.1900\n",
            "\n",
            "Epoch 00007: saving model to model_init_2021-03-1700_12_08.462801/model-00007-0.99102-0.63801-6.33686-0.19000.h5\n",
            "0\n",
            "Epoch 8/30\n",
            "23/23 [==============================] - 207s 9s/step - loss: 0.8985 - categorical_accuracy: 0.6738 - val_loss: 6.5724 - val_categorical_accuracy: 0.1500\n",
            "\n",
            "Epoch 00008: saving model to model_init_2021-03-1700_12_08.462801/model-00008-0.96557-0.65234-6.57235-0.15000.h5\n",
            "0\n",
            "Epoch 9/30\n",
            "23/23 [==============================] - 206s 9s/step - loss: 0.9111 - categorical_accuracy: 0.6670 - val_loss: 6.8201 - val_categorical_accuracy: 0.1600\n",
            "\n",
            "Epoch 00009: saving model to model_init_2021-03-1700_12_08.462801/model-00009-0.93721-0.65988-6.82014-0.16000.h5\n",
            "\n",
            "Epoch 00009: ReduceLROnPlateau reducing learning rate to 7.999999797903002e-06.\n",
            "0\n",
            "Epoch 10/30\n",
            "23/23 [==============================] - 209s 9s/step - loss: 0.8701 - categorical_accuracy: 0.6851 - val_loss: 6.9196 - val_categorical_accuracy: 0.1400\n",
            "\n",
            "Epoch 00010: saving model to model_init_2021-03-1700_12_08.462801/model-00010-0.88594-0.67722-6.91959-0.14000.h5\n",
            "0\n",
            "Epoch 11/30\n",
            "23/23 [==============================] - 210s 10s/step - loss: 0.9212 - categorical_accuracy: 0.6708 - val_loss: 7.1485 - val_categorical_accuracy: 0.1400\n",
            "\n",
            "Epoch 00011: saving model to model_init_2021-03-1700_12_08.462801/model-00011-0.93159-0.67572-7.14854-0.14000.h5\n",
            "0\n",
            "Epoch 12/30\n",
            "23/23 [==============================] - 206s 9s/step - loss: 0.9032 - categorical_accuracy: 0.6703 - val_loss: 7.1217 - val_categorical_accuracy: 0.1600\n",
            "\n",
            "Epoch 00012: saving model to model_init_2021-03-1700_12_08.462801/model-00012-0.93281-0.66214-7.12171-0.16000.h5\n",
            "0\n",
            "Epoch 13/30\n",
            "23/23 [==============================] - 206s 9s/step - loss: 0.9500 - categorical_accuracy: 0.6601 - val_loss: 6.8154 - val_categorical_accuracy: 0.1600\n",
            "\n",
            "Epoch 00013: saving model to model_init_2021-03-1700_12_08.462801/model-00013-0.90145-0.67798-6.81537-0.16000.h5\n",
            "\n",
            "Epoch 00013: ReduceLROnPlateau reducing learning rate to 1.5999999959603884e-06.\n",
            "0\n",
            "Epoch 14/30\n",
            "23/23 [==============================] - 211s 10s/step - loss: 0.8241 - categorical_accuracy: 0.6830 - val_loss: 6.2114 - val_categorical_accuracy: 0.1900\n",
            "\n",
            "Epoch 00014: saving model to model_init_2021-03-1700_12_08.462801/model-00014-0.84454-0.67798-6.21140-0.19000.h5\n",
            "0\n",
            "Epoch 15/30\n",
            "23/23 [==============================] - 208s 9s/step - loss: 0.9330 - categorical_accuracy: 0.6751 - val_loss: 6.0411 - val_categorical_accuracy: 0.1900\n",
            "\n",
            "Epoch 00015: saving model to model_init_2021-03-1700_12_08.462801/model-00015-0.86097-0.69382-6.04110-0.19000.h5\n",
            "0\n",
            "Epoch 16/30\n",
            "23/23 [==============================] - 206s 9s/step - loss: 0.8399 - categorical_accuracy: 0.6914 - val_loss: 5.5675 - val_categorical_accuracy: 0.2100\n",
            "\n",
            "Epoch 00016: saving model to model_init_2021-03-1700_12_08.462801/model-00016-0.89204-0.67798-5.56746-0.21000.h5\n",
            "0\n",
            "Epoch 17/30\n",
            "23/23 [==============================] - 203s 9s/step - loss: 0.8982 - categorical_accuracy: 0.6743 - val_loss: 5.1449 - val_categorical_accuracy: 0.1900\n",
            "\n",
            "Epoch 00017: saving model to model_init_2021-03-1700_12_08.462801/model-00017-0.84669-0.68929-5.14487-0.19000.h5\n",
            "\n",
            "Epoch 00017: ReduceLROnPlateau reducing learning rate to 3.200000037395512e-07.\n",
            "0\n",
            "Epoch 18/30\n",
            "23/23 [==============================] - 206s 9s/step - loss: 0.8723 - categorical_accuracy: 0.6963 - val_loss: 4.5224 - val_categorical_accuracy: 0.2300\n",
            "\n",
            "Epoch 00018: saving model to model_init_2021-03-1700_12_08.462801/model-00018-0.84383-0.70287-4.52244-0.23000.h5\n",
            "0\n",
            "Epoch 19/30\n",
            "23/23 [==============================] - 210s 10s/step - loss: 0.8865 - categorical_accuracy: 0.6856 - val_loss: 4.4410 - val_categorical_accuracy: 0.2000\n",
            "\n",
            "Epoch 00019: saving model to model_init_2021-03-1700_12_08.462801/model-00019-0.87958-0.67873-4.44100-0.20000.h5\n",
            "0\n",
            "Epoch 20/30\n",
            "23/23 [==============================] - 206s 9s/step - loss: 0.8785 - categorical_accuracy: 0.6726 - val_loss: 3.4475 - val_categorical_accuracy: 0.2600\n",
            "\n",
            "Epoch 00020: saving model to model_init_2021-03-1700_12_08.462801/model-00020-0.89990-0.67044-3.44755-0.26000.h5\n",
            "0\n",
            "Epoch 21/30\n",
            "23/23 [==============================] - 205s 9s/step - loss: 0.8704 - categorical_accuracy: 0.6704 - val_loss: 3.0268 - val_categorical_accuracy: 0.2900\n",
            "\n",
            "Epoch 00021: saving model to model_init_2021-03-1700_12_08.462801/model-00021-0.87847-0.68024-3.02685-0.29000.h5\n",
            "\n",
            "Epoch 00021: ReduceLROnPlateau reducing learning rate to 6.399999961104187e-08.\n",
            "0\n",
            "Epoch 22/30\n",
            "23/23 [==============================] - 208s 9s/step - loss: 0.7905 - categorical_accuracy: 0.6954 - val_loss: 2.5029 - val_categorical_accuracy: 0.3200\n",
            "\n",
            "Epoch 00022: saving model to model_init_2021-03-1700_12_08.462801/model-00022-0.83132-0.68552-2.50289-0.32000.h5\n",
            "0\n",
            "Epoch 23/30\n",
            "23/23 [==============================] - 211s 10s/step - loss: 0.8175 - categorical_accuracy: 0.6842 - val_loss: 2.1983 - val_categorical_accuracy: 0.3900\n",
            "\n",
            "Epoch 00023: saving model to model_init_2021-03-1700_12_08.462801/model-00023-0.84444-0.68778-2.19829-0.39000.h5\n",
            "0\n",
            "Epoch 24/30\n",
            "23/23 [==============================] - 205s 9s/step - loss: 0.9262 - categorical_accuracy: 0.6643 - val_loss: 1.9457 - val_categorical_accuracy: 0.4600\n",
            "\n",
            "Epoch 00024: saving model to model_init_2021-03-1700_12_08.462801/model-00024-0.88933-0.67722-1.94568-0.46000.h5\n",
            "0\n",
            "Epoch 25/30\n",
            "23/23 [==============================] - 208s 9s/step - loss: 0.8026 - categorical_accuracy: 0.7009 - val_loss: 1.6019 - val_categorical_accuracy: 0.5300\n",
            "\n",
            "Epoch 00025: saving model to model_init_2021-03-1700_12_08.462801/model-00025-0.81975-0.69532-1.60189-0.53000.h5\n",
            "0\n",
            "Epoch 26/30\n",
            "23/23 [==============================] - 207s 9s/step - loss: 0.9369 - categorical_accuracy: 0.6488 - val_loss: 1.1996 - val_categorical_accuracy: 0.5900\n",
            "\n",
            "Epoch 00026: saving model to model_init_2021-03-1700_12_08.462801/model-00026-0.89757-0.66365-1.19957-0.59000.h5\n",
            "0\n",
            "Epoch 27/30\n",
            "23/23 [==============================] - 205s 9s/step - loss: 0.8426 - categorical_accuracy: 0.6845 - val_loss: 1.0360 - val_categorical_accuracy: 0.5800\n",
            "\n",
            "Epoch 00027: saving model to model_init_2021-03-1700_12_08.462801/model-00027-0.87432-0.67798-1.03604-0.58000.h5\n",
            "0\n",
            "Epoch 28/30\n",
            "23/23 [==============================] - 204s 9s/step - loss: 0.8539 - categorical_accuracy: 0.6919 - val_loss: 1.2104 - val_categorical_accuracy: 0.5900\n",
            "\n",
            "Epoch 00028: saving model to model_init_2021-03-1700_12_08.462801/model-00028-0.84854-0.69306-1.21038-0.59000.h5\n",
            "0\n",
            "Epoch 29/30\n",
            "23/23 [==============================] - 208s 9s/step - loss: 0.8678 - categorical_accuracy: 0.6857 - val_loss: 1.0375 - val_categorical_accuracy: 0.6400\n",
            "\n",
            "Epoch 00029: saving model to model_init_2021-03-1700_12_08.462801/model-00029-0.87708-0.68326-1.03748-0.64000.h5\n",
            "0\n",
            "Epoch 30/30\n",
            "23/23 [==============================] - 206s 9s/step - loss: 0.8804 - categorical_accuracy: 0.6879 - val_loss: 1.0020 - val_categorical_accuracy: 0.6700\n",
            "\n",
            "Epoch 00030: saving model to model_init_2021-03-1700_12_08.462801/model-00030-0.86950-0.68778-1.00202-0.67000.h5\n",
            "0\n"
          ],
          "name": "stdout"
        }
      ]
    },
    {
      "cell_type": "code",
      "metadata": {
        "id": "7HghaRZtGQB9",
        "colab": {
          "base_uri": "https://localhost:8080/",
          "height": 265
        },
        "outputId": "2473ef76-3fd7-47f2-c169-99d68fdb61d8"
      },
      "source": [
        "plot(accuracy_check_model_3)"
      ],
      "execution_count": null,
      "outputs": [
        {
          "output_type": "display_data",
          "data": {
            "image/png": "[encoded data removed]",
            "text/plain": [
              "<Figure size 1080x288 with 2 Axes>"
            ]
          },
          "metadata": {
            "tags": [],
            "needs_background": "light"
          }
        }
      ]
    },
    {
      "cell_type": "markdown",
      "metadata": {
        "id": "r0IJgwK77wsF"
      },
      "source": [
        "This Model has a best validation accuracy of 68% and training accuracy of 68% . Also we were able to reduce the parameter size by half the earlier model. Let's trying adding more layers"
      ]
    },
    {
      "cell_type": "code",
      "metadata": {
        "id": "OQ8jW39zjSXp"
      },
      "source": [
        "Conv3D3.clear_session(Conv3D3_model)"
      ],
      "execution_count": null,
      "outputs": []
    },
    {
      "cell_type": "markdown",
      "metadata": {
        "id": "WW5VAmu9ihlH"
      },
      "source": [
        "## Model 4 - Adding more layers"
      ]
    },
    {
      "cell_type": "code",
      "metadata": {
        "id": "4cyJpLxiitoB"
      },
      "source": [
        "class ModelConv3D4(ModelBuilder):\r\n",
        "    \r\n",
        "    def define_model(self,filtersize=(3,3,3),dense_neurons=64,dropout=0.25):\r\n",
        "\r\n",
        "        model = Sequential()\r\n",
        "        model.add(Conv3D(16, filtersize, padding='same',\r\n",
        "                 input_shape=(self.frames_to_sample,self.image_height,self.image_width,self.channels)))\r\n",
        "        model.add(Activation('relu'))\r\n",
        "        model.add(BatchNormalization())\r\n",
        "        \r\n",
        "        model.add(Conv3D(16, filtersize, padding='same',\r\n",
        "                 input_shape=(self.frames_to_sample,self.image_height,self.image_width,self.channels)))\r\n",
        "        model.add(Activation('relu'))\r\n",
        "        model.add(BatchNormalization())\r\n",
        "        \r\n",
        "        model.add(MaxPooling3D(pool_size=(2, 2, 2)))\r\n",
        "\r\n",
        "        model.add(Conv3D(32, filtersize, padding='same'))\r\n",
        "        model.add(Activation('relu'))\r\n",
        "        model.add(BatchNormalization())\r\n",
        "        \r\n",
        "        model.add(Conv3D(32, filtersize, padding='same'))\r\n",
        "        model.add(Activation('relu'))\r\n",
        "        model.add(BatchNormalization())\r\n",
        "        \r\n",
        "        model.add(MaxPooling3D(pool_size=(2, 2, 2)))\r\n",
        "\r\n",
        "        model.add(Conv3D(64, filtersize, padding='same'))\r\n",
        "        model.add(Activation('relu'))\r\n",
        "        model.add(BatchNormalization())\r\n",
        "        \r\n",
        "        model.add(Conv3D(64, filtersize, padding='same'))\r\n",
        "        model.add(Activation('relu'))\r\n",
        "        model.add(BatchNormalization())\r\n",
        "        \r\n",
        "        model.add(MaxPooling3D(pool_size=(2, 2, 2)))\r\n",
        "\r\n",
        "        model.add(Conv3D(128, filtersize, padding='same'))\r\n",
        "        model.add(Activation('relu'))\r\n",
        "        model.add(BatchNormalization())\r\n",
        "        \r\n",
        "        model.add(Conv3D(128, filtersize, padding='same'))\r\n",
        "        model.add(Activation('relu'))\r\n",
        "        model.add(BatchNormalization())\r\n",
        "        \r\n",
        "        model.add(MaxPooling3D(pool_size=(2, 2, 2)))\r\n",
        "        \r\n",
        "\r\n",
        "        model.add(Flatten())\r\n",
        "        model.add(Dense(dense_neurons,activation='relu'))\r\n",
        "        model.add(BatchNormalization())\r\n",
        "        model.add(Dropout(dropout))\r\n",
        "\r\n",
        "        model.add(Dense(dense_neurons,activation='relu'))\r\n",
        "        model.add(BatchNormalization())\r\n",
        "        model.add(Dropout(dropout))\r\n",
        "\r\n",
        "\r\n",
        "        model.add(Dense(self.num_classes,activation='softmax'))\r\n",
        "\r\n",
        "        optimiser = optimizers.Adam()\r\n",
        "        model.compile(optimizer=optimiser, loss='categorical_crossentropy', metrics=['categorical_accuracy'])\r\n",
        "        return model"
      ],
      "execution_count": null,
      "outputs": []
    },
    {
      "cell_type": "code",
      "metadata": {
        "colab": {
          "base_uri": "https://localhost:8080/"
        },
        "id": "AmOxJwmei5-S",
        "outputId": "ae09d9d2-912c-410e-cfc7-d0b0b97c9c91"
      },
      "source": [
        "Conv3D4=ModelConv3D4()\r\n",
        "Conv3D4.initialize_src_path(main_folder)\r\n",
        "Conv3D4.initialize_image_properties(image_height=120,image_width=120)\r\n",
        "Conv3D4.initialize_hyperparams(frames_to_sample=16,batch_size=20,num_epochs=30)\r\n",
        "Conv3D4_model=Conv3D4.define_model(filtersize=(3,3,3),dense_neurons=256,dropout=0.5)\r\n",
        "Conv3D4_model.summary()"
      ],
      "execution_count": null,
      "outputs": [
        {
          "output_type": "stream",
          "text": [
            "Model: \"sequential\"\n",
            "_________________________________________________________________\n",
            "Layer (type)                 Output Shape              Param #   \n",
            "=================================================================\n",
            "conv3d (Conv3D)              (None, 16, 120, 120, 16)  1312      \n",
            "_________________________________________________________________\n",
            "activation (Activation)      (None, 16, 120, 120, 16)  0         \n",
            "_________________________________________________________________\n",
            "batch_normalization (BatchNo (None, 16, 120, 120, 16)  64        \n",
            "_________________________________________________________________\n",
            "conv3d_1 (Conv3D)            (None, 16, 120, 120, 16)  6928      \n",
            "_________________________________________________________________\n",
            "activation_1 (Activation)    (None, 16, 120, 120, 16)  0         \n",
            "_________________________________________________________________\n",
            "batch_normalization_1 (Batch (None, 16, 120, 120, 16)  64        \n",
            "_________________________________________________________________\n",
            "max_pooling3d (MaxPooling3D) (None, 8, 60, 60, 16)     0         \n",
            "_________________________________________________________________\n",
            "conv3d_2 (Conv3D)            (None, 8, 60, 60, 32)     13856     \n",
            "_________________________________________________________________\n",
            "activation_2 (Activation)    (None, 8, 60, 60, 32)     0         \n",
            "_________________________________________________________________\n",
            "batch_normalization_2 (Batch (None, 8, 60, 60, 32)     128       \n",
            "_________________________________________________________________\n",
            "conv3d_3 (Conv3D)            (None, 8, 60, 60, 32)     27680     \n",
            "_________________________________________________________________\n",
            "activation_3 (Activation)    (None, 8, 60, 60, 32)     0         \n",
            "_________________________________________________________________\n",
            "batch_normalization_3 (Batch (None, 8, 60, 60, 32)     128       \n",
            "_________________________________________________________________\n",
            "max_pooling3d_1 (MaxPooling3 (None, 4, 30, 30, 32)     0         \n",
            "_________________________________________________________________\n",
            "conv3d_4 (Conv3D)            (None, 4, 30, 30, 64)     55360     \n",
            "_________________________________________________________________\n",
            "activation_4 (Activation)    (None, 4, 30, 30, 64)     0         \n",
            "_________________________________________________________________\n",
            "batch_normalization_4 (Batch (None, 4, 30, 30, 64)     256       \n",
            "_________________________________________________________________\n",
            "conv3d_5 (Conv3D)            (None, 4, 30, 30, 64)     110656    \n",
            "_________________________________________________________________\n",
            "activation_5 (Activation)    (None, 4, 30, 30, 64)     0         \n",
            "_________________________________________________________________\n",
            "batch_normalization_5 (Batch (None, 4, 30, 30, 64)     256       \n",
            "_________________________________________________________________\n",
            "max_pooling3d_2 (MaxPooling3 (None, 2, 15, 15, 64)     0         \n",
            "_________________________________________________________________\n",
            "conv3d_6 (Conv3D)            (None, 2, 15, 15, 128)    221312    \n",
            "_________________________________________________________________\n",
            "activation_6 (Activation)    (None, 2, 15, 15, 128)    0         \n",
            "_________________________________________________________________\n",
            "batch_normalization_6 (Batch (None, 2, 15, 15, 128)    512       \n",
            "_________________________________________________________________\n",
            "conv3d_7 (Conv3D)            (None, 2, 15, 15, 128)    442496    \n",
            "_________________________________________________________________\n",
            "activation_7 (Activation)    (None, 2, 15, 15, 128)    0         \n",
            "_________________________________________________________________\n",
            "batch_normalization_7 (Batch (None, 2, 15, 15, 128)    512       \n",
            "_________________________________________________________________\n",
            "max_pooling3d_3 (MaxPooling3 (None, 1, 7, 7, 128)      0         \n",
            "_________________________________________________________________\n",
            "flatten (Flatten)            (None, 6272)              0         \n",
            "_________________________________________________________________\n",
            "dense (Dense)                (None, 256)               1605888   \n",
            "_________________________________________________________________\n",
            "batch_normalization_8 (Batch (None, 256)               1024      \n",
            "_________________________________________________________________\n",
            "dropout (Dropout)            (None, 256)               0         \n",
            "_________________________________________________________________\n",
            "dense_1 (Dense)              (None, 256)               65792     \n",
            "_________________________________________________________________\n",
            "batch_normalization_9 (Batch (None, 256)               1024      \n",
            "_________________________________________________________________\n",
            "dropout_1 (Dropout)          (None, 256)               0         \n",
            "_________________________________________________________________\n",
            "dense_2 (Dense)              (None, 5)                 1285      \n",
            "=================================================================\n",
            "Total params: 2,556,533\n",
            "Trainable params: 2,554,549\n",
            "Non-trainable params: 1,984\n",
            "_________________________________________________________________\n"
          ],
          "name": "stdout"
        }
      ]
    },
    {
      "cell_type": "code",
      "metadata": {
        "colab": {
          "base_uri": "https://localhost:8080/"
        },
        "id": "qoR4sAUBkGDJ",
        "outputId": "a0575520-8757-4685-b942-a00849dbe60b"
      },
      "source": [
        "print(\"Total Params:\", Conv3D4_model.count_params())\r\n",
        "accuracy_check_model_4=Conv3D4.train_model(Conv3D4_model,augment_data=True)"
      ],
      "execution_count": null,
      "outputs": [
        {
          "output_type": "stream",
          "text": [
            "Total Params: 2556533\n",
            "WARNING:tensorflow:`period` argument is deprecated. Please use `save_freq` to specify the frequency in number of batches seen.\n",
            "Epoch 1/30\n",
            "34/34 [==============================] - 218s 6s/step - loss: 2.0687 - categorical_accuracy: 0.3387 - val_loss: 2.0752 - val_categorical_accuracy: 0.2300\n",
            "\n",
            "Epoch 00001: saving model to model_init_2021-03-1701_56_40.064311/model-00001-1.81618-0.39970-2.07517-0.23000.h5\n",
            "183\n",
            "Epoch 2/30\n",
            "34/34 [==============================] - 210s 6s/step - loss: 1.7867 - categorical_accuracy: 0.4025 - val_loss: 2.2943 - val_categorical_accuracy: 0.2100\n",
            "\n",
            "Epoch 00002: saving model to model_init_2021-03-1701_56_40.064311/model-00002-1.72789-0.40573-2.29428-0.21000.h5\n",
            "0\n",
            "Epoch 3/30\n",
            "34/34 [==============================] - 211s 6s/step - loss: 1.3410 - categorical_accuracy: 0.5011 - val_loss: 2.0281 - val_categorical_accuracy: 0.1800\n",
            "\n",
            "Epoch 00003: saving model to model_init_2021-03-1701_56_40.064311/model-00003-1.42291-0.48492-2.02813-0.18000.h5\n",
            "0\n",
            "Epoch 4/30\n",
            "34/34 [==============================] - 212s 6s/step - loss: 1.3621 - categorical_accuracy: 0.5331 - val_loss: 2.2315 - val_categorical_accuracy: 0.2700\n",
            "\n",
            "Epoch 00004: saving model to model_init_2021-03-1701_56_40.064311/model-00004-1.29719-0.54751-2.23153-0.27000.h5\n",
            "0\n",
            "Epoch 5/30\n",
            "34/34 [==============================] - 209s 6s/step - loss: 1.1455 - categorical_accuracy: 0.5585 - val_loss: 2.8389 - val_categorical_accuracy: 0.2500\n",
            "\n",
            "Epoch 00005: saving model to model_init_2021-03-1701_56_40.064311/model-00005-1.14081-0.57089-2.83890-0.25000.h5\n",
            "0\n",
            "Epoch 6/30\n",
            "34/34 [==============================] - 211s 6s/step - loss: 1.0566 - categorical_accuracy: 0.6239 - val_loss: 2.2000 - val_categorical_accuracy: 0.2500\n",
            "\n",
            "Epoch 00006: saving model to model_init_2021-03-1701_56_40.064311/model-00006-1.07471-0.61916-2.20001-0.25000.h5\n",
            "0\n",
            "Epoch 7/30\n",
            "34/34 [==============================] - 209s 6s/step - loss: 1.1197 - categorical_accuracy: 0.6027 - val_loss: 2.1967 - val_categorical_accuracy: 0.1900\n",
            "\n",
            "Epoch 00007: saving model to model_init_2021-03-1701_56_40.064311/model-00007-1.14381-0.59578-2.19672-0.19000.h5\n",
            "\n",
            "Epoch 00007: ReduceLROnPlateau reducing learning rate to 0.00020000000949949026.\n",
            "0\n",
            "Epoch 8/30\n",
            "34/34 [==============================] - 210s 6s/step - loss: 0.9871 - categorical_accuracy: 0.6026 - val_loss: 2.3384 - val_categorical_accuracy: 0.2900\n",
            "\n",
            "Epoch 00008: saving model to model_init_2021-03-1701_56_40.064311/model-00008-0.96836-0.62217-2.33844-0.29000.h5\n",
            "0\n",
            "Epoch 9/30\n",
            "34/34 [==============================] - 210s 6s/step - loss: 0.9421 - categorical_accuracy: 0.6266 - val_loss: 2.4243 - val_categorical_accuracy: 0.3100\n",
            "\n",
            "Epoch 00009: saving model to model_init_2021-03-1701_56_40.064311/model-00009-0.89609-0.66139-2.42430-0.31000.h5\n",
            "0\n",
            "Epoch 10/30\n",
            "34/34 [==============================] - 210s 6s/step - loss: 0.8201 - categorical_accuracy: 0.6630 - val_loss: 2.3224 - val_categorical_accuracy: 0.3400\n",
            "\n",
            "Epoch 00010: saving model to model_init_2021-03-1701_56_40.064311/model-00010-0.81999-0.67873-2.32237-0.34000.h5\n",
            "0\n",
            "Epoch 11/30\n",
            "34/34 [==============================] - 208s 6s/step - loss: 0.7862 - categorical_accuracy: 0.7025 - val_loss: 2.4769 - val_categorical_accuracy: 0.3300\n",
            "\n",
            "Epoch 00011: saving model to model_init_2021-03-1701_56_40.064311/model-00011-0.77146-0.71116-2.47688-0.33000.h5\n",
            "\n",
            "Epoch 00011: ReduceLROnPlateau reducing learning rate to 4.0000001899898055e-05.\n",
            "0\n",
            "Epoch 12/30\n",
            "34/34 [==============================] - 208s 6s/step - loss: 0.7242 - categorical_accuracy: 0.7369 - val_loss: 2.2038 - val_categorical_accuracy: 0.3300\n",
            "\n",
            "Epoch 00012: saving model to model_init_2021-03-1701_56_40.064311/model-00012-0.71729-0.72624-2.20383-0.33000.h5\n",
            "0\n",
            "Epoch 13/30\n",
            "34/34 [==============================] - 208s 6s/step - loss: 0.7049 - categorical_accuracy: 0.7284 - val_loss: 1.7605 - val_categorical_accuracy: 0.4400\n",
            "\n",
            "Epoch 00013: saving model to model_init_2021-03-1701_56_40.064311/model-00013-0.68930-0.72851-1.76046-0.44000.h5\n",
            "0\n",
            "Epoch 14/30\n",
            "34/34 [==============================] - 208s 6s/step - loss: 0.7120 - categorical_accuracy: 0.7344 - val_loss: 1.6490 - val_categorical_accuracy: 0.4100\n",
            "\n",
            "Epoch 00014: saving model to model_init_2021-03-1701_56_40.064311/model-00014-0.72284-0.72624-1.64898-0.41000.h5\n",
            "0\n",
            "Epoch 15/30\n",
            "34/34 [==============================] - 210s 6s/step - loss: 0.7671 - categorical_accuracy: 0.6908 - val_loss: 1.3977 - val_categorical_accuracy: 0.4100\n",
            "\n",
            "Epoch 00015: saving model to model_init_2021-03-1701_56_40.064311/model-00015-0.74555-0.71719-1.39775-0.41000.h5\n",
            "0\n",
            "Epoch 16/30\n",
            "34/34 [==============================] - 209s 6s/step - loss: 0.6341 - categorical_accuracy: 0.7597 - val_loss: 1.2005 - val_categorical_accuracy: 0.5200\n",
            "\n",
            "Epoch 00016: saving model to model_init_2021-03-1701_56_40.064311/model-00016-0.68923-0.74057-1.20045-0.52000.h5\n",
            "0\n",
            "Epoch 17/30\n",
            "34/34 [==============================] - 211s 6s/step - loss: 0.6917 - categorical_accuracy: 0.7361 - val_loss: 1.0047 - val_categorical_accuracy: 0.5700\n",
            "\n",
            "Epoch 00017: saving model to model_init_2021-03-1701_56_40.064311/model-00017-0.66128-0.74133-1.00467-0.57000.h5\n",
            "0\n",
            "Epoch 18/30\n",
            "34/34 [==============================] - 210s 6s/step - loss: 0.6661 - categorical_accuracy: 0.7490 - val_loss: 0.9568 - val_categorical_accuracy: 0.6500\n",
            "\n",
            "Epoch 00018: saving model to model_init_2021-03-1701_56_40.064311/model-00018-0.71205-0.72775-0.95684-0.65000.h5\n",
            "0\n",
            "Epoch 19/30\n",
            "34/34 [==============================] - 209s 6s/step - loss: 0.6831 - categorical_accuracy: 0.7291 - val_loss: 0.8804 - val_categorical_accuracy: 0.6700\n",
            "\n",
            "Epoch 00019: saving model to model_init_2021-03-1701_56_40.064311/model-00019-0.68247-0.74057-0.88040-0.67000.h5\n",
            "0\n",
            "Epoch 20/30\n",
            "34/34 [==============================] - 211s 6s/step - loss: 0.6493 - categorical_accuracy: 0.7541 - val_loss: 0.8314 - val_categorical_accuracy: 0.6700\n",
            "\n",
            "Epoch 00020: saving model to model_init_2021-03-1701_56_40.064311/model-00020-0.66630-0.74510-0.83139-0.67000.h5\n",
            "0\n",
            "Epoch 21/30\n",
            "34/34 [==============================] - 208s 6s/step - loss: 0.6832 - categorical_accuracy: 0.7448 - val_loss: 0.6877 - val_categorical_accuracy: 0.7200\n",
            "\n",
            "Epoch 00021: saving model to model_init_2021-03-1701_56_40.064311/model-00021-0.69168-0.74434-0.68770-0.72000.h5\n",
            "0\n",
            "Epoch 22/30\n",
            "34/34 [==============================] - 213s 6s/step - loss: 0.6886 - categorical_accuracy: 0.7192 - val_loss: 0.6552 - val_categorical_accuracy: 0.7200\n",
            "\n",
            "Epoch 00022: saving model to model_init_2021-03-1701_56_40.064311/model-00022-0.68069-0.71719-0.65517-0.72000.h5\n",
            "0\n",
            "Epoch 23/30\n",
            "34/34 [==============================] - 214s 6s/step - loss: 0.6309 - categorical_accuracy: 0.7550 - val_loss: 0.5949 - val_categorical_accuracy: 0.7900\n",
            "\n",
            "Epoch 00023: saving model to model_init_2021-03-1701_56_40.064311/model-00023-0.65581-0.74736-0.59493-0.79000.h5\n",
            "0\n",
            "Epoch 24/30\n",
            "34/34 [==============================] - 211s 6s/step - loss: 0.6254 - categorical_accuracy: 0.7692 - val_loss: 0.6686 - val_categorical_accuracy: 0.7400\n",
            "\n",
            "Epoch 00024: saving model to model_init_2021-03-1701_56_40.064311/model-00024-0.64176-0.76018-0.66861-0.74000.h5\n",
            "0\n",
            "Epoch 25/30\n",
            "34/34 [==============================] - 211s 6s/step - loss: 0.5361 - categorical_accuracy: 0.7920 - val_loss: 0.5888 - val_categorical_accuracy: 0.7600\n",
            "\n",
            "Epoch 00025: saving model to model_init_2021-03-1701_56_40.064311/model-00025-0.54953-0.79412-0.58876-0.76000.h5\n",
            "0\n",
            "Epoch 26/30\n",
            "34/34 [==============================] - 211s 6s/step - loss: 0.6036 - categorical_accuracy: 0.7568 - val_loss: 0.6425 - val_categorical_accuracy: 0.7400\n",
            "\n",
            "Epoch 00026: saving model to model_init_2021-03-1701_56_40.064311/model-00026-0.60199-0.75641-0.64252-0.74000.h5\n",
            "0\n",
            "Epoch 27/30\n",
            "34/34 [==============================] - 211s 6s/step - loss: 0.5601 - categorical_accuracy: 0.7703 - val_loss: 0.6785 - val_categorical_accuracy: 0.7100\n",
            "\n",
            "Epoch 00027: saving model to model_init_2021-03-1701_56_40.064311/model-00027-0.57035-0.77677-0.67855-0.71000.h5\n",
            "0\n",
            "Epoch 28/30\n",
            "34/34 [==============================] - 211s 6s/step - loss: 0.5238 - categorical_accuracy: 0.8127 - val_loss: 0.6868 - val_categorical_accuracy: 0.6800\n",
            "\n",
            "Epoch 00028: saving model to model_init_2021-03-1701_56_40.064311/model-00028-0.56294-0.78281-0.68680-0.68000.h5\n",
            "0\n",
            "Epoch 29/30\n",
            "34/34 [==============================] - 211s 6s/step - loss: 0.5399 - categorical_accuracy: 0.7942 - val_loss: 0.5193 - val_categorical_accuracy: 0.7800\n",
            "\n",
            "Epoch 00029: saving model to model_init_2021-03-1701_56_40.064311/model-00029-0.55685-0.78507-0.51933-0.78000.h5\n",
            "0\n",
            "Epoch 30/30\n",
            "34/34 [==============================] - 210s 6s/step - loss: 0.5349 - categorical_accuracy: 0.7818 - val_loss: 0.6172 - val_categorical_accuracy: 0.7300\n",
            "\n",
            "Epoch 00030: saving model to model_init_2021-03-1701_56_40.064311/model-00030-0.57201-0.77376-0.61719-0.73000.h5\n",
            "0\n"
          ],
          "name": "stdout"
        }
      ]
    },
    {
      "cell_type": "code",
      "metadata": {
        "colab": {
          "base_uri": "https://localhost:8080/",
          "height": 265
        },
        "id": "l8lzWQankJXv",
        "outputId": "0a9213e2-b3d8-4a32-f12e-cc868d01f776"
      },
      "source": [
        "plot(accuracy_check_model_4)"
      ],
      "execution_count": null,
      "outputs": [
        {
          "output_type": "display_data",
          "data": {
            "image/png": "[encoded data removed]",
            "text/plain": [
              "<Figure size 1080x288 with 2 Axes>"
            ]
          },
          "metadata": {
            "tags": [],
            "needs_background": "light"
          }
        }
      ]
    },
    {
      "cell_type": "markdown",
      "metadata": {
        "id": "6Q33XjvbSv8q"
      },
      "source": [
        "With more layers we see some performance improvement. We get a best validation accuracy of 73% . Let's try adding dropouts at the convolution layers"
      ]
    },
    {
      "cell_type": "markdown",
      "metadata": {
        "id": "PP6UEuorS7-z"
      },
      "source": [
        "## Model 5 Adding dropout at convolution layers"
      ]
    },
    {
      "cell_type": "code",
      "metadata": {
        "id": "BjEDLlauS6iK"
      },
      "source": [
        "Conv3D4.clear_session(Conv3D4_model)\r\n",
        "class ModelConv3D5(ModelBuilder):\r\n",
        "    \r\n",
        "    def define_model(self,filtersize=(3,3,3),dense_neurons=64,dropout=0.25):\r\n",
        "\r\n",
        "        model = Sequential()\r\n",
        "        model.add(Conv3D(16, filtersize, padding='same',\r\n",
        "                 input_shape=(self.frames_to_sample,self.image_height,self.image_width,self.channels)))\r\n",
        "        model.add(Activation('relu'))\r\n",
        "        model.add(BatchNormalization())\r\n",
        "        \r\n",
        "        model.add(Conv3D(16, filtersize, padding='same',\r\n",
        "                 input_shape=(self.frames_to_sample,self.image_height,self.image_width,self.channels)))\r\n",
        "        model.add(Activation('relu'))\r\n",
        "        model.add(BatchNormalization())\r\n",
        "        \r\n",
        "        model.add(MaxPooling3D(pool_size=(2, 2, 2)))\r\n",
        "        model.add(Dropout(dropout))\r\n",
        "\r\n",
        "        model.add(Conv3D(32, filtersize, padding='same'))\r\n",
        "        model.add(Activation('relu'))\r\n",
        "        model.add(BatchNormalization())\r\n",
        "        \r\n",
        "        model.add(Conv3D(32, filtersize, padding='same'))\r\n",
        "        model.add(Activation('relu'))\r\n",
        "        model.add(BatchNormalization())\r\n",
        "        \r\n",
        "        model.add(MaxPooling3D(pool_size=(2, 2, 2)))\r\n",
        "        model.add(Dropout(dropout))\r\n",
        "\r\n",
        "        model.add(Conv3D(64, filtersize, padding='same'))\r\n",
        "        model.add(Activation('relu'))\r\n",
        "        model.add(BatchNormalization())\r\n",
        "        \r\n",
        "        model.add(Conv3D(64, filtersize, padding='same'))\r\n",
        "        model.add(Activation('relu'))\r\n",
        "        model.add(BatchNormalization())\r\n",
        "        \r\n",
        "        model.add(MaxPooling3D(pool_size=(2, 2, 2)))\r\n",
        "        model.add(Dropout(dropout))\r\n",
        "\r\n",
        "        model.add(Conv3D(128, filtersize, padding='same'))\r\n",
        "        model.add(Activation('relu'))\r\n",
        "        model.add(BatchNormalization())\r\n",
        "        \r\n",
        "        model.add(Conv3D(128, filtersize, padding='same'))\r\n",
        "        model.add(Activation('relu'))\r\n",
        "        model.add(BatchNormalization())\r\n",
        "        \r\n",
        "        model.add(MaxPooling3D(pool_size=(2, 2, 2)))\r\n",
        "        model.add(Dropout(dropout))\r\n",
        "        \r\n",
        "        model.add(Flatten())\r\n",
        "        model.add(Dense(dense_neurons,activation='relu'))\r\n",
        "        model.add(BatchNormalization())\r\n",
        "        model.add(Dropout(dropout))\r\n",
        "\r\n",
        "        model.add(Dense(dense_neurons,activation='relu'))\r\n",
        "        model.add(BatchNormalization())\r\n",
        "        model.add(Dropout(dropout))\r\n",
        "\r\n",
        "\r\n",
        "        model.add(Dense(self.num_classes,activation='softmax'))\r\n",
        "\r\n",
        "        optimiser = optimizers.Adam()\r\n",
        "        model.compile(optimizer=optimiser, loss='categorical_crossentropy', metrics=['categorical_accuracy'])\r\n",
        "        return model"
      ],
      "execution_count": null,
      "outputs": []
    },
    {
      "cell_type": "code",
      "metadata": {
        "colab": {
          "base_uri": "https://localhost:8080/"
        },
        "id": "GXzE7zAXTlb5",
        "outputId": "50ebdfb0-4c20-4a42-fba7-9c035fce0947"
      },
      "source": [
        "Conv3D5=ModelConv3D5()\r\n",
        "Conv3D5.initialize_src_path(main_folder)\r\n",
        "Conv3D5.initialize_image_properties(image_height=120,image_width=120)\r\n",
        "Conv3D5.initialize_hyperparams(frames_to_sample=16,batch_size=20,num_epochs=22)\r\n",
        "Conv3D5_model=Conv3D5.define_model(filtersize=(3,3,3),dense_neurons=256,dropout=0.25)\r\n",
        "Conv3D5_model.summary()"
      ],
      "execution_count": null,
      "outputs": [
        {
          "output_type": "stream",
          "text": [
            "Model: \"sequential\"\n",
            "_________________________________________________________________\n",
            "Layer (type)                 Output Shape              Param #   \n",
            "=================================================================\n",
            "conv3d (Conv3D)              (None, 16, 120, 120, 16)  1312      \n",
            "_________________________________________________________________\n",
            "activation (Activation)      (None, 16, 120, 120, 16)  0         \n",
            "_________________________________________________________________\n",
            "batch_normalization (BatchNo (None, 16, 120, 120, 16)  64        \n",
            "_________________________________________________________________\n",
            "conv3d_1 (Conv3D)            (None, 16, 120, 120, 16)  6928      \n",
            "_________________________________________________________________\n",
            "activation_1 (Activation)    (None, 16, 120, 120, 16)  0         \n",
            "_________________________________________________________________\n",
            "batch_normalization_1 (Batch (None, 16, 120, 120, 16)  64        \n",
            "_________________________________________________________________\n",
            "max_pooling3d (MaxPooling3D) (None, 8, 60, 60, 16)     0         \n",
            "_________________________________________________________________\n",
            "dropout (Dropout)            (None, 8, 60, 60, 16)     0         \n",
            "_________________________________________________________________\n",
            "conv3d_2 (Conv3D)            (None, 8, 60, 60, 32)     13856     \n",
            "_________________________________________________________________\n",
            "activation_2 (Activation)    (None, 8, 60, 60, 32)     0         \n",
            "_________________________________________________________________\n",
            "batch_normalization_2 (Batch (None, 8, 60, 60, 32)     128       \n",
            "_________________________________________________________________\n",
            "conv3d_3 (Conv3D)            (None, 8, 60, 60, 32)     27680     \n",
            "_________________________________________________________________\n",
            "activation_3 (Activation)    (None, 8, 60, 60, 32)     0         \n",
            "_________________________________________________________________\n",
            "batch_normalization_3 (Batch (None, 8, 60, 60, 32)     128       \n",
            "_________________________________________________________________\n",
            "max_pooling3d_1 (MaxPooling3 (None, 4, 30, 30, 32)     0         \n",
            "_________________________________________________________________\n",
            "dropout_1 (Dropout)          (None, 4, 30, 30, 32)     0         \n",
            "_________________________________________________________________\n",
            "conv3d_4 (Conv3D)            (None, 4, 30, 30, 64)     55360     \n",
            "_________________________________________________________________\n",
            "activation_4 (Activation)    (None, 4, 30, 30, 64)     0         \n",
            "_________________________________________________________________\n",
            "batch_normalization_4 (Batch (None, 4, 30, 30, 64)     256       \n",
            "_________________________________________________________________\n",
            "conv3d_5 (Conv3D)            (None, 4, 30, 30, 64)     110656    \n",
            "_________________________________________________________________\n",
            "activation_5 (Activation)    (None, 4, 30, 30, 64)     0         \n",
            "_________________________________________________________________\n",
            "batch_normalization_5 (Batch (None, 4, 30, 30, 64)     256       \n",
            "_________________________________________________________________\n",
            "max_pooling3d_2 (MaxPooling3 (None, 2, 15, 15, 64)     0         \n",
            "_________________________________________________________________\n",
            "dropout_2 (Dropout)          (None, 2, 15, 15, 64)     0         \n",
            "_________________________________________________________________\n",
            "conv3d_6 (Conv3D)            (None, 2, 15, 15, 128)    221312    \n",
            "_________________________________________________________________\n",
            "activation_6 (Activation)    (None, 2, 15, 15, 128)    0         \n",
            "_________________________________________________________________\n",
            "batch_normalization_6 (Batch (None, 2, 15, 15, 128)    512       \n",
            "_________________________________________________________________\n",
            "conv3d_7 (Conv3D)            (None, 2, 15, 15, 128)    442496    \n",
            "_________________________________________________________________\n",
            "activation_7 (Activation)    (None, 2, 15, 15, 128)    0         \n",
            "_________________________________________________________________\n",
            "batch_normalization_7 (Batch (None, 2, 15, 15, 128)    512       \n",
            "_________________________________________________________________\n",
            "max_pooling3d_3 (MaxPooling3 (None, 1, 7, 7, 128)      0         \n",
            "_________________________________________________________________\n",
            "dropout_3 (Dropout)          (None, 1, 7, 7, 128)      0         \n",
            "_________________________________________________________________\n",
            "flatten (Flatten)            (None, 6272)              0         \n",
            "_________________________________________________________________\n",
            "dense (Dense)                (None, 256)               1605888   \n",
            "_________________________________________________________________\n",
            "batch_normalization_8 (Batch (None, 256)               1024      \n",
            "_________________________________________________________________\n",
            "dropout_4 (Dropout)          (None, 256)               0         \n",
            "_________________________________________________________________\n",
            "dense_1 (Dense)              (None, 256)               65792     \n",
            "_________________________________________________________________\n",
            "batch_normalization_9 (Batch (None, 256)               1024      \n",
            "_________________________________________________________________\n",
            "dropout_5 (Dropout)          (None, 256)               0         \n",
            "_________________________________________________________________\n",
            "dense_2 (Dense)              (None, 5)                 1285      \n",
            "=================================================================\n",
            "Total params: 2,556,533\n",
            "Trainable params: 2,554,549\n",
            "Non-trainable params: 1,984\n",
            "_________________________________________________________________\n"
          ],
          "name": "stdout"
        }
      ]
    },
    {
      "cell_type": "code",
      "metadata": {
        "colab": {
          "base_uri": "https://localhost:8080/"
        },
        "id": "JesB78x6TvM3",
        "outputId": "e707647f-43ca-44e0-e219-221578742527"
      },
      "source": [
        "print(\"Total Params:\", Conv3D5_model.count_params())\r\n",
        "accuracy_check_model_5=Conv3D5.train_model(Conv3D5_model,augment_data=True)"
      ],
      "execution_count": null,
      "outputs": [
        {
          "output_type": "stream",
          "text": [
            "Total Params: 2556533\n",
            "WARNING:tensorflow:`period` argument is deprecated. Please use `save_freq` to specify the frequency in number of batches seen.\n",
            "Epoch 1/22\n",
            "34/34 [==============================] - 213s 6s/step - loss: 1.8483 - categorical_accuracy: 0.3514 - val_loss: 2.1684 - val_categorical_accuracy: 0.2100\n",
            "\n",
            "Epoch 00001: saving model to model_init_2021-03-1703_51_53.033354/model-00001-1.67375-0.41327-2.16838-0.21000.h5\n",
            "215\n",
            "Epoch 2/22\n",
            "34/34 [==============================] - 211s 6s/step - loss: 1.2436 - categorical_accuracy: 0.5446 - val_loss: 1.9895 - val_categorical_accuracy: 0.2800\n",
            "\n",
            "Epoch 00002: saving model to model_init_2021-03-1703_51_53.033354/model-00002-1.20156-0.55581-1.98951-0.28000.h5\n",
            "0\n",
            "Epoch 3/22\n",
            "34/34 [==============================] - 214s 6s/step - loss: 0.9364 - categorical_accuracy: 0.6460 - val_loss: 2.6207 - val_categorical_accuracy: 0.1900\n",
            "\n",
            "Epoch 00003: saving model to model_init_2021-03-1703_51_53.033354/model-00003-0.99596-0.64103-2.62069-0.19000.h5\n",
            "0\n",
            "Epoch 4/22\n",
            "34/34 [==============================] - 212s 6s/step - loss: 0.9154 - categorical_accuracy: 0.6742 - val_loss: 2.9997 - val_categorical_accuracy: 0.1900\n",
            "\n",
            "Epoch 00004: saving model to model_init_2021-03-1703_51_53.033354/model-00004-0.91267-0.67722-2.99968-0.19000.h5\n",
            "0\n",
            "Epoch 5/22\n",
            "34/34 [==============================] - 212s 6s/step - loss: 0.9059 - categorical_accuracy: 0.6657 - val_loss: 4.4152 - val_categorical_accuracy: 0.2200\n",
            "\n",
            "Epoch 00005: saving model to model_init_2021-03-1703_51_53.033354/model-00005-0.85808-0.68024-4.41523-0.22000.h5\n",
            "0\n",
            "Epoch 6/22\n",
            "34/34 [==============================] - 212s 6s/step - loss: 0.5960 - categorical_accuracy: 0.7860 - val_loss: 2.2925 - val_categorical_accuracy: 0.2700\n",
            "\n",
            "Epoch 00006: saving model to model_init_2021-03-1703_51_53.033354/model-00006-0.65677-0.77526-2.29246-0.27000.h5\n",
            "\n",
            "Epoch 00006: ReduceLROnPlateau reducing learning rate to 0.00020000000949949026.\n",
            "0\n",
            "Epoch 7/22\n",
            "34/34 [==============================] - 213s 6s/step - loss: 0.5872 - categorical_accuracy: 0.7860 - val_loss: 2.5921 - val_categorical_accuracy: 0.1800\n",
            "\n",
            "Epoch 00007: saving model to model_init_2021-03-1703_51_53.033354/model-00007-0.56158-0.78507-2.59208-0.18000.h5\n",
            "0\n",
            "Epoch 8/22\n",
            "34/34 [==============================] - 210s 6s/step - loss: 0.4705 - categorical_accuracy: 0.8176 - val_loss: 3.0813 - val_categorical_accuracy: 0.2600\n",
            "\n",
            "Epoch 00008: saving model to model_init_2021-03-1703_51_53.033354/model-00008-0.46033-0.82127-3.08129-0.26000.h5\n",
            "0\n",
            "Epoch 9/22\n",
            "34/34 [==============================] - 211s 6s/step - loss: 0.4376 - categorical_accuracy: 0.8372 - val_loss: 3.1412 - val_categorical_accuracy: 0.2600\n",
            "\n",
            "Epoch 00009: saving model to model_init_2021-03-1703_51_53.033354/model-00009-0.43421-0.83032-3.14123-0.26000.h5\n",
            "0\n",
            "Epoch 10/22\n",
            "34/34 [==============================] - 211s 6s/step - loss: 0.3871 - categorical_accuracy: 0.8567 - val_loss: 3.6259 - val_categorical_accuracy: 0.2800\n",
            "\n",
            "Epoch 00010: saving model to model_init_2021-03-1703_51_53.033354/model-00010-0.39769-0.85822-3.62590-0.28000.h5\n",
            "\n",
            "Epoch 00010: ReduceLROnPlateau reducing learning rate to 4.0000001899898055e-05.\n",
            "0\n",
            "Epoch 11/22\n",
            "34/34 [==============================] - 212s 6s/step - loss: 0.3581 - categorical_accuracy: 0.8610 - val_loss: 3.4779 - val_categorical_accuracy: 0.2900\n",
            "\n",
            "Epoch 00011: saving model to model_init_2021-03-1703_51_53.033354/model-00011-0.35553-0.87029-3.47788-0.29000.h5\n",
            "0\n",
            "Epoch 12/22\n",
            "34/34 [==============================] - 214s 6s/step - loss: 0.3299 - categorical_accuracy: 0.8780 - val_loss: 3.1686 - val_categorical_accuracy: 0.3300\n",
            "\n",
            "Epoch 00012: saving model to model_init_2021-03-1703_51_53.033354/model-00012-0.32784-0.88235-3.16858-0.33000.h5\n",
            "0\n",
            "Epoch 13/22\n",
            "34/34 [==============================] - 216s 7s/step - loss: 0.3627 - categorical_accuracy: 0.8612 - val_loss: 3.0397 - val_categorical_accuracy: 0.3300\n",
            "\n",
            "Epoch 00013: saving model to model_init_2021-03-1703_51_53.033354/model-00013-0.37760-0.86199-3.03975-0.33000.h5\n",
            "0\n",
            "Epoch 14/22\n",
            "34/34 [==============================] - 213s 6s/step - loss: 0.3251 - categorical_accuracy: 0.8806 - val_loss: 2.5758 - val_categorical_accuracy: 0.4000\n",
            "\n",
            "Epoch 00014: saving model to model_init_2021-03-1703_51_53.033354/model-00014-0.30932-0.88537-2.57580-0.40000.h5\n",
            "\n",
            "Epoch 00014: ReduceLROnPlateau reducing learning rate to 8.000000525498762e-06.\n",
            "0\n",
            "Epoch 15/22\n",
            "34/34 [==============================] - 211s 6s/step - loss: 0.3395 - categorical_accuracy: 0.8592 - val_loss: 2.6274 - val_categorical_accuracy: 0.4000\n",
            "\n",
            "Epoch 00015: saving model to model_init_2021-03-1703_51_53.033354/model-00015-0.31910-0.87632-2.62743-0.40000.h5\n",
            "0\n",
            "Epoch 16/22\n",
            "34/34 [==============================] - 212s 6s/step - loss: 0.3373 - categorical_accuracy: 0.8885 - val_loss: 2.0875 - val_categorical_accuracy: 0.4400\n",
            "\n",
            "Epoch 00016: saving model to model_init_2021-03-1703_51_53.033354/model-00016-0.31823-0.88914-2.08754-0.44000.h5\n",
            "0\n",
            "Epoch 17/22\n",
            "34/34 [==============================] - 216s 7s/step - loss: 0.3100 - categorical_accuracy: 0.8854 - val_loss: 1.6017 - val_categorical_accuracy: 0.5400\n",
            "\n",
            "Epoch 00017: saving model to model_init_2021-03-1703_51_53.033354/model-00017-0.29603-0.89216-1.60168-0.54000.h5\n",
            "0\n",
            "Epoch 18/22\n",
            "34/34 [==============================] - 213s 6s/step - loss: 0.3269 - categorical_accuracy: 0.8809 - val_loss: 1.6776 - val_categorical_accuracy: 0.4800\n",
            "\n",
            "Epoch 00018: saving model to model_init_2021-03-1703_51_53.033354/model-00018-0.31226-0.88009-1.67760-0.48000.h5\n",
            "0\n",
            "Epoch 19/22\n",
            "34/34 [==============================] - 214s 6s/step - loss: 0.3829 - categorical_accuracy: 0.8545 - val_loss: 1.6652 - val_categorical_accuracy: 0.4700\n",
            "\n",
            "Epoch 00019: saving model to model_init_2021-03-1703_51_53.033354/model-00019-0.33389-0.87858-1.66518-0.47000.h5\n",
            "0\n",
            "Epoch 20/22\n",
            "34/34 [==============================] - 211s 6s/step - loss: 0.3284 - categorical_accuracy: 0.8791 - val_loss: 1.2802 - val_categorical_accuracy: 0.6000\n",
            "\n",
            "Epoch 00020: saving model to model_init_2021-03-1703_51_53.033354/model-00020-0.33960-0.87406-1.28023-0.60000.h5\n",
            "0\n",
            "Epoch 21/22\n",
            "34/34 [==============================] - 211s 6s/step - loss: 0.3204 - categorical_accuracy: 0.8873 - val_loss: 1.3108 - val_categorical_accuracy: 0.5900\n",
            "\n",
            "Epoch 00021: saving model to model_init_2021-03-1703_51_53.033354/model-00021-0.31630-0.88763-1.31076-0.59000.h5\n",
            "0\n",
            "Epoch 22/22\n",
            "34/34 [==============================] - 211s 6s/step - loss: 0.3104 - categorical_accuracy: 0.8796 - val_loss: 1.3903 - val_categorical_accuracy: 0.5600\n",
            "\n",
            "Epoch 00022: saving model to model_init_2021-03-1703_51_53.033354/model-00022-0.31589-0.87557-1.39033-0.56000.h5\n",
            "0\n"
          ],
          "name": "stdout"
        }
      ]
    },
    {
      "cell_type": "code",
      "metadata": {
        "colab": {
          "base_uri": "https://localhost:8080/",
          "height": 265
        },
        "id": "WSHXypIxT2_c",
        "outputId": "3dd104b0-8818-4737-a2bb-5013cc6614ca"
      },
      "source": [
        "plot(accuracy_check_model_5)"
      ],
      "execution_count": null,
      "outputs": [
        {
          "output_type": "display_data",
          "data": {
            "image/png": "[encoded data removed]",
            "text/plain": [
              "<Figure size 1080x288 with 2 Axes>"
            ]
          },
          "metadata": {
            "tags": [],
            "needs_background": "light"
          }
        }
      ]
    },
    {
      "cell_type": "markdown",
      "metadata": {
        "id": "QOot9MXnwkBV"
      },
      "source": [
        "\r\n",
        "Adding dropouts has further reduced validation accuracy as its not to learn generalizable features\r\n",
        "All models experimental models above have more than 1 million parameters. Let's try to reduce the model size and see the performance"
      ]
    },
    {
      "cell_type": "code",
      "metadata": {
        "id": "gCTXMah8xFXr"
      },
      "source": [
        "Conv3D4.clear_session(Conv3D4_model)"
      ],
      "execution_count": null,
      "outputs": []
    },
    {
      "cell_type": "markdown",
      "metadata": {
        "id": "0FroiBKKw0un"
      },
      "source": [
        "## Model 6 - reducing the number of parameters"
      ]
    },
    {
      "cell_type": "code",
      "metadata": {
        "id": "wJj_Nb_IwnLi"
      },
      "source": [
        "class ModelConv3D6(ModelBuilder):\r\n",
        "    \r\n",
        "    def define_model(self,dense_neurons=64,dropout=0.25):\r\n",
        "\r\n",
        "        model = Sequential()\r\n",
        "        model.add(Conv3D(16, (3, 3, 3), padding='same',\r\n",
        "                 input_shape=(self.frames_to_sample,self.image_height,self.image_width,self.channels)))\r\n",
        "        model.add(Activation('relu'))\r\n",
        "        model.add(BatchNormalization())\r\n",
        "        model.add(MaxPooling3D(pool_size=(2, 2, 2)))\r\n",
        "\r\n",
        "        model.add(Conv3D(32, (2, 2, 2), padding='same'))\r\n",
        "        model.add(Activation('relu'))\r\n",
        "        model.add(BatchNormalization())\r\n",
        "        model.add(MaxPooling3D(pool_size=(2, 2, 2)))\r\n",
        "\r\n",
        "        model.add(Conv3D(64, (2, 2, 2), padding='same'))\r\n",
        "        model.add(Activation('relu'))\r\n",
        "        model.add(BatchNormalization())\r\n",
        "        model.add(MaxPooling3D(pool_size=(2, 2, 2)))\r\n",
        "\r\n",
        "        model.add(Conv3D(128, (2, 2, 2), padding='same'))\r\n",
        "        model.add(Activation('relu'))\r\n",
        "        model.add(BatchNormalization())\r\n",
        "        model.add(MaxPooling3D(pool_size=(2, 2, 2)))\r\n",
        "        \r\n",
        "        model.add(Flatten())\r\n",
        "        model.add(Dense(dense_neurons,activation='relu'))\r\n",
        "        model.add(BatchNormalization())\r\n",
        "        model.add(Dropout(dropout))\r\n",
        "\r\n",
        "        model.add(Dense(dense_neurons,activation='relu'))\r\n",
        "        model.add(BatchNormalization())\r\n",
        "        model.add(Dropout(dropout))\r\n",
        "\r\n",
        "        model.add(Dense(self.num_classes,activation='softmax'))\r\n",
        "\r\n",
        "        optimiser = optimizers.Adam(lr=0.0002)\r\n",
        "        model.compile(optimizer=optimiser, loss='categorical_crossentropy', metrics=['categorical_accuracy'])\r\n",
        "        return model"
      ],
      "execution_count": null,
      "outputs": []
    },
    {
      "cell_type": "code",
      "metadata": {
        "colab": {
          "base_uri": "https://localhost:8080/"
        },
        "id": "WKI57BD-xhK9",
        "outputId": "3b00bf7f-d184-4ce3-e1dd-ddc982e4888f"
      },
      "source": [
        "Conv3D6=ModelConv3D6()\r\n",
        "Conv3D6.initialize_src_path(main_folder)\r\n",
        "Conv3D6.initialize_image_properties(image_height=100,image_width=100)\r\n",
        "Conv3D6.initialize_hyperparams(frames_to_sample=16,batch_size=20,num_epochs=30)\r\n",
        "Conv3D6_model=Conv3D6.define_model(dense_neurons=128,dropout=0.25)\r\n",
        "Conv3D6_model.summary()"
      ],
      "execution_count": null,
      "outputs": [
        {
          "output_type": "stream",
          "text": [
            "Model: \"sequential\"\n",
            "_________________________________________________________________\n",
            "Layer (type)                 Output Shape              Param #   \n",
            "=================================================================\n",
            "conv3d (Conv3D)              (None, 16, 100, 100, 16)  1312      \n",
            "_________________________________________________________________\n",
            "activation (Activation)      (None, 16, 100, 100, 16)  0         \n",
            "_________________________________________________________________\n",
            "batch_normalization (BatchNo (None, 16, 100, 100, 16)  64        \n",
            "_________________________________________________________________\n",
            "max_pooling3d (MaxPooling3D) (None, 8, 50, 50, 16)     0         \n",
            "_________________________________________________________________\n",
            "conv3d_1 (Conv3D)            (None, 8, 50, 50, 32)     4128      \n",
            "_________________________________________________________________\n",
            "activation_1 (Activation)    (None, 8, 50, 50, 32)     0         \n",
            "_________________________________________________________________\n",
            "batch_normalization_1 (Batch (None, 8, 50, 50, 32)     128       \n",
            "_________________________________________________________________\n",
            "max_pooling3d_1 (MaxPooling3 (None, 4, 25, 25, 32)     0         \n",
            "_________________________________________________________________\n",
            "conv3d_2 (Conv3D)            (None, 4, 25, 25, 64)     16448     \n",
            "_________________________________________________________________\n",
            "activation_2 (Activation)    (None, 4, 25, 25, 64)     0         \n",
            "_________________________________________________________________\n",
            "batch_normalization_2 (Batch (None, 4, 25, 25, 64)     256       \n",
            "_________________________________________________________________\n",
            "max_pooling3d_2 (MaxPooling3 (None, 2, 12, 12, 64)     0         \n",
            "_________________________________________________________________\n",
            "conv3d_3 (Conv3D)            (None, 2, 12, 12, 128)    65664     \n",
            "_________________________________________________________________\n",
            "activation_3 (Activation)    (None, 2, 12, 12, 128)    0         \n",
            "_________________________________________________________________\n",
            "batch_normalization_3 (Batch (None, 2, 12, 12, 128)    512       \n",
            "_________________________________________________________________\n",
            "max_pooling3d_3 (MaxPooling3 (None, 1, 6, 6, 128)      0         \n",
            "_________________________________________________________________\n",
            "flatten (Flatten)            (None, 4608)              0         \n",
            "_________________________________________________________________\n",
            "dense (Dense)                (None, 128)               589952    \n",
            "_________________________________________________________________\n",
            "batch_normalization_4 (Batch (None, 128)               512       \n",
            "_________________________________________________________________\n",
            "dropout (Dropout)            (None, 128)               0         \n",
            "_________________________________________________________________\n",
            "dense_1 (Dense)              (None, 128)               16512     \n",
            "_________________________________________________________________\n",
            "batch_normalization_5 (Batch (None, 128)               512       \n",
            "_________________________________________________________________\n",
            "dropout_1 (Dropout)          (None, 128)               0         \n",
            "_________________________________________________________________\n",
            "dense_2 (Dense)              (None, 5)                 645       \n",
            "=================================================================\n",
            "Total params: 696,645\n",
            "Trainable params: 695,653\n",
            "Non-trainable params: 992\n",
            "_________________________________________________________________\n"
          ],
          "name": "stdout"
        }
      ]
    },
    {
      "cell_type": "code",
      "metadata": {
        "colab": {
          "base_uri": "https://localhost:8080/"
        },
        "id": "2ydywdxnxwbU",
        "outputId": "70339a5c-d960-4ac7-d249-10a34c9ec2e5"
      },
      "source": [
        "print(\"Total Params:\", Conv3D6_model.count_params())\r\n",
        "accuracy_check_model6=Conv3D6.train_model(Conv3D6_model,augment_data=True)"
      ],
      "execution_count": null,
      "outputs": [
        {
          "output_type": "stream",
          "text": [
            "Total Params: 696645\n",
            "WARNING:tensorflow:`period` argument is deprecated. Please use `save_freq` to specify the frequency in number of batches seen.\n",
            "Epoch 1/30\n",
            "34/34 [==============================] - 198s 6s/step - loss: 1.9754 - categorical_accuracy: 0.3210 - val_loss: 2.0962 - val_categorical_accuracy: 0.1600\n",
            "\n",
            "Epoch 00001: saving model to model_init_2021-03-1706_02_21.365701/model-00001-1.80074-0.36275-2.09618-0.16000.h5\n",
            "107\n",
            "Epoch 2/30\n",
            "34/34 [==============================] - 194s 6s/step - loss: 1.2520 - categorical_accuracy: 0.5221 - val_loss: 3.1330 - val_categorical_accuracy: 0.1400\n",
            "\n",
            "Epoch 00002: saving model to model_init_2021-03-1706_02_21.365701/model-00002-1.20289-0.53922-3.13297-0.14000.h5\n",
            "0\n",
            "Epoch 3/30\n",
            "34/34 [==============================] - 198s 6s/step - loss: 1.0270 - categorical_accuracy: 0.5937 - val_loss: 3.9087 - val_categorical_accuracy: 0.1500\n",
            "\n",
            "Epoch 00003: saving model to model_init_2021-03-1706_02_21.365701/model-00003-1.00015-0.61388-3.90870-0.15000.h5\n",
            "0\n",
            "Epoch 4/30\n",
            "34/34 [==============================] - 199s 6s/step - loss: 0.8392 - categorical_accuracy: 0.6771 - val_loss: 4.5082 - val_categorical_accuracy: 0.1400\n",
            "\n",
            "Epoch 00004: saving model to model_init_2021-03-1706_02_21.365701/model-00004-0.84816-0.67572-4.50818-0.14000.h5\n",
            "0\n",
            "Epoch 5/30\n",
            "34/34 [==============================] - 202s 6s/step - loss: 0.8076 - categorical_accuracy: 0.6876 - val_loss: 5.2572 - val_categorical_accuracy: 0.1800\n",
            "\n",
            "Epoch 00005: saving model to model_init_2021-03-1706_02_21.365701/model-00005-0.77085-0.70060-5.25717-0.18000.h5\n",
            "\n",
            "Epoch 00005: ReduceLROnPlateau reducing learning rate to 3.9999998989515007e-05.\n",
            "0\n",
            "Epoch 6/30\n",
            "34/34 [==============================] - 198s 6s/step - loss: 0.7321 - categorical_accuracy: 0.7229 - val_loss: 5.7516 - val_categorical_accuracy: 0.1600\n",
            "\n",
            "Epoch 00006: saving model to model_init_2021-03-1706_02_21.365701/model-00006-0.70403-0.73152-5.75160-0.16000.h5\n",
            "0\n",
            "Epoch 7/30\n",
            "34/34 [==============================] - 195s 6s/step - loss: 0.6874 - categorical_accuracy: 0.7299 - val_loss: 5.6140 - val_categorical_accuracy: 0.1800\n",
            "\n",
            "Epoch 00007: saving model to model_init_2021-03-1706_02_21.365701/model-00007-0.65909-0.75038-5.61404-0.18000.h5\n",
            "0\n",
            "Epoch 8/30\n",
            "34/34 [==============================] - 200s 6s/step - loss: 0.6734 - categorical_accuracy: 0.7611 - val_loss: 5.2391 - val_categorical_accuracy: 0.2200\n",
            "\n",
            "Epoch 00008: saving model to model_init_2021-03-1706_02_21.365701/model-00008-0.65682-0.76546-5.23908-0.22000.h5\n",
            "0\n",
            "Epoch 9/30\n",
            "34/34 [==============================] - 202s 6s/step - loss: 0.5942 - categorical_accuracy: 0.7829 - val_loss: 4.8461 - val_categorical_accuracy: 0.2000\n",
            "\n",
            "Epoch 00009: saving model to model_init_2021-03-1706_02_21.365701/model-00009-0.61142-0.76998-4.84614-0.20000.h5\n",
            "\n",
            "Epoch 00009: ReduceLROnPlateau reducing learning rate to 7.999999797903002e-06.\n",
            "0\n",
            "Epoch 10/30\n",
            "34/34 [==============================] - 199s 6s/step - loss: 0.5284 - categorical_accuracy: 0.8115 - val_loss: 3.5656 - val_categorical_accuracy: 0.3300\n",
            "\n",
            "Epoch 00010: saving model to model_init_2021-03-1706_02_21.365701/model-00010-0.55511-0.80090-3.56559-0.33000.h5\n",
            "0\n",
            "Epoch 11/30\n",
            "34/34 [==============================] - 199s 6s/step - loss: 0.5894 - categorical_accuracy: 0.7775 - val_loss: 3.3274 - val_categorical_accuracy: 0.2800\n",
            "\n",
            "Epoch 00011: saving model to model_init_2021-03-1706_02_21.365701/model-00011-0.59869-0.76772-3.32743-0.28000.h5\n",
            "0\n",
            "Epoch 12/30\n",
            "34/34 [==============================] - 199s 6s/step - loss: 0.5792 - categorical_accuracy: 0.7776 - val_loss: 2.8100 - val_categorical_accuracy: 0.3100\n",
            "\n",
            "Epoch 00012: saving model to model_init_2021-03-1706_02_21.365701/model-00012-0.59634-0.76772-2.80997-0.31000.h5\n",
            "0\n",
            "Epoch 13/30\n",
            "34/34 [==============================] - 201s 6s/step - loss: 0.5795 - categorical_accuracy: 0.7877 - val_loss: 2.2936 - val_categorical_accuracy: 0.3300\n",
            "\n",
            "Epoch 00013: saving model to model_init_2021-03-1706_02_21.365701/model-00013-0.57383-0.78733-2.29361-0.33000.h5\n",
            "\n",
            "Epoch 00013: ReduceLROnPlateau reducing learning rate to 1.5999999959603884e-06.\n",
            "0\n",
            "Epoch 14/30\n",
            "34/34 [==============================] - 199s 6s/step - loss: 0.5309 - categorical_accuracy: 0.8141 - val_loss: 1.8328 - val_categorical_accuracy: 0.4300\n",
            "\n",
            "Epoch 00014: saving model to model_init_2021-03-1706_02_21.365701/model-00014-0.56348-0.80241-1.83283-0.43000.h5\n",
            "0\n",
            "Epoch 15/30\n",
            "34/34 [==============================] - 196s 6s/step - loss: 0.6038 - categorical_accuracy: 0.7682 - val_loss: 1.5763 - val_categorical_accuracy: 0.4600\n",
            "\n",
            "Epoch 00015: saving model to model_init_2021-03-1706_02_21.365701/model-00015-0.58875-0.77903-1.57625-0.46000.h5\n",
            "0\n",
            "Epoch 16/30\n",
            "34/34 [==============================] - 196s 6s/step - loss: 0.5616 - categorical_accuracy: 0.8010 - val_loss: 1.3176 - val_categorical_accuracy: 0.5900\n",
            "\n",
            "Epoch 00016: saving model to model_init_2021-03-1706_02_21.365701/model-00016-0.54424-0.80015-1.31761-0.59000.h5\n",
            "0\n",
            "Epoch 17/30\n",
            "34/34 [==============================] - 196s 6s/step - loss: 0.5796 - categorical_accuracy: 0.7822 - val_loss: 1.1211 - val_categorical_accuracy: 0.6300\n",
            "\n",
            "Epoch 00017: saving model to model_init_2021-03-1706_02_21.365701/model-00017-0.57142-0.78356-1.12106-0.63000.h5\n",
            "0\n",
            "Epoch 18/30\n",
            "34/34 [==============================] - 197s 6s/step - loss: 0.5506 - categorical_accuracy: 0.8017 - val_loss: 1.1661 - val_categorical_accuracy: 0.6000\n",
            "\n",
            "Epoch 00018: saving model to model_init_2021-03-1706_02_21.365701/model-00018-0.58383-0.78431-1.16615-0.60000.h5\n",
            "0\n",
            "Epoch 19/30\n",
            "34/34 [==============================] - 197s 6s/step - loss: 0.5305 - categorical_accuracy: 0.7979 - val_loss: 1.0481 - val_categorical_accuracy: 0.6700\n",
            "\n",
            "Epoch 00019: saving model to model_init_2021-03-1706_02_21.365701/model-00019-0.55374-0.78658-1.04808-0.67000.h5\n",
            "0\n",
            "Epoch 20/30\n",
            "34/34 [==============================] - 195s 6s/step - loss: 0.5341 - categorical_accuracy: 0.8119 - val_loss: 0.8395 - val_categorical_accuracy: 0.7200\n",
            "\n",
            "Epoch 00020: saving model to model_init_2021-03-1706_02_21.365701/model-00020-0.57210-0.78959-0.83953-0.72000.h5\n",
            "0\n",
            "Epoch 21/30\n",
            "34/34 [==============================] - 197s 6s/step - loss: 0.5851 - categorical_accuracy: 0.7885 - val_loss: 0.8787 - val_categorical_accuracy: 0.7100\n",
            "\n",
            "Epoch 00021: saving model to model_init_2021-03-1706_02_21.365701/model-00021-0.55175-0.80090-0.87874-0.71000.h5\n",
            "0\n",
            "Epoch 22/30\n",
            "34/34 [==============================] - 196s 6s/step - loss: 0.5526 - categorical_accuracy: 0.7805 - val_loss: 0.8757 - val_categorical_accuracy: 0.7500\n",
            "\n",
            "Epoch 00022: saving model to model_init_2021-03-1706_02_21.365701/model-00022-0.55045-0.78582-0.87572-0.75000.h5\n",
            "0\n",
            "Epoch 23/30\n",
            "34/34 [==============================] - 193s 6s/step - loss: 0.6020 - categorical_accuracy: 0.7717 - val_loss: 0.7525 - val_categorical_accuracy: 0.7800\n",
            "\n",
            "Epoch 00023: saving model to model_init_2021-03-1706_02_21.365701/model-00023-0.56914-0.79487-0.75246-0.78000.h5\n",
            "0\n",
            "Epoch 24/30\n",
            "34/34 [==============================] - 196s 6s/step - loss: 0.6000 - categorical_accuracy: 0.7871 - val_loss: 0.8812 - val_categorical_accuracy: 0.7500\n",
            "\n",
            "Epoch 00024: saving model to model_init_2021-03-1706_02_21.365701/model-00024-0.56913-0.80241-0.88116-0.75000.h5\n",
            "0\n",
            "Epoch 25/30\n",
            "34/34 [==============================] - 197s 6s/step - loss: 0.5766 - categorical_accuracy: 0.8013 - val_loss: 0.7589 - val_categorical_accuracy: 0.7600\n",
            "\n",
            "Epoch 00025: saving model to model_init_2021-03-1706_02_21.365701/model-00025-0.58762-0.78507-0.75892-0.76000.h5\n",
            "0\n",
            "Epoch 26/30\n",
            "34/34 [==============================] - 195s 6s/step - loss: 0.5544 - categorical_accuracy: 0.7801 - val_loss: 0.8212 - val_categorical_accuracy: 0.7400\n",
            "\n",
            "Epoch 00026: saving model to model_init_2021-03-1706_02_21.365701/model-00026-0.55985-0.78356-0.82123-0.74000.h5\n",
            "0\n",
            "Epoch 27/30\n",
            "34/34 [==============================] - 198s 6s/step - loss: 0.5729 - categorical_accuracy: 0.7948 - val_loss: 0.7956 - val_categorical_accuracy: 0.7400\n",
            "\n",
            "Epoch 00027: saving model to model_init_2021-03-1706_02_21.365701/model-00027-0.57680-0.79412-0.79556-0.74000.h5\n",
            "\n",
            "Epoch 00027: ReduceLROnPlateau reducing learning rate to 3.200000037395512e-07.\n",
            "0\n",
            "Epoch 28/30\n",
            "34/34 [==============================] - 198s 6s/step - loss: 0.5531 - categorical_accuracy: 0.7808 - val_loss: 0.8466 - val_categorical_accuracy: 0.7300\n",
            "\n",
            "Epoch 00028: saving model to model_init_2021-03-1706_02_21.365701/model-00028-0.54855-0.78959-0.84655-0.73000.h5\n",
            "0\n",
            "Epoch 29/30\n",
            "34/34 [==============================] - 200s 6s/step - loss: 0.5258 - categorical_accuracy: 0.8051 - val_loss: 0.7424 - val_categorical_accuracy: 0.7900\n",
            "\n",
            "Epoch 00029: saving model to model_init_2021-03-1706_02_21.365701/model-00029-0.56125-0.79035-0.74242-0.79000.h5\n",
            "0\n",
            "Epoch 30/30\n",
            "34/34 [==============================] - 196s 6s/step - loss: 0.5307 - categorical_accuracy: 0.8034 - val_loss: 0.8282 - val_categorical_accuracy: 0.7300\n",
            "\n",
            "Epoch 00030: saving model to model_init_2021-03-1706_02_21.365701/model-00030-0.53507-0.80392-0.82818-0.73000.h5\n",
            "0\n"
          ],
          "name": "stdout"
        }
      ]
    },
    {
      "cell_type": "code",
      "metadata": {
        "colab": {
          "base_uri": "https://localhost:8080/",
          "height": 269
        },
        "id": "I7WQvNWYDybQ",
        "outputId": "f9c7a0eb-92fa-4bd6-f8bc-e1a12c0beec2"
      },
      "source": [
        "plot(accuracy_check_model6)"
      ],
      "execution_count": null,
      "outputs": [
        {
          "output_type": "display_data",
          "data": {
            "image/png": "[encoded data removed]",
            "text/plain": [
              "<Figure size 1080x288 with 2 Axes>"
            ]
          },
          "metadata": {
            "tags": [],
            "needs_background": "light"
          }
        }
      ]
    },
    {
      "cell_type": "markdown",
      "metadata": {
        "id": "zBJFD6jaJsTV"
      },
      "source": [
        "For the above low memory foot print model the best validation accuracy of 73%"
      ]
    },
    {
      "cell_type": "markdown",
      "metadata": {
        "id": "AHU3qisEKMLX"
      },
      "source": [
        "## Model 7 - reducing the number of parameters"
      ]
    },
    {
      "cell_type": "code",
      "metadata": {
        "id": "huD4YXHfJ9E7"
      },
      "source": [
        ""
      ],
      "execution_count": null,
      "outputs": []
    }
  ]
}